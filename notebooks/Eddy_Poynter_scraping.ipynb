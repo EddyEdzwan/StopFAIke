{
 "cells": [
  {
   "cell_type": "code",
   "execution_count": 1,
   "id": "38692da8",
   "metadata": {},
   "outputs": [],
   "source": [
    "#Import the dependencies\n",
    "from bs4 import BeautifulSoup\n",
    "# import pandas as pd\n",
    "import requests\n",
    "# import urllib.request\n",
    "# import time"
   ]
  },
  {
   "cell_type": "markdown",
   "id": "c7bc6223",
   "metadata": {},
   "source": [
    "# Creating custom scraping function for Poynter"
   ]
  },
  {
   "cell_type": "code",
   "execution_count": 2,
   "id": "1fb2ee87",
   "metadata": {},
   "outputs": [],
   "source": [
    "#Create lists to store the scraped data\n",
    "authors = []\n",
    "dates = []\n",
    "statements = []\n",
    "sources = []\n",
    "targets = []"
   ]
  },
  {
   "cell_type": "code",
   "execution_count": 3,
   "id": "2bd919b3",
   "metadata": {},
   "outputs": [],
   "source": [
    "#Create a function to scrape the site\n",
    "def scrape_poynter(page_number):\n",
    "    page_num = str(page_number) #Convert the page number to a string\n",
    "    URL = 'https://www.poynter.org/ifcn-covid-19-misinformation/page/'+page_num #append the page number to complete the URL\n",
    "    webpage = requests.get(URL)  #Make a request to the website\n",
    "    #time.sleep(3)\n",
    "    soup = BeautifulSoup(webpage.text, \"html.parser\") #Parse the text from the website\n",
    "    #Get the tags and it's class\n",
    "    statement_entry =  soup.find_all('p',attrs={'class':'entry-content__text'})  #Get the tag and it's class\n",
    "    statement_quote = soup.find_all('h2', attrs={'class':'entry-title'}) #Get the tag and it's class\n",
    "#     statement_meta = soup.find_all('div', attrs={'class':'m-statement__meta'})#Get the tag and it's class\n",
    "#     target = soup.find_all('div', attrs={'class':'m-statement__meter'}) #Get the tag and it's class\n",
    "    #loop through the footer class m-statement__footer to get the date and author\n",
    "    for i in statement_entry:\n",
    "        link1 = i.text.strip()\n",
    "#         name_and_date = link1.split()\n",
    "#         first_name = name_and_date[1]\n",
    "#         last_name = name_and_date[2]\n",
    "#         full_name = first_name+' '+last_name\n",
    "#         month = name_and_date[4]\n",
    "#         day = name_and_date[5]\n",
    "#         year = name_and_date[6]\n",
    "#         date = month+' '+day+' '+year\n",
    "#         dates.append(date)\n",
    "        authors.append(link1)\n",
    "    #Loop through the div m-statement__quote to get the link\n",
    "#     for i in statement_quote:\n",
    "#     link2 = i.find_all('a')\n",
    "#     statements.append(link2[0].text.strip())\n",
    "#     #Loop through the div m-statement__meta to get the source\n",
    "#     for i in statement_meta:\n",
    "#     link3 = i.find_all('a') #Source\n",
    "#     source_text = link3[0].text.strip()\n",
    "#     sources.append(source_text)\n",
    "#     #Loop through the target or the div m-statement__meter to get the facts about the statement (True or False)\n",
    "#     for i in target:\n",
    "#     fact = i.find('div', attrs={'class':'c-image'}).find('img').get('alt')\n",
    "#     targets.append(fact)"
   ]
  },
  {
   "cell_type": "code",
   "execution_count": 5,
   "id": "ae98bbde",
   "metadata": {},
   "outputs": [],
   "source": [
    "scrape_poynter(1)"
   ]
  },
  {
   "cell_type": "code",
   "execution_count": 6,
   "id": "d145f063",
   "metadata": {},
   "outputs": [
    {
     "data": {
      "text/plain": [
       "[]"
      ]
     },
     "execution_count": 6,
     "metadata": {},
     "output_type": "execute_result"
    }
   ],
   "source": [
    "authors"
   ]
  },
  {
   "cell_type": "code",
   "execution_count": 4,
   "id": "0050a1af",
   "metadata": {},
   "outputs": [
    {
     "data": {
      "text/plain": [
       "[]"
      ]
     },
     "execution_count": 4,
     "metadata": {},
     "output_type": "execute_result"
    }
   ],
   "source": [
    "\n",
    "# 'https://www.poynter.org/ifcn-covid-19-misinformation/page/2/?__cf_chl_jschl_tk__=pmd_imssgWM9ppiSUtNP9XYEFo.bLVHeJDucbz9ZXy03xxk-1630049234-0-gqNtZGzNAfujcnBszQr9'\n",
    "URL = 'https://www.poynter.org/ifcn-covid-19-misinformation/' #append the page number to complete the URL\n",
    "headers = {'User-Agent': 'Mozilla/5.0 (Windows NT 10.0; Win64; x64) AppleWebKit/537.36 (KHTML, like Gecko) Chrome/92.0.4515.159 Safari/537.36'}\n",
    "webpage = requests.get(URL, headers=headers)  #Make a request to the website\n",
    "soup = BeautifulSoup(webpage.content, \"html.parser\") #Parse the text from the website\n",
    "\n",
    "soup.find_all('p',attrs={'class':'entry-content__text'})"
   ]
  },
  {
   "cell_type": "code",
   "execution_count": 40,
   "id": "eb9a7197",
   "metadata": {},
   "outputs": [],
   "source": [
    "URL = 'https://www.poynter.org/ifcn-covid-19-misinformation/?__cf_chl_jschl_tk__=pmd_imssgWM9ppiSUtNP9XYEFo.bLVHeJDucbz9ZXy03xxk-1630049234-0-gqNtZGzNAfujcnBszQr9'"
   ]
  },
  {
   "cell_type": "code",
   "execution_count": 45,
   "id": "8e87731f",
   "metadata": {},
   "outputs": [],
   "source": [
    "URL = 'https://www.poynter.org/ifcn-covid-19-misinformation/'"
   ]
  },
  {
   "cell_type": "code",
   "execution_count": 46,
   "id": "2b9aeaef",
   "metadata": {},
   "outputs": [
    {
     "ename": "HTTPError",
     "evalue": "503 Server Error: Service Temporarily Unavailable for url: https://www.poynter.org/ifcn-covid-19-misinformation/",
     "output_type": "error",
     "traceback": [
      "\u001b[0;31m---------------------------------------------------------------------------\u001b[0m",
      "\u001b[0;31mHTTPError\u001b[0m                                 Traceback (most recent call last)",
      "\u001b[0;32m/tmp/ipykernel_841/2769657857.py\u001b[0m in \u001b[0;36m<module>\u001b[0;34m\u001b[0m\n\u001b[1;32m      5\u001b[0m \u001b[0;34m\u001b[0m\u001b[0m\n\u001b[1;32m      6\u001b[0m \u001b[0mresult\u001b[0m \u001b[0;34m=\u001b[0m \u001b[0mrequests\u001b[0m\u001b[0;34m.\u001b[0m\u001b[0mhead\u001b[0m\u001b[0;34m(\u001b[0m\u001b[0mURL\u001b[0m\u001b[0;34m,\u001b[0m \u001b[0mheaders\u001b[0m\u001b[0;34m=\u001b[0m\u001b[0mheaders\u001b[0m\u001b[0;34m,\u001b[0m \u001b[0mallow_redirects\u001b[0m\u001b[0;34m=\u001b[0m\u001b[0;32mTrue\u001b[0m\u001b[0;34m)\u001b[0m\u001b[0;34m\u001b[0m\u001b[0;34m\u001b[0m\u001b[0m\n\u001b[0;32m----> 7\u001b[0;31m \u001b[0mresult\u001b[0m\u001b[0;34m.\u001b[0m\u001b[0mraise_for_status\u001b[0m\u001b[0;34m(\u001b[0m\u001b[0;34m)\u001b[0m\u001b[0;34m\u001b[0m\u001b[0;34m\u001b[0m\u001b[0m\n\u001b[0m",
      "\u001b[0;32m~/.pyenv/versions/3.8.6/envs/StopFAIke/lib/python3.8/site-packages/requests/models.py\u001b[0m in \u001b[0;36mraise_for_status\u001b[0;34m(self)\u001b[0m\n\u001b[1;32m    951\u001b[0m \u001b[0;34m\u001b[0m\u001b[0m\n\u001b[1;32m    952\u001b[0m         \u001b[0;32mif\u001b[0m \u001b[0mhttp_error_msg\u001b[0m\u001b[0;34m:\u001b[0m\u001b[0;34m\u001b[0m\u001b[0;34m\u001b[0m\u001b[0m\n\u001b[0;32m--> 953\u001b[0;31m             \u001b[0;32mraise\u001b[0m \u001b[0mHTTPError\u001b[0m\u001b[0;34m(\u001b[0m\u001b[0mhttp_error_msg\u001b[0m\u001b[0;34m,\u001b[0m \u001b[0mresponse\u001b[0m\u001b[0;34m=\u001b[0m\u001b[0mself\u001b[0m\u001b[0;34m)\u001b[0m\u001b[0;34m\u001b[0m\u001b[0;34m\u001b[0m\u001b[0m\n\u001b[0m\u001b[1;32m    954\u001b[0m \u001b[0;34m\u001b[0m\u001b[0m\n\u001b[1;32m    955\u001b[0m     \u001b[0;32mdef\u001b[0m \u001b[0mclose\u001b[0m\u001b[0;34m(\u001b[0m\u001b[0mself\u001b[0m\u001b[0;34m)\u001b[0m\u001b[0;34m:\u001b[0m\u001b[0;34m\u001b[0m\u001b[0;34m\u001b[0m\u001b[0m\n",
      "\u001b[0;31mHTTPError\u001b[0m: 503 Server Error: Service Temporarily Unavailable for url: https://www.poynter.org/ifcn-covid-19-misinformation/"
     ]
    }
   ],
   "source": [
    "# headers = {'User-Agent': 'Mozilla/5.0 (Windows NT 10.0; Win64; x64) AppleWebKit/537.36 (KHTML, like Gecko) Chrome/92.0.4515.159 Safari/537.36',\n",
    "#           'referer': 'https://www.poynter.org/ifcn-covid-19-misinformation/'}\n",
    "headers = {'User-Agent': 'Mozilla/5.0 (Macintosh; Intel Mac OS X 10_11_5) AppleWebKit/537.36 (KHTML, like Gecko) Chrome/50.0.2661.102 Safari/537.36'}\n",
    "\n",
    "\n",
    "result = requests.head(URL, headers=headers, allow_redirects=True)\n",
    "result.raise_for_status()"
   ]
  },
  {
   "cell_type": "code",
   "execution_count": 31,
   "id": "e5558c63",
   "metadata": {},
   "outputs": [
    {
     "data": {
      "text/plain": [
       "<Response [200]>"
      ]
     },
     "execution_count": 31,
     "metadata": {},
     "output_type": "execute_result"
    }
   ],
   "source": [
    "requests.get('https://www.politifact.com/factchecks/list/')"
   ]
  },
  {
   "cell_type": "code",
   "execution_count": 36,
   "id": "434fafd1",
   "metadata": {},
   "outputs": [
    {
     "data": {
      "text/plain": [
       "<Response [503]>"
      ]
     },
     "execution_count": 36,
     "metadata": {},
     "output_type": "execute_result"
    }
   ],
   "source": [
    "requests.get('https://www.poynter.org/ifcn-covid-19-misinformation/', headers = headers)"
   ]
  },
  {
   "cell_type": "code",
   "execution_count": 22,
   "id": "9e2346c4",
   "metadata": {},
   "outputs": [
    {
     "ename": "ModuleNotFoundError",
     "evalue": "No module named 'scrapy'",
     "output_type": "error",
     "traceback": [
      "\u001b[0;31m---------------------------------------------------------------------------\u001b[0m",
      "\u001b[0;31mModuleNotFoundError\u001b[0m                       Traceback (most recent call last)",
      "\u001b[0;32m/tmp/ipykernel_2138/3801959133.py\u001b[0m in \u001b[0;36m<module>\u001b[0;34m\u001b[0m\n\u001b[0;32m----> 1\u001b[0;31m \u001b[0;32mimport\u001b[0m \u001b[0mscrapy\u001b[0m\u001b[0;34m\u001b[0m\u001b[0;34m\u001b[0m\u001b[0m\n\u001b[0m\u001b[1;32m      2\u001b[0m \u001b[0;34m\u001b[0m\u001b[0m\n\u001b[1;32m      3\u001b[0m \u001b[0;34m\u001b[0m\u001b[0m\n\u001b[1;32m      4\u001b[0m \u001b[0;32mclass\u001b[0m \u001b[0mPoynterFakenewsSpider\u001b[0m\u001b[0;34m(\u001b[0m\u001b[0mscrapy\u001b[0m\u001b[0;34m.\u001b[0m\u001b[0mSpider\u001b[0m\u001b[0;34m)\u001b[0m\u001b[0;34m:\u001b[0m\u001b[0;34m\u001b[0m\u001b[0;34m\u001b[0m\u001b[0m\n\u001b[1;32m      5\u001b[0m     \u001b[0mname\u001b[0m \u001b[0;34m=\u001b[0m \u001b[0;34m'Poynter_FakeNews'\u001b[0m\u001b[0;34m\u001b[0m\u001b[0;34m\u001b[0m\u001b[0m\n",
      "\u001b[0;31mModuleNotFoundError\u001b[0m: No module named 'scrapy'"
     ]
    }
   ],
   "source": [
    "#Model found online using scrapy - not tested yet\n",
    "\n",
    "import scrapy\n",
    "\n",
    "\n",
    "class PoynterFakenewsSpider(scrapy.Spider):\n",
    "    name = 'Poynter_FakeNews'\n",
    "    allowed_domains = ['poynter.org']\n",
    "    start_urls = ['https://www.poynter.org/ifcn-covid-19-misinformation//']\n",
    "\n",
    "    custom_settings={ 'FEED_URI': \"crawlPoynter_%(time)s.csv\", 'FEED_FORMAT': 'csv'} \n",
    "\n",
    "    def parse(self, response):\n",
    "\n",
    "        for article in response.xpath('//article'):\n",
    "            Title = article.xpath('.//h2[@class=\"entry-title\"]/a/text()').get()\n",
    "            Date = article.xpath('.//p[@class=\"entry-content__text\"]/strong/text()').get()\n",
    "            ReadMore_link = article.xpath('.//a[@class=\"button entry-content__button entry-content__button--smaller\"]/@href').get()\n",
    "\n",
    "            yield scrapy.Request(\n",
    "                url=response.urljoin(ReadMore_link), \n",
    "                callback=self.parse_article_details,\n",
    "                cb_kwargs={\n",
    "                    'article_title': Title,\n",
    "                    'article_date': Date,\n",
    "                }\n",
    "            )\n",
    "        next_page = response.xpath('//a[@class=\"next page-numbers\"]/@href').extract_first()\n",
    "        if next_page: \n",
    "            yield scrapy.Request(response.urljoin(next_page), callback=self.parse)\n",
    "\n",
    "    def parse_article_details(self, response, article_title, article_date):\n",
    "        Source = response.xpath('//p[@class=\"entry-content__text entry-content__text--smaller\"]/text()').extract_first()\n",
    "        scraped_info = {\n",
    "            'page':response.url,\n",
    "            'Title': article_title, \n",
    "            'Date': article_date,\n",
    "            'Source': Source,\n",
    "        }\n",
    "        yield scraped_info"
   ]
  },
  {
   "cell_type": "code",
   "execution_count": null,
   "id": "3ce90da1",
   "metadata": {},
   "outputs": [],
   "source": []
  }
 ],
 "metadata": {
  "kernelspec": {
   "display_name": "Python 3 (ipykernel)",
   "language": "python",
   "name": "python3"
  },
  "language_info": {
   "codemirror_mode": {
    "name": "ipython",
    "version": 3
   },
   "file_extension": ".py",
   "mimetype": "text/x-python",
   "name": "python",
   "nbconvert_exporter": "python",
   "pygments_lexer": "ipython3",
   "version": "3.8.6"
  },
  "toc": {
   "base_numbering": 1,
   "nav_menu": {},
   "number_sections": true,
   "sideBar": true,
   "skip_h1_title": false,
   "title_cell": "Table of Contents",
   "title_sidebar": "Contents",
   "toc_cell": false,
   "toc_position": {},
   "toc_section_display": true,
   "toc_window_display": false
  }
 },
 "nbformat": 4,
 "nbformat_minor": 5
}
