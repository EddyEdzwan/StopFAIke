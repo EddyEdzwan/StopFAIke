{
 "cells": [
  {
   "cell_type": "markdown",
   "id": "9519fbce",
   "metadata": {},
   "source": [
    "## Test API - Local"
   ]
  },
  {
   "cell_type": "code",
   "execution_count": 8,
   "id": "6383c0f4",
   "metadata": {},
   "outputs": [],
   "source": [
    "import requests\n",
    "\n",
    "# fill the parameters for the prediction\n",
    "samples = [\n",
    "           (dict(article='The FBI raided a “Cleveland office linked to Ukraine. Biden, Pelosi, Kerry and Romney all had sons getting tens of millions of dollars from no-show jobs in Ukraine.”'), 'fake'),\n",
    "           (dict(article=\"Says the U.S. Senate is “dominated by millionaires” and that he is “not one of them.”\"), 'true'),\n",
    "           (dict(article=\"Says Kamala Harris called Joe Biden “a racist” during a Democratic presidential debate.\"), 'fake'),\n",
    "           (dict(article=\"Donald Trump says he will ‘terminate’ Social Security if re-elected.\"), 'fake'),\n",
    "           (dict(article=\"Say Joe Biden is a pedophile.\"), 'fake'),\n",
    "          ]        \n",
    "           "
   ]
  },
  {
   "cell_type": "code",
   "execution_count": 13,
   "id": "bbb03354",
   "metadata": {},
   "outputs": [
    {
     "name": "stdout",
     "output_type": "stream",
     "text": [
      "200 API call success\n"
     ]
    },
    {
     "data": {
      "text/plain": [
       "{'prediction': 0.9463471174240112}"
      ]
     },
     "execution_count": 13,
     "metadata": {},
     "output_type": "execute_result"
    }
   ],
   "source": [
    "# URL\n",
    "StopFAIke_api_url = \"http://127.0.0.1:8000/predict\"\n",
    "\n",
    "# retrieve the response\n",
    "response = requests.get(StopFAIke_api_url, params=samples[0][0])\n",
    "\n",
    "if response.status_code == 200:\n",
    "    print(response.status_code, \"API call success\")\n",
    "else:\n",
    "    print(response.status_code, \"API call error\")"
   ]
  },
  {
   "cell_type": "code",
   "execution_count": 14,
   "id": "c45c1773",
   "metadata": {},
   "outputs": [
    {
     "name": "stdout",
     "output_type": "stream",
     "text": [
      "Label: fake - Prediction: 0.946\n",
      "Label: true - Prediction: 0.592\n",
      "Label: fake - Prediction: 0.972\n",
      "Label: fake - Prediction: 0.797\n",
      "Label: fake - Prediction: 1.000\n"
     ]
    }
   ],
   "source": [
    "for sample in samples:\n",
    "    response = requests.get(StopFAIke_api_url, params=sample[0])\n",
    "    print(f\"Label: {sample[1]} - Prediction: {response.json()['prediction']:.3f}\")"
   ]
  },
  {
   "cell_type": "markdown",
   "id": "14629cc1",
   "metadata": {},
   "source": [
    "## Test API - Cloud Run"
   ]
  },
  {
   "cell_type": "code",
   "execution_count": 13,
   "id": "6e618d10",
   "metadata": {},
   "outputs": [
    {
     "name": "stdout",
     "output_type": "stream",
     "text": [
      "200 API call success\n"
     ]
    },
    {
     "data": {
      "text/plain": [
       "{'prediction': 0.8284526467323303}"
      ]
     },
     "execution_count": 13,
     "metadata": {},
     "output_type": "execute_result"
    }
   ],
   "source": [
    "# URL\n",
    "StopFAIke_api_url = \"https://stop-faike-j7vxpv56fq-ew.a.run.app/predict\"\n",
    "\n",
    "# retrieve the response\n",
    "response = requests.get(StopFAIke_api_url, params=samples[0][0])\n",
    "\n",
    "if response.status_code == 200:\n",
    "    print(response.status_code, \"API call success\")\n",
    "else:\n",
    "    print(response.status_code, \"API call error\")"
   ]
  },
  {
   "cell_type": "code",
   "execution_count": 16,
   "id": "02efdfed",
   "metadata": {},
   "outputs": [
    {
     "name": "stdout",
     "output_type": "stream",
     "text": [
      "Label: fake - Prediction: 0.828\n",
      "Label: true - Prediction: 0.460\n",
      "Label: fake - Prediction: 0.956\n",
      "Label: fake - Prediction: 0.232\n",
      "Label: fake - Prediction: 1.000\n"
     ]
    }
   ],
   "source": [
    "for sample in samples:\n",
    "    response = requests.get(StopFAIke_api_url, params=sample[0])\n",
    "    print(f\"Label: {sample[1]} - Prediction: {response.json()['prediction']:.3f}\")"
   ]
  },
  {
   "cell_type": "code",
   "execution_count": null,
   "id": "8cd2bb88",
   "metadata": {},
   "outputs": [],
   "source": []
  },
  {
   "cell_type": "code",
   "execution_count": null,
   "id": "f3dc4bab",
   "metadata": {},
   "outputs": [],
   "source": []
  }
 ],
 "metadata": {
  "kernelspec": {
   "display_name": "Python 3 (ipykernel)",
   "language": "python",
   "name": "python3"
  },
  "language_info": {
   "codemirror_mode": {
    "name": "ipython",
    "version": 3
   },
   "file_extension": ".py",
   "mimetype": "text/x-python",
   "name": "python",
   "nbconvert_exporter": "python",
   "pygments_lexer": "ipython3",
   "version": "3.8.6"
  },
  "toc": {
   "base_numbering": 1,
   "nav_menu": {},
   "number_sections": true,
   "sideBar": true,
   "skip_h1_title": false,
   "title_cell": "Table of Contents",
   "title_sidebar": "Contents",
   "toc_cell": false,
   "toc_position": {},
   "toc_section_display": true,
   "toc_window_display": false
  },
  "varInspector": {
   "cols": {
    "lenName": 16,
    "lenType": 16,
    "lenVar": 40
   },
   "kernels_config": {
    "python": {
     "delete_cmd_postfix": "",
     "delete_cmd_prefix": "del ",
     "library": "var_list.py",
     "varRefreshCmd": "print(var_dic_list())"
    },
    "r": {
     "delete_cmd_postfix": ") ",
     "delete_cmd_prefix": "rm(",
     "library": "var_list.r",
     "varRefreshCmd": "cat(var_dic_list()) "
    }
   },
   "types_to_exclude": [
    "module",
    "function",
    "builtin_function_or_method",
    "instance",
    "_Feature"
   ],
   "window_display": false
  }
 },
 "nbformat": 4,
 "nbformat_minor": 5
}
