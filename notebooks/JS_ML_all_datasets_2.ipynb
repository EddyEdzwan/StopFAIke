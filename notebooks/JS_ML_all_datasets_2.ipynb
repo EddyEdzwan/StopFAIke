{
 "cells": [
  {
   "cell_type": "markdown",
   "id": "540105f5",
   "metadata": {
    "id": "540105f5"
   },
   "source": [
    "# ML evaluation - All datasets"
   ]
  },
  {
   "cell_type": "markdown",
   "id": "0c22f615",
   "metadata": {},
   "source": [
    "## Imports"
   ]
  },
  {
   "cell_type": "code",
   "execution_count": 7,
   "id": "8c94c786",
   "metadata": {
    "executionInfo": {
     "elapsed": 352,
     "status": "ok",
     "timestamp": 1630050461264,
     "user": {
      "displayName": "Julien Seguy",
      "photoUrl": "",
      "userId": "07351507381529939348"
     },
     "user_tz": -480
    },
    "id": "8c94c786"
   },
   "outputs": [],
   "source": [
    "import numpy as np\n",
    "import pandas as pd\n",
    "import joblib\n",
    "from termcolor import colored\n",
    "\n",
    "import matplotlib as mpl\n",
    "import matplotlib.pyplot as plt\n",
    "\n",
    "from sklearn.model_selection import train_test_split\n",
    "from sklearn.model_selection import GridSearchCV\n",
    "from sklearn.pipeline import Pipeline\n",
    "from sklearn.feature_extraction.text import TfidfVectorizer\n",
    "\n",
    "from sklearn.linear_model import LogisticRegression   \n",
    "from sklearn.naive_bayes import MultinomialNB\n",
    "from sklearn.svm import SVC\n",
    "from sklearn.ensemble import RandomForestClassifier\n",
    "\n",
    "from sklearn.model_selection import cross_validate\n",
    "from sklearn.metrics import plot_confusion_matrix\n",
    "from sklearn.model_selection import learning_curve\n",
    "from sklearn.metrics import precision_recall_curve\n",
    "from sklearn.model_selection import cross_val_predict\n",
    "\n",
    "from sklearn.metrics import accuracy_score\n",
    "from sklearn.metrics import recall_score\n",
    "from sklearn.metrics import precision_score\n",
    "from sklearn.metrics import f1_score\n",
    "\n",
    "import string\n",
    "from nltk.corpus import stopwords\n",
    "from nltk.stem.wordnet import WordNetLemmatizer\n",
    "from nltk import word_tokenize\n",
    "\n",
    "# Required only for Colab\n",
    "# import nltk\n",
    "# nltk.download('punkt')\n",
    "# nltk.download('stopwords')\n",
    "# nltk.download('wordnet')\n",
    "\n",
    "mpl.rcParams['figure.figsize'] = (12, 6)\n",
    "colors = plt.rcParams['axes.prop_cycle'].by_key()['color']"
   ]
  },
  {
   "cell_type": "markdown",
   "id": "1bbddbc5",
   "metadata": {},
   "source": [
    "## Helper functions"
   ]
  },
  {
   "cell_type": "code",
   "execution_count": 8,
   "id": "46bcaed5",
   "metadata": {},
   "outputs": [],
   "source": [
    "def clean(text):\n",
    "    for punctuation in string.punctuation:\n",
    "        text = text.replace(punctuation, ' ') # Remove Punctuation\n",
    "    lowercased = text.lower() # Lower Case\n",
    "    tokenized = word_tokenize(lowercased) # Tokenize\n",
    "    words_only = [word for word in tokenized if word.isalpha()] # Remove numbers\n",
    "    stop_words = set(stopwords.words('english')) # Make stopword list\n",
    "    without_stopwords = [word for word in words_only if not word in stop_words] # Remove Stop Words\n",
    "    lemma = WordNetLemmatizer() # Initiate Lemmatizer\n",
    "    lemmatized = [lemma.lemmatize(word) for word in without_stopwords] # Lemmatize\n",
    "    return ' '.join(word for word in lemmatized)\n",
    "\n",
    "def count_words(text):\n",
    "    return len(text.split())\n",
    "\n",
    "def plot_learning_curve(model, Name, X_train, y_train):\n",
    "\n",
    "    train_sizes = np.linspace(0.1, 1, 15)\n",
    "    \n",
    "    train_sizes, train_scores, test_scores = learning_curve(\n",
    "                  model, X_train, y_train, \n",
    "                  train_sizes = train_sizes,\n",
    "                  cv=5)\n",
    "\n",
    "    train_scores_mean = np.mean(train_scores, axis=1)\n",
    "    test_scores_mean = np.mean(test_scores, axis=1)\n",
    "\n",
    "    plt.figure(figsize=(8, 5))\n",
    "    plt.grid()\n",
    "    plt.title(f\"Model - {Name}\")\n",
    "    plt.plot(train_sizes, train_scores_mean, 'o-', color = \"r\", label = \"Training score\")\n",
    "    plt.plot(train_sizes, test_scores_mean, 'o-', color = \"g\", label = \"CV Test score\")\n",
    "    plt.legend(loc=\"best\")\n",
    "    plt.show()\n",
    "\n",
    "\n",
    "def binary_metrics(y_test, y_pred):\n",
    "    print('-'*80)\n",
    "    print('Acc: {:.2f}'.format(accuracy_score(y_test, y_pred)))\n",
    "    print('Recall: {:.2f}'.format(recall_score(y_test, y_pred)))\n",
    "    print('Precision: {:.2f}'.format(precision_score(y_test, y_pred)))\n",
    "    print('f1: {:.2f}'.format(f1_score(y_test, y_pred)))\n",
    "    print('-'*80)\n",
    "\n",
    "def get_scores(model, model_name, X_train, y_train, X_test, y_test):\n",
    "    \n",
    "    # Cross Validation\n",
    "    scoring = ['accuracy', 'recall', 'precision', 'f1']\n",
    "    cv_results = cross_validate(model, X_train, y_train, cv=5, scoring = scoring, n_jobs=-1)\n",
    "\n",
    "    acc = cv_results['test_accuracy'].mean()\n",
    "    recall = cv_results['test_recall'].mean()\n",
    "    precision = cv_results['test_precision'].mean()\n",
    "    f1 = cv_results['test_f1'].mean()\n",
    "    \n",
    "    print('-'*80)\n",
    "    print(f\"{model_name} - CV scores: \")\n",
    "    print('-'*80)\n",
    "    print(f\"Acc : {acc:.2f}\")\n",
    "    print(f\"Recall: {recall:.2f}\")\n",
    "    print(f\"Precision: {precision:.2f}\")\n",
    "    print(f\"f1: {f1:.2f}\")\n",
    "    \n",
    "    # Test evaluation\n",
    "    model.fit(X_train, y_train)\n",
    "    y_preds = model.predict(X_test)\n",
    "    print('-'*80)\n",
    "    print(f\"{model_name} - test scores: \")\n",
    "    binary_metrics(y_test, y_preds)\n",
    "    \n",
    "    return acc, recall, precision, f1\n",
    "\n",
    "def save_model(model, model_name = 'model.joblib'):\n",
    "    \"\"\"\n",
    "    Save the model into a .joblib format\n",
    "    \"\"\"\n",
    "    joblib.dump(model, model_name)\n",
    "    print(colored('-'*80, 'green'))\n",
    "    print(colored(f\"{model_name} saved locally\", \"green\"))\n",
    "    print(colored('-'*80, 'green'))\n",
    "\n",
    "def get_model(path_to_joblib):\n",
    "    \"\"\"\n",
    "    Upload the model\n",
    "    \"\"\"\n",
    "    pipeline = joblib.load(path_to_joblib)\n",
    "    return pipeline"
   ]
  },
  {
   "cell_type": "markdown",
   "id": "e543b278",
   "metadata": {},
   "source": [
    "## Loading Datasets"
   ]
  },
  {
   "cell_type": "markdown",
   "id": "90033a1b",
   "metadata": {
    "heading_collapsed": true
   },
   "source": [
    "### Loading `Politifact`"
   ]
  },
  {
   "cell_type": "code",
   "execution_count": 10,
   "id": "e3118e91",
   "metadata": {
    "hidden": true
   },
   "outputs": [
    {
     "name": "stdout",
     "output_type": "stream",
     "text": [
      "--------------------------------------------------------------------------------\n",
      "data_P shape: (19826, 8)\n",
      "--------------------------------------------------------------------------------\n",
      "--------------------------------------------------------------------------------\n",
      "1    71.562595\n",
      "0    28.437405\n",
      "Name: category, dtype: float64\n",
      "--------------------------------------------------------------------------------\n",
      "1    54.206597\n",
      "0    45.793403\n",
      "Name: category2, dtype: float64\n",
      "--------------------------------------------------------------------------------\n",
      "1    10747\n",
      "0     9079\n",
      "Name: category2, dtype: int64\n",
      "--------------------------------------------------------------------------------\n"
     ]
    }
   ],
   "source": [
    "def get_data_from_gcp(nrows=10000, optimize=False, **kwargs):\n",
    "    \"\"\"method to get the training data (or a portion of it) from GCP\"\"\"\n",
    "    path = 'https://storage.googleapis.com/wagon-data-615-seguy/data/politifact_scrap.csv'\n",
    "    df = pd.read_csv(path, nrows=nrows)\n",
    "    return df\n",
    "\n",
    "data_P = get_data_from_gcp(nrows=30000)\n",
    "\n",
    "print('-'*80)\n",
    "print(f\"data_P shape: {data_P.shape}\")\n",
    "print('-'*80)\n",
    "print('-'*80)\n",
    "print(data_P['category'].value_counts()/len(data_P)*100)\n",
    "print('-'*80)\n",
    "print(data_P['category2'].value_counts()/len(data_P)*100)\n",
    "print('-'*80)\n",
    "print(data_P['category2'].value_counts())\n",
    "print('-'*80)"
   ]
  },
  {
   "cell_type": "code",
   "execution_count": 11,
   "id": "ffdefe53",
   "metadata": {
    "hidden": true
   },
   "outputs": [
    {
     "name": "stdout",
     "output_type": "stream",
     "text": [
      "--------------------------------------------------------------------------------\n",
      "X_P shape: (19826,)\n",
      "y_P shape: (19826,)\n",
      "--------------------------------------------------------------------------------\n",
      "Avg. length of newsarticles (in words): 11.0\n",
      "--------------------------------------------------------------------------------\n",
      "Original text: “Washington public school forces unvaccinated teens to wear ankle monitors” as a condition of playing team sports.\n",
      "Clean text: washington public school force unvaccinated teen wear ankle monitor condition playing team sport\n",
      "--------------------------------------------------------------------------------\n"
     ]
    }
   ],
   "source": [
    "X_P = data_P['statement'].apply(clean).copy()\n",
    "y_P = data_P['category2'].copy()\n",
    "\n",
    "print('-'*80)\n",
    "print(f\"X_P shape: {X_P.shape}\")\n",
    "print(f\"y_P shape: {y_P.shape}\")\n",
    "print('-'*80)\n",
    "print(f\"Avg. length of newsarticles (in words): {np.round(X_P.map(count_words).mean(), 0)}\")\n",
    "print('-'*80)\n",
    "print(f\"Original text: {data_P['statement'][0]}\")\n",
    "print(f\"Clean text: {X_P[0]}\")\n",
    "print('-'*80)"
   ]
  },
  {
   "cell_type": "code",
   "execution_count": 12,
   "id": "a3d3ea54",
   "metadata": {
    "hidden": true
   },
   "outputs": [
    {
     "name": "stdout",
     "output_type": "stream",
     "text": [
      "--------------------------------------------------------------------------------\n",
      "X_P_train shape: (15860,)\n",
      "y_P_train shape: (15860,)\n",
      "--------------------------------------------------------------------------------\n",
      "X_P_test shape: (3966,)\n",
      "y_P_test shape: (3966,)\n",
      "--------------------------------------------------------------------------------\n",
      "--------------------------------------------------------------------------------\n",
      "Fake (1) proportion in train (%): 54.300\n",
      "Fake (1) proportion in test (%): 53.833\n",
      "--------------------------------------------------------------------------------\n"
     ]
    }
   ],
   "source": [
    "X_P_train, X_P_test, y_P_train, y_P_test = train_test_split(X_P, y_P, test_size=0.2, random_state=42)\n",
    "\n",
    "print('-'*80)\n",
    "print(f\"X_P_train shape: {X_P_train.shape}\")\n",
    "print(f\"y_P_train shape: {y_P_train.shape}\")\n",
    "print('-'*80)\n",
    "print(f\"X_P_test shape: {X_P_test.shape}\")\n",
    "print(f\"y_P_test shape: {y_P_test.shape}\")\n",
    "print('-'*80)\n",
    "print('-'*80)\n",
    "print(f\"Fake (1) proportion in train (%): {y_P_train.sum()/len(y_P_train)*100:.3f}\")\n",
    "print(f\"Fake (1) proportion in test (%): {y_P_test.sum()/len(y_P_test)*100:.3f}\")\n",
    "print('-'*80)"
   ]
  },
  {
   "cell_type": "code",
   "execution_count": 13,
   "id": "5f4b849b",
   "metadata": {
    "hidden": true
   },
   "outputs": [
    {
     "data": {
      "text/plain": [
       "pandas.core.series.Series"
      ]
     },
     "execution_count": 13,
     "metadata": {},
     "output_type": "execute_result"
    }
   ],
   "source": [
    "type(X_P_train)"
   ]
  },
  {
   "cell_type": "markdown",
   "id": "3189c738",
   "metadata": {
    "heading_collapsed": true
   },
   "source": [
    "### Loading `FakeNewsNET`"
   ]
  },
  {
   "cell_type": "code",
   "execution_count": 14,
   "id": "31a878d7",
   "metadata": {
    "hidden": true
   },
   "outputs": [
    {
     "name": "stdout",
     "output_type": "stream",
     "text": [
      "--------------------------------------------------------------------------------\n",
      "data_FNN shape: (19281, 8)\n",
      "--------------------------------------------------------------------------------\n"
     ]
    }
   ],
   "source": [
    "def get_data_from_gcp(nrows=10000, optimize=False, **kwargs):\n",
    "    \"\"\"method to get the training data (or a portion of it) from GCP\"\"\"\n",
    "    path = 'https://storage.googleapis.com/wagon-data-615-seguy/data/FakesNewsNET.csv'\n",
    "    df = pd.read_csv(path, nrows=nrows)\n",
    "    return df\n",
    "\n",
    "data_FNN = get_data_from_gcp(nrows=20000)\n",
    "\n",
    "print('-'*80)\n",
    "print(f\"data_FNN shape: {data_FNN.shape}\")\n",
    "print('-'*80)"
   ]
  },
  {
   "cell_type": "code",
   "execution_count": 15,
   "id": "e530aae6",
   "metadata": {
    "hidden": true
   },
   "outputs": [
    {
     "data": {
      "text/html": [
       "<div>\n",
       "<style scoped>\n",
       "    .dataframe tbody tr th:only-of-type {\n",
       "        vertical-align: middle;\n",
       "    }\n",
       "\n",
       "    .dataframe tbody tr th {\n",
       "        vertical-align: top;\n",
       "    }\n",
       "\n",
       "    .dataframe thead th {\n",
       "        text-align: right;\n",
       "    }\n",
       "</style>\n",
       "<table border=\"1\" class=\"dataframe\">\n",
       "  <thead>\n",
       "    <tr style=\"text-align: right;\">\n",
       "      <th></th>\n",
       "      <th>title</th>\n",
       "      <th>text</th>\n",
       "      <th>authors</th>\n",
       "      <th>num_images</th>\n",
       "      <th>domain</th>\n",
       "      <th>url</th>\n",
       "      <th>category</th>\n",
       "      <th>news_type</th>\n",
       "    </tr>\n",
       "  </thead>\n",
       "  <tbody>\n",
       "    <tr>\n",
       "      <th>0</th>\n",
       "      <td>Djou wins special election for Congress</td>\n",
       "      <td>Hanabusa leads Case with nearly all the votes ...</td>\n",
       "      <td>['Honolulu Star-Bulletin']</td>\n",
       "      <td>40</td>\n",
       "      <td>archive</td>\n",
       "      <td>https://web.archive.org/web/20100523122054/htt...</td>\n",
       "      <td>0</td>\n",
       "      <td>political</td>\n",
       "    </tr>\n",
       "    <tr>\n",
       "      <th>1</th>\n",
       "      <td>Change We Can Believe In</td>\n",
       "      <td>Remarks of Senator Barack Obama: Apostolic Chu...</td>\n",
       "      <td>[]</td>\n",
       "      <td>33</td>\n",
       "      <td>archive</td>\n",
       "      <td>https://web.archive.org/web/20080618171108/htt...</td>\n",
       "      <td>0</td>\n",
       "      <td>political</td>\n",
       "    </tr>\n",
       "    <tr>\n",
       "      <th>2</th>\n",
       "      <td>One in Four</td>\n",
       "      <td>One out of every four Pennsylvania households ...</td>\n",
       "      <td>['Congressman Joe Pitts']</td>\n",
       "      <td>2</td>\n",
       "      <td>medium</td>\n",
       "      <td>https://medium.com/@RepJoePitts/one-in-four-66...</td>\n",
       "      <td>0</td>\n",
       "      <td>political</td>\n",
       "    </tr>\n",
       "    <tr>\n",
       "      <th>3</th>\n",
       "      <td>Pastors To Protest IRS Rules on Political Advo...</td>\n",
       "      <td>On Sept. 28, pastors from 20 states will give ...</td>\n",
       "      <td>[]</td>\n",
       "      <td>4</td>\n",
       "      <td>pewforum</td>\n",
       "      <td>http://www.pewforum.org/2008/09/19/pastors-to-...</td>\n",
       "      <td>0</td>\n",
       "      <td>political</td>\n",
       "    </tr>\n",
       "    <tr>\n",
       "      <th>4</th>\n",
       "      <td>“Dictionary” on President Obama’s Health Care ...</td>\n",
       "      <td>WASHINGTON – The Republican National Committee...</td>\n",
       "      <td>['Written On September', 'Republican National ...</td>\n",
       "      <td>32</td>\n",
       "      <td>archive</td>\n",
       "      <td>https://web.archive.org/web/20091003005639/htt...</td>\n",
       "      <td>0</td>\n",
       "      <td>political</td>\n",
       "    </tr>\n",
       "  </tbody>\n",
       "</table>\n",
       "</div>"
      ],
      "text/plain": [
       "                                               title  \\\n",
       "0            Djou wins special election for Congress   \n",
       "1                           Change We Can Believe In   \n",
       "2                                        One in Four   \n",
       "3  Pastors To Protest IRS Rules on Political Advo...   \n",
       "4  “Dictionary” on President Obama’s Health Care ...   \n",
       "\n",
       "                                                text  \\\n",
       "0  Hanabusa leads Case with nearly all the votes ...   \n",
       "1  Remarks of Senator Barack Obama: Apostolic Chu...   \n",
       "2  One out of every four Pennsylvania households ...   \n",
       "3  On Sept. 28, pastors from 20 states will give ...   \n",
       "4  WASHINGTON – The Republican National Committee...   \n",
       "\n",
       "                                             authors  num_images    domain  \\\n",
       "0                         ['Honolulu Star-Bulletin']          40   archive   \n",
       "1                                                 []          33   archive   \n",
       "2                          ['Congressman Joe Pitts']           2    medium   \n",
       "3                                                 []           4  pewforum   \n",
       "4  ['Written On September', 'Republican National ...          32   archive   \n",
       "\n",
       "                                                 url  category  news_type  \n",
       "0  https://web.archive.org/web/20100523122054/htt...         0  political  \n",
       "1  https://web.archive.org/web/20080618171108/htt...         0  political  \n",
       "2  https://medium.com/@RepJoePitts/one-in-four-66...         0  political  \n",
       "3  http://www.pewforum.org/2008/09/19/pastors-to-...         0  political  \n",
       "4  https://web.archive.org/web/20091003005639/htt...         0  political  "
      ]
     },
     "execution_count": 15,
     "metadata": {},
     "output_type": "execute_result"
    }
   ],
   "source": [
    "data_FNN.head()"
   ]
  },
  {
   "cell_type": "code",
   "execution_count": 16,
   "id": "011faf44",
   "metadata": {
    "hidden": true
   },
   "outputs": [
    {
     "name": "stdout",
     "output_type": "stream",
     "text": [
      "--------------------------------------------------------------------------------\n",
      "X_FNN shape: (19281, 2)\n",
      "y_FNN shape: (19281,)\n",
      "--------------------------------------------------------------------------------\n",
      "Avg. length of title (in words): 8.0\n",
      "Avg. length of text (in words): 334.0\n",
      "--------------------------------------------------------------------------------\n",
      "Original text: Djou wins special election for Congress\n",
      "Clean text: djou win special election congress\n",
      "--------------------------------------------------------------------------------\n"
     ]
    }
   ],
   "source": [
    "X_FNN = data_FNN[['title', 'text']].copy()\n",
    "X_FNN['title'] = X_FNN['title'].apply(clean)\n",
    "X_FNN['text'] = X_FNN['text'].apply(clean)\n",
    "\n",
    "y_FNN = data_FNN['category'].copy()\n",
    "\n",
    "print('-'*80)\n",
    "print(f\"X_FNN shape: {X_FNN.shape}\")\n",
    "print(f\"y_FNN shape: {y_FNN.shape}\")\n",
    "print('-'*80)\n",
    "print(f\"Avg. length of title (in words): {np.round(X_FNN['title'].map(count_words).mean(), 0)}\")\n",
    "print(f\"Avg. length of text (in words): {np.round(X_FNN['text'].map(count_words).mean(), 0)}\")\n",
    "print('-'*80)\n",
    "print(f\"Original text: {data_FNN['title'][0]}\")\n",
    "print(f\"Clean text: {X_FNN['title'][0]}\")\n",
    "print('-'*80)"
   ]
  },
  {
   "cell_type": "code",
   "execution_count": 17,
   "id": "0f59499d",
   "metadata": {
    "hidden": true
   },
   "outputs": [
    {
     "name": "stdout",
     "output_type": "stream",
     "text": [
      "--------------------------------------------------------------------------------\n",
      "X_FNN_train sh|ape: (15424, 2)\n",
      "y_FNN_train shape: (15424,)\n",
      "--------------------------------------------------------------------------------\n",
      "X_FNN_test shape: (3857, 2)\n",
      "y_FNN_test shape: (3857,)\n",
      "--------------------------------------------------------------------------------\n",
      "--------------------------------------------------------------------------------\n",
      "Fake (1) proportion in train (%): 24.870\n",
      "Fake (1) proportion in test (%): 23.568\n",
      "--------------------------------------------------------------------------------\n"
     ]
    }
   ],
   "source": [
    "X_FNN_train, X_FNN_test, y_FNN_train, y_FNN_test = train_test_split(X_FNN, y_FNN, test_size=0.2, random_state=42)\n",
    "\n",
    "print('-'*80)\n",
    "print(f\"X_FNN_train sh|ape: {X_FNN_train.shape}\")\n",
    "print(f\"y_FNN_train shape: {y_FNN_train.shape}\")\n",
    "print('-'*80)\n",
    "print(f\"X_FNN_test shape: {X_FNN_test.shape}\")\n",
    "print(f\"y_FNN_test shape: {y_FNN_test.shape}\")\n",
    "print('-'*80)\n",
    "print('-'*80)\n",
    "print(f\"Fake (1) proportion in train (%): {y_FNN_train.sum()/len(y_FNN_train)*100:.3f}\")\n",
    "print(f\"Fake (1) proportion in test (%): {y_FNN_test.sum()/len(y_FNN_test)*100:.3f}\")\n",
    "print('-'*80)"
   ]
  },
  {
   "cell_type": "markdown",
   "id": "8bce5be8",
   "metadata": {
    "heading_collapsed": true
   },
   "source": [
    "### Loading `Bisaillon`"
   ]
  },
  {
   "cell_type": "code",
   "execution_count": 18,
   "id": "91835721",
   "metadata": {
    "hidden": true
   },
   "outputs": [
    {
     "name": "stdout",
     "output_type": "stream",
     "text": [
      "--------------------------------------------------------------------------------\n",
      "true shape: (21417, 4)\n",
      "fake shape: (23481, 4)\n",
      "--------------------------------------------------------------------------------\n"
     ]
    }
   ],
   "source": [
    "def get_data_from_gcp(nrows=10000, optimize=False, **kwargs):\n",
    "    \"\"\"method to get the training data (or a portion of it) from GCP\"\"\"\n",
    "    true_path = 'https://storage.googleapis.com/wagon-data-615-seguy/data/True.csv'\n",
    "    fake_path = 'https://storage.googleapis.com/wagon-data-615-seguy/data/Fake.csv'\n",
    "    true_df = pd.read_csv(true_path, nrows=nrows)\n",
    "    fake_df = pd.read_csv(fake_path, nrows=nrows)\n",
    "    return true_df, fake_df\n",
    "\n",
    "true, fake = get_data_from_gcp(nrows=None)\n",
    "\n",
    "print('-'*80)\n",
    "print(f\"true shape: {true.shape}\")\n",
    "print(f\"fake shape: {fake.shape}\")\n",
    "print('-'*80)"
   ]
  },
  {
   "cell_type": "code",
   "execution_count": 19,
   "id": "9b6d5f9d",
   "metadata": {
    "hidden": true
   },
   "outputs": [
    {
     "name": "stdout",
     "output_type": "stream",
     "text": [
      "--------------------------------------------------------------------------------\n",
      "true shape (wo duplicates): (21211, 4)\n",
      "fake shape (wo duplicates): (23478, 4)\n",
      "--------------------------------------------------------------------------------\n"
     ]
    }
   ],
   "source": [
    "true.drop_duplicates(inplace=True)\n",
    "fake.drop_duplicates(inplace=True)\n",
    "\n",
    "print('-'*80)\n",
    "print(f\"true shape (wo duplicates): {true.shape}\")\n",
    "print(f\"fake shape (wo duplicates): {fake.shape}\")\n",
    "print('-'*80)"
   ]
  },
  {
   "cell_type": "code",
   "execution_count": 20,
   "id": "be61dbcc",
   "metadata": {
    "hidden": true
   },
   "outputs": [
    {
     "name": "stdout",
     "output_type": "stream",
     "text": [
      "--------------------------------------------------------------------------------\n",
      "data_BIS shape: (44689, 5)\n",
      "--------------------------------------------------------------------------------\n",
      "ratio #true: 47.46%\n",
      "ratio #fake: 52.54%\n",
      "--------------------------------------------------------------------------------\n"
     ]
    }
   ],
   "source": [
    "true['category'] = 0\n",
    "fake['category'] = 1\n",
    "\n",
    "data_BIS = pd.concat([true, fake]).reset_index(drop=True)\n",
    "\n",
    "print('-'*80)\n",
    "print(f\"data_BIS shape: {data_BIS.shape}\")\n",
    "print('-'*80)\n",
    "print(f\"ratio #true: {len(data_BIS[data_BIS['category']==0])/len(data_BIS)*100:.2f}%\")\n",
    "print(f\"ratio #fake: {len(data_BIS[data_BIS['category']==1])/len(data_BIS)*100:.2f}%\")\n",
    "print('-'*80)"
   ]
  },
  {
   "cell_type": "code",
   "execution_count": 21,
   "id": "22f6c041",
   "metadata": {
    "hidden": true
   },
   "outputs": [],
   "source": [
    "# data_BIS['date'].iloc[30000]"
   ]
  },
  {
   "cell_type": "code",
   "execution_count": 22,
   "id": "382c57d3",
   "metadata": {
    "hidden": true
   },
   "outputs": [
    {
     "name": "stdout",
     "output_type": "stream",
     "text": [
      "--------------------------------------------------------------------------------\n",
      "X_BIS shape: (44689, 2)\n",
      "y_BIS shape: (44689,)\n",
      "--------------------------------------------------------------------------------\n",
      "Avg. length of title (in words): 9.0\n",
      "Avg. length of text (in words): 233.0\n",
      "--------------------------------------------------------------------------------\n",
      "Original text: As U.S. budget fight looms, Republicans flip their fiscal script\n",
      "Clean text: u budget fight loom republican flip fiscal script\n",
      "--------------------------------------------------------------------------------\n"
     ]
    }
   ],
   "source": [
    "X_BIS = data_BIS[['title', 'text']].copy()\n",
    "X_BIS['title'] = data_BIS['title'].apply(clean)\n",
    "X_BIS['text'] = data_BIS['text'].apply(clean)\n",
    "\n",
    "y_BIS = data_BIS['category'].copy()\n",
    "\n",
    "print('-'*80)\n",
    "print(f\"X_BIS shape: {X_BIS.shape}\")\n",
    "print(f\"y_BIS shape: {y_BIS.shape}\")\n",
    "print('-'*80)\n",
    "print(f\"Avg. length of title (in words): {np.round(X_BIS['title'].map(count_words).mean(), 0)}\")\n",
    "print(f\"Avg. length of text (in words): {np.round(X_BIS['text'].map(count_words).mean(), 0)}\")\n",
    "print('-'*80)\n",
    "print(f\"Original text: {data_BIS['title'][0]}\")\n",
    "print(f\"Clean text: {X_BIS['title'][0]}\")\n",
    "print('-'*80)"
   ]
  },
  {
   "cell_type": "code",
   "execution_count": 23,
   "id": "5e9fe9b9",
   "metadata": {
    "hidden": true
   },
   "outputs": [
    {
     "name": "stdout",
     "output_type": "stream",
     "text": [
      "--------------------------------------------------------------------------------\n",
      "X_BIS_train shape: (35751, 2)\n",
      "y_BIS_train shape: (35751,)\n",
      "--------------------------------------------------------------------------------\n",
      "X_BIS_test shape: (8938, 2)\n",
      "y_BIS_test shape: (8938,)\n",
      "--------------------------------------------------------------------------------\n",
      "--------------------------------------------------------------------------------\n",
      "Fake (1) proportion in train (%): 52.670\n",
      "Fake (1) proportion in test (%): 52.003\n",
      "--------------------------------------------------------------------------------\n"
     ]
    }
   ],
   "source": [
    "X_BIS_train, X_BIS_test, y_BIS_train, y_BIS_test = train_test_split(X_BIS, y_BIS, test_size=0.2, random_state=42)\n",
    "\n",
    "print('-'*80)\n",
    "print(f\"X_BIS_train shape: {X_BIS_train.shape}\")\n",
    "print(f\"y_BIS_train shape: {y_BIS_train.shape}\")\n",
    "print('-'*80)\n",
    "print(f\"X_BIS_test shape: {X_BIS_test.shape}\")\n",
    "print(f\"y_BIS_test shape: {y_BIS_test.shape}\")\n",
    "print('-'*80)\n",
    "print('-'*80)\n",
    "print(f\"Fake (1) proportion in train (%): {y_BIS_train.sum()/len(y_BIS_train)*100:.3f}\")\n",
    "print(f\"Fake (1) proportion in test (%): {y_BIS_test.sum()/len(y_BIS_test)*100:.3f}\")\n",
    "print('-'*80)"
   ]
  },
  {
   "cell_type": "markdown",
   "id": "6ef4b438",
   "metadata": {
    "heading_collapsed": true
   },
   "source": [
    "### Loading `Poynter`"
   ]
  },
  {
   "cell_type": "code",
   "execution_count": 24,
   "id": "4dac7240",
   "metadata": {
    "hidden": true
   },
   "outputs": [
    {
     "name": "stdout",
     "output_type": "stream",
     "text": [
      "--------------------------------------------------------------------------------\n",
      "data_PO shape: (14897, 3)\n",
      "--------------------------------------------------------------------------------\n",
      "--------------------------------------------------------------------------------\n",
      "0.0    50.063771\n",
      "1.0    49.936229\n",
      "Name: label_list_transformed, dtype: float64\n",
      "--------------------------------------------------------------------------------\n"
     ]
    }
   ],
   "source": [
    "def get_data_from_gcp(nrows=10000, optimize=False, **kwargs):\n",
    "    \"\"\"method to get the training data (or a portion of it) from GCP\"\"\"\n",
    "    path = 'https://storage.googleapis.com/wagon-data-615-seguy/data/poynter_final_condensed.csv'\n",
    "    df = pd.read_csv(path, nrows=nrows)\n",
    "    return df\n",
    "\n",
    "data_PO = get_data_from_gcp(nrows=30000)\n",
    "\n",
    "print('-'*80)\n",
    "print(f\"data_PO shape: {data_PO.shape}\")\n",
    "print('-'*80)\n",
    "print('-'*80)\n",
    "print(data_PO['label_list_transformed'].value_counts()/len(data_PO)*100)\n",
    "print('-'*80)"
   ]
  },
  {
   "cell_type": "code",
   "execution_count": 25,
   "id": "c5aff5bd",
   "metadata": {
    "hidden": true
   },
   "outputs": [],
   "source": [
    "# data_PO.head()"
   ]
  },
  {
   "cell_type": "code",
   "execution_count": 26,
   "id": "e682dc6d",
   "metadata": {
    "hidden": true
   },
   "outputs": [
    {
     "name": "stdout",
     "output_type": "stream",
     "text": [
      "--------------------------------------------------------------------------------\n",
      "X_PO shape: (14897,)\n",
      "y_PO shape: (14897,)\n",
      "--------------------------------------------------------------------------------\n",
      "Avg. length of claims (in words): 13.0\n",
      "--------------------------------------------------------------------------------\n",
      "Original text: There is a call for free vaccination in the Ciudad de la Luz center, in Alicante, for people over 12 years old.\n",
      "Clean text: call free vaccination ciudad de la luz center alicante people year old\n",
      "--------------------------------------------------------------------------------\n"
     ]
    }
   ],
   "source": [
    "X_PO = data_PO['title_list'].apply(clean).copy()\n",
    "y_PO = data_PO['label_list_transformed'].copy()\n",
    "\n",
    "print('-'*80)\n",
    "print(f\"X_PO shape: {X_PO.shape}\")\n",
    "print(f\"y_PO shape: {y_PO.shape}\")\n",
    "print('-'*80)\n",
    "print(f\"Avg. length of claims (in words): {np.round(X_PO.map(count_words).mean(), 0)}\")\n",
    "print('-'*80)\n",
    "print(f\"Original text: {data_PO['title_list'][0]}\")\n",
    "print(f\"Clean text: {X_PO[0]}\")\n",
    "print('-'*80)"
   ]
  },
  {
   "cell_type": "code",
   "execution_count": 27,
   "id": "f6393025",
   "metadata": {
    "hidden": true
   },
   "outputs": [
    {
     "name": "stdout",
     "output_type": "stream",
     "text": [
      "--------------------------------------------------------------------------------\n",
      "X_PO_train shape: (11917,)\n",
      "y_PO_train shape: (11917,)\n",
      "--------------------------------------------------------------------------------\n",
      "X_PO_test shape: (2980,)\n",
      "y_PO_test shape: (2980,)\n",
      "--------------------------------------------------------------------------------\n",
      "--------------------------------------------------------------------------------\n",
      "Fake (1) proportion in train (%): 49.870\n",
      "Fake (1) proportion in test (%): 50.201\n",
      "--------------------------------------------------------------------------------\n"
     ]
    }
   ],
   "source": [
    "X_PO_train, X_PO_test, y_PO_train, y_PO_test = train_test_split(X_PO, y_PO, test_size=0.2, random_state=42)\n",
    "\n",
    "print('-'*80)\n",
    "print(f\"X_PO_train shape: {X_PO_train.shape}\")\n",
    "print(f\"y_PO_train shape: {y_PO_train.shape}\")\n",
    "print('-'*80)\n",
    "print(f\"X_PO_test shape: {X_PO_test.shape}\")\n",
    "print(f\"y_PO_test shape: {y_PO_test.shape}\")\n",
    "print('-'*80)\n",
    "print('-'*80)\n",
    "print(f\"Fake (1) proportion in train (%): {y_PO_train.sum()/len(y_PO_train)*100:.3f}\")\n",
    "print(f\"Fake (1) proportion in test (%): {y_PO_test.sum()/len(y_PO_test)*100:.3f}\")\n",
    "print('-'*80)"
   ]
  },
  {
   "cell_type": "markdown",
   "id": "015ce831",
   "metadata": {},
   "source": [
    "### Merging `Alll`"
   ]
  },
  {
   "cell_type": "markdown",
   "id": "9e3c6d54",
   "metadata": {},
   "source": [
    "#### With `title` feature"
   ]
  },
  {
   "cell_type": "code",
   "execution_count": 28,
   "id": "6b57fe5e",
   "metadata": {},
   "outputs": [
    {
     "name": "stdout",
     "output_type": "stream",
     "text": [
      "--------------------------------------------------------------------------------\n",
      "X_ATI_train shape: (78952,)\n",
      "y_ATI_train shape: (78952,)\n",
      "--------------------------------------------------------------------------------\n",
      "X_ATI_test shape: (19741,)\n",
      "y_ATI_test shape: (19741,)\n",
      "--------------------------------------------------------------------------------\n",
      "--------------------------------------------------------------------------------\n",
      "Fake (1) proportion in train (%): 47.144\n",
      "Fake (1) proportion in test (%): 46.543\n",
      "--------------------------------------------------------------------------------\n",
      "Avg. length of title in TRAIN (in words): 10.0\n",
      "Avg. length of title in TEST (in words): 10.0\n",
      "--------------------------------------------------------------------------------\n",
      "### TRAIN ###\n",
      "--------------------------------------------------------------------------------\n",
      "Politifact ratio: 0.20\n",
      "FakeNewsNET ratio: 0.20\n",
      "Bisaillon ratio: 0.45\n",
      "Poynter ratio: 0.15\n",
      "--------------------------------------------------------------------------------\n",
      "### TEST ###\n",
      "--------------------------------------------------------------------------------\n",
      "Politifact ratio: 0.20\n",
      "FakeNewsNET ratio: 0.20\n",
      "Bisaillon ratio: 0.45\n",
      "Poynter ratio: 0.15\n",
      "--------------------------------------------------------------------------------\n"
     ]
    }
   ],
   "source": [
    "X_ATI_train = pd.concat([X_P_train, X_FNN_train['title'], X_BIS_train['title'], X_PO_train]).sample(frac=1, random_state=42).reset_index(drop=True)\n",
    "y_ATI_train = pd.concat([y_P_train, y_FNN_train, y_BIS_train, y_PO_train]).sample(frac=1, random_state=42).reset_index(drop=True)\n",
    "\n",
    "X_ATI_test = pd.concat([X_P_test, X_FNN_test['title'], X_BIS_test['title'], X_PO_test]).sample(frac=1, random_state=42).reset_index(drop=True)\n",
    "y_ATI_test = pd.concat([y_P_test, y_FNN_test, y_BIS_test, y_PO_test]).sample(frac=1, random_state=42).reset_index(drop=True)\n",
    "\n",
    "print('-'*80)\n",
    "print(f\"X_ATI_train shape: {X_ATI_train.shape}\")\n",
    "print(f\"y_ATI_train shape: {y_ATI_train.shape}\")\n",
    "print('-'*80)\n",
    "print(f\"X_ATI_test shape: {X_ATI_test.shape}\")\n",
    "print(f\"y_ATI_test shape: {y_ATI_test.shape}\")\n",
    "print('-'*80)\n",
    "print('-'*80)\n",
    "print(f\"Fake (1) proportion in train (%): {y_ATI_train.sum()/len(y_ATI_train)*100:.3f}\")\n",
    "print(f\"Fake (1) proportion in test (%): {y_ATI_test.sum()/len(y_ATI_test)*100:.3f}\")\n",
    "print('-'*80)\n",
    "print(f\"Avg. length of title in TRAIN (in words): {np.round(X_ATI_train.map(count_words).mean(), 0)}\")\n",
    "print(f\"Avg. length of title in TEST (in words): {np.round(X_ATI_test.map(count_words).mean(), 0)}\")\n",
    "print('-'*80)\n",
    "print('### TRAIN ###')\n",
    "print('-'*80)\n",
    "print(f\"Politifact ratio: {X_P_train.shape[0]/X_ATI_train.shape[0]:.2f}\")\n",
    "print(f\"FakeNewsNET ratio: {X_FNN_train.shape[0]/X_ATI_train.shape[0]:.2f}\")\n",
    "print(f\"Bisaillon ratio: {X_BIS_train.shape[0]/X_ATI_train.shape[0]:.2f}\")\n",
    "print(f\"Poynter ratio: {X_PO_train.shape[0]/X_ATI_train.shape[0]:.2f}\")\n",
    "print('-'*80)\n",
    "print('### TEST ###')\n",
    "print('-'*80)\n",
    "print(f\"Politifact ratio: {X_P_test.shape[0]/X_ATI_test.shape[0]:.2f}\")\n",
    "print(f\"FakeNewsNET ratio: {X_FNN_test.shape[0]/X_ATI_test.shape[0]:.2f}\")\n",
    "print(f\"Bisaillon ratio: {X_BIS_test.shape[0]/X_ATI_test.shape[0]:.2f}\")\n",
    "print(f\"Poynter ratio: {X_PO_test.shape[0]/X_ATI_test.shape[0]:.2f}\")\n",
    "print('-'*80)"
   ]
  },
  {
   "cell_type": "code",
   "execution_count": 30,
   "id": "bd84c54d",
   "metadata": {},
   "outputs": [
    {
     "data": {
      "text/plain": [
       "(19741,)"
      ]
     },
     "execution_count": 30,
     "metadata": {},
     "output_type": "execute_result"
    }
   ],
   "source": [
    "y_ATI_test.shape"
   ]
  },
  {
   "cell_type": "code",
   "execution_count": 36,
   "id": "8c47c89e",
   "metadata": {},
   "outputs": [
    {
     "data": {
      "text/plain": [
       "(19741,)"
      ]
     },
     "execution_count": 36,
     "metadata": {},
     "output_type": "execute_result"
    }
   ],
   "source": [
    "y_pred = np.ones(shape=y_ATI_test.shape)\n",
    "y_pred.shape"
   ]
  },
  {
   "cell_type": "code",
   "execution_count": 37,
   "id": "438fd849",
   "metadata": {},
   "outputs": [
    {
     "name": "stdout",
     "output_type": "stream",
     "text": [
      "--------------------------------------------------------------------------------\n",
      "Acc: 0.47\n",
      "Recall: 1.00\n",
      "Precision: 0.47\n",
      "f1: 0.64\n",
      "--------------------------------------------------------------------------------\n"
     ]
    }
   ],
   "source": [
    "binary_metrics(y_ATI_test, y_pred)"
   ]
  },
  {
   "cell_type": "code",
   "execution_count": null,
   "id": "08d8c044",
   "metadata": {},
   "outputs": [],
   "source": [
    "def binary_metrics(y_test, y_pred):\n",
    "    print('-'*80)\n",
    "    print('Acc: {:.2f}'.format(accuracy_score(y_test, y_pred)))\n",
    "    print('Recall: {:.2f}'.format(recall_score(y_test, y_pred)))\n",
    "    print('Precision: {:.2f}'.format(precision_score(y_test, y_pred)))\n",
    "    print('f1: {:.2f}'.format(f1_score(y_test, y_pred)))\n",
    "    print('-'*80)\n"
   ]
  },
  {
   "cell_type": "code",
   "execution_count": null,
   "id": "d7fcea4e",
   "metadata": {},
   "outputs": [],
   "source": []
  },
  {
   "cell_type": "markdown",
   "id": "9ce912ea",
   "metadata": {},
   "source": [
    "#### with `text` feature"
   ]
  },
  {
   "cell_type": "code",
   "execution_count": 21,
   "id": "311d2f19",
   "metadata": {},
   "outputs": [
    {
     "name": "stdout",
     "output_type": "stream",
     "text": [
      "--------------------------------------------------------------------------------\n",
      "X_ATE_train shape: (78952,)\n",
      "y_ATE_train shape: (78952,)\n",
      "--------------------------------------------------------------------------------\n",
      "X_ATE_test shape: (19741,)\n",
      "y_ATE_test shape: (19741,)\n",
      "--------------------------------------------------------------------------------\n",
      "Avg. length of text in TRAIN (in words): 174.0\n",
      "Avg. length of text in TEST (in words): 177.0\n",
      "--------------------------------------------------------------------------------\n"
     ]
    }
   ],
   "source": [
    "X_ATE_train = pd.concat([X_P_train, X_FNN_train['text'], X_BIS_train['text'], X_PO_train]).sample(frac=1, random_state=42).reset_index(drop=True)\n",
    "y_ATE_train = pd.concat([y_P_train, y_FNN_train, y_BIS_train, y_PO_train]).sample(frac=1, random_state=42).reset_index(drop=True)\n",
    "\n",
    "X_ATE_test = pd.concat([X_P_test, X_FNN_test['text'], X_BIS_test['text'], X_PO_test]).sample(frac=1, random_state=42).reset_index(drop=True)\n",
    "y_ATE_test = pd.concat([y_P_test, y_FNN_test, y_BIS_test, y_PO_test]).sample(frac=1, random_state=42).reset_index(drop=True)\n",
    "\n",
    "print('-'*80)\n",
    "print(f\"X_ATE_train shape: {X_ATE_train.shape}\")\n",
    "print(f\"y_ATE_train shape: {y_ATE_train.shape}\")\n",
    "print('-'*80)\n",
    "print(f\"X_ATE_test shape: {X_ATE_test.shape}\")\n",
    "print(f\"y_ATE_test shape: {y_ATE_test.shape}\")\n",
    "print('-'*80)\n",
    "print(f\"Avg. length of text in TRAIN (in words): {np.round(X_ATE_train.map(count_words).mean(), 0)}\")\n",
    "print(f\"Avg. length of text in TEST (in words): {np.round(X_ATE_test.map(count_words).mean(), 0)}\")\n",
    "print('-'*80)"
   ]
  },
  {
   "cell_type": "markdown",
   "id": "gHrHg3bzmUN9",
   "metadata": {
    "heading_collapsed": true,
    "id": "gHrHg3bzmUN9"
   },
   "source": [
    "## `Politifact`"
   ]
  },
  {
   "cell_type": "markdown",
   "id": "94b4beeb",
   "metadata": {
    "hidden": true
   },
   "source": [
    "### Preprocessing"
   ]
  },
  {
   "cell_type": "code",
   "execution_count": 22,
   "id": "AqfGJOoPGwcj",
   "metadata": {
    "colab": {
     "base_uri": "https://localhost:8080/"
    },
    "executionInfo": {
     "elapsed": 1334,
     "status": "ok",
     "timestamp": 1630050489099,
     "user": {
      "displayName": "Julien Seguy",
      "photoUrl": "",
      "userId": "07351507381529939348"
     },
     "user_tz": -480
    },
    "hidden": true,
    "id": "AqfGJOoPGwcj",
    "outputId": "f4d75b7c-f64e-468b-f8a0-409a674eecab"
   },
   "outputs": [
    {
     "name": "stdout",
     "output_type": "stream",
     "text": [
      "--------------------------------------------------------------------------------\n",
      "X_P_train_vec shape: (15860, 12692)\n",
      "X_P_test_vec shape: (3966, 12692)\n",
      "--------------------------------------------------------------------------------\n",
      "Index(['aa', 'aaa', 'aaron', 'aarp', 'ab', 'aba', 'abaco', 'abandoned',\n",
      "       'abbas', 'abbott',\n",
      "       ...\n",
      "       'zoning', 'zoo', 'zoom', 'zpass', 'zuber', 'zucker', 'zuckerberg',\n",
      "       'zyphr', 'único', 'ḍozen'],\n",
      "      dtype='object', length=12692)\n",
      "--------------------------------------------------------------------------------\n"
     ]
    }
   ],
   "source": [
    "vectorizer_P = TfidfVectorizer()\n",
    "X_P_train_vec = vectorizer_P.fit_transform(X_P_train)\n",
    "X_P_test_vec = vectorizer_P.transform(X_P_test)\n",
    "\n",
    "X_P_train_vec_df = pd.DataFrame(X_P_train_vec.toarray(), columns = vectorizer_P.get_feature_names())\n",
    "\n",
    "print('-'*80)\n",
    "print(f\"X_P_train_vec shape: {X_P_train_vec.shape}\")\n",
    "print(f\"X_P_test_vec shape: {X_P_test_vec.shape}\")\n",
    "print('-'*80)\n",
    "print(X_P_train_vec_df.columns)\n",
    "print('-'*80)"
   ]
  },
  {
   "cell_type": "markdown",
   "id": "9ueZ-2tMlvYR",
   "metadata": {
    "hidden": true,
    "id": "9ueZ-2tMlvYR"
   },
   "source": [
    "### Logistic Regression"
   ]
  },
  {
   "cell_type": "code",
   "execution_count": 23,
   "id": "SOwnruXKlueM",
   "metadata": {
    "colab": {
     "base_uri": "https://localhost:8080/",
     "height": 962
    },
    "executionInfo": {
     "elapsed": 35993,
     "status": "ok",
     "timestamp": 1630051277205,
     "user": {
      "displayName": "Julien Seguy",
      "photoUrl": "",
      "userId": "07351507381529939348"
     },
     "user_tz": -480
    },
    "hidden": true,
    "id": "SOwnruXKlueM",
    "outputId": "57f05713-5ef2-40d9-a4f4-49a7ade9642a"
   },
   "outputs": [],
   "source": [
    "# log_model = LogisticRegression(max_iter=1000, n_jobs=-1)\n",
    "# acc, recall, precision, f1 = get_scores(log_model, 'Logistic Reg', X_P_train_vec, y_P_train, X_P_test_vec, y_P_test)\n",
    "\n",
    "# plot_confusion_matrix(log_model, X_P_test_vec, y_P_test, values_format='d');\n",
    "\n",
    "# plot_learning_curve(log_model, 'Logistic Reg', X_P_train_vec, y_P_train)"
   ]
  },
  {
   "cell_type": "markdown",
   "id": "734c9e78",
   "metadata": {
    "hidden": true
   },
   "source": [
    "### Logistic Regression - Fine-Tuning"
   ]
  },
  {
   "cell_type": "code",
   "execution_count": 24,
   "id": "c344f288",
   "metadata": {
    "hidden": true
   },
   "outputs": [],
   "source": [
    "# pipeline = Pipeline([\n",
    "#     ('tfidf', TfidfVectorizer()),\n",
    "#     ('log_reg', LogisticRegression(max_iter=1000)),\n",
    "# ])\n",
    "\n",
    "# parameters = {\n",
    "#     'tfidf__ngram_range': ((1, 1), (1, 2), (2, 2), (1, 3)),\n",
    "# #     'tfidf__min_df': (0.05, 0.1),\n",
    "#     'tfidf__max_df': (0.75, 1),\n",
    "#     'log_reg__C': (0.01, 0.1, 1, 10)\n",
    "# }\n",
    "\n",
    "# lg_grid_search = GridSearchCV(pipeline, \n",
    "#                            parameters, \n",
    "#                            n_jobs=-1, \n",
    "#                            scoring=\"accuracy\", \n",
    "#                            refit=True, \n",
    "#                            cv=5,\n",
    "#                            verbose=1)\n",
    "\n",
    "# lg_grid_search.fit(X_P_train, y_P_train)\n",
    "\n",
    "# print('-'*80)\n",
    "# print(f\"Best parameters: {lg_grid_search.best_params_}\")\n",
    "# print('-'*80)"
   ]
  },
  {
   "cell_type": "code",
   "execution_count": 25,
   "id": "a57f4e1b",
   "metadata": {
    "hidden": true
   },
   "outputs": [],
   "source": [
    "# acc, recall, precision, f1 = get_scores(lg_grid_search.best_estimator_, 'Log Reg - FT', X_P_train, y_P_train, X_P_test, y_P_test)\n",
    "\n",
    "# plot_confusion_matrix(lg_grid_search.best_estimator_, X_P_test, y_P_test, values_format='d');"
   ]
  },
  {
   "cell_type": "markdown",
   "id": "RNiHqRowof4C",
   "metadata": {
    "hidden": true,
    "id": "RNiHqRowof4C"
   },
   "source": [
    "### Naive Bayes"
   ]
  },
  {
   "cell_type": "code",
   "execution_count": 26,
   "id": "0-pVBSYEmELi",
   "metadata": {
    "colab": {
     "base_uri": "https://localhost:8080/",
     "height": 962
    },
    "executionInfo": {
     "elapsed": 1369,
     "status": "ok",
     "timestamp": 1630051323404,
     "user": {
      "displayName": "Julien Seguy",
      "photoUrl": "",
      "userId": "07351507381529939348"
     },
     "user_tz": -480
    },
    "hidden": true,
    "id": "0-pVBSYEmELi",
    "outputId": "39258b02-ea66-49b1-d5de-7d298fbe8141"
   },
   "outputs": [
    {
     "name": "stdout",
     "output_type": "stream",
     "text": [
      "--------------------------------------------------------------------------------\n",
      "Naive Bayes - CV scores: \n",
      "--------------------------------------------------------------------------------\n",
      "Acc : 0.65\n",
      "Recall: 0.70\n",
      "Precision: 0.67\n",
      "f1: 0.69\n",
      "--------------------------------------------------------------------------------\n",
      "Naive Bayes - test scores: \n",
      "--------------------------------------------------------------------------------\n",
      "Acc: 0.65\n",
      "Recall: 0.69\n",
      "Precision: 0.67\n",
      "f1: 0.68\n",
      "--------------------------------------------------------------------------------\n"
     ]
    },
    {
     "data": {
      "image/png": "[encoded data removed]",
      "text/plain": [
       "<Figure size 864x432 with 2 Axes>"
      ]
     },
     "metadata": {
      "needs_background": "light"
     },
     "output_type": "display_data"
    },
    {
     "data": {
      "image/png": "[encoded data removed]",
      "text/plain": [
       "<Figure size 576x360 with 1 Axes>"
      ]
     },
     "metadata": {
      "needs_background": "light"
     },
     "output_type": "display_data"
    }
   ],
   "source": [
    "nb_model = MultinomialNB()\n",
    "acc, recall, precision, f1 = get_scores(nb_model, 'Naive Bayes', X_P_train_vec, y_P_train, X_P_test_vec, y_P_test)\n",
    "\n",
    "plot_confusion_matrix(nb_model, X_P_test_vec, y_P_test, values_format='d');\n",
    "\n",
    "plot_learning_curve(nb_model, 'Naive Bayes', X_P_train_vec, y_P_train)"
   ]
  },
  {
   "cell_type": "markdown",
   "id": "d0fadf5d",
   "metadata": {
    "hidden": true
   },
   "source": [
    "### Naive Bayes - Fine-Tuning"
   ]
  },
  {
   "cell_type": "code",
   "execution_count": 31,
   "id": "21c68eda",
   "metadata": {
    "hidden": true
   },
   "outputs": [
    {
     "name": "stdout",
     "output_type": "stream",
     "text": [
      "Fitting 5 folds for each of 24 candidates, totalling 120 fits\n",
      "--------------------------------------------------------------------------------\n",
      "Best score: 0.6519546027742751\n",
      "Best parameters: {'nb__alpha': 1, 'tfidf__max_df': 0.75, 'tfidf__ngram_range': (1, 2)}\n",
      "--------------------------------------------------------------------------------\n"
     ]
    }
   ],
   "source": [
    "pipeline = Pipeline([\n",
    "    ('tfidf', TfidfVectorizer()),\n",
    "    ('nb', MultinomialNB()),\n",
    "])\n",
    "\n",
    "parameters = {\n",
    "#     'tfidf__ngram_range': ((1, 1), (1, 2), (2, 2), (1, 3)),\n",
    "    'tfidf__ngram_range': ((1, 1), (1, 2), (2, 2)),\n",
    "#     'tfidf__min_df': (0.01, 0.02),\n",
    "    'tfidf__max_df': (0.75, 1),\n",
    "#     'tfidf__max_features': (None, 2000, 10000),\n",
    "    'nb__alpha': (0.01, 0.1, 1, 10)\n",
    "}\n",
    "\n",
    "nb_grid_search = GridSearchCV(pipeline, \n",
    "                           parameters, \n",
    "                           n_jobs=-1, \n",
    "                           scoring=\"accuracy\", \n",
    "                           refit=True, \n",
    "                           cv=5,\n",
    "                           verbose=1)\n",
    "\n",
    "nb_grid_search.fit(X_P_train, y_P_train)\n",
    "\n",
    "print('-'*80)\n",
    "print(f\"Best score: {nb_grid_search.best_score_}\")\n",
    "print(f\"Best parameters: {nb_grid_search.best_params_}\")\n",
    "print('-'*80)"
   ]
  },
  {
   "cell_type": "code",
   "execution_count": 32,
   "id": "4ce06072",
   "metadata": {
    "hidden": true
   },
   "outputs": [
    {
     "name": "stdout",
     "output_type": "stream",
     "text": [
      "--------------------------------------------------------------------------------\n",
      "NB - FT - CV scores: \n",
      "--------------------------------------------------------------------------------\n",
      "Acc : 0.65\n",
      "Recall: 0.76\n",
      "Precision: 0.65\n",
      "f1: 0.70\n",
      "--------------------------------------------------------------------------------\n",
      "NB - FT - test scores: \n",
      "--------------------------------------------------------------------------------\n",
      "Acc: 0.66\n",
      "Recall: 0.76\n",
      "Precision: 0.66\n",
      "f1: 0.70\n",
      "--------------------------------------------------------------------------------\n"
     ]
    },
    {
     "data": {
      "image/png": "[encoded data removed]",
      "text/plain": [
       "<Figure size 864x432 with 2 Axes>"
      ]
     },
     "metadata": {
      "needs_background": "light"
     },
     "output_type": "display_data"
    }
   ],
   "source": [
    "acc, recall, precision, f1 = get_scores(nb_grid_search.best_estimator_, 'NB - FT', X_P_train, y_P_train, X_P_test, y_P_test)\n",
    "\n",
    "plot_confusion_matrix(nb_grid_search.best_estimator_, X_P_test, y_P_test, values_format='d');"
   ]
  },
  {
   "cell_type": "markdown",
   "id": "KMkKlT9MomhX",
   "metadata": {
    "heading_collapsed": true,
    "hidden": true,
    "id": "KMkKlT9MomhX"
   },
   "source": [
    "### SVM"
   ]
  },
  {
   "cell_type": "code",
   "execution_count": null,
   "id": "zING8wSemYTV",
   "metadata": {
    "colab": {
     "base_uri": "https://localhost:8080/",
     "height": 1000
    },
    "executionInfo": {
     "elapsed": 41154,
     "status": "error",
     "timestamp": 1630052434805,
     "user": {
      "displayName": "Julien Seguy",
      "photoUrl": "",
      "userId": "07351507381529939348"
     },
     "user_tz": -480
    },
    "hidden": true,
    "id": "zING8wSemYTV",
    "outputId": "baa90d1e-30c0-4ee8-fc3b-0042a387d46f"
   },
   "outputs": [],
   "source": [
    "# svm_model = SVC()\n",
    "# acc, recall, precision, f1 = get_scores(svm_model, 'SVM', X_P_train_vec, y_P_train, X_P_test_vec, y_P_test)\n",
    "\n",
    "# plot_confusion_matrix(svm_model, X_P_test_vec, y_P_test, values_format='d');\n",
    "\n",
    "# # plot_learning_curve(svm_model, 'SVM', X_train_vec, y_train)"
   ]
  },
  {
   "cell_type": "markdown",
   "id": "hC2IhakzopBB",
   "metadata": {
    "heading_collapsed": true,
    "hidden": true,
    "id": "hC2IhakzopBB"
   },
   "source": [
    "### Random Forest"
   ]
  },
  {
   "cell_type": "code",
   "execution_count": null,
   "id": "4CEmUVpmd5Wp",
   "metadata": {
    "hidden": true,
    "id": "4CEmUVpmd5Wp"
   },
   "outputs": [],
   "source": [
    "# forest_model = RandomForestClassifier(n_estimators = 100, random_state = 42)\n",
    "# acc, recall, precision, f1 = get_scores(forest_model, 'RandomForest', X_train_vec, y_train, X_test_vec, y_test)\n",
    "\n",
    "# plot_confusion_matrix(forest_model, X_test_vec, y_test, values_format='d');\n",
    "\n",
    "# # plot_learning_curve(forest_model, 'RandomForest', X_train_vec, y_train)"
   ]
  },
  {
   "cell_type": "markdown",
   "id": "fb47b846",
   "metadata": {
    "heading_collapsed": true,
    "hidden": true,
    "id": "im1MyFURgiyw"
   },
   "source": [
    "### Saving the model"
   ]
  },
  {
   "cell_type": "code",
   "execution_count": 33,
   "id": "d4e4577f",
   "metadata": {
    "hidden": true
   },
   "outputs": [
    {
     "name": "stdout",
     "output_type": "stream",
     "text": [
      "\u001b[32m--------------------------------------------------------------------------------\u001b[0m\n",
      "\u001b[32m../raw_data/P_model.joblib saved locally\u001b[0m\n",
      "\u001b[32m--------------------------------------------------------------------------------\u001b[0m\n"
     ]
    }
   ],
   "source": [
    "model_name = '../raw_data/P_model.joblib'\n",
    "save_model(nb_grid_search.best_estimator_, model_name)"
   ]
  },
  {
   "cell_type": "markdown",
   "id": "52000849",
   "metadata": {
    "heading_collapsed": true,
    "hidden": true
   },
   "source": [
    "### Uploading the model"
   ]
  },
  {
   "cell_type": "code",
   "execution_count": 34,
   "id": "5acde824",
   "metadata": {
    "hidden": true
   },
   "outputs": [],
   "source": [
    "model = get_model(model_name)"
   ]
  },
  {
   "cell_type": "code",
   "execution_count": 35,
   "id": "fa29be1d",
   "metadata": {
    "hidden": true
   },
   "outputs": [
    {
     "name": "stdout",
     "output_type": "stream",
     "text": [
      "--------------------------------------------------------------------------------\n",
      "NB - FT - CV scores: \n",
      "--------------------------------------------------------------------------------\n",
      "Acc : 0.65\n",
      "Recall: 0.76\n",
      "Precision: 0.65\n",
      "f1: 0.70\n",
      "--------------------------------------------------------------------------------\n",
      "NB - FT - test scores: \n",
      "--------------------------------------------------------------------------------\n",
      "Acc: 0.66\n",
      "Recall: 0.76\n",
      "Precision: 0.66\n",
      "f1: 0.70\n",
      "--------------------------------------------------------------------------------\n"
     ]
    },
    {
     "data": {
      "image/png": "[encoded data removed]",
      "text/plain": [
       "<Figure size 864x432 with 2 Axes>"
      ]
     },
     "metadata": {
      "needs_background": "light"
     },
     "output_type": "display_data"
    }
   ],
   "source": [
    "acc, recall, precision, f1 = get_scores(model, 'NB - FT', X_P_train, y_P_train, X_P_test, y_P_test)\n",
    "\n",
    "plot_confusion_matrix(model, X_P_test, y_P_test, values_format='d');"
   ]
  },
  {
   "cell_type": "markdown",
   "id": "7bb69a78",
   "metadata": {
    "heading_collapsed": true
   },
   "source": [
    "## `FakeNewsNET`"
   ]
  },
  {
   "cell_type": "markdown",
   "id": "cc677227",
   "metadata": {
    "heading_collapsed": true,
    "hidden": true
   },
   "source": [
    "### `Title` version"
   ]
  },
  {
   "cell_type": "markdown",
   "id": "e008e142",
   "metadata": {
    "heading_collapsed": true,
    "hidden": true
   },
   "source": [
    "#### Preprocessing"
   ]
  },
  {
   "cell_type": "code",
   "execution_count": 43,
   "id": "2449c574",
   "metadata": {
    "hidden": true
   },
   "outputs": [
    {
     "name": "stdout",
     "output_type": "stream",
     "text": [
      "--------------------------------------------------------------------------------\n",
      "X_FNN_train_vec shape: (15424, 12773)\n",
      "X_FNN_test_vec shape: (3857, 12773)\n",
      "--------------------------------------------------------------------------------\n",
      "   aaliyah  aaron   ab  abandon  abasolo  abba  abbey  abbi  abbie  abbott  \\\n",
      "0      0.0    0.0  0.0      0.0      0.0   0.0    0.0   0.0    0.0     0.0   \n",
      "1      0.0    0.0  0.0      0.0      0.0   0.0    0.0   0.0    0.0     0.0   \n",
      "2      0.0    0.0  0.0      0.0      0.0   0.0    0.0   0.0    0.0     0.0   \n",
      "3      0.0    0.0  0.0      0.0      0.0   0.0    0.0   0.0    0.0     0.0   \n",
      "4      0.0    0.0  0.0      0.0      0.0   0.0    0.0   0.0    0.0     0.0   \n",
      "\n",
      "   ...  букмекерская  вин  контора  монако  пернелл  питт  принцессы  ради  \\\n",
      "0  ...           0.0  0.0      0.0     0.0      0.0   0.0        0.0   0.0   \n",
      "1  ...           0.0  0.0      0.0     0.0      0.0   0.0        0.0   0.0   \n",
      "2  ...           0.0  0.0      0.0     0.0      0.0   0.0        0.0   0.0   \n",
      "3  ...           0.0  0.0      0.0     0.0      0.0   0.0        0.0   0.0   \n",
      "4  ...           0.0  0.0      0.0     0.0      0.0   0.0        0.0   0.0   \n",
      "\n",
      "   сми  эллу  \n",
      "0  0.0   0.0  \n",
      "1  0.0   0.0  \n",
      "2  0.0   0.0  \n",
      "3  0.0   0.0  \n",
      "4  0.0   0.0  \n",
      "\n",
      "[5 rows x 12773 columns]\n",
      "--------------------------------------------------------------------------------\n"
     ]
    }
   ],
   "source": [
    "vectorizer_FTI = TfidfVectorizer()\n",
    "X_FNN_train_vec = vectorizer_FTI.fit_transform(X_FNN_train['title'])\n",
    "X_FNN_test_vec = vectorizer_FTI.transform(X_FNN_test['title'])\n",
    "\n",
    "X_FNN_train_vec_df = pd.DataFrame(X_FNN_train_vec.toarray(), columns = vectorizer_FTI.get_feature_names())\n",
    "\n",
    "print('-'*80)\n",
    "print(f\"X_FNN_train_vec shape: {X_FNN_train_vec.shape}\")\n",
    "print(f\"X_FNN_test_vec shape: {X_FNN_test_vec.shape}\")\n",
    "print('-'*80)\n",
    "print(X_FNN_train_vec_df.head())\n",
    "print('-'*80)"
   ]
  },
  {
   "cell_type": "markdown",
   "id": "8c767569",
   "metadata": {
    "heading_collapsed": true,
    "hidden": true
   },
   "source": [
    "#### Naive Bayes"
   ]
  },
  {
   "cell_type": "code",
   "execution_count": 44,
   "id": "b2f54c5d",
   "metadata": {
    "hidden": true
   },
   "outputs": [
    {
     "name": "stderr",
     "output_type": "stream",
     "text": [
      "/Users/julienseguy/.pyenv/versions/3.8.6/envs/StopFAIke/lib/python3.8/site-packages/joblib/externals/loky/process_executor.py:688: UserWarning: A worker stopped while some jobs were given to the executor. This can be caused by a too short worker timeout or by a memory leak.\n",
      "  warnings.warn(\n"
     ]
    },
    {
     "name": "stdout",
     "output_type": "stream",
     "text": [
      "--------------------------------------------------------------------------------\n",
      "Naive Bayes - CV scores: \n",
      "--------------------------------------------------------------------------------\n",
      "Acc : 0.80\n",
      "Recall: 0.25\n",
      "Precision: 0.84\n",
      "f1: 0.39\n",
      "--------------------------------------------------------------------------------\n",
      "Naive Bayes - test scores: \n",
      "--------------------------------------------------------------------------------\n",
      "Acc: 0.82\n",
      "Recall: 0.29\n",
      "Precision: 0.81\n",
      "f1: 0.43\n",
      "--------------------------------------------------------------------------------\n"
     ]
    },
    {
     "data": {
      "image/png": "[encoded data removed]",
      "text/plain": [
       "<Figure size 864x432 with 2 Axes>"
      ]
     },
     "metadata": {
      "needs_background": "light"
     },
     "output_type": "display_data"
    },
    {
     "data": {
      "image/png": "[encoded data removed]",
      "text/plain": [
       "<Figure size 576x360 with 1 Axes>"
      ]
     },
     "metadata": {
      "needs_background": "light"
     },
     "output_type": "display_data"
    }
   ],
   "source": [
    "nb_model = MultinomialNB()\n",
    "acc, recall, precision, f1 = get_scores(nb_model, 'Naive Bayes', X_FNN_train_vec, y_FNN_train, X_FNN_test_vec, y_FNN_test)\n",
    "\n",
    "plot_confusion_matrix(nb_model, X_FNN_test_vec, y_FNN_test, values_format='d');\n",
    "\n",
    "plot_learning_curve(nb_model, 'Naive Bayes', X_FNN_train_vec, y_FNN_train)"
   ]
  },
  {
   "cell_type": "markdown",
   "id": "54ed4227",
   "metadata": {
    "heading_collapsed": true,
    "hidden": true
   },
   "source": [
    "#### Naives Bayes - Fine Tuning"
   ]
  },
  {
   "cell_type": "code",
   "execution_count": 46,
   "id": "78692612",
   "metadata": {
    "hidden": true
   },
   "outputs": [
    {
     "name": "stdout",
     "output_type": "stream",
     "text": [
      "Fitting 5 folds for each of 24 candidates, totalling 120 fits\n",
      "--------------------------------------------------------------------------------\n",
      "Best parameters: {'nb__alpha': 0.1, 'tfidf__max_df': 0.75, 'tfidf__ngram_range': (1, 2)}\n",
      "--------------------------------------------------------------------------------\n"
     ]
    }
   ],
   "source": [
    "pipeline = Pipeline([\n",
    "    ('tfidf', TfidfVectorizer()),\n",
    "    ('nb', MultinomialNB()),\n",
    "])\n",
    "\n",
    "parameters = {\n",
    "    'tfidf__ngram_range': ((1, 1), (1, 2), (2, 2)),\n",
    "#     'tfidf__min_df': (0.05, 0.1),\n",
    "    'tfidf__max_df': (0.75, 1),\n",
    "    'nb__alpha': (0.01, 0.1, 1, 10)\n",
    "}\n",
    "\n",
    "nb_grid_search = GridSearchCV(pipeline, \n",
    "                           parameters, \n",
    "                           n_jobs=-1, \n",
    "                           scoring=\"accuracy\", \n",
    "                           refit=True, \n",
    "                           cv=5,\n",
    "                           verbose=1)\n",
    "\n",
    "nb_grid_search.fit(X_FNN_train['title'], y_FNN_train)\n",
    "\n",
    "print('-'*80)\n",
    "print(f\"Best parameters: {nb_grid_search.best_params_}\")\n",
    "print('-'*80)"
   ]
  },
  {
   "cell_type": "code",
   "execution_count": 47,
   "id": "e2e614b6",
   "metadata": {
    "hidden": true
   },
   "outputs": [
    {
     "name": "stdout",
     "output_type": "stream",
     "text": [
      "--------------------------------------------------------------------------------\n",
      "NB - FT - CV scores: \n",
      "--------------------------------------------------------------------------------\n",
      "Acc : 0.82\n",
      "Recall: 0.45\n",
      "Precision: 0.72\n",
      "f1: 0.55\n",
      "--------------------------------------------------------------------------------\n",
      "NB - FT - test scores: \n",
      "--------------------------------------------------------------------------------\n",
      "Acc: 0.83\n",
      "Recall: 0.49\n",
      "Precision: 0.71\n",
      "f1: 0.58\n",
      "--------------------------------------------------------------------------------\n"
     ]
    },
    {
     "data": {
      "image/png": "[encoded data removed]",
      "text/plain": [
       "<Figure size 864x432 with 2 Axes>"
      ]
     },
     "metadata": {
      "needs_background": "light"
     },
     "output_type": "display_data"
    }
   ],
   "source": [
    "acc, recall, precision, f1 = get_scores(nb_grid_search.best_estimator_, 'NB - FT', X_FNN_train['title'], y_FNN_train, X_FNN_test['title'], y_FNN_test)\n",
    "\n",
    "plot_confusion_matrix(nb_grid_search.best_estimator_, X_FNN_test['title'], y_FNN_test, values_format='d');"
   ]
  },
  {
   "cell_type": "markdown",
   "id": "e376bad5",
   "metadata": {
    "heading_collapsed": true,
    "hidden": true
   },
   "source": [
    "#### Saving the model"
   ]
  },
  {
   "cell_type": "code",
   "execution_count": null,
   "id": "1a7d3f40",
   "metadata": {
    "hidden": true
   },
   "outputs": [],
   "source": [
    "model_name = '../raw_data/FTI_model.joblib'\n",
    "save_model(nb_grid_search.best_estimator_, model_name)"
   ]
  },
  {
   "cell_type": "markdown",
   "id": "ce908bad",
   "metadata": {
    "heading_collapsed": true,
    "hidden": true
   },
   "source": [
    "#### Upload the model"
   ]
  },
  {
   "cell_type": "code",
   "execution_count": 48,
   "id": "30aee880",
   "metadata": {
    "hidden": true
   },
   "outputs": [
    {
     "name": "stdout",
     "output_type": "stream",
     "text": [
      "--------------------------------------------------------------------------------\n",
      "NB - FT - CV scores: \n",
      "--------------------------------------------------------------------------------\n",
      "Acc : 0.79\n",
      "Recall: 0.17\n",
      "Precision: 0.89\n",
      "f1: 0.29\n",
      "--------------------------------------------------------------------------------\n",
      "NB - FT - test scores: \n",
      "--------------------------------------------------------------------------------\n",
      "Acc: 0.80\n",
      "Recall: 0.20\n",
      "Precision: 0.85\n",
      "f1: 0.32\n",
      "--------------------------------------------------------------------------------\n"
     ]
    },
    {
     "data": {
      "image/png": "[encoded data removed]",
      "text/plain": [
       "<Figure size 864x432 with 2 Axes>"
      ]
     },
     "metadata": {
      "needs_background": "light"
     },
     "output_type": "display_data"
    }
   ],
   "source": [
    "model = get_model(model_name)\n",
    "\n",
    "acc, recall, precision, f1 = get_scores(model, 'NB - FT', X_FNN_train['title'], y_FNN_train, X_FNN_test['title'], y_FNN_test)\n",
    "\n",
    "plot_confusion_matrix(model, X_FNN_test['title'], y_FNN_test, values_format='d');"
   ]
  },
  {
   "cell_type": "markdown",
   "id": "662c0a9f",
   "metadata": {
    "heading_collapsed": true,
    "hidden": true
   },
   "source": [
    "### `Text` version"
   ]
  },
  {
   "cell_type": "markdown",
   "id": "7ee52c5c",
   "metadata": {
    "heading_collapsed": true,
    "hidden": true
   },
   "source": [
    "#### Preprocessing"
   ]
  },
  {
   "cell_type": "code",
   "execution_count": 49,
   "id": "db505452",
   "metadata": {
    "hidden": true
   },
   "outputs": [
    {
     "name": "stdout",
     "output_type": "stream",
     "text": [
      "--------------------------------------------------------------------------------\n",
      "X_FNN_train_vec shape: (15424, 86170)\n",
      "X_FNN_test_vec shape: (3857, 86170)\n",
      "--------------------------------------------------------------------------------\n",
      "    aa  aaa  aaaaaaghhh  aaaaand  aaaahahahahaha  aaaand  aaaannnd  aaahh  \\\n",
      "0  0.0  0.0         0.0      0.0             0.0     0.0       0.0    0.0   \n",
      "1  0.0  0.0         0.0      0.0             0.0     0.0       0.0    0.0   \n",
      "2  0.0  0.0         0.0      0.0             0.0     0.0       0.0    0.0   \n",
      "3  0.0  0.0         0.0      0.0             0.0     0.0       0.0    0.0   \n",
      "4  0.0  0.0         0.0      0.0             0.0     0.0       0.0    0.0   \n",
      "\n",
      "   aaall  aaand  ...  ﬁnds  𐍅𐌹𐌻𐌾𐌰  𝐟𝐚𝐭𝐭𝐚  𝐩𝐞𝐫𝐫𝐲  𝐩𝐮𝐬𝐬  𝐭𝐡𝐞  𝓲𝓽𝔃𝓮𝓵  𝕔𝕒𝕣𝕖𝕝𝕚𝕤𝕤𝕖  \\\n",
      "0    0.0    0.0  ...   0.0    0.0    0.0    0.0   0.0  0.0    0.0        0.0   \n",
      "1    0.0    0.0  ...   0.0    0.0    0.0    0.0   0.0  0.0    0.0        0.0   \n",
      "2    0.0    0.0  ...   0.0    0.0    0.0    0.0   0.0  0.0    0.0        0.0   \n",
      "3    0.0    0.0  ...   0.0    0.0    0.0    0.0   0.0  0.0    0.0        0.0   \n",
      "4    0.0    0.0  ...   0.0    0.0    0.0    0.0   0.0  0.0    0.0        0.0   \n",
      "\n",
      "    𝕕𝕖  𝕖𝕒𝕦  \n",
      "0  0.0  0.0  \n",
      "1  0.0  0.0  \n",
      "2  0.0  0.0  \n",
      "3  0.0  0.0  \n",
      "4  0.0  0.0  \n",
      "\n",
      "[5 rows x 86170 columns]\n",
      "--------------------------------------------------------------------------------\n"
     ]
    }
   ],
   "source": [
    "vectorizer_FTE = TfidfVectorizer()\n",
    "X_FNN_train_vec = vectorizer_FTE.fit_transform(X_FNN_train['text'])\n",
    "X_FNN_test_vec = vectorizer_FTE.transform(X_FNN_test['text'])\n",
    "\n",
    "X_FNN_train_vec_df = pd.DataFrame(X_FNN_train_vec.toarray(), columns = vectorizer_FTE.get_feature_names())\n",
    "\n",
    "print('-'*80)\n",
    "print(f\"X_FNN_train_vec shape: {X_FNN_train_vec.shape}\")\n",
    "print(f\"X_FNN_test_vec shape: {X_FNN_test_vec.shape}\")\n",
    "print('-'*80)\n",
    "print(X_FNN_train_vec_df.head())\n",
    "print('-'*80)"
   ]
  },
  {
   "cell_type": "markdown",
   "id": "13e469fa",
   "metadata": {
    "heading_collapsed": true,
    "hidden": true
   },
   "source": [
    "#### Naive Bayes"
   ]
  },
  {
   "cell_type": "code",
   "execution_count": 50,
   "id": "df8e791b",
   "metadata": {
    "hidden": true
   },
   "outputs": [
    {
     "name": "stdout",
     "output_type": "stream",
     "text": [
      "--------------------------------------------------------------------------------\n",
      "Naive Bayes - CV scores: \n",
      "--------------------------------------------------------------------------------\n",
      "Acc : 0.76\n",
      "Recall: 0.05\n",
      "Precision: 0.94\n",
      "f1: 0.10\n",
      "--------------------------------------------------------------------------------\n",
      "Naive Bayes - test scores: \n",
      "--------------------------------------------------------------------------------\n",
      "Acc: 0.78\n",
      "Recall: 0.06\n",
      "Precision: 0.95\n",
      "f1: 0.12\n",
      "--------------------------------------------------------------------------------\n"
     ]
    },
    {
     "data": {
      "image/png": "[encoded data removed]",
      "text/plain": [
       "<Figure size 864x432 with 2 Axes>"
      ]
     },
     "metadata": {
      "needs_background": "light"
     },
     "output_type": "display_data"
    },
    {
     "data": {
      "image/png": "[encoded data removed]",
      "text/plain": [
       "<Figure size 576x360 with 1 Axes>"
      ]
     },
     "metadata": {
      "needs_background": "light"
     },
     "output_type": "display_data"
    }
   ],
   "source": [
    "nb_model = MultinomialNB()\n",
    "acc, recall, precision, f1 = get_scores(nb_model, 'Naive Bayes', X_FNN_train_vec, y_FNN_train, X_FNN_test_vec, y_FNN_test)\n",
    "\n",
    "plot_confusion_matrix(nb_model, X_FNN_test_vec, y_FNN_test, values_format='d');\n",
    "\n",
    "plot_learning_curve(nb_model, 'Naive Bayes', X_FNN_train_vec, y_FNN_train)"
   ]
  },
  {
   "cell_type": "markdown",
   "id": "3fe5ea97",
   "metadata": {
    "heading_collapsed": true,
    "hidden": true
   },
   "source": [
    "#### Naive Bayes - Fine-Tuning"
   ]
  },
  {
   "cell_type": "code",
   "execution_count": 51,
   "id": "957030ef",
   "metadata": {
    "hidden": true
   },
   "outputs": [
    {
     "name": "stdout",
     "output_type": "stream",
     "text": [
      "Fitting 5 folds for each of 24 candidates, totalling 120 fits\n",
      "--------------------------------------------------------------------------------\n",
      "Best parameters: {'nb__alpha': 0.01, 'tfidf__max_df': 0.75, 'tfidf__ngram_range': (1, 1)}\n",
      "--------------------------------------------------------------------------------\n"
     ]
    }
   ],
   "source": [
    "pipeline = Pipeline([\n",
    "    ('tfidf', TfidfVectorizer()),\n",
    "    ('nb', MultinomialNB()),\n",
    "])\n",
    "\n",
    "parameters = {\n",
    "    'tfidf__ngram_range': ((1, 1), (1, 2), (2, 2)),\n",
    "#     'tfidf__min_df': (0.05, 0.1),\n",
    "    'tfidf__max_df': (0.75, 1),\n",
    "    'nb__alpha': (0.01, 0.1, 1, 10)\n",
    "}\n",
    "\n",
    "nb_grid_search = GridSearchCV(pipeline, \n",
    "                           parameters, \n",
    "                           n_jobs=-1, \n",
    "                           scoring=\"accuracy\", \n",
    "                           refit=True, \n",
    "                           cv=5,\n",
    "                           verbose=1)\n",
    "\n",
    "nb_grid_search.fit(X_FNN_train['text'], y_FNN_train)\n",
    "\n",
    "print('-'*80)\n",
    "print(f\"Best parameters: {nb_grid_search.best_params_}\")\n",
    "print('-'*80)"
   ]
  },
  {
   "cell_type": "code",
   "execution_count": 52,
   "id": "8e6d8072",
   "metadata": {
    "hidden": true
   },
   "outputs": [
    {
     "name": "stdout",
     "output_type": "stream",
     "text": [
      "--------------------------------------------------------------------------------\n",
      "NB - FT - CV scores: \n",
      "--------------------------------------------------------------------------------\n",
      "Acc : 0.84\n",
      "Recall: 0.52\n",
      "Precision: 0.76\n",
      "f1: 0.61\n",
      "--------------------------------------------------------------------------------\n",
      "NB - FT - test scores: \n",
      "--------------------------------------------------------------------------------\n",
      "Acc: 0.82\n",
      "Recall: 0.47\n",
      "Precision: 0.68\n",
      "f1: 0.56\n",
      "--------------------------------------------------------------------------------\n"
     ]
    },
    {
     "data": {
      "image/png": "[encoded data removed]",
      "text/plain": [
       "<Figure size 864x432 with 2 Axes>"
      ]
     },
     "metadata": {
      "needs_background": "light"
     },
     "output_type": "display_data"
    }
   ],
   "source": [
    "acc, recall, precision, f1 = get_scores(nb_grid_search.best_estimator_, 'NB - FT', X_FNN_train['text'], y_FNN_train, X_FNN_test['title'], y_FNN_test)\n",
    "\n",
    "plot_confusion_matrix(nb_grid_search.best_estimator_, X_FNN_test['text'], y_FNN_test, values_format='d');"
   ]
  },
  {
   "cell_type": "markdown",
   "id": "985ee69b",
   "metadata": {
    "heading_collapsed": true,
    "hidden": true
   },
   "source": [
    "#### Saving the model"
   ]
  },
  {
   "cell_type": "code",
   "execution_count": 53,
   "id": "c929a5eb",
   "metadata": {
    "hidden": true
   },
   "outputs": [
    {
     "name": "stdout",
     "output_type": "stream",
     "text": [
      "\u001b[32m--------------------------------------------------------------------------------\u001b[0m\n",
      "\u001b[32m../raw_data/FTE_model.joblib saved locally\u001b[0m\n",
      "\u001b[32m--------------------------------------------------------------------------------\u001b[0m\n"
     ]
    }
   ],
   "source": [
    "model_name = '../raw_data/FTE_model.joblib'\n",
    "save_model(nb_grid_search.best_estimator_, model_name)"
   ]
  },
  {
   "cell_type": "markdown",
   "id": "689c1714",
   "metadata": {
    "heading_collapsed": true,
    "hidden": true
   },
   "source": [
    "#### Uploading the model"
   ]
  },
  {
   "cell_type": "code",
   "execution_count": 54,
   "id": "69cbfbb2",
   "metadata": {
    "hidden": true
   },
   "outputs": [
    {
     "name": "stdout",
     "output_type": "stream",
     "text": [
      "--------------------------------------------------------------------------------\n",
      "NB - FT - CV scores: \n",
      "--------------------------------------------------------------------------------\n",
      "Acc : 0.84\n",
      "Recall: 0.52\n",
      "Precision: 0.76\n",
      "f1: 0.61\n",
      "--------------------------------------------------------------------------------\n",
      "NB - FT - test scores: \n",
      "--------------------------------------------------------------------------------\n",
      "Acc: 0.83\n",
      "Recall: 0.51\n",
      "Precision: 0.71\n",
      "f1: 0.59\n",
      "--------------------------------------------------------------------------------\n"
     ]
    },
    {
     "data": {
      "image/png": "[encoded data removed]",
      "text/plain": [
       "<Figure size 864x432 with 2 Axes>"
      ]
     },
     "metadata": {
      "needs_background": "light"
     },
     "output_type": "display_data"
    }
   ],
   "source": [
    "model = get_model(model_name)\n",
    "\n",
    "acc, recall, precision, f1 = get_scores(model, 'NB - FT', X_FNN_train['text'], y_FNN_train, X_FNN_test['text'], y_FNN_test)\n",
    "\n",
    "plot_confusion_matrix(model, X_FNN_test['text'], y_FNN_test, values_format='d');"
   ]
  },
  {
   "cell_type": "markdown",
   "id": "dd7940af",
   "metadata": {
    "heading_collapsed": true
   },
   "source": [
    "## `Bisaillon`"
   ]
  },
  {
   "cell_type": "markdown",
   "id": "de3e03bd",
   "metadata": {
    "heading_collapsed": true,
    "hidden": true
   },
   "source": [
    "### `Title` version"
   ]
  },
  {
   "cell_type": "markdown",
   "id": "c0d92f3a",
   "metadata": {
    "heading_collapsed": true,
    "hidden": true
   },
   "source": [
    "#### Preprocessing"
   ]
  },
  {
   "cell_type": "code",
   "execution_count": 55,
   "id": "ab063533",
   "metadata": {
    "hidden": true
   },
   "outputs": [
    {
     "name": "stdout",
     "output_type": "stream",
     "text": [
      "--------------------------------------------------------------------------------\n",
      "X_BIS_train_vec shape: (35751, 16430)\n",
      "X_BIS_test_vec shape: (8938, 16430)\n",
      "--------------------------------------------------------------------------------\n",
      "    aa  aar  aardvark  aaron  aarp  abadi  abandon  abandoned  abandoning  \\\n",
      "0  0.0  0.0       0.0    0.0   0.0    0.0      0.0        0.0         0.0   \n",
      "1  0.0  0.0       0.0    0.0   0.0    0.0      0.0        0.0         0.0   \n",
      "2  0.0  0.0       0.0    0.0   0.0    0.0      0.0        0.0         0.0   \n",
      "3  0.0  0.0       0.0    0.0   0.0    0.0      0.0        0.0         0.0   \n",
      "4  0.0  0.0       0.0    0.0   0.0    0.0      0.0        0.0         0.0   \n",
      "\n",
      "   abbas  ...  zor  zschaepe  zucker  zuckerberg  zulia  zuma  zummar  zurich  \\\n",
      "0    0.0  ...  0.0       0.0     0.0         0.0    0.0   0.0     0.0     0.0   \n",
      "1    0.0  ...  0.0       0.0     0.0         0.0    0.0   0.0     0.0     0.0   \n",
      "2    0.0  ...  0.0       0.0     0.0         0.0    0.0   0.0     0.0     0.0   \n",
      "3    0.0  ...  0.0       0.0     0.0         0.0    0.0   0.0     0.0     0.0   \n",
      "4    0.0  ...  0.0       0.0     0.0         0.0    0.0   0.0     0.0     0.0   \n",
      "\n",
      "   état  žižek  \n",
      "0   0.0    0.0  \n",
      "1   0.0    0.0  \n",
      "2   0.0    0.0  \n",
      "3   0.0    0.0  \n",
      "4   0.0    0.0  \n",
      "\n",
      "[5 rows x 16430 columns]\n",
      "--------------------------------------------------------------------------------\n"
     ]
    }
   ],
   "source": [
    "vectorizer_BTI = TfidfVectorizer()\n",
    "X_BIS_train_vec = vectorizer_BTI.fit_transform(X_BIS_train['title'])\n",
    "X_BIS_test_vec = vectorizer_BTI.transform(X_BIS_test['title'])\n",
    "\n",
    "X_BIS_train_vec_df = pd.DataFrame(X_BIS_train_vec.toarray(), columns = vectorizer_BTI.get_feature_names())\n",
    "\n",
    "print('-'*80)\n",
    "print(f\"X_BIS_train_vec shape: {X_BIS_train_vec.shape}\")\n",
    "print(f\"X_BIS_test_vec shape: {X_BIS_test_vec.shape}\")\n",
    "print('-'*80)\n",
    "print(X_BIS_train_vec_df.head())\n",
    "print('-'*80)"
   ]
  },
  {
   "cell_type": "markdown",
   "id": "37596754",
   "metadata": {
    "heading_collapsed": true,
    "hidden": true
   },
   "source": [
    "#### Naive Bayes"
   ]
  },
  {
   "cell_type": "code",
   "execution_count": 56,
   "id": "08b7027e",
   "metadata": {
    "hidden": true
   },
   "outputs": [
    {
     "name": "stdout",
     "output_type": "stream",
     "text": [
      "--------------------------------------------------------------------------------\n",
      "Naive Bayes - CV scores: \n",
      "--------------------------------------------------------------------------------\n",
      "Acc : 0.93\n",
      "Recall: 0.95\n",
      "Precision: 0.92\n",
      "f1: 0.94\n",
      "--------------------------------------------------------------------------------\n",
      "Naive Bayes - test scores: \n",
      "--------------------------------------------------------------------------------\n",
      "Acc: 0.94\n",
      "Recall: 0.96\n",
      "Precision: 0.92\n",
      "f1: 0.94\n",
      "--------------------------------------------------------------------------------\n"
     ]
    },
    {
     "data": {
      "image/png": "[encoded data removed]",
      "text/plain": [
       "<Figure size 864x432 with 2 Axes>"
      ]
     },
     "metadata": {
      "needs_background": "light"
     },
     "output_type": "display_data"
    },
    {
     "data": {
      "image/png": "[encoded data removed]",
      "text/plain": [
       "<Figure size 576x360 with 1 Axes>"
      ]
     },
     "metadata": {
      "needs_background": "light"
     },
     "output_type": "display_data"
    }
   ],
   "source": [
    "nb_model = MultinomialNB()\n",
    "acc, recall, precision, f1 = get_scores(nb_model, 'Naive Bayes', X_BIS_train_vec, y_BIS_train, X_BIS_test_vec, y_BIS_test)\n",
    "\n",
    "plot_confusion_matrix(nb_model, X_BIS_test_vec, y_BIS_test, values_format='d');\n",
    "\n",
    "plot_learning_curve(nb_model, 'Naive Bayes', X_BIS_train_vec, y_BIS_train)"
   ]
  },
  {
   "cell_type": "markdown",
   "id": "3ca7cc62",
   "metadata": {
    "heading_collapsed": true,
    "hidden": true
   },
   "source": [
    "#### Naive Bayes - Fine-Tuning"
   ]
  },
  {
   "cell_type": "code",
   "execution_count": 57,
   "id": "3e7d3831",
   "metadata": {
    "hidden": true
   },
   "outputs": [
    {
     "name": "stdout",
     "output_type": "stream",
     "text": [
      "Fitting 5 folds for each of 24 candidates, totalling 120 fits\n",
      "--------------------------------------------------------------------------------\n",
      "Best parameters: {'nb__alpha': 0.1, 'tfidf__max_df': 0.75, 'tfidf__ngram_range': (1, 2)}\n",
      "--------------------------------------------------------------------------------\n"
     ]
    }
   ],
   "source": [
    "pipeline = Pipeline([\n",
    "    ('tfidf', TfidfVectorizer()),\n",
    "    ('nb', MultinomialNB()),\n",
    "])\n",
    "\n",
    "parameters = {\n",
    "    'tfidf__ngram_range': ((1, 1), (1, 2), (2, 2)),\n",
    "#     'tfidf__min_df': (0.05, 0.1),\n",
    "    'tfidf__max_df': (0.75, 1),\n",
    "    'nb__alpha': (0.01, 0.1, 1, 10)\n",
    "}\n",
    "\n",
    "nb_grid_search = GridSearchCV(pipeline, \n",
    "                           parameters, \n",
    "                           n_jobs=-1, \n",
    "                           scoring=\"accuracy\", \n",
    "                           refit=True, \n",
    "                           cv=5,\n",
    "                           verbose=1)\n",
    "\n",
    "nb_grid_search.fit(X_BIS_train['title'], y_BIS_train)\n",
    "\n",
    "print('-'*80)\n",
    "print(f\"Best parameters: {nb_grid_search.best_params_}\")\n",
    "print('-'*80)"
   ]
  },
  {
   "cell_type": "code",
   "execution_count": 58,
   "id": "76d49cfc",
   "metadata": {
    "hidden": true
   },
   "outputs": [
    {
     "name": "stdout",
     "output_type": "stream",
     "text": [
      "--------------------------------------------------------------------------------\n",
      "NB - FT - CV scores: \n",
      "--------------------------------------------------------------------------------\n",
      "Acc : 0.95\n",
      "Recall: 0.97\n",
      "Precision: 0.93\n",
      "f1: 0.95\n",
      "--------------------------------------------------------------------------------\n",
      "NB - FT - test scores: \n",
      "--------------------------------------------------------------------------------\n",
      "Acc: 0.95\n",
      "Recall: 0.97\n",
      "Precision: 0.94\n",
      "f1: 0.95\n",
      "--------------------------------------------------------------------------------\n"
     ]
    },
    {
     "data": {
      "image/png": "[encoded data removed]",
      "text/plain": [
       "<Figure size 864x432 with 2 Axes>"
      ]
     },
     "metadata": {
      "needs_background": "light"
     },
     "output_type": "display_data"
    }
   ],
   "source": [
    "acc, recall, precision, f1 = get_scores(nb_grid_search.best_estimator_, 'NB - FT', X_BIS_train['title'], y_BIS_train, X_BIS_test['title'], y_BIS_test)\n",
    "\n",
    "plot_confusion_matrix(nb_grid_search.best_estimator_, X_BIS_test['title'], y_BIS_test, values_format='d');"
   ]
  },
  {
   "cell_type": "markdown",
   "id": "74650d08",
   "metadata": {
    "heading_collapsed": true,
    "hidden": true
   },
   "source": [
    "#### Saving the model"
   ]
  },
  {
   "cell_type": "code",
   "execution_count": 59,
   "id": "6996b05c",
   "metadata": {
    "hidden": true
   },
   "outputs": [
    {
     "name": "stdout",
     "output_type": "stream",
     "text": [
      "\u001b[32m--------------------------------------------------------------------------------\u001b[0m\n",
      "\u001b[32m../raw_data/BTI_model.joblib saved locally\u001b[0m\n",
      "\u001b[32m--------------------------------------------------------------------------------\u001b[0m\n"
     ]
    }
   ],
   "source": [
    "model_name = '../raw_data/BTI_model.joblib'\n",
    "save_model(nb_grid_search.best_estimator_, model_name)"
   ]
  },
  {
   "cell_type": "markdown",
   "id": "3493a953",
   "metadata": {
    "heading_collapsed": true,
    "hidden": true
   },
   "source": [
    "#### Uploading the model"
   ]
  },
  {
   "cell_type": "code",
   "execution_count": 60,
   "id": "1bf49fe9",
   "metadata": {
    "hidden": true
   },
   "outputs": [],
   "source": [
    "model = get_model(model_name)"
   ]
  },
  {
   "cell_type": "code",
   "execution_count": 61,
   "id": "e786d03c",
   "metadata": {
    "hidden": true
   },
   "outputs": [
    {
     "name": "stdout",
     "output_type": "stream",
     "text": [
      "--------------------------------------------------------------------------------\n",
      "NB - FT - CV scores: \n",
      "--------------------------------------------------------------------------------\n",
      "Acc : 0.95\n",
      "Recall: 0.97\n",
      "Precision: 0.93\n",
      "f1: 0.95\n",
      "--------------------------------------------------------------------------------\n",
      "NB - FT - test scores: \n",
      "--------------------------------------------------------------------------------\n",
      "Acc: 0.95\n",
      "Recall: 0.97\n",
      "Precision: 0.94\n",
      "f1: 0.95\n",
      "--------------------------------------------------------------------------------\n"
     ]
    },
    {
     "data": {
      "image/png": "[encoded data removed]",
      "text/plain": [
       "<Figure size 864x432 with 2 Axes>"
      ]
     },
     "metadata": {
      "needs_background": "light"
     },
     "output_type": "display_data"
    }
   ],
   "source": [
    "acc, recall, precision, f1 = get_scores(model, 'NB - FT', X_BIS_train['title'], y_BIS_train, X_BIS_test['title'], y_BIS_test)\n",
    "\n",
    "plot_confusion_matrix(model, X_BIS_test['title'], y_BIS_test, values_format='d');"
   ]
  },
  {
   "cell_type": "markdown",
   "id": "c013d57a",
   "metadata": {
    "hidden": true
   },
   "source": [
    "### `Text` version"
   ]
  },
  {
   "cell_type": "markdown",
   "id": "3a39d543",
   "metadata": {
    "heading_collapsed": true,
    "hidden": true
   },
   "source": [
    "#### Preprocessing"
   ]
  },
  {
   "cell_type": "code",
   "execution_count": 62,
   "id": "84343be8",
   "metadata": {
    "hidden": true
   },
   "outputs": [
    {
     "name": "stdout",
     "output_type": "stream",
     "text": [
      "--------------------------------------------------------------------------------\n",
      "X_BIS_train_vec shape: (35751, 89267)\n",
      "X_BIS_test_vec shape: (8938, 89267)\n",
      "--------------------------------------------------------------------------------\n",
      "    aa  aaa  aaaaaaaand  aaaaackkk  aaaahhhh  aaaand  aaaarrgh  aaarf  aab  \\\n",
      "0  0.0  0.0         0.0        0.0       0.0     0.0       0.0    0.0  0.0   \n",
      "1  0.0  0.0         0.0        0.0       0.0     0.0       0.0    0.0  0.0   \n",
      "2  0.0  0.0         0.0        0.0       0.0     0.0       0.0    0.0  0.0   \n",
      "3  0.0  0.0         0.0        0.0       0.0     0.0       0.0    0.0  0.0   \n",
      "4  0.0  0.0         0.0        0.0       0.0     0.0       0.0    0.0  0.0   \n",
      "\n",
      "   aaba  ...  zyuganov   zz  zzbluecomet  zzjjpdaivn  zzpx  zztaine  \\\n",
      "0   0.0  ...       0.0  0.0          0.0         0.0   0.0      0.0   \n",
      "1   0.0  ...       0.0  0.0          0.0         0.0   0.0      0.0   \n",
      "2   0.0  ...       0.0  0.0          0.0         0.0   0.0      0.0   \n",
      "3   0.0  ...       0.0  0.0          0.0         0.0   0.0      0.0   \n",
      "4   0.0  ...       0.0  0.0          0.0         0.0   0.0      0.0   \n",
      "\n",
      "   zzzzaaaacccchhh  zzzzzzzz  zzzzzzzzzzzzz  émigré  \n",
      "0              0.0       0.0            0.0     0.0  \n",
      "1              0.0       0.0            0.0     0.0  \n",
      "2              0.0       0.0            0.0     0.0  \n",
      "3              0.0       0.0            0.0     0.0  \n",
      "4              0.0       0.0            0.0     0.0  \n",
      "\n",
      "[5 rows x 89267 columns]\n",
      "--------------------------------------------------------------------------------\n"
     ]
    }
   ],
   "source": [
    "vectorizer_BTE = TfidfVectorizer()\n",
    "X_BIS_train_vec = vectorizer_BTE.fit_transform(X_BIS_train['text'])\n",
    "X_BIS_test_vec = vectorizer_BTE.transform(X_BIS_test['text'])\n",
    "\n",
    "X_BIS_train_vec_df = pd.DataFrame(X_BIS_train_vec.toarray(), columns = vectorizer_BTE.get_feature_names())\n",
    "\n",
    "print('-'*80)\n",
    "print(f\"X_BIS_train_vec shape: {X_BIS_train_vec.shape}\")\n",
    "print(f\"X_BIS_test_vec shape: {X_BIS_test_vec.shape}\")\n",
    "print('-'*80)\n",
    "print(X_BIS_train_vec_df.head())\n",
    "print('-'*80)"
   ]
  },
  {
   "cell_type": "markdown",
   "id": "03de0b8b",
   "metadata": {
    "heading_collapsed": true,
    "hidden": true
   },
   "source": [
    "#### Naive Bayes"
   ]
  },
  {
   "cell_type": "code",
   "execution_count": 63,
   "id": "33f27aaf",
   "metadata": {
    "hidden": true
   },
   "outputs": [
    {
     "name": "stdout",
     "output_type": "stream",
     "text": [
      "--------------------------------------------------------------------------------\n",
      "Naive Bayes - CV scores: \n",
      "--------------------------------------------------------------------------------\n",
      "Acc : 0.93\n",
      "Recall: 0.94\n",
      "Precision: 0.93\n",
      "f1: 0.94\n",
      "--------------------------------------------------------------------------------\n",
      "Naive Bayes - test scores: \n",
      "--------------------------------------------------------------------------------\n",
      "Acc: 0.94\n",
      "Recall: 0.95\n",
      "Precision: 0.93\n",
      "f1: 0.94\n",
      "--------------------------------------------------------------------------------\n"
     ]
    },
    {
     "data": {
      "image/png": "[encoded data removed]",
      "text/plain": [
       "<Figure size 864x432 with 2 Axes>"
      ]
     },
     "metadata": {
      "needs_background": "light"
     },
     "output_type": "display_data"
    },
    {
     "data": {
      "image/png": "[encoded data removed]",
      "text/plain": [
       "<Figure size 576x360 with 1 Axes>"
      ]
     },
     "metadata": {
      "needs_background": "light"
     },
     "output_type": "display_data"
    }
   ],
   "source": [
    "nb_model = MultinomialNB()\n",
    "acc, recall, precision, f1 = get_scores(nb_model, 'Naive Bayes', X_BIS_train_vec, y_BIS_train, X_BIS_test_vec, y_BIS_test)\n",
    "\n",
    "plot_confusion_matrix(nb_model, X_BIS_test_vec, y_BIS_test, values_format='d');\n",
    "\n",
    "plot_learning_curve(nb_model, 'Naive Bayes', X_BIS_train_vec, y_BIS_train)"
   ]
  },
  {
   "cell_type": "markdown",
   "id": "54b63877",
   "metadata": {
    "heading_collapsed": true,
    "hidden": true
   },
   "source": [
    "#### Naive Bayes - Fine-Tuning"
   ]
  },
  {
   "cell_type": "code",
   "execution_count": 64,
   "id": "7990921f",
   "metadata": {
    "hidden": true
   },
   "outputs": [
    {
     "name": "stdout",
     "output_type": "stream",
     "text": [
      "Fitting 5 folds for each of 24 candidates, totalling 120 fits\n",
      "--------------------------------------------------------------------------------\n",
      "Best parameters: {'nb__alpha': 0.1, 'tfidf__max_df': 0.75, 'tfidf__ngram_range': (2, 2)}\n",
      "--------------------------------------------------------------------------------\n"
     ]
    }
   ],
   "source": [
    "pipeline = Pipeline([\n",
    "    ('tfidf', TfidfVectorizer()),\n",
    "    ('nb', MultinomialNB()),\n",
    "])\n",
    "\n",
    "parameters = {\n",
    "    'tfidf__ngram_range': ((1, 1), (1, 2), (2, 2)),\n",
    "#     'tfidf__min_df': (0.05, 0.1),\n",
    "    'tfidf__max_df': (0.75, 1),\n",
    "    'nb__alpha': (0.01, 0.1, 1, 10)\n",
    "}\n",
    "\n",
    "nb_grid_search = GridSearchCV(pipeline, \n",
    "                           parameters, \n",
    "                           n_jobs=-1, \n",
    "                           scoring=\"accuracy\", \n",
    "                           refit=True, \n",
    "                           cv=5,\n",
    "                           verbose=1)\n",
    "\n",
    "nb_grid_search.fit(X_BIS_train['text'], y_BIS_train)\n",
    "\n",
    "print('-'*80)\n",
    "print(f\"Best parameters: {nb_grid_search.best_params_}\")\n",
    "print('-'*80)"
   ]
  },
  {
   "cell_type": "code",
   "execution_count": 65,
   "id": "43af5cc8",
   "metadata": {
    "hidden": true
   },
   "outputs": [
    {
     "name": "stdout",
     "output_type": "stream",
     "text": [
      "--------------------------------------------------------------------------------\n",
      "NB - FT - CV scores: \n",
      "--------------------------------------------------------------------------------\n",
      "Acc : 0.97\n",
      "Recall: 0.97\n",
      "Precision: 0.98\n",
      "f1: 0.98\n",
      "--------------------------------------------------------------------------------\n",
      "NB - FT - test scores: \n",
      "--------------------------------------------------------------------------------\n",
      "Acc: 0.98\n",
      "Recall: 0.97\n",
      "Precision: 0.98\n",
      "f1: 0.98\n",
      "--------------------------------------------------------------------------------\n"
     ]
    },
    {
     "data": {
      "image/png": "[encoded data removed]",
      "text/plain": [
       "<Figure size 864x432 with 2 Axes>"
      ]
     },
     "metadata": {
      "needs_background": "light"
     },
     "output_type": "display_data"
    }
   ],
   "source": [
    "acc, recall, precision, f1 = get_scores(nb_grid_search.best_estimator_, 'NB - FT', X_BIS_train['text'], y_BIS_train, X_BIS_test['text'], y_BIS_test)\n",
    "\n",
    "plot_confusion_matrix(nb_grid_search.best_estimator_, X_BIS_test['text'], y_BIS_test, values_format='d');"
   ]
  },
  {
   "cell_type": "markdown",
   "id": "3b3fecc1",
   "metadata": {
    "hidden": true
   },
   "source": [
    "#### Saving the model"
   ]
  },
  {
   "cell_type": "code",
   "execution_count": 66,
   "id": "fc8f3428",
   "metadata": {
    "hidden": true
   },
   "outputs": [
    {
     "name": "stdout",
     "output_type": "stream",
     "text": [
      "\u001b[32m--------------------------------------------------------------------------------\u001b[0m\n",
      "\u001b[32m../raw_data/BTE_model.joblib saved locally\u001b[0m\n",
      "\u001b[32m--------------------------------------------------------------------------------\u001b[0m\n"
     ]
    }
   ],
   "source": [
    "model_name = '../raw_data/BTE_model.joblib'\n",
    "save_model(nb_grid_search.best_estimator_, model_name)"
   ]
  },
  {
   "cell_type": "markdown",
   "id": "914e0e22",
   "metadata": {
    "hidden": true
   },
   "source": [
    "#### Uploading the model"
   ]
  },
  {
   "cell_type": "code",
   "execution_count": 67,
   "id": "290ca20f",
   "metadata": {
    "hidden": true
   },
   "outputs": [],
   "source": [
    "model = get_model(model_name)"
   ]
  },
  {
   "cell_type": "code",
   "execution_count": 68,
   "id": "3b7cf755",
   "metadata": {
    "hidden": true
   },
   "outputs": [
    {
     "name": "stdout",
     "output_type": "stream",
     "text": [
      "--------------------------------------------------------------------------------\n",
      "NB - FT - CV scores: \n",
      "--------------------------------------------------------------------------------\n",
      "Acc : 0.97\n",
      "Recall: 0.97\n",
      "Precision: 0.98\n",
      "f1: 0.98\n",
      "--------------------------------------------------------------------------------\n",
      "NB - FT - test scores: \n",
      "--------------------------------------------------------------------------------\n",
      "Acc: 0.98\n",
      "Recall: 0.97\n",
      "Precision: 0.98\n",
      "f1: 0.98\n",
      "--------------------------------------------------------------------------------\n"
     ]
    },
    {
     "data": {
      "image/png": "[encoded data removed]",
      "text/plain": [
       "<Figure size 864x432 with 2 Axes>"
      ]
     },
     "metadata": {
      "needs_background": "light"
     },
     "output_type": "display_data"
    }
   ],
   "source": [
    "acc, recall, precision, f1 = get_scores(model, 'NB - FT', X_BIS_train['text'], y_BIS_train, X_BIS_test['text'], y_BIS_test)\n",
    "\n",
    "plot_confusion_matrix(model, X_BIS_test['text'], y_BIS_test, values_format='d');"
   ]
  },
  {
   "cell_type": "markdown",
   "id": "677b5b3d",
   "metadata": {
    "heading_collapsed": true
   },
   "source": [
    "## `Poynter`"
   ]
  },
  {
   "cell_type": "markdown",
   "id": "b549746d",
   "metadata": {
    "heading_collapsed": true,
    "hidden": true
   },
   "source": [
    "### Preprocessing"
   ]
  },
  {
   "cell_type": "code",
   "execution_count": null,
   "id": "7638c36a",
   "metadata": {
    "hidden": true
   },
   "outputs": [],
   "source": [
    "vectorizer_PO = TfidfVectorizer()\n",
    "X_PO_train_vec = vectorizer_PO.fit_transform(X_PO_train)\n",
    "X_PO_test_vec = vectorizer_PO.transform(X_PO_test)\n",
    "\n",
    "X_PO_train_vec_df = pd.DataFrame(X_PO_train_vec.toarray(), columns = vectorizer_PO.get_feature_names())\n",
    "\n",
    "print('-'*80)\n",
    "print(f\"X_PO_train_vec shape: {X_PO_train_vec.shape}\")\n",
    "print(f\"X_PO_test_vec shape: {X_PO_test_vec.shape}\")\n",
    "print('-'*80)\n",
    "print(X_PO_train_vec_df.head())\n",
    "print('-'*80)"
   ]
  },
  {
   "cell_type": "markdown",
   "id": "e532b5e8",
   "metadata": {
    "hidden": true
   },
   "source": [
    "### Naive Bayes"
   ]
  },
  {
   "cell_type": "code",
   "execution_count": null,
   "id": "ac7da856",
   "metadata": {
    "hidden": true
   },
   "outputs": [],
   "source": [
    "nb_model = MultinomialNB()\n",
    "acc, recall, precision, f1 = get_scores(nb_model, 'Naive Bayes', X_PO_train_vec, y_PO_train, X_PO_test_vec, y_PO_test)\n",
    "\n",
    "plot_confusion_matrix(nb_model, X_PO_test_vec, y_PO_test, values_format='d');\n",
    "\n",
    "plot_learning_curve(nb_model, 'Naive Bayes', X_PO_train_vec, y_PO_train)"
   ]
  },
  {
   "cell_type": "markdown",
   "id": "89085f62",
   "metadata": {
    "hidden": true
   },
   "source": [
    "### Naive Bayes - Fine-Tuning"
   ]
  },
  {
   "cell_type": "code",
   "execution_count": null,
   "id": "a938f19a",
   "metadata": {
    "hidden": true
   },
   "outputs": [],
   "source": [
    "pipeline = Pipeline([\n",
    "    ('tfidf', TfidfVectorizer()),\n",
    "    ('nb', MultinomialNB()),\n",
    "])\n",
    "\n",
    "parameters = {\n",
    "    'tfidf__ngram_range': ((1, 1), (1, 2), (2, 2)),\n",
    "#     'tfidf__min_df': (0.05, 0.1),\n",
    "    'tfidf__max_df': (0.75, 1),\n",
    "    'nb__alpha': (0.01, 0.1, 1, 10)\n",
    "}\n",
    "\n",
    "nb_grid_search = GridSearchCV(pipeline, \n",
    "                           parameters, \n",
    "                           n_jobs=-1, \n",
    "                           scoring=\"accuracy\", \n",
    "                           refit=True, \n",
    "                           cv=5,\n",
    "                           verbose=1)\n",
    "\n",
    "nb_grid_search.fit(X_PO_train, y_PO_train)\n",
    "\n",
    "print('-'*80)\n",
    "print(f\"Best parameters: {nb_grid_search.best_params_}\")\n",
    "print(f\"Best score: {nb_grid_search.best_score_}\")\n",
    "print('-'*80)"
   ]
  },
  {
   "cell_type": "code",
   "execution_count": null,
   "id": "ae36f0bf",
   "metadata": {
    "hidden": true
   },
   "outputs": [],
   "source": [
    "acc, recall, precision, f1 = get_scores(nb_grid_search.best_estimator_, 'NB - FT', X_PO_train, y_PO_train, X_PO_test, y_PO_test)\n",
    "\n",
    "plot_confusion_matrix(nb_grid_search.best_estimator_, X_PO_test, y_PO_test, values_format='d');"
   ]
  },
  {
   "cell_type": "markdown",
   "id": "a60f9de5",
   "metadata": {
    "heading_collapsed": true,
    "hidden": true
   },
   "source": [
    "### Saving the model"
   ]
  },
  {
   "cell_type": "code",
   "execution_count": null,
   "id": "4186594b",
   "metadata": {
    "hidden": true
   },
   "outputs": [],
   "source": [
    "model_name = '../raw_data/PO_model.joblib'\n",
    "    \n",
    "save_model(nb_grid_search.best_estimator_, model_name)\n",
    "\n",
    "model = get_model(model_name)"
   ]
  },
  {
   "cell_type": "markdown",
   "id": "d9b02155",
   "metadata": {
    "heading_collapsed": true,
    "hidden": true
   },
   "source": [
    "### Uploading the model"
   ]
  },
  {
   "cell_type": "code",
   "execution_count": null,
   "id": "2e33f8f7",
   "metadata": {
    "hidden": true
   },
   "outputs": [],
   "source": [
    "model = get_model(model_name)"
   ]
  },
  {
   "cell_type": "code",
   "execution_count": null,
   "id": "681dac37",
   "metadata": {
    "hidden": true
   },
   "outputs": [],
   "source": [
    "acc, recall, precision, f1 = get_scores(model, 'NB - FT', X_PO_train, y_PO_train, X_PO_test, y_PO_test)\n",
    "\n",
    "plot_confusion_matrix(model, X_PO_test, y_PO_test, values_format='d');"
   ]
  },
  {
   "cell_type": "markdown",
   "id": "0eb57bd9",
   "metadata": {},
   "source": [
    "## `Alll`"
   ]
  },
  {
   "cell_type": "markdown",
   "id": "5a640fcf",
   "metadata": {},
   "source": [
    "### `Title` version"
   ]
  },
  {
   "cell_type": "markdown",
   "id": "d17ca3e6",
   "metadata": {
    "heading_collapsed": true
   },
   "source": [
    "#### Preprocessing"
   ]
  },
  {
   "cell_type": "code",
   "execution_count": 69,
   "id": "467151f1",
   "metadata": {
    "hidden": true
   },
   "outputs": [
    {
     "name": "stdout",
     "output_type": "stream",
     "text": [
      "--------------------------------------------------------------------------------\n",
      "X_ATI_train_vec shape: (78952, 29917)\n",
      "X_ATI_test_vec shape: (19741, 29917)\n",
      "--------------------------------------------------------------------------------\n",
      "    aa  aaa  aaj  aaliyah  aap  aar  aardvark  aardvarkmobiletours  aarhus  \\\n",
      "0  0.0  0.0  0.0      0.0  0.0  0.0       0.0                  0.0     0.0   \n",
      "1  0.0  0.0  0.0      0.0  0.0  0.0       0.0                  0.0     0.0   \n",
      "2  0.0  0.0  0.0      0.0  0.0  0.0       0.0                  0.0     0.0   \n",
      "3  0.0  0.0  0.0      0.0  0.0  0.0       0.0                  0.0     0.0   \n",
      "4  0.0  0.0  0.0      0.0  0.0  0.0       0.0                  0.0     0.0   \n",
      "\n",
      "   aarogya  ...  контора  монако  пернелл  питт  принцессы  ради  \\\n",
      "0      0.0  ...      0.0     0.0      0.0   0.0        0.0   0.0   \n",
      "1      0.0  ...      0.0     0.0      0.0   0.0        0.0   0.0   \n",
      "2      0.0  ...      0.0     0.0      0.0   0.0        0.0   0.0   \n",
      "3      0.0  ...      0.0     0.0      0.0   0.0        0.0   0.0   \n",
      "4      0.0  ...      0.0     0.0      0.0   0.0        0.0   0.0   \n",
      "\n",
      "   североуральские  сми  эллу  ḍozen  \n",
      "0              0.0  0.0   0.0    0.0  \n",
      "1              0.0  0.0   0.0    0.0  \n",
      "2              0.0  0.0   0.0    0.0  \n",
      "3              0.0  0.0   0.0    0.0  \n",
      "4              0.0  0.0   0.0    0.0  \n",
      "\n",
      "[5 rows x 29917 columns]\n",
      "--------------------------------------------------------------------------------\n"
     ]
    }
   ],
   "source": [
    "vectorizer_ATI = TfidfVectorizer()\n",
    "# vectorizer_ATI = TfidfVectorizer(max_features = 1000)\n",
    "X_ATI_train_vec = vectorizer_ATI.fit_transform(X_ATI_train)\n",
    "X_ATI_test_vec = vectorizer_ATI.transform(X_ATI_test)\n",
    "\n",
    "X_ATI_train_vec_df = pd.DataFrame(X_ATI_train_vec.toarray(), columns = vectorizer_ATI.get_feature_names())\n",
    "\n",
    "print('-'*80)\n",
    "print(f\"X_ATI_train_vec shape: {X_ATI_train_vec.shape}\")\n",
    "print(f\"X_ATI_test_vec shape: {X_ATI_test_vec.shape}\")\n",
    "print('-'*80)\n",
    "print(X_ATI_train_vec_df.head())\n",
    "print('-'*80)"
   ]
  },
  {
   "cell_type": "markdown",
   "id": "8ffbc7ff",
   "metadata": {},
   "source": [
    "#### Naive Bayes"
   ]
  },
  {
   "cell_type": "code",
   "execution_count": 70,
   "id": "c1eb2e56",
   "metadata": {},
   "outputs": [
    {
     "name": "stdout",
     "output_type": "stream",
     "text": [
      "--------------------------------------------------------------------------------\n",
      "Naive Bayes - CV scores: \n",
      "--------------------------------------------------------------------------------\n",
      "Acc : 0.79\n",
      "Recall: 0.75\n",
      "Precision: 0.80\n",
      "f1: 0.77\n",
      "--------------------------------------------------------------------------------\n",
      "Naive Bayes - test scores: \n",
      "--------------------------------------------------------------------------------\n",
      "Acc: 0.80\n",
      "Recall: 0.76\n",
      "Precision: 0.80\n",
      "f1: 0.78\n",
      "--------------------------------------------------------------------------------\n"
     ]
    },
    {
     "data": {
      "image/png": "[encoded data removed]",
      "text/plain": [
       "<Figure size 864x432 with 2 Axes>"
      ]
     },
     "metadata": {
      "needs_background": "light"
     },
     "output_type": "display_data"
    },
    {
     "data": {
      "image/png": "[encoded data removed]",
      "text/plain": [
       "<Figure size 576x360 with 1 Axes>"
      ]
     },
     "metadata": {
      "needs_background": "light"
     },
     "output_type": "display_data"
    }
   ],
   "source": [
    "nb_model = MultinomialNB()\n",
    "acc, recall, precision, f1 = get_scores(nb_model, 'Naive Bayes', X_ATI_train_vec, y_ATI_train, X_ATI_test_vec, y_ATI_test)\n",
    "\n",
    "plot_confusion_matrix(nb_model, X_ATI_test_vec, y_ATI_test, values_format='d');\n",
    "\n",
    "plot_learning_curve(nb_model, 'Naive Bayes', X_ATI_train_vec, y_ATI_train)"
   ]
  },
  {
   "cell_type": "markdown",
   "id": "533a169e",
   "metadata": {
    "heading_collapsed": true
   },
   "source": [
    "#### Naive Bayes - Fine-Tuning"
   ]
  },
  {
   "cell_type": "code",
   "execution_count": 72,
   "id": "d81220c0",
   "metadata": {
    "hidden": true
   },
   "outputs": [
    {
     "name": "stdout",
     "output_type": "stream",
     "text": [
      "Fitting 5 folds for each of 24 candidates, totalling 120 fits\n",
      "--------------------------------------------------------------------------------\n",
      "Best parameters: {'nb__alpha': 1, 'tfidf__max_df': 0.75, 'tfidf__ngram_range': (1, 2)}\n",
      "Best score: 0.8152421555973254\n",
      "--------------------------------------------------------------------------------\n"
     ]
    }
   ],
   "source": [
    "pipeline = Pipeline([\n",
    "    ('tfidf', TfidfVectorizer()),\n",
    "    ('nb', MultinomialNB()),\n",
    "])\n",
    "\n",
    "parameters = {\n",
    "    'tfidf__ngram_range': ((1, 1), (1, 2), (2, 2)),\n",
    "#     'tfidf__min_df': (0.05, 0.1),\n",
    "    'tfidf__max_df': (0.75, 1),\n",
    "#     'tfidf__max_features' : (1000, 10000, 20000),\n",
    "    'nb__alpha': (0.01, 0.1, 1, 10)\n",
    "}\n",
    "\n",
    "nb_grid_search = GridSearchCV(pipeline, \n",
    "                           parameters, \n",
    "                           n_jobs=-1, \n",
    "                           scoring=\"accuracy\", \n",
    "                           refit=True, \n",
    "                           cv=5,\n",
    "                           verbose=1)\n",
    "\n",
    "nb_grid_search.fit(X_ATI_train, y_ATI_train)\n",
    "\n",
    "print('-'*80)\n",
    "print(f\"Best parameters: {nb_grid_search.best_params_}\")\n",
    "print(f\"Best score: {nb_grid_search.best_score_}\")\n",
    "print('-'*80)"
   ]
  },
  {
   "cell_type": "code",
   "execution_count": 73,
   "id": "cc346b4a",
   "metadata": {
    "hidden": true
   },
   "outputs": [
    {
     "name": "stdout",
     "output_type": "stream",
     "text": [
      "--------------------------------------------------------------------------------\n",
      "NB - FT - CV scores: \n",
      "--------------------------------------------------------------------------------\n",
      "Acc : 0.82\n",
      "Recall: 0.76\n",
      "Precision: 0.83\n",
      "f1: 0.79\n",
      "--------------------------------------------------------------------------------\n",
      "NB - FT - test scores: \n",
      "--------------------------------------------------------------------------------\n",
      "Acc: 0.82\n",
      "Recall: 0.77\n",
      "Precision: 0.83\n",
      "f1: 0.80\n",
      "--------------------------------------------------------------------------------\n"
     ]
    },
    {
     "data": {
      "image/png": "[encoded data removed]",
      "text/plain": [
       "<Figure size 864x432 with 2 Axes>"
      ]
     },
     "metadata": {
      "needs_background": "light"
     },
     "output_type": "display_data"
    }
   ],
   "source": [
    "acc, recall, precision, f1 = get_scores(nb_grid_search.best_estimator_, 'NB - FT', X_ATI_train, y_ATI_train, X_ATI_test, y_ATI_test)\n",
    "\n",
    "plot_confusion_matrix(nb_grid_search.best_estimator_, X_ATI_test, y_ATI_test, values_format='d');\n",
    "\n",
    "# plot_learning_curve(nb_model, 'Naive Bayes', X_ATI_train, y_ATI_train)"
   ]
  },
  {
   "cell_type": "markdown",
   "id": "dddee3ae",
   "metadata": {
    "heading_collapsed": true
   },
   "source": [
    "#### Saving the model"
   ]
  },
  {
   "cell_type": "code",
   "execution_count": 74,
   "id": "6b33d464",
   "metadata": {
    "hidden": true
   },
   "outputs": [
    {
     "name": "stdout",
     "output_type": "stream",
     "text": [
      "\u001b[32m--------------------------------------------------------------------------------\u001b[0m\n",
      "\u001b[32m../raw_data/ATI_model.joblib saved locally\u001b[0m\n",
      "\u001b[32m--------------------------------------------------------------------------------\u001b[0m\n"
     ]
    }
   ],
   "source": [
    "model_name = '../raw_data/ATI_model.joblib'\n",
    "save_model(nb_grid_search.best_estimator_, model_name)"
   ]
  },
  {
   "cell_type": "markdown",
   "id": "aefe8d86",
   "metadata": {
    "heading_collapsed": true
   },
   "source": [
    "#### Uploading the model"
   ]
  },
  {
   "cell_type": "code",
   "execution_count": 75,
   "id": "98f5d6a2",
   "metadata": {
    "hidden": true
   },
   "outputs": [],
   "source": [
    "model = get_model(model_name)"
   ]
  },
  {
   "cell_type": "code",
   "execution_count": 76,
   "id": "fad12175",
   "metadata": {
    "hidden": true
   },
   "outputs": [
    {
     "name": "stdout",
     "output_type": "stream",
     "text": [
      "--------------------------------------------------------------------------------\n",
      "NB - FT - CV scores: \n",
      "--------------------------------------------------------------------------------\n",
      "Acc : 0.82\n",
      "Recall: 0.76\n",
      "Precision: 0.83\n",
      "f1: 0.79\n",
      "--------------------------------------------------------------------------------\n",
      "NB - FT - test scores: \n",
      "--------------------------------------------------------------------------------\n",
      "Acc: 0.82\n",
      "Recall: 0.77\n",
      "Precision: 0.83\n",
      "f1: 0.80\n",
      "--------------------------------------------------------------------------------\n"
     ]
    },
    {
     "data": {
      "image/png": "[encoded data removed]",
      "text/plain": [
       "<Figure size 864x432 with 2 Axes>"
      ]
     },
     "metadata": {
      "needs_background": "light"
     },
     "output_type": "display_data"
    }
   ],
   "source": [
    "acc, recall, precision, f1 = get_scores(model, 'NB - FT', X_ATI_train, y_ATI_train, X_ATI_test, y_ATI_test)\n",
    "\n",
    "plot_confusion_matrix(nb_grid_search.best_estimator_, X_ATI_test, y_ATI_test, values_format='d');"
   ]
  },
  {
   "cell_type": "code",
   "execution_count": null,
   "id": "a1885b45",
   "metadata": {
    "hidden": true
   },
   "outputs": [],
   "source": []
  },
  {
   "cell_type": "code",
   "execution_count": null,
   "id": "a563fe9b",
   "metadata": {
    "hidden": true
   },
   "outputs": [],
   "source": []
  },
  {
   "cell_type": "code",
   "execution_count": null,
   "id": "49e15d05",
   "metadata": {
    "hidden": true
   },
   "outputs": [],
   "source": []
  },
  {
   "cell_type": "code",
   "execution_count": 106,
   "id": "ac8df4c7",
   "metadata": {
    "hidden": true
   },
   "outputs": [
    {
     "ename": "KeyboardInterrupt",
     "evalue": "",
     "output_type": "error",
     "traceback": [
      "\u001b[0;31m---------------------------------------------------------------------------\u001b[0m",
      "\u001b[0;31mKeyboardInterrupt\u001b[0m                         Traceback (most recent call last)",
      "\u001b[0;32m/var/folders/wt/qw732brs7m799f67rntt1n180000gn/T/ipykernel_2779/3331584382.py\u001b[0m in \u001b[0;36m<module>\u001b[0;34m\u001b[0m\n\u001b[1;32m      1\u001b[0m \u001b[0mstacking_model\u001b[0m \u001b[0;34m=\u001b[0m \u001b[0mStackingClassifier\u001b[0m\u001b[0;34m(\u001b[0m\u001b[0mestimators\u001b[0m\u001b[0;34m,\u001b[0m \u001b[0mfinal_estimator\u001b[0m\u001b[0;34m=\u001b[0m\u001b[0;32mNone\u001b[0m\u001b[0;34m,\u001b[0m \u001b[0mcv\u001b[0m\u001b[0;34m=\u001b[0m\u001b[0;36m5\u001b[0m\u001b[0;34m,\u001b[0m \u001b[0mstack_method\u001b[0m\u001b[0;34m=\u001b[0m\u001b[0;34m'auto'\u001b[0m\u001b[0;34m,\u001b[0m \u001b[0mn_jobs\u001b[0m\u001b[0;34m=\u001b[0m\u001b[0;34m-\u001b[0m\u001b[0;36m1\u001b[0m\u001b[0;34m,\u001b[0m \u001b[0mverbose\u001b[0m\u001b[0;34m=\u001b[0m\u001b[0;36m1\u001b[0m\u001b[0;34m)\u001b[0m\u001b[0;34m\u001b[0m\u001b[0;34m\u001b[0m\u001b[0m\n\u001b[0;32m----> 2\u001b[0;31m \u001b[0mstacking_model\u001b[0m\u001b[0;34m.\u001b[0m\u001b[0mfit\u001b[0m\u001b[0;34m(\u001b[0m\u001b[0mX_ATI_train\u001b[0m\u001b[0;34m,\u001b[0m \u001b[0my_ATI_train\u001b[0m\u001b[0;34m)\u001b[0m\u001b[0;34m\u001b[0m\u001b[0;34m\u001b[0m\u001b[0m\n\u001b[0m\u001b[1;32m      3\u001b[0m \u001b[0mstacking_model\u001b[0m\u001b[0;34m.\u001b[0m\u001b[0mscore\u001b[0m\u001b[0;34m(\u001b[0m\u001b[0mX_ATI_test\u001b[0m\u001b[0;34m,\u001b[0m \u001b[0my_ATI_test\u001b[0m\u001b[0;34m)\u001b[0m\u001b[0;34m\u001b[0m\u001b[0;34m\u001b[0m\u001b[0m\n",
      "\u001b[0;32m~/.pyenv/versions/3.8.6/envs/StopFAIke/lib/python3.8/site-packages/sklearn/ensemble/_stacking.py\u001b[0m in \u001b[0;36mfit\u001b[0;34m(self, X, y, sample_weight)\u001b[0m\n\u001b[1;32m    439\u001b[0m         \u001b[0mself\u001b[0m\u001b[0;34m.\u001b[0m\u001b[0m_le\u001b[0m \u001b[0;34m=\u001b[0m \u001b[0mLabelEncoder\u001b[0m\u001b[0;34m(\u001b[0m\u001b[0;34m)\u001b[0m\u001b[0;34m.\u001b[0m\u001b[0mfit\u001b[0m\u001b[0;34m(\u001b[0m\u001b[0my\u001b[0m\u001b[0;34m)\u001b[0m\u001b[0;34m\u001b[0m\u001b[0;34m\u001b[0m\u001b[0m\n\u001b[1;32m    440\u001b[0m         \u001b[0mself\u001b[0m\u001b[0;34m.\u001b[0m\u001b[0mclasses_\u001b[0m \u001b[0;34m=\u001b[0m \u001b[0mself\u001b[0m\u001b[0;34m.\u001b[0m\u001b[0m_le\u001b[0m\u001b[0;34m.\u001b[0m\u001b[0mclasses_\u001b[0m\u001b[0;34m\u001b[0m\u001b[0;34m\u001b[0m\u001b[0m\n\u001b[0;32m--> 441\u001b[0;31m         \u001b[0;32mreturn\u001b[0m \u001b[0msuper\u001b[0m\u001b[0;34m(\u001b[0m\u001b[0;34m)\u001b[0m\u001b[0;34m.\u001b[0m\u001b[0mfit\u001b[0m\u001b[0;34m(\u001b[0m\u001b[0mX\u001b[0m\u001b[0;34m,\u001b[0m \u001b[0mself\u001b[0m\u001b[0;34m.\u001b[0m\u001b[0m_le\u001b[0m\u001b[0;34m.\u001b[0m\u001b[0mtransform\u001b[0m\u001b[0;34m(\u001b[0m\u001b[0my\u001b[0m\u001b[0;34m)\u001b[0m\u001b[0;34m,\u001b[0m \u001b[0msample_weight\u001b[0m\u001b[0;34m)\u001b[0m\u001b[0;34m\u001b[0m\u001b[0;34m\u001b[0m\u001b[0m\n\u001b[0m\u001b[1;32m    442\u001b[0m \u001b[0;34m\u001b[0m\u001b[0m\n\u001b[1;32m    443\u001b[0m     \u001b[0;34m@\u001b[0m\u001b[0mif_delegate_has_method\u001b[0m\u001b[0;34m(\u001b[0m\u001b[0mdelegate\u001b[0m\u001b[0;34m=\u001b[0m\u001b[0;34m'final_estimator_'\u001b[0m\u001b[0;34m)\u001b[0m\u001b[0;34m\u001b[0m\u001b[0;34m\u001b[0m\u001b[0m\n",
      "\u001b[0;32m~/.pyenv/versions/3.8.6/envs/StopFAIke/lib/python3.8/site-packages/sklearn/ensemble/_stacking.py\u001b[0m in \u001b[0;36mfit\u001b[0;34m(self, X, y, sample_weight)\u001b[0m\n\u001b[1;32m    145\u001b[0m         \u001b[0;31m# base estimators will be used in transform, predict, and\u001b[0m\u001b[0;34m\u001b[0m\u001b[0;34m\u001b[0m\u001b[0;34m\u001b[0m\u001b[0m\n\u001b[1;32m    146\u001b[0m         \u001b[0;31m# predict_proba. They are exposed publicly.\u001b[0m\u001b[0;34m\u001b[0m\u001b[0;34m\u001b[0m\u001b[0;34m\u001b[0m\u001b[0m\n\u001b[0;32m--> 147\u001b[0;31m         self.estimators_ = Parallel(n_jobs=self.n_jobs)(\n\u001b[0m\u001b[1;32m    148\u001b[0m             \u001b[0mdelayed\u001b[0m\u001b[0;34m(\u001b[0m\u001b[0m_fit_single_estimator\u001b[0m\u001b[0;34m)\u001b[0m\u001b[0;34m(\u001b[0m\u001b[0mclone\u001b[0m\u001b[0;34m(\u001b[0m\u001b[0mest\u001b[0m\u001b[0;34m)\u001b[0m\u001b[0;34m,\u001b[0m \u001b[0mX\u001b[0m\u001b[0;34m,\u001b[0m \u001b[0my\u001b[0m\u001b[0;34m,\u001b[0m \u001b[0msample_weight\u001b[0m\u001b[0;34m)\u001b[0m\u001b[0;34m\u001b[0m\u001b[0;34m\u001b[0m\u001b[0m\n\u001b[1;32m    149\u001b[0m             \u001b[0;32mfor\u001b[0m \u001b[0mest\u001b[0m \u001b[0;32min\u001b[0m \u001b[0mall_estimators\u001b[0m \u001b[0;32mif\u001b[0m \u001b[0mest\u001b[0m \u001b[0;34m!=\u001b[0m \u001b[0;34m'drop'\u001b[0m\u001b[0;34m\u001b[0m\u001b[0;34m\u001b[0m\u001b[0m\n",
      "\u001b[0;32m~/.pyenv/versions/3.8.6/envs/StopFAIke/lib/python3.8/site-packages/joblib/parallel.py\u001b[0m in \u001b[0;36m__call__\u001b[0;34m(self, iterable)\u001b[0m\n\u001b[1;32m   1052\u001b[0m \u001b[0;34m\u001b[0m\u001b[0m\n\u001b[1;32m   1053\u001b[0m             \u001b[0;32mwith\u001b[0m \u001b[0mself\u001b[0m\u001b[0;34m.\u001b[0m\u001b[0m_backend\u001b[0m\u001b[0;34m.\u001b[0m\u001b[0mretrieval_context\u001b[0m\u001b[0;34m(\u001b[0m\u001b[0;34m)\u001b[0m\u001b[0;34m:\u001b[0m\u001b[0;34m\u001b[0m\u001b[0;34m\u001b[0m\u001b[0m\n\u001b[0;32m-> 1054\u001b[0;31m                 \u001b[0mself\u001b[0m\u001b[0;34m.\u001b[0m\u001b[0mretrieve\u001b[0m\u001b[0;34m(\u001b[0m\u001b[0;34m)\u001b[0m\u001b[0;34m\u001b[0m\u001b[0;34m\u001b[0m\u001b[0m\n\u001b[0m\u001b[1;32m   1055\u001b[0m             \u001b[0;31m# Make sure that we get a last message telling us we are done\u001b[0m\u001b[0;34m\u001b[0m\u001b[0;34m\u001b[0m\u001b[0;34m\u001b[0m\u001b[0m\n\u001b[1;32m   1056\u001b[0m             \u001b[0melapsed_time\u001b[0m \u001b[0;34m=\u001b[0m \u001b[0mtime\u001b[0m\u001b[0;34m.\u001b[0m\u001b[0mtime\u001b[0m\u001b[0;34m(\u001b[0m\u001b[0;34m)\u001b[0m \u001b[0;34m-\u001b[0m \u001b[0mself\u001b[0m\u001b[0;34m.\u001b[0m\u001b[0m_start_time\u001b[0m\u001b[0;34m\u001b[0m\u001b[0;34m\u001b[0m\u001b[0m\n",
      "\u001b[0;32m~/.pyenv/versions/3.8.6/envs/StopFAIke/lib/python3.8/site-packages/joblib/parallel.py\u001b[0m in \u001b[0;36mretrieve\u001b[0;34m(self)\u001b[0m\n\u001b[1;32m    931\u001b[0m             \u001b[0;32mtry\u001b[0m\u001b[0;34m:\u001b[0m\u001b[0;34m\u001b[0m\u001b[0;34m\u001b[0m\u001b[0m\n\u001b[1;32m    932\u001b[0m                 \u001b[0;32mif\u001b[0m \u001b[0mgetattr\u001b[0m\u001b[0;34m(\u001b[0m\u001b[0mself\u001b[0m\u001b[0;34m.\u001b[0m\u001b[0m_backend\u001b[0m\u001b[0;34m,\u001b[0m \u001b[0;34m'supports_timeout'\u001b[0m\u001b[0;34m,\u001b[0m \u001b[0;32mFalse\u001b[0m\u001b[0;34m)\u001b[0m\u001b[0;34m:\u001b[0m\u001b[0;34m\u001b[0m\u001b[0;34m\u001b[0m\u001b[0m\n\u001b[0;32m--> 933\u001b[0;31m                     \u001b[0mself\u001b[0m\u001b[0;34m.\u001b[0m\u001b[0m_output\u001b[0m\u001b[0;34m.\u001b[0m\u001b[0mextend\u001b[0m\u001b[0;34m(\u001b[0m\u001b[0mjob\u001b[0m\u001b[0;34m.\u001b[0m\u001b[0mget\u001b[0m\u001b[0;34m(\u001b[0m\u001b[0mtimeout\u001b[0m\u001b[0;34m=\u001b[0m\u001b[0mself\u001b[0m\u001b[0;34m.\u001b[0m\u001b[0mtimeout\u001b[0m\u001b[0;34m)\u001b[0m\u001b[0;34m)\u001b[0m\u001b[0;34m\u001b[0m\u001b[0;34m\u001b[0m\u001b[0m\n\u001b[0m\u001b[1;32m    934\u001b[0m                 \u001b[0;32melse\u001b[0m\u001b[0;34m:\u001b[0m\u001b[0;34m\u001b[0m\u001b[0;34m\u001b[0m\u001b[0m\n\u001b[1;32m    935\u001b[0m                     \u001b[0mself\u001b[0m\u001b[0;34m.\u001b[0m\u001b[0m_output\u001b[0m\u001b[0;34m.\u001b[0m\u001b[0mextend\u001b[0m\u001b[0;34m(\u001b[0m\u001b[0mjob\u001b[0m\u001b[0;34m.\u001b[0m\u001b[0mget\u001b[0m\u001b[0;34m(\u001b[0m\u001b[0;34m)\u001b[0m\u001b[0;34m)\u001b[0m\u001b[0;34m\u001b[0m\u001b[0;34m\u001b[0m\u001b[0m\n",
      "\u001b[0;32m~/.pyenv/versions/3.8.6/envs/StopFAIke/lib/python3.8/site-packages/joblib/_parallel_backends.py\u001b[0m in \u001b[0;36mwrap_future_result\u001b[0;34m(future, timeout)\u001b[0m\n\u001b[1;32m    540\u001b[0m         AsyncResults.get from multiprocessing.\"\"\"\n\u001b[1;32m    541\u001b[0m         \u001b[0;32mtry\u001b[0m\u001b[0;34m:\u001b[0m\u001b[0;34m\u001b[0m\u001b[0;34m\u001b[0m\u001b[0m\n\u001b[0;32m--> 542\u001b[0;31m             \u001b[0;32mreturn\u001b[0m \u001b[0mfuture\u001b[0m\u001b[0;34m.\u001b[0m\u001b[0mresult\u001b[0m\u001b[0;34m(\u001b[0m\u001b[0mtimeout\u001b[0m\u001b[0;34m=\u001b[0m\u001b[0mtimeout\u001b[0m\u001b[0;34m)\u001b[0m\u001b[0;34m\u001b[0m\u001b[0;34m\u001b[0m\u001b[0m\n\u001b[0m\u001b[1;32m    543\u001b[0m         \u001b[0;32mexcept\u001b[0m \u001b[0mCfTimeoutError\u001b[0m \u001b[0;32mas\u001b[0m \u001b[0me\u001b[0m\u001b[0;34m:\u001b[0m\u001b[0;34m\u001b[0m\u001b[0;34m\u001b[0m\u001b[0m\n\u001b[1;32m    544\u001b[0m             \u001b[0;32mraise\u001b[0m \u001b[0mTimeoutError\u001b[0m \u001b[0;32mfrom\u001b[0m \u001b[0me\u001b[0m\u001b[0;34m\u001b[0m\u001b[0;34m\u001b[0m\u001b[0m\n",
      "\u001b[0;32m~/.pyenv/versions/3.8.6/lib/python3.8/concurrent/futures/_base.py\u001b[0m in \u001b[0;36mresult\u001b[0;34m(self, timeout)\u001b[0m\n\u001b[1;32m    432\u001b[0m                 \u001b[0;32mreturn\u001b[0m \u001b[0mself\u001b[0m\u001b[0;34m.\u001b[0m\u001b[0m__get_result\u001b[0m\u001b[0;34m(\u001b[0m\u001b[0;34m)\u001b[0m\u001b[0;34m\u001b[0m\u001b[0;34m\u001b[0m\u001b[0m\n\u001b[1;32m    433\u001b[0m \u001b[0;34m\u001b[0m\u001b[0m\n\u001b[0;32m--> 434\u001b[0;31m             \u001b[0mself\u001b[0m\u001b[0;34m.\u001b[0m\u001b[0m_condition\u001b[0m\u001b[0;34m.\u001b[0m\u001b[0mwait\u001b[0m\u001b[0;34m(\u001b[0m\u001b[0mtimeout\u001b[0m\u001b[0;34m)\u001b[0m\u001b[0;34m\u001b[0m\u001b[0;34m\u001b[0m\u001b[0m\n\u001b[0m\u001b[1;32m    435\u001b[0m \u001b[0;34m\u001b[0m\u001b[0m\n\u001b[1;32m    436\u001b[0m             \u001b[0;32mif\u001b[0m \u001b[0mself\u001b[0m\u001b[0;34m.\u001b[0m\u001b[0m_state\u001b[0m \u001b[0;32min\u001b[0m \u001b[0;34m[\u001b[0m\u001b[0mCANCELLED\u001b[0m\u001b[0;34m,\u001b[0m \u001b[0mCANCELLED_AND_NOTIFIED\u001b[0m\u001b[0;34m]\u001b[0m\u001b[0;34m:\u001b[0m\u001b[0;34m\u001b[0m\u001b[0;34m\u001b[0m\u001b[0m\n",
      "\u001b[0;32m~/.pyenv/versions/3.8.6/lib/python3.8/threading.py\u001b[0m in \u001b[0;36mwait\u001b[0;34m(self, timeout)\u001b[0m\n\u001b[1;32m    300\u001b[0m         \u001b[0;32mtry\u001b[0m\u001b[0;34m:\u001b[0m    \u001b[0;31m# restore state no matter what (e.g., KeyboardInterrupt)\u001b[0m\u001b[0;34m\u001b[0m\u001b[0;34m\u001b[0m\u001b[0m\n\u001b[1;32m    301\u001b[0m             \u001b[0;32mif\u001b[0m \u001b[0mtimeout\u001b[0m \u001b[0;32mis\u001b[0m \u001b[0;32mNone\u001b[0m\u001b[0;34m:\u001b[0m\u001b[0;34m\u001b[0m\u001b[0;34m\u001b[0m\u001b[0m\n\u001b[0;32m--> 302\u001b[0;31m                 \u001b[0mwaiter\u001b[0m\u001b[0;34m.\u001b[0m\u001b[0macquire\u001b[0m\u001b[0;34m(\u001b[0m\u001b[0;34m)\u001b[0m\u001b[0;34m\u001b[0m\u001b[0;34m\u001b[0m\u001b[0m\n\u001b[0m\u001b[1;32m    303\u001b[0m                 \u001b[0mgotit\u001b[0m \u001b[0;34m=\u001b[0m \u001b[0;32mTrue\u001b[0m\u001b[0;34m\u001b[0m\u001b[0;34m\u001b[0m\u001b[0m\n\u001b[1;32m    304\u001b[0m             \u001b[0;32melse\u001b[0m\u001b[0;34m:\u001b[0m\u001b[0;34m\u001b[0m\u001b[0;34m\u001b[0m\u001b[0m\n",
      "\u001b[0;31mKeyboardInterrupt\u001b[0m: "
     ]
    }
   ],
   "source": []
  },
  {
   "cell_type": "markdown",
   "id": "07efe80a",
   "metadata": {
    "heading_collapsed": true
   },
   "source": [
    "### `Text`"
   ]
  },
  {
   "cell_type": "markdown",
   "id": "d835575f",
   "metadata": {
    "heading_collapsed": true,
    "hidden": true
   },
   "source": [
    "#### Preprocessing"
   ]
  },
  {
   "cell_type": "code",
   "execution_count": 77,
   "id": "1a5733f0",
   "metadata": {
    "hidden": true
   },
   "outputs": [
    {
     "name": "stdout",
     "output_type": "stream",
     "text": [
      "--------------------------------------------------------------------------------\n",
      "X_ATE_train_vec shape: (78952, 136504)\n",
      "X_ATE_test_vec shape: (19741, 136504)\n",
      "--------------------------------------------------------------------------------\n"
     ]
    }
   ],
   "source": [
    "vectorizer_ATE = TfidfVectorizer()\n",
    "# vectorizer_ATE = TfidfVectorizer(max_features = 20000)\n",
    "X_ATE_train_vec = vectorizer_ATE.fit_transform(X_ATE_train)\n",
    "X_ATE_test_vec = vectorizer_ATE.transform(X_ATE_test)\n",
    "\n",
    "X_ATE_train_vec_df = pd.DataFrame(X_ATE_train_vec.toarray(), columns = vectorizer_ATE.get_feature_names())\n",
    "\n",
    "print('-'*80)\n",
    "print(f\"X_ATE_train_vec shape: {X_ATE_train_vec.shape}\")\n",
    "print(f\"X_ATE_test_vec shape: {X_ATE_test_vec.shape}\")\n",
    "print('-'*80)\n",
    "# print(X_ATE_train_vec_df.head())\n",
    "# print('-'*80)"
   ]
  },
  {
   "cell_type": "markdown",
   "id": "29f02c31",
   "metadata": {
    "heading_collapsed": true,
    "hidden": true
   },
   "source": [
    "#### Naive Bayes"
   ]
  },
  {
   "cell_type": "code",
   "execution_count": 78,
   "id": "32d2544d",
   "metadata": {
    "hidden": true
   },
   "outputs": [
    {
     "name": "stdout",
     "output_type": "stream",
     "text": [
      "--------------------------------------------------------------------------------\n",
      "Naive Bayes - CV scores: \n",
      "--------------------------------------------------------------------------------\n",
      "Acc : 0.78\n",
      "Recall: 0.70\n",
      "Precision: 0.82\n",
      "f1: 0.75\n",
      "--------------------------------------------------------------------------------\n",
      "Naive Bayes - test scores: \n",
      "--------------------------------------------------------------------------------\n",
      "Acc: 0.79\n",
      "Recall: 0.72\n",
      "Precision: 0.81\n",
      "f1: 0.76\n",
      "--------------------------------------------------------------------------------\n"
     ]
    },
    {
     "data": {
      "image/png": "[encoded data removed]",
      "text/plain": [
       "<Figure size 864x432 with 2 Axes>"
      ]
     },
     "metadata": {
      "needs_background": "light"
     },
     "output_type": "display_data"
    },
    {
     "data": {
      "image/png": "[encoded data removed]",
      "text/plain": [
       "<Figure size 576x360 with 1 Axes>"
      ]
     },
     "metadata": {
      "needs_background": "light"
     },
     "output_type": "display_data"
    }
   ],
   "source": [
    "nb_model = MultinomialNB()\n",
    "acc, recall, precision, f1 = get_scores(nb_model, 'Naive Bayes', X_ATE_train_vec, y_ATE_train, X_ATE_test_vec, y_ATE_test)\n",
    "\n",
    "plot_confusion_matrix(nb_model, X_ATE_test_vec, y_ATE_test, values_format='d');\n",
    "\n",
    "plot_learning_curve(nb_model, 'Naive Bayes', X_ATE_train_vec, y_ATE_train)"
   ]
  },
  {
   "cell_type": "markdown",
   "id": "37a25ae2",
   "metadata": {
    "heading_collapsed": true,
    "hidden": true
   },
   "source": [
    "#### Naive Bayes - Fine-Tuning"
   ]
  },
  {
   "cell_type": "code",
   "execution_count": 81,
   "id": "d5529d5d",
   "metadata": {
    "hidden": true
   },
   "outputs": [
    {
     "name": "stdout",
     "output_type": "stream",
     "text": [
      "Fitting 5 folds for each of 24 candidates, totalling 120 fits\n",
      "--------------------------------------------------------------------------------\n",
      "Best parameters: {'nb__alpha': 0.1, 'tfidf__max_df': 0.75, 'tfidf__ngram_range': (1, 2)}\n",
      "Best score: 0.8179653139335226\n",
      "--------------------------------------------------------------------------------\n"
     ]
    }
   ],
   "source": [
    "pipeline = Pipeline([\n",
    "    ('tfidf', TfidfVectorizer()),\n",
    "    ('nb', MultinomialNB()),\n",
    "])\n",
    "\n",
    "parameters = {\n",
    "    'tfidf__ngram_range': ((1, 1), (1, 2), (2, 2)),\n",
    "#     'tfidf__min_df': (0.05, 0.1),\n",
    "    'tfidf__max_df': (0.75, 1),\n",
    "#     'tfidf__max_features' : (1000, 10000, 20000),\n",
    "    'nb__alpha': (0.01, 0.1, 1, 10)\n",
    "}\n",
    "\n",
    "nb_grid_search = GridSearchCV(pipeline, \n",
    "                           parameters, \n",
    "                           n_jobs=-1, \n",
    "                           scoring=\"accuracy\", \n",
    "                           refit=True, \n",
    "                           cv=5,\n",
    "                           verbose=1)\n",
    "\n",
    "nb_grid_search.fit(X_ATE_train, y_ATE_train)\n",
    "\n",
    "print('-'*80)\n",
    "print(f\"Best parameters: {nb_grid_search.best_params_}\")\n",
    "print(f\"Best score: {nb_grid_search.best_score_}\")\n",
    "print('-'*80)"
   ]
  },
  {
   "cell_type": "code",
   "execution_count": 84,
   "id": "bc8ec1dc",
   "metadata": {
    "hidden": true
   },
   "outputs": [
    {
     "name": "stdout",
     "output_type": "stream",
     "text": [
      "--------------------------------------------------------------------------------\n",
      "Naive Bayes - CV scores: \n",
      "--------------------------------------------------------------------------------\n",
      "Acc : 0.82\n",
      "Recall: 0.76\n",
      "Precision: 0.84\n",
      "f1: 0.80\n"
     ]
    },
    {
     "name": "stderr",
     "output_type": "stream",
     "text": [
      "/Users/julienseguy/.pyenv/versions/3.8.6/envs/StopFAIke/lib/python3.8/site-packages/sklearn/model_selection/_validation.py:615: FitFailedWarning: Estimator fit failed. The score on this train-test partition for these parameters will be set to nan. Details: \n",
      "Traceback (most recent call last):\n",
      "  File \"/Users/julienseguy/.pyenv/versions/3.8.6/envs/StopFAIke/lib/python3.8/site-packages/sklearn/model_selection/_validation.py\", line 598, in _fit_and_score\n",
      "    estimator.fit(X_train, y_train, **fit_params)\n",
      "  File \"/Users/julienseguy/.pyenv/versions/3.8.6/envs/StopFAIke/lib/python3.8/site-packages/sklearn/naive_bayes.py\", line 612, in fit\n",
      "    X, y = self._check_X_y(X, y)\n",
      "  File \"/Users/julienseguy/.pyenv/versions/3.8.6/envs/StopFAIke/lib/python3.8/site-packages/sklearn/naive_bayes.py\", line 477, in _check_X_y\n",
      "    return self._validate_data(X, y, accept_sparse='csr')\n",
      "  File \"/Users/julienseguy/.pyenv/versions/3.8.6/envs/StopFAIke/lib/python3.8/site-packages/sklearn/base.py\", line 433, in _validate_data\n",
      "    X, y = check_X_y(X, y, **check_params)\n",
      "  File \"/Users/julienseguy/.pyenv/versions/3.8.6/envs/StopFAIke/lib/python3.8/site-packages/sklearn/utils/validation.py\", line 63, in inner_f\n",
      "    return f(*args, **kwargs)\n",
      "  File \"/Users/julienseguy/.pyenv/versions/3.8.6/envs/StopFAIke/lib/python3.8/site-packages/sklearn/utils/validation.py\", line 871, in check_X_y\n",
      "    X = check_array(X, accept_sparse=accept_sparse,\n",
      "  File \"/Users/julienseguy/.pyenv/versions/3.8.6/envs/StopFAIke/lib/python3.8/site-packages/sklearn/utils/validation.py\", line 63, in inner_f\n",
      "    return f(*args, **kwargs)\n",
      "  File \"/Users/julienseguy/.pyenv/versions/3.8.6/envs/StopFAIke/lib/python3.8/site-packages/sklearn/utils/validation.py\", line 673, in check_array\n",
      "    array = np.asarray(array, order=order, dtype=dtype)\n",
      "  File \"/Users/julienseguy/.pyenv/versions/3.8.6/envs/StopFAIke/lib/python3.8/site-packages/numpy/core/_asarray.py\", line 83, in asarray\n",
      "    return array(a, dtype, copy=False, order=order)\n",
      "  File \"/Users/julienseguy/.pyenv/versions/3.8.6/envs/StopFAIke/lib/python3.8/site-packages/pandas/core/series.py\", line 857, in __array__\n",
      "    return np.asarray(self._values, dtype)\n",
      "  File \"/Users/julienseguy/.pyenv/versions/3.8.6/envs/StopFAIke/lib/python3.8/site-packages/numpy/core/_asarray.py\", line 83, in asarray\n",
      "    return array(a, dtype, copy=False, order=order)\n",
      "ValueError: could not convert string to float: 'luxembourg reuters spain finance minister monday blamed catalan government company moving headquarters region euro zone colleague played impact spanish crisis shared currency recent week stream catalonia based firm bank moved legal base outside regionas crisis catalonian push independence spain deepened caixabank spain number bank banco sabadell number moved head office catalonia last week following independence referendum madrid government attempted block exit many company catalonia consequence irrational radical policy implemented pursued regional government minister luis de guindos said arrived meeting euro zone finance minister luxembourg losing catalonia would significant impact spain region make fifth country economic output quarter export fear impact euro zone economy slowly recovering recession start decade nevertheless euro zone minister declined get drawn discussion situation catalonia eurogroup president jeroen dijsselbloem describing domestic issue hope prevail spain understand spanish prime minister said law constitution basis operate german finance minister wolfgang schaeuble said european economics commissioner pierre moscovici asked economic impact catalan debate said spanish constitutional order must respected situation solved violence find solution dialogue also true consider economic oint view said spain also sought reassure international investor concerned political situation country message crystal clear catalonian independence going happen de guindos said'\n",
      "\n",
      "  warnings.warn(\"Estimator fit failed. The score on this train-test\"\n"
     ]
    },
    {
     "name": "stdout",
     "output_type": "stream",
     "text": [
      "--------------------------------------------------------------------------------\n",
      "Naive Bayes - test scores: \n",
      "--------------------------------------------------------------------------------\n",
      "Acc: 0.82\n",
      "Recall: 0.77\n",
      "Precision: 0.84\n",
      "f1: 0.80\n",
      "--------------------------------------------------------------------------------\n"
     ]
    },
    {
     "data": {
      "image/png": "[encoded data removed]",
      "text/plain": [
       "<Figure size 864x432 with 2 Axes>"
      ]
     },
     "metadata": {
      "needs_background": "light"
     },
     "output_type": "display_data"
    }
   ],
   "source": [
    "acc, recall, precision, f1 = get_scores(nb_grid_search.best_estimator_, 'Naive Bayes', X_ATE_train, y_ATE_train, X_ATE_test, y_ATE_test)\n",
    "\n",
    "plot_confusion_matrix(nb_grid_search.best_estimator_, X_ATE_test, y_ATE_test, values_format='d');"
   ]
  },
  {
   "cell_type": "markdown",
   "id": "14622f3a",
   "metadata": {
    "heading_collapsed": true,
    "hidden": true
   },
   "source": [
    "#### Saving the model"
   ]
  },
  {
   "cell_type": "code",
   "execution_count": 85,
   "id": "6e39f17d",
   "metadata": {
    "hidden": true
   },
   "outputs": [
    {
     "name": "stdout",
     "output_type": "stream",
     "text": [
      "\u001b[32m--------------------------------------------------------------------------------\u001b[0m\n",
      "\u001b[32m../raw_data/ATE_model.joblib saved locally\u001b[0m\n",
      "\u001b[32m--------------------------------------------------------------------------------\u001b[0m\n"
     ]
    }
   ],
   "source": [
    "model_name = '../raw_data/ATE_model.joblib'\n",
    "save_model(nb_grid_search.best_estimator_, model_name)"
   ]
  },
  {
   "cell_type": "markdown",
   "id": "13dfe37e",
   "metadata": {
    "heading_collapsed": true,
    "hidden": true
   },
   "source": [
    "#### Uploading the model"
   ]
  },
  {
   "cell_type": "code",
   "execution_count": 86,
   "id": "08821dd2",
   "metadata": {
    "hidden": true
   },
   "outputs": [],
   "source": [
    "model = get_model(model_name)"
   ]
  },
  {
   "cell_type": "code",
   "execution_count": 87,
   "id": "d68039f1",
   "metadata": {
    "hidden": true
   },
   "outputs": [
    {
     "name": "stdout",
     "output_type": "stream",
     "text": [
      "--------------------------------------------------------------------------------\n",
      "Naive Bayes - CV scores: \n",
      "--------------------------------------------------------------------------------\n",
      "Acc : 0.82\n",
      "Recall: 0.76\n",
      "Precision: 0.84\n",
      "f1: 0.80\n",
      "--------------------------------------------------------------------------------\n",
      "Naive Bayes - test scores: \n",
      "--------------------------------------------------------------------------------\n",
      "Acc: 0.82\n",
      "Recall: 0.77\n",
      "Precision: 0.84\n",
      "f1: 0.80\n",
      "--------------------------------------------------------------------------------\n"
     ]
    },
    {
     "data": {
      "image/png": "[encoded data removed]",
      "text/plain": [
       "<Figure size 864x432 with 2 Axes>"
      ]
     },
     "metadata": {
      "needs_background": "light"
     },
     "output_type": "display_data"
    }
   ],
   "source": [
    "acc, recall, precision, f1 = get_scores(model, 'Naive Bayes', X_ATE_train, y_ATE_train, X_ATE_test, y_ATE_test)\n",
    "\n",
    "plot_confusion_matrix(model, X_ATE_test, y_ATE_test, values_format='d');"
   ]
  },
  {
   "cell_type": "markdown",
   "id": "5860f72b",
   "metadata": {
    "heading_collapsed": true
   },
   "source": [
    "## Stacking"
   ]
  },
  {
   "cell_type": "code",
   "execution_count": 92,
   "id": "ca7d397c",
   "metadata": {
    "hidden": true
   },
   "outputs": [
    {
     "data": {
      "text/plain": [
       "[('lg',\n",
       "  Pipeline(steps=[('tfidfvectorizer', TfidfVectorizer()),\n",
       "                  ('logisticregression', LogisticRegression(max_iter=1000))])),\n",
       " ('nb',\n",
       "  Pipeline(steps=[('tfidfvectorizer', TfidfVectorizer()),\n",
       "                  ('multinomialnb', MultinomialNB())]))]"
      ]
     },
     "execution_count": 92,
     "metadata": {},
     "output_type": "execute_result"
    }
   ],
   "source": [
    "from sklearn.pipeline import make_pipeline\n",
    "from sklearn.linear_model import LogisticRegression\n",
    "from sklearn.svm import SVC\n",
    "from sklearn.ensemble import RandomForestClassifier\n",
    "from sklearn.ensemble import AdaBoostClassifier\n",
    "from sklearn.ensemble import StackingClassifier\n",
    "\n",
    "max_features = None\n",
    "\n",
    "estimators = [\n",
    "    ('lg', make_pipeline(TfidfVectorizer(max_features = max_features), LogisticRegression(max_iter=1000))),\n",
    "    ('nb', make_pipeline(TfidfVectorizer(max_features = max_features), MultinomialNB())),\n",
    "    ('svm', make_pipeline(TfidfVectorizer(max_features = max_features), SVC(kernel='poly'))),\n",
    "    ('rf', make_pipeline(TfidfVectorizer(max_features = max_features), RandomForestClassifier(n_estimators=10, random_state=42))),\n",
    "    ('ada', make_pipeline(TfidfVectorizer(max_features = max_features), AdaBoostClassifier())),\n",
    "]\n",
    "\n",
    "estimators = estimators[:2]\n",
    "estimators"
   ]
  },
  {
   "cell_type": "code",
   "execution_count": 93,
   "id": "d4e66950",
   "metadata": {
    "hidden": true
   },
   "outputs": [
    {
     "data": {
      "text/plain": [
       "StackingClassifier(cv=5,\n",
       "                   estimators=[('lg',\n",
       "                                Pipeline(steps=[('tfidfvectorizer',\n",
       "                                                 TfidfVectorizer()),\n",
       "                                                ('logisticregression',\n",
       "                                                 LogisticRegression(max_iter=1000))])),\n",
       "                               ('nb',\n",
       "                                Pipeline(steps=[('tfidfvectorizer',\n",
       "                                                 TfidfVectorizer()),\n",
       "                                                ('multinomialnb',\n",
       "                                                 MultinomialNB())]))],\n",
       "                   n_jobs=-1, verbose=1)"
      ]
     },
     "execution_count": 93,
     "metadata": {},
     "output_type": "execute_result"
    }
   ],
   "source": [
    "stacking_model = StackingClassifier(estimators, final_estimator=None, cv=5, stack_method='auto', n_jobs=-1, verbose=1)\n",
    "\n",
    "stacking_model.fit(X_ATI_train, y_ATI_train)"
   ]
  },
  {
   "cell_type": "code",
   "execution_count": 94,
   "id": "d4697297",
   "metadata": {
    "hidden": true
   },
   "outputs": [
    {
     "name": "stdout",
     "output_type": "stream",
     "text": [
      "--------------------------------------------------------------------------------\n",
      "Stacking - CV scores: \n",
      "--------------------------------------------------------------------------------\n",
      "Acc : 0.81\n",
      "Recall: 0.77\n",
      "Precision: 0.81\n",
      "f1: 0.79\n",
      "--------------------------------------------------------------------------------\n",
      "Stacking - test scores: \n",
      "--------------------------------------------------------------------------------\n",
      "Acc: 0.81\n",
      "Recall: 0.78\n",
      "Precision: 0.80\n",
      "f1: 0.79\n",
      "--------------------------------------------------------------------------------\n"
     ]
    },
    {
     "data": {
      "image/png": "[encoded data removed]",
      "text/plain": [
       "<Figure size 864x432 with 2 Axes>"
      ]
     },
     "metadata": {
      "needs_background": "light"
     },
     "output_type": "display_data"
    }
   ],
   "source": [
    "acc, recall, precision, f1 = get_scores(stacking_model, 'Stacking', X_ATI_train, y_ATI_train, X_ATI_test, y_ATI_test)\n",
    "\n",
    "plot_confusion_matrix(stacking_model, X_ATI_test, y_ATI_test, values_format='d');"
   ]
  },
  {
   "cell_type": "code",
   "execution_count": 99,
   "id": "a98d4b56",
   "metadata": {
    "hidden": true
   },
   "outputs": [
    {
     "name": "stdout",
     "output_type": "stream",
     "text": [
      "--------------------------------------------------------------------------------\n",
      "--------------------------------------------------------------------------------\n",
      "Acc: 0.93\n",
      "Recall: 0.93\n",
      "Precision: 0.93\n",
      "f1: 0.93\n",
      "--------------------------------------------------------------------------------\n"
     ]
    },
    {
     "data": {
      "image/png": "[encoded data removed]",
      "text/plain": [
       "<Figure size 864x432 with 2 Axes>"
      ]
     },
     "metadata": {
      "needs_background": "light"
     },
     "output_type": "display_data"
    }
   ],
   "source": [
    "y_preds = stacking_model.predict(X_BIS_test['title'])\n",
    "\n",
    "print('-'*80)\n",
    "binary_metrics(y_BIS_test, y_preds)\n",
    "\n",
    "plot_confusion_matrix(stacking_model, X_BIS_test['title'], y_BIS_test, values_format='d');"
   ]
  },
  {
   "cell_type": "markdown",
   "id": "04778472",
   "metadata": {
    "heading_collapsed": true
   },
   "source": [
    "## Summary"
   ]
  },
  {
   "cell_type": "code",
   "execution_count": null,
   "id": "69441311",
   "metadata": {
    "hidden": true
   },
   "outputs": [],
   "source": [
    "def get_summary(model_names, datas):\n",
    "\n",
    "    X_data = [[X_P_test, X_FNN, X_BIS, X_PO, X_ALL_test, X_ALLL_test],\n",
    "              [X_P, X_FNN_test, X_BIS, X_PO, X_ALL_test, X_ALLL_test],\n",
    "              [X_P, X_FNN, X_BIS_test, X_PO, X_ALL_test, X_ALLL_test],\n",
    "              [X_P, X_FNN, X_BIS, X_PO_test, X_ALL_test, X_ALLL_test],\n",
    "              [X_P_test, X_FNN_test, X_BIS_test, X_PO_test, X_ALL_test, X_ALLL_test],\n",
    "              [X_P_test, X_FNN_test, X_BIS_test, X_PO_test, X_ALL_test, X_ALLL_test]]\n",
    "\n",
    "    y_data = [[y_P_test, y_FNN, y_BIS, y_PO, y_ALL_test, y_ALLL_test],\n",
    "              [y_P, y_FNN_test, y_BIS, y_PO, y_ALL_test, y_ALLL_test],\n",
    "              [y_P, y_FNN, y_BIS_test, y_PO, y_ALL_test, y_ALLL_test],\n",
    "              [y_P, y_FNN, y_BIS, y_PO_test, y_ALL_test, y_ALLL_test],\n",
    "              [y_P_test, y_FNN_test, y_BIS_test, y_PO_test, y_ALL_test, y_ALLL_test],\n",
    "              [y_P_test, y_FNN_test, y_BIS_test, y_PO_test, y_ALL_test, y_ALLL_test]]\n",
    "\n",
    "    model_list = []\n",
    "    data_list = []\n",
    "    acc_list = []\n",
    "    recall_list = []\n",
    "    prec_list = []\n",
    "    f1_list = []\n",
    "    \n",
    "    for model_name, Xs, ys in zip(model_names, X_data, y_data):\n",
    "\n",
    "        for data, X, y in zip(datas, Xs, ys):\n",
    "\n",
    "#             print('-'*80)\n",
    "#             print(model_name)\n",
    "#             print(data)\n",
    "#             print(X.shape)\n",
    "#             print(y.shape)\n",
    "\n",
    "            y_preds = get_model(model_names[model_name]).predict(X)\n",
    "\n",
    "            model_list.append(model_name)\n",
    "            data_list.append(data)\n",
    "            acc_list.append(np.round(accuracy_score(y, y_preds), 2))\n",
    "            recall_list.append(np.round(recall_score(y, y_preds), 2))\n",
    "            prec_list.append(np.round(precision_score(y, y_preds), 2))\n",
    "            f1_list.append(np.round(f1_score(y, y_preds), 2))\n",
    "\n",
    "    df = pd.DataFrame({'model': model_list, \n",
    "                   'data': data_list, \n",
    "                   'acc': acc_list,\n",
    "                   'recall': recall_list, \n",
    "                   'prec': prec_list,\n",
    "                   'f1': f1_list,\n",
    "    })\n",
    "    \n",
    "    return df"
   ]
  },
  {
   "cell_type": "code",
   "execution_count": null,
   "id": "805a5dec",
   "metadata": {
    "hidden": true
   },
   "outputs": [],
   "source": [
    "model_names = {'a_P_model': '../raw_data/P_model.joblib',\n",
    "               'b_FNN_model': '../raw_data/F_model.joblib', \n",
    "               'c_BI_model': '../raw_data/B_model.joblib',\n",
    "               'd_PO_model': '../raw_data/PO_model.joblib',\n",
    "               'e_ALL_model': '../raw_data/ALL_model.joblib',\n",
    "               'f_ALLL_model': '../raw_data/ALLL_model.joblib'\n",
    "              }\n",
    "\n",
    "datas = ['a_P', 'b_FNN', 'c_BI', 'd_PO', 'e_ALL', 'f_ALLL']\n",
    "\n",
    "df = get_summary(model_names, datas)"
   ]
  },
  {
   "cell_type": "code",
   "execution_count": null,
   "id": "43c2911a",
   "metadata": {
    "hidden": true
   },
   "outputs": [],
   "source": [
    "df.head(40)"
   ]
  },
  {
   "cell_type": "code",
   "execution_count": null,
   "id": "06b9b9a6",
   "metadata": {
    "hidden": true
   },
   "outputs": [],
   "source": [
    "df.pivot(index='model', columns='data', values='acc')"
   ]
  },
  {
   "cell_type": "code",
   "execution_count": null,
   "id": "5524e506",
   "metadata": {
    "hidden": true
   },
   "outputs": [],
   "source": [
    "df.pivot(index='model', columns='data', values='recall')"
   ]
  },
  {
   "cell_type": "code",
   "execution_count": null,
   "id": "66d7948b",
   "metadata": {
    "hidden": true
   },
   "outputs": [],
   "source": [
    "file_path = '../raw_data/ML_summary.csv'\n",
    "\n",
    "df.to_csv(file_path, index=False)"
   ]
  },
  {
   "cell_type": "markdown",
   "id": "bbceae34",
   "metadata": {
    "heading_collapsed": true
   },
   "source": [
    "## Prediction"
   ]
  },
  {
   "cell_type": "code",
   "execution_count": null,
   "id": "3af2b236",
   "metadata": {
    "hidden": true
   },
   "outputs": [],
   "source": [
    "model_name = '../raw_data/ALLL_model.joblib'\n",
    "\n",
    "model = get_model(model_name)"
   ]
  },
  {
   "cell_type": "code",
   "execution_count": null,
   "id": "3df06409",
   "metadata": {
    "hidden": true
   },
   "outputs": [],
   "source": [
    "fake0 = \"White House, CDC, WHO and vaccine makers don’t require the COVID-19 vaccine for their workers.\"\n",
    "fake1 = \"Says a U.S. Air Force-insignia plane evacuating people from Afghanistan is fake.\"\n",
    "fake2 = \"No one has died of cancer or heart disease since the COVID-19 thing started.\"\n",
    "true0 = \"A photo shows two COVID-19 patients lying on the floor awaiting treatment in Florida.\"\n",
    "true1 = \"We’ve got 115,000 miles of roads in this state and 90% is owned by the locals.\"\n",
    "true2 = \"324,000 pregnant people experience domestic violence during their pregnancy.\""
   ]
  },
  {
   "cell_type": "code",
   "execution_count": null,
   "id": "f8d35fe3",
   "metadata": {
    "hidden": true
   },
   "outputs": [],
   "source": [
    "sample = [fake0, fake1, fake2, true0, true1, true2]\n",
    "label = [1, 1, 1, 0, 0, 0]\n",
    "\n",
    "X_sample_clean = [clean(text) for text in sample] \n",
    "\n",
    "y_preds = model.predict_proba(X_sample_clean)[:, 1]\n",
    "\n",
    "print('-'*80)\n",
    "print(y_preds)\n",
    "print(f\" Acc: {np.round(accuracy_score(label, model.predict(X_sample_clean)), 2)}\")\n",
    "print('-'*80)"
   ]
  },
  {
   "cell_type": "code",
   "execution_count": null,
   "id": "87ae8084",
   "metadata": {
    "hidden": true
   },
   "outputs": [],
   "source": [
    "# import eli5\n",
    "# from eli5.lime import TextExplainer\n",
    "\n",
    "# sample = clean(true2)\n",
    "\n",
    "# te = TextExplainer(random_state=42)\n",
    "# te.fit(sample, model.predict_proba)\n",
    "# te.show_prediction(target_names=['true', 'fake'])"
   ]
  },
  {
   "cell_type": "markdown",
   "id": "5bee690c",
   "metadata": {
    "heading_collapsed": true
   },
   "source": [
    "## ELI5"
   ]
  },
  {
   "cell_type": "code",
   "execution_count": null,
   "id": "da1cb2d9",
   "metadata": {
    "hidden": true
   },
   "outputs": [],
   "source": [
    "# ! pip install eli5"
   ]
  },
  {
   "cell_type": "code",
   "execution_count": null,
   "id": "5fa6f492",
   "metadata": {
    "hidden": true
   },
   "outputs": [],
   "source": [
    "# def print_prediction(doc):\n",
    "#     y_pred = model.predict_proba([doc])[0]\n",
    "#     for target, prob in zip(twenty_train.target_names, y_pred):\n",
    "#         print(\"{:.3f} {}\".format(prob, target))\n",
    "\n",
    "# doc = twenty_test.data[0]\n",
    "# print_prediction(doc)"
   ]
  },
  {
   "cell_type": "code",
   "execution_count": null,
   "id": "e462f8a0",
   "metadata": {
    "hidden": true
   },
   "outputs": [],
   "source": [
    "# import eli5\n",
    "# from eli5.lime import TextExplainer\n",
    "\n",
    "# te = TextExplainer(random_state=42)\n",
    "# te.fit(X_sample_clean[0], model.predict_proba)\n",
    "# te.show_prediction(target_names='fake')"
   ]
  },
  {
   "cell_type": "code",
   "execution_count": null,
   "id": "780971ea",
   "metadata": {
    "hidden": true
   },
   "outputs": [],
   "source": [
    "# from sklearn.datasets import fetch_20newsgroups\n",
    "\n",
    "# categories = ['alt.atheism', 'soc.religion.christian',\n",
    "#               'comp.graphics', 'sci.med']\n",
    "# twenty_train = fetch_20newsgroups(\n",
    "#     subset='train',\n",
    "#     categories=categories,\n",
    "#     shuffle=True,\n",
    "#     random_state=42,\n",
    "#     remove=('headers', 'footers'),\n",
    "# )\n",
    "# twenty_test = fetch_20newsgroups(\n",
    "#     subset='test',\n",
    "#     categories=categories,\n",
    "#     shuffle=True,\n",
    "#     random_state=42,\n",
    "#     remove=('headers', 'footers'),\n",
    "# )"
   ]
  },
  {
   "cell_type": "code",
   "execution_count": null,
   "id": "8aad17e8",
   "metadata": {
    "hidden": true
   },
   "outputs": [],
   "source": [
    "# print('-'*80)\n",
    "# print(f\"train length: {len(twenty_test.data)}\")\n",
    "# print(f\"sample: {twenty_test.data[1]}\")\n",
    "# print(f\"target: {twenty_test.target[1]}\")\n",
    "# print('-'*80)"
   ]
  },
  {
   "cell_type": "code",
   "execution_count": null,
   "id": "07faf608",
   "metadata": {
    "hidden": true
   },
   "outputs": [],
   "source": [
    "# from sklearn.feature_extraction.text import TfidfVectorizer\n",
    "# from sklearn.svm import SVC\n",
    "# from sklearn.decomposition import TruncatedSVD\n",
    "# from sklearn.pipeline import Pipeline, make_pipeline\n",
    "\n",
    "# vec = TfidfVectorizer(min_df=3, stop_words='english',\n",
    "#                       ngram_range=(1, 2))\n",
    "\n",
    "# svd = TruncatedSVD(n_components=100, n_iter=7, random_state=42)\n",
    "\n",
    "# lsa = make_pipeline(vec, svd)\n",
    "\n",
    "# clf = SVC(C=150, gamma=2e-2, probability=True)\n",
    "# pipe = make_pipeline(lsa, clf)\n",
    "# pipe.fit(twenty_train.data, twenty_train.target)\n",
    "# pipe.score(twenty_test.data, twenty_test.target)"
   ]
  },
  {
   "cell_type": "code",
   "execution_count": null,
   "id": "7366e717",
   "metadata": {
    "hidden": true
   },
   "outputs": [],
   "source": [
    "# def print_prediction(doc):\n",
    "#     y_pred = pipe.predict_proba([doc])[0]\n",
    "#     for target, prob in zip(twenty_train.target_names, y_pred):\n",
    "#         print(\"{:.3f} {}\".format(prob, target))\n",
    "\n",
    "# doc = twenty_test.data[0]\n",
    "# print_prediction(doc)"
   ]
  },
  {
   "cell_type": "code",
   "execution_count": null,
   "id": "4009ee7c",
   "metadata": {
    "hidden": true
   },
   "outputs": [],
   "source": [
    "# import eli5\n",
    "# from eli5.lime import TextExplainer\n",
    "\n",
    "# te = TextExplainer(random_state=42)\n",
    "# te.fit(doc, pipe.predict_proba)\n",
    "# te.show_prediction(target_names=twenty_train.target_names)"
   ]
  },
  {
   "cell_type": "code",
   "execution_count": null,
   "id": "e9205e6d",
   "metadata": {
    "hidden": true
   },
   "outputs": [],
   "source": []
  }
 ],
 "metadata": {
  "accelerator": "GPU",
  "colab": {
   "collapsed_sections": [],
   "name": "JS_politifact_scrap_ML.ipynb",
   "provenance": [
    {
     "file_id": "12VIMXD-aqB2EqCnDDq8_z2lG0W_o1inp",
     "timestamp": 1630032335921
    },
    {
     "file_id": "1KgDvCnlTH8CApSC4GPLcy38ZYN8DZ7dv",
     "timestamp": 1629979793495
    },
    {
     "file_id": "11Hhlts5VKbIIGWJjTXATQXA0ns6T37aF",
     "timestamp": 1629623230007
    }
   ]
  },
  "kernelspec": {
   "display_name": "Python 3 (ipykernel)",
   "language": "python",
   "name": "python3"
  },
  "language_info": {
   "codemirror_mode": {
    "name": "ipython",
    "version": 3
   },
   "file_extension": ".py",
   "mimetype": "text/x-python",
   "name": "python",
   "nbconvert_exporter": "python",
   "pygments_lexer": "ipython3",
   "version": "3.8.6"
  },
  "toc": {
   "base_numbering": 1,
   "nav_menu": {},
   "number_sections": true,
   "sideBar": true,
   "skip_h1_title": false,
   "title_cell": "Table of Contents",
   "title_sidebar": "Contents",
   "toc_cell": false,
   "toc_position": {},
   "toc_section_display": true,
   "toc_window_display": true
  },
  "varInspector": {
   "cols": {
    "lenName": 16,
    "lenType": 16,
    "lenVar": 40
   },
   "kernels_config": {
    "python": {
     "delete_cmd_postfix": "",
     "delete_cmd_prefix": "del ",
     "library": "var_list.py",
     "varRefreshCmd": "print(var_dic_list())"
    },
    "r": {
     "delete_cmd_postfix": ") ",
     "delete_cmd_prefix": "rm(",
     "library": "var_list.r",
     "varRefreshCmd": "cat(var_dic_list()) "
    }
   },
   "types_to_exclude": [
    "module",
    "function",
    "builtin_function_or_method",
    "instance",
    "_Feature"
   ],
   "window_display": false
  }
 },
 "nbformat": 4,
 "nbformat_minor": 5
}
