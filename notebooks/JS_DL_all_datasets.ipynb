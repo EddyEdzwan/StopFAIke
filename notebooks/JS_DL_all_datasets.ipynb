{
 "cells": [
  {
   "cell_type": "markdown",
   "id": "540105f5",
   "metadata": {
    "id": "540105f5"
   },
   "source": [
    "# Evaluation of the 3 datasets with ML"
   ]
  },
  {
   "cell_type": "code",
   "execution_count": 3,
   "id": "8c94c786",
   "metadata": {
    "executionInfo": {
     "elapsed": 4,
     "status": "ok",
     "timestamp": 1630137188069,
     "user": {
      "displayName": "Julien Seguy",
      "photoUrl": "",
      "userId": "07351507381529939348"
     },
     "user_tz": -480
    },
    "id": "8c94c786"
   },
   "outputs": [],
   "source": [
    "import numpy as np\n",
    "import pandas as pd\n",
    "import joblib\n",
    "from termcolor import colored\n",
    "\n",
    "import matplotlib as mpl\n",
    "import matplotlib.pyplot as plt\n",
    "\n",
    "mpl.rcParams['figure.figsize'] = (12, 6)\n",
    "colors = plt.rcParams['axes.prop_cycle'].by_key()['color']"
   ]
  },
  {
   "cell_type": "markdown",
   "id": "1bbddbc5",
   "metadata": {
    "id": "1bbddbc5"
   },
   "source": [
    "## Helper functions"
   ]
  },
  {
   "cell_type": "code",
   "execution_count": 4,
   "id": "46bcaed5",
   "metadata": {
    "colab": {
     "base_uri": "https://localhost:8080/"
    },
    "executionInfo": {
     "elapsed": 732,
     "status": "ok",
     "timestamp": 1630139701260,
     "user": {
      "displayName": "Julien Seguy",
      "photoUrl": "",
      "userId": "07351507381529939348"
     },
     "user_tz": -480
    },
    "id": "46bcaed5",
    "outputId": "d9307b06-6d28-4988-c665-419cbb2dcaee"
   },
   "outputs": [
    {
     "name": "stderr",
     "output_type": "stream",
     "text": [
      "[nltk_data] Downloading package punkt to\n",
      "[nltk_data]     /Users/julienseguy/nltk_data...\n",
      "[nltk_data]   Package punkt is already up-to-date!\n",
      "[nltk_data] Downloading package stopwords to\n",
      "[nltk_data]     /Users/julienseguy/nltk_data...\n",
      "[nltk_data]   Package stopwords is already up-to-date!\n",
      "[nltk_data] Downloading package wordnet to\n",
      "[nltk_data]     /Users/julienseguy/nltk_data...\n",
      "[nltk_data]   Package wordnet is already up-to-date!\n"
     ]
    }
   ],
   "source": [
    "import seaborn as sns\n",
    "\n",
    "from sklearn.metrics import confusion_matrix\n",
    "from sklearn.metrics import recall_score\n",
    "from sklearn.metrics import precision_score\n",
    "from sklearn.metrics import f1_score\n",
    "from sklearn.metrics import accuracy_score\n",
    "from sklearn.metrics import roc_curve\n",
    "from sklearn.metrics import precision_recall_curve\n",
    "\n",
    "from sklearn.model_selection import train_test_split\n",
    "\n",
    "import tensorflow as tf\n",
    "from tensorflow.keras.preprocessing.text import Tokenizer\n",
    "from tensorflow.keras.preprocessing.sequence import pad_sequences\n",
    "\n",
    "import string\n",
    "from nltk.corpus import stopwords\n",
    "from nltk.stem.wordnet import WordNetLemmatizer\n",
    "from nltk import word_tokenize\n",
    "\n",
    "# Required only for Colab\n",
    "import nltk\n",
    "nltk.download('punkt')\n",
    "nltk.download('stopwords')\n",
    "nltk.download('wordnet')\n",
    "\n",
    "def clean(text):\n",
    "    \"\"\"\n",
    "    Provided by Le Wagon - Machine Learning - NLP\n",
    "    Preprocessing articles - punctuation / lowercased / tokenize (not number) / stop_words / lemmatize\n",
    "    \"\"\"\n",
    "    for punctuation in string.punctuation:\n",
    "        text = text.replace(punctuation, ' ') # Remove Punctuation\n",
    "    lowercased = text.lower() # Lower Case\n",
    "    tokenized = word_tokenize(lowercased) # Tokenize\n",
    "    words_only = [word for word in tokenized if word.isalpha()] # Remove numbers\n",
    "    stop_words = set(stopwords.words('english')) # Make stopword list\n",
    "    without_stopwords = [word for word in words_only if not word in stop_words] # Remove Stop Words\n",
    "    lemma = WordNetLemmatizer() # Initiate Lemmatizer\n",
    "    lemmatized = [lemma.lemmatize(word) for word in without_stopwords] # Lemmatize\n",
    "    return lemmatized\n",
    "\n",
    "def prep_text(texts, tokenizer, **hparams):\n",
    "    \"\"\"\n",
    "    Turns text into into padded sequences.\n",
    "    \"\"\"\n",
    "    # kwargs.get(\"local\", False)\n",
    "    text_sequences = tokenizer.texts_to_sequences(texts)\n",
    "    return pad_sequences(text_sequences, maxlen = hparams[\"max_sequence_length\"], padding='post')\n",
    "\n",
    "def plot_loss(history, title=None):\n",
    "    fig, (ax1, ax2, ax3) = plt.subplots(1, 3, figsize=(18, 4))\n",
    "    ax1.plot(history.history['loss'])\n",
    "    ax1.plot(history.history['val_loss'])\n",
    "    ax1.set_title('Model loss')\n",
    "    ax1.set_ylabel('Loss')\n",
    "    ax1.set_xlabel('Epoch')\n",
    "    ax1.set_ylim(ymin=0, ymax=1)\n",
    "    ax1.legend(['Train', 'Validation'], loc='best')\n",
    "\n",
    "    ax2.plot(history.history['accuracy'])\n",
    "    ax2.plot(history.history['val_accuracy'])\n",
    "    ax2.set_title('ACC')\n",
    "    ax2.set_ylabel('ACC')\n",
    "    ax2.set_xlabel('Epoch')\n",
    "    ax2.set_ylim(ymin=0, ymax=1)\n",
    "    ax2.legend(['Train', 'Validation'], loc='best')\n",
    "\n",
    "    ax3.plot(history.history['recall'])\n",
    "    ax3.plot(history.history['val_recall'])\n",
    "    ax3.set_title('Recall')\n",
    "    ax3.set_ylabel('Recall')\n",
    "    ax3.set_xlabel('Epoch')\n",
    "    ax3.set_ylim(ymin=0, ymax=1)\n",
    "    ax3.legend(['Train', 'Validation'], loc='best')\n",
    "    if title:\n",
    "        fig.suptitle(title)\n",
    "    plt.show()\n",
    "\n",
    "def binary_metrics(y_test, y_pred):\n",
    "    print('-'*80)\n",
    "    print('Acc: {:.2f}'.format(accuracy_score(y_test, y_pred)))\n",
    "    print('Recall: {:.2f}'.format(recall_score(y_test, y_pred)))\n",
    "    print('Precision: {:.2f}'.format(precision_score(y_test, y_pred)))\n",
    "    print('f1: {:.2f}'.format(f1_score(y_test, y_pred)))\n",
    "    print('-'*80)\n",
    "    \n",
    "def get_metrics(y_test, X, model):\n",
    "\n",
    "    y_prob = model.predict(X)\n",
    "    y_pred = np.where(y_prob > 0.5, 1, 0)\n",
    "\n",
    "    conf_matrix = confusion_matrix(y_test, y_pred)\n",
    "\n",
    "    acc = accuracy_score(y_test, y_pred)\n",
    "    recall = recall_score(y_test, y_pred)\n",
    "    precision = precision_score(y_test, y_pred)\n",
    "    f1 = f1_score(y_test, y_pred)\n",
    "\n",
    "    print('-'*80)\n",
    "    print(f\"acc: {acc*100:.2f}%\")\n",
    "    print(f\"recall: {recall*100:.2f}%\")\n",
    "    print(f\"precision: {precision*100:.2f}%\")\n",
    "    print(f\"f1: {f1*100:.2f}%\")\n",
    "    print('-'*80)\n",
    "\n",
    "    sns.heatmap(conf_matrix, annot=True, fmt=\"d\");"
   ]
  },
  {
   "cell_type": "markdown",
   "id": "2816b769",
   "metadata": {},
   "source": [
    "## Parameters"
   ]
  },
  {
   "cell_type": "code",
   "execution_count": 11,
   "id": "560a32d2",
   "metadata": {},
   "outputs": [],
   "source": [
    "hparams = {\n",
    "    \"batch_size\": 128,\n",
    "    \"cnn_filter_sizes\": [128, 128, 128],\n",
    "    \"cnn_kernel_sizes\": [5, 5, 5],\n",
    "    \"cnn_pooling_sizes\": [5, 5, 40],\n",
    "    \"constraint_learning_rate\": 0.01,\n",
    "    \"embedding_dim\": 100,\n",
    "    \"embedding_trainable\": False,\n",
    "    \"learning_rate\": 0.005,\n",
    "    \"max_num_words\": 10000,\n",
    "    \"max_sequence_length\": 40\n",
    "}"
   ]
  },
  {
   "cell_type": "markdown",
   "id": "281e36b7",
   "metadata": {
    "id": "281e36b7"
   },
   "source": [
    "## Loading Datasets"
   ]
  },
  {
   "cell_type": "markdown",
   "id": "370d2d6a",
   "metadata": {
    "heading_collapsed": true,
    "id": "370d2d6a"
   },
   "source": [
    "### Loading `politifact_scrap.csv`"
   ]
  },
  {
   "cell_type": "code",
   "execution_count": 12,
   "id": "fc36e42d",
   "metadata": {
    "colab": {
     "base_uri": "https://localhost:8080/"
    },
    "executionInfo": {
     "elapsed": 1240,
     "status": "ok",
     "timestamp": 1630137194743,
     "user": {
      "displayName": "Julien Seguy",
      "photoUrl": "",
      "userId": "07351507381529939348"
     },
     "user_tz": -480
    },
    "hidden": true,
    "id": "fc36e42d",
    "outputId": "ebda0b69-3162-4544-de79-95155ed580a2"
   },
   "outputs": [
    {
     "name": "stdout",
     "output_type": "stream",
     "text": [
      "--------------------------------------------------------------------------------\n",
      "data_P shape: (19826, 8)\n",
      "--------------------------------------------------------------------------------\n",
      "--------------------------------------------------------------------------------\n",
      "1    71.562595\n",
      "0    28.437405\n",
      "Name: category, dtype: float64\n",
      "--------------------------------------------------------------------------------\n",
      "1    54.206597\n",
      "0    45.793403\n",
      "Name: category2, dtype: float64\n",
      "--------------------------------------------------------------------------------\n"
     ]
    }
   ],
   "source": [
    "def get_data_from_gcp(nrows=10000, optimize=False, **kwargs):\n",
    "    \"\"\"method to get the training data (or a portion of it) from GCP\"\"\"\n",
    "    path = 'https://storage.googleapis.com/wagon-data-615-seguy/data/politifact_scrap.csv'\n",
    "    df = pd.read_csv(path, nrows=nrows)\n",
    "    return df\n",
    "\n",
    "data_P = get_data_from_gcp(nrows=30000)\n",
    "\n",
    "print('-'*80)\n",
    "print(f\"data_P shape: {data_P.shape}\")\n",
    "print('-'*80)\n",
    "print('-'*80)\n",
    "print(data_P['category'].value_counts()/len(data_P)*100)\n",
    "print('-'*80)\n",
    "print(data_P['category2'].value_counts()/len(data_P)*100)\n",
    "print('-'*80)"
   ]
  },
  {
   "cell_type": "code",
   "execution_count": 13,
   "id": "1404ae8f",
   "metadata": {
    "colab": {
     "base_uri": "https://localhost:8080/"
    },
    "executionInfo": {
     "elapsed": 9383,
     "status": "ok",
     "timestamp": 1630137480284,
     "user": {
      "displayName": "Julien Seguy",
      "photoUrl": "",
      "userId": "07351507381529939348"
     },
     "user_tz": -480
    },
    "hidden": true,
    "id": "1404ae8f",
    "outputId": "1e21a508-0d42-4c42-faf8-6d0e340a50dd"
   },
   "outputs": [
    {
     "name": "stdout",
     "output_type": "stream",
     "text": [
      "--------------------------------------------------------------------------------\n",
      "X_P shape: (19826,)\n",
      "y_P shape: (19826,)\n",
      "--------------------------------------------------------------------------------\n",
      "Original text: “Washington public school forces unvaccinated teens to wear ankle monitors” as a condition of playing team sports.\n",
      "Clean text: ['washington', 'public', 'school', 'force', 'unvaccinated', 'teen', 'wear', 'ankle', 'monitor', 'condition', 'playing', 'team', 'sport']\n",
      "--------------------------------------------------------------------------------\n"
     ]
    }
   ],
   "source": [
    "X_P = data_P['statement'].apply(clean).copy()\n",
    "y_P = data_P['category2'].copy()\n",
    "\n",
    "print('-'*80)\n",
    "print(f\"X_P shape: {X_P.shape}\")\n",
    "print(f\"y_P shape: {y_P.shape}\")\n",
    "print('-'*80)\n",
    "print(f\"Original text: {data_P['statement'][0]}\")\n",
    "print(f\"Clean text: {X_P[0]}\")\n",
    "print('-'*80)"
   ]
  },
  {
   "cell_type": "code",
   "execution_count": 14,
   "id": "038ab59c",
   "metadata": {
    "colab": {
     "base_uri": "https://localhost:8080/"
    },
    "executionInfo": {
     "elapsed": 15,
     "status": "ok",
     "timestamp": 1630137480284,
     "user": {
      "displayName": "Julien Seguy",
      "photoUrl": "",
      "userId": "07351507381529939348"
     },
     "user_tz": -480
    },
    "hidden": true,
    "id": "038ab59c",
    "outputId": "dd11b4c7-1013-4655-ddff-b914a0e3f618"
   },
   "outputs": [
    {
     "name": "stdout",
     "output_type": "stream",
     "text": [
      "--------------------------------------------------------------------------------\n",
      "X_P_train shape: (15860,)\n",
      "y_P_train shape: (15860,)\n",
      "--------------------------------------------------------------------------------\n",
      "X_P_test shape: (3966,)\n",
      "y_P_test shape: (3966,)\n",
      "--------------------------------------------------------------------------------\n",
      "--------------------------------------------------------------------------------\n",
      "Fake (1) proportion in train (%): 54.300\n",
      "Fake (1) proportion in test (%): 53.833\n",
      "--------------------------------------------------------------------------------\n"
     ]
    }
   ],
   "source": [
    "X_P_train, X_P_test, y_P_train, y_P_test = train_test_split(X_P, y_P, test_size=0.2, random_state=42)\n",
    "\n",
    "print('-'*80)\n",
    "print(f\"X_P_train shape: {X_P_train.shape}\")\n",
    "print(f\"y_P_train shape: {y_P_train.shape}\")\n",
    "print('-'*80)\n",
    "print(f\"X_P_test shape: {X_P_test.shape}\")\n",
    "print(f\"y_P_test shape: {y_P_test.shape}\")\n",
    "print('-'*80)\n",
    "print('-'*80)\n",
    "print(f\"Fake (1) proportion in train (%): {y_P_train.sum()/len(y_P_train)*100:.3f}\")\n",
    "print(f\"Fake (1) proportion in test (%): {y_P_test.sum()/len(y_P_test)*100:.3f}\")\n",
    "print('-'*80)"
   ]
  },
  {
   "cell_type": "code",
   "execution_count": 15,
   "id": "QZNFLHvTvf47",
   "metadata": {
    "colab": {
     "base_uri": "https://localhost:8080/"
    },
    "executionInfo": {
     "elapsed": 481,
     "status": "ok",
     "timestamp": 1630137480752,
     "user": {
      "displayName": "Julien Seguy",
      "photoUrl": "",
      "userId": "07351507381529939348"
     },
     "user_tz": -480
    },
    "hidden": true,
    "id": "QZNFLHvTvf47",
    "outputId": "cb36ff51-11e8-4647-a1c5-776adf572452"
   },
   "outputs": [
    {
     "name": "stdout",
     "output_type": "stream",
     "text": [
      "--------------------------------------------------------------------------------\n",
      "X_P_train_pad shape: (15860, 40)\n",
      "X_P_pad shape: (3966, 40)\n",
      "--------------------------------------------------------------------------------\n",
      "--------------------------------------------------------------------------------\n",
      "vocab_size: 12713\n",
      "--------------------------------------------------------------------------------\n"
     ]
    }
   ],
   "source": [
    "tokenizer_P = Tokenizer(num_words = hparams[\"max_num_words\"])\n",
    "tokenizer_P.fit_on_texts(X_P_train)\n",
    "\n",
    "X_P_train_pad = prep_text(X_P_train, tokenizer_P, **hparams)\n",
    "X_P_test_pad = prep_text(X_P_test, tokenizer_P, **hparams)\n",
    "\n",
    "print('-'*80)\n",
    "print(f\"X_P_train_pad shape: {X_P_train_pad.shape}\")\n",
    "print(f\"X_P_pad shape: {X_P_test_pad.shape}\")\n",
    "print('-'*80)\n",
    "\n",
    "vocab_size = len(tokenizer_P.word_index)\n",
    "print('-'*80)\n",
    "print(f\"vocab_size: {vocab_size}\")\n",
    "print('-'*80)"
   ]
  },
  {
   "cell_type": "markdown",
   "id": "635e0d5e",
   "metadata": {
    "heading_collapsed": true,
    "id": "635e0d5e"
   },
   "source": [
    "### Loading `FakeNewsNET`"
   ]
  },
  {
   "cell_type": "code",
   "execution_count": 16,
   "id": "1f144a74",
   "metadata": {
    "colab": {
     "base_uri": "https://localhost:8080/"
    },
    "executionInfo": {
     "elapsed": 2115,
     "status": "ok",
     "timestamp": 1630137440678,
     "user": {
      "displayName": "Julien Seguy",
      "photoUrl": "",
      "userId": "07351507381529939348"
     },
     "user_tz": -480
    },
    "hidden": true,
    "id": "1f144a74",
    "outputId": "ac7a165d-80cb-4de9-f83f-bba52f72e77b"
   },
   "outputs": [
    {
     "name": "stdout",
     "output_type": "stream",
     "text": [
      "--------------------------------------------------------------------------------\n",
      "data_FNN shape: (19281, 8)\n",
      "--------------------------------------------------------------------------------\n"
     ]
    }
   ],
   "source": [
    "def get_data_from_gcp(nrows=10000, optimize=False, **kwargs):\n",
    "    \"\"\"method to get the training data (or a portion of it) from GCP\"\"\"\n",
    "    path = 'https://storage.googleapis.com/wagon-data-615-seguy/data/FakesNewsNET.csv'\n",
    "    df = pd.read_csv(path, nrows=nrows)\n",
    "    return df\n",
    "\n",
    "data_FNN = get_data_from_gcp(nrows=20000)\n",
    "\n",
    "print('-'*80)\n",
    "print(f\"data_FNN shape: {data_FNN.shape}\")\n",
    "print('-'*80)"
   ]
  },
  {
   "cell_type": "code",
   "execution_count": 17,
   "id": "2f61a7e0",
   "metadata": {
    "colab": {
     "base_uri": "https://localhost:8080/"
    },
    "executionInfo": {
     "elapsed": 8358,
     "status": "ok",
     "timestamp": 1630137449033,
     "user": {
      "displayName": "Julien Seguy",
      "photoUrl": "",
      "userId": "07351507381529939348"
     },
     "user_tz": -480
    },
    "hidden": true,
    "id": "2f61a7e0",
    "outputId": "516d4371-559a-4a1a-b563-bdae67af3583"
   },
   "outputs": [
    {
     "name": "stdout",
     "output_type": "stream",
     "text": [
      "--------------------------------------------------------------------------------\n",
      "X_FNN shape: (19281,)\n",
      "y_FNN shape: (19281,)\n",
      "--------------------------------------------------------------------------------\n",
      "Original text: Djou wins special election for Congress\n",
      "Clean text: ['djou', 'win', 'special', 'election', 'congress']\n",
      "--------------------------------------------------------------------------------\n"
     ]
    }
   ],
   "source": [
    "X_FNN = data_FNN['title'].apply(clean).copy()\n",
    "y_FNN = data_FNN['category'].copy()\n",
    "\n",
    "print('-'*80)\n",
    "print(f\"X_FNN shape: {X_FNN.shape}\")\n",
    "print(f\"y_FNN shape: {y_FNN.shape}\")\n",
    "print('-'*80)\n",
    "print(f\"Original text: {data_FNN['title'][0]}\")\n",
    "print(f\"Clean text: {X_FNN[0]}\")\n",
    "print('-'*80)"
   ]
  },
  {
   "cell_type": "code",
   "execution_count": 18,
   "id": "4a87b90d",
   "metadata": {
    "colab": {
     "base_uri": "https://localhost:8080/"
    },
    "executionInfo": {
     "elapsed": 6,
     "status": "ok",
     "timestamp": 1630137449034,
     "user": {
      "displayName": "Julien Seguy",
      "photoUrl": "",
      "userId": "07351507381529939348"
     },
     "user_tz": -480
    },
    "hidden": true,
    "id": "4a87b90d",
    "outputId": "58fd41bf-d7aa-4f0b-afe2-007d603103d9"
   },
   "outputs": [
    {
     "name": "stdout",
     "output_type": "stream",
     "text": [
      "--------------------------------------------------------------------------------\n",
      "X_FNN_train shape: (15424,)\n",
      "y_FNN_train shape: (15424,)\n",
      "--------------------------------------------------------------------------------\n",
      "X_FNN_test shape: (3857,)\n",
      "y_FNN_test shape: (3857,)\n",
      "--------------------------------------------------------------------------------\n",
      "--------------------------------------------------------------------------------\n",
      "Fake (1) proportion in train (%): 24.870\n",
      "Fake (1) proportion in test (%): 23.568\n",
      "--------------------------------------------------------------------------------\n"
     ]
    }
   ],
   "source": [
    "X_FNN_train, X_FNN_test, y_FNN_train, y_FNN_test = train_test_split(X_FNN, y_FNN, test_size=0.2, random_state=42)\n",
    "\n",
    "print('-'*80)\n",
    "print(f\"X_FNN_train shape: {X_FNN_train.shape}\")\n",
    "print(f\"y_FNN_train shape: {y_FNN_train.shape}\")\n",
    "print('-'*80)\n",
    "print(f\"X_FNN_test shape: {X_FNN_test.shape}\")\n",
    "print(f\"y_FNN_test shape: {y_FNN_test.shape}\")\n",
    "print('-'*80)\n",
    "print('-'*80)\n",
    "print(f\"Fake (1) proportion in train (%): {y_FNN_train.sum()/len(y_FNN_train)*100:.3f}\")\n",
    "print(f\"Fake (1) proportion in test (%): {y_FNN_test.sum()/len(y_FNN_test)*100:.3f}\")\n",
    "print('-'*80)"
   ]
  },
  {
   "cell_type": "code",
   "execution_count": 19,
   "id": "tlLVZ7-3waqp",
   "metadata": {
    "colab": {
     "base_uri": "https://localhost:8080/"
    },
    "executionInfo": {
     "elapsed": 530,
     "status": "ok",
     "timestamp": 1630137449560,
     "user": {
      "displayName": "Julien Seguy",
      "photoUrl": "",
      "userId": "07351507381529939348"
     },
     "user_tz": -480
    },
    "hidden": true,
    "id": "tlLVZ7-3waqp",
    "outputId": "50e07f03-4c91-43d7-9ac7-865696a218a5"
   },
   "outputs": [
    {
     "name": "stdout",
     "output_type": "stream",
     "text": [
      "--------------------------------------------------------------------------------\n",
      "X_FNN_train_pad shape: (15424, 40)\n",
      "X_FNN_pad shape: (3857, 40)\n",
      "--------------------------------------------------------------------------------\n",
      "--------------------------------------------------------------------------------\n",
      "vocab_size: 12713\n",
      "--------------------------------------------------------------------------------\n"
     ]
    }
   ],
   "source": [
    "tokenizer_F = Tokenizer(num_words = hparams[\"max_num_words\"])\n",
    "tokenizer_F.fit_on_texts(X_P_train)\n",
    "\n",
    "X_FNN_train_pad = prep_text(X_FNN_train, tokenizer_F, **hparams)\n",
    "X_FNN_test_pad = prep_text(X_FNN_test, tokenizer_F, **hparams)\n",
    "\n",
    "print('-'*80)\n",
    "print(f\"X_FNN_train_pad shape: {X_FNN_train_pad.shape}\")\n",
    "print(f\"X_FNN_pad shape: {X_FNN_test_pad.shape}\")\n",
    "print('-'*80)\n",
    "\n",
    "vocab_size = len(tokenizer_F.word_index)\n",
    "print('-'*80)\n",
    "print(f\"vocab_size: {vocab_size}\")\n",
    "print('-'*80)"
   ]
  },
  {
   "cell_type": "markdown",
   "id": "9564511e",
   "metadata": {
    "heading_collapsed": true,
    "id": "9564511e"
   },
   "source": [
    "### Loading `Bisaillon`"
   ]
  },
  {
   "cell_type": "code",
   "execution_count": 20,
   "id": "e6468d72",
   "metadata": {
    "colab": {
     "base_uri": "https://localhost:8080/"
    },
    "executionInfo": {
     "elapsed": 4338,
     "status": "ok",
     "timestamp": 1630137587643,
     "user": {
      "displayName": "Julien Seguy",
      "photoUrl": "",
      "userId": "07351507381529939348"
     },
     "user_tz": -480
    },
    "hidden": true,
    "id": "e6468d72",
    "outputId": "cb91263f-332a-42d7-a95e-548f50c36a27"
   },
   "outputs": [
    {
     "name": "stdout",
     "output_type": "stream",
     "text": [
      "--------------------------------------------------------------------------------\n",
      "true shape: (21417, 4)\n",
      "fake shape: (23481, 4)\n",
      "--------------------------------------------------------------------------------\n"
     ]
    }
   ],
   "source": [
    "def get_data_from_gcp(nrows=10000, optimize=False, **kwargs):\n",
    "    \"\"\"method to get the training data (or a portion of it) from GCP\"\"\"\n",
    "    true_path = 'https://storage.googleapis.com/wagon-data-615-seguy/data/True.csv'\n",
    "    fake_path = 'https://storage.googleapis.com/wagon-data-615-seguy/data/Fake.csv'\n",
    "    true_df = pd.read_csv(true_path, nrows=nrows)\n",
    "    fake_df = pd.read_csv(fake_path, nrows=nrows)\n",
    "    return true_df, fake_df\n",
    "\n",
    "true, fake = get_data_from_gcp(nrows=None)\n",
    "\n",
    "print('-'*80)\n",
    "print(f\"true shape: {true.shape}\")\n",
    "print(f\"fake shape: {fake.shape}\")\n",
    "print('-'*80)"
   ]
  },
  {
   "cell_type": "code",
   "execution_count": 21,
   "id": "ffd17e9f",
   "metadata": {
    "colab": {
     "base_uri": "https://localhost:8080/"
    },
    "executionInfo": {
     "elapsed": 494,
     "status": "ok",
     "timestamp": 1630137588123,
     "user": {
      "displayName": "Julien Seguy",
      "photoUrl": "",
      "userId": "07351507381529939348"
     },
     "user_tz": -480
    },
    "hidden": true,
    "id": "ffd17e9f",
    "outputId": "edd3e9dc-d88b-44fa-8dad-8cff895aa63f"
   },
   "outputs": [
    {
     "name": "stdout",
     "output_type": "stream",
     "text": [
      "--------------------------------------------------------------------------------\n",
      "true shape (wo duplicates): (21211, 4)\n",
      "fake shape (wo duplicates): (23478, 4)\n",
      "--------------------------------------------------------------------------------\n"
     ]
    }
   ],
   "source": [
    "true.drop_duplicates(inplace=True)\n",
    "fake.drop_duplicates(inplace=True)\n",
    "\n",
    "print('-'*80)\n",
    "print(f\"true shape (wo duplicates): {true.shape}\")\n",
    "print(f\"fake shape (wo duplicates): {fake.shape}\")\n",
    "print('-'*80)"
   ]
  },
  {
   "cell_type": "code",
   "execution_count": 22,
   "id": "1480b743",
   "metadata": {
    "colab": {
     "base_uri": "https://localhost:8080/"
    },
    "executionInfo": {
     "elapsed": 419,
     "status": "ok",
     "timestamp": 1630137591489,
     "user": {
      "displayName": "Julien Seguy",
      "photoUrl": "",
      "userId": "07351507381529939348"
     },
     "user_tz": -480
    },
    "hidden": true,
    "id": "1480b743",
    "outputId": "f98ac7eb-85bc-4100-e710-099cdf517149"
   },
   "outputs": [
    {
     "name": "stdout",
     "output_type": "stream",
     "text": [
      "--------------------------------------------------------------------------------\n",
      "data_BIS shape: (44689, 5)\n",
      "--------------------------------------------------------------------------------\n",
      "ratio #true: 47.46%\n",
      "ratio #fake: 52.54%\n",
      "--------------------------------------------------------------------------------\n"
     ]
    }
   ],
   "source": [
    "true['category'] = 0\n",
    "fake['category'] = 1\n",
    "\n",
    "data_BIS = pd.concat([true, fake]).reset_index(drop=True)\n",
    "\n",
    "print('-'*80)\n",
    "print(f\"data_BIS shape: {data_BIS.shape}\")\n",
    "print('-'*80)\n",
    "print(f\"ratio #true: {len(data_BIS[data_BIS['category']==0])/len(data_BIS)*100:.2f}%\")\n",
    "print(f\"ratio #fake: {len(data_BIS[data_BIS['category']==1])/len(data_BIS)*100:.2f}%\")\n",
    "print('-'*80)"
   ]
  },
  {
   "cell_type": "code",
   "execution_count": 23,
   "id": "23efc5c5",
   "metadata": {
    "colab": {
     "base_uri": "https://localhost:8080/"
    },
    "executionInfo": {
     "elapsed": 18856,
     "status": "ok",
     "timestamp": 1630137611238,
     "user": {
      "displayName": "Julien Seguy",
      "photoUrl": "",
      "userId": "07351507381529939348"
     },
     "user_tz": -480
    },
    "hidden": true,
    "id": "23efc5c5",
    "outputId": "60247951-8fde-4dab-9b0d-b59f7b750234"
   },
   "outputs": [
    {
     "name": "stdout",
     "output_type": "stream",
     "text": [
      "--------------------------------------------------------------------------------\n",
      "X_BIS shape: (44689,)\n",
      "y_BIS shape: (44689,)\n",
      "--------------------------------------------------------------------------------\n",
      "Original text: As U.S. budget fight looms, Republicans flip their fiscal script\n",
      "Clean text: ['u', 'budget', 'fight', 'loom', 'republican', 'flip', 'fiscal', 'script']\n",
      "--------------------------------------------------------------------------------\n"
     ]
    }
   ],
   "source": [
    "X_BIS = data_BIS['title'].apply(clean).copy()\n",
    "y_BIS = data_BIS['category'].copy()\n",
    "\n",
    "print('-'*80)\n",
    "print(f\"X_BIS shape: {X_BIS.shape}\")\n",
    "print(f\"y_BIS shape: {y_BIS.shape}\")\n",
    "print('-'*80)\n",
    "print(f\"Original text: {data_BIS['title'][0]}\")\n",
    "print(f\"Clean text: {X_BIS[0]}\")\n",
    "print('-'*80)"
   ]
  },
  {
   "cell_type": "code",
   "execution_count": 24,
   "id": "6915a245",
   "metadata": {
    "colab": {
     "base_uri": "https://localhost:8080/"
    },
    "executionInfo": {
     "elapsed": 16,
     "status": "ok",
     "timestamp": 1630137611238,
     "user": {
      "displayName": "Julien Seguy",
      "photoUrl": "",
      "userId": "07351507381529939348"
     },
     "user_tz": -480
    },
    "hidden": true,
    "id": "6915a245",
    "outputId": "f2ce501a-2476-4a2f-fd80-2d29d4cf6cec"
   },
   "outputs": [
    {
     "name": "stdout",
     "output_type": "stream",
     "text": [
      "--------------------------------------------------------------------------------\n",
      "X_BIS_train shape: (35751,)\n",
      "y_BIS_train shape: (35751,)\n",
      "--------------------------------------------------------------------------------\n",
      "X_BIS_test shape: (8938,)\n",
      "y_BIS_test shape: (8938,)\n",
      "--------------------------------------------------------------------------------\n",
      "--------------------------------------------------------------------------------\n",
      "Fake (1) proportion in train (%): 52.670\n",
      "Fake (1) proportion in test (%): 52.003\n",
      "--------------------------------------------------------------------------------\n"
     ]
    }
   ],
   "source": [
    "X_BIS_train, X_BIS_test, y_BIS_train, y_BIS_test = train_test_split(X_BIS, y_BIS, test_size=0.2, random_state=42)\n",
    "\n",
    "print('-'*80)\n",
    "print(f\"X_BIS_train shape: {X_BIS_train.shape}\")\n",
    "print(f\"y_BIS_train shape: {y_BIS_train.shape}\")\n",
    "print('-'*80)\n",
    "print(f\"X_BIS_test shape: {X_BIS_test.shape}\")\n",
    "print(f\"y_BIS_test shape: {y_BIS_test.shape}\")\n",
    "print('-'*80)\n",
    "print('-'*80)\n",
    "print(f\"Fake (1) proportion in train (%): {y_BIS_train.sum()/len(y_BIS_train)*100:.3f}\")\n",
    "print(f\"Fake (1) proportion in test (%): {y_BIS_test.sum()/len(y_BIS_test)*100:.3f}\")\n",
    "print('-'*80)"
   ]
  },
  {
   "cell_type": "code",
   "execution_count": 25,
   "id": "mOwCsbPTxgnc",
   "metadata": {
    "colab": {
     "base_uri": "https://localhost:8080/"
    },
    "executionInfo": {
     "elapsed": 1067,
     "status": "ok",
     "timestamp": 1630137671810,
     "user": {
      "displayName": "Julien Seguy",
      "photoUrl": "",
      "userId": "07351507381529939348"
     },
     "user_tz": -480
    },
    "hidden": true,
    "id": "mOwCsbPTxgnc",
    "outputId": "6972436a-13a7-45b3-914a-7c5ac433b01e",
    "scrolled": true
   },
   "outputs": [
    {
     "name": "stdout",
     "output_type": "stream",
     "text": [
      "--------------------------------------------------------------------------------\n",
      "X_BIS_train_pad shape: (35751, 40)\n",
      "X_BIS_pad shape: (8938, 40)\n",
      "--------------------------------------------------------------------------------\n",
      "--------------------------------------------------------------------------------\n",
      "vocab_size: 12713\n",
      "--------------------------------------------------------------------------------\n"
     ]
    }
   ],
   "source": [
    "tokenizer_B = Tokenizer(num_words = hparams[\"max_num_words\"])\n",
    "tokenizer_B.fit_on_texts(X_P_train)\n",
    "\n",
    "X_BIS_train_pad = prep_text(X_BIS_train, tokenizer_B, **hparams)\n",
    "X_BIS_test_pad = prep_text(X_BIS_test, tokenizer_B, **hparams)\n",
    "\n",
    "print('-'*80)\n",
    "print(f\"X_BIS_train_pad shape: {X_BIS_train_pad.shape}\")\n",
    "print(f\"X_BIS_pad shape: {X_BIS_test_pad.shape}\")\n",
    "print('-'*80)\n",
    "\n",
    "vocab_size = len(tokenizer_B.word_index)\n",
    "print('-'*80)\n",
    "print(f\"vocab_size: {vocab_size}\")\n",
    "print('-'*80)"
   ]
  },
  {
   "cell_type": "markdown",
   "id": "9b735d05",
   "metadata": {
    "heading_collapsed": true
   },
   "source": [
    "### Loading `Poynter`"
   ]
  },
  {
   "cell_type": "code",
   "execution_count": 26,
   "id": "d39dae54",
   "metadata": {
    "hidden": true
   },
   "outputs": [
    {
     "name": "stdout",
     "output_type": "stream",
     "text": [
      "--------------------------------------------------------------------------------\n",
      "data_PO shape: (14897, 3)\n",
      "--------------------------------------------------------------------------------\n",
      "--------------------------------------------------------------------------------\n",
      "0.0    50.063771\n",
      "1.0    49.936229\n",
      "Name: label_list_transformed, dtype: float64\n",
      "--------------------------------------------------------------------------------\n"
     ]
    }
   ],
   "source": [
    "def get_data_from_gcp(nrows=10000, optimize=False, **kwargs):\n",
    "    \"\"\"method to get the training data (or a portion of it) from GCP\"\"\"\n",
    "    path = 'https://storage.googleapis.com/wagon-data-615-seguy/data/poynter_final_condensed.csv'\n",
    "    df = pd.read_csv(path, nrows=nrows)\n",
    "    return df\n",
    "\n",
    "data_PO = get_data_from_gcp(nrows=30000)\n",
    "\n",
    "print('-'*80)\n",
    "print(f\"data_PO shape: {data_PO.shape}\")\n",
    "print('-'*80)\n",
    "print('-'*80)\n",
    "print(data_PO['label_list_transformed'].value_counts()/len(data_PO)*100)\n",
    "print('-'*80)"
   ]
  },
  {
   "cell_type": "code",
   "execution_count": 27,
   "id": "94c06171",
   "metadata": {
    "hidden": true
   },
   "outputs": [
    {
     "name": "stdout",
     "output_type": "stream",
     "text": [
      "--------------------------------------------------------------------------------\n",
      "X_PO shape: (14897,)\n",
      "y_PO shape: (14897,)\n",
      "--------------------------------------------------------------------------------\n",
      "Original text: There is a call for free vaccination in the Ciudad de la Luz center, in Alicante, for people over 12 years old.\n",
      "Clean text: ['call', 'free', 'vaccination', 'ciudad', 'de', 'la', 'luz', 'center', 'alicante', 'people', 'year', 'old']\n",
      "--------------------------------------------------------------------------------\n"
     ]
    }
   ],
   "source": [
    "X_PO = data_PO['title_list'].apply(clean).copy()\n",
    "y_PO = data_PO['label_list_transformed'].copy()\n",
    "\n",
    "print('-'*80)\n",
    "print(f\"X_PO shape: {X_PO.shape}\")\n",
    "print(f\"y_PO shape: {y_PO.shape}\")\n",
    "print('-'*80)\n",
    "print(f\"Original text: {data_PO['title_list'][0]}\")\n",
    "print(f\"Clean text: {X_PO[0]}\")\n",
    "print('-'*80)"
   ]
  },
  {
   "cell_type": "code",
   "execution_count": 28,
   "id": "c5fca6bd",
   "metadata": {
    "hidden": true
   },
   "outputs": [
    {
     "name": "stdout",
     "output_type": "stream",
     "text": [
      "--------------------------------------------------------------------------------\n",
      "X_PO_train shape: (11917,)\n",
      "y_PO_train shape: (11917,)\n",
      "--------------------------------------------------------------------------------\n",
      "X_PO_test shape: (2980,)\n",
      "y_PO_test shape: (2980,)\n",
      "--------------------------------------------------------------------------------\n",
      "--------------------------------------------------------------------------------\n",
      "Fake (1) proportion in train (%): 49.870\n",
      "Fake (1) proportion in test (%): 50.201\n",
      "--------------------------------------------------------------------------------\n"
     ]
    }
   ],
   "source": [
    "X_PO_train, X_PO_test, y_PO_train, y_PO_test = train_test_split(X_PO, y_PO, test_size=0.2, random_state=42)\n",
    "\n",
    "print('-'*80)\n",
    "print(f\"X_PO_train shape: {X_PO_train.shape}\")\n",
    "print(f\"y_PO_train shape: {y_PO_train.shape}\")\n",
    "print('-'*80)\n",
    "print(f\"X_PO_test shape: {X_PO_test.shape}\")\n",
    "print(f\"y_PO_test shape: {y_PO_test.shape}\")\n",
    "print('-'*80)\n",
    "print('-'*80)\n",
    "print(f\"Fake (1) proportion in train (%): {y_PO_train.sum()/len(y_PO_train)*100:.3f}\")\n",
    "print(f\"Fake (1) proportion in test (%): {y_PO_test.sum()/len(y_PO_test)*100:.3f}\")\n",
    "print('-'*80)"
   ]
  },
  {
   "cell_type": "code",
   "execution_count": 29,
   "id": "5ec5c0ec",
   "metadata": {
    "hidden": true
   },
   "outputs": [
    {
     "name": "stdout",
     "output_type": "stream",
     "text": [
      "--------------------------------------------------------------------------------\n",
      "X_PO_train_pad shape: (11917, 40)\n",
      "X_PO_pad shape: (2980, 40)\n",
      "--------------------------------------------------------------------------------\n",
      "--------------------------------------------------------------------------------\n",
      "vocab_size: 12086\n",
      "--------------------------------------------------------------------------------\n"
     ]
    }
   ],
   "source": [
    "tokenizer_PO = Tokenizer(num_words = hparams[\"max_num_words\"])\n",
    "tokenizer_PO.fit_on_texts(X_PO_train)\n",
    "\n",
    "X_PO_train_pad = prep_text(X_PO_train, tokenizer_PO, **hparams)\n",
    "X_PO_test_pad = prep_text(X_PO_test, tokenizer_PO, **hparams)\n",
    "\n",
    "print('-'*80)\n",
    "print(f\"X_PO_train_pad shape: {X_PO_train_pad.shape}\")\n",
    "print(f\"X_PO_pad shape: {X_PO_test_pad.shape}\")\n",
    "print('-'*80)\n",
    "\n",
    "vocab_size = len(tokenizer_PO.word_index)\n",
    "print('-'*80)\n",
    "print(f\"vocab_size: {vocab_size}\")\n",
    "print('-'*80)"
   ]
  },
  {
   "cell_type": "markdown",
   "id": "09322e5a",
   "metadata": {
    "heading_collapsed": true,
    "id": "09322e5a"
   },
   "source": [
    "### Merging `All`"
   ]
  },
  {
   "cell_type": "code",
   "execution_count": 34,
   "id": "d8850c57",
   "metadata": {
    "hidden": true
   },
   "outputs": [
    {
     "name": "stdout",
     "output_type": "stream",
     "text": [
      "--------------------------------------------------------------------------------\n",
      "X_ALL_train shape: (67035,)\n",
      "y_ALL_train shape: (67035,)\n",
      "--------------------------------------------------------------------------------\n",
      "X_ALL_test shape: (16761,)\n",
      "y_ALL_test shape: (16761,)\n",
      "--------------------------------------------------------------------------------\n",
      "Fake (1) proportion in train (%): 46.659\n",
      "Fake (1) proportion in test (%): 45.892\n",
      "--------------------------------------------------------------------------------\n",
      "### TRAIN ###\n",
      "--------------------------------------------------------------------------------\n",
      "Politifact ratio: 0.24\n",
      "FakeNewsNET ratio: 0.23\n",
      "Bisaillon ratio: 0.53\n",
      "--------------------------------------------------------------------------------\n",
      "### TEST ###\n",
      "--------------------------------------------------------------------------------\n",
      "Politifact ratio: 0.24\n",
      "FakeNewsNET ratio: 0.23\n",
      "Bisaillon ratio: 0.53\n",
      "--------------------------------------------------------------------------------\n"
     ]
    }
   ],
   "source": [
    "X_ALL_train = pd.concat([X_P_train, X_FNN_train, X_BIS_train]).sample(frac=1, random_state=42).reset_index(drop=True)\n",
    "y_ALL_train = pd.concat([y_P_train, y_FNN_train, y_BIS_train]).sample(frac=1, random_state=42).reset_index(drop=True)\n",
    "\n",
    "X_ALL_test = pd.concat([X_P_test, X_FNN_test, X_BIS_test]).sample(frac=1, random_state=42).reset_index(drop=True)\n",
    "y_ALL_test = pd.concat([y_P_test, y_FNN_test, y_BIS_test]).sample(frac=1, random_state=42).reset_index(drop=True)\n",
    "\n",
    "print('-'*80)\n",
    "print(f\"X_ALL_train shape: {X_ALL_train.shape}\")\n",
    "print(f\"y_ALL_train shape: {y_ALL_train.shape}\")\n",
    "print('-'*80)\n",
    "print(f\"X_ALL_test shape: {X_ALL_test.shape}\")\n",
    "print(f\"y_ALL_test shape: {y_ALL_test.shape}\")\n",
    "print('-'*80)\n",
    "print(f\"Fake (1) proportion in train (%): {y_ALL_train.sum()/len(y_ALL_train)*100:.3f}\")\n",
    "print(f\"Fake (1) proportion in test (%): {y_ALL_test.sum()/len(y_ALL_test)*100:.3f}\")\n",
    "print('-'*80)\n",
    "print('### TRAIN ###')\n",
    "print('-'*80)\n",
    "print(f\"Politifact ratio: {X_P_train.shape[0]/X_ALL_train.shape[0]:.2f}\")\n",
    "print(f\"FakeNewsNET ratio: {X_FNN_train.shape[0]/X_ALL_train.shape[0]:.2f}\")\n",
    "print(f\"Bisaillon ratio: {X_BIS_train.shape[0]/X_ALL_train.shape[0]:.2f}\")\n",
    "print('-'*80)\n",
    "print('### TEST ###')\n",
    "print('-'*80)\n",
    "print(f\"Politifact ratio: {X_P_test.shape[0]/X_ALL_test.shape[0]:.2f}\")\n",
    "print(f\"FakeNewsNET ratio: {X_FNN_test.shape[0]/X_ALL_test.shape[0]:.2f}\")\n",
    "print(f\"Bisaillon ratio: {X_BIS_test.shape[0]/X_ALL_test.shape[0]:.2f}\")\n",
    "print('-'*80)"
   ]
  },
  {
   "cell_type": "code",
   "execution_count": 35,
   "id": "05e90ef4",
   "metadata": {
    "colab": {
     "base_uri": "https://localhost:8080/"
    },
    "executionInfo": {
     "elapsed": 457,
     "status": "ok",
     "timestamp": 1630137877728,
     "user": {
      "displayName": "Julien Seguy",
      "photoUrl": "",
      "userId": "07351507381529939348"
     },
     "user_tz": -480
    },
    "hidden": true,
    "id": "05e90ef4",
    "outputId": "40c490db-551b-478e-b4d9-711fbeb220f4"
   },
   "outputs": [],
   "source": [
    "# X_all = pd.concat([X_P, X_FNN, X_BIS]).reset_index(drop=True)\n",
    "# y_all = pd.concat([y_P, y_FNN, y_BIS]).reset_index(drop=True)\n",
    "\n",
    "# print('-'*80)\n",
    "# print(f\"X_all shape: {X_all.shape}\")\n",
    "# print(f\"y_all shape: {y_all.shape}\")\n",
    "# print('-'*80)"
   ]
  },
  {
   "cell_type": "code",
   "execution_count": 36,
   "id": "2dfddb7d",
   "metadata": {
    "colab": {
     "base_uri": "https://localhost:8080/"
    },
    "executionInfo": {
     "elapsed": 4,
     "status": "ok",
     "timestamp": 1630137878038,
     "user": {
      "displayName": "Julien Seguy",
      "photoUrl": "",
      "userId": "07351507381529939348"
     },
     "user_tz": -480
    },
    "hidden": true,
    "id": "2dfddb7d",
    "outputId": "006a7877-3468-46f4-f943-fb6202136583"
   },
   "outputs": [],
   "source": [
    "# X_ALL_train, X_ALL_test, y_ALL_train, y_ALL_test = train_test_split(X_all, y_all, test_size=0.2, random_state=42)\n",
    "\n",
    "# print('-'*80)\n",
    "# print(f\"X_ALL_train shape: {X_ALL_train.shape}\")\n",
    "# print(f\"y_ALL_train shape: {y_ALL_train.shape}\")\n",
    "# print('-'*80)\n",
    "# print(f\"X_ALL_test shape: {X_ALL_test.shape}\")\n",
    "# print(f\"y_ALL_test shape: {y_ALL_test.shape}\")\n",
    "# print('-'*80)\n",
    "# print('-'*80)\n",
    "# print(f\"Fake (1) proportion in train (%): {y_ALL_train.sum()/len(y_ALL_train)*100:.3f}\")\n",
    "# print(f\"Fake (1) proportion in test (%): {y_ALL_test.sum()/len(y_ALL_test)*100:.3f}\")\n",
    "# print('-'*80)"
   ]
  },
  {
   "cell_type": "code",
   "execution_count": 37,
   "id": "-73N7ltlxzIk",
   "metadata": {
    "colab": {
     "base_uri": "https://localhost:8080/"
    },
    "executionInfo": {
     "elapsed": 2044,
     "status": "ok",
     "timestamp": 1630137880079,
     "user": {
      "displayName": "Julien Seguy",
      "photoUrl": "",
      "userId": "07351507381529939348"
     },
     "user_tz": -480
    },
    "hidden": true,
    "id": "-73N7ltlxzIk",
    "outputId": "8e4cf8ae-913b-48fd-b9f7-fc09bf57145f"
   },
   "outputs": [
    {
     "name": "stdout",
     "output_type": "stream",
     "text": [
      "--------------------------------------------------------------------------------\n",
      "X_ALL_train_pad shape: (67035, 40)\n",
      "X_ALL_pad shape: (16761, 40)\n",
      "--------------------------------------------------------------------------------\n",
      "--------------------------------------------------------------------------------\n",
      "vocab_size: 25551\n",
      "--------------------------------------------------------------------------------\n"
     ]
    }
   ],
   "source": [
    "tokenizer_ALL = Tokenizer(num_words = hparams[\"max_num_words\"])\n",
    "tokenizer_ALL.fit_on_texts(X_ALL_train)\n",
    "\n",
    "X_ALL_train_pad = prep_text(X_ALL_train, tokenizer_ALL, **hparams)\n",
    "X_ALL_test_pad = prep_text(X_ALL_test, tokenizer_ALL, **hparams)\n",
    "\n",
    "print('-'*80)\n",
    "print(f\"X_ALL_train_pad shape: {X_ALL_train_pad.shape}\")\n",
    "print(f\"X_ALL_pad shape: {X_ALL_test_pad.shape}\")\n",
    "print('-'*80)\n",
    "\n",
    "vocab_size = len(tokenizer_ALL.word_index)\n",
    "print('-'*80)\n",
    "print(f\"vocab_size: {vocab_size}\")\n",
    "print('-'*80)"
   ]
  },
  {
   "cell_type": "markdown",
   "id": "d1f0669f",
   "metadata": {
    "heading_collapsed": true
   },
   "source": [
    "### Merging `Alll`"
   ]
  },
  {
   "cell_type": "code",
   "execution_count": 31,
   "id": "8d320b05",
   "metadata": {
    "hidden": true
   },
   "outputs": [
    {
     "name": "stdout",
     "output_type": "stream",
     "text": [
      "--------------------------------------------------------------------------------\n",
      "X_ALLL_train shape: (78952,)\n",
      "y_ALLL_train shape: (78952,)\n",
      "--------------------------------------------------------------------------------\n",
      "X_ALLL_test shape: (19741,)\n",
      "y_ALLL_test shape: (19741,)\n",
      "--------------------------------------------------------------------------------\n",
      "--------------------------------------------------------------------------------\n",
      "Fake (1) proportion in train (%): 47.144\n",
      "Fake (1) proportion in test (%): 46.543\n",
      "--------------------------------------------------------------------------------\n",
      "### TRAIN ###\n",
      "--------------------------------------------------------------------------------\n",
      "Politifact ratio: 0.20\n",
      "FakeNewsNET ratio: 0.20\n",
      "Bisaillon ratio: 0.45\n",
      "Poynter ratio: 0.15\n",
      "--------------------------------------------------------------------------------\n",
      "### TEST ###\n",
      "--------------------------------------------------------------------------------\n",
      "Politifact ratio: 0.20\n",
      "FakeNewsNET ratio: 0.20\n",
      "Bisaillon ratio: 0.45\n",
      "Poynter ratio: 0.15\n",
      "--------------------------------------------------------------------------------\n"
     ]
    }
   ],
   "source": [
    "X_ALLL_train = pd.concat([X_P_train, X_FNN_train, X_BIS_train, X_PO_train]).sample(frac=1, random_state=42).reset_index(drop=True)\n",
    "y_ALLL_train = pd.concat([y_P_train, y_FNN_train, y_BIS_train, y_PO_train]).sample(frac=1, random_state=42).reset_index(drop=True)\n",
    "\n",
    "X_ALLL_test = pd.concat([X_P_test, X_FNN_test, X_BIS_test, X_PO_test]).sample(frac=1, random_state=42).reset_index(drop=True)\n",
    "y_ALLL_test = pd.concat([y_P_test, y_FNN_test, y_BIS_test, y_PO_test]).sample(frac=1, random_state=42).reset_index(drop=True)\n",
    "\n",
    "print('-'*80)\n",
    "print(f\"X_ALLL_train shape: {X_ALLL_train.shape}\")\n",
    "print(f\"y_ALLL_train shape: {y_ALLL_train.shape}\")\n",
    "print('-'*80)\n",
    "print(f\"X_ALLL_test shape: {X_ALLL_test.shape}\")\n",
    "print(f\"y_ALLL_test shape: {y_ALLL_test.shape}\")\n",
    "print('-'*80)\n",
    "print('-'*80)\n",
    "print(f\"Fake (1) proportion in train (%): {y_ALLL_train.sum()/len(y_ALLL_train)*100:.3f}\")\n",
    "print(f\"Fake (1) proportion in test (%): {y_ALLL_test.sum()/len(y_ALLL_test)*100:.3f}\")\n",
    "print('-'*80)\n",
    "print('### TRAIN ###')\n",
    "print('-'*80)\n",
    "print(f\"Politifact ratio: {X_P_train.shape[0]/X_ALLL_train.shape[0]:.2f}\")\n",
    "print(f\"FakeNewsNET ratio: {X_FNN_train.shape[0]/X_ALLL_train.shape[0]:.2f}\")\n",
    "print(f\"Bisaillon ratio: {X_BIS_train.shape[0]/X_ALLL_train.shape[0]:.2f}\")\n",
    "print(f\"Poynter ratio: {X_PO_train.shape[0]/X_ALLL_train.shape[0]:.2f}\")\n",
    "print('-'*80)\n",
    "print('### TEST ###')\n",
    "print('-'*80)\n",
    "print(f\"Politifact ratio: {X_P_test.shape[0]/X_ALLL_test.shape[0]:.2f}\")\n",
    "print(f\"FakeNewsNET ratio: {X_FNN_test.shape[0]/X_ALLL_test.shape[0]:.2f}\")\n",
    "print(f\"Bisaillon ratio: {X_BIS_test.shape[0]/X_ALLL_test.shape[0]:.2f}\")\n",
    "print(f\"Poynter ratio: {X_PO_test.shape[0]/X_ALLL_test.shape[0]:.2f}\")\n",
    "print('-'*80)"
   ]
  },
  {
   "cell_type": "code",
   "execution_count": 32,
   "id": "80071dff",
   "metadata": {
    "hidden": true
   },
   "outputs": [
    {
     "name": "stdout",
     "output_type": "stream",
     "text": [
      "--------------------------------------------------------------------------------\n",
      "X_ALLL_train_pad shape: (78952, 40)\n",
      "X_ALLL_pad shape: (19741, 40)\n",
      "--------------------------------------------------------------------------------\n",
      "--------------------------------------------------------------------------------\n",
      "vocab_size: 29940\n",
      "--------------------------------------------------------------------------------\n"
     ]
    }
   ],
   "source": [
    "tokenizer_ALLL = Tokenizer(num_words = hparams[\"max_num_words\"])\n",
    "tokenizer_ALLL.fit_on_texts(X_ALLL_train)\n",
    "\n",
    "X_ALLL_train_pad = prep_text(X_ALLL_train, tokenizer_ALLL, **hparams)\n",
    "X_ALLL_test_pad = prep_text(X_ALLL_test, tokenizer_ALLL, **hparams)\n",
    "\n",
    "print('-'*80)\n",
    "print(f\"X_ALLL_train_pad shape: {X_ALLL_train_pad.shape}\")\n",
    "print(f\"X_ALLL_pad shape: {X_ALLL_test_pad.shape}\")\n",
    "print('-'*80)\n",
    "\n",
    "vocab_size = len(tokenizer_ALLL.word_index)\n",
    "print('-'*80)\n",
    "print(f\"vocab_size: {vocab_size}\")\n",
    "print('-'*80)"
   ]
  },
  {
   "cell_type": "markdown",
   "id": "PkgfhgWOyiRN",
   "metadata": {
    "id": "PkgfhgWOyiRN"
   },
   "source": [
    "## Model"
   ]
  },
  {
   "cell_type": "markdown",
   "id": "ef93c7d2",
   "metadata": {
    "heading_collapsed": true
   },
   "source": [
    "### Word2Vec"
   ]
  },
  {
   "cell_type": "code",
   "execution_count": 38,
   "id": "3b4e07d3",
   "metadata": {
    "hidden": true
   },
   "outputs": [],
   "source": [
    "# import gensim.downloader\n",
    "# # Show all available models in gensim-data\n",
    "# print(list(gensim.downloader.info()['models'].keys()))"
   ]
  },
  {
   "cell_type": "code",
   "execution_count": 39,
   "id": "77c73733",
   "metadata": {
    "hidden": true
   },
   "outputs": [],
   "source": [
    "# glove_vectors = gensim.downloader.load('glove-twitter-25')\n",
    "\n",
    "# glove_vectors.most_similar('twitter')"
   ]
  },
  {
   "cell_type": "code",
   "execution_count": 40,
   "id": "148fbaf4",
   "metadata": {
    "hidden": true
   },
   "outputs": [],
   "source": [
    "# from gensim.models import Word2Vec\n",
    "\n",
    "# model = Word2Vec.load_word2vec_format('GoogleNews-vectors-negative300.bin', binary=True, norm_only=True)\n",
    "\n",
    "# dog = model['dog']\n",
    "# print(dog.shape)\n",
    "# print(dog[:10])"
   ]
  },
  {
   "cell_type": "code",
   "execution_count": 41,
   "id": "5201e301",
   "metadata": {
    "hidden": true
   },
   "outputs": [],
   "source": [
    "# from gensim.models import Word2Vec\n",
    "\n",
    "# word2vec = Word2Vec(sentences=X_train, vector_size=10, min_count=10, window=10)\n",
    "\n",
    "# Word2Vec.\n",
    "\n",
    "# unique = set([_ for elt in X_train for _ in elt])\n",
    "\n",
    "# print('-'*80)\n",
    "# print(f\"X_train vocabulary size: {len(unique)}\")\n",
    "# print(f\"word2vec vocabulary size: {len(word2vec.wv.key_to_index)}\")    \n",
    "# print('-'*80)"
   ]
  },
  {
   "cell_type": "code",
   "execution_count": 42,
   "id": "b6d29319",
   "metadata": {
    "hidden": true
   },
   "outputs": [],
   "source": [
    "# def embed_sentence(word2vec, sentence):\n",
    "#     embed_matrix = []\n",
    "#     for word in sentence:\n",
    "#         if word in word2vec.wv.key_to_index:\n",
    "#             embed_matrix.append(word2vec.wv[word])\n",
    "#     return np.array(embed_matrix)\n",
    "\n",
    "# def embedding(word2vec, sentences):\n",
    "#     return [embed_sentence(word2vec, sentence) for sentence in sentences]"
   ]
  },
  {
   "cell_type": "code",
   "execution_count": 43,
   "id": "c0fb7b03",
   "metadata": {
    "hidden": true
   },
   "outputs": [],
   "source": [
    "# X_train_embed = embedding(word2vec, X_train)\n",
    "# X_test_embed = embedding(word2vec, X_test)\n",
    "\n",
    "# X_train_embed[0].shape"
   ]
  },
  {
   "cell_type": "code",
   "execution_count": null,
   "id": "552e8d9f",
   "metadata": {
    "hidden": true
   },
   "outputs": [],
   "source": [
    "# and after padding ..."
   ]
  },
  {
   "cell_type": "code",
   "execution_count": null,
   "id": "e208d195",
   "metadata": {
    "hidden": true
   },
   "outputs": [],
   "source": []
  },
  {
   "cell_type": "markdown",
   "id": "4958be25",
   "metadata": {},
   "source": [
    "### Glove"
   ]
  },
  {
   "cell_type": "code",
   "execution_count": null,
   "id": "NAjyk8PRyrQ0",
   "metadata": {
    "colab": {
     "base_uri": "https://localhost:8080/"
    },
    "executionInfo": {
     "elapsed": 177675,
     "status": "ok",
     "timestamp": 1630138111397,
     "user": {
      "displayName": "Julien Seguy",
      "photoUrl": "",
      "userId": "07351507381529939348"
     },
     "user_tz": -480
    },
    "id": "NAjyk8PRyrQ0",
    "outputId": "f1c1a284-0dc1-453c-e548-423d6f20d0be"
   },
   "outputs": [],
   "source": [
    "import io\n",
    "import urllib\n",
    "import zipfile\n",
    "\n",
    "zip_file_url = \"http://nlp.stanford.edu/data/glove.6B.zip\"\n",
    "zip_file = urllib.request.urlopen(zip_file_url)\n",
    "archive = zipfile.ZipFile(io.BytesIO(zip_file.read()))\n",
    "\n",
    "def get_embedding(archive, tokenizer, **hparams):\n",
    "    \"\"\"\n",
    "    Pre-trained GloVe word vector embeddings\n",
    "    \"\"\"\n",
    "    embeddings_index = {}\n",
    "    glove_file = \"glove.6B.100d.txt\"\n",
    "\n",
    "    with archive.open(glove_file) as f:\n",
    "        for line in f:\n",
    "            values = line.split()\n",
    "            word = values[0].decode(\"utf-8\") \n",
    "            coefs = np.asarray(values[1:], dtype=\"float32\")\n",
    "            embeddings_index[word] = coefs\n",
    "\n",
    "    embedding_matrix = np.zeros((len(tokenizer.word_index) + 1, hparams[\"embedding_dim\"]))\n",
    "    num_words_in_embedding = 0\n",
    "    for word, i in tokenizer.word_index.items():\n",
    "        embedding_vector = embeddings_index.get(word)\n",
    "        if embedding_vector is not None:\n",
    "            num_words_in_embedding += 1\n",
    "            embedding_matrix[i] = embedding_vector\n",
    "\n",
    "    return embedding_matrix"
   ]
  },
  {
   "cell_type": "markdown",
   "id": "c64270b5",
   "metadata": {},
   "source": [
    "### Model"
   ]
  },
  {
   "cell_type": "code",
   "execution_count": null,
   "id": "EFk53yYXyrTA",
   "metadata": {
    "executionInfo": {
     "elapsed": 5956,
     "status": "ok",
     "timestamp": 1630138117345,
     "user": {
      "displayName": "Julien Seguy",
      "photoUrl": "",
      "userId": "07351507381529939348"
     },
     "user_tz": -480
    },
    "id": "EFk53yYXyrTA"
   },
   "outputs": [],
   "source": [
    "METRICS = [\n",
    "    #   tf.keras.metrics.TruePositives(name='tp'),\n",
    "    #   tf.keras.metrics.FalsePositives(name='fp'),\n",
    "    #   tf.keras.metrics.TrueNegatives(name='tn'),\n",
    "    #   tf.keras.metrics.FalseNegatives(name='fn'), \n",
    "      tf.keras.metrics.BinaryAccuracy(name='accuracy'),\n",
    "      tf.keras.metrics.Precision(name='precision'),\n",
    "      tf.keras.metrics.Recall(name='recall'),\n",
    "]\n",
    "\n",
    "def init_model(embedding_matrix, metrics=METRICS, **hparams):\n",
    "    model = tf.keras.models.Sequential()\n",
    "\n",
    "    # Embedding layer.\n",
    "    embedding_layer = tf.keras.layers.Embedding(\n",
    "        embedding_matrix.shape[0],\n",
    "        embedding_matrix.shape[1],\n",
    "        weights = [embedding_matrix],\n",
    "        input_length = hparams[\"max_sequence_length\"],\n",
    "        trainable = hparams['embedding_trainable'],\n",
    "        mask_zero = True)\n",
    "    model.add(embedding_layer)\n",
    "\n",
    "    # Convolution layers.\n",
    "    for filter_size, kernel_size, pool_size in zip(\n",
    "        hparams['cnn_filter_sizes'], hparams['cnn_kernel_sizes'],\n",
    "        hparams['cnn_pooling_sizes']):\n",
    "\n",
    "        conv_layer = tf.keras.layers.Conv1D(\n",
    "            filter_size, kernel_size, activation='relu', padding='same')\n",
    "        model.add(conv_layer)\n",
    "\n",
    "        pooled_layer = tf.keras.layers.MaxPooling1D(pool_size, padding='same')\n",
    "        model.add(pooled_layer)\n",
    "\n",
    "    # Add a flatten layer, a fully-connected layer and an output layer.\n",
    "    model.add(tf.keras.layers.Flatten())\n",
    "    model.add(tf.keras.layers.Dense(128, activation='relu'))\n",
    "    model.add(tf.keras.layers.Dropout(0.5))\n",
    "    model.add(tf.keras.layers.Dense(1, activation=\"sigmoid\"))\n",
    "\n",
    "    # Compile the model\n",
    "    optimizer = tf.keras.optimizers.Adam(learning_rate=hparams[\"learning_rate\"])\n",
    "    model.compile(loss='binary_crossentropy',\n",
    "                  optimizer=optimizer,\n",
    "                  metrics=METRICS)\n",
    "\n",
    "    return model"
   ]
  },
  {
   "cell_type": "markdown",
   "id": "gHrHg3bzmUN9",
   "metadata": {
    "id": "gHrHg3bzmUN9"
   },
   "source": [
    "## `politifact_scrap.csv`"
   ]
  },
  {
   "cell_type": "markdown",
   "id": "8fc9b920",
   "metadata": {},
   "source": [
    "### Model"
   ]
  },
  {
   "cell_type": "code",
   "execution_count": null,
   "id": "6d8d49e4",
   "metadata": {},
   "outputs": [],
   "source": [
    "embedding_matrix_P = get_embedding(archive, tokenizer_P, **hparams)\n",
    "\n",
    "print('-'*80)\n",
    "print(f\"embedding_matrix_P shape: {embedding_matrix_P.shape}\")\n",
    "print('-'*80)"
   ]
  },
  {
   "cell_type": "code",
   "execution_count": null,
   "id": "53a0ddd4",
   "metadata": {},
   "outputs": [],
   "source": [
    "init_model(embedding_matrix_P, **hparams).summary()"
   ]
  },
  {
   "cell_type": "markdown",
   "id": "daea82c1",
   "metadata": {
    "id": "daea82c1"
   },
   "source": [
    "### Training"
   ]
  },
  {
   "cell_type": "code",
   "execution_count": 38,
   "id": "AqfGJOoPGwcj",
   "metadata": {
    "colab": {
     "base_uri": "https://localhost:8080/"
    },
    "executionInfo": {
     "elapsed": 14560,
     "status": "ok",
     "timestamp": 1630138519799,
     "user": {
      "displayName": "Julien Seguy",
      "photoUrl": "",
      "userId": "07351507381529939348"
     },
     "user_tz": -480
    },
    "id": "AqfGJOoPGwcj",
    "outputId": "4cc3a1bf-6937-4ba0-f9cc-a4678f42fe68"
   },
   "outputs": [
    {
     "name": "stdout",
     "output_type": "stream",
     "text": [
      "Epoch 1/30\n",
      "100/100 [==============================] - 3s 28ms/step - loss: 0.6445 - accuracy: 0.6177 - precision: 0.6348 - recall: 0.6968 - val_loss: 0.6178 - val_accuracy: 0.6390 - val_precision: 0.7026 - val_recall: 0.5878\n",
      "Epoch 2/30\n",
      "100/100 [==============================] - 2s 22ms/step - loss: 0.6059 - accuracy: 0.6657 - precision: 0.7035 - recall: 0.6626 - val_loss: 0.6275 - val_accuracy: 0.6422 - val_precision: 0.6912 - val_recall: 0.6230\n",
      "Epoch 3/30\n",
      "100/100 [==============================] - 2s 23ms/step - loss: 0.5692 - accuracy: 0.6873 - precision: 0.7321 - recall: 0.6676 - val_loss: 0.6463 - val_accuracy: 0.6378 - val_precision: 0.6524 - val_recall: 0.7206\n",
      "Epoch 4/30\n",
      "100/100 [==============================] - 2s 21ms/step - loss: 0.5122 - accuracy: 0.7279 - precision: 0.7841 - recall: 0.6874 - val_loss: 0.7016 - val_accuracy: 0.6141 - val_precision: 0.6231 - val_recall: 0.7425\n",
      "Epoch 5/30\n",
      "100/100 [==============================] - 2s 20ms/step - loss: 0.4516 - accuracy: 0.7751 - precision: 0.8209 - recall: 0.7487 - val_loss: 0.7279 - val_accuracy: 0.6220 - val_precision: 0.6478 - val_recall: 0.6744\n",
      "Epoch 6/30\n",
      "100/100 [==============================] - 2s 22ms/step - loss: 0.4031 - accuracy: 0.8019 - precision: 0.8279 - recall: 0.8013 - val_loss: 0.8978 - val_accuracy: 0.6261 - val_precision: 0.6320 - val_recall: 0.7546\n",
      "Epoch 7/30\n",
      "100/100 [==============================] - 2s 23ms/step - loss: 0.3342 - accuracy: 0.8420 - precision: 0.8681 - recall: 0.8355 - val_loss: 1.3424 - val_accuracy: 0.6170 - val_precision: 0.6145 - val_recall: 0.8008\n",
      "Epoch 8/30\n",
      "100/100 [==============================] - 2s 23ms/step - loss: 0.3158 - accuracy: 0.8636 - precision: 0.8780 - recall: 0.8692 - val_loss: 1.0694 - val_accuracy: 0.6198 - val_precision: 0.6710 - val_recall: 0.5958\n",
      "Epoch 9/30\n",
      "100/100 [==============================] - 2s 23ms/step - loss: 0.2386 - accuracy: 0.8928 - precision: 0.9108 - recall: 0.8894 - val_loss: 1.2564 - val_accuracy: 0.6107 - val_precision: 0.6487 - val_recall: 0.6259\n"
     ]
    }
   ],
   "source": [
    "es = tf.keras.callbacks.EarlyStopping(monitor='val_loss', mode='auto', patience=8, restore_best_weights=True)\n",
    "# es = tf.keras.callbacks.EarlyStopping(monitor='val_recall', mode='max', patience=8, restore_best_weights=True)\n",
    "\n",
    "P_model = init_model(embedding_matrix_P, **hparams)\n",
    "\n",
    "history = P_model.fit(X_P_train_pad, \n",
    "                  y_P_train,\n",
    "                  validation_split=0.2,\n",
    "                  batch_size=hparams[\"batch_size\"],\n",
    "                  epochs=30, \n",
    "                  callbacks=[es],\n",
    "                  verbose=1)"
   ]
  },
  {
   "cell_type": "code",
   "execution_count": 39,
   "id": "jdOpqxjp1AQC",
   "metadata": {
    "colab": {
     "base_uri": "https://localhost:8080/",
     "height": 308
    },
    "executionInfo": {
     "elapsed": 1087,
     "status": "ok",
     "timestamp": 1630138552595,
     "user": {
      "displayName": "Julien Seguy",
      "photoUrl": "",
      "userId": "07351507381529939348"
     },
     "user_tz": -480
    },
    "id": "jdOpqxjp1AQC",
    "outputId": "7be173c4-1a08-464b-bf65-9170cd0a7890"
   },
   "outputs": [
    {
     "data": {
      "image/png": "[encoded data removed]",
      "text/plain": [
       "<Figure size 1296x288 with 3 Axes>"
      ]
     },
     "metadata": {
      "needs_background": "light"
     },
     "output_type": "display_data"
    }
   ],
   "source": [
    "plot_loss(history, title='P_model')"
   ]
  },
  {
   "cell_type": "code",
   "execution_count": null,
   "id": "973bfdf5",
   "metadata": {},
   "outputs": [],
   "source": []
  },
  {
   "cell_type": "code",
   "execution_count": 40,
   "id": "LIKtcaej1Hlu",
   "metadata": {
    "colab": {
     "base_uri": "https://localhost:8080/",
     "height": 367
    },
    "executionInfo": {
     "elapsed": 1026,
     "status": "ok",
     "timestamp": 1630138622705,
     "user": {
      "displayName": "Julien Seguy",
      "photoUrl": "",
      "userId": "07351507381529939348"
     },
     "user_tz": -480
    },
    "id": "LIKtcaej1Hlu",
    "outputId": "1b06a847-09ff-4c8f-fae9-6cbdcd34f565"
   },
   "outputs": [
    {
     "name": "stdout",
     "output_type": "stream",
     "text": [
      "--------------------------------------------------------------------------------\n",
      "acc: 64.22%\n",
      "recall: 59.72%\n",
      "precision: 69.52%\n",
      "f1: 64.25%\n",
      "--------------------------------------------------------------------------------\n"
     ]
    },
    {
     "data": {
      "image/png": "[encoded data removed]",
      "text/plain": [
       "<Figure size 864x432 with 2 Axes>"
      ]
     },
     "metadata": {
      "needs_background": "light"
     },
     "output_type": "display_data"
    }
   ],
   "source": [
    "get_metrics(y_P_test, X_P_test_pad, P_model)"
   ]
  },
  {
   "cell_type": "markdown",
   "id": "9305fa89",
   "metadata": {
    "heading_collapsed": true,
    "id": "9305fa89"
   },
   "source": [
    "### Saving the model"
   ]
  },
  {
   "cell_type": "code",
   "execution_count": 42,
   "id": "3ae20e89",
   "metadata": {
    "colab": {
     "base_uri": "https://localhost:8080/"
    },
    "executionInfo": {
     "elapsed": 1869,
     "status": "ok",
     "timestamp": 1630139456403,
     "user": {
      "displayName": "Julien Seguy",
      "photoUrl": "",
      "userId": "07351507381529939348"
     },
     "user_tz": -480
    },
    "hidden": true,
    "id": "3ae20e89",
    "outputId": "a79a42f6-6360-4c56-faf8-99ec4a2799b3"
   },
   "outputs": [
    {
     "name": "stdout",
     "output_type": "stream",
     "text": [
      "INFO:tensorflow:Assets written to: ../raw_data/P_model/assets\n"
     ]
    }
   ],
   "source": [
    "# Colab\n",
    "# model_name = 'P_model'\n",
    "\n",
    "# Notebook\n",
    "model_name = '../raw_data/P_model'\n",
    "\n",
    "P_model.save(model_name)"
   ]
  },
  {
   "cell_type": "markdown",
   "id": "9a832897",
   "metadata": {
    "heading_collapsed": true,
    "id": "9a832897"
   },
   "source": [
    "### Uploading the model"
   ]
  },
  {
   "cell_type": "code",
   "execution_count": 43,
   "id": "9c17fb7e",
   "metadata": {
    "executionInfo": {
     "elapsed": 1100,
     "status": "ok",
     "timestamp": 1630139501162,
     "user": {
      "displayName": "Julien Seguy",
      "photoUrl": "",
      "userId": "07351507381529939348"
     },
     "user_tz": -480
    },
    "hidden": true,
    "id": "9c17fb7e"
   },
   "outputs": [],
   "source": [
    "reconstructed_P_model = tf.keras.models.load_model(model_name)"
   ]
  },
  {
   "cell_type": "code",
   "execution_count": 44,
   "id": "2cf7a155",
   "metadata": {
    "colab": {
     "base_uri": "https://localhost:8080/",
     "height": 367
    },
    "executionInfo": {
     "elapsed": 1557,
     "status": "ok",
     "timestamp": 1630139506870,
     "user": {
      "displayName": "Julien Seguy",
      "photoUrl": "",
      "userId": "07351507381529939348"
     },
     "user_tz": -480
    },
    "hidden": true,
    "id": "2cf7a155",
    "outputId": "7731a2f2-fbae-4222-d3d8-7a29f25e0c06"
   },
   "outputs": [
    {
     "name": "stdout",
     "output_type": "stream",
     "text": [
      "--------------------------------------------------------------------------------\n",
      "acc: 64.22%\n",
      "recall: 59.72%\n",
      "precision: 69.52%\n",
      "f1: 64.25%\n",
      "--------------------------------------------------------------------------------\n"
     ]
    },
    {
     "data": {
      "image/png": "[encoded data removed]",
      "text/plain": [
       "<Figure size 864x432 with 2 Axes>"
      ]
     },
     "metadata": {
      "needs_background": "light"
     },
     "output_type": "display_data"
    }
   ],
   "source": [
    "get_metrics(y_P_test, X_P_test_pad, reconstructed_P_model)"
   ]
  },
  {
   "cell_type": "markdown",
   "id": "8de5da8e",
   "metadata": {
    "heading_collapsed": true,
    "id": "8de5da8e"
   },
   "source": [
    "### `P_model` evaluation on `FakeNewsNET`"
   ]
  },
  {
   "cell_type": "code",
   "execution_count": 45,
   "id": "uBpnA9uigi9o",
   "metadata": {
    "colab": {
     "base_uri": "https://localhost:8080/",
     "height": 367
    },
    "executionInfo": {
     "elapsed": 2446,
     "status": "ok",
     "timestamp": 1630140555622,
     "user": {
      "displayName": "Julien Seguy",
      "photoUrl": "",
      "userId": "07351507381529939348"
     },
     "user_tz": -480
    },
    "hidden": true,
    "id": "uBpnA9uigi9o",
    "outputId": "a2b19148-db7e-44ec-bfca-8c5f630f1759"
   },
   "outputs": [
    {
     "name": "stdout",
     "output_type": "stream",
     "text": [
      "--------------------------------------------------------------------------------\n",
      "acc: 30.33%\n",
      "recall: 94.42%\n",
      "precision: 25.38%\n",
      "f1: 40.01%\n",
      "--------------------------------------------------------------------------------\n"
     ]
    },
    {
     "data": {
      "image/png": "[encoded data removed]",
      "text/plain": [
       "<Figure size 864x432 with 2 Axes>"
      ]
     },
     "metadata": {
      "needs_background": "light"
     },
     "output_type": "display_data"
    }
   ],
   "source": [
    "X_FNN_pad = prep_text(X_FNN, tokenizer_P, **hparams)\n",
    "\n",
    "get_metrics(y_FNN, X_FNN_pad, reconstructed_P_model)"
   ]
  },
  {
   "cell_type": "markdown",
   "id": "ecf51dc9",
   "metadata": {
    "heading_collapsed": true,
    "id": "ecf51dc9"
   },
   "source": [
    "### `P_model` evaluation on `Bisaillon`"
   ]
  },
  {
   "cell_type": "code",
   "execution_count": 46,
   "id": "d092a113",
   "metadata": {
    "colab": {
     "base_uri": "https://localhost:8080/",
     "height": 367
    },
    "executionInfo": {
     "elapsed": 3800,
     "status": "ok",
     "timestamp": 1630140573874,
     "user": {
      "displayName": "Julien Seguy",
      "photoUrl": "",
      "userId": "07351507381529939348"
     },
     "user_tz": -480
    },
    "hidden": true,
    "id": "d092a113",
    "outputId": "7d19065a-bef7-425d-a706-da2fc7dab3b6"
   },
   "outputs": [
    {
     "name": "stdout",
     "output_type": "stream",
     "text": [
      "--------------------------------------------------------------------------------\n",
      "acc: 54.28%\n",
      "recall: 91.78%\n",
      "precision: 53.81%\n",
      "f1: 67.84%\n",
      "--------------------------------------------------------------------------------\n"
     ]
    },
    {
     "data": {
      "image/png": "[encoded data removed]",
      "text/plain": [
       "<Figure size 864x432 with 2 Axes>"
      ]
     },
     "metadata": {
      "needs_background": "light"
     },
     "output_type": "display_data"
    }
   ],
   "source": [
    "X_BIS_pad = prep_text(X_BIS, tokenizer_P, **hparams)\n",
    "\n",
    "get_metrics(y_BIS, X_BIS_pad, reconstructed_P_model)"
   ]
  },
  {
   "cell_type": "markdown",
   "id": "23f7b9fd",
   "metadata": {
    "heading_collapsed": true,
    "id": "23f7b9fd"
   },
   "source": [
    "## `FakeNewsNET`"
   ]
  },
  {
   "cell_type": "markdown",
   "id": "23808101",
   "metadata": {
    "heading_collapsed": true,
    "hidden": true
   },
   "source": [
    "### Model"
   ]
  },
  {
   "cell_type": "code",
   "execution_count": 90,
   "id": "e27f313f",
   "metadata": {
    "hidden": true
   },
   "outputs": [
    {
     "name": "stdout",
     "output_type": "stream",
     "text": [
      "--------------------------------------------------------------------------------\n",
      "embedding_matrix_F shape: (12714, 100)\n",
      "--------------------------------------------------------------------------------\n"
     ]
    }
   ],
   "source": [
    "embedding_matrix_F = get_embedding(archive, tokenizer_F, **hparams)\n",
    "\n",
    "print('-'*80)\n",
    "print(f\"embedding_matrix_F shape: {embedding_matrix_F.shape}\")\n",
    "print('-'*80)"
   ]
  },
  {
   "cell_type": "code",
   "execution_count": 48,
   "id": "76561f35",
   "metadata": {
    "hidden": true
   },
   "outputs": [
    {
     "name": "stdout",
     "output_type": "stream",
     "text": [
      "Model: \"sequential_7\"\n",
      "_________________________________________________________________\n",
      "Layer (type)                 Output Shape              Param #   \n",
      "=================================================================\n",
      "embedding_7 (Embedding)      (None, 40, 100)           1271400   \n",
      "_________________________________________________________________\n",
      "conv1d_21 (Conv1D)           (None, 40, 128)           64128     \n",
      "_________________________________________________________________\n",
      "max_pooling1d_21 (MaxPooling (None, 8, 128)            0         \n",
      "_________________________________________________________________\n",
      "conv1d_22 (Conv1D)           (None, 8, 128)            82048     \n",
      "_________________________________________________________________\n",
      "max_pooling1d_22 (MaxPooling (None, 2, 128)            0         \n",
      "_________________________________________________________________\n",
      "conv1d_23 (Conv1D)           (None, 2, 128)            82048     \n",
      "_________________________________________________________________\n",
      "max_pooling1d_23 (MaxPooling (None, 1, 128)            0         \n",
      "_________________________________________________________________\n",
      "flatten_7 (Flatten)          (None, 128)               0         \n",
      "_________________________________________________________________\n",
      "dense_14 (Dense)             (None, 128)               16512     \n",
      "_________________________________________________________________\n",
      "dropout_7 (Dropout)          (None, 128)               0         \n",
      "_________________________________________________________________\n",
      "dense_15 (Dense)             (None, 1)                 129       \n",
      "=================================================================\n",
      "Total params: 1,516,265\n",
      "Trainable params: 244,865\n",
      "Non-trainable params: 1,271,400\n",
      "_________________________________________________________________\n"
     ]
    }
   ],
   "source": [
    "init_model(embedding_matrix_F, **hparams).summary()"
   ]
  },
  {
   "cell_type": "markdown",
   "id": "3c9ed026",
   "metadata": {
    "heading_collapsed": true,
    "hidden": true,
    "id": "3c9ed026"
   },
   "source": [
    "### Training"
   ]
  },
  {
   "cell_type": "code",
   "execution_count": 51,
   "id": "11fb92f4",
   "metadata": {
    "colab": {
     "base_uri": "https://localhost:8080/"
    },
    "executionInfo": {
     "elapsed": 26645,
     "status": "ok",
     "timestamp": 1630140266031,
     "user": {
      "displayName": "Julien Seguy",
      "photoUrl": "",
      "userId": "07351507381529939348"
     },
     "user_tz": -480
    },
    "hidden": true,
    "id": "11fb92f4",
    "outputId": "3cc835dc-fdfd-4573-bcac-7472660f8e0c"
   },
   "outputs": [
    {
     "name": "stdout",
     "output_type": "stream",
     "text": [
      "Epoch 1/30\n",
      "97/97 [==============================] - 3s 29ms/step - loss: 0.5424 - accuracy: 0.7573 - precision: 0.5927 - recall: 0.0766 - val_loss: 0.4898 - val_accuracy: 0.7724 - val_precision: 0.7434 - val_recall: 0.1456\n",
      "Epoch 2/30\n",
      "97/97 [==============================] - 2s 23ms/step - loss: 0.4704 - accuracy: 0.7923 - precision: 0.6993 - recall: 0.2850 - val_loss: 0.4630 - val_accuracy: 0.7896 - val_precision: 0.6584 - val_recall: 0.3402\n",
      "Epoch 3/30\n",
      "97/97 [==============================] - 3s 26ms/step - loss: 0.4078 - accuracy: 0.8206 - precision: 0.7354 - recall: 0.4324 - val_loss: 0.4752 - val_accuracy: 0.7938 - val_precision: 0.6542 - val_recall: 0.3827\n",
      "Epoch 4/30\n",
      "97/97 [==============================] - 3s 29ms/step - loss: 0.3371 - accuracy: 0.8555 - precision: 0.7659 - recall: 0.6010 - val_loss: 0.5217 - val_accuracy: 0.7637 - val_precision: 0.5310 - val_recall: 0.5180\n",
      "Epoch 5/30\n",
      "97/97 [==============================] - 3s 26ms/step - loss: 0.2712 - accuracy: 0.8852 - precision: 0.8152 - recall: 0.6948 - val_loss: 0.5355 - val_accuracy: 0.7870 - val_precision: 0.6108 - val_recall: 0.4227\n",
      "Epoch 6/30\n",
      "97/97 [==============================] - 3s 28ms/step - loss: 0.2117 - accuracy: 0.9107 - precision: 0.8573 - recall: 0.7676 - val_loss: 0.6847 - val_accuracy: 0.7715 - val_precision: 0.5620 - val_recall: 0.4149\n",
      "Epoch 7/30\n",
      "97/97 [==============================] - 3s 28ms/step - loss: 0.1818 - accuracy: 0.9273 - precision: 0.8804 - recall: 0.8180 - val_loss: 0.7007 - val_accuracy: 0.7611 - val_precision: 0.5252 - val_recall: 0.5232\n",
      "Epoch 8/30\n",
      "97/97 [==============================] - 3s 27ms/step - loss: 0.1436 - accuracy: 0.9425 - precision: 0.9080 - recall: 0.8546 - val_loss: 0.9382 - val_accuracy: 0.7721 - val_precision: 0.5729 - val_recall: 0.3698\n",
      "Epoch 9/30\n",
      "97/97 [==============================] - 2s 26ms/step - loss: 0.1208 - accuracy: 0.9545 - precision: 0.9266 - recall: 0.8866 - val_loss: 1.0890 - val_accuracy: 0.7358 - val_precision: 0.4771 - val_recall: 0.5245\n",
      "Epoch 10/30\n",
      "97/97 [==============================] - 3s 26ms/step - loss: 0.1171 - accuracy: 0.9553 - precision: 0.9240 - recall: 0.8935 - val_loss: 1.0595 - val_accuracy: 0.7705 - val_precision: 0.5520 - val_recall: 0.4652\n"
     ]
    }
   ],
   "source": [
    "es = tf.keras.callbacks.EarlyStopping(monitor='val_loss', mode='auto', patience=8, restore_best_weights=True)\n",
    "# es = tf.keras.callbacks.EarlyStopping(monitor='val_recall', mode='max', patience=8, restore_best_weights=True)\n",
    "\n",
    "F_model = init_model(embedding_matrix_F, **hparams)\n",
    "\n",
    "history = F_model.fit(X_FNN_train_pad, \n",
    "                  y_FNN_train,\n",
    "                  validation_split=0.2,\n",
    "                  batch_size=hparams[\"batch_size\"],\n",
    "                  epochs=30, \n",
    "                  callbacks=[es],\n",
    "                  verbose=1)"
   ]
  },
  {
   "cell_type": "code",
   "execution_count": 52,
   "id": "Jy3_9zAq7oo5",
   "metadata": {
    "colab": {
     "base_uri": "https://localhost:8080/",
     "height": 308
    },
    "executionInfo": {
     "elapsed": 970,
     "status": "ok",
     "timestamp": 1630140282087,
     "user": {
      "displayName": "Julien Seguy",
      "photoUrl": "",
      "userId": "07351507381529939348"
     },
     "user_tz": -480
    },
    "hidden": true,
    "id": "Jy3_9zAq7oo5",
    "outputId": "44fbc387-e476-4c48-a280-51dd4b05b6ff"
   },
   "outputs": [
    {
     "data": {
      "image/png": "[encoded data removed]",
      "text/plain": [
       "<Figure size 1296x288 with 3 Axes>"
      ]
     },
     "metadata": {
      "needs_background": "light"
     },
     "output_type": "display_data"
    }
   ],
   "source": [
    "plot_loss(history, title='F_model')"
   ]
  },
  {
   "cell_type": "code",
   "execution_count": 53,
   "id": "-03A4wtY7orY",
   "metadata": {
    "colab": {
     "base_uri": "https://localhost:8080/",
     "height": 404
    },
    "executionInfo": {
     "elapsed": 995,
     "status": "ok",
     "timestamp": 1630140301232,
     "user": {
      "displayName": "Julien Seguy",
      "photoUrl": "",
      "userId": "07351507381529939348"
     },
     "user_tz": -480
    },
    "hidden": true,
    "id": "-03A4wtY7orY",
    "outputId": "7778594b-0deb-4766-9902-07d5dc3d5277"
   },
   "outputs": [
    {
     "name": "stdout",
     "output_type": "stream",
     "text": [
      "--------------------------------------------------------------------------------\n",
      "acc: 79.03%\n",
      "recall: 32.45%\n",
      "precision: 60.20%\n",
      "f1: 42.17%\n",
      "--------------------------------------------------------------------------------\n"
     ]
    },
    {
     "data": {
      "image/png": "[encoded data removed]",
      "text/plain": [
       "<Figure size 864x432 with 2 Axes>"
      ]
     },
     "metadata": {
      "needs_background": "light"
     },
     "output_type": "display_data"
    }
   ],
   "source": [
    "get_metrics(y_FNN_test, X_FNN_test_pad, F_model)"
   ]
  },
  {
   "cell_type": "markdown",
   "id": "l6KrFEZm704h",
   "metadata": {
    "heading_collapsed": true,
    "hidden": true,
    "id": "l6KrFEZm704h"
   },
   "source": [
    "### Saving the model"
   ]
  },
  {
   "cell_type": "code",
   "execution_count": 54,
   "id": "xYmOJFCC76bz",
   "metadata": {
    "colab": {
     "base_uri": "https://localhost:8080/"
    },
    "executionInfo": {
     "elapsed": 1983,
     "status": "ok",
     "timestamp": 1630140369328,
     "user": {
      "displayName": "Julien Seguy",
      "photoUrl": "",
      "userId": "07351507381529939348"
     },
     "user_tz": -480
    },
    "hidden": true,
    "id": "xYmOJFCC76bz",
    "outputId": "bf626e94-d776-4721-fe9f-e96dd3ae85f7"
   },
   "outputs": [
    {
     "name": "stdout",
     "output_type": "stream",
     "text": [
      "INFO:tensorflow:Assets written to: ../raw_data/F_model/assets\n"
     ]
    }
   ],
   "source": [
    "# Colab\n",
    "# model_name = 'F_model'\n",
    "\n",
    "# Notebook\n",
    "model_name = '../raw_data/F_model'\n",
    "\n",
    "F_model.save(model_name)"
   ]
  },
  {
   "cell_type": "markdown",
   "id": "_82qYdNK708C",
   "metadata": {
    "heading_collapsed": true,
    "hidden": true,
    "id": "_82qYdNK708C"
   },
   "source": [
    "### Uploading the model"
   ]
  },
  {
   "cell_type": "code",
   "execution_count": 55,
   "id": "LIZnnBIY7oxg",
   "metadata": {
    "executionInfo": {
     "elapsed": 1092,
     "status": "ok",
     "timestamp": 1630140400051,
     "user": {
      "displayName": "Julien Seguy",
      "photoUrl": "",
      "userId": "07351507381529939348"
     },
     "user_tz": -480
    },
    "hidden": true,
    "id": "LIZnnBIY7oxg"
   },
   "outputs": [],
   "source": [
    "reconstructed_F_model = tf.keras.models.load_model(model_name)"
   ]
  },
  {
   "cell_type": "code",
   "execution_count": 56,
   "id": "pZoGnMvo7ozs",
   "metadata": {
    "colab": {
     "base_uri": "https://localhost:8080/",
     "height": 404
    },
    "executionInfo": {
     "elapsed": 1502,
     "status": "ok",
     "timestamp": 1630140422262,
     "user": {
      "displayName": "Julien Seguy",
      "photoUrl": "",
      "userId": "07351507381529939348"
     },
     "user_tz": -480
    },
    "hidden": true,
    "id": "pZoGnMvo7ozs",
    "outputId": "48fd57d8-2715-4a01-ba45-7f6191ec8919"
   },
   "outputs": [
    {
     "name": "stdout",
     "output_type": "stream",
     "text": [
      "--------------------------------------------------------------------------------\n",
      "acc: 79.03%\n",
      "recall: 32.45%\n",
      "precision: 60.20%\n",
      "f1: 42.17%\n",
      "--------------------------------------------------------------------------------\n"
     ]
    },
    {
     "data": {
      "image/png": "[encoded data removed]",
      "text/plain": [
       "<Figure size 864x432 with 2 Axes>"
      ]
     },
     "metadata": {
      "needs_background": "light"
     },
     "output_type": "display_data"
    }
   ],
   "source": [
    "get_metrics(y_FNN_test, X_FNN_test_pad, reconstructed_F_model)"
   ]
  },
  {
   "cell_type": "markdown",
   "id": "f586a971",
   "metadata": {
    "heading_collapsed": true,
    "hidden": true,
    "id": "f586a971"
   },
   "source": [
    "### `F_model` evaluation on `Bisaillon`"
   ]
  },
  {
   "cell_type": "code",
   "execution_count": 58,
   "id": "21c4c514",
   "metadata": {
    "colab": {
     "base_uri": "https://localhost:8080/",
     "height": 367
    },
    "executionInfo": {
     "elapsed": 4025,
     "status": "ok",
     "timestamp": 1630140538900,
     "user": {
      "displayName": "Julien Seguy",
      "photoUrl": "",
      "userId": "07351507381529939348"
     },
     "user_tz": -480
    },
    "hidden": true,
    "id": "21c4c514",
    "outputId": "d5037a26-2aad-492f-aefc-9bd5b093f77b"
   },
   "outputs": [
    {
     "name": "stdout",
     "output_type": "stream",
     "text": [
      "--------------------------------------------------------------------------------\n",
      "acc: 46.97%\n",
      "recall: 10.21%\n",
      "precision: 47.81%\n",
      "f1: 16.82%\n",
      "--------------------------------------------------------------------------------\n"
     ]
    },
    {
     "data": {
      "image/png": "[encoded data removed]",
      "text/plain": [
       "<Figure size 864x432 with 2 Axes>"
      ]
     },
     "metadata": {
      "needs_background": "light"
     },
     "output_type": "display_data"
    }
   ],
   "source": [
    "X_BIS_pad = prep_text(X_BIS, tokenizer_F, **hparams)\n",
    "\n",
    "get_metrics(y_BIS, X_BIS_pad, reconstructed_F_model)"
   ]
  },
  {
   "cell_type": "markdown",
   "id": "34e0a7e9",
   "metadata": {
    "heading_collapsed": true,
    "hidden": true,
    "id": "34e0a7e9"
   },
   "source": [
    "### `F_model` evaluation on  `politifact_scrap`"
   ]
  },
  {
   "cell_type": "code",
   "execution_count": 59,
   "id": "62104444",
   "metadata": {
    "colab": {
     "base_uri": "https://localhost:8080/",
     "height": 367
    },
    "executionInfo": {
     "elapsed": 3932,
     "status": "ok",
     "timestamp": 1630140639141,
     "user": {
      "displayName": "Julien Seguy",
      "photoUrl": "",
      "userId": "07351507381529939348"
     },
     "user_tz": -480
    },
    "hidden": true,
    "id": "62104444",
    "outputId": "cfa8ee49-bf51-490b-80ae-281ffec40e05"
   },
   "outputs": [
    {
     "name": "stdout",
     "output_type": "stream",
     "text": [
      "--------------------------------------------------------------------------------\n",
      "acc: 47.95%\n",
      "recall: 13.09%\n",
      "precision: 58.97%\n",
      "f1: 21.43%\n",
      "--------------------------------------------------------------------------------\n"
     ]
    },
    {
     "data": {
      "image/png": "[encoded data removed]",
      "text/plain": [
       "<Figure size 864x432 with 2 Axes>"
      ]
     },
     "metadata": {
      "needs_background": "light"
     },
     "output_type": "display_data"
    }
   ],
   "source": [
    "X_P_pad = prep_text(X_P, tokenizer_F, **hparams)\n",
    "\n",
    "get_metrics(y_P, X_P_pad, reconstructed_F_model)"
   ]
  },
  {
   "cell_type": "markdown",
   "id": "e9316b2f",
   "metadata": {
    "heading_collapsed": true,
    "id": "e9316b2f"
   },
   "source": [
    "## `Bisaillon`"
   ]
  },
  {
   "cell_type": "markdown",
   "id": "968e0c29",
   "metadata": {
    "heading_collapsed": true,
    "hidden": true
   },
   "source": [
    "### Model"
   ]
  },
  {
   "cell_type": "code",
   "execution_count": 60,
   "id": "0963d10f",
   "metadata": {
    "hidden": true
   },
   "outputs": [
    {
     "name": "stdout",
     "output_type": "stream",
     "text": [
      "--------------------------------------------------------------------------------\n",
      "embedding_matrix_B shape: (12714, 100)\n",
      "--------------------------------------------------------------------------------\n"
     ]
    }
   ],
   "source": [
    "embedding_matrix_B = get_embedding(archive, tokenizer_B, **hparams)\n",
    "\n",
    "print('-'*80)\n",
    "print(f\"embedding_matrix_B shape: {embedding_matrix_B.shape}\")\n",
    "print('-'*80)"
   ]
  },
  {
   "cell_type": "code",
   "execution_count": 62,
   "id": "ab965010",
   "metadata": {
    "hidden": true
   },
   "outputs": [
    {
     "name": "stdout",
     "output_type": "stream",
     "text": [
      "Model: \"sequential_11\"\n",
      "_________________________________________________________________\n",
      "Layer (type)                 Output Shape              Param #   \n",
      "=================================================================\n",
      "embedding_11 (Embedding)     (None, 40, 100)           1271400   \n",
      "_________________________________________________________________\n",
      "conv1d_33 (Conv1D)           (None, 40, 128)           64128     \n",
      "_________________________________________________________________\n",
      "max_pooling1d_33 (MaxPooling (None, 8, 128)            0         \n",
      "_________________________________________________________________\n",
      "conv1d_34 (Conv1D)           (None, 8, 128)            82048     \n",
      "_________________________________________________________________\n",
      "max_pooling1d_34 (MaxPooling (None, 2, 128)            0         \n",
      "_________________________________________________________________\n",
      "conv1d_35 (Conv1D)           (None, 2, 128)            82048     \n",
      "_________________________________________________________________\n",
      "max_pooling1d_35 (MaxPooling (None, 1, 128)            0         \n",
      "_________________________________________________________________\n",
      "flatten_11 (Flatten)         (None, 128)               0         \n",
      "_________________________________________________________________\n",
      "dense_22 (Dense)             (None, 128)               16512     \n",
      "_________________________________________________________________\n",
      "dropout_11 (Dropout)         (None, 128)               0         \n",
      "_________________________________________________________________\n",
      "dense_23 (Dense)             (None, 1)                 129       \n",
      "=================================================================\n",
      "Total params: 1,516,265\n",
      "Trainable params: 244,865\n",
      "Non-trainable params: 1,271,400\n",
      "_________________________________________________________________\n"
     ]
    }
   ],
   "source": [
    "init_model(embedding_matrix_B, **hparams).summary()"
   ]
  },
  {
   "cell_type": "markdown",
   "id": "f70c6c5b",
   "metadata": {
    "heading_collapsed": true,
    "hidden": true,
    "id": "f70c6c5b"
   },
   "source": [
    "### Training"
   ]
  },
  {
   "cell_type": "code",
   "execution_count": 63,
   "id": "1a3c071d",
   "metadata": {
    "colab": {
     "base_uri": "https://localhost:8080/"
    },
    "executionInfo": {
     "elapsed": 34293,
     "status": "ok",
     "timestamp": 1630140767107,
     "user": {
      "displayName": "Julien Seguy",
      "photoUrl": "",
      "userId": "07351507381529939348"
     },
     "user_tz": -480
    },
    "hidden": true,
    "id": "1a3c071d",
    "outputId": "f317664f-2e7d-4767-ff54-8c531fee4e4f"
   },
   "outputs": [
    {
     "name": "stdout",
     "output_type": "stream",
     "text": [
      "Epoch 1/30\n",
      "224/224 [==============================] - 6s 25ms/step - loss: 0.2538 - accuracy: 0.8809 - precision: 0.8896 - recall: 0.8703 - val_loss: 0.2136 - val_accuracy: 0.9150 - val_precision: 0.9107 - val_recall: 0.9278\n",
      "Epoch 2/30\n",
      "224/224 [==============================] - 5s 23ms/step - loss: 0.1615 - accuracy: 0.9391 - precision: 0.9507 - recall: 0.9329 - val_loss: 0.1921 - val_accuracy: 0.9202 - val_precision: 0.9305 - val_recall: 0.9152\n",
      "Epoch 3/30\n",
      "224/224 [==============================] - 5s 24ms/step - loss: 0.1169 - accuracy: 0.9563 - precision: 0.9654 - recall: 0.9513 - val_loss: 0.2222 - val_accuracy: 0.9218 - val_precision: 0.9495 - val_recall: 0.8978\n",
      "Epoch 4/30\n",
      "224/224 [==============================] - 5s 24ms/step - loss: 0.0863 - accuracy: 0.9686 - precision: 0.9751 - recall: 0.9652 - val_loss: 0.1992 - val_accuracy: 0.9225 - val_precision: 0.9255 - val_recall: 0.9260\n",
      "Epoch 5/30\n",
      "224/224 [==============================] - 6s 25ms/step - loss: 0.0592 - accuracy: 0.9773 - precision: 0.9827 - recall: 0.9742 - val_loss: 0.2468 - val_accuracy: 0.9243 - val_precision: 0.9289 - val_recall: 0.9257\n",
      "Epoch 6/30\n",
      "224/224 [==============================] - 6s 27ms/step - loss: 0.0466 - accuracy: 0.9829 - precision: 0.9854 - recall: 0.9823 - val_loss: 0.2914 - val_accuracy: 0.9283 - val_precision: 0.9439 - val_recall: 0.9168\n",
      "Epoch 7/30\n",
      "224/224 [==============================] - 6s 25ms/step - loss: 0.0372 - accuracy: 0.9872 - precision: 0.9883 - recall: 0.9874 - val_loss: 0.3164 - val_accuracy: 0.9242 - val_precision: 0.9315 - val_recall: 0.9225\n",
      "Epoch 8/30\n",
      "224/224 [==============================] - 5s 23ms/step - loss: 0.0312 - accuracy: 0.9888 - precision: 0.9910 - recall: 0.9878 - val_loss: 0.2925 - val_accuracy: 0.9256 - val_precision: 0.9347 - val_recall: 0.9217\n",
      "Epoch 9/30\n",
      "224/224 [==============================] - 5s 22ms/step - loss: 0.0295 - accuracy: 0.9884 - precision: 0.9901 - recall: 0.9879 - val_loss: 0.4457 - val_accuracy: 0.9232 - val_precision: 0.9471 - val_recall: 0.9032\n",
      "Epoch 10/30\n",
      "224/224 [==============================] - 5s 24ms/step - loss: 0.0262 - accuracy: 0.9914 - precision: 0.9930 - recall: 0.9907 - val_loss: 0.3557 - val_accuracy: 0.9239 - val_precision: 0.9129 - val_recall: 0.9442\n"
     ]
    }
   ],
   "source": [
    "es = tf.keras.callbacks.EarlyStopping(monitor='val_loss', mode='auto', patience=8, restore_best_weights=True)\n",
    "# es = tf.keras.callbacks.EarlyStopping(monitor='val_recall', mode='max', patience=8, restore_best_weights=True)\n",
    "\n",
    "B_model = init_model(embedding_matrix_B, **hparams)\n",
    "\n",
    "history = B_model.fit(X_BIS_train_pad, \n",
    "                  y_BIS_train,\n",
    "                  validation_split=0.2,\n",
    "                  batch_size=hparams[\"batch_size\"],\n",
    "                  epochs=30, \n",
    "                  callbacks=[es],\n",
    "                  verbose=1)"
   ]
  },
  {
   "cell_type": "code",
   "execution_count": 64,
   "id": "h7uByVK19dIQ",
   "metadata": {
    "colab": {
     "base_uri": "https://localhost:8080/",
     "height": 308
    },
    "executionInfo": {
     "elapsed": 8971,
     "status": "ok",
     "timestamp": 1630140776074,
     "user": {
      "displayName": "Julien Seguy",
      "photoUrl": "",
      "userId": "07351507381529939348"
     },
     "user_tz": -480
    },
    "hidden": true,
    "id": "h7uByVK19dIQ",
    "outputId": "cb72b8e6-0d5f-4f8e-e499-d7016c90c80b"
   },
   "outputs": [
    {
     "data": {
      "image/png": "[encoded data removed]",
      "text/plain": [
       "<Figure size 1296x288 with 3 Axes>"
      ]
     },
     "metadata": {
      "needs_background": "light"
     },
     "output_type": "display_data"
    }
   ],
   "source": [
    "plot_loss(history, title='B_model')"
   ]
  },
  {
   "cell_type": "code",
   "execution_count": 65,
   "id": "w7Kn89qz9dKl",
   "metadata": {
    "colab": {
     "base_uri": "https://localhost:8080/",
     "height": 367
    },
    "executionInfo": {
     "elapsed": 1285,
     "status": "ok",
     "timestamp": 1630140781438,
     "user": {
      "displayName": "Julien Seguy",
      "photoUrl": "",
      "userId": "07351507381529939348"
     },
     "user_tz": -480
    },
    "hidden": true,
    "id": "w7Kn89qz9dKl",
    "outputId": "21fbd72d-e615-4ee6-d9a6-78c3ff1c5656"
   },
   "outputs": [
    {
     "name": "stdout",
     "output_type": "stream",
     "text": [
      "--------------------------------------------------------------------------------\n",
      "acc: 92.82%\n",
      "recall: 92.53%\n",
      "precision: 93.58%\n",
      "f1: 93.05%\n",
      "--------------------------------------------------------------------------------\n"
     ]
    },
    {
     "data": {
      "image/png": "[encoded data removed]",
      "text/plain": [
       "<Figure size 864x432 with 2 Axes>"
      ]
     },
     "metadata": {
      "needs_background": "light"
     },
     "output_type": "display_data"
    }
   ],
   "source": [
    "get_metrics(y_BIS_test, X_BIS_test_pad, B_model)"
   ]
  },
  {
   "cell_type": "markdown",
   "id": "8b1c87c8",
   "metadata": {
    "heading_collapsed": true,
    "hidden": true,
    "id": "8b1c87c8"
   },
   "source": [
    "### Saving the model"
   ]
  },
  {
   "cell_type": "code",
   "execution_count": 66,
   "id": "828c527b",
   "metadata": {
    "colab": {
     "base_uri": "https://localhost:8080/"
    },
    "executionInfo": {
     "elapsed": 2041,
     "status": "ok",
     "timestamp": 1630140864484,
     "user": {
      "displayName": "Julien Seguy",
      "photoUrl": "",
      "userId": "07351507381529939348"
     },
     "user_tz": -480
    },
    "hidden": true,
    "id": "828c527b",
    "outputId": "503a1e06-2cf8-43f6-8d18-7072c2e06e0b"
   },
   "outputs": [
    {
     "name": "stdout",
     "output_type": "stream",
     "text": [
      "INFO:tensorflow:Assets written to: ../raw_data/B_model/assets\n"
     ]
    }
   ],
   "source": [
    "# Colab\n",
    "# model_name = 'B_model'\n",
    "\n",
    "# Notebook\n",
    "model_name = '../raw_data/B_model'\n",
    "\n",
    "B_model.save(model_name)"
   ]
  },
  {
   "cell_type": "markdown",
   "id": "0e1e244a",
   "metadata": {
    "heading_collapsed": true,
    "hidden": true,
    "id": "0e1e244a"
   },
   "source": [
    "### Uploading the model"
   ]
  },
  {
   "cell_type": "code",
   "execution_count": 67,
   "id": "2a261ee8",
   "metadata": {
    "executionInfo": {
     "elapsed": 771,
     "status": "ok",
     "timestamp": 1630140883890,
     "user": {
      "displayName": "Julien Seguy",
      "photoUrl": "",
      "userId": "07351507381529939348"
     },
     "user_tz": -480
    },
    "hidden": true,
    "id": "2a261ee8"
   },
   "outputs": [],
   "source": [
    "reconstructed_B_model = tf.keras.models.load_model(model_name)"
   ]
  },
  {
   "cell_type": "code",
   "execution_count": 68,
   "id": "a53b1a2f",
   "metadata": {
    "colab": {
     "base_uri": "https://localhost:8080/",
     "height": 367
    },
    "executionInfo": {
     "elapsed": 1092,
     "status": "ok",
     "timestamp": 1630140902644,
     "user": {
      "displayName": "Julien Seguy",
      "photoUrl": "",
      "userId": "07351507381529939348"
     },
     "user_tz": -480
    },
    "hidden": true,
    "id": "a53b1a2f",
    "outputId": "992bb4a2-5c69-442e-ad36-cea9bae01e79"
   },
   "outputs": [
    {
     "name": "stdout",
     "output_type": "stream",
     "text": [
      "--------------------------------------------------------------------------------\n",
      "acc: 92.82%\n",
      "recall: 92.53%\n",
      "precision: 93.58%\n",
      "f1: 93.05%\n",
      "--------------------------------------------------------------------------------\n"
     ]
    },
    {
     "data": {
      "image/png": "[encoded data removed]",
      "text/plain": [
       "<Figure size 864x432 with 2 Axes>"
      ]
     },
     "metadata": {
      "needs_background": "light"
     },
     "output_type": "display_data"
    }
   ],
   "source": [
    "get_metrics(y_BIS_test, X_BIS_test_pad, reconstructed_B_model)"
   ]
  },
  {
   "cell_type": "markdown",
   "id": "17d28f62",
   "metadata": {
    "heading_collapsed": true,
    "hidden": true,
    "id": "17d28f62"
   },
   "source": [
    "### `B_model` evaluation on `FakeNewsNET`"
   ]
  },
  {
   "cell_type": "code",
   "execution_count": 69,
   "id": "232fda3b",
   "metadata": {
    "colab": {
     "base_uri": "https://localhost:8080/",
     "height": 367
    },
    "executionInfo": {
     "elapsed": 2790,
     "status": "ok",
     "timestamp": 1630140951494,
     "user": {
      "displayName": "Julien Seguy",
      "photoUrl": "",
      "userId": "07351507381529939348"
     },
     "user_tz": -480
    },
    "hidden": true,
    "id": "232fda3b",
    "outputId": "bf87b2c4-6dfa-46b6-a6d6-9f720bbef8df"
   },
   "outputs": [
    {
     "name": "stdout",
     "output_type": "stream",
     "text": [
      "--------------------------------------------------------------------------------\n",
      "acc: 38.03%\n",
      "recall: 79.83%\n",
      "precision: 25.63%\n",
      "f1: 38.80%\n",
      "--------------------------------------------------------------------------------\n"
     ]
    },
    {
     "data": {
      "image/png": "[encoded data removed]",
      "text/plain": [
       "<Figure size 864x432 with 2 Axes>"
      ]
     },
     "metadata": {
      "needs_background": "light"
     },
     "output_type": "display_data"
    }
   ],
   "source": [
    "X_FNN_pad = prep_text(X_FNN, tokenizer_B, **hparams)\n",
    "\n",
    "get_metrics(y_FNN, X_FNN_pad, reconstructed_B_model)"
   ]
  },
  {
   "cell_type": "markdown",
   "id": "821fde35",
   "metadata": {
    "heading_collapsed": true,
    "hidden": true,
    "id": "821fde35"
   },
   "source": [
    "### `B_model` evaluation on `politifact scrap`"
   ]
  },
  {
   "cell_type": "code",
   "execution_count": 70,
   "id": "558d772d",
   "metadata": {
    "colab": {
     "base_uri": "https://localhost:8080/",
     "height": 367
    },
    "executionInfo": {
     "elapsed": 1959,
     "status": "ok",
     "timestamp": 1630141009598,
     "user": {
      "displayName": "Julien Seguy",
      "photoUrl": "",
      "userId": "07351507381529939348"
     },
     "user_tz": -480
    },
    "hidden": true,
    "id": "558d772d",
    "outputId": "3b016399-8a56-4a5a-93c1-28ba3b172271"
   },
   "outputs": [
    {
     "name": "stdout",
     "output_type": "stream",
     "text": [
      "--------------------------------------------------------------------------------\n",
      "acc: 52.70%\n",
      "recall: 76.72%\n",
      "precision: 54.53%\n",
      "f1: 63.75%\n",
      "--------------------------------------------------------------------------------\n"
     ]
    },
    {
     "data": {
      "image/png": "[encoded data removed]",
      "text/plain": [
       "<Figure size 864x432 with 2 Axes>"
      ]
     },
     "metadata": {
      "needs_background": "light"
     },
     "output_type": "display_data"
    }
   ],
   "source": [
    "X_P_pad = prep_text(X_P, tokenizer_B, **hparams)\n",
    "\n",
    "get_metrics(y_P, X_P_pad, reconstructed_B_model)"
   ]
  },
  {
   "cell_type": "markdown",
   "id": "36e514fe",
   "metadata": {
    "id": "36e514fe"
   },
   "source": [
    "## `All`"
   ]
  },
  {
   "cell_type": "markdown",
   "id": "9cd6e8bb",
   "metadata": {
    "heading_collapsed": true
   },
   "source": [
    "### Model"
   ]
  },
  {
   "cell_type": "code",
   "execution_count": 28,
   "id": "8175b09a",
   "metadata": {
    "hidden": true
   },
   "outputs": [
    {
     "name": "stdout",
     "output_type": "stream",
     "text": [
      "--------------------------------------------------------------------------------\n",
      "embedding_matrix_ALL shape: (25552, 100)\n",
      "--------------------------------------------------------------------------------\n"
     ]
    }
   ],
   "source": [
    "embedding_matrix_ALL = get_embedding(archive, tokenizer_ALL, **hparams)\n",
    "\n",
    "print('-'*80)\n",
    "print(f\"embedding_matrix_ALL shape: {embedding_matrix_ALL.shape}\")\n",
    "print('-'*80)"
   ]
  },
  {
   "cell_type": "code",
   "execution_count": 46,
   "id": "030ab004",
   "metadata": {
    "hidden": true
   },
   "outputs": [
    {
     "name": "stdout",
     "output_type": "stream",
     "text": [
      "Model: \"sequential_4\"\n",
      "_________________________________________________________________\n",
      "Layer (type)                 Output Shape              Param #   \n",
      "=================================================================\n",
      "embedding_4 (Embedding)      (None, 40, 100)           2555200   \n",
      "_________________________________________________________________\n",
      "conv1d_10 (Conv1D)           (None, 40, 128)           128128    \n",
      "_________________________________________________________________\n",
      "max_pooling1d_10 (MaxPooling (None, 8, 128)            0         \n",
      "_________________________________________________________________\n",
      "conv1d_11 (Conv1D)           (None, 8, 128)            163968    \n",
      "_________________________________________________________________\n",
      "max_pooling1d_11 (MaxPooling (None, 2, 128)            0         \n",
      "_________________________________________________________________\n",
      "conv1d_12 (Conv1D)           (None, 2, 128)            163968    \n",
      "_________________________________________________________________\n",
      "max_pooling1d_12 (MaxPooling (None, 1, 128)            0         \n",
      "_________________________________________________________________\n",
      "flatten_4 (Flatten)          (None, 128)               0         \n",
      "_________________________________________________________________\n",
      "dense_8 (Dense)              (None, 128)               16512     \n",
      "_________________________________________________________________\n",
      "dropout_4 (Dropout)          (None, 128)               0         \n",
      "_________________________________________________________________\n",
      "dense_9 (Dense)              (None, 1)                 129       \n",
      "=================================================================\n",
      "Total params: 3,027,905\n",
      "Trainable params: 472,705\n",
      "Non-trainable params: 2,555,200\n",
      "_________________________________________________________________\n"
     ]
    }
   ],
   "source": [
    "init_model(embedding_matrix_ALL, **hparams).summary()"
   ]
  },
  {
   "cell_type": "markdown",
   "id": "0a26e16f",
   "metadata": {
    "heading_collapsed": true,
    "id": "0a26e16f"
   },
   "source": [
    "### Training"
   ]
  },
  {
   "cell_type": "code",
   "execution_count": 47,
   "id": "59242ab5",
   "metadata": {
    "colab": {
     "base_uri": "https://localhost:8080/"
    },
    "executionInfo": {
     "elapsed": 59980,
     "status": "ok",
     "timestamp": 1630141134488,
     "user": {
      "displayName": "Julien Seguy",
      "photoUrl": "",
      "userId": "07351507381529939348"
     },
     "user_tz": -480
    },
    "hidden": true,
    "id": "59242ab5",
    "outputId": "db48c590-75c2-48a8-ac3f-b81cefe5c8e9"
   },
   "outputs": [
    {
     "name": "stdout",
     "output_type": "stream",
     "text": [
      "Epoch 1/30\n",
      "419/419 [==============================] - 18s 41ms/step - loss: 0.4624 - accuracy: 0.7728 - precision: 0.7893 - recall: 0.6999 - val_loss: 0.4199 - val_accuracy: 0.7943 - val_precision: 0.7701 - val_recall: 0.7866\n",
      "Epoch 2/30\n",
      "419/419 [==============================] - 17s 42ms/step - loss: 0.3743 - accuracy: 0.8194 - precision: 0.8379 - recall: 0.7620 - val_loss: 0.3954 - val_accuracy: 0.8087 - val_precision: 0.8208 - val_recall: 0.7459\n",
      "Epoch 3/30\n",
      "419/419 [==============================] - 18s 43ms/step - loss: 0.3226 - accuracy: 0.8464 - precision: 0.8573 - recall: 0.8064 - val_loss: 0.3967 - val_accuracy: 0.8027 - val_precision: 0.7841 - val_recall: 0.7867\n",
      "Epoch 4/30\n",
      "419/419 [==============================] - 18s 43ms/step - loss: 0.2746 - accuracy: 0.8740 - precision: 0.8864 - recall: 0.8386 - val_loss: 0.4280 - val_accuracy: 0.8016 - val_precision: 0.8154 - val_recall: 0.7337\n",
      "Epoch 5/30\n",
      "419/419 [==============================] - 17s 41ms/step - loss: 0.2325 - accuracy: 0.8944 - precision: 0.8982 - recall: 0.8736 - val_loss: 0.5015 - val_accuracy: 0.8040 - val_precision: 0.7853 - val_recall: 0.7884\n",
      "Epoch 6/30\n",
      "419/419 [==============================] - 17s 42ms/step - loss: 0.1989 - accuracy: 0.9128 - precision: 0.9163 - recall: 0.8958 - val_loss: 0.5913 - val_accuracy: 0.7925 - val_precision: 0.7499 - val_recall: 0.8220\n",
      "Epoch 7/30\n",
      "419/419 [==============================] - 19s 45ms/step - loss: 0.1695 - accuracy: 0.9279 - precision: 0.9317 - recall: 0.9130 - val_loss: 0.6240 - val_accuracy: 0.7992 - val_precision: 0.7840 - val_recall: 0.7763\n",
      "Epoch 8/30\n",
      "419/419 [==============================] - 22s 52ms/step - loss: 0.1468 - accuracy: 0.9388 - precision: 0.9398 - recall: 0.9289 - val_loss: 0.7019 - val_accuracy: 0.7929 - val_precision: 0.7677 - val_recall: 0.7866\n",
      "Epoch 9/30\n",
      "419/419 [==============================] - 21s 50ms/step - loss: 0.1229 - accuracy: 0.9497 - precision: 0.9488 - recall: 0.9435 - val_loss: 0.7448 - val_accuracy: 0.7944 - val_precision: 0.8001 - val_recall: 0.7357\n",
      "Epoch 10/30\n",
      "419/419 [==============================] - 22s 53ms/step - loss: 0.1081 - accuracy: 0.9567 - precision: 0.9566 - recall: 0.9508 - val_loss: 0.8659 - val_accuracy: 0.7940 - val_precision: 0.7820 - val_recall: 0.7640\n"
     ]
    }
   ],
   "source": [
    "es = tf.keras.callbacks.EarlyStopping(monitor='val_loss', mode='auto', patience=8, restore_best_weights=True)\n",
    "# es = tf.keras.callbacks.EarlyStopping(monitor='val_recall', mode='max', patience=8, restore_best_weights=True)\n",
    "\n",
    "ALL_model = init_model(embedding_matrix_ALL, **hparams)\n",
    "\n",
    "history = ALL_model.fit(X_ALL_train_pad, \n",
    "                  y_ALL_train,\n",
    "                  validation_split=0.2,\n",
    "                  batch_size=hparams[\"batch_size\"],\n",
    "                  epochs=30, \n",
    "                  callbacks=[es],\n",
    "                  verbose=1)"
   ]
  },
  {
   "cell_type": "code",
   "execution_count": 48,
   "id": "QzmsGRry-ymg",
   "metadata": {
    "colab": {
     "base_uri": "https://localhost:8080/",
     "height": 308
    },
    "executionInfo": {
     "elapsed": 24404,
     "status": "ok",
     "timestamp": 1630141158879,
     "user": {
      "displayName": "Julien Seguy",
      "photoUrl": "",
      "userId": "07351507381529939348"
     },
     "user_tz": -480
    },
    "hidden": true,
    "id": "QzmsGRry-ymg",
    "outputId": "bd3a8f01-92b8-4bfe-a4b3-0d63562ed669"
   },
   "outputs": [
    {
     "data": {
      "image/png": "[encoded data removed]",
      "text/plain": [
       "<Figure size 1296x288 with 3 Axes>"
      ]
     },
     "metadata": {
      "needs_background": "light"
     },
     "output_type": "display_data"
    }
   ],
   "source": [
    "plot_loss(history, title='ALL_model')"
   ]
  },
  {
   "cell_type": "code",
   "execution_count": 49,
   "id": "K7uGPLuP-ypA",
   "metadata": {
    "colab": {
     "base_uri": "https://localhost:8080/",
     "height": 367
    },
    "executionInfo": {
     "elapsed": 1423,
     "status": "ok",
     "timestamp": 1630141160298,
     "user": {
      "displayName": "Julien Seguy",
      "photoUrl": "",
      "userId": "07351507381529939348"
     },
     "user_tz": -480
    },
    "hidden": true,
    "id": "K7uGPLuP-ypA",
    "outputId": "17af38c1-81c1-413a-de96-1ebe22f0eda8"
   },
   "outputs": [
    {
     "name": "stdout",
     "output_type": "stream",
     "text": [
      "--------------------------------------------------------------------------------\n",
      "acc: 80.51%\n",
      "recall: 74.49%\n",
      "precision: 81.45%\n",
      "f1: 77.82%\n",
      "--------------------------------------------------------------------------------\n"
     ]
    },
    {
     "data": {
      "image/png": "[encoded data removed]",
      "text/plain": [
       "<Figure size 864x432 with 2 Axes>"
      ]
     },
     "metadata": {
      "needs_background": "light"
     },
     "output_type": "display_data"
    }
   ],
   "source": [
    "get_metrics(y_ALL_test, X_ALL_test_pad, ALL_model)"
   ]
  },
  {
   "cell_type": "markdown",
   "id": "cdf9f0ef",
   "metadata": {
    "heading_collapsed": true,
    "id": "cdf9f0ef"
   },
   "source": [
    "### Saving the model"
   ]
  },
  {
   "cell_type": "code",
   "execution_count": 33,
   "id": "9f343676",
   "metadata": {
    "colab": {
     "base_uri": "https://localhost:8080/"
    },
    "executionInfo": {
     "elapsed": 2145,
     "status": "ok",
     "timestamp": 1630141492569,
     "user": {
      "displayName": "Julien Seguy",
      "photoUrl": "",
      "userId": "07351507381529939348"
     },
     "user_tz": -480
    },
    "hidden": true,
    "id": "9f343676",
    "outputId": "cef32d9e-093f-4742-f78c-b4207e1828cb"
   },
   "outputs": [
    {
     "name": "stderr",
     "output_type": "stream",
     "text": [
      "2021-08-30 13:26:32.714863: W tensorflow/python/util/util.cc:348] Sets are not currently considered sequences, but this may change in the future, so consider avoiding using them.\n"
     ]
    },
    {
     "name": "stdout",
     "output_type": "stream",
     "text": [
      "INFO:tensorflow:Assets written to: ../raw_data/ALL_model/assets\n"
     ]
    }
   ],
   "source": [
    "# Colab\n",
    "# model_name = 'ALL_model'\n",
    "\n",
    "# Notebook\n",
    "model_name = '../raw_data/ALL_model'\n",
    "\n",
    "ALL_model.save(model_name)"
   ]
  },
  {
   "cell_type": "markdown",
   "id": "cdbc02bc",
   "metadata": {
    "heading_collapsed": true,
    "id": "cdbc02bc"
   },
   "source": [
    "### Uploading the model"
   ]
  },
  {
   "cell_type": "code",
   "execution_count": 34,
   "id": "09726fcb",
   "metadata": {
    "executionInfo": {
     "elapsed": 842,
     "status": "ok",
     "timestamp": 1630141527767,
     "user": {
      "displayName": "Julien Seguy",
      "photoUrl": "",
      "userId": "07351507381529939348"
     },
     "user_tz": -480
    },
    "hidden": true,
    "id": "09726fcb"
   },
   "outputs": [],
   "source": [
    "reconstructed_ALL_model = tf.keras.models.load_model(model_name)"
   ]
  },
  {
   "cell_type": "code",
   "execution_count": 35,
   "id": "1ad33a6d",
   "metadata": {
    "colab": {
     "base_uri": "https://localhost:8080/",
     "height": 367
    },
    "executionInfo": {
     "elapsed": 1494,
     "status": "ok",
     "timestamp": 1630141529976,
     "user": {
      "displayName": "Julien Seguy",
      "photoUrl": "",
      "userId": "07351507381529939348"
     },
     "user_tz": -480
    },
    "hidden": true,
    "id": "1ad33a6d",
    "outputId": "a3551d3f-628c-4bb3-872e-f9b61eab02cd"
   },
   "outputs": [
    {
     "name": "stdout",
     "output_type": "stream",
     "text": [
      "--------------------------------------------------------------------------------\n",
      "acc: 81.35%\n",
      "recall: 76.95%\n",
      "precision: 81.39%\n",
      "f1: 79.11%\n",
      "--------------------------------------------------------------------------------\n"
     ]
    },
    {
     "data": {
      "image/png": "[encoded data removed]",
      "text/plain": [
       "<Figure size 864x432 with 2 Axes>"
      ]
     },
     "metadata": {
      "needs_background": "light"
     },
     "output_type": "display_data"
    }
   ],
   "source": [
    "get_metrics(y_ALL_test, X_ALL_test_pad, reconstructed_ALL_model)"
   ]
  },
  {
   "cell_type": "markdown",
   "id": "3eadd369",
   "metadata": {
    "heading_collapsed": true,
    "id": "3eadd369"
   },
   "source": [
    "### `ALL_model` evaluation on `politifact_scrap`"
   ]
  },
  {
   "cell_type": "code",
   "execution_count": 36,
   "id": "2808ee7b",
   "metadata": {
    "colab": {
     "base_uri": "https://localhost:8080/",
     "height": 367
    },
    "executionInfo": {
     "elapsed": 801,
     "status": "ok",
     "timestamp": 1630141886767,
     "user": {
      "displayName": "Julien Seguy",
      "photoUrl": "",
      "userId": "07351507381529939348"
     },
     "user_tz": -480
    },
    "hidden": true,
    "id": "2808ee7b",
    "outputId": "90c35003-01ec-47fc-89d6-376414db5148"
   },
   "outputs": [
    {
     "name": "stdout",
     "output_type": "stream",
     "text": [
      "--------------------------------------------------------------------------------\n",
      "acc: 61.04%\n",
      "recall: 58.17%\n",
      "precision: 65.58%\n",
      "f1: 61.65%\n",
      "--------------------------------------------------------------------------------\n"
     ]
    },
    {
     "data": {
      "image/png": "[encoded data removed]",
      "text/plain": [
       "<Figure size 864x432 with 2 Axes>"
      ]
     },
     "metadata": {
      "needs_background": "light"
     },
     "output_type": "display_data"
    }
   ],
   "source": [
    "X_P_test_pad = prep_text(X_P_test, tokenizer_ALL, **hparams)\n",
    "\n",
    "get_metrics(y_P_test, X_P_test_pad, reconstructed_ALL_model)"
   ]
  },
  {
   "cell_type": "markdown",
   "id": "a80777e7",
   "metadata": {
    "heading_collapsed": true,
    "id": "a80777e7"
   },
   "source": [
    "### `ALL_model` evaluation on `FakeNewsNET`"
   ]
  },
  {
   "cell_type": "code",
   "execution_count": 37,
   "id": "04cc338c",
   "metadata": {
    "colab": {
     "base_uri": "https://localhost:8080/",
     "height": 367
    },
    "executionInfo": {
     "elapsed": 804,
     "status": "ok",
     "timestamp": 1630141912686,
     "user": {
      "displayName": "Julien Seguy",
      "photoUrl": "",
      "userId": "07351507381529939348"
     },
     "user_tz": -480
    },
    "hidden": true,
    "id": "04cc338c",
    "outputId": "eee827bb-ab99-41b9-9111-f732207ce58b"
   },
   "outputs": [
    {
     "name": "stdout",
     "output_type": "stream",
     "text": [
      "--------------------------------------------------------------------------------\n",
      "acc: 76.07%\n",
      "recall: 48.18%\n",
      "precision: 49.21%\n",
      "f1: 48.69%\n",
      "--------------------------------------------------------------------------------\n"
     ]
    },
    {
     "data": {
      "image/png": "[encoded data removed]",
      "text/plain": [
       "<Figure size 864x432 with 2 Axes>"
      ]
     },
     "metadata": {
      "needs_background": "light"
     },
     "output_type": "display_data"
    }
   ],
   "source": [
    "X_FNN_test_pad = prep_text(X_FNN_test, tokenizer_ALL, **hparams)\n",
    "\n",
    "get_metrics(y_FNN_test, X_FNN_test_pad, reconstructed_ALL_model)"
   ]
  },
  {
   "cell_type": "markdown",
   "id": "222a2262",
   "metadata": {
    "heading_collapsed": true,
    "id": "222a2262"
   },
   "source": [
    "### `ALL_model` evaluation on `Bisaillon`"
   ]
  },
  {
   "cell_type": "code",
   "execution_count": 38,
   "id": "3afdb072",
   "metadata": {
    "colab": {
     "base_uri": "https://localhost:8080/",
     "height": 369
    },
    "executionInfo": {
     "elapsed": 1311,
     "status": "ok",
     "timestamp": 1630141940495,
     "user": {
      "displayName": "Julien Seguy",
      "photoUrl": "",
      "userId": "07351507381529939348"
     },
     "user_tz": -480
    },
    "hidden": true,
    "id": "3afdb072",
    "outputId": "096796b7-3d2f-4db1-c352-cce758674b00"
   },
   "outputs": [
    {
     "name": "stdout",
     "output_type": "stream",
     "text": [
      "--------------------------------------------------------------------------------\n",
      "acc: 92.64%\n",
      "recall: 91.20%\n",
      "precision: 94.45%\n",
      "f1: 92.80%\n",
      "--------------------------------------------------------------------------------\n"
     ]
    },
    {
     "data": {
      "image/png": "[encoded data removed]",
      "text/plain": [
       "<Figure size 864x432 with 2 Axes>"
      ]
     },
     "metadata": {
      "needs_background": "light"
     },
     "output_type": "display_data"
    }
   ],
   "source": [
    "X_BIS_test_pad = prep_text(X_BIS_test, tokenizer_ALL, **hparams)\n",
    "\n",
    "get_metrics(y_BIS_test, X_BIS_test_pad, reconstructed_ALL_model)"
   ]
  },
  {
   "cell_type": "markdown",
   "id": "2eaac619",
   "metadata": {
    "heading_collapsed": true
   },
   "source": [
    "### `ALL_model` evaluation on `Poynter`"
   ]
  },
  {
   "cell_type": "code",
   "execution_count": null,
   "id": "e6cdf32a",
   "metadata": {
    "hidden": true
   },
   "outputs": [],
   "source": [
    "X_PO_test_pad = prep_text(X_PO_test, tokenizer_ALL, **hparams)\n",
    "\n",
    "get_metrics(y_PO_test, X_PO_test_pad, reconstructed_ALL_model)"
   ]
  },
  {
   "cell_type": "markdown",
   "id": "31648ba6",
   "metadata": {},
   "source": [
    "## `Alll`"
   ]
  },
  {
   "cell_type": "markdown",
   "id": "e01b3cab",
   "metadata": {},
   "source": [
    "### Model"
   ]
  },
  {
   "cell_type": "markdown",
   "id": "7658119f",
   "metadata": {},
   "source": [
    "### Training"
   ]
  },
  {
   "cell_type": "markdown",
   "id": "89d04147",
   "metadata": {},
   "source": [
    "### Saving the model"
   ]
  },
  {
   "cell_type": "markdown",
   "id": "77d57848",
   "metadata": {},
   "source": [
    "### Uploading the model"
   ]
  },
  {
   "cell_type": "code",
   "execution_count": null,
   "id": "e2e9c4aa",
   "metadata": {},
   "outputs": [],
   "source": []
  },
  {
   "cell_type": "code",
   "execution_count": null,
   "id": "8def9ebc",
   "metadata": {},
   "outputs": [],
   "source": []
  },
  {
   "cell_type": "code",
   "execution_count": null,
   "id": "0112e194",
   "metadata": {},
   "outputs": [],
   "source": []
  },
  {
   "cell_type": "code",
   "execution_count": null,
   "id": "57c194bc",
   "metadata": {},
   "outputs": [],
   "source": []
  },
  {
   "cell_type": "markdown",
   "id": "4b74f9a4",
   "metadata": {},
   "source": [
    "## Summary"
   ]
  },
  {
   "cell_type": "code",
   "execution_count": 126,
   "id": "15a0ae1e",
   "metadata": {},
   "outputs": [
    {
     "data": {
      "text/plain": [
       "(19826, 40)"
      ]
     },
     "execution_count": 126,
     "metadata": {},
     "output_type": "execute_result"
    }
   ],
   "source": [
    "X_pad = prep_text(X_P, tokenizer_P, **hparams)\n",
    "X_pad.shape\n",
    "\n",
    "y_probs = reconstructed_ALL_model.predict(X)"
   ]
  },
  {
   "cell_type": "code",
   "execution_count": 135,
   "id": "a376f550",
   "metadata": {},
   "outputs": [],
   "source": [
    "def get_summary(model_names, datas, tokenizers):\n",
    "\n",
    "    X_data = [[X_P_test, X_FNN, X_BIS, X_all],\n",
    "              [X_P, X_FNN_test, X_BIS, X_all],\n",
    "              [X_P, X_FNN, X_BIS_test, X_all],\n",
    "              [X_P_test, X_FNN_test, X_BIS_test, X_ALL_test]]\n",
    "\n",
    "    y_data = [[y_P_test, y_FNN, y_BIS, y_all],\n",
    "              [y_P, y_FNN_test, y_BIS, y_all],\n",
    "              [y_P, y_FNN, y_BIS_test, y_all],\n",
    "              [y_P_test, y_FNN_test, y_BIS_test, y_ALL_test]]\n",
    "\n",
    "    model_list = []\n",
    "    data_list = []\n",
    "    tokenizer_list = []\n",
    "    acc_list = []\n",
    "    recall_list = []\n",
    "    prec_list = []\n",
    "    f1_list = []\n",
    "    \n",
    "    for model_name, tokenizer, Xs, ys in zip(model_names, tokenizers, X_data, y_data):\n",
    "\n",
    "        for data, X, y in zip(datas, Xs, ys):\n",
    "\n",
    "#             print('-'*80)\n",
    "#             print(model_name)\n",
    "#             print(data)\n",
    "#             print(X.shape)\n",
    "#             print(y.shape)\n",
    "\n",
    "            X_pad = prep_text(X, tokenizer, **hparams)\n",
    "            reconstructed_model = tf.keras.models.load_model(model_name)\n",
    "            y_probs = reconstructed_model.predict(X_pad)\n",
    "            y_preds = np.where(y_probs > 0.5, 1, 0)\n",
    "\n",
    "            model_list.append(model_name)\n",
    "            data_list.append(data)\n",
    "            acc_list.append(np.round(accuracy_score(y, y_preds), 2))\n",
    "            recall_list.append(np.round(recall_score(y, y_preds), 2))\n",
    "            prec_list.append(np.round(precision_score(y, y_preds), 2))\n",
    "            f1_list.append(np.round(f1_score(y, y_preds), 2))\n",
    "\n",
    "    df = pd.DataFrame({'model': model_list, \n",
    "                   'data': data_list, \n",
    "                   'acc': acc_list,\n",
    "                   'recall': recall_list, \n",
    "                   'prec': prec_list,\n",
    "                   'f1': f1_list,\n",
    "    })\n",
    "\n",
    "    return df"
   ]
  },
  {
   "cell_type": "code",
   "execution_count": 136,
   "id": "a72f0ded",
   "metadata": {},
   "outputs": [
    {
     "data": {
      "text/html": [
       "<div>\n",
       "<style scoped>\n",
       "    .dataframe tbody tr th:only-of-type {\n",
       "        vertical-align: middle;\n",
       "    }\n",
       "\n",
       "    .dataframe tbody tr th {\n",
       "        vertical-align: top;\n",
       "    }\n",
       "\n",
       "    .dataframe thead th {\n",
       "        text-align: right;\n",
       "    }\n",
       "</style>\n",
       "<table border=\"1\" class=\"dataframe\">\n",
       "  <thead>\n",
       "    <tr style=\"text-align: right;\">\n",
       "      <th></th>\n",
       "      <th>model</th>\n",
       "      <th>data</th>\n",
       "      <th>acc</th>\n",
       "      <th>recall</th>\n",
       "      <th>prec</th>\n",
       "      <th>f1</th>\n",
       "    </tr>\n",
       "  </thead>\n",
       "  <tbody>\n",
       "    <tr>\n",
       "      <th>0</th>\n",
       "      <td>../raw_data/P_model</td>\n",
       "      <td>politifact</td>\n",
       "      <td>0.64</td>\n",
       "      <td>0.60</td>\n",
       "      <td>0.70</td>\n",
       "      <td>0.64</td>\n",
       "    </tr>\n",
       "    <tr>\n",
       "      <th>1</th>\n",
       "      <td>../raw_data/P_model</td>\n",
       "      <td>FakeNewsNET</td>\n",
       "      <td>0.30</td>\n",
       "      <td>0.94</td>\n",
       "      <td>0.25</td>\n",
       "      <td>0.40</td>\n",
       "    </tr>\n",
       "    <tr>\n",
       "      <th>2</th>\n",
       "      <td>../raw_data/P_model</td>\n",
       "      <td>Bisaillon</td>\n",
       "      <td>0.54</td>\n",
       "      <td>0.92</td>\n",
       "      <td>0.54</td>\n",
       "      <td>0.68</td>\n",
       "    </tr>\n",
       "    <tr>\n",
       "      <th>3</th>\n",
       "      <td>../raw_data/P_model</td>\n",
       "      <td>All</td>\n",
       "      <td>0.52</td>\n",
       "      <td>0.84</td>\n",
       "      <td>0.49</td>\n",
       "      <td>0.62</td>\n",
       "    </tr>\n",
       "    <tr>\n",
       "      <th>4</th>\n",
       "      <td>../raw_data/F_model</td>\n",
       "      <td>politifact</td>\n",
       "      <td>0.48</td>\n",
       "      <td>0.13</td>\n",
       "      <td>0.59</td>\n",
       "      <td>0.21</td>\n",
       "    </tr>\n",
       "    <tr>\n",
       "      <th>5</th>\n",
       "      <td>../raw_data/F_model</td>\n",
       "      <td>FakeNewsNET</td>\n",
       "      <td>0.79</td>\n",
       "      <td>0.32</td>\n",
       "      <td>0.60</td>\n",
       "      <td>0.42</td>\n",
       "    </tr>\n",
       "    <tr>\n",
       "      <th>6</th>\n",
       "      <td>../raw_data/F_model</td>\n",
       "      <td>Bisaillon</td>\n",
       "      <td>0.47</td>\n",
       "      <td>0.10</td>\n",
       "      <td>0.48</td>\n",
       "      <td>0.17</td>\n",
       "    </tr>\n",
       "    <tr>\n",
       "      <th>7</th>\n",
       "      <td>../raw_data/F_model</td>\n",
       "      <td>All</td>\n",
       "      <td>0.55</td>\n",
       "      <td>0.14</td>\n",
       "      <td>0.57</td>\n",
       "      <td>0.23</td>\n",
       "    </tr>\n",
       "    <tr>\n",
       "      <th>8</th>\n",
       "      <td>../raw_data/B_model</td>\n",
       "      <td>politifact</td>\n",
       "      <td>0.53</td>\n",
       "      <td>0.77</td>\n",
       "      <td>0.55</td>\n",
       "      <td>0.64</td>\n",
       "    </tr>\n",
       "    <tr>\n",
       "      <th>9</th>\n",
       "      <td>../raw_data/B_model</td>\n",
       "      <td>FakeNewsNET</td>\n",
       "      <td>0.38</td>\n",
       "      <td>0.80</td>\n",
       "      <td>0.26</td>\n",
       "      <td>0.39</td>\n",
       "    </tr>\n",
       "    <tr>\n",
       "      <th>10</th>\n",
       "      <td>../raw_data/B_model</td>\n",
       "      <td>Bisaillon</td>\n",
       "      <td>0.93</td>\n",
       "      <td>0.93</td>\n",
       "      <td>0.94</td>\n",
       "      <td>0.93</td>\n",
       "    </tr>\n",
       "    <tr>\n",
       "      <th>11</th>\n",
       "      <td>../raw_data/B_model</td>\n",
       "      <td>All</td>\n",
       "      <td>0.72</td>\n",
       "      <td>0.88</td>\n",
       "      <td>0.65</td>\n",
       "      <td>0.74</td>\n",
       "    </tr>\n",
       "    <tr>\n",
       "      <th>12</th>\n",
       "      <td>../raw_data/ALL_model</td>\n",
       "      <td>politifact</td>\n",
       "      <td>0.67</td>\n",
       "      <td>0.64</td>\n",
       "      <td>0.72</td>\n",
       "      <td>0.68</td>\n",
       "    </tr>\n",
       "    <tr>\n",
       "      <th>13</th>\n",
       "      <td>../raw_data/ALL_model</td>\n",
       "      <td>FakeNewsNET</td>\n",
       "      <td>0.81</td>\n",
       "      <td>0.71</td>\n",
       "      <td>0.59</td>\n",
       "      <td>0.64</td>\n",
       "    </tr>\n",
       "    <tr>\n",
       "      <th>14</th>\n",
       "      <td>../raw_data/ALL_model</td>\n",
       "      <td>Bisaillon</td>\n",
       "      <td>0.95</td>\n",
       "      <td>0.94</td>\n",
       "      <td>0.97</td>\n",
       "      <td>0.95</td>\n",
       "    </tr>\n",
       "    <tr>\n",
       "      <th>15</th>\n",
       "      <td>../raw_data/ALL_model</td>\n",
       "      <td>All</td>\n",
       "      <td>0.82</td>\n",
       "      <td>0.79</td>\n",
       "      <td>0.82</td>\n",
       "      <td>0.80</td>\n",
       "    </tr>\n",
       "  </tbody>\n",
       "</table>\n",
       "</div>"
      ],
      "text/plain": [
       "                    model         data   acc  recall  prec    f1\n",
       "0     ../raw_data/P_model   politifact  0.64    0.60  0.70  0.64\n",
       "1     ../raw_data/P_model  FakeNewsNET  0.30    0.94  0.25  0.40\n",
       "2     ../raw_data/P_model    Bisaillon  0.54    0.92  0.54  0.68\n",
       "3     ../raw_data/P_model          All  0.52    0.84  0.49  0.62\n",
       "4     ../raw_data/F_model   politifact  0.48    0.13  0.59  0.21\n",
       "5     ../raw_data/F_model  FakeNewsNET  0.79    0.32  0.60  0.42\n",
       "6     ../raw_data/F_model    Bisaillon  0.47    0.10  0.48  0.17\n",
       "7     ../raw_data/F_model          All  0.55    0.14  0.57  0.23\n",
       "8     ../raw_data/B_model   politifact  0.53    0.77  0.55  0.64\n",
       "9     ../raw_data/B_model  FakeNewsNET  0.38    0.80  0.26  0.39\n",
       "10    ../raw_data/B_model    Bisaillon  0.93    0.93  0.94  0.93\n",
       "11    ../raw_data/B_model          All  0.72    0.88  0.65  0.74\n",
       "12  ../raw_data/ALL_model   politifact  0.67    0.64  0.72  0.68\n",
       "13  ../raw_data/ALL_model  FakeNewsNET  0.81    0.71  0.59  0.64\n",
       "14  ../raw_data/ALL_model    Bisaillon  0.95    0.94  0.97  0.95\n",
       "15  ../raw_data/ALL_model          All  0.82    0.79  0.82  0.80"
      ]
     },
     "execution_count": 136,
     "metadata": {},
     "output_type": "execute_result"
    }
   ],
   "source": [
    "model_names = ['../raw_data/P_model',\n",
    "               '../raw_data/F_model', \n",
    "               '../raw_data/B_model', \n",
    "               '../raw_data/ALL_model']\n",
    "\n",
    "datas = ['politifact', 'FakeNewsNET', 'Bisaillon', 'All']\n",
    "\n",
    "tokenizers = [tokenizer_P, \n",
    "             tokenizer_F,\n",
    "             tokenizer_B,\n",
    "             tokenizer_ALL]\n",
    "\n",
    "df = get_summary(model_names, datas, tokenizers)\n",
    "df.head(20)"
   ]
  },
  {
   "cell_type": "code",
   "execution_count": 137,
   "id": "31cbcc8b",
   "metadata": {},
   "outputs": [],
   "source": [
    "file_path = '../raw_data/DL_summary.csv'\n",
    "\n",
    "df.to_csv(file_path, index=False)"
   ]
  },
  {
   "cell_type": "code",
   "execution_count": null,
   "id": "0b7b3502",
   "metadata": {},
   "outputs": [],
   "source": []
  },
  {
   "cell_type": "markdown",
   "id": "5edeea0c",
   "metadata": {
    "id": "5edeea0c"
   },
   "source": [
    "## Prediction"
   ]
  },
  {
   "cell_type": "code",
   "execution_count": 98,
   "id": "652b2f78",
   "metadata": {
    "id": "652b2f78"
   },
   "outputs": [],
   "source": [
    "# Colab\n",
    "model_name = 'ALL_model'\n",
    "\n",
    "# Notebook\n",
    "model_name = '../raw_data/ALL_model'\n",
    "\n",
    "reconstructed_ALL_model = tf.keras.models.load_model(model_name)"
   ]
  },
  {
   "cell_type": "code",
   "execution_count": 99,
   "id": "63d3e435",
   "metadata": {
    "id": "63d3e435"
   },
   "outputs": [],
   "source": [
    "fake0 = \"White House, CDC, WHO and vaccine makers don’t require the COVID-19 vaccine for their workers.\"\n",
    "fake1 = \"Says a U.S. Air Force-insignia plane evacuating people from Afghanistan is fake.\"\n",
    "fake2 = \"No one has died of cancer or heart disease since the COVID-19 thing started.\"\n",
    "true0 = \"A photo shows two COVID-19 patients lying on the floor awaiting treatment in Florida.\"\n",
    "true1 = \"We’ve got 115,000 miles of roads in this state and 90% is owned by the locals.\"\n",
    "true2 = \"324,000 pregnant people experience domestic violence during their pregnancy.\""
   ]
  },
  {
   "cell_type": "code",
   "execution_count": 102,
   "id": "dfdcf952",
   "metadata": {
    "id": "dfdcf952",
    "outputId": "2db911a5-acb9-4549-c0ec-4a54250843ad"
   },
   "outputs": [
    {
     "name": "stdout",
     "output_type": "stream",
     "text": [
      "--------------------------------------------------------------------------------\n",
      "[[0.85778475]\n",
      " [0.77794206]\n",
      " [0.4333899 ]\n",
      " [0.83911407]\n",
      " [0.47911212]\n",
      " [0.31759608]]\n",
      "--------------------------------------------------------------------------------\n"
     ]
    }
   ],
   "source": [
    "sample = [fake0, fake1, fake2, true0, true1, true2]\n",
    "\n",
    "# Preprocessing\n",
    "X_sample_clean = [clean(text) for text in sample] \n",
    "X_sample_pad = prep_text(X_sample_clean, tokenizer_ALL, **hparams)\n",
    "\n",
    "# Prediction\n",
    "y_preds = reconstructed_ALL_model.predict(X_sample_pad)\n",
    "\n",
    "print('-'*80)\n",
    "print(y_preds)\n",
    "print('-'*80)"
   ]
  },
  {
   "cell_type": "code",
   "execution_count": null,
   "id": "9df63076",
   "metadata": {
    "id": "9df63076"
   },
   "outputs": [],
   "source": []
  },
  {
   "cell_type": "code",
   "execution_count": null,
   "id": "BBM6OzpCykYd",
   "metadata": {
    "id": "BBM6OzpCykYd"
   },
   "outputs": [],
   "source": []
  }
 ],
 "metadata": {
  "accelerator": "GPU",
  "colab": {
   "collapsed_sections": [
    "9564511e",
    "09322e5a",
    "9305fa89",
    "9a832897",
    "8de5da8e",
    "ecf51dc9",
    "l6KrFEZm704h",
    "_82qYdNK708C",
    "f586a971",
    "34e0a7e9",
    "f70c6c5b",
    "8b1c87c8",
    "821fde35",
    "0a26e16f"
   ],
   "name": "JS_DL_all_datasets.ipynb",
   "provenance": [
    {
     "file_id": "12VIMXD-aqB2EqCnDDq8_z2lG0W_o1inp",
     "timestamp": 1630032335921
    },
    {
     "file_id": "1KgDvCnlTH8CApSC4GPLcy38ZYN8DZ7dv",
     "timestamp": 1629979793495
    },
    {
     "file_id": "11Hhlts5VKbIIGWJjTXATQXA0ns6T37aF",
     "timestamp": 1629623230007
    }
   ],
   "toc_visible": true
  },
  "kernelspec": {
   "display_name": "Python 3 (ipykernel)",
   "language": "python",
   "name": "python3"
  },
  "language_info": {
   "codemirror_mode": {
    "name": "ipython",
    "version": 3
   },
   "file_extension": ".py",
   "mimetype": "text/x-python",
   "name": "python",
   "nbconvert_exporter": "python",
   "pygments_lexer": "ipython3",
   "version": "3.8.6"
  },
  "toc": {
   "base_numbering": 1,
   "nav_menu": {},
   "number_sections": true,
   "sideBar": true,
   "skip_h1_title": false,
   "title_cell": "Table of Contents",
   "title_sidebar": "Contents",
   "toc_cell": false,
   "toc_position": {},
   "toc_section_display": true,
   "toc_window_display": true
  },
  "varInspector": {
   "cols": {
    "lenName": 16,
    "lenType": 16,
    "lenVar": 40
   },
   "kernels_config": {
    "python": {
     "delete_cmd_postfix": "",
     "delete_cmd_prefix": "del ",
     "library": "var_list.py",
     "varRefreshCmd": "print(var_dic_list())"
    },
    "r": {
     "delete_cmd_postfix": ") ",
     "delete_cmd_prefix": "rm(",
     "library": "var_list.r",
     "varRefreshCmd": "cat(var_dic_list()) "
    }
   },
   "types_to_exclude": [
    "module",
    "function",
    "builtin_function_or_method",
    "instance",
    "_Feature"
   ],
   "window_display": false
  }
 },
 "nbformat": 4,
 "nbformat_minor": 5
}
