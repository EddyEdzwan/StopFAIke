{
 "cells": [
  {
   "cell_type": "markdown",
   "id": "540105f5",
   "metadata": {
    "id": "540105f5"
   },
   "source": [
    "# Evaluation of the 3 datasets with ML"
   ]
  },
  {
   "cell_type": "code",
   "execution_count": 1,
   "id": "8c94c786",
   "metadata": {
    "executionInfo": {
     "elapsed": 4,
     "status": "ok",
     "timestamp": 1630137188069,
     "user": {
      "displayName": "Julien Seguy",
      "photoUrl": "",
      "userId": "07351507381529939348"
     },
     "user_tz": -480
    },
    "id": "8c94c786"
   },
   "outputs": [],
   "source": [
    "import numpy as np\n",
    "import pandas as pd\n",
    "import joblib\n",
    "from termcolor import colored\n",
    "\n",
    "import matplotlib as mpl\n",
    "import matplotlib.pyplot as plt\n",
    "\n",
    "mpl.rcParams['figure.figsize'] = (12, 6)\n",
    "colors = plt.rcParams['axes.prop_cycle'].by_key()['color']"
   ]
  },
  {
   "cell_type": "markdown",
   "id": "1bbddbc5",
   "metadata": {
    "heading_collapsed": true,
    "id": "1bbddbc5"
   },
   "source": [
    "## Helper functions"
   ]
  },
  {
   "cell_type": "code",
   "execution_count": 61,
   "id": "46bcaed5",
   "metadata": {
    "colab": {
     "base_uri": "https://localhost:8080/"
    },
    "executionInfo": {
     "elapsed": 732,
     "status": "ok",
     "timestamp": 1630139701260,
     "user": {
      "displayName": "Julien Seguy",
      "photoUrl": "",
      "userId": "07351507381529939348"
     },
     "user_tz": -480
    },
    "hidden": true,
    "id": "46bcaed5",
    "outputId": "d9307b06-6d28-4988-c665-419cbb2dcaee"
   },
   "outputs": [
    {
     "name": "stdout",
     "output_type": "stream",
     "text": [
      "[nltk_data] Downloading package punkt to /root/nltk_data...\n",
      "[nltk_data]   Package punkt is already up-to-date!\n",
      "[nltk_data] Downloading package stopwords to /root/nltk_data...\n",
      "[nltk_data]   Package stopwords is already up-to-date!\n",
      "[nltk_data] Downloading package wordnet to /root/nltk_data...\n",
      "[nltk_data]   Package wordnet is already up-to-date!\n"
     ]
    }
   ],
   "source": [
    "import seaborn as sns\n",
    "\n",
    "from sklearn.metrics import confusion_matrix\n",
    "from sklearn.metrics import recall_score\n",
    "from sklearn.metrics import precision_score\n",
    "from sklearn.metrics import f1_score\n",
    "from sklearn.metrics import accuracy_score\n",
    "from sklearn.metrics import roc_curve\n",
    "from sklearn.metrics import precision_recall_curve\n",
    "\n",
    "from sklearn.model_selection import train_test_split\n",
    "\n",
    "import tensorflow as tf\n",
    "from tensorflow.keras.preprocessing.text import Tokenizer\n",
    "from tensorflow.keras.preprocessing.sequence import pad_sequences\n",
    "\n",
    "import string\n",
    "from nltk.corpus import stopwords\n",
    "from nltk.stem.wordnet import WordNetLemmatizer\n",
    "from nltk import word_tokenize\n",
    "\n",
    "# Required only for Colab\n",
    "import nltk\n",
    "nltk.download('punkt')\n",
    "nltk.download('stopwords')\n",
    "nltk.download('wordnet')\n",
    "\n",
    "def clean(text):\n",
    "    \"\"\"\n",
    "    Provided by Le Wagon - Machine Learning - NLP\n",
    "    Preprocessing articles - punctuation / lowercased / tokenize (not number) / stop_words / lemmatize\n",
    "    \"\"\"\n",
    "    for punctuation in string.punctuation:\n",
    "        text = text.replace(punctuation, ' ') # Remove Punctuation\n",
    "    lowercased = text.lower() # Lower Case\n",
    "    tokenized = word_tokenize(lowercased) # Tokenize\n",
    "    words_only = [word for word in tokenized if word.isalpha()] # Remove numbers\n",
    "    stop_words = set(stopwords.words('english')) # Make stopword list\n",
    "    without_stopwords = [word for word in words_only if not word in stop_words] # Remove Stop Words\n",
    "    lemma = WordNetLemmatizer() # Initiate Lemmatizer\n",
    "    lemmatized = [lemma.lemmatize(word) for word in without_stopwords] # Lemmatize\n",
    "    return lemmatized\n",
    "\n",
    "def prep_text(texts, tokenizer, **hparams):\n",
    "    \"\"\"\n",
    "    Turns text into into padded sequences.\n",
    "    \"\"\"\n",
    "    # kwargs.get(\"local\", False)\n",
    "    text_sequences = tokenizer.texts_to_sequences(texts)\n",
    "    return pad_sequences(text_sequences, maxlen = hparams[\"max_sequence_length\"], padding='post')\n",
    "\n",
    "def plot_loss(history, title=None):\n",
    "    fig, (ax1, ax2, ax3) = plt.subplots(1, 3, figsize=(18, 4))\n",
    "    ax1.plot(history.history['loss'])\n",
    "    ax1.plot(history.history['val_loss'])\n",
    "    ax1.set_title('Model loss')\n",
    "    ax1.set_ylabel('Loss')\n",
    "    ax1.set_xlabel('Epoch')\n",
    "    ax1.set_ylim(ymin=0, ymax=1)\n",
    "    ax1.legend(['Train', 'Validation'], loc='best')\n",
    "\n",
    "    ax2.plot(history.history['accuracy'])\n",
    "    ax2.plot(history.history['val_accuracy'])\n",
    "    ax2.set_title('ACC')\n",
    "    ax2.set_ylabel('ACC')\n",
    "    ax2.set_xlabel('Epoch')\n",
    "    ax2.set_ylim(ymin=0, ymax=1)\n",
    "    ax2.legend(['Train', 'Validation'], loc='best')\n",
    "\n",
    "    ax3.plot(history.history['recall'])\n",
    "    ax3.plot(history.history['val_recall'])\n",
    "    ax3.set_title('Recall')\n",
    "    ax3.set_ylabel('Recall')\n",
    "    ax3.set_xlabel('Epoch')\n",
    "    ax3.set_ylim(ymin=0, ymax=1)\n",
    "    ax3.legend(['Train', 'Validation'], loc='best')\n",
    "    if title:\n",
    "        fig.suptitle(title)\n",
    "    plt.show()\n",
    "\n",
    "def binary_metrics(y_test, y_pred):\n",
    "    print('-'*80)\n",
    "    print('Acc: {:.2f}'.format(accuracy_score(y_test, y_pred)))\n",
    "    print('Recall: {:.2f}'.format(recall_score(y_test, y_pred)))\n",
    "    print('Precision: {:.2f}'.format(precision_score(y_test, y_pred)))\n",
    "    print('f1: {:.2f}'.format(f1_score(y_test, y_pred)))\n",
    "    print('-'*80)\n",
    "    \n",
    "def get_metrics(y_test, X, model):\n",
    "\n",
    "    y_prob = model.predict(X)\n",
    "    y_pred = np.where(y_prob > 0.5, 1, 0)\n",
    "\n",
    "    conf_matrix = confusion_matrix(y_test, y_pred)\n",
    "\n",
    "    acc = accuracy_score(y_test, y_pred)\n",
    "    recall = recall_score(y_test, y_pred)\n",
    "    precision = precision_score(y_test, y_pred)\n",
    "    f1 = f1_score(y_test, y_pred)\n",
    "\n",
    "    print('-'*80)\n",
    "    print(f\"acc: {acc*100:.2f}%\")\n",
    "    print(f\"recall: {recall*100:.2f}%\")\n",
    "    print(f\"precision: {precision*100:.2f}%\")\n",
    "    print(f\"f1: {f1*100:.2f}%\")\n",
    "    print('-'*80)\n",
    "\n",
    "    sns.heatmap(conf_matrix, annot=True, fmt=\"d\");"
   ]
  },
  {
   "cell_type": "markdown",
   "id": "1rqkUBJByT9d",
   "metadata": {
    "id": "1rqkUBJByT9d"
   },
   "source": [
    "## Parameters"
   ]
  },
  {
   "cell_type": "code",
   "execution_count": 23,
   "id": "vz11VniOvnzA",
   "metadata": {
    "executionInfo": {
     "elapsed": 302,
     "status": "ok",
     "timestamp": 1630137467675,
     "user": {
      "displayName": "Julien Seguy",
      "photoUrl": "",
      "userId": "07351507381529939348"
     },
     "user_tz": -480
    },
    "id": "vz11VniOvnzA"
   },
   "outputs": [],
   "source": [
    "hparams = {\n",
    "    \"batch_size\": 128,\n",
    "    \"cnn_filter_sizes\": [128, 128, 128],\n",
    "    \"cnn_kernel_sizes\": [5, 5, 5],\n",
    "    \"cnn_pooling_sizes\": [5, 5, 40],\n",
    "    \"constraint_learning_rate\": 0.01,\n",
    "    \"embedding_dim\": 100,\n",
    "    \"embedding_trainable\": False,\n",
    "    \"learning_rate\": 0.005,\n",
    "    \"max_num_words\": 10000,\n",
    "    \"max_sequence_length\": 40\n",
    "}"
   ]
  },
  {
   "cell_type": "markdown",
   "id": "281e36b7",
   "metadata": {
    "id": "281e36b7"
   },
   "source": [
    "## Loading Datasets"
   ]
  },
  {
   "cell_type": "markdown",
   "id": "370d2d6a",
   "metadata": {
    "heading_collapsed": true,
    "id": "370d2d6a"
   },
   "source": [
    "### Loading `politifact_scrap.csv`"
   ]
  },
  {
   "cell_type": "code",
   "execution_count": 3,
   "id": "fc36e42d",
   "metadata": {
    "colab": {
     "base_uri": "https://localhost:8080/"
    },
    "executionInfo": {
     "elapsed": 1240,
     "status": "ok",
     "timestamp": 1630137194743,
     "user": {
      "displayName": "Julien Seguy",
      "photoUrl": "",
      "userId": "07351507381529939348"
     },
     "user_tz": -480
    },
    "hidden": true,
    "id": "fc36e42d",
    "outputId": "ebda0b69-3162-4544-de79-95155ed580a2"
   },
   "outputs": [
    {
     "name": "stdout",
     "output_type": "stream",
     "text": [
      "--------------------------------------------------------------------------------\n",
      "data_P shape: (19826, 8)\n",
      "--------------------------------------------------------------------------------\n",
      "--------------------------------------------------------------------------------\n",
      "1    71.562595\n",
      "0    28.437405\n",
      "Name: category, dtype: float64\n",
      "--------------------------------------------------------------------------------\n",
      "1    54.206597\n",
      "0    45.793403\n",
      "Name: category2, dtype: float64\n",
      "--------------------------------------------------------------------------------\n"
     ]
    }
   ],
   "source": [
    "def get_data_from_gcp(nrows=10000, optimize=False, **kwargs):\n",
    "    \"\"\"method to get the training data (or a portion of it) from GCP\"\"\"\n",
    "    path = 'https://storage.googleapis.com/wagon-data-615-seguy/data/politifact_scrap.csv'\n",
    "    df = pd.read_csv(path, nrows=nrows)\n",
    "    return df\n",
    "\n",
    "data_P = get_data_from_gcp(nrows=30000)\n",
    "\n",
    "print('-'*80)\n",
    "print(f\"data_P shape: {data_P.shape}\")\n",
    "print('-'*80)\n",
    "print('-'*80)\n",
    "print(data_P['category'].value_counts()/len(data_P)*100)\n",
    "print('-'*80)\n",
    "print(data_P['category2'].value_counts()/len(data_P)*100)\n",
    "print('-'*80)"
   ]
  },
  {
   "cell_type": "code",
   "execution_count": 24,
   "id": "1404ae8f",
   "metadata": {
    "colab": {
     "base_uri": "https://localhost:8080/"
    },
    "executionInfo": {
     "elapsed": 9383,
     "status": "ok",
     "timestamp": 1630137480284,
     "user": {
      "displayName": "Julien Seguy",
      "photoUrl": "",
      "userId": "07351507381529939348"
     },
     "user_tz": -480
    },
    "hidden": true,
    "id": "1404ae8f",
    "outputId": "1e21a508-0d42-4c42-faf8-6d0e340a50dd"
   },
   "outputs": [
    {
     "name": "stdout",
     "output_type": "stream",
     "text": [
      "--------------------------------------------------------------------------------\n",
      "X_P shape: (19826,)\n",
      "y_P shape: (19826,)\n",
      "--------------------------------------------------------------------------------\n",
      "Original text: “Washington public school forces unvaccinated teens to wear ankle monitors” as a condition of playing team sports.\n",
      "Clean text: ['washington', 'public', 'school', 'force', 'unvaccinated', 'teen', 'wear', 'ankle', 'monitor', 'condition', 'playing', 'team', 'sport']\n",
      "--------------------------------------------------------------------------------\n"
     ]
    }
   ],
   "source": [
    "X_P = data_P['statement'].apply(clean).copy()\n",
    "y_P = data_P['category2'].copy()\n",
    "\n",
    "print('-'*80)\n",
    "print(f\"X_P shape: {X_P.shape}\")\n",
    "print(f\"y_P shape: {y_P.shape}\")\n",
    "print('-'*80)\n",
    "print(f\"Original text: {data_P['statement'][0]}\")\n",
    "print(f\"Clean text: {X_P[0]}\")\n",
    "print('-'*80)"
   ]
  },
  {
   "cell_type": "code",
   "execution_count": 25,
   "id": "038ab59c",
   "metadata": {
    "colab": {
     "base_uri": "https://localhost:8080/"
    },
    "executionInfo": {
     "elapsed": 15,
     "status": "ok",
     "timestamp": 1630137480284,
     "user": {
      "displayName": "Julien Seguy",
      "photoUrl": "",
      "userId": "07351507381529939348"
     },
     "user_tz": -480
    },
    "hidden": true,
    "id": "038ab59c",
    "outputId": "dd11b4c7-1013-4655-ddff-b914a0e3f618"
   },
   "outputs": [
    {
     "name": "stdout",
     "output_type": "stream",
     "text": [
      "--------------------------------------------------------------------------------\n",
      "X_P_train shape: (15860,)\n",
      "y_P_train shape: (15860,)\n",
      "--------------------------------------------------------------------------------\n",
      "X_P_test shape: (3966,)\n",
      "y_P_test shape: (3966,)\n",
      "--------------------------------------------------------------------------------\n",
      "--------------------------------------------------------------------------------\n",
      "Fake (1) proportion in train (%): 54.300\n",
      "Fake (1) proportion in test (%): 53.833\n",
      "--------------------------------------------------------------------------------\n"
     ]
    }
   ],
   "source": [
    "X_P_train, X_P_test, y_P_train, y_P_test = train_test_split(X_P, y_P, test_size=0.2, random_state=42)\n",
    "\n",
    "print('-'*80)\n",
    "print(f\"X_P_train shape: {X_P_train.shape}\")\n",
    "print(f\"y_P_train shape: {y_P_train.shape}\")\n",
    "print('-'*80)\n",
    "print(f\"X_P_test shape: {X_P_test.shape}\")\n",
    "print(f\"y_P_test shape: {y_P_test.shape}\")\n",
    "print('-'*80)\n",
    "print('-'*80)\n",
    "print(f\"Fake (1) proportion in train (%): {y_P_train.sum()/len(y_P_train)*100:.3f}\")\n",
    "print(f\"Fake (1) proportion in test (%): {y_P_test.sum()/len(y_P_test)*100:.3f}\")\n",
    "print('-'*80)"
   ]
  },
  {
   "cell_type": "code",
   "execution_count": 26,
   "id": "QZNFLHvTvf47",
   "metadata": {
    "colab": {
     "base_uri": "https://localhost:8080/"
    },
    "executionInfo": {
     "elapsed": 481,
     "status": "ok",
     "timestamp": 1630137480752,
     "user": {
      "displayName": "Julien Seguy",
      "photoUrl": "",
      "userId": "07351507381529939348"
     },
     "user_tz": -480
    },
    "hidden": true,
    "id": "QZNFLHvTvf47",
    "outputId": "cb36ff51-11e8-4647-a1c5-776adf572452"
   },
   "outputs": [
    {
     "name": "stdout",
     "output_type": "stream",
     "text": [
      "--------------------------------------------------------------------------------\n",
      "X_P_train_pad shape: (15860, 40)\n",
      "X_P_pad shape: (3966, 40)\n",
      "--------------------------------------------------------------------------------\n",
      "--------------------------------------------------------------------------------\n",
      "vocab_size: 12713\n",
      "--------------------------------------------------------------------------------\n"
     ]
    }
   ],
   "source": [
    "tokenizer_P = Tokenizer(num_words = hparams[\"max_num_words\"])\n",
    "tokenizer_P.fit_on_texts(X_P_train)\n",
    "\n",
    "X_P_train_pad = prep_text(X_P_train, tokenizer_P, **hparams)\n",
    "X_P_test_pad = prep_text(X_P_test, tokenizer_P, **hparams)\n",
    "\n",
    "print('-'*80)\n",
    "print(f\"X_P_train_pad shape: {X_P_train_pad.shape}\")\n",
    "print(f\"X_P_pad shape: {X_P_test_pad.shape}\")\n",
    "print('-'*80)\n",
    "\n",
    "vocab_size = len(tokenizer_P.word_index)\n",
    "print('-'*80)\n",
    "print(f\"vocab_size: {vocab_size}\")\n",
    "print('-'*80)"
   ]
  },
  {
   "cell_type": "markdown",
   "id": "635e0d5e",
   "metadata": {
    "heading_collapsed": true,
    "id": "635e0d5e"
   },
   "source": [
    "### Loading `FakeNewsNET`"
   ]
  },
  {
   "cell_type": "code",
   "execution_count": 19,
   "id": "1f144a74",
   "metadata": {
    "colab": {
     "base_uri": "https://localhost:8080/"
    },
    "executionInfo": {
     "elapsed": 2115,
     "status": "ok",
     "timestamp": 1630137440678,
     "user": {
      "displayName": "Julien Seguy",
      "photoUrl": "",
      "userId": "07351507381529939348"
     },
     "user_tz": -480
    },
    "hidden": true,
    "id": "1f144a74",
    "outputId": "ac7a165d-80cb-4de9-f83f-bba52f72e77b"
   },
   "outputs": [
    {
     "name": "stdout",
     "output_type": "stream",
     "text": [
      "--------------------------------------------------------------------------------\n",
      "data_FNN shape: (19281, 8)\n",
      "--------------------------------------------------------------------------------\n"
     ]
    }
   ],
   "source": [
    "def get_data_from_gcp(nrows=10000, optimize=False, **kwargs):\n",
    "    \"\"\"method to get the training data (or a portion of it) from GCP\"\"\"\n",
    "    path = 'https://storage.googleapis.com/wagon-data-615-seguy/data/FakesNewsNET.csv'\n",
    "    df = pd.read_csv(path, nrows=nrows)\n",
    "    return df\n",
    "\n",
    "data_FNN = get_data_from_gcp(nrows=20000)\n",
    "\n",
    "print('-'*80)\n",
    "print(f\"data_FNN shape: {data_FNN.shape}\")\n",
    "print('-'*80)"
   ]
  },
  {
   "cell_type": "code",
   "execution_count": 20,
   "id": "2f61a7e0",
   "metadata": {
    "colab": {
     "base_uri": "https://localhost:8080/"
    },
    "executionInfo": {
     "elapsed": 8358,
     "status": "ok",
     "timestamp": 1630137449033,
     "user": {
      "displayName": "Julien Seguy",
      "photoUrl": "",
      "userId": "07351507381529939348"
     },
     "user_tz": -480
    },
    "hidden": true,
    "id": "2f61a7e0",
    "outputId": "516d4371-559a-4a1a-b563-bdae67af3583"
   },
   "outputs": [
    {
     "name": "stdout",
     "output_type": "stream",
     "text": [
      "--------------------------------------------------------------------------------\n",
      "X_FNN shape: (19281,)\n",
      "y_FNN shape: (19281,)\n",
      "--------------------------------------------------------------------------------\n",
      "Original text: Djou wins special election for Congress\n",
      "Clean text: ['djou', 'win', 'special', 'election', 'congress']\n",
      "--------------------------------------------------------------------------------\n"
     ]
    }
   ],
   "source": [
    "X_FNN = data_FNN['title'].apply(clean).copy()\n",
    "y_FNN = data_FNN['category'].copy()\n",
    "\n",
    "print('-'*80)\n",
    "print(f\"X_FNN shape: {X_FNN.shape}\")\n",
    "print(f\"y_FNN shape: {y_FNN.shape}\")\n",
    "print('-'*80)\n",
    "print(f\"Original text: {data_FNN['title'][0]}\")\n",
    "print(f\"Clean text: {X_FNN[0]}\")\n",
    "print('-'*80)"
   ]
  },
  {
   "cell_type": "code",
   "execution_count": 21,
   "id": "4a87b90d",
   "metadata": {
    "colab": {
     "base_uri": "https://localhost:8080/"
    },
    "executionInfo": {
     "elapsed": 6,
     "status": "ok",
     "timestamp": 1630137449034,
     "user": {
      "displayName": "Julien Seguy",
      "photoUrl": "",
      "userId": "07351507381529939348"
     },
     "user_tz": -480
    },
    "hidden": true,
    "id": "4a87b90d",
    "outputId": "58fd41bf-d7aa-4f0b-afe2-007d603103d9"
   },
   "outputs": [
    {
     "name": "stdout",
     "output_type": "stream",
     "text": [
      "--------------------------------------------------------------------------------\n",
      "X_FNN_train shape: (15424,)\n",
      "y_FNN_train shape: (15424,)\n",
      "--------------------------------------------------------------------------------\n",
      "X_FNN_test shape: (3857,)\n",
      "y_FNN_test shape: (3857,)\n",
      "--------------------------------------------------------------------------------\n",
      "--------------------------------------------------------------------------------\n",
      "Fake (1) proportion in train (%): 24.870\n",
      "Fake (1) proportion in test (%): 23.568\n",
      "--------------------------------------------------------------------------------\n"
     ]
    }
   ],
   "source": [
    "X_FNN_train, X_FNN_test, y_FNN_train, y_FNN_test = train_test_split(X_FNN, y_FNN, test_size=0.2, random_state=42)\n",
    "\n",
    "print('-'*80)\n",
    "print(f\"X_FNN_train shape: {X_FNN_train.shape}\")\n",
    "print(f\"y_FNN_train shape: {y_FNN_train.shape}\")\n",
    "print('-'*80)\n",
    "print(f\"X_FNN_test shape: {X_FNN_test.shape}\")\n",
    "print(f\"y_FNN_test shape: {y_FNN_test.shape}\")\n",
    "print('-'*80)\n",
    "print('-'*80)\n",
    "print(f\"Fake (1) proportion in train (%): {y_FNN_train.sum()/len(y_FNN_train)*100:.3f}\")\n",
    "print(f\"Fake (1) proportion in test (%): {y_FNN_test.sum()/len(y_FNN_test)*100:.3f}\")\n",
    "print('-'*80)"
   ]
  },
  {
   "cell_type": "code",
   "execution_count": 22,
   "id": "tlLVZ7-3waqp",
   "metadata": {
    "colab": {
     "base_uri": "https://localhost:8080/"
    },
    "executionInfo": {
     "elapsed": 530,
     "status": "ok",
     "timestamp": 1630137449560,
     "user": {
      "displayName": "Julien Seguy",
      "photoUrl": "",
      "userId": "07351507381529939348"
     },
     "user_tz": -480
    },
    "hidden": true,
    "id": "tlLVZ7-3waqp",
    "outputId": "50e07f03-4c91-43d7-9ac7-865696a218a5"
   },
   "outputs": [
    {
     "name": "stdout",
     "output_type": "stream",
     "text": [
      "--------------------------------------------------------------------------------\n",
      "X_FNN_train_pad shape: (15424, 250)\n",
      "X_FNN_pad shape: (3857, 250)\n",
      "--------------------------------------------------------------------------------\n",
      "--------------------------------------------------------------------------------\n",
      "vocab_size: 12713\n",
      "--------------------------------------------------------------------------------\n"
     ]
    }
   ],
   "source": [
    "tokenizer_F = Tokenizer(num_words = hparams[\"max_num_words\"])\n",
    "tokenizer_F.fit_on_texts(X_P_train)\n",
    "\n",
    "X_FNN_train_pad = prep_text(X_FNN_train, tokenizer_F, **hparams)\n",
    "X_FNN_test_pad = prep_text(X_FNN_test, tokenizer_F, **hparams)\n",
    "\n",
    "print('-'*80)\n",
    "print(f\"X_FNN_train_pad shape: {X_FNN_train_pad.shape}\")\n",
    "print(f\"X_FNN_pad shape: {X_FNN_test_pad.shape}\")\n",
    "print('-'*80)\n",
    "\n",
    "vocab_size = len(tokenizer_F.word_index)\n",
    "print('-'*80)\n",
    "print(f\"vocab_size: {vocab_size}\")\n",
    "print('-'*80)"
   ]
  },
  {
   "cell_type": "markdown",
   "id": "9564511e",
   "metadata": {
    "heading_collapsed": true,
    "id": "9564511e"
   },
   "source": [
    "### Loading `Bisaillon`"
   ]
  },
  {
   "cell_type": "code",
   "execution_count": 27,
   "id": "e6468d72",
   "metadata": {
    "colab": {
     "base_uri": "https://localhost:8080/"
    },
    "executionInfo": {
     "elapsed": 4338,
     "status": "ok",
     "timestamp": 1630137587643,
     "user": {
      "displayName": "Julien Seguy",
      "photoUrl": "",
      "userId": "07351507381529939348"
     },
     "user_tz": -480
    },
    "hidden": true,
    "id": "e6468d72",
    "outputId": "cb91263f-332a-42d7-a95e-548f50c36a27"
   },
   "outputs": [
    {
     "name": "stdout",
     "output_type": "stream",
     "text": [
      "--------------------------------------------------------------------------------\n",
      "true shape: (21417, 4)\n",
      "fake shape: (23481, 4)\n",
      "--------------------------------------------------------------------------------\n"
     ]
    }
   ],
   "source": [
    "def get_data_from_gcp(nrows=10000, optimize=False, **kwargs):\n",
    "    \"\"\"method to get the training data (or a portion of it) from GCP\"\"\"\n",
    "    true_path = 'https://storage.googleapis.com/wagon-data-615-seguy/data/True.csv'\n",
    "    fake_path = 'https://storage.googleapis.com/wagon-data-615-seguy/data/Fake.csv'\n",
    "    true_df = pd.read_csv(true_path, nrows=nrows)\n",
    "    fake_df = pd.read_csv(fake_path, nrows=nrows)\n",
    "    return true_df, fake_df\n",
    "\n",
    "true, fake = get_data_from_gcp(nrows=None)\n",
    "\n",
    "print('-'*80)\n",
    "print(f\"true shape: {true.shape}\")\n",
    "print(f\"fake shape: {fake.shape}\")\n",
    "print('-'*80)"
   ]
  },
  {
   "cell_type": "code",
   "execution_count": 28,
   "id": "ffd17e9f",
   "metadata": {
    "colab": {
     "base_uri": "https://localhost:8080/"
    },
    "executionInfo": {
     "elapsed": 494,
     "status": "ok",
     "timestamp": 1630137588123,
     "user": {
      "displayName": "Julien Seguy",
      "photoUrl": "",
      "userId": "07351507381529939348"
     },
     "user_tz": -480
    },
    "hidden": true,
    "id": "ffd17e9f",
    "outputId": "edd3e9dc-d88b-44fa-8dad-8cff895aa63f"
   },
   "outputs": [
    {
     "name": "stdout",
     "output_type": "stream",
     "text": [
      "--------------------------------------------------------------------------------\n",
      "true shape (wo duplicates): (21211, 4)\n",
      "fake shape (wo duplicates): (23478, 4)\n",
      "--------------------------------------------------------------------------------\n"
     ]
    }
   ],
   "source": [
    "true.drop_duplicates(inplace=True)\n",
    "fake.drop_duplicates(inplace=True)\n",
    "\n",
    "print('-'*80)\n",
    "print(f\"true shape (wo duplicates): {true.shape}\")\n",
    "print(f\"fake shape (wo duplicates): {fake.shape}\")\n",
    "print('-'*80)"
   ]
  },
  {
   "cell_type": "code",
   "execution_count": 29,
   "id": "1480b743",
   "metadata": {
    "colab": {
     "base_uri": "https://localhost:8080/"
    },
    "executionInfo": {
     "elapsed": 419,
     "status": "ok",
     "timestamp": 1630137591489,
     "user": {
      "displayName": "Julien Seguy",
      "photoUrl": "",
      "userId": "07351507381529939348"
     },
     "user_tz": -480
    },
    "hidden": true,
    "id": "1480b743",
    "outputId": "f98ac7eb-85bc-4100-e710-099cdf517149"
   },
   "outputs": [
    {
     "name": "stdout",
     "output_type": "stream",
     "text": [
      "--------------------------------------------------------------------------------\n",
      "data_BIS shape: (44689, 5)\n",
      "--------------------------------------------------------------------------------\n",
      "ratio #true: 47.46%\n",
      "ratio #fake: 52.54%\n",
      "--------------------------------------------------------------------------------\n"
     ]
    }
   ],
   "source": [
    "true['category'] = 0\n",
    "fake['category'] = 1\n",
    "\n",
    "data_BIS = pd.concat([true, fake]).reset_index(drop=True)\n",
    "\n",
    "print('-'*80)\n",
    "print(f\"data_BIS shape: {data_BIS.shape}\")\n",
    "print('-'*80)\n",
    "print(f\"ratio #true: {len(data_BIS[data_BIS['category']==0])/len(data_BIS)*100:.2f}%\")\n",
    "print(f\"ratio #fake: {len(data_BIS[data_BIS['category']==1])/len(data_BIS)*100:.2f}%\")\n",
    "print('-'*80)"
   ]
  },
  {
   "cell_type": "code",
   "execution_count": 30,
   "id": "23efc5c5",
   "metadata": {
    "colab": {
     "base_uri": "https://localhost:8080/"
    },
    "executionInfo": {
     "elapsed": 18856,
     "status": "ok",
     "timestamp": 1630137611238,
     "user": {
      "displayName": "Julien Seguy",
      "photoUrl": "",
      "userId": "07351507381529939348"
     },
     "user_tz": -480
    },
    "hidden": true,
    "id": "23efc5c5",
    "outputId": "60247951-8fde-4dab-9b0d-b59f7b750234"
   },
   "outputs": [
    {
     "name": "stdout",
     "output_type": "stream",
     "text": [
      "--------------------------------------------------------------------------------\n",
      "X_BIS shape: (44689,)\n",
      "y_BIS shape: (44689,)\n",
      "--------------------------------------------------------------------------------\n",
      "Original text: As U.S. budget fight looms, Republicans flip their fiscal script\n",
      "Clean text: ['u', 'budget', 'fight', 'loom', 'republican', 'flip', 'fiscal', 'script']\n",
      "--------------------------------------------------------------------------------\n"
     ]
    }
   ],
   "source": [
    "X_BIS = data_BIS['title'].apply(clean).copy()\n",
    "y_BIS = data_BIS['category'].copy()\n",
    "\n",
    "print('-'*80)\n",
    "print(f\"X_BIS shape: {X_BIS.shape}\")\n",
    "print(f\"y_BIS shape: {y_BIS.shape}\")\n",
    "print('-'*80)\n",
    "print(f\"Original text: {data_BIS['title'][0]}\")\n",
    "print(f\"Clean text: {X_BIS[0]}\")\n",
    "print('-'*80)"
   ]
  },
  {
   "cell_type": "code",
   "execution_count": 31,
   "id": "6915a245",
   "metadata": {
    "colab": {
     "base_uri": "https://localhost:8080/"
    },
    "executionInfo": {
     "elapsed": 16,
     "status": "ok",
     "timestamp": 1630137611238,
     "user": {
      "displayName": "Julien Seguy",
      "photoUrl": "",
      "userId": "07351507381529939348"
     },
     "user_tz": -480
    },
    "hidden": true,
    "id": "6915a245",
    "outputId": "f2ce501a-2476-4a2f-fd80-2d29d4cf6cec"
   },
   "outputs": [
    {
     "name": "stdout",
     "output_type": "stream",
     "text": [
      "--------------------------------------------------------------------------------\n",
      "X_BIS_train shape: (35751,)\n",
      "y_BIS_train shape: (35751,)\n",
      "--------------------------------------------------------------------------------\n",
      "X_BIS_test shape: (8938,)\n",
      "y_BIS_test shape: (8938,)\n",
      "--------------------------------------------------------------------------------\n",
      "--------------------------------------------------------------------------------\n",
      "Fake (1) proportion in train (%): 52.670\n",
      "Fake (1) proportion in test (%): 52.003\n",
      "--------------------------------------------------------------------------------\n"
     ]
    }
   ],
   "source": [
    "X_BIS_train, X_BIS_test, y_BIS_train, y_BIS_test = train_test_split(X_BIS, y_BIS, test_size=0.2, random_state=42)\n",
    "\n",
    "print('-'*80)\n",
    "print(f\"X_BIS_train shape: {X_BIS_train.shape}\")\n",
    "print(f\"y_BIS_train shape: {y_BIS_train.shape}\")\n",
    "print('-'*80)\n",
    "print(f\"X_BIS_test shape: {X_BIS_test.shape}\")\n",
    "print(f\"y_BIS_test shape: {y_BIS_test.shape}\")\n",
    "print('-'*80)\n",
    "print('-'*80)\n",
    "print(f\"Fake (1) proportion in train (%): {y_BIS_train.sum()/len(y_BIS_train)*100:.3f}\")\n",
    "print(f\"Fake (1) proportion in test (%): {y_BIS_test.sum()/len(y_BIS_test)*100:.3f}\")\n",
    "print('-'*80)"
   ]
  },
  {
   "cell_type": "code",
   "execution_count": 32,
   "id": "mOwCsbPTxgnc",
   "metadata": {
    "colab": {
     "base_uri": "https://localhost:8080/"
    },
    "executionInfo": {
     "elapsed": 1067,
     "status": "ok",
     "timestamp": 1630137671810,
     "user": {
      "displayName": "Julien Seguy",
      "photoUrl": "",
      "userId": "07351507381529939348"
     },
     "user_tz": -480
    },
    "hidden": true,
    "id": "mOwCsbPTxgnc",
    "outputId": "6972436a-13a7-45b3-914a-7c5ac433b01e"
   },
   "outputs": [
    {
     "name": "stdout",
     "output_type": "stream",
     "text": [
      "--------------------------------------------------------------------------------\n",
      "X_BIS_train_pad shape: (35751, 40)\n",
      "X_BIS_pad shape: (8938, 40)\n",
      "--------------------------------------------------------------------------------\n",
      "--------------------------------------------------------------------------------\n",
      "vocab_size: 12713\n",
      "--------------------------------------------------------------------------------\n"
     ]
    }
   ],
   "source": [
    "tokenizer_B = Tokenizer(num_words = hparams[\"max_num_words\"])\n",
    "tokenizer_B.fit_on_texts(X_P_train)\n",
    "\n",
    "X_BIS_train_pad = prep_text(X_BIS_train, tokenizer_B, **hparams)\n",
    "X_BIS_test_pad = prep_text(X_BIS_test, tokenizer_B, **hparams)\n",
    "\n",
    "print('-'*80)\n",
    "print(f\"X_BIS_train_pad shape: {X_BIS_train_pad.shape}\")\n",
    "print(f\"X_BIS_pad shape: {X_BIS_test_pad.shape}\")\n",
    "print('-'*80)\n",
    "\n",
    "vocab_size = len(tokenizer_B.word_index)\n",
    "print('-'*80)\n",
    "print(f\"vocab_size: {vocab_size}\")\n",
    "print('-'*80)"
   ]
  },
  {
   "cell_type": "markdown",
   "id": "09322e5a",
   "metadata": {
    "heading_collapsed": true,
    "id": "09322e5a"
   },
   "source": [
    "### Merging `All`"
   ]
  },
  {
   "cell_type": "code",
   "execution_count": 36,
   "id": "05e90ef4",
   "metadata": {
    "colab": {
     "base_uri": "https://localhost:8080/"
    },
    "executionInfo": {
     "elapsed": 457,
     "status": "ok",
     "timestamp": 1630137877728,
     "user": {
      "displayName": "Julien Seguy",
      "photoUrl": "",
      "userId": "07351507381529939348"
     },
     "user_tz": -480
    },
    "hidden": true,
    "id": "05e90ef4",
    "outputId": "40c490db-551b-478e-b4d9-711fbeb220f4"
   },
   "outputs": [
    {
     "name": "stdout",
     "output_type": "stream",
     "text": [
      "--------------------------------------------------------------------------------\n",
      "X_all shape: (83796,)\n",
      "y_all shape: (83796,)\n",
      "--------------------------------------------------------------------------------\n"
     ]
    }
   ],
   "source": [
    "X_all = pd.concat([X_P, X_FNN, X_BIS]).reset_index(drop=True)\n",
    "y_all = pd.concat([y_P, y_FNN, y_BIS]).reset_index(drop=True)\n",
    "\n",
    "print('-'*80)\n",
    "print(f\"X_all shape: {X_all.shape}\")\n",
    "print(f\"y_all shape: {y_all.shape}\")\n",
    "print('-'*80)"
   ]
  },
  {
   "cell_type": "code",
   "execution_count": 37,
   "id": "2dfddb7d",
   "metadata": {
    "colab": {
     "base_uri": "https://localhost:8080/"
    },
    "executionInfo": {
     "elapsed": 4,
     "status": "ok",
     "timestamp": 1630137878038,
     "user": {
      "displayName": "Julien Seguy",
      "photoUrl": "",
      "userId": "07351507381529939348"
     },
     "user_tz": -480
    },
    "hidden": true,
    "id": "2dfddb7d",
    "outputId": "006a7877-3468-46f4-f943-fb6202136583"
   },
   "outputs": [
    {
     "name": "stdout",
     "output_type": "stream",
     "text": [
      "--------------------------------------------------------------------------------\n",
      "X_ALL_train shape: (67036,)\n",
      "y_ALL_train shape: (67036,)\n",
      "--------------------------------------------------------------------------------\n",
      "X_ALL_test shape: (16760,)\n",
      "y_ALL_test shape: (16760,)\n",
      "--------------------------------------------------------------------------------\n",
      "--------------------------------------------------------------------------------\n",
      "Fake (1) proportion in train (%): 46.453\n",
      "Fake (1) proportion in test (%): 46.718\n",
      "--------------------------------------------------------------------------------\n"
     ]
    }
   ],
   "source": [
    "X_ALL_train, X_ALL_test, y_ALL_train, y_ALL_test = train_test_split(X_all, y_all, test_size=0.2, random_state=42)\n",
    "\n",
    "print('-'*80)\n",
    "print(f\"X_ALL_train shape: {X_ALL_train.shape}\")\n",
    "print(f\"y_ALL_train shape: {y_ALL_train.shape}\")\n",
    "print('-'*80)\n",
    "print(f\"X_ALL_test shape: {X_ALL_test.shape}\")\n",
    "print(f\"y_ALL_test shape: {y_ALL_test.shape}\")\n",
    "print('-'*80)\n",
    "print('-'*80)\n",
    "print(f\"Fake (1) proportion in train (%): {y_ALL_train.sum()/len(y_ALL_train)*100:.3f}\")\n",
    "print(f\"Fake (1) proportion in test (%): {y_ALL_test.sum()/len(y_ALL_test)*100:.3f}\")\n",
    "print('-'*80)"
   ]
  },
  {
   "cell_type": "code",
   "execution_count": 38,
   "id": "-73N7ltlxzIk",
   "metadata": {
    "colab": {
     "base_uri": "https://localhost:8080/"
    },
    "executionInfo": {
     "elapsed": 2044,
     "status": "ok",
     "timestamp": 1630137880079,
     "user": {
      "displayName": "Julien Seguy",
      "photoUrl": "",
      "userId": "07351507381529939348"
     },
     "user_tz": -480
    },
    "hidden": true,
    "id": "-73N7ltlxzIk",
    "outputId": "8e4cf8ae-913b-48fd-b9f7-fc09bf57145f"
   },
   "outputs": [
    {
     "name": "stdout",
     "output_type": "stream",
     "text": [
      "--------------------------------------------------------------------------------\n",
      "X_ALL_train_pad shape: (67036, 40)\n",
      "X_ALL_pad shape: (16760, 40)\n",
      "--------------------------------------------------------------------------------\n",
      "--------------------------------------------------------------------------------\n",
      "vocab_size: 25526\n",
      "--------------------------------------------------------------------------------\n"
     ]
    }
   ],
   "source": [
    "tokenizer_ALL = Tokenizer(num_words = hparams[\"max_num_words\"])\n",
    "tokenizer_ALL.fit_on_texts(X_ALL_train)\n",
    "\n",
    "X_ALL_train_pad = prep_text(X_ALL_train, tokenizer_ALL, **hparams)\n",
    "X_ALL_test_pad = prep_text(X_ALL_test, tokenizer_ALL, **hparams)\n",
    "\n",
    "print('-'*80)\n",
    "print(f\"X_ALL_train_pad shape: {X_ALL_train_pad.shape}\")\n",
    "print(f\"X_ALL_pad shape: {X_ALL_test_pad.shape}\")\n",
    "print('-'*80)\n",
    "\n",
    "vocab_size = len(tokenizer_ALL.word_index)\n",
    "print('-'*80)\n",
    "print(f\"vocab_size: {vocab_size}\")\n",
    "print('-'*80)"
   ]
  },
  {
   "cell_type": "markdown",
   "id": "PkgfhgWOyiRN",
   "metadata": {
    "id": "PkgfhgWOyiRN"
   },
   "source": [
    "## Model"
   ]
  },
  {
   "cell_type": "code",
   "execution_count": 39,
   "id": "NAjyk8PRyrQ0",
   "metadata": {
    "colab": {
     "base_uri": "https://localhost:8080/"
    },
    "executionInfo": {
     "elapsed": 177675,
     "status": "ok",
     "timestamp": 1630138111397,
     "user": {
      "displayName": "Julien Seguy",
      "photoUrl": "",
      "userId": "07351507381529939348"
     },
     "user_tz": -480
    },
    "id": "NAjyk8PRyrQ0",
    "outputId": "f1c1a284-0dc1-453c-e548-423d6f20d0be"
   },
   "outputs": [
    {
     "name": "stdout",
     "output_type": "stream",
     "text": [
      "--------------------------------------------------------------------------------\n",
      "embedding_matrix shape: (12714, 100)\n",
      "--------------------------------------------------------------------------------\n"
     ]
    }
   ],
   "source": [
    "import io\n",
    "import urllib\n",
    "import zipfile\n",
    "\n",
    "def get_embedding(**hparams):\n",
    "    \"\"\"\n",
    "    Pre-trained GloVe word vector embeddings\n",
    "    \"\"\"\n",
    "    zip_file_url = \"http://nlp.stanford.edu/data/glove.6B.zip\"\n",
    "    zip_file = urllib.request.urlopen(zip_file_url)\n",
    "    archive = zipfile.ZipFile(io.BytesIO(zip_file.read()))\n",
    "\n",
    "    embeddings_index = {}\n",
    "    glove_file = \"glove.6B.100d.txt\"\n",
    "\n",
    "    with archive.open(glove_file) as f:\n",
    "        for line in f:\n",
    "            values = line.split()\n",
    "            word = values[0].decode(\"utf-8\") \n",
    "            coefs = np.asarray(values[1:], dtype=\"float32\")\n",
    "            embeddings_index[word] = coefs\n",
    "\n",
    "    embedding_matrix = np.zeros((len(tokenizer.word_index) + 1, hparams[\"embedding_dim\"]))\n",
    "    num_words_in_embedding = 0\n",
    "    for word, i in tokenizer.word_index.items():\n",
    "        embedding_vector = embeddings_index.get(word)\n",
    "        if embedding_vector is not None:\n",
    "            num_words_in_embedding += 1\n",
    "            embedding_matrix[i] = embedding_vector\n",
    "\n",
    "    return embedding_matrix\n",
    "\n",
    "embedding_matrix = get_embedding(**hparams)\n",
    "print('-'*80)\n",
    "print(f\"embedding_matrix shape: {embedding_matrix.shape}\")\n",
    "print('-'*80)"
   ]
  },
  {
   "cell_type": "code",
   "execution_count": 40,
   "id": "EFk53yYXyrTA",
   "metadata": {
    "executionInfo": {
     "elapsed": 5956,
     "status": "ok",
     "timestamp": 1630138117345,
     "user": {
      "displayName": "Julien Seguy",
      "photoUrl": "",
      "userId": "07351507381529939348"
     },
     "user_tz": -480
    },
    "id": "EFk53yYXyrTA"
   },
   "outputs": [],
   "source": [
    "METRICS = [\n",
    "    #   tf.keras.metrics.TruePositives(name='tp'),\n",
    "    #   tf.keras.metrics.FalsePositives(name='fp'),\n",
    "    #   tf.keras.metrics.TrueNegatives(name='tn'),\n",
    "    #   tf.keras.metrics.FalseNegatives(name='fn'), \n",
    "      tf.keras.metrics.BinaryAccuracy(name='accuracy'),\n",
    "      tf.keras.metrics.Precision(name='precision'),\n",
    "      tf.keras.metrics.Recall(name='recall'),\n",
    "]\n",
    "\n",
    "def init_model(metrics=METRICS, **hparams):\n",
    "    model = tf.keras.models.Sequential()\n",
    "\n",
    "    # Embedding layer.\n",
    "    embedding_layer = tf.keras.layers.Embedding(\n",
    "        embedding_matrix.shape[0],\n",
    "        embedding_matrix.shape[1],\n",
    "        weights = [embedding_matrix],\n",
    "        input_length = hparams[\"max_sequence_length\"],\n",
    "        trainable = hparams['embedding_trainable'],\n",
    "        mask_zero = True)\n",
    "    model.add(embedding_layer)\n",
    "\n",
    "    # Convolution layers.\n",
    "    for filter_size, kernel_size, pool_size in zip(\n",
    "        hparams['cnn_filter_sizes'], hparams['cnn_kernel_sizes'],\n",
    "        hparams['cnn_pooling_sizes']):\n",
    "\n",
    "        conv_layer = tf.keras.layers.Conv1D(\n",
    "            filter_size, kernel_size, activation='relu', padding='same')\n",
    "        model.add(conv_layer)\n",
    "\n",
    "        pooled_layer = tf.keras.layers.MaxPooling1D(pool_size, padding='same')\n",
    "        model.add(pooled_layer)\n",
    "\n",
    "    # Add a flatten layer, a fully-connected layer and an output layer.\n",
    "    model.add(tf.keras.layers.Flatten())\n",
    "    model.add(tf.keras.layers.Dense(128, activation='relu'))\n",
    "    model.add(tf.keras.layers.Dropout(0.5))\n",
    "    model.add(tf.keras.layers.Dense(1, activation=\"sigmoid\"))\n",
    "\n",
    "    # Compile the model\n",
    "    optimizer = tf.keras.optimizers.Adam(learning_rate=hparams[\"learning_rate\"])\n",
    "    model.compile(loss='binary_crossentropy',\n",
    "                  optimizer=optimizer,\n",
    "                  metrics=METRICS)\n",
    "\n",
    "    return model"
   ]
  },
  {
   "cell_type": "code",
   "execution_count": 41,
   "id": "9CxEOGC7yrVb",
   "metadata": {
    "colab": {
     "base_uri": "https://localhost:8080/"
    },
    "executionInfo": {
     "elapsed": 19,
     "status": "ok",
     "timestamp": 1630138117346,
     "user": {
      "displayName": "Julien Seguy",
      "photoUrl": "",
      "userId": "07351507381529939348"
     },
     "user_tz": -480
    },
    "id": "9CxEOGC7yrVb",
    "outputId": "f26163fb-19cd-40c3-c85f-3960a224f5aa"
   },
   "outputs": [
    {
     "name": "stdout",
     "output_type": "stream",
     "text": [
      "Model: \"sequential\"\n",
      "_________________________________________________________________\n",
      "Layer (type)                 Output Shape              Param #   \n",
      "=================================================================\n",
      "embedding (Embedding)        (None, 40, 100)           1271400   \n",
      "_________________________________________________________________\n",
      "conv1d (Conv1D)              (None, 40, 128)           64128     \n",
      "_________________________________________________________________\n",
      "max_pooling1d (MaxPooling1D) (None, 8, 128)            0         \n",
      "_________________________________________________________________\n",
      "conv1d_1 (Conv1D)            (None, 8, 128)            82048     \n",
      "_________________________________________________________________\n",
      "max_pooling1d_1 (MaxPooling1 (None, 2, 128)            0         \n",
      "_________________________________________________________________\n",
      "conv1d_2 (Conv1D)            (None, 2, 128)            82048     \n",
      "_________________________________________________________________\n",
      "max_pooling1d_2 (MaxPooling1 (None, 1, 128)            0         \n",
      "_________________________________________________________________\n",
      "flatten (Flatten)            (None, 128)               0         \n",
      "_________________________________________________________________\n",
      "dense (Dense)                (None, 128)               16512     \n",
      "_________________________________________________________________\n",
      "dropout (Dropout)            (None, 128)               0         \n",
      "_________________________________________________________________\n",
      "dense_1 (Dense)              (None, 1)                 129       \n",
      "=================================================================\n",
      "Total params: 1,516,265\n",
      "Trainable params: 244,865\n",
      "Non-trainable params: 1,271,400\n",
      "_________________________________________________________________\n"
     ]
    }
   ],
   "source": [
    "init_model(**hparams).summary()"
   ]
  },
  {
   "cell_type": "markdown",
   "id": "gHrHg3bzmUN9",
   "metadata": {
    "id": "gHrHg3bzmUN9"
   },
   "source": [
    "## `politifact_scrap.csv`"
   ]
  },
  {
   "cell_type": "markdown",
   "id": "daea82c1",
   "metadata": {
    "heading_collapsed": true,
    "id": "daea82c1"
   },
   "source": [
    "### Training"
   ]
  },
  {
   "cell_type": "code",
   "execution_count": 46,
   "id": "AqfGJOoPGwcj",
   "metadata": {
    "colab": {
     "base_uri": "https://localhost:8080/"
    },
    "executionInfo": {
     "elapsed": 14560,
     "status": "ok",
     "timestamp": 1630138519799,
     "user": {
      "displayName": "Julien Seguy",
      "photoUrl": "",
      "userId": "07351507381529939348"
     },
     "user_tz": -480
    },
    "hidden": true,
    "id": "AqfGJOoPGwcj",
    "outputId": "4cc3a1bf-6937-4ba0-f9cc-a4678f42fe68"
   },
   "outputs": [
    {
     "name": "stdout",
     "output_type": "stream",
     "text": [
      "Epoch 1/30\n",
      "100/100 [==============================] - 3s 20ms/step - loss: 0.6553 - accuracy: 0.6107 - precision: 0.6218 - recall: 0.7225 - val_loss: 0.6240 - val_accuracy: 0.6419 - val_precision: 0.7214 - val_recall: 0.5606\n",
      "Epoch 2/30\n",
      "100/100 [==============================] - 1s 14ms/step - loss: 0.6069 - accuracy: 0.6598 - precision: 0.7042 - recall: 0.6424 - val_loss: 0.6259 - val_accuracy: 0.6488 - val_precision: 0.6774 - val_recall: 0.6813\n",
      "Epoch 3/30\n",
      "100/100 [==============================] - 1s 14ms/step - loss: 0.5698 - accuracy: 0.6903 - precision: 0.7505 - recall: 0.6423 - val_loss: 0.6521 - val_accuracy: 0.6217 - val_precision: 0.7235 - val_recall: 0.4971\n",
      "Epoch 4/30\n",
      "100/100 [==============================] - 1s 14ms/step - loss: 0.5120 - accuracy: 0.7302 - precision: 0.8007 - recall: 0.6690 - val_loss: 0.7946 - val_accuracy: 0.6321 - val_precision: 0.6558 - val_recall: 0.6865\n",
      "Epoch 5/30\n",
      "100/100 [==============================] - 1s 14ms/step - loss: 0.4555 - accuracy: 0.7640 - precision: 0.8166 - recall: 0.7285 - val_loss: 0.8215 - val_accuracy: 0.6179 - val_precision: 0.6336 - val_recall: 0.7119\n",
      "Epoch 6/30\n",
      "100/100 [==============================] - 1s 14ms/step - loss: 0.3964 - accuracy: 0.8096 - precision: 0.8446 - recall: 0.7952 - val_loss: 0.8831 - val_accuracy: 0.6258 - val_precision: 0.6973 - val_recall: 0.5560\n",
      "Epoch 7/30\n",
      "100/100 [==============================] - 1s 14ms/step - loss: 0.3216 - accuracy: 0.8443 - precision: 0.8771 - recall: 0.8289 - val_loss: 1.0451 - val_accuracy: 0.6135 - val_precision: 0.6605 - val_recall: 0.6010\n",
      "Epoch 8/30\n",
      "100/100 [==============================] - 1s 14ms/step - loss: 0.2872 - accuracy: 0.8700 - precision: 0.8922 - recall: 0.8647 - val_loss: 1.0537 - val_accuracy: 0.5977 - val_precision: 0.6622 - val_recall: 0.5375\n",
      "Epoch 9/30\n",
      "100/100 [==============================] - 1s 14ms/step - loss: 0.2339 - accuracy: 0.8953 - precision: 0.9179 - recall: 0.8860 - val_loss: 1.4089 - val_accuracy: 0.6110 - val_precision: 0.6446 - val_recall: 0.6409\n"
     ]
    }
   ],
   "source": [
    "es = tf.keras.callbacks.EarlyStopping(monitor='val_loss', mode='auto', patience=8, restore_best_weights=True)\n",
    "# es = tf.keras.callbacks.EarlyStopping(monitor='val_recall', mode='max', patience=8, restore_best_weights=True)\n",
    "\n",
    "P_model = init_model(**hparams)\n",
    "\n",
    "history = P_model.fit(X_P_train_pad, \n",
    "                  y_P_train,\n",
    "                  validation_split=0.2,\n",
    "                  batch_size=hparams[\"batch_size\"],\n",
    "                  epochs=30, \n",
    "                  callbacks=[es],\n",
    "                  verbose=1)"
   ]
  },
  {
   "cell_type": "code",
   "execution_count": 50,
   "id": "jdOpqxjp1AQC",
   "metadata": {
    "colab": {
     "base_uri": "https://localhost:8080/",
     "height": 308
    },
    "executionInfo": {
     "elapsed": 1087,
     "status": "ok",
     "timestamp": 1630138552595,
     "user": {
      "displayName": "Julien Seguy",
      "photoUrl": "",
      "userId": "07351507381529939348"
     },
     "user_tz": -480
    },
    "hidden": true,
    "id": "jdOpqxjp1AQC",
    "outputId": "7be173c4-1a08-464b-bf65-9170cd0a7890"
   },
   "outputs": [
    {
     "data": {
      "image/png": "[encoded data removed]",
      "text/plain": [
       "<Figure size 1296x288 with 3 Axes>"
      ]
     },
     "metadata": {
      "needs_background": "light"
     },
     "output_type": "display_data"
    }
   ],
   "source": [
    "plot_loss(history, title='P_model')"
   ]
  },
  {
   "cell_type": "code",
   "execution_count": 54,
   "id": "LIKtcaej1Hlu",
   "metadata": {
    "colab": {
     "base_uri": "https://localhost:8080/",
     "height": 367
    },
    "executionInfo": {
     "elapsed": 1026,
     "status": "ok",
     "timestamp": 1630138622705,
     "user": {
      "displayName": "Julien Seguy",
      "photoUrl": "",
      "userId": "07351507381529939348"
     },
     "user_tz": -480
    },
    "hidden": true,
    "id": "LIKtcaej1Hlu",
    "outputId": "1b06a847-09ff-4c8f-fae9-6cbdcd34f565"
   },
   "outputs": [
    {
     "name": "stdout",
     "output_type": "stream",
     "text": [
      "--------------------------------------------------------------------------------\n",
      "acc: 64.04%\n",
      "recall: 55.74%\n",
      "precision: 71.21%\n",
      "f1: 62.53%\n",
      "--------------------------------------------------------------------------------\n"
     ]
    },
    {
     "data": {
      "image/png": "[encoded data removed]",
      "text/plain": [
       "<Figure size 432x288 with 2 Axes>"
      ]
     },
     "metadata": {
      "needs_background": "light"
     },
     "output_type": "display_data"
    }
   ],
   "source": [
    "get_metrics(y_P_test, X_P_test_pad, P_model)"
   ]
  },
  {
   "cell_type": "markdown",
   "id": "9305fa89",
   "metadata": {
    "heading_collapsed": true,
    "id": "9305fa89"
   },
   "source": [
    "### Saving the model"
   ]
  },
  {
   "cell_type": "code",
   "execution_count": 55,
   "id": "3ae20e89",
   "metadata": {
    "colab": {
     "base_uri": "https://localhost:8080/"
    },
    "executionInfo": {
     "elapsed": 1869,
     "status": "ok",
     "timestamp": 1630139456403,
     "user": {
      "displayName": "Julien Seguy",
      "photoUrl": "",
      "userId": "07351507381529939348"
     },
     "user_tz": -480
    },
    "hidden": true,
    "id": "3ae20e89",
    "outputId": "a79a42f6-6360-4c56-faf8-99ec4a2799b3"
   },
   "outputs": [
    {
     "name": "stdout",
     "output_type": "stream",
     "text": [
      "INFO:tensorflow:Assets written to: P_model/assets\n"
     ]
    }
   ],
   "source": [
    "model_name = 'P_model'\n",
    "\n",
    "P_model.save(model_name)"
   ]
  },
  {
   "cell_type": "markdown",
   "id": "9a832897",
   "metadata": {
    "heading_collapsed": true,
    "id": "9a832897"
   },
   "source": [
    "### Uploading the model"
   ]
  },
  {
   "cell_type": "code",
   "execution_count": 57,
   "id": "9c17fb7e",
   "metadata": {
    "executionInfo": {
     "elapsed": 1100,
     "status": "ok",
     "timestamp": 1630139501162,
     "user": {
      "displayName": "Julien Seguy",
      "photoUrl": "",
      "userId": "07351507381529939348"
     },
     "user_tz": -480
    },
    "hidden": true,
    "id": "9c17fb7e"
   },
   "outputs": [],
   "source": [
    "reconstructed_P_model = tf.keras.models.load_model(\"P_model\")"
   ]
  },
  {
   "cell_type": "code",
   "execution_count": 58,
   "id": "2cf7a155",
   "metadata": {
    "colab": {
     "base_uri": "https://localhost:8080/",
     "height": 367
    },
    "executionInfo": {
     "elapsed": 1557,
     "status": "ok",
     "timestamp": 1630139506870,
     "user": {
      "displayName": "Julien Seguy",
      "photoUrl": "",
      "userId": "07351507381529939348"
     },
     "user_tz": -480
    },
    "hidden": true,
    "id": "2cf7a155",
    "outputId": "7731a2f2-fbae-4222-d3d8-7a29f25e0c06"
   },
   "outputs": [
    {
     "name": "stdout",
     "output_type": "stream",
     "text": [
      "--------------------------------------------------------------------------------\n",
      "acc: 64.04%\n",
      "recall: 55.74%\n",
      "precision: 71.21%\n",
      "f1: 62.53%\n",
      "--------------------------------------------------------------------------------\n"
     ]
    },
    {
     "data": {
      "image/png": "[encoded data removed]",
      "text/plain": [
       "<Figure size 432x288 with 2 Axes>"
      ]
     },
     "metadata": {
      "needs_background": "light"
     },
     "output_type": "display_data"
    }
   ],
   "source": [
    "get_metrics(y_P_test, X_P_test_pad, reconstructed_P_model)"
   ]
  },
  {
   "cell_type": "markdown",
   "id": "8de5da8e",
   "metadata": {
    "heading_collapsed": true,
    "id": "8de5da8e"
   },
   "source": [
    "### `P_model.joblib` evaluation on `FakeNewsNET`"
   ]
  },
  {
   "cell_type": "code",
   "execution_count": 81,
   "id": "uBpnA9uigi9o",
   "metadata": {
    "colab": {
     "base_uri": "https://localhost:8080/",
     "height": 367
    },
    "executionInfo": {
     "elapsed": 2446,
     "status": "ok",
     "timestamp": 1630140555622,
     "user": {
      "displayName": "Julien Seguy",
      "photoUrl": "",
      "userId": "07351507381529939348"
     },
     "user_tz": -480
    },
    "hidden": true,
    "id": "uBpnA9uigi9o",
    "outputId": "a2b19148-db7e-44ec-bfca-8c5f630f1759"
   },
   "outputs": [
    {
     "name": "stdout",
     "output_type": "stream",
     "text": [
      "--------------------------------------------------------------------------------\n",
      "acc: 31.07%\n",
      "recall: 93.45%\n",
      "precision: 25.46%\n",
      "f1: 40.02%\n",
      "--------------------------------------------------------------------------------\n"
     ]
    },
    {
     "data": {
      "image/png": "[encoded data removed]",
      "text/plain": [
       "<Figure size 432x288 with 2 Axes>"
      ]
     },
     "metadata": {
      "needs_background": "light"
     },
     "output_type": "display_data"
    }
   ],
   "source": [
    "X_FNN_pad = prep_text(X_FNN, tokenizer_P, **hparams)\n",
    "\n",
    "get_metrics(y_FNN, X_FNN_pad, reconstructed_P_model)"
   ]
  },
  {
   "cell_type": "markdown",
   "id": "ecf51dc9",
   "metadata": {
    "heading_collapsed": true,
    "id": "ecf51dc9"
   },
   "source": [
    "### `P_model.joblib` evaluation on `Bisaillon`"
   ]
  },
  {
   "cell_type": "code",
   "execution_count": 82,
   "id": "d092a113",
   "metadata": {
    "colab": {
     "base_uri": "https://localhost:8080/",
     "height": 367
    },
    "executionInfo": {
     "elapsed": 3800,
     "status": "ok",
     "timestamp": 1630140573874,
     "user": {
      "displayName": "Julien Seguy",
      "photoUrl": "",
      "userId": "07351507381529939348"
     },
     "user_tz": -480
    },
    "hidden": true,
    "id": "d092a113",
    "outputId": "7d19065a-bef7-425d-a706-da2fc7dab3b6"
   },
   "outputs": [
    {
     "name": "stdout",
     "output_type": "stream",
     "text": [
      "--------------------------------------------------------------------------------\n",
      "acc: 57.39%\n",
      "recall: 92.63%\n",
      "precision: 55.68%\n",
      "f1: 69.55%\n",
      "--------------------------------------------------------------------------------\n"
     ]
    },
    {
     "data": {
      "image/png": "[encoded data removed]",
      "text/plain": [
       "<Figure size 432x288 with 2 Axes>"
      ]
     },
     "metadata": {
      "needs_background": "light"
     },
     "output_type": "display_data"
    }
   ],
   "source": [
    "X_BIS_pad = prep_text(X_BIS, tokenizer_P, **hparams)\n",
    "\n",
    "get_metrics(y_BIS, X_BIS_pad, reconstructed_P_model)"
   ]
  },
  {
   "cell_type": "markdown",
   "id": "23f7b9fd",
   "metadata": {
    "heading_collapsed": true,
    "id": "23f7b9fd"
   },
   "source": [
    "## `FakeNewsNET`"
   ]
  },
  {
   "cell_type": "markdown",
   "id": "3c9ed026",
   "metadata": {
    "heading_collapsed": true,
    "hidden": true,
    "id": "3c9ed026"
   },
   "source": [
    "### Training"
   ]
  },
  {
   "cell_type": "code",
   "execution_count": 71,
   "id": "11fb92f4",
   "metadata": {
    "colab": {
     "base_uri": "https://localhost:8080/"
    },
    "executionInfo": {
     "elapsed": 26645,
     "status": "ok",
     "timestamp": 1630140266031,
     "user": {
      "displayName": "Julien Seguy",
      "photoUrl": "",
      "userId": "07351507381529939348"
     },
     "user_tz": -480
    },
    "hidden": true,
    "id": "11fb92f4",
    "outputId": "3cc835dc-fdfd-4573-bcac-7472660f8e0c"
   },
   "outputs": [
    {
     "name": "stdout",
     "output_type": "stream",
     "text": [
      "Epoch 1/30\n",
      "WARNING:tensorflow:Model was constructed with shape (None, 40) for input KerasTensor(type_spec=TensorSpec(shape=(None, 40), dtype=tf.float32, name='embedding_4_input'), name='embedding_4_input', description=\"created by layer 'embedding_4_input'\"), but it was called on an input with incompatible shape (None, 250).\n",
      "WARNING:tensorflow:Model was constructed with shape (None, 40) for input KerasTensor(type_spec=TensorSpec(shape=(None, 40), dtype=tf.float32, name='embedding_4_input'), name='embedding_4_input', description=\"created by layer 'embedding_4_input'\"), but it was called on an input with incompatible shape (None, 250).\n",
      "97/97 [==============================] - ETA: 0s - loss: 0.5351 - accuracy: 0.7654 - precision: 0.8478 - recall: 0.0697WARNING:tensorflow:Model was constructed with shape (None, 40) for input KerasTensor(type_spec=TensorSpec(shape=(None, 40), dtype=tf.float32, name='embedding_4_input'), name='embedding_4_input', description=\"created by layer 'embedding_4_input'\"), but it was called on an input with incompatible shape (None, 250).\n",
      "97/97 [==============================] - 4s 31ms/step - loss: 0.5351 - accuracy: 0.7654 - precision: 0.8478 - recall: 0.0697 - val_loss: 0.4851 - val_accuracy: 0.7485 - val_precision: 0.0000e+00 - val_recall: 0.0000e+00\n",
      "Epoch 2/30\n",
      "97/97 [==============================] - 2s 25ms/step - loss: 0.4629 - accuracy: 0.7892 - precision: 0.6745 - recall: 0.2899 - val_loss: 0.4670 - val_accuracy: 0.7890 - val_precision: 0.6233 - val_recall: 0.4072\n",
      "Epoch 3/30\n",
      "97/97 [==============================] - 2s 25ms/step - loss: 0.3985 - accuracy: 0.8232 - precision: 0.7047 - recall: 0.4944 - val_loss: 0.4677 - val_accuracy: 0.7841 - val_precision: 0.5979 - val_recall: 0.4330\n",
      "Epoch 4/30\n",
      "97/97 [==============================] - 2s 25ms/step - loss: 0.3245 - accuracy: 0.8583 - precision: 0.7488 - recall: 0.6448 - val_loss: 0.5007 - val_accuracy: 0.7780 - val_precision: 0.5938 - val_recall: 0.3711\n",
      "Epoch 5/30\n",
      "97/97 [==============================] - 2s 26ms/step - loss: 0.2518 - accuracy: 0.8925 - precision: 0.8072 - recall: 0.7441 - val_loss: 0.6476 - val_accuracy: 0.7485 - val_precision: 0.5000 - val_recall: 0.5438\n",
      "Epoch 6/30\n",
      "97/97 [==============================] - 2s 25ms/step - loss: 0.2094 - accuracy: 0.9134 - precision: 0.8415 - recall: 0.8016 - val_loss: 0.6129 - val_accuracy: 0.7715 - val_precision: 0.5492 - val_recall: 0.5103\n",
      "Epoch 7/30\n",
      "97/97 [==============================] - 2s 25ms/step - loss: 0.1755 - accuracy: 0.9342 - precision: 0.8834 - recall: 0.8464 - val_loss: 0.7769 - val_accuracy: 0.7475 - val_precision: 0.4981 - val_recall: 0.5026\n",
      "Epoch 8/30\n",
      "97/97 [==============================] - 2s 25ms/step - loss: 0.1321 - accuracy: 0.9476 - precision: 0.9094 - recall: 0.8761 - val_loss: 0.8630 - val_accuracy: 0.7611 - val_precision: 0.5268 - val_recall: 0.4936\n",
      "Epoch 9/30\n",
      "97/97 [==============================] - 2s 25ms/step - loss: 0.1171 - accuracy: 0.9561 - precision: 0.9211 - recall: 0.9000 - val_loss: 1.0292 - val_accuracy: 0.7786 - val_precision: 0.5983 - val_recall: 0.3647\n",
      "Epoch 10/30\n",
      "97/97 [==============================] - 2s 26ms/step - loss: 0.0962 - accuracy: 0.9644 - precision: 0.9474 - recall: 0.9069 - val_loss: 0.9559 - val_accuracy: 0.7611 - val_precision: 0.5301 - val_recall: 0.4420\n"
     ]
    }
   ],
   "source": [
    "es = tf.keras.callbacks.EarlyStopping(monitor='val_loss', mode='auto', patience=8, restore_best_weights=True)\n",
    "# es = tf.keras.callbacks.EarlyStopping(monitor='val_recall', mode='max', patience=8, restore_best_weights=True)\n",
    "\n",
    "F_model = init_model(**hparams)\n",
    "\n",
    "history = F_model.fit(X_FNN_train_pad, \n",
    "                  y_FNN_train,\n",
    "                  validation_split=0.2,\n",
    "                  batch_size=hparams[\"batch_size\"],\n",
    "                  epochs=30, \n",
    "                  callbacks=[es],\n",
    "                  verbose=1)"
   ]
  },
  {
   "cell_type": "code",
   "execution_count": 73,
   "id": "Jy3_9zAq7oo5",
   "metadata": {
    "colab": {
     "base_uri": "https://localhost:8080/",
     "height": 308
    },
    "executionInfo": {
     "elapsed": 970,
     "status": "ok",
     "timestamp": 1630140282087,
     "user": {
      "displayName": "Julien Seguy",
      "photoUrl": "",
      "userId": "07351507381529939348"
     },
     "user_tz": -480
    },
    "hidden": true,
    "id": "Jy3_9zAq7oo5",
    "outputId": "44fbc387-e476-4c48-a280-51dd4b05b6ff"
   },
   "outputs": [
    {
     "data": {
      "image/png": "[encoded data removed]",
      "text/plain": [
       "<Figure size 1296x288 with 3 Axes>"
      ]
     },
     "metadata": {
      "needs_background": "light"
     },
     "output_type": "display_data"
    }
   ],
   "source": [
    "plot_loss(history, title='F_model')"
   ]
  },
  {
   "cell_type": "code",
   "execution_count": 74,
   "id": "-03A4wtY7orY",
   "metadata": {
    "colab": {
     "base_uri": "https://localhost:8080/",
     "height": 404
    },
    "executionInfo": {
     "elapsed": 995,
     "status": "ok",
     "timestamp": 1630140301232,
     "user": {
      "displayName": "Julien Seguy",
      "photoUrl": "",
      "userId": "07351507381529939348"
     },
     "user_tz": -480
    },
    "hidden": true,
    "id": "-03A4wtY7orY",
    "outputId": "7778594b-0deb-4766-9902-07d5dc3d5277"
   },
   "outputs": [
    {
     "name": "stdout",
     "output_type": "stream",
     "text": [
      "WARNING:tensorflow:Model was constructed with shape (None, 40) for input KerasTensor(type_spec=TensorSpec(shape=(None, 40), dtype=tf.float32, name='embedding_4_input'), name='embedding_4_input', description=\"created by layer 'embedding_4_input'\"), but it was called on an input with incompatible shape (None, 250).\n",
      "--------------------------------------------------------------------------------\n",
      "acc: 78.43%\n",
      "recall: 38.28%\n",
      "precision: 56.22%\n",
      "f1: 45.55%\n",
      "--------------------------------------------------------------------------------\n"
     ]
    },
    {
     "data": {
      "image/png": "[encoded data removed]",
      "text/plain": [
       "<Figure size 432x288 with 2 Axes>"
      ]
     },
     "metadata": {
      "needs_background": "light"
     },
     "output_type": "display_data"
    }
   ],
   "source": [
    "get_metrics(y_FNN_test, X_FNN_test_pad, F_model)"
   ]
  },
  {
   "cell_type": "markdown",
   "id": "l6KrFEZm704h",
   "metadata": {
    "hidden": true,
    "id": "l6KrFEZm704h"
   },
   "source": [
    "### Saving the model"
   ]
  },
  {
   "cell_type": "code",
   "execution_count": 76,
   "id": "xYmOJFCC76bz",
   "metadata": {
    "colab": {
     "base_uri": "https://localhost:8080/"
    },
    "executionInfo": {
     "elapsed": 1983,
     "status": "ok",
     "timestamp": 1630140369328,
     "user": {
      "displayName": "Julien Seguy",
      "photoUrl": "",
      "userId": "07351507381529939348"
     },
     "user_tz": -480
    },
    "hidden": true,
    "id": "xYmOJFCC76bz",
    "outputId": "bf626e94-d776-4721-fe9f-e96dd3ae85f7"
   },
   "outputs": [
    {
     "name": "stdout",
     "output_type": "stream",
     "text": [
      "INFO:tensorflow:Assets written to: F_model/assets\n"
     ]
    }
   ],
   "source": [
    "model_name = 'F_model'\n",
    "\n",
    "F_model.save(model_name)"
   ]
  },
  {
   "cell_type": "markdown",
   "id": "_82qYdNK708C",
   "metadata": {
    "hidden": true,
    "id": "_82qYdNK708C"
   },
   "source": [
    "### Uploading the model"
   ]
  },
  {
   "cell_type": "code",
   "execution_count": 78,
   "id": "LIZnnBIY7oxg",
   "metadata": {
    "executionInfo": {
     "elapsed": 1092,
     "status": "ok",
     "timestamp": 1630140400051,
     "user": {
      "displayName": "Julien Seguy",
      "photoUrl": "",
      "userId": "07351507381529939348"
     },
     "user_tz": -480
    },
    "hidden": true,
    "id": "LIZnnBIY7oxg"
   },
   "outputs": [],
   "source": [
    "reconstructed_F_model = tf.keras.models.load_model(\"F_model\")"
   ]
  },
  {
   "cell_type": "code",
   "execution_count": 79,
   "id": "pZoGnMvo7ozs",
   "metadata": {
    "colab": {
     "base_uri": "https://localhost:8080/",
     "height": 404
    },
    "executionInfo": {
     "elapsed": 1502,
     "status": "ok",
     "timestamp": 1630140422262,
     "user": {
      "displayName": "Julien Seguy",
      "photoUrl": "",
      "userId": "07351507381529939348"
     },
     "user_tz": -480
    },
    "hidden": true,
    "id": "pZoGnMvo7ozs",
    "outputId": "48fd57d8-2715-4a01-ba45-7f6191ec8919"
   },
   "outputs": [
    {
     "name": "stdout",
     "output_type": "stream",
     "text": [
      "WARNING:tensorflow:Model was constructed with shape (None, 40) for input KerasTensor(type_spec=TensorSpec(shape=(None, 40), dtype=tf.float32, name='embedding_4_input'), name='embedding_4_input', description=\"created by layer 'embedding_4_input'\"), but it was called on an input with incompatible shape (None, 250).\n",
      "--------------------------------------------------------------------------------\n",
      "acc: 78.43%\n",
      "recall: 38.28%\n",
      "precision: 56.22%\n",
      "f1: 45.55%\n",
      "--------------------------------------------------------------------------------\n"
     ]
    },
    {
     "data": {
      "image/png": "[encoded data removed]",
      "text/plain": [
       "<Figure size 432x288 with 2 Axes>"
      ]
     },
     "metadata": {
      "needs_background": "light"
     },
     "output_type": "display_data"
    }
   ],
   "source": [
    "get_metrics(y_FNN_test, X_FNN_test_pad, reconstructed_F_model)"
   ]
  },
  {
   "cell_type": "markdown",
   "id": "f586a971",
   "metadata": {
    "heading_collapsed": true,
    "hidden": true,
    "id": "f586a971"
   },
   "source": [
    "### `F_model.joblib` evaluation on `Bisaillon`"
   ]
  },
  {
   "cell_type": "code",
   "execution_count": 80,
   "id": "21c4c514",
   "metadata": {
    "colab": {
     "base_uri": "https://localhost:8080/",
     "height": 367
    },
    "executionInfo": {
     "elapsed": 4025,
     "status": "ok",
     "timestamp": 1630140538900,
     "user": {
      "displayName": "Julien Seguy",
      "photoUrl": "",
      "userId": "07351507381529939348"
     },
     "user_tz": -480
    },
    "hidden": true,
    "id": "21c4c514",
    "outputId": "d5037a26-2aad-492f-aefc-9bd5b093f77b"
   },
   "outputs": [
    {
     "name": "stdout",
     "output_type": "stream",
     "text": [
      "--------------------------------------------------------------------------------\n",
      "acc: 49.50%\n",
      "recall: 28.48%\n",
      "precision: 53.65%\n",
      "f1: 37.21%\n",
      "--------------------------------------------------------------------------------\n"
     ]
    },
    {
     "data": {
      "image/png": "[encoded data removed]",
      "text/plain": [
       "<Figure size 432x288 with 2 Axes>"
      ]
     },
     "metadata": {
      "needs_background": "light"
     },
     "output_type": "display_data"
    }
   ],
   "source": [
    "X_BIS_pad = prep_text(X_BIS, tokenizer_F, **hparams)\n",
    "\n",
    "get_metrics(y_BIS, X_BIS_pad, reconstructed_F_model)"
   ]
  },
  {
   "cell_type": "markdown",
   "id": "34e0a7e9",
   "metadata": {
    "heading_collapsed": true,
    "hidden": true,
    "id": "34e0a7e9"
   },
   "source": [
    "### `F_model.joblib` evaluation on  `politifact_scrap`"
   ]
  },
  {
   "cell_type": "code",
   "execution_count": 83,
   "id": "62104444",
   "metadata": {
    "colab": {
     "base_uri": "https://localhost:8080/",
     "height": 367
    },
    "executionInfo": {
     "elapsed": 3932,
     "status": "ok",
     "timestamp": 1630140639141,
     "user": {
      "displayName": "Julien Seguy",
      "photoUrl": "",
      "userId": "07351507381529939348"
     },
     "user_tz": -480
    },
    "hidden": true,
    "id": "62104444",
    "outputId": "cfa8ee49-bf51-490b-80ae-281ffec40e05"
   },
   "outputs": [
    {
     "name": "stdout",
     "output_type": "stream",
     "text": [
      "--------------------------------------------------------------------------------\n",
      "acc: 49.63%\n",
      "recall: 27.74%\n",
      "precision: 57.32%\n",
      "f1: 37.38%\n",
      "--------------------------------------------------------------------------------\n"
     ]
    },
    {
     "data": {
      "image/png": "[encoded data removed]",
      "text/plain": [
       "<Figure size 432x288 with 2 Axes>"
      ]
     },
     "metadata": {
      "needs_background": "light"
     },
     "output_type": "display_data"
    }
   ],
   "source": [
    "X_P_pad = prep_text(X_P, tokenizer_F, **hparams)\n",
    "\n",
    "get_metrics(y_P, X_P_pad, reconstructed_F_model)"
   ]
  },
  {
   "cell_type": "markdown",
   "id": "e9316b2f",
   "metadata": {
    "heading_collapsed": true,
    "id": "e9316b2f"
   },
   "source": [
    "## `Bisaillon`"
   ]
  },
  {
   "cell_type": "markdown",
   "id": "f70c6c5b",
   "metadata": {
    "heading_collapsed": true,
    "hidden": true,
    "id": "f70c6c5b"
   },
   "source": [
    "### Training"
   ]
  },
  {
   "cell_type": "code",
   "execution_count": 85,
   "id": "1a3c071d",
   "metadata": {
    "colab": {
     "base_uri": "https://localhost:8080/"
    },
    "executionInfo": {
     "elapsed": 34293,
     "status": "ok",
     "timestamp": 1630140767107,
     "user": {
      "displayName": "Julien Seguy",
      "photoUrl": "",
      "userId": "07351507381529939348"
     },
     "user_tz": -480
    },
    "hidden": true,
    "id": "1a3c071d",
    "outputId": "f317664f-2e7d-4767-ff54-8c531fee4e4f"
   },
   "outputs": [
    {
     "name": "stdout",
     "output_type": "stream",
     "text": [
      "Epoch 1/30\n",
      "224/224 [==============================] - 5s 18ms/step - loss: 0.2546 - accuracy: 0.9154 - precision: 0.9262 - recall: 0.9128 - val_loss: 0.2170 - val_accuracy: 0.9102 - val_precision: 0.9493 - val_recall: 0.8745\n",
      "Epoch 2/30\n",
      "224/224 [==============================] - 3s 15ms/step - loss: 0.1637 - accuracy: 0.9374 - precision: 0.9473 - recall: 0.9335 - val_loss: 0.1947 - val_accuracy: 0.9259 - val_precision: 0.9171 - val_recall: 0.9431\n",
      "Epoch 3/30\n",
      "224/224 [==============================] - 3s 14ms/step - loss: 0.1169 - accuracy: 0.9556 - precision: 0.9629 - recall: 0.9527 - val_loss: 0.2045 - val_accuracy: 0.9276 - val_precision: 0.9321 - val_recall: 0.9286\n",
      "Epoch 4/30\n",
      "224/224 [==============================] - 3s 15ms/step - loss: 0.0854 - accuracy: 0.9674 - precision: 0.9733 - recall: 0.9647 - val_loss: 0.1974 - val_accuracy: 0.9267 - val_precision: 0.9428 - val_recall: 0.9150\n",
      "Epoch 5/30\n",
      "224/224 [==============================] - 3s 14ms/step - loss: 0.0628 - accuracy: 0.9760 - precision: 0.9783 - recall: 0.9762 - val_loss: 0.2365 - val_accuracy: 0.9283 - val_precision: 0.9444 - val_recall: 0.9163\n",
      "Epoch 6/30\n",
      "224/224 [==============================] - 3s 14ms/step - loss: 0.0492 - accuracy: 0.9825 - precision: 0.9856 - recall: 0.9812 - val_loss: 0.3320 - val_accuracy: 0.9332 - val_precision: 0.9382 - val_recall: 0.9332\n",
      "Epoch 7/30\n",
      "224/224 [==============================] - 3s 14ms/step - loss: 0.0400 - accuracy: 0.9866 - precision: 0.9880 - recall: 0.9866 - val_loss: 0.3398 - val_accuracy: 0.9323 - val_precision: 0.9405 - val_recall: 0.9289\n",
      "Epoch 8/30\n",
      "224/224 [==============================] - 3s 14ms/step - loss: 0.0274 - accuracy: 0.9900 - precision: 0.9902 - recall: 0.9908 - val_loss: 0.3641 - val_accuracy: 0.9239 - val_precision: 0.9126 - val_recall: 0.9445\n",
      "Epoch 9/30\n",
      "224/224 [==============================] - 3s 14ms/step - loss: 0.0298 - accuracy: 0.9897 - precision: 0.9901 - recall: 0.9905 - val_loss: 0.3927 - val_accuracy: 0.9309 - val_precision: 0.9382 - val_recall: 0.9286\n",
      "Epoch 10/30\n",
      "224/224 [==============================] - 3s 14ms/step - loss: 0.0223 - accuracy: 0.9921 - precision: 0.9929 - recall: 0.9921 - val_loss: 0.3494 - val_accuracy: 0.9256 - val_precision: 0.9114 - val_recall: 0.9496\n"
     ]
    }
   ],
   "source": [
    "es = tf.keras.callbacks.EarlyStopping(monitor='val_loss', mode='auto', patience=8, restore_best_weights=True)\n",
    "# es = tf.keras.callbacks.EarlyStopping(monitor='val_recall', mode='max', patience=8, restore_best_weights=True)\n",
    "\n",
    "B_model = init_model(**hparams)\n",
    "\n",
    "history = B_model.fit(X_BIS_train_pad, \n",
    "                  y_BIS_train,\n",
    "                  validation_split=0.2,\n",
    "                  batch_size=hparams[\"batch_size\"],\n",
    "                  epochs=30, \n",
    "                  callbacks=[es],\n",
    "                  verbose=1)"
   ]
  },
  {
   "cell_type": "code",
   "execution_count": 86,
   "id": "h7uByVK19dIQ",
   "metadata": {
    "colab": {
     "base_uri": "https://localhost:8080/",
     "height": 308
    },
    "executionInfo": {
     "elapsed": 8971,
     "status": "ok",
     "timestamp": 1630140776074,
     "user": {
      "displayName": "Julien Seguy",
      "photoUrl": "",
      "userId": "07351507381529939348"
     },
     "user_tz": -480
    },
    "hidden": true,
    "id": "h7uByVK19dIQ",
    "outputId": "cb72b8e6-0d5f-4f8e-e499-d7016c90c80b"
   },
   "outputs": [
    {
     "data": {
      "image/png": "[encoded data removed]",
      "text/plain": [
       "<Figure size 1296x288 with 3 Axes>"
      ]
     },
     "metadata": {
      "needs_background": "light"
     },
     "output_type": "display_data"
    }
   ],
   "source": [
    "plot_loss(history, title='B_model')"
   ]
  },
  {
   "cell_type": "code",
   "execution_count": 87,
   "id": "w7Kn89qz9dKl",
   "metadata": {
    "colab": {
     "base_uri": "https://localhost:8080/",
     "height": 367
    },
    "executionInfo": {
     "elapsed": 1285,
     "status": "ok",
     "timestamp": 1630140781438,
     "user": {
      "displayName": "Julien Seguy",
      "photoUrl": "",
      "userId": "07351507381529939348"
     },
     "user_tz": -480
    },
    "hidden": true,
    "id": "w7Kn89qz9dKl",
    "outputId": "21fbd72d-e615-4ee6-d9a6-78c3ff1c5656"
   },
   "outputs": [
    {
     "name": "stdout",
     "output_type": "stream",
     "text": [
      "--------------------------------------------------------------------------------\n",
      "acc: 93.05%\n",
      "recall: 95.01%\n",
      "precision: 91.90%\n",
      "f1: 93.43%\n",
      "--------------------------------------------------------------------------------\n"
     ]
    },
    {
     "data": {
      "image/png": "[encoded data removed]",
      "text/plain": [
       "<Figure size 432x288 with 2 Axes>"
      ]
     },
     "metadata": {
      "needs_background": "light"
     },
     "output_type": "display_data"
    }
   ],
   "source": [
    "get_metrics(y_BIS_test, X_BIS_test_pad, B_model)"
   ]
  },
  {
   "cell_type": "markdown",
   "id": "8b1c87c8",
   "metadata": {
    "heading_collapsed": true,
    "hidden": true,
    "id": "8b1c87c8"
   },
   "source": [
    "### Saving the model"
   ]
  },
  {
   "cell_type": "code",
   "execution_count": 89,
   "id": "828c527b",
   "metadata": {
    "colab": {
     "base_uri": "https://localhost:8080/"
    },
    "executionInfo": {
     "elapsed": 2041,
     "status": "ok",
     "timestamp": 1630140864484,
     "user": {
      "displayName": "Julien Seguy",
      "photoUrl": "",
      "userId": "07351507381529939348"
     },
     "user_tz": -480
    },
    "hidden": true,
    "id": "828c527b",
    "outputId": "503a1e06-2cf8-43f6-8d18-7072c2e06e0b"
   },
   "outputs": [
    {
     "name": "stdout",
     "output_type": "stream",
     "text": [
      "INFO:tensorflow:Assets written to: B_model/assets\n"
     ]
    }
   ],
   "source": [
    "model_name = 'B_model'\n",
    "\n",
    "B_model.save(model_name)"
   ]
  },
  {
   "cell_type": "markdown",
   "id": "0e1e244a",
   "metadata": {
    "heading_collapsed": true,
    "hidden": true,
    "id": "0e1e244a"
   },
   "source": [
    "### Uploading the model"
   ]
  },
  {
   "cell_type": "code",
   "execution_count": 90,
   "id": "2a261ee8",
   "metadata": {
    "executionInfo": {
     "elapsed": 771,
     "status": "ok",
     "timestamp": 1630140883890,
     "user": {
      "displayName": "Julien Seguy",
      "photoUrl": "",
      "userId": "07351507381529939348"
     },
     "user_tz": -480
    },
    "hidden": true,
    "id": "2a261ee8"
   },
   "outputs": [],
   "source": [
    "reconstructed_B_model = tf.keras.models.load_model(\"B_model\")"
   ]
  },
  {
   "cell_type": "code",
   "execution_count": 91,
   "id": "a53b1a2f",
   "metadata": {
    "colab": {
     "base_uri": "https://localhost:8080/",
     "height": 367
    },
    "executionInfo": {
     "elapsed": 1092,
     "status": "ok",
     "timestamp": 1630140902644,
     "user": {
      "displayName": "Julien Seguy",
      "photoUrl": "",
      "userId": "07351507381529939348"
     },
     "user_tz": -480
    },
    "hidden": true,
    "id": "a53b1a2f",
    "outputId": "992bb4a2-5c69-442e-ad36-cea9bae01e79"
   },
   "outputs": [
    {
     "name": "stdout",
     "output_type": "stream",
     "text": [
      "--------------------------------------------------------------------------------\n",
      "acc: 93.05%\n",
      "recall: 95.01%\n",
      "precision: 91.90%\n",
      "f1: 93.43%\n",
      "--------------------------------------------------------------------------------\n"
     ]
    },
    {
     "data": {
      "image/png": "[encoded data removed]",
      "text/plain": [
       "<Figure size 432x288 with 2 Axes>"
      ]
     },
     "metadata": {
      "needs_background": "light"
     },
     "output_type": "display_data"
    }
   ],
   "source": [
    "get_metrics(y_BIS_test, X_BIS_test_pad, reconstructed_B_model)"
   ]
  },
  {
   "cell_type": "markdown",
   "id": "17d28f62",
   "metadata": {
    "heading_collapsed": true,
    "hidden": true,
    "id": "17d28f62"
   },
   "source": [
    "### `B_model.joblib` evaluation on `FakeNewsNET`"
   ]
  },
  {
   "cell_type": "code",
   "execution_count": 92,
   "id": "232fda3b",
   "metadata": {
    "colab": {
     "base_uri": "https://localhost:8080/",
     "height": 367
    },
    "executionInfo": {
     "elapsed": 2790,
     "status": "ok",
     "timestamp": 1630140951494,
     "user": {
      "displayName": "Julien Seguy",
      "photoUrl": "",
      "userId": "07351507381529939348"
     },
     "user_tz": -480
    },
    "hidden": true,
    "id": "232fda3b",
    "outputId": "bf87b2c4-6dfa-46b6-a6d6-9f720bbef8df"
   },
   "outputs": [
    {
     "name": "stdout",
     "output_type": "stream",
     "text": [
      "--------------------------------------------------------------------------------\n",
      "acc: 34.99%\n",
      "recall: 83.18%\n",
      "precision: 25.17%\n",
      "f1: 38.64%\n",
      "--------------------------------------------------------------------------------\n"
     ]
    },
    {
     "data": {
      "image/png": "[encoded data removed]",
      "text/plain": [
       "<Figure size 432x288 with 2 Axes>"
      ]
     },
     "metadata": {
      "needs_background": "light"
     },
     "output_type": "display_data"
    }
   ],
   "source": [
    "X_FNN_pad = prep_text(X_FNN, tokenizer_B, **hparams)\n",
    "\n",
    "get_metrics(y_FNN, X_FNN_pad, reconstructed_B_model)"
   ]
  },
  {
   "cell_type": "markdown",
   "id": "821fde35",
   "metadata": {
    "heading_collapsed": true,
    "hidden": true,
    "id": "821fde35"
   },
   "source": [
    "### `B_model.joblib` evaluation on `politifact scrap`"
   ]
  },
  {
   "cell_type": "code",
   "execution_count": 93,
   "id": "558d772d",
   "metadata": {
    "colab": {
     "base_uri": "https://localhost:8080/",
     "height": 367
    },
    "executionInfo": {
     "elapsed": 1959,
     "status": "ok",
     "timestamp": 1630141009598,
     "user": {
      "displayName": "Julien Seguy",
      "photoUrl": "",
      "userId": "07351507381529939348"
     },
     "user_tz": -480
    },
    "hidden": true,
    "id": "558d772d",
    "outputId": "3b016399-8a56-4a5a-93c1-28ba3b172271"
   },
   "outputs": [
    {
     "name": "stdout",
     "output_type": "stream",
     "text": [
      "--------------------------------------------------------------------------------\n",
      "acc: 54.30%\n",
      "recall: 78.21%\n",
      "precision: 55.58%\n",
      "f1: 64.98%\n",
      "--------------------------------------------------------------------------------\n"
     ]
    },
    {
     "data": {
      "image/png": "[encoded data removed]",
      "text/plain": [
       "<Figure size 432x288 with 2 Axes>"
      ]
     },
     "metadata": {
      "needs_background": "light"
     },
     "output_type": "display_data"
    }
   ],
   "source": [
    "X_P_pad = prep_text(X_P, tokenizer_B, **hparams)\n",
    "\n",
    "get_metrics(y_P, X_P_pad, reconstructed_B_model)"
   ]
  },
  {
   "cell_type": "markdown",
   "id": "36e514fe",
   "metadata": {
    "heading_collapsed": true,
    "id": "36e514fe"
   },
   "source": [
    "## `All`"
   ]
  },
  {
   "cell_type": "markdown",
   "id": "0a26e16f",
   "metadata": {
    "heading_collapsed": true,
    "hidden": true,
    "id": "0a26e16f"
   },
   "source": [
    "### Training"
   ]
  },
  {
   "cell_type": "code",
   "execution_count": 94,
   "id": "59242ab5",
   "metadata": {
    "colab": {
     "base_uri": "https://localhost:8080/"
    },
    "executionInfo": {
     "elapsed": 59980,
     "status": "ok",
     "timestamp": 1630141134488,
     "user": {
      "displayName": "Julien Seguy",
      "photoUrl": "",
      "userId": "07351507381529939348"
     },
     "user_tz": -480
    },
    "hidden": true,
    "id": "59242ab5",
    "outputId": "db48c590-75c2-48a8-ac3f-b81cefe5c8e9"
   },
   "outputs": [
    {
     "name": "stdout",
     "output_type": "stream",
     "text": [
      "Epoch 1/30\n",
      "419/419 [==============================] - 8s 16ms/step - loss: 0.5405 - accuracy: 0.7433 - precision: 0.7683 - recall: 0.6508 - val_loss: 0.5103 - val_accuracy: 0.7358 - val_precision: 0.7090 - val_recall: 0.7361\n",
      "Epoch 2/30\n",
      "419/419 [==============================] - 6s 14ms/step - loss: 0.4652 - accuracy: 0.7720 - precision: 0.7851 - recall: 0.7001 - val_loss: 0.4779 - val_accuracy: 0.7616 - val_precision: 0.7856 - val_recall: 0.6731\n",
      "Epoch 3/30\n",
      "419/419 [==============================] - 6s 14ms/step - loss: 0.4062 - accuracy: 0.8067 - precision: 0.8181 - recall: 0.7502 - val_loss: 0.5288 - val_accuracy: 0.7508 - val_precision: 0.7334 - val_recall: 0.7325\n",
      "Epoch 4/30\n",
      "419/419 [==============================] - 6s 14ms/step - loss: 0.3533 - accuracy: 0.8359 - precision: 0.8483 - recall: 0.7871 - val_loss: 0.5112 - val_accuracy: 0.7577 - val_precision: 0.7607 - val_recall: 0.7017\n",
      "Epoch 5/30\n",
      "419/419 [==============================] - 6s 14ms/step - loss: 0.3057 - accuracy: 0.8622 - precision: 0.8723 - recall: 0.8236 - val_loss: 0.5586 - val_accuracy: 0.7607 - val_precision: 0.7603 - val_recall: 0.7116\n",
      "Epoch 6/30\n",
      "419/419 [==============================] - 6s 14ms/step - loss: 0.2637 - accuracy: 0.8840 - precision: 0.8945 - recall: 0.8503 - val_loss: 0.6505 - val_accuracy: 0.7527 - val_precision: 0.7229 - val_recall: 0.7626\n",
      "Epoch 7/30\n",
      "419/419 [==============================] - 6s 14ms/step - loss: 0.2253 - accuracy: 0.9021 - precision: 0.9088 - recall: 0.8771 - val_loss: 0.6973 - val_accuracy: 0.7568 - val_precision: 0.7651 - val_recall: 0.6912\n",
      "Epoch 8/30\n",
      "419/419 [==============================] - 6s 14ms/step - loss: 0.1972 - accuracy: 0.9162 - precision: 0.9228 - recall: 0.8942 - val_loss: 0.7215 - val_accuracy: 0.7543 - val_precision: 0.7606 - val_recall: 0.6913\n",
      "Epoch 9/30\n",
      "419/419 [==============================] - 6s 14ms/step - loss: 0.1687 - accuracy: 0.9294 - precision: 0.9325 - recall: 0.9140 - val_loss: 0.7579 - val_accuracy: 0.7588 - val_precision: 0.7587 - val_recall: 0.7087\n",
      "Epoch 10/30\n",
      "419/419 [==============================] - 6s 14ms/step - loss: 0.1481 - accuracy: 0.9399 - precision: 0.9436 - recall: 0.9259 - val_loss: 0.8412 - val_accuracy: 0.7550 - val_precision: 0.7686 - val_recall: 0.6798\n"
     ]
    }
   ],
   "source": [
    "es = tf.keras.callbacks.EarlyStopping(monitor='val_loss', mode='auto', patience=8, restore_best_weights=True)\n",
    "# es = tf.keras.callbacks.EarlyStopping(monitor='val_recall', mode='max', patience=8, restore_best_weights=True)\n",
    "\n",
    "ALL_model = init_model(**hparams)\n",
    "\n",
    "history = ALL_model.fit(X_ALL_train_pad, \n",
    "                  y_ALL_train,\n",
    "                  validation_split=0.2,\n",
    "                  batch_size=hparams[\"batch_size\"],\n",
    "                  epochs=30, \n",
    "                  callbacks=[es],\n",
    "                  verbose=1)"
   ]
  },
  {
   "cell_type": "code",
   "execution_count": 95,
   "id": "QzmsGRry-ymg",
   "metadata": {
    "colab": {
     "base_uri": "https://localhost:8080/",
     "height": 308
    },
    "executionInfo": {
     "elapsed": 24404,
     "status": "ok",
     "timestamp": 1630141158879,
     "user": {
      "displayName": "Julien Seguy",
      "photoUrl": "",
      "userId": "07351507381529939348"
     },
     "user_tz": -480
    },
    "hidden": true,
    "id": "QzmsGRry-ymg",
    "outputId": "bd3a8f01-92b8-4bfe-a4b3-0d63562ed669"
   },
   "outputs": [
    {
     "data": {
      "image/png": "[encoded data removed]",
      "text/plain": [
       "<Figure size 1296x288 with 3 Axes>"
      ]
     },
     "metadata": {
      "needs_background": "light"
     },
     "output_type": "display_data"
    }
   ],
   "source": [
    "plot_loss(history, title='ALL_model')"
   ]
  },
  {
   "cell_type": "code",
   "execution_count": 96,
   "id": "K7uGPLuP-ypA",
   "metadata": {
    "colab": {
     "base_uri": "https://localhost:8080/",
     "height": 367
    },
    "executionInfo": {
     "elapsed": 1423,
     "status": "ok",
     "timestamp": 1630141160298,
     "user": {
      "displayName": "Julien Seguy",
      "photoUrl": "",
      "userId": "07351507381529939348"
     },
     "user_tz": -480
    },
    "hidden": true,
    "id": "K7uGPLuP-ypA",
    "outputId": "17af38c1-81c1-413a-de96-1ebe22f0eda8"
   },
   "outputs": [
    {
     "name": "stdout",
     "output_type": "stream",
     "text": [
      "--------------------------------------------------------------------------------\n",
      "acc: 75.69%\n",
      "recall: 66.40%\n",
      "precision: 78.27%\n",
      "f1: 71.85%\n",
      "--------------------------------------------------------------------------------\n"
     ]
    },
    {
     "data": {
      "image/png": "[encoded data removed]",
      "text/plain": [
       "<Figure size 432x288 with 2 Axes>"
      ]
     },
     "metadata": {
      "needs_background": "light"
     },
     "output_type": "display_data"
    }
   ],
   "source": [
    "get_metrics(y_ALL_test, X_ALL_test_pad, ALL_model)"
   ]
  },
  {
   "cell_type": "markdown",
   "id": "cdf9f0ef",
   "metadata": {
    "heading_collapsed": true,
    "hidden": true,
    "id": "cdf9f0ef"
   },
   "source": [
    "### Saving the model"
   ]
  },
  {
   "cell_type": "code",
   "execution_count": 97,
   "id": "9f343676",
   "metadata": {
    "colab": {
     "base_uri": "https://localhost:8080/"
    },
    "executionInfo": {
     "elapsed": 2145,
     "status": "ok",
     "timestamp": 1630141492569,
     "user": {
      "displayName": "Julien Seguy",
      "photoUrl": "",
      "userId": "07351507381529939348"
     },
     "user_tz": -480
    },
    "hidden": true,
    "id": "9f343676",
    "outputId": "cef32d9e-093f-4742-f78c-b4207e1828cb"
   },
   "outputs": [
    {
     "name": "stdout",
     "output_type": "stream",
     "text": [
      "INFO:tensorflow:Assets written to: ALL_model/assets\n"
     ]
    }
   ],
   "source": [
    "model_name = 'ALL_model'\n",
    "\n",
    "ALL_model.save(model_name)"
   ]
  },
  {
   "cell_type": "markdown",
   "id": "cdbc02bc",
   "metadata": {
    "heading_collapsed": true,
    "hidden": true,
    "id": "cdbc02bc"
   },
   "source": [
    "### Uploading the model"
   ]
  },
  {
   "cell_type": "code",
   "execution_count": 98,
   "id": "09726fcb",
   "metadata": {
    "executionInfo": {
     "elapsed": 842,
     "status": "ok",
     "timestamp": 1630141527767,
     "user": {
      "displayName": "Julien Seguy",
      "photoUrl": "",
      "userId": "07351507381529939348"
     },
     "user_tz": -480
    },
    "hidden": true,
    "id": "09726fcb"
   },
   "outputs": [],
   "source": [
    "reconstructed_ALL_model = tf.keras.models.load_model(\"ALL_model\")"
   ]
  },
  {
   "cell_type": "code",
   "execution_count": 99,
   "id": "1ad33a6d",
   "metadata": {
    "colab": {
     "base_uri": "https://localhost:8080/",
     "height": 367
    },
    "executionInfo": {
     "elapsed": 1494,
     "status": "ok",
     "timestamp": 1630141529976,
     "user": {
      "displayName": "Julien Seguy",
      "photoUrl": "",
      "userId": "07351507381529939348"
     },
     "user_tz": -480
    },
    "hidden": true,
    "id": "1ad33a6d",
    "outputId": "a3551d3f-628c-4bb3-872e-f9b61eab02cd"
   },
   "outputs": [
    {
     "name": "stdout",
     "output_type": "stream",
     "text": [
      "--------------------------------------------------------------------------------\n",
      "acc: 75.69%\n",
      "recall: 66.40%\n",
      "precision: 78.27%\n",
      "f1: 71.85%\n",
      "--------------------------------------------------------------------------------\n"
     ]
    },
    {
     "data": {
      "image/png": "[encoded data removed]",
      "text/plain": [
       "<Figure size 432x288 with 2 Axes>"
      ]
     },
     "metadata": {
      "needs_background": "light"
     },
     "output_type": "display_data"
    }
   ],
   "source": [
    "get_metrics(y_ALL_test, X_ALL_test_pad, reconstructed_ALL_model)"
   ]
  },
  {
   "cell_type": "markdown",
   "id": "3eadd369",
   "metadata": {
    "heading_collapsed": true,
    "hidden": true,
    "id": "3eadd369"
   },
   "source": [
    "### `ALL_model.joblib` evaluation on `politifact_scrap`"
   ]
  },
  {
   "cell_type": "code",
   "execution_count": 102,
   "id": "2808ee7b",
   "metadata": {
    "colab": {
     "base_uri": "https://localhost:8080/",
     "height": 367
    },
    "executionInfo": {
     "elapsed": 801,
     "status": "ok",
     "timestamp": 1630141886767,
     "user": {
      "displayName": "Julien Seguy",
      "photoUrl": "",
      "userId": "07351507381529939348"
     },
     "user_tz": -480
    },
    "hidden": true,
    "id": "2808ee7b",
    "outputId": "90c35003-01ec-47fc-89d6-376414db5148"
   },
   "outputs": [
    {
     "name": "stdout",
     "output_type": "stream",
     "text": [
      "--------------------------------------------------------------------------------\n",
      "acc: 61.98%\n",
      "recall: 53.49%\n",
      "precision: 68.92%\n",
      "f1: 60.23%\n",
      "--------------------------------------------------------------------------------\n"
     ]
    },
    {
     "data": {
      "image/png": "[encoded data removed]",
      "text/plain": [
       "<Figure size 432x288 with 2 Axes>"
      ]
     },
     "metadata": {
      "needs_background": "light"
     },
     "output_type": "display_data"
    }
   ],
   "source": [
    "X_P_test_pad = prep_text(X_P_test, tokenizer_ALL, **hparams)\n",
    "\n",
    "get_metrics(y_P_test, X_P_test_pad, reconstructed_ALL_model)"
   ]
  },
  {
   "cell_type": "markdown",
   "id": "a80777e7",
   "metadata": {
    "heading_collapsed": true,
    "hidden": true,
    "id": "a80777e7"
   },
   "source": [
    "### `ALL_model.joblib` evaluation on `FakeNewsNET`"
   ]
  },
  {
   "cell_type": "code",
   "execution_count": 103,
   "id": "04cc338c",
   "metadata": {
    "colab": {
     "base_uri": "https://localhost:8080/",
     "height": 367
    },
    "executionInfo": {
     "elapsed": 804,
     "status": "ok",
     "timestamp": 1630141912686,
     "user": {
      "displayName": "Julien Seguy",
      "photoUrl": "",
      "userId": "07351507381529939348"
     },
     "user_tz": -480
    },
    "hidden": true,
    "id": "04cc338c",
    "outputId": "eee827bb-ab99-41b9-9111-f732207ce58b"
   },
   "outputs": [
    {
     "name": "stdout",
     "output_type": "stream",
     "text": [
      "--------------------------------------------------------------------------------\n",
      "acc: 77.65%\n",
      "recall: 46.31%\n",
      "precision: 52.96%\n",
      "f1: 49.41%\n",
      "--------------------------------------------------------------------------------\n"
     ]
    },
    {
     "data": {
      "image/png": "[encoded data removed]",
      "text/plain": [
       "<Figure size 432x288 with 2 Axes>"
      ]
     },
     "metadata": {
      "needs_background": "light"
     },
     "output_type": "display_data"
    }
   ],
   "source": [
    "X_FNN_test_pad = prep_text(X_FNN_test, tokenizer_ALL, **hparams)\n",
    "\n",
    "get_metrics(y_FNN_test, X_FNN_test_pad, reconstructed_ALL_model)"
   ]
  },
  {
   "cell_type": "markdown",
   "id": "222a2262",
   "metadata": {
    "heading_collapsed": true,
    "hidden": true,
    "id": "222a2262"
   },
   "source": [
    "### `ALL_model.joblib` evaluation on `Bisaillon`"
   ]
  },
  {
   "cell_type": "code",
   "execution_count": 104,
   "id": "3afdb072",
   "metadata": {
    "colab": {
     "base_uri": "https://localhost:8080/",
     "height": 369
    },
    "executionInfo": {
     "elapsed": 1311,
     "status": "ok",
     "timestamp": 1630141940495,
     "user": {
      "displayName": "Julien Seguy",
      "photoUrl": "",
      "userId": "07351507381529939348"
     },
     "user_tz": -480
    },
    "hidden": true,
    "id": "3afdb072",
    "outputId": "096796b7-3d2f-4db1-c352-cce758674b00"
   },
   "outputs": [
    {
     "name": "stdout",
     "output_type": "stream",
     "text": [
      "--------------------------------------------------------------------------------\n",
      "acc: 89.62%\n",
      "recall: 85.52%\n",
      "precision: 93.97%\n",
      "f1: 89.55%\n",
      "--------------------------------------------------------------------------------\n"
     ]
    },
    {
     "data": {
      "image/png": "[encoded data removed]",
      "text/plain": [
       "<Figure size 432x288 with 2 Axes>"
      ]
     },
     "metadata": {
      "needs_background": "light"
     },
     "output_type": "display_data"
    }
   ],
   "source": [
    "X_BIS_test_pad = prep_text(X_BIS_test, tokenizer_ALL, **hparams)\n",
    "\n",
    "get_metrics(y_BIS_test, X_BIS_test_pad, reconstructed_ALL_model)"
   ]
  },
  {
   "cell_type": "markdown",
   "id": "5edeea0c",
   "metadata": {
    "heading_collapsed": true,
    "id": "5edeea0c"
   },
   "source": [
    "## Prediction - TO BE DONE"
   ]
  },
  {
   "cell_type": "code",
   "execution_count": null,
   "id": "652b2f78",
   "metadata": {
    "hidden": true,
    "id": "652b2f78"
   },
   "outputs": [],
   "source": [
    "# model_name = '../raw_data/ALL_model.joblib'\n",
    "\n",
    "# model = get_model(model_name)"
   ]
  },
  {
   "cell_type": "code",
   "execution_count": null,
   "id": "63d3e435",
   "metadata": {
    "hidden": true,
    "id": "63d3e435"
   },
   "outputs": [],
   "source": [
    "# fake0 = \"White House, CDC, WHO and vaccine makers don’t require the COVID-19 vaccine for their workers.\"\n",
    "# fake1 = \"Says a U.S. Air Force-insignia plane evacuating people from Afghanistan is fake.\"\n",
    "# fake2 = \"No one has died of cancer or heart disease since the COVID-19 thing started.\"\n",
    "# true0 = \"A photo shows two COVID-19 patients lying on the floor awaiting treatment in Florida.\"\n",
    "# true1 = \"We’ve got 115,000 miles of roads in this state and 90% is owned by the locals.\"\n",
    "# true2 = \"324,000 pregnant people experience domestic violence during their pregnancy.\""
   ]
  },
  {
   "cell_type": "code",
   "execution_count": null,
   "id": "dfdcf952",
   "metadata": {
    "hidden": true,
    "id": "dfdcf952",
    "outputId": "2db911a5-acb9-4549-c0ec-4a54250843ad"
   },
   "outputs": [
    {
     "name": "stdout",
     "output_type": "stream",
     "text": [
      "--------------------------------------------------------------------------------\n",
      "[0.83834652 0.344895   0.61034863 0.55931642 0.32220998 0.26828418]\n",
      "--------------------------------------------------------------------------------\n"
     ]
    }
   ],
   "source": [
    "# sample = [fake0, fake1, fake2, true0, true1, true2]\n",
    "\n",
    "# X_sample_clean = [clean(text) for text in sample] \n",
    "# # X_sample_clean = sample\n",
    "# # print(X_sample_clean)\n",
    "\n",
    "# y_preds = model.predict_proba(X_sample_clean)[:, 1]\n",
    "\n",
    "# print('-'*80)\n",
    "# print(y_preds)\n",
    "# print('-'*80)"
   ]
  },
  {
   "cell_type": "code",
   "execution_count": null,
   "id": "9df63076",
   "metadata": {
    "hidden": true,
    "id": "9df63076"
   },
   "outputs": [],
   "source": []
  },
  {
   "cell_type": "code",
   "execution_count": null,
   "id": "BBM6OzpCykYd",
   "metadata": {
    "hidden": true,
    "id": "BBM6OzpCykYd"
   },
   "outputs": [],
   "source": []
  }
 ],
 "metadata": {
  "accelerator": "GPU",
  "colab": {
   "collapsed_sections": [
    "9564511e",
    "09322e5a",
    "9305fa89",
    "9a832897",
    "8de5da8e",
    "ecf51dc9",
    "l6KrFEZm704h",
    "_82qYdNK708C",
    "f586a971",
    "34e0a7e9",
    "f70c6c5b",
    "8b1c87c8",
    "821fde35",
    "0a26e16f"
   ],
   "name": "JS_DL_all_datasets.ipynb",
   "provenance": [
    {
     "file_id": "12VIMXD-aqB2EqCnDDq8_z2lG0W_o1inp",
     "timestamp": 1630032335921
    },
    {
     "file_id": "1KgDvCnlTH8CApSC4GPLcy38ZYN8DZ7dv",
     "timestamp": 1629979793495
    },
    {
     "file_id": "11Hhlts5VKbIIGWJjTXATQXA0ns6T37aF",
     "timestamp": 1629623230007
    }
   ],
   "toc_visible": true
  },
  "kernelspec": {
   "display_name": "Python 3 (ipykernel)",
   "language": "python",
   "name": "python3"
  },
  "language_info": {
   "codemirror_mode": {
    "name": "ipython",
    "version": 3
   },
   "file_extension": ".py",
   "mimetype": "text/x-python",
   "name": "python",
   "nbconvert_exporter": "python",
   "pygments_lexer": "ipython3",
   "version": "3.8.6"
  },
  "toc": {
   "base_numbering": 1,
   "nav_menu": {},
   "number_sections": true,
   "sideBar": true,
   "skip_h1_title": false,
   "title_cell": "Table of Contents",
   "title_sidebar": "Contents",
   "toc_cell": false,
   "toc_position": {},
   "toc_section_display": true,
   "toc_window_display": false
  },
  "varInspector": {
   "cols": {
    "lenName": 16,
    "lenType": 16,
    "lenVar": 40
   },
   "kernels_config": {
    "python": {
     "delete_cmd_postfix": "",
     "delete_cmd_prefix": "del ",
     "library": "var_list.py",
     "varRefreshCmd": "print(var_dic_list())"
    },
    "r": {
     "delete_cmd_postfix": ") ",
     "delete_cmd_prefix": "rm(",
     "library": "var_list.r",
     "varRefreshCmd": "cat(var_dic_list()) "
    }
   },
   "types_to_exclude": [
    "module",
    "function",
    "builtin_function_or_method",
    "instance",
    "_Feature"
   ],
   "window_display": false
  }
 },
 "nbformat": 4,
 "nbformat_minor": 5
}
