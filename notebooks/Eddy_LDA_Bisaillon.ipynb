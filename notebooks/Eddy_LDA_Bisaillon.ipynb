{
 "cells": [
  {
   "cell_type": "markdown",
   "metadata": {},
   "source": [
    "Run the two cells below only if running on Colab"
   ]
  },
  {
   "cell_type": "code",
   "execution_count": 1,
   "metadata": {
    "colab": {
     "base_uri": "https://localhost:8080/"
    },
    "executionInfo": {
     "elapsed": 30357,
     "status": "ok",
     "timestamp": 1629979045388,
     "user": {
      "displayName": "Eddy Edzwan",
      "photoUrl": "",
      "userId": "16456239904473206545"
     },
     "user_tz": -480
    },
    "id": "iP8R7RM6DKhv",
    "outputId": "0b04e84c-bf59-4306-a994-acd88f0673ad"
   },
   "outputs": [
    {
     "name": "stdout",
     "output_type": "stream",
     "text": [
      "\u001b[K     |████████████████████████████████| 141 kB 21.6 MB/s \n",
      "\u001b[K     |████████████████████████████████| 73 kB 1.7 MB/s \n",
      "\u001b[K     |████████████████████████████████| 185 kB 47.8 MB/s \n",
      "\u001b[K     |████████████████████████████████| 14.6 MB 85 kB/s \n",
      "\u001b[K     |████████████████████████████████| 87 kB 5.3 MB/s \n",
      "\u001b[K     |████████████████████████████████| 1.5 MB 22.1 MB/s \n",
      "\u001b[K     |████████████████████████████████| 747 kB 50.3 MB/s \n",
      "\u001b[K     |████████████████████████████████| 743 kB 39.9 MB/s \n",
      "\u001b[K     |████████████████████████████████| 41 kB 569 kB/s \n",
      "\u001b[K     |████████████████████████████████| 68 kB 5.5 MB/s \n",
      "\u001b[K     |████████████████████████████████| 1.3 MB 53.3 MB/s \n",
      "\u001b[K     |████████████████████████████████| 118 kB 56.3 MB/s \n",
      "\u001b[K     |████████████████████████████████| 294 kB 54.6 MB/s \n",
      "\u001b[K     |████████████████████████████████| 142 kB 47.6 MB/s \n",
      "\u001b[K     |████████████████████████████████| 56 kB 4.7 MB/s \n",
      "\u001b[K     |████████████████████████████████| 1.1 MB 40.0 MB/s \n",
      "\u001b[K     |████████████████████████████████| 146 kB 50.5 MB/s \n",
      "\u001b[K     |████████████████████████████████| 170 kB 56.3 MB/s \n",
      "\u001b[K     |████████████████████████████████| 636 kB 47.3 MB/s \n",
      "\u001b[K     |████████████████████████████████| 79 kB 8.5 MB/s \n",
      "\u001b[K     |████████████████████████████████| 75 kB 4.6 MB/s \n",
      "\u001b[K     |████████████████████████████████| 52 kB 1.4 MB/s \n",
      "\u001b[K     |████████████████████████████████| 63 kB 1.8 MB/s \n",
      "\u001b[K     |████████████████████████████████| 52 kB 1.0 MB/s \n",
      "\u001b[K     |████████████████████████████████| 7.7 MB 37.3 MB/s \n",
      "\u001b[K     |████████████████████████████████| 127 kB 56.4 MB/s \n",
      "\u001b[K     |████████████████████████████████| 54 kB 3.2 MB/s \n",
      "\u001b[K     |████████████████████████████████| 54 kB 2.7 MB/s \n",
      "\u001b[K     |████████████████████████████████| 3.0 MB 41.2 MB/s \n",
      "\u001b[?25h  Building wheel for StopFAIke (setup.py) ... \u001b[?25l\u001b[?25hdone\n",
      "  Building wheel for memoized-property (setup.py) ... \u001b[?25l\u001b[?25hdone\n",
      "  Building wheel for alembic (setup.py) ... \u001b[?25l\u001b[?25hdone\n",
      "  Building wheel for databricks-cli (setup.py) ... \u001b[?25l\u001b[?25hdone\n",
      "  Building wheel for prometheus-flask-exporter (setup.py) ... \u001b[?25l\u001b[?25hdone\n",
      "  Building wheel for aiobotocore (setup.py) ... \u001b[?25l\u001b[?25hdone\n",
      "\u001b[31mERROR: pip's dependency resolver does not currently take into account all the packages that are installed. This behaviour is the source of the following dependency conflicts.\n",
      "datascience 0.10.6 requires folium==0.2.1, but you have folium 0.8.3 which is incompatible.\u001b[0m\n"
     ]
    }
   ],
   "source": [
    "!pip install --quiet git+https://github.com/EddyEdzwan/StopFAIke.git"
   ]
  },
  {
   "cell_type": "code",
   "execution_count": 2,
   "metadata": {
    "colab": {
     "base_uri": "https://localhost:8080/"
    },
    "executionInfo": {
     "elapsed": 2408,
     "status": "ok",
     "timestamp": 1629979051998,
     "user": {
      "displayName": "Eddy Edzwan",
      "photoUrl": "",
      "userId": "16456239904473206545"
     },
     "user_tz": -480
    },
    "id": "QwSljJ5IDX-z",
    "outputId": "e003fc1c-6cd6-4c64-aa5c-44f82e3b3774"
   },
   "outputs": [
    {
     "name": "stderr",
     "output_type": "stream",
     "text": [
      "[nltk_data] Downloading package punkt to /root/nltk_data...\n",
      "[nltk_data]   Unzipping tokenizers/punkt.zip.\n",
      "[nltk_data] Downloading package stopwords to /root/nltk_data...\n",
      "[nltk_data]   Unzipping corpora/stopwords.zip.\n",
      "[nltk_data] Downloading package wordnet to /root/nltk_data...\n",
      "[nltk_data]   Unzipping corpora/wordnet.zip.\n"
     ]
    },
    {
     "data": {
      "text/plain": [
       "True"
      ]
     },
     "execution_count": 2,
     "metadata": {},
     "output_type": "execute_result"
    }
   ],
   "source": [
    "  import nltk\n",
    "  nltk.download('punkt')\n",
    "  nltk.download('stopwords')\n",
    "  nltk.download('wordnet')"
   ]
  },
  {
   "cell_type": "markdown",
   "metadata": {},
   "source": [
    "# Importing the necessary packages"
   ]
  },
  {
   "cell_type": "code",
   "execution_count": 4,
   "metadata": {
    "executionInfo": {
     "elapsed": 493,
     "status": "ok",
     "timestamp": 1629979056708,
     "user": {
      "displayName": "Eddy Edzwan",
      "photoUrl": "",
      "userId": "16456239904473206545"
     },
     "user_tz": -480
    },
    "id": "ngbV5pGbDjWC"
   },
   "outputs": [],
   "source": [
    "# from datasets import load_dataset\n",
    "import pandas as pd\n",
    "import matplotlib.pyplot as plt\n",
    "import os\n",
    "import glob\n",
    "import json\n",
    "import numpy as np\n",
    "# import nltk\n",
    "# import string\n",
    "# from nltk.corpus import stopwords\n",
    "# from nltk.tokenize import word_tokenize\n",
    "# from nltk.stem import WordNetLemmatizer\n",
    "from StopFAIke import data\n",
    "from sklearn.feature_extraction.text import TfidfVectorizer\n",
    "from sklearn.decomposition import LatentDirichletAllocation\n",
    "from sklearn.model_selection import train_test_split\n",
    "from sklearn.naive_bayes import MultinomialNB\n",
    "from sklearn.model_selection import cross_validate\n",
    "from sklearn.model_selection import GridSearchCV, RandomizedSearchCV\n",
    "from sklearn.pipeline import Pipeline\n",
    "from sklearn.compose import ColumnTransformer"
   ]
  },
  {
   "cell_type": "markdown",
   "metadata": {
    "id": "Q5m3oH-NETYo"
   },
   "source": [
    "\n",
    "# Loading the Dataset"
   ]
  },
  {
   "cell_type": "code",
   "execution_count": 5,
   "metadata": {
    "executionInfo": {
     "elapsed": 7253,
     "status": "ok",
     "timestamp": 1629979067368,
     "user": {
      "displayName": "Eddy Edzwan",
      "photoUrl": "",
      "userId": "16456239904473206545"
     },
     "user_tz": -480
    },
    "id": "2b4ICUq6DlGf"
   },
   "outputs": [],
   "source": [
    "#Reading the csv from Google Cloud Bucket\n",
    "fake_df = pd.read_csv('https://storage.googleapis.com/stopfaike_eddy/data/Fake.csv')\n",
    "real_df = pd.read_csv('https://storage.googleapis.com/stopfaike_eddy/data/True.csv')"
   ]
  },
  {
   "cell_type": "code",
   "execution_count": 6,
   "metadata": {
    "colab": {
     "base_uri": "https://localhost:8080/",
     "height": 204
    },
    "executionInfo": {
     "elapsed": 8,
     "status": "ok",
     "timestamp": 1629979068797,
     "user": {
      "displayName": "Eddy Edzwan",
      "photoUrl": "",
      "userId": "16456239904473206545"
     },
     "user_tz": -480
    },
    "id": "G7YR04nOD5MM",
    "outputId": "212e9924-bfa7-47e6-85ec-94641abfa7a6"
   },
   "outputs": [
    {
     "data": {
      "text/html": [
       "<div>\n",
       "<style scoped>\n",
       "    .dataframe tbody tr th:only-of-type {\n",
       "        vertical-align: middle;\n",
       "    }\n",
       "\n",
       "    .dataframe tbody tr th {\n",
       "        vertical-align: top;\n",
       "    }\n",
       "\n",
       "    .dataframe thead th {\n",
       "        text-align: right;\n",
       "    }\n",
       "</style>\n",
       "<table border=\"1\" class=\"dataframe\">\n",
       "  <thead>\n",
       "    <tr style=\"text-align: right;\">\n",
       "      <th></th>\n",
       "      <th>title</th>\n",
       "      <th>text</th>\n",
       "      <th>subject</th>\n",
       "      <th>date</th>\n",
       "    </tr>\n",
       "  </thead>\n",
       "  <tbody>\n",
       "    <tr>\n",
       "      <th>0</th>\n",
       "      <td>Donald Trump Sends Out Embarrassing New Year’...</td>\n",
       "      <td>Donald Trump just couldn t wish all Americans ...</td>\n",
       "      <td>News</td>\n",
       "      <td>December 31, 2017</td>\n",
       "    </tr>\n",
       "    <tr>\n",
       "      <th>1</th>\n",
       "      <td>Drunk Bragging Trump Staffer Started Russian ...</td>\n",
       "      <td>House Intelligence Committee Chairman Devin Nu...</td>\n",
       "      <td>News</td>\n",
       "      <td>December 31, 2017</td>\n",
       "    </tr>\n",
       "    <tr>\n",
       "      <th>2</th>\n",
       "      <td>Sheriff David Clarke Becomes An Internet Joke...</td>\n",
       "      <td>On Friday, it was revealed that former Milwauk...</td>\n",
       "      <td>News</td>\n",
       "      <td>December 30, 2017</td>\n",
       "    </tr>\n",
       "    <tr>\n",
       "      <th>3</th>\n",
       "      <td>Trump Is So Obsessed He Even Has Obama’s Name...</td>\n",
       "      <td>On Christmas day, Donald Trump announced that ...</td>\n",
       "      <td>News</td>\n",
       "      <td>December 29, 2017</td>\n",
       "    </tr>\n",
       "    <tr>\n",
       "      <th>4</th>\n",
       "      <td>Pope Francis Just Called Out Donald Trump Dur...</td>\n",
       "      <td>Pope Francis used his annual Christmas Day mes...</td>\n",
       "      <td>News</td>\n",
       "      <td>December 25, 2017</td>\n",
       "    </tr>\n",
       "  </tbody>\n",
       "</table>\n",
       "</div>"
      ],
      "text/plain": [
       "                                               title  \\\n",
       "0   Donald Trump Sends Out Embarrassing New Year’...   \n",
       "1   Drunk Bragging Trump Staffer Started Russian ...   \n",
       "2   Sheriff David Clarke Becomes An Internet Joke...   \n",
       "3   Trump Is So Obsessed He Even Has Obama’s Name...   \n",
       "4   Pope Francis Just Called Out Donald Trump Dur...   \n",
       "\n",
       "                                                text subject  \\\n",
       "0  Donald Trump just couldn t wish all Americans ...    News   \n",
       "1  House Intelligence Committee Chairman Devin Nu...    News   \n",
       "2  On Friday, it was revealed that former Milwauk...    News   \n",
       "3  On Christmas day, Donald Trump announced that ...    News   \n",
       "4  Pope Francis used his annual Christmas Day mes...    News   \n",
       "\n",
       "                date  \n",
       "0  December 31, 2017  \n",
       "1  December 31, 2017  \n",
       "2  December 30, 2017  \n",
       "3  December 29, 2017  \n",
       "4  December 25, 2017  "
      ]
     },
     "execution_count": 6,
     "metadata": {},
     "output_type": "execute_result"
    }
   ],
   "source": [
    "fake_df.head()"
   ]
  },
  {
   "cell_type": "code",
   "execution_count": 7,
   "metadata": {
    "colab": {
     "base_uri": "https://localhost:8080/",
     "height": 204
    },
    "executionInfo": {
     "elapsed": 8,
     "status": "ok",
     "timestamp": 1629979070809,
     "user": {
      "displayName": "Eddy Edzwan",
      "photoUrl": "",
      "userId": "16456239904473206545"
     },
     "user_tz": -480
    },
    "id": "DbsV41nUD6z2",
    "outputId": "12a26d23-63be-4017-a1f6-494321efb293"
   },
   "outputs": [
    {
     "data": {
      "text/html": [
       "<div>\n",
       "<style scoped>\n",
       "    .dataframe tbody tr th:only-of-type {\n",
       "        vertical-align: middle;\n",
       "    }\n",
       "\n",
       "    .dataframe tbody tr th {\n",
       "        vertical-align: top;\n",
       "    }\n",
       "\n",
       "    .dataframe thead th {\n",
       "        text-align: right;\n",
       "    }\n",
       "</style>\n",
       "<table border=\"1\" class=\"dataframe\">\n",
       "  <thead>\n",
       "    <tr style=\"text-align: right;\">\n",
       "      <th></th>\n",
       "      <th>title</th>\n",
       "      <th>text</th>\n",
       "      <th>subject</th>\n",
       "      <th>date</th>\n",
       "    </tr>\n",
       "  </thead>\n",
       "  <tbody>\n",
       "    <tr>\n",
       "      <th>0</th>\n",
       "      <td>As U.S. budget fight looms, Republicans flip t...</td>\n",
       "      <td>WASHINGTON (Reuters) - The head of a conservat...</td>\n",
       "      <td>politicsNews</td>\n",
       "      <td>December 31, 2017</td>\n",
       "    </tr>\n",
       "    <tr>\n",
       "      <th>1</th>\n",
       "      <td>U.S. military to accept transgender recruits o...</td>\n",
       "      <td>WASHINGTON (Reuters) - Transgender people will...</td>\n",
       "      <td>politicsNews</td>\n",
       "      <td>December 29, 2017</td>\n",
       "    </tr>\n",
       "    <tr>\n",
       "      <th>2</th>\n",
       "      <td>Senior U.S. Republican senator: 'Let Mr. Muell...</td>\n",
       "      <td>WASHINGTON (Reuters) - The special counsel inv...</td>\n",
       "      <td>politicsNews</td>\n",
       "      <td>December 31, 2017</td>\n",
       "    </tr>\n",
       "    <tr>\n",
       "      <th>3</th>\n",
       "      <td>FBI Russia probe helped by Australian diplomat...</td>\n",
       "      <td>WASHINGTON (Reuters) - Trump campaign adviser ...</td>\n",
       "      <td>politicsNews</td>\n",
       "      <td>December 30, 2017</td>\n",
       "    </tr>\n",
       "    <tr>\n",
       "      <th>4</th>\n",
       "      <td>Trump wants Postal Service to charge 'much mor...</td>\n",
       "      <td>SEATTLE/WASHINGTON (Reuters) - President Donal...</td>\n",
       "      <td>politicsNews</td>\n",
       "      <td>December 29, 2017</td>\n",
       "    </tr>\n",
       "  </tbody>\n",
       "</table>\n",
       "</div>"
      ],
      "text/plain": [
       "                                               title  \\\n",
       "0  As U.S. budget fight looms, Republicans flip t...   \n",
       "1  U.S. military to accept transgender recruits o...   \n",
       "2  Senior U.S. Republican senator: 'Let Mr. Muell...   \n",
       "3  FBI Russia probe helped by Australian diplomat...   \n",
       "4  Trump wants Postal Service to charge 'much mor...   \n",
       "\n",
       "                                                text       subject  \\\n",
       "0  WASHINGTON (Reuters) - The head of a conservat...  politicsNews   \n",
       "1  WASHINGTON (Reuters) - Transgender people will...  politicsNews   \n",
       "2  WASHINGTON (Reuters) - The special counsel inv...  politicsNews   \n",
       "3  WASHINGTON (Reuters) - Trump campaign adviser ...  politicsNews   \n",
       "4  SEATTLE/WASHINGTON (Reuters) - President Donal...  politicsNews   \n",
       "\n",
       "                 date  \n",
       "0  December 31, 2017   \n",
       "1  December 29, 2017   \n",
       "2  December 31, 2017   \n",
       "3  December 30, 2017   \n",
       "4  December 29, 2017   "
      ]
     },
     "execution_count": 7,
     "metadata": {},
     "output_type": "execute_result"
    }
   ],
   "source": [
    "real_df.head()"
   ]
  },
  {
   "cell_type": "code",
   "execution_count": 8,
   "metadata": {
    "executionInfo": {
     "elapsed": 4,
     "status": "ok",
     "timestamp": 1629979072666,
     "user": {
      "displayName": "Eddy Edzwan",
      "photoUrl": "",
      "userId": "16456239904473206545"
     },
     "user_tz": -480
    },
    "id": "nkUjJHHtE5pR"
   },
   "outputs": [],
   "source": [
    "fake_df['target'] = 1\n",
    "real_df['target'] = 0"
   ]
  },
  {
   "cell_type": "code",
   "execution_count": 9,
   "metadata": {
    "colab": {
     "base_uri": "https://localhost:8080/",
     "height": 204
    },
    "executionInfo": {
     "elapsed": 505,
     "status": "ok",
     "timestamp": 1629979076329,
     "user": {
      "displayName": "Eddy Edzwan",
      "photoUrl": "",
      "userId": "16456239904473206545"
     },
     "user_tz": -480
    },
    "id": "PRoS0ocpFBS4",
    "outputId": "774f1251-d18f-441b-b536-9acf80ed7c6b"
   },
   "outputs": [
    {
     "data": {
      "text/html": [
       "<div>\n",
       "<style scoped>\n",
       "    .dataframe tbody tr th:only-of-type {\n",
       "        vertical-align: middle;\n",
       "    }\n",
       "\n",
       "    .dataframe tbody tr th {\n",
       "        vertical-align: top;\n",
       "    }\n",
       "\n",
       "    .dataframe thead th {\n",
       "        text-align: right;\n",
       "    }\n",
       "</style>\n",
       "<table border=\"1\" class=\"dataframe\">\n",
       "  <thead>\n",
       "    <tr style=\"text-align: right;\">\n",
       "      <th></th>\n",
       "      <th>title</th>\n",
       "      <th>text</th>\n",
       "      <th>subject</th>\n",
       "      <th>date</th>\n",
       "      <th>target</th>\n",
       "    </tr>\n",
       "  </thead>\n",
       "  <tbody>\n",
       "    <tr>\n",
       "      <th>0</th>\n",
       "      <td>Donald Trump Sends Out Embarrassing New Year’...</td>\n",
       "      <td>Donald Trump just couldn t wish all Americans ...</td>\n",
       "      <td>News</td>\n",
       "      <td>December 31, 2017</td>\n",
       "      <td>1</td>\n",
       "    </tr>\n",
       "    <tr>\n",
       "      <th>1</th>\n",
       "      <td>Drunk Bragging Trump Staffer Started Russian ...</td>\n",
       "      <td>House Intelligence Committee Chairman Devin Nu...</td>\n",
       "      <td>News</td>\n",
       "      <td>December 31, 2017</td>\n",
       "      <td>1</td>\n",
       "    </tr>\n",
       "    <tr>\n",
       "      <th>2</th>\n",
       "      <td>Sheriff David Clarke Becomes An Internet Joke...</td>\n",
       "      <td>On Friday, it was revealed that former Milwauk...</td>\n",
       "      <td>News</td>\n",
       "      <td>December 30, 2017</td>\n",
       "      <td>1</td>\n",
       "    </tr>\n",
       "    <tr>\n",
       "      <th>3</th>\n",
       "      <td>Trump Is So Obsessed He Even Has Obama’s Name...</td>\n",
       "      <td>On Christmas day, Donald Trump announced that ...</td>\n",
       "      <td>News</td>\n",
       "      <td>December 29, 2017</td>\n",
       "      <td>1</td>\n",
       "    </tr>\n",
       "    <tr>\n",
       "      <th>4</th>\n",
       "      <td>Pope Francis Just Called Out Donald Trump Dur...</td>\n",
       "      <td>Pope Francis used his annual Christmas Day mes...</td>\n",
       "      <td>News</td>\n",
       "      <td>December 25, 2017</td>\n",
       "      <td>1</td>\n",
       "    </tr>\n",
       "  </tbody>\n",
       "</table>\n",
       "</div>"
      ],
      "text/plain": [
       "                                               title  \\\n",
       "0   Donald Trump Sends Out Embarrassing New Year’...   \n",
       "1   Drunk Bragging Trump Staffer Started Russian ...   \n",
       "2   Sheriff David Clarke Becomes An Internet Joke...   \n",
       "3   Trump Is So Obsessed He Even Has Obama’s Name...   \n",
       "4   Pope Francis Just Called Out Donald Trump Dur...   \n",
       "\n",
       "                                                text subject  \\\n",
       "0  Donald Trump just couldn t wish all Americans ...    News   \n",
       "1  House Intelligence Committee Chairman Devin Nu...    News   \n",
       "2  On Friday, it was revealed that former Milwauk...    News   \n",
       "3  On Christmas day, Donald Trump announced that ...    News   \n",
       "4  Pope Francis used his annual Christmas Day mes...    News   \n",
       "\n",
       "                date  target  \n",
       "0  December 31, 2017       1  \n",
       "1  December 31, 2017       1  \n",
       "2  December 30, 2017       1  \n",
       "3  December 29, 2017       1  \n",
       "4  December 25, 2017       1  "
      ]
     },
     "execution_count": 9,
     "metadata": {},
     "output_type": "execute_result"
    }
   ],
   "source": [
    "df = pd.concat([fake_df, real_df], axis=0)\n",
    "\n",
    "df.head()"
   ]
  },
  {
   "cell_type": "code",
   "execution_count": 10,
   "metadata": {
    "executionInfo": {
     "elapsed": 7,
     "status": "ok",
     "timestamp": 1629979077977,
     "user": {
      "displayName": "Eddy Edzwan",
      "photoUrl": "",
      "userId": "16456239904473206545"
     },
     "user_tz": -480
    },
    "id": "HrqvicJPFIit"
   },
   "outputs": [],
   "source": [
    "assert (fake_df.shape[0]+real_df.shape[0]) == df.shape[0]"
   ]
  },
  {
   "cell_type": "markdown",
   "metadata": {
    "id": "4as72XniEkcW"
   },
   "source": [
    "# Cleaning and Preparing the Dataset"
   ]
  },
  {
   "cell_type": "code",
   "execution_count": 11,
   "metadata": {
    "colab": {
     "base_uri": "https://localhost:8080/"
    },
    "executionInfo": {
     "elapsed": 4,
     "status": "ok",
     "timestamp": 1629979080649,
     "user": {
      "displayName": "Eddy Edzwan",
      "photoUrl": "",
      "userId": "16456239904473206545"
     },
     "user_tz": -480
    },
    "id": "GaxPWZDDErd1",
    "outputId": "e7d53ded-0a4d-4b45-d8c2-ab7f9563703a"
   },
   "outputs": [
    {
     "data": {
      "text/plain": [
       "title      0\n",
       "text       0\n",
       "subject    0\n",
       "date       0\n",
       "target     0\n",
       "dtype: int64"
      ]
     },
     "execution_count": 11,
     "metadata": {},
     "output_type": "execute_result"
    }
   ],
   "source": [
    "df.isnull().sum()"
   ]
  },
  {
   "cell_type": "code",
   "execution_count": 12,
   "metadata": {
    "colab": {
     "base_uri": "https://localhost:8080/",
     "height": 408
    },
    "executionInfo": {
     "elapsed": 153975,
     "status": "ok",
     "timestamp": 1629979237117,
     "user": {
      "displayName": "Eddy Edzwan",
      "photoUrl": "",
      "userId": "16456239904473206545"
     },
     "user_tz": -480
    },
    "id": "XNVKXCGzExgz",
    "outputId": "b4a64c00-f564-4000-8b9e-b5a264bf9e9b"
   },
   "outputs": [
    {
     "data": {
      "text/html": [
       "<div>\n",
       "<style scoped>\n",
       "    .dataframe tbody tr th:only-of-type {\n",
       "        vertical-align: middle;\n",
       "    }\n",
       "\n",
       "    .dataframe tbody tr th {\n",
       "        vertical-align: top;\n",
       "    }\n",
       "\n",
       "    .dataframe thead th {\n",
       "        text-align: right;\n",
       "    }\n",
       "</style>\n",
       "<table border=\"1\" class=\"dataframe\">\n",
       "  <thead>\n",
       "    <tr style=\"text-align: right;\">\n",
       "      <th></th>\n",
       "      <th>title</th>\n",
       "      <th>text</th>\n",
       "      <th>subject</th>\n",
       "      <th>date</th>\n",
       "      <th>target</th>\n",
       "      <th>title_preprocessed_lemmatized</th>\n",
       "      <th>text_preprocessed_lemmatized</th>\n",
       "      <th>title_preprocessed_joined</th>\n",
       "      <th>text_preprocessed_joined</th>\n",
       "    </tr>\n",
       "  </thead>\n",
       "  <tbody>\n",
       "    <tr>\n",
       "      <th>0</th>\n",
       "      <td>Donald Trump Sends Out Embarrassing New Year’...</td>\n",
       "      <td>Donald Trump just couldn t wish all Americans ...</td>\n",
       "      <td>News</td>\n",
       "      <td>December 31, 2017</td>\n",
       "      <td>1</td>\n",
       "      <td>[donald, trump, sends, embarrassing, new, year...</td>\n",
       "      <td>[donald, trump, wish, american, happy, new, ye...</td>\n",
       "      <td>donald trump sends embarrassing new year eve m...</td>\n",
       "      <td>donald trump wish american happy new year leav...</td>\n",
       "    </tr>\n",
       "    <tr>\n",
       "      <th>1</th>\n",
       "      <td>Drunk Bragging Trump Staffer Started Russian ...</td>\n",
       "      <td>House Intelligence Committee Chairman Devin Nu...</td>\n",
       "      <td>News</td>\n",
       "      <td>December 31, 2017</td>\n",
       "      <td>1</td>\n",
       "      <td>[drunk, bragging, trump, staffer, started, rus...</td>\n",
       "      <td>[house, intelligence, committee, chairman, dev...</td>\n",
       "      <td>drunk bragging trump staffer started russian c...</td>\n",
       "      <td>house intelligence committee chairman devin nu...</td>\n",
       "    </tr>\n",
       "    <tr>\n",
       "      <th>2</th>\n",
       "      <td>Sheriff David Clarke Becomes An Internet Joke...</td>\n",
       "      <td>On Friday, it was revealed that former Milwauk...</td>\n",
       "      <td>News</td>\n",
       "      <td>December 30, 2017</td>\n",
       "      <td>1</td>\n",
       "      <td>[sheriff, david, clarke, becomes, internet, jo...</td>\n",
       "      <td>[friday, revealed, former, milwaukee, sheriff,...</td>\n",
       "      <td>sheriff david clarke becomes internet joke thr...</td>\n",
       "      <td>friday revealed former milwaukee sheriff david...</td>\n",
       "    </tr>\n",
       "    <tr>\n",
       "      <th>3</th>\n",
       "      <td>Trump Is So Obsessed He Even Has Obama’s Name...</td>\n",
       "      <td>On Christmas day, Donald Trump announced that ...</td>\n",
       "      <td>News</td>\n",
       "      <td>December 29, 2017</td>\n",
       "      <td>1</td>\n",
       "      <td>[trump, obsessed, even, obama, name, coded, we...</td>\n",
       "      <td>[christmas, day, donald, trump, announced, wou...</td>\n",
       "      <td>trump obsessed even obama name coded website i...</td>\n",
       "      <td>christmas day donald trump announced would bac...</td>\n",
       "    </tr>\n",
       "    <tr>\n",
       "      <th>4</th>\n",
       "      <td>Pope Francis Just Called Out Donald Trump Dur...</td>\n",
       "      <td>Pope Francis used his annual Christmas Day mes...</td>\n",
       "      <td>News</td>\n",
       "      <td>December 25, 2017</td>\n",
       "      <td>1</td>\n",
       "      <td>[pope, francis, called, donald, trump, christm...</td>\n",
       "      <td>[pope, francis, used, annual, christmas, day, ...</td>\n",
       "      <td>pope francis called donald trump christmas speech</td>\n",
       "      <td>pope francis used annual christmas day message...</td>\n",
       "    </tr>\n",
       "  </tbody>\n",
       "</table>\n",
       "</div>"
      ],
      "text/plain": [
       "                                               title  \\\n",
       "0   Donald Trump Sends Out Embarrassing New Year’...   \n",
       "1   Drunk Bragging Trump Staffer Started Russian ...   \n",
       "2   Sheriff David Clarke Becomes An Internet Joke...   \n",
       "3   Trump Is So Obsessed He Even Has Obama’s Name...   \n",
       "4   Pope Francis Just Called Out Donald Trump Dur...   \n",
       "\n",
       "                                                text subject  \\\n",
       "0  Donald Trump just couldn t wish all Americans ...    News   \n",
       "1  House Intelligence Committee Chairman Devin Nu...    News   \n",
       "2  On Friday, it was revealed that former Milwauk...    News   \n",
       "3  On Christmas day, Donald Trump announced that ...    News   \n",
       "4  Pope Francis used his annual Christmas Day mes...    News   \n",
       "\n",
       "                date  target  \\\n",
       "0  December 31, 2017       1   \n",
       "1  December 31, 2017       1   \n",
       "2  December 30, 2017       1   \n",
       "3  December 29, 2017       1   \n",
       "4  December 25, 2017       1   \n",
       "\n",
       "                       title_preprocessed_lemmatized  \\\n",
       "0  [donald, trump, sends, embarrassing, new, year...   \n",
       "1  [drunk, bragging, trump, staffer, started, rus...   \n",
       "2  [sheriff, david, clarke, becomes, internet, jo...   \n",
       "3  [trump, obsessed, even, obama, name, coded, we...   \n",
       "4  [pope, francis, called, donald, trump, christm...   \n",
       "\n",
       "                        text_preprocessed_lemmatized  \\\n",
       "0  [donald, trump, wish, american, happy, new, ye...   \n",
       "1  [house, intelligence, committee, chairman, dev...   \n",
       "2  [friday, revealed, former, milwaukee, sheriff,...   \n",
       "3  [christmas, day, donald, trump, announced, wou...   \n",
       "4  [pope, francis, used, annual, christmas, day, ...   \n",
       "\n",
       "                           title_preprocessed_joined  \\\n",
       "0  donald trump sends embarrassing new year eve m...   \n",
       "1  drunk bragging trump staffer started russian c...   \n",
       "2  sheriff david clarke becomes internet joke thr...   \n",
       "3  trump obsessed even obama name coded website i...   \n",
       "4  pope francis called donald trump christmas speech   \n",
       "\n",
       "                            text_preprocessed_joined  \n",
       "0  donald trump wish american happy new year leav...  \n",
       "1  house intelligence committee chairman devin nu...  \n",
       "2  friday revealed former milwaukee sheriff david...  \n",
       "3  christmas day donald trump announced would bac...  \n",
       "4  pope francis used annual christmas day message...  "
      ]
     },
     "execution_count": 12,
     "metadata": {},
     "output_type": "execute_result"
    }
   ],
   "source": [
    "#Apply the standard clean function on text column for preprocessing\n",
    "df['title_preprocessed_lemmatized'] = df['title'].apply(data.clean)\n",
    "df['text_preprocessed_lemmatized'] = df['text'].apply(data.clean)\n",
    "df['title_preprocessed_joined'] = df['title_preprocessed_lemmatized']. \\\n",
    "                                                apply(lambda x: ' '.join(word for word in x))\n",
    "df['text_preprocessed_joined'] = df['text_preprocessed_lemmatized']. \\\n",
    "                                                apply(lambda x: ' '.join(word for word in x))\n",
    "\n",
    "df.head()"
   ]
  },
  {
   "cell_type": "code",
   "execution_count": 13,
   "metadata": {
    "executionInfo": {
     "elapsed": 506,
     "status": "ok",
     "timestamp": 1629979241131,
     "user": {
      "displayName": "Eddy Edzwan",
      "photoUrl": "",
      "userId": "16456239904473206545"
     },
     "user_tz": -480
    },
    "id": "PaevqgaWJAE8"
   },
   "outputs": [],
   "source": [
    "y = df.pop('target')\n",
    "X = df.copy()\n",
    "\n",
    "X_train, X_test, y_train, y_test = train_test_split(X, y, test_size=0.3)"
   ]
  },
  {
   "cell_type": "code",
   "execution_count": 14,
   "metadata": {
    "colab": {
     "base_uri": "https://localhost:8080/"
    },
    "executionInfo": {
     "elapsed": 462,
     "status": "ok",
     "timestamp": 1629979243668,
     "user": {
      "displayName": "Eddy Edzwan",
      "photoUrl": "",
      "userId": "16456239904473206545"
     },
     "user_tz": -480
    },
    "id": "KJQ5zKzkJSI1",
    "outputId": "0e6c3481-247e-4049-e7db-0dc04ebe0c54"
   },
   "outputs": [
    {
     "data": {
      "text/plain": [
       "(31428, 8)"
      ]
     },
     "execution_count": 14,
     "metadata": {},
     "output_type": "execute_result"
    }
   ],
   "source": [
    "X_train.shape"
   ]
  },
  {
   "cell_type": "code",
   "execution_count": 15,
   "metadata": {
    "colab": {
     "base_uri": "https://localhost:8080/"
    },
    "executionInfo": {
     "elapsed": 21,
     "status": "ok",
     "timestamp": 1629979245133,
     "user": {
      "displayName": "Eddy Edzwan",
      "photoUrl": "",
      "userId": "16456239904473206545"
     },
     "user_tz": -480
    },
    "id": "c4djDd0kT6JE",
    "outputId": "a543ec65-5a7f-4307-b939-6ca70180c32e"
   },
   "outputs": [
    {
     "data": {
      "text/plain": [
       "1    23481\n",
       "0    21417\n",
       "Name: target, dtype: int64"
      ]
     },
     "execution_count": 15,
     "metadata": {},
     "output_type": "execute_result"
    }
   ],
   "source": [
    "y.value_counts()"
   ]
  },
  {
   "cell_type": "code",
   "execution_count": 16,
   "metadata": {
    "colab": {
     "base_uri": "https://localhost:8080/"
    },
    "executionInfo": {
     "elapsed": 11,
     "status": "ok",
     "timestamp": 1629979246417,
     "user": {
      "displayName": "Eddy Edzwan",
      "photoUrl": "",
      "userId": "16456239904473206545"
     },
     "user_tz": -480
    },
    "id": "YYgfp6TdUdL6",
    "outputId": "c62fab62-5ea9-4b4d-9677-8a64fb7aa5c7"
   },
   "outputs": [
    {
     "data": {
      "text/plain": [
       "1    16440\n",
       "0    14988\n",
       "Name: target, dtype: int64"
      ]
     },
     "execution_count": 16,
     "metadata": {},
     "output_type": "execute_result"
    }
   ],
   "source": [
    "y_train.value_counts()"
   ]
  },
  {
   "cell_type": "code",
   "execution_count": 17,
   "metadata": {
    "colab": {
     "base_uri": "https://localhost:8080/"
    },
    "executionInfo": {
     "elapsed": 522,
     "status": "ok",
     "timestamp": 1629981328199,
     "user": {
      "displayName": "Eddy Edzwan",
      "photoUrl": "",
      "userId": "16456239904473206545"
     },
     "user_tz": -480
    },
    "id": "hIVX5JB2dSSo",
    "outputId": "1ee80015-57d9-410f-c587-2878ac28b0a5"
   },
   "outputs": [
    {
     "data": {
      "text/plain": [
       "1    7041\n",
       "0    6429\n",
       "Name: target, dtype: int64"
      ]
     },
     "execution_count": 17,
     "metadata": {},
     "output_type": "execute_result"
    }
   ],
   "source": [
    "y_test.value_counts()"
   ]
  },
  {
   "cell_type": "markdown",
   "metadata": {
    "id": "7ONxpr3nIUHe"
   },
   "source": [
    "# Performing the LDA"
   ]
  },
  {
   "cell_type": "code",
   "execution_count": 18,
   "metadata": {
    "executionInfo": {
     "elapsed": 8957,
     "status": "ok",
     "timestamp": 1629979275156,
     "user": {
      "displayName": "Eddy Edzwan",
      "photoUrl": "",
      "userId": "16456239904473206545"
     },
     "user_tz": -480
    },
    "id": "iLV6qgdMIY-e"
   },
   "outputs": [],
   "source": [
    "#Training a vectorizer on the training dataset and transforming both train and test sets into vectors\n",
    "tfidf_vectorizer = TfidfVectorizer()\n",
    "\n",
    "train_text = tfidf_vectorizer.fit_transform(X_train['text_preprocessed_joined'])\n",
    "\n",
    "test_text = tfidf_vectorizer.transform(X_test['text_preprocessed_joined'])"
   ]
  },
  {
   "cell_type": "code",
   "execution_count": 37,
   "metadata": {
    "colab": {
     "base_uri": "https://localhost:8080/"
    },
    "executionInfo": {
     "elapsed": 199025,
     "status": "ok",
     "timestamp": 1629979476234,
     "user": {
      "displayName": "Eddy Edzwan",
      "photoUrl": "",
      "userId": "16456239904473206545"
     },
     "user_tz": -480
    },
    "id": "AVA5RjHhJku4",
    "outputId": "2f502de6-e93d-425b-a68e-b69d2d43bd2c"
   },
   "outputs": [
    {
     "data": {
      "text/plain": [
       "LatentDirichletAllocation(n_components=5, n_jobs=-1)"
      ]
     },
     "execution_count": 37,
     "metadata": {},
     "output_type": "execute_result"
    }
   ],
   "source": [
    "#Instantiating a LDA model (of five topics) and training on the training dataset\n",
    "lda_model = LatentDirichletAllocation(n_components=5, n_jobs=-1)\n",
    "\n",
    "lda_model.fit(train_text)"
   ]
  },
  {
   "cell_type": "code",
   "execution_count": 38,
   "metadata": {
    "colab": {
     "base_uri": "https://localhost:8080/"
    },
    "executionInfo": {
     "elapsed": 4087,
     "status": "ok",
     "timestamp": 1629979496941,
     "user": {
      "displayName": "Eddy Edzwan",
      "photoUrl": "",
      "userId": "16456239904473206545"
     },
     "user_tz": -480
    },
    "id": "7PCMjjbeKZzl",
    "outputId": "24a8123a-e4c8-4410-a19a-150a0366f509"
   },
   "outputs": [
    {
     "name": "stdout",
     "output_type": "stream",
     "text": [
      "Topic 0:\n",
      "[('galizia', 5.8172592643788095), ('caruana', 5.67263284569407), ('kfnx', 5.562898930063408), ('sechin', 3.93362455337556), ('malta', 3.7149403649802544), ('ulyukayev', 3.175633403810558), ('terrestrial', 3.1473524596983844), ('muscat', 2.9861040926771203), ('mst', 2.7612528934349805), ('wp', 2.4561834817912365)]\n",
      "Topic 1:\n",
      "[('amiri', 4.326498843080878), ('hannan', 3.3471173002494226), ('dao', 2.6287146105158476), ('osf', 2.584262461862473), ('shiva', 2.535933123418251), ('glitch', 2.4464807933760286), ('gerster', 2.2934949725811777), ('kraft', 2.252324565352845), ('outrageous', 2.228013973332815), ('battisti', 2.121379622522913)]\n",
      "Topic 2:\n",
      "[('said', 161.24183321711806), ('police', 141.60732685328696), ('government', 112.14047940850996), ('reuters', 86.18919436699689), ('party', 84.82111895063878), ('minister', 84.11623491019823), ('islamic', 72.7126895635098), ('year', 70.01384210052183), ('iraqi', 69.64972654796968), ('kurdish', 69.07680112346507)]\n",
      "Topic 3:\n",
      "[('trump', 1540.769668950144), ('said', 747.918668796456), ('republican', 602.4304371117956), ('president', 554.0780439992582), ('clinton', 544.5224887544366), ('would', 480.4409831689125), ('obama', 473.1572266484557), ('state', 459.49710649509797), ('house', 436.4285779379555), ('people', 419.35586420248626)]\n",
      "Topic 4:\n",
      "[('said', 290.77932212271287), ('korea', 229.28290624046136), ('china', 210.4545189961347), ('north', 207.9482994522549), ('iran', 176.9994884586211), ('state', 172.679341388356), ('united', 164.73027101228428), ('nuclear', 164.1479557061554), ('reuters', 151.52664029813909), ('minister', 150.00838552532707)]\n"
     ]
    }
   ],
   "source": [
    "#Defining a function to print the top 10 words in the two topics\n",
    "\n",
    "def print_topics(model, vectorizer):\n",
    "    for idx, topic in enumerate(model.components_):\n",
    "        print(\"Topic %d:\" % (idx))\n",
    "        print([(vectorizer.get_feature_names()[i], topic[i])\n",
    "                        for i in topic.argsort()[:-10 - 1:-1]])\n",
    "        \n",
    "\n",
    "print_topics(lda_model, tfidf_vectorizer)"
   ]
  },
  {
   "cell_type": "code",
   "execution_count": null,
   "metadata": {
    "colab": {
     "base_uri": "https://localhost:8080/"
    },
    "executionInfo": {
     "elapsed": 431,
     "status": "ok",
     "timestamp": 1629810947763,
     "user": {
      "displayName": "Eddy Edzwan",
      "photoUrl": "",
      "userId": "16456239904473206545"
     },
     "user_tz": -480
    },
    "id": "C-_8AImvPQQ-",
    "outputId": "a00cce16-f47e-428f-b28a-2ab2d9c62226"
   },
   "outputs": [
    {
     "data": {
      "text/plain": [
       "array([[62628, 40524, 34987, ..., 35291, 11506, 70060],\n",
       "       [35761, 26626, 31676, ..., 58247, 64923, 76668]])"
      ]
     },
     "execution_count": 50,
     "metadata": {},
     "output_type": "execute_result"
    }
   ],
   "source": [
    "lda_model.components_.argsort()"
   ]
  },
  {
   "cell_type": "code",
   "execution_count": 19,
   "metadata": {
    "colab": {
     "base_uri": "https://localhost:8080/"
    },
    "executionInfo": {
     "elapsed": 5607,
     "status": "ok",
     "timestamp": 1629979510501,
     "user": {
      "displayName": "Eddy Edzwan",
      "photoUrl": "",
      "userId": "16456239904473206545"
     },
     "user_tz": -480
    },
    "id": "3kTMBg7jPa70",
    "outputId": "c9fe63fd-a6a9-46d9-e182-b25ab0ee9acd"
   },
   "outputs": [
    {
     "data": {
      "text/plain": [
       "array([[0.01768716, 0.01757129, 0.0176321 , 0.92886555, 0.0182439 ],\n",
       "       [0.01246697, 0.01213702, 0.01213959, 0.38480958, 0.57844684],\n",
       "       [0.09718894, 0.01989481, 0.02102951, 0.63221715, 0.22966958],\n",
       "       ...,\n",
       "       [0.01918692, 0.01902621, 0.01904872, 0.01943104, 0.92330711],\n",
       "       [0.016679  , 0.01651272, 0.01650796, 0.93320311, 0.01709721],\n",
       "       [0.022845  , 0.02247613, 0.02253883, 0.90928386, 0.02285617]])"
      ]
     },
     "execution_count": 19,
     "metadata": {},
     "output_type": "execute_result"
    }
   ],
   "source": [
    "lda_model.transform(test_text)"
   ]
  },
  {
   "cell_type": "code",
   "execution_count": 39,
   "metadata": {
    "colab": {
     "base_uri": "https://localhost:8080/"
    },
    "executionInfo": {
     "elapsed": 5451,
     "status": "ok",
     "timestamp": 1629979672122,
     "user": {
      "displayName": "Eddy Edzwan",
      "photoUrl": "",
      "userId": "16456239904473206545"
     },
     "user_tz": -480
    },
    "id": "l4XHcQ7RQ-NQ",
    "outputId": "9436b7e1-6e0b-4e42-b9ff-4b83a8479090"
   },
   "outputs": [
    {
     "data": {
      "text/plain": [
       "13470"
      ]
     },
     "execution_count": 39,
     "metadata": {},
     "output_type": "execute_result"
    }
   ],
   "source": [
    "preds = []\n",
    "\n",
    "for item in lda_model.transform(test_text):\n",
    "    if item[0] > 0.5:\n",
    "        preds.append(0)\n",
    "    elif item[1] > 0.5:\n",
    "        preds.append(1)\n",
    "    elif item[2] > 0.5:\n",
    "        preds.append(2)\n",
    "    elif item[3] > 0.5:\n",
    "        preds.append(3)\n",
    "    else:\n",
    "        preds.append(4)\n",
    "\n",
    "len(preds)"
   ]
  },
  {
   "cell_type": "code",
   "execution_count": 40,
   "metadata": {
    "colab": {
     "base_uri": "https://localhost:8080/",
     "height": 265
    },
    "executionInfo": {
     "elapsed": 404,
     "status": "ok",
     "timestamp": 1629979764276,
     "user": {
      "displayName": "Eddy Edzwan",
      "photoUrl": "",
      "userId": "16456239904473206545"
     },
     "user_tz": -480
    },
    "id": "i9aGT34zTi6s",
    "outputId": "5babbaab-504c-4515-cb1d-49a8e1acc801"
   },
   "outputs": [
    {
     "data": {
      "image/png": "[encoded data removed]",
      "text/plain": [
       "<Figure size 432x288 with 1 Axes>"
      ]
     },
     "metadata": {
      "needs_background": "light"
     },
     "output_type": "display_data"
    }
   ],
   "source": [
    "plt.hist(preds, bins=range(0,5));"
   ]
  },
  {
   "cell_type": "code",
   "execution_count": 41,
   "metadata": {
    "colab": {
     "base_uri": "https://localhost:8080/"
    },
    "executionInfo": {
     "elapsed": 216053,
     "status": "ok",
     "timestamp": 1629980136887,
     "user": {
      "displayName": "Eddy Edzwan",
      "photoUrl": "",
      "userId": "16456239904473206545"
     },
     "user_tz": -480
    },
    "id": "dRiObzImXyG9",
    "outputId": "9f584de0-bbf4-4557-9275-738aa8191ac7"
   },
   "outputs": [
    {
     "data": {
      "text/plain": [
       "LatentDirichletAllocation(n_jobs=-1)"
      ]
     },
     "execution_count": 41,
     "metadata": {},
     "output_type": "execute_result"
    }
   ],
   "source": [
    "#Instantiating a LDA model (of ten topics) and training on the training dataset\n",
    "lda_model = LatentDirichletAllocation(n_components=10, n_jobs=-1)\n",
    "\n",
    "lda_model.fit(train_text)"
   ]
  },
  {
   "cell_type": "code",
   "execution_count": 37,
   "metadata": {
    "colab": {
     "base_uri": "https://localhost:8080/"
    },
    "executionInfo": {
     "elapsed": 376,
     "status": "ok",
     "timestamp": 1629981241787,
     "user": {
      "displayName": "Eddy Edzwan",
      "photoUrl": "",
      "userId": "16456239904473206545"
     },
     "user_tz": -480
    },
    "id": "74zO5wwFc8ky",
    "outputId": "721d7ba6-74fc-438b-a8f0-ce27e0915d9f"
   },
   "outputs": [
    {
     "data": {
      "text/plain": [
       "array([[0.10000002, 0.10000003, 0.10000003, ..., 0.10000001, 0.10000004,\n",
       "        0.10000002],\n",
       "       [0.10000003, 0.10000003, 0.18079095, ..., 0.10000001, 0.10000004,\n",
       "        0.10000002],\n",
       "       [0.10035979, 0.10061161, 0.100394  , ..., 0.1       , 0.21888061,\n",
       "        0.17168015],\n",
       "       ...,\n",
       "       [0.10106966, 0.10000002, 0.10000002, ..., 0.10006641, 0.10000003,\n",
       "        0.10000002],\n",
       "       [0.10000346, 0.10000003, 0.10000003, ..., 0.10000001, 0.10000004,\n",
       "        0.10000002],\n",
       "       [0.38102683, 0.32114437, 0.1       , ..., 0.1       , 0.10000001,\n",
       "        0.1       ]])"
      ]
     },
     "execution_count": 37,
     "metadata": {},
     "output_type": "execute_result"
    }
   ],
   "source": [
    "lda_model.components_"
   ]
  },
  {
   "cell_type": "code",
   "execution_count": 42,
   "metadata": {
    "colab": {
     "base_uri": "https://localhost:8080/"
    },
    "executionInfo": {
     "elapsed": 7469,
     "status": "ok",
     "timestamp": 1629981096034,
     "user": {
      "displayName": "Eddy Edzwan",
      "photoUrl": "",
      "userId": "16456239904473206545"
     },
     "user_tz": -480
    },
    "id": "sObxcjlNbLwR",
    "outputId": "d86038a7-a640-4121-eb87-8ce69bf437f2"
   },
   "outputs": [
    {
     "name": "stdout",
     "output_type": "stream",
     "text": [
      "Topic 0:\n",
      "[('mugabe', 43.53156887371234), ('ireland', 32.421442218680454), ('zimbabwe', 26.813252122454006), ('mnangagwa', 19.942383203137616), ('irish', 19.14771885475568), ('harare', 17.56827834842719), ('barnier', 13.748504860549161), ('zanu', 12.404726217938867), ('pf', 12.314455269211324), ('babis', 11.663553134480303)]\n",
      "Topic 1:\n",
      "[('catalan', 47.488555513658234), ('spain', 41.79406135511129), ('catalonia', 41.35098131221898), ('madrid', 34.58405505522108), ('puigdemont', 29.608860392803717), ('spanish', 25.513002720026588), ('zuma', 20.220111453802435), ('rajoy', 19.154244009527297), ('independence', 17.83602769374932), ('barcelona', 15.643395134103692)]\n",
      "Topic 2:\n",
      "[('korea', 132.9155142598136), ('north', 99.63559798165866), ('korean', 75.39118319049517), ('china', 47.71577466337301), ('japan', 40.173413026322464), ('south', 36.624577609955104), ('taiwan', 36.614225570914535), ('missile', 30.8824338958306), ('kim', 30.461640268221778), ('pyongyang', 30.176079818163323)]\n",
      "Topic 3:\n",
      "[('boiler', 49.007109795643785), ('acr', 42.58005421136932), ('pm', 29.869069350102215), ('room', 28.355250919181383), ('edt', 25.640746403978138), ('radio', 22.803131103227535), ('est', 22.275708813274285), ('join', 21.847252933468305), ('broadcast', 21.14986973198363), ('episode', 18.15138731907321)]\n",
      "Topic 4:\n",
      "[('odinga', 17.746011653857224), ('kenyatta', 14.920480671447644), ('kenya', 9.95298459772842), ('nairobi', 9.819296547433828), ('serbia', 6.109550558580094), ('kenyan', 5.824693258843483), ('serb', 5.7574022700552145), ('uhuru', 5.669680121740164), ('bosnian', 5.659742990339115), ('raila', 5.59060562961975)]\n",
      "Topic 5:\n",
      "[('trump', 1314.3287275781006), ('clinton', 538.2383064976646), ('said', 501.638177915016), ('republican', 439.7563884648998), ('president', 416.5706200633517), ('people', 387.94396059166525), ('obama', 377.90098844127084), ('hillary', 354.9068332789449), ('one', 333.88294154331055), ('state', 320.86458016461086)]\n",
      "Topic 6:\n",
      "[('crowder', 5.805709282028976), ('warmbier', 4.37973853573609), ('png', 4.210959162605502), ('kerimov', 4.204087447929245), ('calderon', 3.9914638038038963), ('gianforte', 3.4485606413412775), ('steyer', 3.089976958094087), ('otto', 2.950876479380526), ('ryb', 2.945922743707177), ('toobin', 2.480200947888679)]\n",
      "Topic 7:\n",
      "[('www', 23.654369141274984), ('http', 22.766821189937044), ('fjs', 20.6223567543108), ('youtube', 20.138940428388743), ('watch', 17.800658736395985), ('com', 16.462366500626697), ('id', 15.890099386728146), ('cdata', 10.587550649096436), ('youtu', 7.82607977510735), ('insertbefore', 7.221205787868972)]\n",
      "Topic 8:\n",
      "[('said', 697.8407883993882), ('state', 369.0406166207228), ('reuters', 347.71386343095253), ('trump', 310.5529427432633), ('government', 282.15108219404675), ('would', 277.72641178599554), ('president', 275.60911280800394), ('united', 255.11803433398543), ('minister', 231.5179077889785), ('tax', 230.00339838677053)]\n",
      "Topic 9:\n",
      "[('nasralla', 8.905882572264415), ('kiir', 6.8229660991904355), ('hernandez', 6.273651642196372), ('pdvsa', 5.71228304342543), ('paddock', 5.395006782125078), ('shafik', 4.672038323420175), ('morawiecki', 4.334722538937501), ('ucla', 4.191105082310079), ('tegucigalpa', 3.8977261205993936), ('sudanese', 3.8697776911735606)]\n"
     ]
    }
   ],
   "source": [
    "print_topics(lda_model, tfidf_vectorizer)"
   ]
  },
  {
   "cell_type": "code",
   "execution_count": 43,
   "metadata": {
    "colab": {
     "base_uri": "https://localhost:8080/"
    },
    "executionInfo": {
     "elapsed": 6306,
     "status": "ok",
     "timestamp": 1629981032066,
     "user": {
      "displayName": "Eddy Edzwan",
      "photoUrl": "",
      "userId": "16456239904473206545"
     },
     "user_tz": -480
    },
    "id": "WlNFlDLqX83m",
    "outputId": "1bbf90bd-eb2d-465a-c3b5-0e69d35ca8a5"
   },
   "outputs": [
    {
     "data": {
      "text/plain": [
       "13470"
      ]
     },
     "execution_count": 43,
     "metadata": {},
     "output_type": "execute_result"
    }
   ],
   "source": [
    "preds = []\n",
    "\n",
    "for item in lda_model.transform(test_text):\n",
    "  for id, prob in enumerate(item):\n",
    "    if prob == max(item):\n",
    "      preds.append(id)\n",
    "      break\n",
    "\n",
    "len(preds)"
   ]
  },
  {
   "cell_type": "code",
   "execution_count": 44,
   "metadata": {
    "colab": {
     "base_uri": "https://localhost:8080/",
     "height": 265
    },
    "executionInfo": {
     "elapsed": 547,
     "status": "ok",
     "timestamp": 1629981132726,
     "user": {
      "displayName": "Eddy Edzwan",
      "photoUrl": "",
      "userId": "16456239904473206545"
     },
     "user_tz": -480
    },
    "id": "khJahvFZcP_m",
    "outputId": "ae1600c9-eedb-42ba-8f3c-199756e05015"
   },
   "outputs": [
    {
     "data": {
      "image/png": "[encoded data removed]",
      "text/plain": [
       "<Figure size 432x288 with 1 Axes>"
      ]
     },
     "metadata": {
      "needs_background": "light"
     },
     "output_type": "display_data"
    }
   ],
   "source": [
    "plt.hist(preds,bins=range(0,10));"
   ]
  },
  {
   "cell_type": "code",
   "execution_count": 45,
   "metadata": {
    "colab": {
     "base_uri": "https://localhost:8080/"
    },
    "executionInfo": {
     "elapsed": 520,
     "status": "ok",
     "timestamp": 1629981462172,
     "user": {
      "displayName": "Eddy Edzwan",
      "photoUrl": "",
      "userId": "16456239904473206545"
     },
     "user_tz": -480
    },
    "id": "mgva9qsYdkTL",
    "outputId": "e3aafa54-b671-4083-c1b7-4188156c4fe1"
   },
   "outputs": [
    {
     "data": {
      "text/plain": [
       "13470"
      ]
     },
     "execution_count": 45,
     "metadata": {},
     "output_type": "execute_result"
    }
   ],
   "source": [
    "preds_transformed = []\n",
    "\n",
    "for pred in preds:\n",
    "  if pred == 5:\n",
    "    preds_transformed.append(1)\n",
    "  else:\n",
    "    preds_transformed.append(0)\n",
    "\n",
    "len(preds_transformed)"
   ]
  },
  {
   "cell_type": "markdown",
   "metadata": {},
   "source": [
    "# Dimensionality Reduction using TSNE and Plotting"
   ]
  },
  {
   "cell_type": "code",
   "execution_count": 20,
   "metadata": {},
   "outputs": [],
   "source": [
    "from sklearn.manifold import TSNE"
   ]
  },
  {
   "cell_type": "code",
   "execution_count": 21,
   "metadata": {},
   "outputs": [
    {
     "data": {
      "text/plain": [
       "(31428, 2)"
      ]
     },
     "execution_count": 21,
     "metadata": {},
     "output_type": "execute_result"
    }
   ],
   "source": [
    "tsne = TSNE(n_components=2)\n",
    "\n",
    "reduced_dims = tsne.fit_transform(train_text)\n",
    "\n",
    "reduced_dims.shape"
   ]
  },
  {
   "cell_type": "code",
   "execution_count": 26,
   "metadata": {},
   "outputs": [
    {
     "data": {
      "text/plain": [
       "array([[ 12.112073 ,  27.873419 ],\n",
       "       [-18.559587 , -28.352674 ],\n",
       "       [-34.11937  ,  10.654876 ],\n",
       "       ...,\n",
       "       [ -6.1111927,  -3.7353327],\n",
       "       [-12.34309  ,  24.093712 ],\n",
       "       [-36.28389  , -22.883684 ]], dtype=float32)"
      ]
     },
     "execution_count": 26,
     "metadata": {},
     "output_type": "execute_result"
    }
   ],
   "source": [
    "reduced_dims"
   ]
  },
  {
   "cell_type": "code",
   "execution_count": 25,
   "metadata": {},
   "outputs": [
    {
     "data": {
      "text/plain": [
       "array([ 12.112073 , -18.559587 , -34.11937  , ...,  -6.1111927,\n",
       "       -12.34309  , -36.28389  ], dtype=float32)"
      ]
     },
     "execution_count": 25,
     "metadata": {},
     "output_type": "execute_result"
    }
   ],
   "source": [
    "reduced_dims[:, 0]"
   ]
  },
  {
   "cell_type": "code",
   "execution_count": 36,
   "metadata": {},
   "outputs": [
    {
     "data": {
      "text/plain": [
       "<matplotlib.collections.PathCollection at 0x7f0720dc1400>"
      ]
     },
     "execution_count": 36,
     "metadata": {},
     "output_type": "execute_result"
    },
    {
     "data": {
      "image/png": "[encoded data removed]",
      "text/plain": [
       "<Figure size 432x288 with 1 Axes>"
      ]
     },
     "metadata": {
      "needs_background": "light"
     },
     "output_type": "display_data"
    }
   ],
   "source": [
    "plt.scatter(reduced_dims[:, 0], reduced_dims[:, 1], c=y_train)"
   ]
  },
  {
   "cell_type": "code",
   "execution_count": 22,
   "metadata": {},
   "outputs": [
    {
     "data": {
      "text/plain": [
       "[<matplotlib.lines.Line2D at 0x7f0723392be0>]"
      ]
     },
     "execution_count": 22,
     "metadata": {},
     "output_type": "execute_result"
    },
    {
     "data": {
      "image/png": "[encoded data removed]",
      "text/plain": [
       "<Figure size 432x288 with 1 Axes>"
      ]
     },
     "metadata": {
      "needs_background": "light"
     },
     "output_type": "display_data"
    }
   ],
   "source": [
    "plt.plot(reduced_dims[0], reduced_dims[1])"
   ]
  },
  {
   "cell_type": "markdown",
   "metadata": {
    "id": "cflW2QQoXrOj"
   },
   "source": [
    "# Conclusion"
   ]
  },
  {
   "cell_type": "code",
   "execution_count": 46,
   "metadata": {
    "executionInfo": {
     "elapsed": 504,
     "status": "ok",
     "timestamp": 1629981468753,
     "user": {
      "displayName": "Eddy Edzwan",
      "photoUrl": "",
      "userId": "16456239904473206545"
     },
     "user_tz": -480
    },
    "id": "aFCBojIVRZNI"
   },
   "outputs": [],
   "source": [
    "from sklearn.metrics import recall_score, precision_score, accuracy_score"
   ]
  },
  {
   "cell_type": "code",
   "execution_count": 47,
   "metadata": {
    "colab": {
     "base_uri": "https://localhost:8080/"
    },
    "executionInfo": {
     "elapsed": 379,
     "status": "ok",
     "timestamp": 1629981477683,
     "user": {
      "displayName": "Eddy Edzwan",
      "photoUrl": "",
      "userId": "16456239904473206545"
     },
     "user_tz": -480
    },
    "id": "DzvsmTrlRcty",
    "outputId": "f7e79b87-c7f1-4312-90b5-1fc816bac1b7"
   },
   "outputs": [
    {
     "name": "stdout",
     "output_type": "stream",
     "text": [
      "The recall of the LDA model trained is 0.9153529328220423\n",
      "The precision of the LDA model trained is 0.7686344663088849\n",
      "The accuracy of the LDA model trained is 0.8117297698589458\n"
     ]
    }
   ],
   "source": [
    "print(f'The recall of the LDA model trained is {recall_score(y_test, preds_transformed)}')\n",
    "print(f'The precision of the LDA model trained is {precision_score(y_test, preds_transformed)}')\n",
    "print(f'The accuracy of the LDA model trained is {accuracy_score(y_test, preds_transformed)}')"
   ]
  },
  {
   "cell_type": "markdown",
   "metadata": {
    "id": "MBGI8PYSd-iN"
   },
   "source": [
    "<text> It is alarming to find that the scores are so high from an unsupervised LDA model designed solely on topic modelling. This tells us that the data is someone skewed, with distinguishable topics being mentioned in fake articles, allowing for the model to know that these are fake. However, in real world application, this is not usually the case - two articles can be talking about the same topic but one is fake and the other is real. Therefore, we conclude to put aside the Bisaillon dataset for now while we build our model with new information.  </text>"
   ]
  }
 ],
 "metadata": {
  "accelerator": "GPU",
  "colab": {
   "authorship_tag": "ABX9TyM03rBCF+OxACeESaPReHOZ",
   "collapsed_sections": [],
   "name": "LDA_Bisaillon.ipynb",
   "provenance": [],
   "toc_visible": true
  },
  "kernelspec": {
   "display_name": "Python 3 (ipykernel)",
   "language": "python",
   "name": "python3"
  },
  "language_info": {
   "codemirror_mode": {
    "name": "ipython",
    "version": 3
   },
   "file_extension": ".py",
   "mimetype": "text/x-python",
   "name": "python",
   "nbconvert_exporter": "python",
   "pygments_lexer": "ipython3",
   "version": "3.8.6"
  },
  "toc": {
   "base_numbering": 1,
   "nav_menu": {},
   "number_sections": true,
   "sideBar": true,
   "skip_h1_title": false,
   "title_cell": "Table of Contents",
   "title_sidebar": "Contents",
   "toc_cell": false,
   "toc_position": {},
   "toc_section_display": true,
   "toc_window_display": false
  }
 },
 "nbformat": 4,
 "nbformat_minor": 1
}
