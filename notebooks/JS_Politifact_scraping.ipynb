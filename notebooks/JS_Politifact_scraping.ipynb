{
 "cells": [
  {
   "cell_type": "markdown",
   "id": "a7150637",
   "metadata": {},
   "source": [
    "# Scraping - `Politifact`"
   ]
  },
  {
   "cell_type": "code",
   "execution_count": 170,
   "id": "6ac0a790",
   "metadata": {},
   "outputs": [],
   "source": [
    "from bs4 import BeautifulSoup\n",
    "\n",
    "import numpy as np\n",
    "import pandas as pd\n",
    "import requests\n",
    "import urllib.request\n",
    "import time"
   ]
  },
  {
   "cell_type": "markdown",
   "id": "5629b6ad",
   "metadata": {},
   "source": [
    "## Create a function to scrape the site"
   ]
  },
  {
   "cell_type": "code",
   "execution_count": 171,
   "id": "579586e9",
   "metadata": {},
   "outputs": [],
   "source": [
    "def scrape_website(page_number):\n",
    "    \n",
    "    page_num = str(page_number)\n",
    "    URL = 'https://www.politifact.com/factchecks/list/?page='+page_num\n",
    "    webpage = requests.get(URL)\n",
    "    \n",
    "    #time.sleep(3)\n",
    "    soup = BeautifulSoup(webpage.text, \"html.parser\") #Parse the text from the website\n",
    "    \n",
    "    #Get the tags and it's class\n",
    "    statement_footer =  soup.find_all('footer',attrs={'class':'m-statement__footer'})  #Get the tag and it's class\n",
    "    statement_quote = soup.find_all('div', attrs={'class':'m-statement__quote'}) #Get the tag and it's class\n",
    "    statement_meta = soup.find_all('div', attrs={'class':'m-statement__meta'})#Get the tag and it's class\n",
    "    target = soup.find_all('div', attrs={'class':'m-statement__meter'}) #Get the tag and it's class\n",
    "    \n",
    "    print(f\"#### Scraping page: {page_number} ####\")\n",
    "    \n",
    "    #loop through the footer class m-statement__footer to get the date and author\n",
    "    for i in statement_footer:\n",
    "        link1 = i.text.strip()\n",
    "        name_and_date = link1.split()\n",
    "        if len(name_and_date) < 7:\n",
    "            full_name = np.nan\n",
    "            date = np.nan\n",
    "        else: \n",
    "            first_name = name_and_date[1]\n",
    "            last_name = name_and_date[2]\n",
    "            full_name = first_name + ' ' + last_name\n",
    "            month = name_and_date[4]\n",
    "            day = name_and_date[5]\n",
    "            year = name_and_date[6]\n",
    "            date = month + ' ' + day + ' ' + year\n",
    "        dates.append(date)\n",
    "        authors.append(full_name)\n",
    "    \n",
    "    #Loop through the div m-statement__quote to get the link\n",
    "    for i in statement_quote:\n",
    "        link2 = i.find_all('a')\n",
    "        statements.append(link2[0].text.strip())\n",
    "    \n",
    "    #Loop through the div m-statement__meta to get the source\n",
    "    for i in statement_meta:\n",
    "        link3 = i.find_all('a') #Source\n",
    "        source_text = link3[0].text.strip()\n",
    "        sources.append(source_text)\n",
    "        \n",
    "    #Loop through the target or the div m-statement__meter to get the facts about the statement (True or False)\n",
    "    for i in target:\n",
    "        fact = i.find('div', attrs={'class':'c-image'}).find('img').get('alt')\n",
    "        targets.append(fact)"
   ]
  },
  {
   "cell_type": "markdown",
   "id": "5cda79eb",
   "metadata": {},
   "source": [
    "## Loop through `n-1` webpages to scrape the data"
   ]
  },
  {
   "cell_type": "code",
   "execution_count": 176,
   "id": "25e87d76",
   "metadata": {},
   "outputs": [
    {
     "name": "stdout",
     "output_type": "stream",
     "text": [
      "#### Scarping page: 1 ####\n",
      "#### Scarping page: 2 ####\n",
      "#### Scarping page: 3 ####\n",
      "#### Scarping page: 4 ####\n",
      "#### Scarping page: 5 ####\n",
      "#### Scarping page: 6 ####\n",
      "#### Scarping page: 7 ####\n",
      "#### Scarping page: 8 ####\n",
      "#### Scarping page: 9 ####\n",
      "#### Scarping page: 10 ####\n",
      "#### Scarping page: 11 ####\n",
      "#### Scarping page: 12 ####\n",
      "#### Scarping page: 13 ####\n",
      "#### Scarping page: 14 ####\n",
      "#### Scarping page: 15 ####\n",
      "#### Scarping page: 16 ####\n",
      "#### Scarping page: 17 ####\n",
      "#### Scarping page: 18 ####\n",
      "#### Scarping page: 19 ####\n",
      "#### Scarping page: 20 ####\n",
      "#### Scarping page: 21 ####\n",
      "#### Scarping page: 22 ####\n",
      "#### Scarping page: 23 ####\n",
      "#### Scarping page: 24 ####\n",
      "#### Scarping page: 25 ####\n",
      "#### Scarping page: 26 ####\n",
      "#### Scarping page: 27 ####\n",
      "#### Scarping page: 28 ####\n",
      "#### Scarping page: 29 ####\n",
      "#### Scarping page: 30 ####\n",
      "#### Scarping page: 31 ####\n",
      "#### Scarping page: 32 ####\n",
      "#### Scarping page: 33 ####\n",
      "#### Scarping page: 34 ####\n",
      "#### Scarping page: 35 ####\n",
      "#### Scarping page: 36 ####\n",
      "#### Scarping page: 37 ####\n",
      "#### Scarping page: 38 ####\n",
      "#### Scarping page: 39 ####\n",
      "#### Scarping page: 40 ####\n",
      "#### Scarping page: 41 ####\n",
      "#### Scarping page: 42 ####\n",
      "#### Scarping page: 43 ####\n",
      "#### Scarping page: 44 ####\n",
      "#### Scarping page: 45 ####\n",
      "#### Scarping page: 46 ####\n",
      "#### Scarping page: 47 ####\n",
      "#### Scarping page: 48 ####\n",
      "#### Scarping page: 49 ####\n",
      "#### Scarping page: 50 ####\n",
      "#### Scarping page: 51 ####\n",
      "#### Scarping page: 52 ####\n",
      "#### Scarping page: 53 ####\n",
      "#### Scarping page: 54 ####\n",
      "#### Scarping page: 55 ####\n",
      "#### Scarping page: 56 ####\n",
      "#### Scarping page: 57 ####\n",
      "#### Scarping page: 58 ####\n",
      "#### Scarping page: 59 ####\n",
      "#### Scarping page: 60 ####\n",
      "#### Scarping page: 61 ####\n",
      "#### Scarping page: 62 ####\n",
      "#### Scarping page: 63 ####\n",
      "#### Scarping page: 64 ####\n",
      "#### Scarping page: 65 ####\n",
      "#### Scarping page: 66 ####\n",
      "#### Scarping page: 67 ####\n",
      "#### Scarping page: 68 ####\n",
      "#### Scarping page: 69 ####\n",
      "#### Scarping page: 70 ####\n",
      "#### Scarping page: 71 ####\n",
      "#### Scarping page: 72 ####\n",
      "#### Scarping page: 73 ####\n",
      "#### Scarping page: 74 ####\n",
      "#### Scarping page: 75 ####\n",
      "#### Scarping page: 76 ####\n",
      "#### Scarping page: 77 ####\n",
      "#### Scarping page: 78 ####\n",
      "#### Scarping page: 79 ####\n",
      "#### Scarping page: 80 ####\n",
      "#### Scarping page: 81 ####\n",
      "#### Scarping page: 82 ####\n",
      "#### Scarping page: 83 ####\n",
      "#### Scarping page: 84 ####\n",
      "#### Scarping page: 85 ####\n",
      "#### Scarping page: 86 ####\n",
      "#### Scarping page: 87 ####\n",
      "#### Scarping page: 88 ####\n",
      "#### Scarping page: 89 ####\n",
      "#### Scarping page: 90 ####\n",
      "#### Scarping page: 91 ####\n",
      "#### Scarping page: 92 ####\n",
      "#### Scarping page: 93 ####\n",
      "#### Scarping page: 94 ####\n",
      "#### Scarping page: 95 ####\n",
      "#### Scarping page: 96 ####\n",
      "#### Scarping page: 97 ####\n",
      "#### Scarping page: 98 ####\n",
      "#### Scarping page: 99 ####\n",
      "#### Scarping page: 100 ####\n"
     ]
    }
   ],
   "source": [
    "authors = []\n",
    "dates = []\n",
    "statements = []\n",
    "sources = []\n",
    "targets = []\n",
    "\n",
    "start = 1\n",
    "end = 101\n",
    "for i in range(start, end):\n",
    "    scrape_website(i)"
   ]
  },
  {
   "cell_type": "code",
   "execution_count": 177,
   "id": "5ad3b6a0",
   "metadata": {},
   "outputs": [
    {
     "name": "stdout",
     "output_type": "stream",
     "text": [
      "--------------------------------------------------------------------------------\n",
      "3000\n",
      "3000\n",
      "3000\n",
      "3000\n",
      "3000\n",
      "--------------------------------------------------------------------------------\n"
     ]
    }
   ],
   "source": [
    "print('-'*80)\n",
    "print(len(authors))\n",
    "print(len(statements))\n",
    "print(len(sources))\n",
    "print(len(dates))\n",
    "print(len(targets))\n",
    "print('-'*80)"
   ]
  },
  {
   "cell_type": "markdown",
   "id": "0a6a4492",
   "metadata": {},
   "source": [
    "## Create the `DataFrame`"
   ]
  },
  {
   "cell_type": "code",
   "execution_count": 178,
   "id": "d4daed69",
   "metadata": {},
   "outputs": [
    {
     "name": "stdout",
     "output_type": "stream",
     "text": [
      "--------------------------------------------------------------------------------\n",
      "data shape: (3000, 5)\n",
      "--------------------------------------------------------------------------------\n"
     ]
    }
   ],
   "source": [
    "data = pd.DataFrame(columns = ['author',  'statement', 'source', 'date', 'target']) \n",
    "data['author'] = authors\n",
    "data['statement'] = statements\n",
    "data['source'] = sources\n",
    "data['date'] = dates\n",
    "data['target'] = targets\n",
    "\n",
    "print('-'*80)\n",
    "print(f\"data shape: {data.shape}\")\n",
    "print('-'*80)"
   ]
  },
  {
   "cell_type": "code",
   "execution_count": 175,
   "id": "c61145c2",
   "metadata": {},
   "outputs": [
    {
     "data": {
      "text/html": [
       "<div>\n",
       "<style scoped>\n",
       "    .dataframe tbody tr th:only-of-type {\n",
       "        vertical-align: middle;\n",
       "    }\n",
       "\n",
       "    .dataframe tbody tr th {\n",
       "        vertical-align: top;\n",
       "    }\n",
       "\n",
       "    .dataframe thead th {\n",
       "        text-align: right;\n",
       "    }\n",
       "</style>\n",
       "<table border=\"1\" class=\"dataframe\">\n",
       "  <thead>\n",
       "    <tr style=\"text-align: right;\">\n",
       "      <th></th>\n",
       "      <th>author</th>\n",
       "      <th>statement</th>\n",
       "      <th>source</th>\n",
       "      <th>date</th>\n",
       "      <th>target</th>\n",
       "    </tr>\n",
       "  </thead>\n",
       "  <tbody>\n",
       "    <tr>\n",
       "      <th>0</th>\n",
       "      <td>Emily Tian</td>\n",
       "      <td>“Washington public school forces unvaccinated ...</td>\n",
       "      <td>Facebook posts</td>\n",
       "      <td>August 25, 2021</td>\n",
       "      <td>half-true</td>\n",
       "    </tr>\n",
       "    <tr>\n",
       "      <th>1</th>\n",
       "      <td>Samantha Putterman</td>\n",
       "      <td>75 doctors in South Florida walked out in prot...</td>\n",
       "      <td>Instagram posts</td>\n",
       "      <td>August 25, 2021</td>\n",
       "      <td>false</td>\n",
       "    </tr>\n",
       "    <tr>\n",
       "      <th>2</th>\n",
       "      <td>Gabrielle Settles</td>\n",
       "      <td>“It is the vaccinated, NOT the unvaccinated, s...</td>\n",
       "      <td>Facebook posts</td>\n",
       "      <td>August 25, 2021</td>\n",
       "      <td>false</td>\n",
       "    </tr>\n",
       "    <tr>\n",
       "      <th>3</th>\n",
       "      <td>Warren Fiske</td>\n",
       "      <td>On ending Virginia's income tax.</td>\n",
       "      <td>Glenn Youngkin</td>\n",
       "      <td>August 25, 2021</td>\n",
       "      <td>half-flip</td>\n",
       "    </tr>\n",
       "    <tr>\n",
       "      <th>4</th>\n",
       "      <td>Tom Kertscher</td>\n",
       "      <td>“80% of women who have been jabbed have lost t...</td>\n",
       "      <td>Facebook posts</td>\n",
       "      <td>August 24, 2021</td>\n",
       "      <td>false</td>\n",
       "    </tr>\n",
       "  </tbody>\n",
       "</table>\n",
       "</div>"
      ],
      "text/plain": [
       "               author                                          statement  \\\n",
       "0          Emily Tian  “Washington public school forces unvaccinated ...   \n",
       "1  Samantha Putterman  75 doctors in South Florida walked out in prot...   \n",
       "2   Gabrielle Settles  “It is the vaccinated, NOT the unvaccinated, s...   \n",
       "3        Warren Fiske                   On ending Virginia's income tax.   \n",
       "4       Tom Kertscher  “80% of women who have been jabbed have lost t...   \n",
       "\n",
       "            source             date     target  \n",
       "0   Facebook posts  August 25, 2021  half-true  \n",
       "1  Instagram posts  August 25, 2021      false  \n",
       "2   Facebook posts  August 25, 2021      false  \n",
       "3   Glenn Youngkin  August 25, 2021  half-flip  \n",
       "4   Facebook posts  August 24, 2021      false  "
      ]
     },
     "execution_count": 175,
     "metadata": {},
     "output_type": "execute_result"
    }
   ],
   "source": [
    "data.head()"
   ]
  },
  {
   "cell_type": "markdown",
   "id": "c2530955",
   "metadata": {},
   "source": [
    "## `label` creation"
   ]
  },
  {
   "cell_type": "code",
   "execution_count": 147,
   "id": "3d05cfeb",
   "metadata": {},
   "outputs": [
    {
     "data": {
      "text/plain": [
       "array(['false', 'barely-true', 'pants-fire', 'half-true', 'mostly-true',\n",
       "       'true', 'full-flop', 'half-flip', 'no-flip'], dtype=object)"
      ]
     },
     "execution_count": 147,
     "metadata": {},
     "output_type": "execute_result"
    }
   ],
   "source": [
    "data['target'].unique()"
   ]
  },
  {
   "cell_type": "code",
   "execution_count": 148,
   "id": "f766ac96",
   "metadata": {},
   "outputs": [],
   "source": [
    "# TRUE – The statement is accurate and there’s nothing significant missing.\n",
    "# MOSTLY TRUE – The statement is accurate but needs clarification or additional information.\n",
    "# HALF TRUE – The statement is partially accurate but leaves out important details or takes things out of context.\n",
    "# MOSTLY FALSE – The statement contains an element of truth but ignores critical facts that would give a different impression.\n",
    "# FALSE – The statement is not accurate.\n",
    "# PANTS ON FIRE – The statement is not accurate and makes a ridiculous claim."
   ]
  },
  {
   "cell_type": "markdown",
   "id": "010e8cc4",
   "metadata": {},
   "source": [
    "### Categorical labels"
   ]
  },
  {
   "cell_type": "code",
   "execution_count": 179,
   "id": "12411c0f",
   "metadata": {},
   "outputs": [
    {
     "name": "stdout",
     "output_type": "stream",
     "text": [
      "--------------------------------------------------------------------------------\n",
      "4.0    47.566667\n",
      "5.0    17.566667\n",
      "3.0    14.266667\n",
      "2.0     9.666667\n",
      "1.0     6.400000\n",
      "0.0     4.366667\n",
      "Name: category_cat, dtype: float64\n",
      "--------------------------------------------------------------------------------\n"
     ]
    }
   ],
   "source": [
    "target_to_num_cat = {\n",
    "    'true': 0,\n",
    "    'mostly-true': 1,\n",
    "    'half-true': 2,\n",
    "    'barely-true': 3, # similar to 'mostly-false'\n",
    "    'mostly-false': 3,\n",
    "    'false': 4,\n",
    "    'pants-fire': 5,\n",
    "    'full-flop': 5 # similar to 'pants-fire'\n",
    "}\n",
    "\n",
    "data['category_cat'] = data['target'].map(target_to_num_cat)\n",
    "\n",
    "print('-'*80)\n",
    "print(data['category_cat'].value_counts()/len(data)*100)\n",
    "print('-'*80)"
   ]
  },
  {
   "cell_type": "markdown",
   "id": "f3677786",
   "metadata": {},
   "source": [
    "### Binary label"
   ]
  },
  {
   "cell_type": "code",
   "execution_count": 180,
   "id": "2cf5a2f3",
   "metadata": {},
   "outputs": [
    {
     "name": "stdout",
     "output_type": "stream",
     "text": [
      "--------------------------------------------------------------------------------\n",
      "1.0    89.066667\n",
      "0.0    10.766667\n",
      "Name: category, dtype: float64\n",
      "--------------------------------------------------------------------------------\n"
     ]
    }
   ],
   "source": [
    "target_to_num_bin = {\n",
    "    'true': 0,\n",
    "    'mostly-true': 0,\n",
    "    'half-true': 1,\n",
    "    'barely-true': 1, # similar to 'mostly-false'\n",
    "    'mostly-false': 1,\n",
    "    'false': 1,\n",
    "    'pants-fire': 1,\n",
    "    'full-flop': 1 # similar to 'pants-fire'\n",
    "}\n",
    "\n",
    "data['category'] = data['target'].map(target_to_num_bin)\n",
    "\n",
    "print('-'*80)\n",
    "print(data['category'].value_counts()/len(data)*100)\n",
    "print('-'*80)"
   ]
  },
  {
   "cell_type": "code",
   "execution_count": 181,
   "id": "3e6249c4",
   "metadata": {},
   "outputs": [
    {
     "data": {
      "text/html": [
       "<div>\n",
       "<style scoped>\n",
       "    .dataframe tbody tr th:only-of-type {\n",
       "        vertical-align: middle;\n",
       "    }\n",
       "\n",
       "    .dataframe tbody tr th {\n",
       "        vertical-align: top;\n",
       "    }\n",
       "\n",
       "    .dataframe thead th {\n",
       "        text-align: right;\n",
       "    }\n",
       "</style>\n",
       "<table border=\"1\" class=\"dataframe\">\n",
       "  <thead>\n",
       "    <tr style=\"text-align: right;\">\n",
       "      <th></th>\n",
       "      <th>author</th>\n",
       "      <th>statement</th>\n",
       "      <th>source</th>\n",
       "      <th>date</th>\n",
       "      <th>target</th>\n",
       "      <th>category_cat</th>\n",
       "      <th>category</th>\n",
       "    </tr>\n",
       "  </thead>\n",
       "  <tbody>\n",
       "    <tr>\n",
       "      <th>0</th>\n",
       "      <td>Emily Tian</td>\n",
       "      <td>“Washington public school forces unvaccinated ...</td>\n",
       "      <td>Facebook posts</td>\n",
       "      <td>August 25, 2021</td>\n",
       "      <td>half-true</td>\n",
       "      <td>2.0</td>\n",
       "      <td>1.0</td>\n",
       "    </tr>\n",
       "    <tr>\n",
       "      <th>1</th>\n",
       "      <td>Samantha Putterman</td>\n",
       "      <td>75 doctors in South Florida walked out in prot...</td>\n",
       "      <td>Instagram posts</td>\n",
       "      <td>August 25, 2021</td>\n",
       "      <td>false</td>\n",
       "      <td>4.0</td>\n",
       "      <td>1.0</td>\n",
       "    </tr>\n",
       "    <tr>\n",
       "      <th>2</th>\n",
       "      <td>Gabrielle Settles</td>\n",
       "      <td>“It is the vaccinated, NOT the unvaccinated, s...</td>\n",
       "      <td>Facebook posts</td>\n",
       "      <td>August 25, 2021</td>\n",
       "      <td>false</td>\n",
       "      <td>4.0</td>\n",
       "      <td>1.0</td>\n",
       "    </tr>\n",
       "    <tr>\n",
       "      <th>3</th>\n",
       "      <td>Warren Fiske</td>\n",
       "      <td>On ending Virginia's income tax.</td>\n",
       "      <td>Glenn Youngkin</td>\n",
       "      <td>August 25, 2021</td>\n",
       "      <td>half-flip</td>\n",
       "      <td>NaN</td>\n",
       "      <td>NaN</td>\n",
       "    </tr>\n",
       "    <tr>\n",
       "      <th>4</th>\n",
       "      <td>Tom Kertscher</td>\n",
       "      <td>“80% of women who have been jabbed have lost t...</td>\n",
       "      <td>Facebook posts</td>\n",
       "      <td>August 24, 2021</td>\n",
       "      <td>false</td>\n",
       "      <td>4.0</td>\n",
       "      <td>1.0</td>\n",
       "    </tr>\n",
       "  </tbody>\n",
       "</table>\n",
       "</div>"
      ],
      "text/plain": [
       "               author                                          statement  \\\n",
       "0          Emily Tian  “Washington public school forces unvaccinated ...   \n",
       "1  Samantha Putterman  75 doctors in South Florida walked out in prot...   \n",
       "2   Gabrielle Settles  “It is the vaccinated, NOT the unvaccinated, s...   \n",
       "3        Warren Fiske                   On ending Virginia's income tax.   \n",
       "4       Tom Kertscher  “80% of women who have been jabbed have lost t...   \n",
       "\n",
       "            source             date     target  category_cat  category  \n",
       "0   Facebook posts  August 25, 2021  half-true           2.0       1.0  \n",
       "1  Instagram posts  August 25, 2021      false           4.0       1.0  \n",
       "2   Facebook posts  August 25, 2021      false           4.0       1.0  \n",
       "3   Glenn Youngkin  August 25, 2021  half-flip           NaN       NaN  \n",
       "4   Facebook posts  August 24, 2021      false           4.0       1.0  "
      ]
     },
     "execution_count": 181,
     "metadata": {},
     "output_type": "execute_result"
    }
   ],
   "source": [
    "data.head()"
   ]
  },
  {
   "cell_type": "code",
   "execution_count": 152,
   "id": "67d4a76f",
   "metadata": {},
   "outputs": [
    {
     "data": {
      "text/plain": [
       "author          9000\n",
       "statement          0\n",
       "source             0\n",
       "date            9000\n",
       "target             0\n",
       "category_cat      22\n",
       "category          22\n",
       "dtype: int64"
      ]
     },
     "execution_count": 152,
     "metadata": {},
     "output_type": "execute_result"
    }
   ],
   "source": [
    "data.isnull().sum()"
   ]
  },
  {
   "cell_type": "code",
   "execution_count": null,
   "id": "82134a18",
   "metadata": {},
   "outputs": [],
   "source": []
  }
 ],
 "metadata": {
  "kernelspec": {
   "display_name": "Python 3 (ipykernel)",
   "language": "python",
   "name": "python3"
  },
  "language_info": {
   "codemirror_mode": {
    "name": "ipython",
    "version": 3
   },
   "file_extension": ".py",
   "mimetype": "text/x-python",
   "name": "python",
   "nbconvert_exporter": "python",
   "pygments_lexer": "ipython3",
   "version": "3.8.6"
  },
  "toc": {
   "base_numbering": 1,
   "nav_menu": {},
   "number_sections": true,
   "sideBar": true,
   "skip_h1_title": false,
   "title_cell": "Table of Contents",
   "title_sidebar": "Contents",
   "toc_cell": false,
   "toc_position": {},
   "toc_section_display": true,
   "toc_window_display": false
  },
  "varInspector": {
   "cols": {
    "lenName": 16,
    "lenType": 16,
    "lenVar": 40
   },
   "kernels_config": {
    "python": {
     "delete_cmd_postfix": "",
     "delete_cmd_prefix": "del ",
     "library": "var_list.py",
     "varRefreshCmd": "print(var_dic_list())"
    },
    "r": {
     "delete_cmd_postfix": ") ",
     "delete_cmd_prefix": "rm(",
     "library": "var_list.r",
     "varRefreshCmd": "cat(var_dic_list()) "
    }
   },
   "types_to_exclude": [
    "module",
    "function",
    "builtin_function_or_method",
    "instance",
    "_Feature"
   ],
   "window_display": false
  }
 },
 "nbformat": 4,
 "nbformat_minor": 5
}
