{
 "cells": [
  {
   "cell_type": "markdown",
   "id": "e56d214a",
   "metadata": {},
   "source": [
    "# `FakeNewsNET` dataset"
   ]
  },
  {
   "cell_type": "code",
   "execution_count": 87,
   "id": "c7ff9ad1",
   "metadata": {},
   "outputs": [],
   "source": [
    "import os\n",
    "import numpy as np\n",
    "import pandas as pd"
   ]
  },
  {
   "cell_type": "code",
   "execution_count": 88,
   "id": "560918bc",
   "metadata": {},
   "outputs": [
    {
     "name": "stdout",
     "output_type": "stream",
     "text": [
      "The autoreload extension is already loaded. To reload it, use:\n",
      "  %reload_ext autoreload\n"
     ]
    }
   ],
   "source": [
    "%load_ext autoreload\n",
    "%autoreload 2"
   ]
  },
  {
   "cell_type": "markdown",
   "id": "15960612",
   "metadata": {},
   "source": [
    "## Loading data"
   ]
  },
  {
   "cell_type": "code",
   "execution_count": 89,
   "id": "accdaca2",
   "metadata": {},
   "outputs": [],
   "source": [
    "data_path = '/Users/julienseguy/code/EddyEdzwan/StopFAIke/raw_data/fakenewsnet_dataset'\n",
    "\n",
    "dir_pol_real = os.path.join(data_path, 'politifact', 'real')\n",
    "dir_pol_fake = os.path.join(data_path, 'politifact', 'fake')\n",
    "dir_gos_real = os.path.join(data_path, 'gossipcop', 'real')\n",
    "dir_gos_fake = os.path.join(data_path, 'gossipcop', 'fake')"
   ]
  },
  {
   "cell_type": "code",
   "execution_count": 90,
   "id": "c4235eb0",
   "metadata": {},
   "outputs": [
    {
     "name": "stdout",
     "output_type": "stream",
     "text": [
      "--------------------------------------------------------------------------------\n",
      "pol_real_df shape: (559, 6)\n",
      "pol_fake_df shape: (403, 6)\n",
      "gos_real_df shape: (11106, 6)\n",
      "gos_fake_df shape: (4898, 6)\n",
      "--------------------------------------------------------------------------------\n"
     ]
    }
   ],
   "source": [
    "from StopFAIke.data import get_data\n",
    "\n",
    "pol_real_df = get_data(dir_pol_real)\n",
    "pol_fake_df = get_data(dir_pol_fake)\n",
    "gos_real_df = get_data(dir_gos_real)\n",
    "gos_fake_df = get_data(dir_gos_fake)\n",
    "\n",
    "print('-'*80)\n",
    "print(f\"pol_real_df shape: {pol_real_df.shape}\")\n",
    "print(f\"pol_fake_df shape: {pol_fake_df.shape}\")\n",
    "print(f\"gos_real_df shape: {gos_real_df.shape}\")\n",
    "print(f\"gos_fake_df shape: {gos_fake_df.shape}\")\n",
    "print('-'*80)"
   ]
  },
  {
   "cell_type": "code",
   "execution_count": 91,
   "id": "12ea27ed",
   "metadata": {},
   "outputs": [
    {
     "data": {
      "text/html": [
       "<div>\n",
       "<style scoped>\n",
       "    .dataframe tbody tr th:only-of-type {\n",
       "        vertical-align: middle;\n",
       "    }\n",
       "\n",
       "    .dataframe tbody tr th {\n",
       "        vertical-align: top;\n",
       "    }\n",
       "\n",
       "    .dataframe thead th {\n",
       "        text-align: right;\n",
       "    }\n",
       "</style>\n",
       "<table border=\"1\" class=\"dataframe\">\n",
       "  <thead>\n",
       "    <tr style=\"text-align: right;\">\n",
       "      <th></th>\n",
       "      <th>title</th>\n",
       "      <th>text</th>\n",
       "      <th>authors</th>\n",
       "      <th>num_images</th>\n",
       "      <th>domain</th>\n",
       "      <th>url</th>\n",
       "    </tr>\n",
       "  </thead>\n",
       "  <tbody>\n",
       "    <tr>\n",
       "      <th>0</th>\n",
       "      <td>Djou wins special election for Congress</td>\n",
       "      <td>Hanabusa leads Case with nearly all the votes ...</td>\n",
       "      <td>['Honolulu Star-Bulletin']</td>\n",
       "      <td>40</td>\n",
       "      <td>archive</td>\n",
       "      <td>https://web.archive.org/web/20100523122054/htt...</td>\n",
       "    </tr>\n",
       "    <tr>\n",
       "      <th>1</th>\n",
       "      <td>Change We Can Believe In</td>\n",
       "      <td>Remarks of Senator Barack Obama: Apostolic Chu...</td>\n",
       "      <td>[]</td>\n",
       "      <td>33</td>\n",
       "      <td>archive</td>\n",
       "      <td>https://web.archive.org/web/20080618171108/htt...</td>\n",
       "    </tr>\n",
       "    <tr>\n",
       "      <th>2</th>\n",
       "      <td>One in Four</td>\n",
       "      <td>One out of every four Pennsylvania households ...</td>\n",
       "      <td>['Congressman Joe Pitts']</td>\n",
       "      <td>2</td>\n",
       "      <td>medium</td>\n",
       "      <td>https://medium.com/@RepJoePitts/one-in-four-66...</td>\n",
       "    </tr>\n",
       "    <tr>\n",
       "      <th>3</th>\n",
       "      <td></td>\n",
       "      <td></td>\n",
       "      <td>[]</td>\n",
       "      <td>0</td>\n",
       "      <td>politico</td>\n",
       "      <td>http://www.politico.com/news/stories/0309/2034...</td>\n",
       "    </tr>\n",
       "    <tr>\n",
       "      <th>4</th>\n",
       "      <td></td>\n",
       "      <td></td>\n",
       "      <td>[]</td>\n",
       "      <td>0</td>\n",
       "      <td>fec</td>\n",
       "      <td>http://docquery.fec.gov/pdf/613/20180415910815...</td>\n",
       "    </tr>\n",
       "  </tbody>\n",
       "</table>\n",
       "</div>"
      ],
      "text/plain": [
       "                                     title  \\\n",
       "0  Djou wins special election for Congress   \n",
       "1                 Change We Can Believe In   \n",
       "2                              One in Four   \n",
       "3                                            \n",
       "4                                            \n",
       "\n",
       "                                                text  \\\n",
       "0  Hanabusa leads Case with nearly all the votes ...   \n",
       "1  Remarks of Senator Barack Obama: Apostolic Chu...   \n",
       "2  One out of every four Pennsylvania households ...   \n",
       "3                                                      \n",
       "4                                                      \n",
       "\n",
       "                      authors  num_images    domain  \\\n",
       "0  ['Honolulu Star-Bulletin']          40   archive   \n",
       "1                          []          33   archive   \n",
       "2   ['Congressman Joe Pitts']           2    medium   \n",
       "3                          []           0  politico   \n",
       "4                          []           0       fec   \n",
       "\n",
       "                                                 url  \n",
       "0  https://web.archive.org/web/20100523122054/htt...  \n",
       "1  https://web.archive.org/web/20080618171108/htt...  \n",
       "2  https://medium.com/@RepJoePitts/one-in-four-66...  \n",
       "3  http://www.politico.com/news/stories/0309/2034...  \n",
       "4  http://docquery.fec.gov/pdf/613/20180415910815...  "
      ]
     },
     "execution_count": 91,
     "metadata": {},
     "output_type": "execute_result"
    }
   ],
   "source": [
    "pol_real_df.head()"
   ]
  },
  {
   "cell_type": "markdown",
   "id": "e59dd593",
   "metadata": {},
   "source": [
    "### Add labels & info"
   ]
  },
  {
   "cell_type": "code",
   "execution_count": 92,
   "id": "cbcd1523",
   "metadata": {},
   "outputs": [],
   "source": [
    "pol_real_df['category'] = 0 #True\n",
    "pol_fake_df['category'] = 1 #Fake\n",
    "gos_real_df['category'] = 0\n",
    "gos_fake_df['category'] = 1\n",
    "\n",
    "pol_real_df['news_type'] = 'political'\n",
    "pol_fake_df['news_type'] = 'political'\n",
    "gos_real_df['news_type'] = 'gossip'\n",
    "gos_fake_df['news_type'] = 'gossip'"
   ]
  },
  {
   "cell_type": "code",
   "execution_count": 93,
   "id": "87c75676",
   "metadata": {},
   "outputs": [
    {
     "data": {
      "text/html": [
       "<div>\n",
       "<style scoped>\n",
       "    .dataframe tbody tr th:only-of-type {\n",
       "        vertical-align: middle;\n",
       "    }\n",
       "\n",
       "    .dataframe tbody tr th {\n",
       "        vertical-align: top;\n",
       "    }\n",
       "\n",
       "    .dataframe thead th {\n",
       "        text-align: right;\n",
       "    }\n",
       "</style>\n",
       "<table border=\"1\" class=\"dataframe\">\n",
       "  <thead>\n",
       "    <tr style=\"text-align: right;\">\n",
       "      <th></th>\n",
       "      <th>title</th>\n",
       "      <th>text</th>\n",
       "      <th>authors</th>\n",
       "      <th>num_images</th>\n",
       "      <th>domain</th>\n",
       "      <th>url</th>\n",
       "      <th>category</th>\n",
       "      <th>news_type</th>\n",
       "    </tr>\n",
       "  </thead>\n",
       "  <tbody>\n",
       "    <tr>\n",
       "      <th>0</th>\n",
       "      <td>Djou wins special election for Congress</td>\n",
       "      <td>Hanabusa leads Case with nearly all the votes ...</td>\n",
       "      <td>['Honolulu Star-Bulletin']</td>\n",
       "      <td>40</td>\n",
       "      <td>archive</td>\n",
       "      <td>https://web.archive.org/web/20100523122054/htt...</td>\n",
       "      <td>0</td>\n",
       "      <td>political</td>\n",
       "    </tr>\n",
       "    <tr>\n",
       "      <th>1</th>\n",
       "      <td>Change We Can Believe In</td>\n",
       "      <td>Remarks of Senator Barack Obama: Apostolic Chu...</td>\n",
       "      <td>[]</td>\n",
       "      <td>33</td>\n",
       "      <td>archive</td>\n",
       "      <td>https://web.archive.org/web/20080618171108/htt...</td>\n",
       "      <td>0</td>\n",
       "      <td>political</td>\n",
       "    </tr>\n",
       "    <tr>\n",
       "      <th>2</th>\n",
       "      <td>One in Four</td>\n",
       "      <td>One out of every four Pennsylvania households ...</td>\n",
       "      <td>['Congressman Joe Pitts']</td>\n",
       "      <td>2</td>\n",
       "      <td>medium</td>\n",
       "      <td>https://medium.com/@RepJoePitts/one-in-four-66...</td>\n",
       "      <td>0</td>\n",
       "      <td>political</td>\n",
       "    </tr>\n",
       "    <tr>\n",
       "      <th>3</th>\n",
       "      <td></td>\n",
       "      <td></td>\n",
       "      <td>[]</td>\n",
       "      <td>0</td>\n",
       "      <td>politico</td>\n",
       "      <td>http://www.politico.com/news/stories/0309/2034...</td>\n",
       "      <td>0</td>\n",
       "      <td>political</td>\n",
       "    </tr>\n",
       "    <tr>\n",
       "      <th>4</th>\n",
       "      <td></td>\n",
       "      <td></td>\n",
       "      <td>[]</td>\n",
       "      <td>0</td>\n",
       "      <td>fec</td>\n",
       "      <td>http://docquery.fec.gov/pdf/613/20180415910815...</td>\n",
       "      <td>0</td>\n",
       "      <td>political</td>\n",
       "    </tr>\n",
       "  </tbody>\n",
       "</table>\n",
       "</div>"
      ],
      "text/plain": [
       "                                     title  \\\n",
       "0  Djou wins special election for Congress   \n",
       "1                 Change We Can Believe In   \n",
       "2                              One in Four   \n",
       "3                                            \n",
       "4                                            \n",
       "\n",
       "                                                text  \\\n",
       "0  Hanabusa leads Case with nearly all the votes ...   \n",
       "1  Remarks of Senator Barack Obama: Apostolic Chu...   \n",
       "2  One out of every four Pennsylvania households ...   \n",
       "3                                                      \n",
       "4                                                      \n",
       "\n",
       "                      authors  num_images    domain  \\\n",
       "0  ['Honolulu Star-Bulletin']          40   archive   \n",
       "1                          []          33   archive   \n",
       "2   ['Congressman Joe Pitts']           2    medium   \n",
       "3                          []           0  politico   \n",
       "4                          []           0       fec   \n",
       "\n",
       "                                                 url  category  news_type  \n",
       "0  https://web.archive.org/web/20100523122054/htt...         0  political  \n",
       "1  https://web.archive.org/web/20080618171108/htt...         0  political  \n",
       "2  https://medium.com/@RepJoePitts/one-in-four-66...         0  political  \n",
       "3  http://www.politico.com/news/stories/0309/2034...         0  political  \n",
       "4  http://docquery.fec.gov/pdf/613/20180415910815...         0  political  "
      ]
     },
     "execution_count": 93,
     "metadata": {},
     "output_type": "execute_result"
    }
   ],
   "source": [
    "pol_real_df.head()"
   ]
  },
  {
   "cell_type": "markdown",
   "id": "f01ff977",
   "metadata": {},
   "source": [
    "### Merging"
   ]
  },
  {
   "cell_type": "code",
   "execution_count": 94,
   "id": "cff70f3f",
   "metadata": {},
   "outputs": [
    {
     "name": "stdout",
     "output_type": "stream",
     "text": [
      "--------------------------------------------------------------------------------\n",
      "data shape: (16966, 8)\n",
      "--------------------------------------------------------------------------------\n",
      "ratio #true: 68.76%\n",
      "ratio #fake: 31.24%\n",
      "--------------------------------------------------------------------------------\n",
      "ratio #true - political: 3.29%\n",
      "ratio #fake - political: 2.38%\n",
      "--------------------------------------------------------------------------------\n",
      "ratio #true - gossip: 65.46%\n",
      "ratio #fake - gossip: 28.87%\n",
      "--------------------------------------------------------------------------------\n"
     ]
    }
   ],
   "source": [
    "data = pd.concat([pol_real_df, pol_fake_df, gos_real_df, gos_fake_df]).reset_index(drop=True)\n",
    "\n",
    "print('-'*80)\n",
    "print(f\"data shape: {data.shape}\")\n",
    "print('-'*80)\n",
    "print(f\"ratio #true: {len(data[data['category']==0])/len(data)*100:.2f}%\")\n",
    "print(f\"ratio #fake: {len(data[data['category']==1])/len(data)*100:.2f}%\")\n",
    "print('-'*80)\n",
    "print(f\"ratio #true - political: {len(data[(data['category']==0) & (data['news_type']=='political')])/len(data)*100:.2f}%\")\n",
    "print(f\"ratio #fake - political: {len(data[(data['category']==1) & (data['news_type']=='political')])/len(data)*100:.2f}%\")\n",
    "print('-'*80)\n",
    "print(f\"ratio #true - gossip: {len(data[(data['category']==0) & (data['news_type']=='gossip')])/len(data)*100:.2f}%\")\n",
    "print(f\"ratio #fake - gossip: {len(data[(data['category']==1) & (data['news_type']=='gossip')])/len(data)*100:.2f}%\")\n",
    "print('-'*80)"
   ]
  },
  {
   "cell_type": "markdown",
   "id": "0d9ed0f9",
   "metadata": {},
   "source": [
    "## Preprocessing"
   ]
  },
  {
   "cell_type": "markdown",
   "id": "8ed1aac3",
   "metadata": {},
   "source": [
    "### Missing values"
   ]
  },
  {
   "cell_type": "code",
   "execution_count": 95,
   "id": "2ecc8ca9",
   "metadata": {},
   "outputs": [],
   "source": [
    "def get_missing(df):\n",
    "    missing_values = df.isnull().sum().sort_values(ascending = False)\n",
    "    ratio = missing_values/len(data)*100\n",
    "    return pd.DataFrame({'missing_values': missing_values, 'ratio': round(ratio)}).head(10)"
   ]
  },
  {
   "cell_type": "code",
   "execution_count": 96,
   "id": "505d164a",
   "metadata": {},
   "outputs": [
    {
     "data": {
      "text/html": [
       "<div>\n",
       "<style scoped>\n",
       "    .dataframe tbody tr th:only-of-type {\n",
       "        vertical-align: middle;\n",
       "    }\n",
       "\n",
       "    .dataframe tbody tr th {\n",
       "        vertical-align: top;\n",
       "    }\n",
       "\n",
       "    .dataframe thead th {\n",
       "        text-align: right;\n",
       "    }\n",
       "</style>\n",
       "<table border=\"1\" class=\"dataframe\">\n",
       "  <thead>\n",
       "    <tr style=\"text-align: right;\">\n",
       "      <th></th>\n",
       "      <th>missing_values</th>\n",
       "      <th>ratio</th>\n",
       "    </tr>\n",
       "  </thead>\n",
       "  <tbody>\n",
       "    <tr>\n",
       "      <th>title</th>\n",
       "      <td>0</td>\n",
       "      <td>0.0</td>\n",
       "    </tr>\n",
       "    <tr>\n",
       "      <th>text</th>\n",
       "      <td>0</td>\n",
       "      <td>0.0</td>\n",
       "    </tr>\n",
       "    <tr>\n",
       "      <th>authors</th>\n",
       "      <td>0</td>\n",
       "      <td>0.0</td>\n",
       "    </tr>\n",
       "    <tr>\n",
       "      <th>num_images</th>\n",
       "      <td>0</td>\n",
       "      <td>0.0</td>\n",
       "    </tr>\n",
       "    <tr>\n",
       "      <th>domain</th>\n",
       "      <td>0</td>\n",
       "      <td>0.0</td>\n",
       "    </tr>\n",
       "    <tr>\n",
       "      <th>url</th>\n",
       "      <td>0</td>\n",
       "      <td>0.0</td>\n",
       "    </tr>\n",
       "    <tr>\n",
       "      <th>category</th>\n",
       "      <td>0</td>\n",
       "      <td>0.0</td>\n",
       "    </tr>\n",
       "    <tr>\n",
       "      <th>news_type</th>\n",
       "      <td>0</td>\n",
       "      <td>0.0</td>\n",
       "    </tr>\n",
       "  </tbody>\n",
       "</table>\n",
       "</div>"
      ],
      "text/plain": [
       "            missing_values  ratio\n",
       "title                    0    0.0\n",
       "text                     0    0.0\n",
       "authors                  0    0.0\n",
       "num_images               0    0.0\n",
       "domain                   0    0.0\n",
       "url                      0    0.0\n",
       "category                 0    0.0\n",
       "news_type                0    0.0"
      ]
     },
     "execution_count": 96,
     "metadata": {},
     "output_type": "execute_result"
    }
   ],
   "source": [
    "get_missing(data)"
   ]
  },
  {
   "cell_type": "markdown",
   "id": "bf5cec62",
   "metadata": {},
   "source": [
    "No **missing values** detected by `.isnull()` method"
   ]
  },
  {
   "cell_type": "code",
   "execution_count": 97,
   "id": "d0537dc8",
   "metadata": {},
   "outputs": [
    {
     "data": {
      "text/html": [
       "<div>\n",
       "<style scoped>\n",
       "    .dataframe tbody tr th:only-of-type {\n",
       "        vertical-align: middle;\n",
       "    }\n",
       "\n",
       "    .dataframe tbody tr th {\n",
       "        vertical-align: top;\n",
       "    }\n",
       "\n",
       "    .dataframe thead th {\n",
       "        text-align: right;\n",
       "    }\n",
       "</style>\n",
       "<table border=\"1\" class=\"dataframe\">\n",
       "  <thead>\n",
       "    <tr style=\"text-align: right;\">\n",
       "      <th></th>\n",
       "      <th>title</th>\n",
       "      <th>text</th>\n",
       "      <th>authors</th>\n",
       "      <th>num_images</th>\n",
       "      <th>domain</th>\n",
       "      <th>url</th>\n",
       "      <th>category</th>\n",
       "      <th>news_type</th>\n",
       "    </tr>\n",
       "  </thead>\n",
       "  <tbody>\n",
       "    <tr>\n",
       "      <th>0</th>\n",
       "      <td>Djou wins special election for Congress</td>\n",
       "      <td>Hanabusa leads Case with nearly all the votes ...</td>\n",
       "      <td>['Honolulu Star-Bulletin']</td>\n",
       "      <td>40</td>\n",
       "      <td>archive</td>\n",
       "      <td>https://web.archive.org/web/20100523122054/htt...</td>\n",
       "      <td>0</td>\n",
       "      <td>political</td>\n",
       "    </tr>\n",
       "    <tr>\n",
       "      <th>1</th>\n",
       "      <td>Change We Can Believe In</td>\n",
       "      <td>Remarks of Senator Barack Obama: Apostolic Chu...</td>\n",
       "      <td>[]</td>\n",
       "      <td>33</td>\n",
       "      <td>archive</td>\n",
       "      <td>https://web.archive.org/web/20080618171108/htt...</td>\n",
       "      <td>0</td>\n",
       "      <td>political</td>\n",
       "    </tr>\n",
       "    <tr>\n",
       "      <th>2</th>\n",
       "      <td>One in Four</td>\n",
       "      <td>One out of every four Pennsylvania households ...</td>\n",
       "      <td>['Congressman Joe Pitts']</td>\n",
       "      <td>2</td>\n",
       "      <td>medium</td>\n",
       "      <td>https://medium.com/@RepJoePitts/one-in-four-66...</td>\n",
       "      <td>0</td>\n",
       "      <td>political</td>\n",
       "    </tr>\n",
       "    <tr>\n",
       "      <th>3</th>\n",
       "      <td></td>\n",
       "      <td></td>\n",
       "      <td>[]</td>\n",
       "      <td>0</td>\n",
       "      <td>politico</td>\n",
       "      <td>http://www.politico.com/news/stories/0309/2034...</td>\n",
       "      <td>0</td>\n",
       "      <td>political</td>\n",
       "    </tr>\n",
       "    <tr>\n",
       "      <th>4</th>\n",
       "      <td></td>\n",
       "      <td></td>\n",
       "      <td>[]</td>\n",
       "      <td>0</td>\n",
       "      <td>fec</td>\n",
       "      <td>http://docquery.fec.gov/pdf/613/20180415910815...</td>\n",
       "      <td>0</td>\n",
       "      <td>political</td>\n",
       "    </tr>\n",
       "  </tbody>\n",
       "</table>\n",
       "</div>"
      ],
      "text/plain": [
       "                                     title  \\\n",
       "0  Djou wins special election for Congress   \n",
       "1                 Change We Can Believe In   \n",
       "2                              One in Four   \n",
       "3                                            \n",
       "4                                            \n",
       "\n",
       "                                                text  \\\n",
       "0  Hanabusa leads Case with nearly all the votes ...   \n",
       "1  Remarks of Senator Barack Obama: Apostolic Chu...   \n",
       "2  One out of every four Pennsylvania households ...   \n",
       "3                                                      \n",
       "4                                                      \n",
       "\n",
       "                      authors  num_images    domain  \\\n",
       "0  ['Honolulu Star-Bulletin']          40   archive   \n",
       "1                          []          33   archive   \n",
       "2   ['Congressman Joe Pitts']           2    medium   \n",
       "3                          []           0  politico   \n",
       "4                          []           0       fec   \n",
       "\n",
       "                                                 url  category  news_type  \n",
       "0  https://web.archive.org/web/20100523122054/htt...         0  political  \n",
       "1  https://web.archive.org/web/20080618171108/htt...         0  political  \n",
       "2  https://medium.com/@RepJoePitts/one-in-four-66...         0  political  \n",
       "3  http://www.politico.com/news/stories/0309/2034...         0  political  \n",
       "4  http://docquery.fec.gov/pdf/613/20180415910815...         0  political  "
      ]
     },
     "execution_count": 97,
     "metadata": {},
     "output_type": "execute_result"
    }
   ],
   "source": [
    "data.head()"
   ]
  },
  {
   "cell_type": "code",
   "execution_count": 98,
   "id": "e60e920f",
   "metadata": {},
   "outputs": [
    {
     "data": {
      "text/plain": [
       "(0, 8)"
      ]
     },
     "execution_count": 98,
     "metadata": {},
     "output_type": "execute_result"
    }
   ],
   "source": [
    "data[data['text'] == 'NaN'].shape"
   ]
  },
  {
   "cell_type": "code",
   "execution_count": 99,
   "id": "382206bb",
   "metadata": {},
   "outputs": [
    {
     "data": {
      "text/plain": [
       "198"
      ]
     },
     "execution_count": 99,
     "metadata": {},
     "output_type": "execute_result"
    }
   ],
   "source": [
    "indices = data[data['title'] == ''].index\n",
    "len(indices)"
   ]
  },
  {
   "cell_type": "code",
   "execution_count": 100,
   "id": "f6fa5f44",
   "metadata": {},
   "outputs": [
    {
     "data": {
      "text/plain": [
       "505"
      ]
     },
     "execution_count": 100,
     "metadata": {},
     "output_type": "execute_result"
    }
   ],
   "source": [
    "indices = data[data['text'] == ''].index\n",
    "len(indices)"
   ]
  },
  {
   "cell_type": "code",
   "execution_count": 101,
   "id": "dd739eda",
   "metadata": {},
   "outputs": [
    {
     "data": {
      "text/plain": [
       "5668"
      ]
     },
     "execution_count": 101,
     "metadata": {},
     "output_type": "execute_result"
    }
   ],
   "source": [
    "indices = data[data['authors'] == '[]'].index\n",
    "len(indices)"
   ]
  },
  {
   "cell_type": "code",
   "execution_count": 102,
   "id": "7e92ff04",
   "metadata": {},
   "outputs": [
    {
     "name": "stdout",
     "output_type": "stream",
     "text": [
      "--------------------------------------------------------------------------------\n",
      "data shape: (16380, 8)\n",
      "--------------------------------------------------------------------------------\n"
     ]
    }
   ],
   "source": [
    "from StopFAIke.data import remove_missing_values\n",
    "\n",
    "data = remove_missing_values(data, 'title', '')\n",
    "data = remove_missing_values(data, 'text', '')\n",
    "\n",
    "print('-'*80)\n",
    "print(f\"data shape: {data.shape}\")\n",
    "print('-'*80)"
   ]
  },
  {
   "cell_type": "code",
   "execution_count": 103,
   "id": "3a6f1d8a",
   "metadata": {},
   "outputs": [
    {
     "data": {
      "text/html": [
       "<div>\n",
       "<style scoped>\n",
       "    .dataframe tbody tr th:only-of-type {\n",
       "        vertical-align: middle;\n",
       "    }\n",
       "\n",
       "    .dataframe tbody tr th {\n",
       "        vertical-align: top;\n",
       "    }\n",
       "\n",
       "    .dataframe thead th {\n",
       "        text-align: right;\n",
       "    }\n",
       "</style>\n",
       "<table border=\"1\" class=\"dataframe\">\n",
       "  <thead>\n",
       "    <tr style=\"text-align: right;\">\n",
       "      <th></th>\n",
       "      <th>title</th>\n",
       "      <th>text</th>\n",
       "      <th>authors</th>\n",
       "      <th>num_images</th>\n",
       "      <th>domain</th>\n",
       "      <th>url</th>\n",
       "      <th>category</th>\n",
       "      <th>news_type</th>\n",
       "    </tr>\n",
       "  </thead>\n",
       "  <tbody>\n",
       "    <tr>\n",
       "      <th>0</th>\n",
       "      <td>Djou wins special election for Congress</td>\n",
       "      <td>Hanabusa leads Case with nearly all the votes ...</td>\n",
       "      <td>['Honolulu Star-Bulletin']</td>\n",
       "      <td>40</td>\n",
       "      <td>archive</td>\n",
       "      <td>https://web.archive.org/web/20100523122054/htt...</td>\n",
       "      <td>0</td>\n",
       "      <td>political</td>\n",
       "    </tr>\n",
       "    <tr>\n",
       "      <th>1</th>\n",
       "      <td>Change We Can Believe In</td>\n",
       "      <td>Remarks of Senator Barack Obama: Apostolic Chu...</td>\n",
       "      <td>[]</td>\n",
       "      <td>33</td>\n",
       "      <td>archive</td>\n",
       "      <td>https://web.archive.org/web/20080618171108/htt...</td>\n",
       "      <td>0</td>\n",
       "      <td>political</td>\n",
       "    </tr>\n",
       "    <tr>\n",
       "      <th>2</th>\n",
       "      <td>One in Four</td>\n",
       "      <td>One out of every four Pennsylvania households ...</td>\n",
       "      <td>['Congressman Joe Pitts']</td>\n",
       "      <td>2</td>\n",
       "      <td>medium</td>\n",
       "      <td>https://medium.com/@RepJoePitts/one-in-four-66...</td>\n",
       "      <td>0</td>\n",
       "      <td>political</td>\n",
       "    </tr>\n",
       "    <tr>\n",
       "      <th>5</th>\n",
       "      <td>Pastors To Protest IRS Rules on Political Advo...</td>\n",
       "      <td>On Sept. 28, pastors from 20 states will give ...</td>\n",
       "      <td>[]</td>\n",
       "      <td>4</td>\n",
       "      <td>pewforum</td>\n",
       "      <td>http://www.pewforum.org/2008/09/19/pastors-to-...</td>\n",
       "      <td>0</td>\n",
       "      <td>political</td>\n",
       "    </tr>\n",
       "    <tr>\n",
       "      <th>7</th>\n",
       "      <td>“Dictionary” on President Obama’s Health Care ...</td>\n",
       "      <td>WASHINGTON – The Republican National Committee...</td>\n",
       "      <td>['Written On September', 'Republican National ...</td>\n",
       "      <td>32</td>\n",
       "      <td>archive</td>\n",
       "      <td>https://web.archive.org/web/20091003005639/htt...</td>\n",
       "      <td>0</td>\n",
       "      <td>political</td>\n",
       "    </tr>\n",
       "  </tbody>\n",
       "</table>\n",
       "</div>"
      ],
      "text/plain": [
       "                                               title  \\\n",
       "0            Djou wins special election for Congress   \n",
       "1                           Change We Can Believe In   \n",
       "2                                        One in Four   \n",
       "5  Pastors To Protest IRS Rules on Political Advo...   \n",
       "7  “Dictionary” on President Obama’s Health Care ...   \n",
       "\n",
       "                                                text  \\\n",
       "0  Hanabusa leads Case with nearly all the votes ...   \n",
       "1  Remarks of Senator Barack Obama: Apostolic Chu...   \n",
       "2  One out of every four Pennsylvania households ...   \n",
       "5  On Sept. 28, pastors from 20 states will give ...   \n",
       "7  WASHINGTON – The Republican National Committee...   \n",
       "\n",
       "                                             authors  num_images    domain  \\\n",
       "0                         ['Honolulu Star-Bulletin']          40   archive   \n",
       "1                                                 []          33   archive   \n",
       "2                          ['Congressman Joe Pitts']           2    medium   \n",
       "5                                                 []           4  pewforum   \n",
       "7  ['Written On September', 'Republican National ...          32   archive   \n",
       "\n",
       "                                                 url  category  news_type  \n",
       "0  https://web.archive.org/web/20100523122054/htt...         0  political  \n",
       "1  https://web.archive.org/web/20080618171108/htt...         0  political  \n",
       "2  https://medium.com/@RepJoePitts/one-in-four-66...         0  political  \n",
       "5  http://www.pewforum.org/2008/09/19/pastors-to-...         0  political  \n",
       "7  https://web.archive.org/web/20091003005639/htt...         0  political  "
      ]
     },
     "execution_count": 103,
     "metadata": {},
     "output_type": "execute_result"
    }
   ],
   "source": [
    "data.head()"
   ]
  },
  {
   "cell_type": "markdown",
   "id": "fe90251d",
   "metadata": {},
   "source": [
    "### Duplicates"
   ]
  },
  {
   "cell_type": "code",
   "execution_count": 104,
   "id": "26c2a827",
   "metadata": {},
   "outputs": [],
   "source": [
    "def count_duplicate(df):\n",
    "    return df.duplicated().sum()"
   ]
  },
  {
   "cell_type": "code",
   "execution_count": 105,
   "id": "e2a49d0c",
   "metadata": {},
   "outputs": [
    {
     "name": "stdout",
     "output_type": "stream",
     "text": [
      "--------------------------------------------------------------------------------\n",
      "duplicates: 795\n",
      "--------------------------------------------------------------------------------\n"
     ]
    }
   ],
   "source": [
    "print('-'*80)\n",
    "print(f\"duplicates: {count_duplicate(data)}\")\n",
    "print('-'*80)"
   ]
  },
  {
   "cell_type": "code",
   "execution_count": 106,
   "id": "14326db5",
   "metadata": {},
   "outputs": [
    {
     "name": "stdout",
     "output_type": "stream",
     "text": [
      "--------------------------------------------------------------------------------\n",
      "data shape (wo duplicates): (15585, 8)\n",
      "--------------------------------------------------------------------------------\n"
     ]
    }
   ],
   "source": [
    "data.drop_duplicates(inplace=True)\n",
    "\n",
    "print('-'*80)\n",
    "print(f\"data shape (wo duplicates): {data.shape}\")\n",
    "print('-'*80)"
   ]
  },
  {
   "cell_type": "markdown",
   "id": "9cb79115",
   "metadata": {},
   "source": [
    "###  Save to `CSV` file"
   ]
  },
  {
   "cell_type": "code",
   "execution_count": 107,
   "id": "5b8e954e",
   "metadata": {},
   "outputs": [],
   "source": [
    "data.to_csv('../raw_data/FakesNewsNET.csv', index=False)"
   ]
  },
  {
   "cell_type": "markdown",
   "id": "43f15eb0",
   "metadata": {},
   "source": [
    "### Loading the `CSV` file"
   ]
  },
  {
   "cell_type": "code",
   "execution_count": 108,
   "id": "95b5a007",
   "metadata": {},
   "outputs": [],
   "source": [
    "data = pd.read_csv('../raw_data/FakesNewsNET.csv')"
   ]
  },
  {
   "cell_type": "code",
   "execution_count": 109,
   "id": "47ee153a",
   "metadata": {},
   "outputs": [
    {
     "data": {
      "text/html": [
       "<div>\n",
       "<style scoped>\n",
       "    .dataframe tbody tr th:only-of-type {\n",
       "        vertical-align: middle;\n",
       "    }\n",
       "\n",
       "    .dataframe tbody tr th {\n",
       "        vertical-align: top;\n",
       "    }\n",
       "\n",
       "    .dataframe thead th {\n",
       "        text-align: right;\n",
       "    }\n",
       "</style>\n",
       "<table border=\"1\" class=\"dataframe\">\n",
       "  <thead>\n",
       "    <tr style=\"text-align: right;\">\n",
       "      <th></th>\n",
       "      <th>title</th>\n",
       "      <th>text</th>\n",
       "      <th>authors</th>\n",
       "      <th>num_images</th>\n",
       "      <th>domain</th>\n",
       "      <th>url</th>\n",
       "      <th>category</th>\n",
       "      <th>news_type</th>\n",
       "    </tr>\n",
       "  </thead>\n",
       "  <tbody>\n",
       "    <tr>\n",
       "      <th>0</th>\n",
       "      <td>Djou wins special election for Congress</td>\n",
       "      <td>Hanabusa leads Case with nearly all the votes ...</td>\n",
       "      <td>['Honolulu Star-Bulletin']</td>\n",
       "      <td>40</td>\n",
       "      <td>archive</td>\n",
       "      <td>https://web.archive.org/web/20100523122054/htt...</td>\n",
       "      <td>0</td>\n",
       "      <td>political</td>\n",
       "    </tr>\n",
       "    <tr>\n",
       "      <th>1</th>\n",
       "      <td>Change We Can Believe In</td>\n",
       "      <td>Remarks of Senator Barack Obama: Apostolic Chu...</td>\n",
       "      <td>[]</td>\n",
       "      <td>33</td>\n",
       "      <td>archive</td>\n",
       "      <td>https://web.archive.org/web/20080618171108/htt...</td>\n",
       "      <td>0</td>\n",
       "      <td>political</td>\n",
       "    </tr>\n",
       "    <tr>\n",
       "      <th>2</th>\n",
       "      <td>One in Four</td>\n",
       "      <td>One out of every four Pennsylvania households ...</td>\n",
       "      <td>['Congressman Joe Pitts']</td>\n",
       "      <td>2</td>\n",
       "      <td>medium</td>\n",
       "      <td>https://medium.com/@RepJoePitts/one-in-four-66...</td>\n",
       "      <td>0</td>\n",
       "      <td>political</td>\n",
       "    </tr>\n",
       "    <tr>\n",
       "      <th>3</th>\n",
       "      <td>Pastors To Protest IRS Rules on Political Advo...</td>\n",
       "      <td>On Sept. 28, pastors from 20 states will give ...</td>\n",
       "      <td>[]</td>\n",
       "      <td>4</td>\n",
       "      <td>pewforum</td>\n",
       "      <td>http://www.pewforum.org/2008/09/19/pastors-to-...</td>\n",
       "      <td>0</td>\n",
       "      <td>political</td>\n",
       "    </tr>\n",
       "    <tr>\n",
       "      <th>4</th>\n",
       "      <td>“Dictionary” on President Obama’s Health Care ...</td>\n",
       "      <td>WASHINGTON – The Republican National Committee...</td>\n",
       "      <td>['Written On September', 'Republican National ...</td>\n",
       "      <td>32</td>\n",
       "      <td>archive</td>\n",
       "      <td>https://web.archive.org/web/20091003005639/htt...</td>\n",
       "      <td>0</td>\n",
       "      <td>political</td>\n",
       "    </tr>\n",
       "  </tbody>\n",
       "</table>\n",
       "</div>"
      ],
      "text/plain": [
       "                                               title  \\\n",
       "0            Djou wins special election for Congress   \n",
       "1                           Change We Can Believe In   \n",
       "2                                        One in Four   \n",
       "3  Pastors To Protest IRS Rules on Political Advo...   \n",
       "4  “Dictionary” on President Obama’s Health Care ...   \n",
       "\n",
       "                                                text  \\\n",
       "0  Hanabusa leads Case with nearly all the votes ...   \n",
       "1  Remarks of Senator Barack Obama: Apostolic Chu...   \n",
       "2  One out of every four Pennsylvania households ...   \n",
       "3  On Sept. 28, pastors from 20 states will give ...   \n",
       "4  WASHINGTON – The Republican National Committee...   \n",
       "\n",
       "                                             authors  num_images    domain  \\\n",
       "0                         ['Honolulu Star-Bulletin']          40   archive   \n",
       "1                                                 []          33   archive   \n",
       "2                          ['Congressman Joe Pitts']           2    medium   \n",
       "3                                                 []           4  pewforum   \n",
       "4  ['Written On September', 'Republican National ...          32   archive   \n",
       "\n",
       "                                                 url  category  news_type  \n",
       "0  https://web.archive.org/web/20100523122054/htt...         0  political  \n",
       "1  https://web.archive.org/web/20080618171108/htt...         0  political  \n",
       "2  https://medium.com/@RepJoePitts/one-in-four-66...         0  political  \n",
       "3  http://www.pewforum.org/2008/09/19/pastors-to-...         0  political  \n",
       "4  https://web.archive.org/web/20091003005639/htt...         0  political  "
      ]
     },
     "execution_count": 109,
     "metadata": {},
     "output_type": "execute_result"
    }
   ],
   "source": [
    "data.head()"
   ]
  },
  {
   "cell_type": "code",
   "execution_count": 24,
   "id": "63ed5844",
   "metadata": {},
   "outputs": [
    {
     "data": {
      "text/plain": [
       "(15666, 8)"
      ]
     },
     "execution_count": 24,
     "metadata": {},
     "output_type": "execute_result"
    }
   ],
   "source": [
    "data.shape"
   ]
  },
  {
   "cell_type": "markdown",
   "id": "ff40531f",
   "metadata": {},
   "source": [
    "### Cleaning - punctuation / lowercased / tokenize / stop_words / lemmatize"
   ]
  },
  {
   "cell_type": "code",
   "execution_count": 25,
   "id": "fdda1800",
   "metadata": {},
   "outputs": [
    {
     "data": {
      "text/plain": [
       "0    [hanabusa, lead, case, nearly, vote, counted, ...\n",
       "1    [remark, senator, barack, obama, apostolic, ch...\n",
       "2    [one, every, four, pennsylvania, household, af...\n",
       "3    [sept, pastor, state, give, politically, based...\n",
       "4    [washington, republican, national, committee, ...\n",
       "Name: clean_text, dtype: object"
      ]
     },
     "execution_count": 25,
     "metadata": {},
     "output_type": "execute_result"
    }
   ],
   "source": [
    "from StopFAIke.data import clean\n",
    "\n",
    "data['clean_text'] = data['text'].apply(clean)\n",
    "data['clean_text'].head()"
   ]
  },
  {
   "cell_type": "markdown",
   "id": "3db4f747",
   "metadata": {},
   "source": [
    "## Training"
   ]
  },
  {
   "cell_type": "code",
   "execution_count": 26,
   "id": "0b70078c",
   "metadata": {},
   "outputs": [
    {
     "name": "stdout",
     "output_type": "stream",
     "text": [
      "--------------------------------------------------------------------------------\n",
      "X shape: (1000,)\n",
      "y shape: (1000,)\n",
      "--------------------------------------------------------------------------------\n"
     ]
    }
   ],
   "source": [
    "# X = data['clean_text'].copy()\n",
    "# y = data['category'].copy()\n",
    "X = data['clean_text'].sample(1000).copy()\n",
    "y = data['category'].sample(1000).copy()\n",
    "\n",
    "print('-'*80)\n",
    "print(f\"X shape: {X.shape}\")\n",
    "print(f\"y shape: {y.shape}\")\n",
    "print('-'*80)"
   ]
  },
  {
   "cell_type": "code",
   "execution_count": null,
   "id": "a38c6bff",
   "metadata": {},
   "outputs": [],
   "source": [
    "y.value_counts()"
   ]
  },
  {
   "cell_type": "code",
   "execution_count": null,
   "id": "1c463e32",
   "metadata": {},
   "outputs": [],
   "source": [
    "len(X.iloc[8])"
   ]
  },
  {
   "cell_type": "code",
   "execution_count": null,
   "id": "8d3ec4cd",
   "metadata": {},
   "outputs": [],
   "source": [
    "X.iloc[8]"
   ]
  },
  {
   "cell_type": "code",
   "execution_count": null,
   "id": "ca8cfe2c",
   "metadata": {},
   "outputs": [],
   "source": [
    "from sklearn.model_selection import train_test_split\n",
    "\n",
    "X_train, X_test, y_train, y_test = train_test_split(X, y, test_size=0.3, random_state=42)\n",
    "\n",
    "print('-'*80)\n",
    "print(f\"X_train shape: {X_train.shape}\")\n",
    "print(f\"y_train shape: {y_train.shape}\")\n",
    "print('-'*80)\n",
    "print(f\"X_test shape: {X_test.shape}\")\n",
    "print(f\"y_test shape: {y_test.shape}\")\n",
    "print('-'*80)"
   ]
  },
  {
   "cell_type": "markdown",
   "id": "c0f85424",
   "metadata": {},
   "source": [
    "### Tokenizer"
   ]
  },
  {
   "cell_type": "code",
   "execution_count": null,
   "id": "f82cd06a",
   "metadata": {},
   "outputs": [],
   "source": [
    "from tensorflow.keras.preprocessing.text import Tokenizer\n",
    "\n",
    "# This initializes a Keras utilities that does all the tokenization for you\n",
    "tokenizer = Tokenizer()\n",
    "\n",
    "# The tokenization learns a dictionnary that maps a token (integer) to each word\n",
    "# It can be done only on the train set - we are not supposed to know the test set !\n",
    "# This tokenization also lower your words, apply some filters, and so on - you can check the doc if you want\n",
    "tokenizer.fit_on_texts(X_train)\n",
    "    \n",
    "# We apply the tokenization to the train and test set\n",
    "X_train_token = tokenizer.texts_to_sequences(X_train)\n",
    "X_test_token = tokenizer.texts_to_sequences(X_test)\n",
    "\n",
    "print('-'*80)\n",
    "print(f\"X_train_token shape: {len(X_train_token)}\")\n",
    "print(f\"X_test_token shape: {len(X_test_token)}\")\n",
    "print('-'*80)"
   ]
  },
  {
   "cell_type": "code",
   "execution_count": null,
   "id": "aa8e3ab9",
   "metadata": {},
   "outputs": [],
   "source": [
    "vocab_size = len(tokenizer.word_index)\n",
    "\n",
    "print('-'*80)\n",
    "print(f\"vocab_size: {vocab_size}\")\n",
    "print('-'*80)"
   ]
  },
  {
   "cell_type": "markdown",
   "id": "b30e81ba",
   "metadata": {},
   "source": [
    "### Padding"
   ]
  },
  {
   "cell_type": "code",
   "execution_count": null,
   "id": "a8a3255f",
   "metadata": {},
   "outputs": [],
   "source": [
    "import tensorflow as tf\n",
    "from tensorflow.keras.preprocessing.sequence import pad_sequences\n",
    "\n",
    "X_train_pad = pad_sequences(X_train_token, maxlen=1000, dtype='float32', padding='post')\n",
    "X_test_pad = pad_sequences(X_test_token, maxlen=1000, dtype='float32', padding='post')\n",
    "# X_test_pad = pad_sequences(X_test_token, maxlen=X_train_pad.shape[1], dtype='float32', padding='post')\n",
    "\n",
    "print('-'*80)\n",
    "print(f\"X_train_pad shape: {X_train_pad.shape}\")\n",
    "print(f\"y_train shape: {len(y_train)}\")\n",
    "print('-'*80)\n",
    "print(f\"X_test_pad shape: {X_test_pad.shape}\")\n",
    "print(f\"y_test shape: {len(y_test)}\")\n",
    "print('-'*80)"
   ]
  },
  {
   "cell_type": "markdown",
   "id": "4ec075c6",
   "metadata": {},
   "source": [
    "### Tensorflow - embedding layer included"
   ]
  },
  {
   "cell_type": "code",
   "execution_count": null,
   "id": "ffbbcc1a",
   "metadata": {},
   "outputs": [],
   "source": [
    "def init_model():\n",
    "\n",
    "    embedding_size = 5\n",
    "\n",
    "    model = tf.keras.models.Sequential()\n",
    "    model.add(tf.keras.layers.Embedding(\n",
    "        input_dim = vocab_size+1,\n",
    "        input_length = 1000, # Max_sentence_length (optional, for model summary)\n",
    "#         input_length = X_train_pad.shape[1], # Max_sentence_length (optional, for model summary)\n",
    "        output_dim = embedding_size,# 100\n",
    "        mask_zero = True, # Included masking layer :)\n",
    "    ))\n",
    "\n",
    "    model.add(tf.keras.layers.LSTM(20, activation='tanh'))\n",
    "    model.add(tf.keras.layers.Dense(5, activation='relu'))\n",
    "    model.add(tf.keras.layers.Dense(1, activation=\"sigmoid\"))\n",
    "\n",
    "    model.compile(loss='binary_crossentropy',\n",
    "                  optimizer='rmsprop',\n",
    "                  metrics=['accuracy'])\n",
    "    \n",
    "    return model"
   ]
  },
  {
   "cell_type": "code",
   "execution_count": null,
   "id": "f46a2225",
   "metadata": {},
   "outputs": [],
   "source": [
    "init_model().summary()"
   ]
  },
  {
   "cell_type": "code",
   "execution_count": null,
   "id": "6431194c",
   "metadata": {},
   "outputs": [],
   "source": [
    "es = tf.keras.callbacks.EarlyStopping(monitor='val_loss', patience=10, restore_best_weights=True)\n",
    "\n",
    "model = init_model()\n",
    "\n",
    "history = model.fit(X_train_pad, \n",
    "                  y_train,\n",
    "                  validation_split=0.2,\n",
    "                  batch_size=64,\n",
    "                  epochs=15, \n",
    "                  callbacks=[es],\n",
    "                  verbose=1)"
   ]
  },
  {
   "cell_type": "code",
   "execution_count": null,
   "id": "f7c296c9",
   "metadata": {},
   "outputs": [],
   "source": [
    "import matplotlib.pyplot as plt\n",
    "\n",
    "def plot_loss(history, title=None):\n",
    "    fig, (ax1, ax2) = plt.subplots(1,2, figsize=(13,4))\n",
    "    ax1.plot(history.history['loss'])\n",
    "    ax1.plot(history.history['val_loss'])\n",
    "    ax1.set_title('Model loss')\n",
    "    ax1.set_ylabel('Loss')\n",
    "    ax1.set_xlabel('Epoch')\n",
    "    ax1.set_ylim(ymin=0, ymax=1)\n",
    "    ax1.legend(['Train', 'Validation'], loc='best')\n",
    "\n",
    "    ax2.plot(history.history['accuracy'])\n",
    "    ax2.plot(history.history['val_accuracy'])\n",
    "    ax2.set_title('ACC')\n",
    "    ax2.set_ylabel('ACC')\n",
    "    ax2.set_xlabel('Epoch')\n",
    "    ax2.set_ylim(ymin=0, ymax=1)\n",
    "    ax2.legend(['Train', 'Validation'], loc='best')\n",
    "    if title:\n",
    "        fig.suptitle(title)\n",
    "    plt.show()"
   ]
  },
  {
   "cell_type": "code",
   "execution_count": null,
   "id": "5b9e25a2",
   "metadata": {},
   "outputs": [],
   "source": [
    "plot_loss(history, title=None)"
   ]
  },
  {
   "cell_type": "code",
   "execution_count": null,
   "id": "fcf09951",
   "metadata": {},
   "outputs": [],
   "source": [
    "results = model.evaluate(X_test_pad, y_test)\n",
    "\n",
    "print('-'*80)\n",
    "print(f\"test score (MAPE): {results[1]:.3f}\")\n",
    "print('-'*80)"
   ]
  },
  {
   "cell_type": "code",
   "execution_count": null,
   "id": "d4d3d608",
   "metadata": {},
   "outputs": [],
   "source": []
  },
  {
   "cell_type": "code",
   "execution_count": null,
   "id": "9e0af1ad",
   "metadata": {},
   "outputs": [],
   "source": []
  },
  {
   "cell_type": "code",
   "execution_count": null,
   "id": "39232708",
   "metadata": {},
   "outputs": [],
   "source": []
  },
  {
   "cell_type": "code",
   "execution_count": null,
   "id": "986e13b5",
   "metadata": {},
   "outputs": [],
   "source": []
  },
  {
   "cell_type": "code",
   "execution_count": null,
   "id": "4281d8e2",
   "metadata": {},
   "outputs": [],
   "source": []
  },
  {
   "cell_type": "code",
   "execution_count": null,
   "id": "20ff538c",
   "metadata": {},
   "outputs": [],
   "source": []
  },
  {
   "cell_type": "code",
   "execution_count": null,
   "id": "7ff0ac8d",
   "metadata": {},
   "outputs": [],
   "source": []
  },
  {
   "cell_type": "code",
   "execution_count": null,
   "id": "36df1c2b",
   "metadata": {},
   "outputs": [],
   "source": []
  },
  {
   "cell_type": "code",
   "execution_count": null,
   "id": "ecaf5da8",
   "metadata": {},
   "outputs": [],
   "source": []
  },
  {
   "cell_type": "code",
   "execution_count": null,
   "id": "8b649ea3",
   "metadata": {},
   "outputs": [],
   "source": []
  },
  {
   "cell_type": "code",
   "execution_count": null,
   "id": "b93299d8",
   "metadata": {},
   "outputs": [],
   "source": []
  },
  {
   "cell_type": "code",
   "execution_count": null,
   "id": "02e80fa8",
   "metadata": {},
   "outputs": [],
   "source": []
  }
 ],
 "metadata": {
  "kernelspec": {
   "display_name": "Python 3 (ipykernel)",
   "language": "python",
   "name": "python3"
  },
  "language_info": {
   "codemirror_mode": {
    "name": "ipython",
    "version": 3
   },
   "file_extension": ".py",
   "mimetype": "text/x-python",
   "name": "python",
   "nbconvert_exporter": "python",
   "pygments_lexer": "ipython3",
   "version": "3.8.6"
  },
  "toc": {
   "base_numbering": 1,
   "nav_menu": {},
   "number_sections": true,
   "sideBar": true,
   "skip_h1_title": false,
   "title_cell": "Table of Contents",
   "title_sidebar": "Contents",
   "toc_cell": false,
   "toc_position": {},
   "toc_section_display": true,
   "toc_window_display": false
  },
  "varInspector": {
   "cols": {
    "lenName": 16,
    "lenType": 16,
    "lenVar": 40
   },
   "kernels_config": {
    "python": {
     "delete_cmd_postfix": "",
     "delete_cmd_prefix": "del ",
     "library": "var_list.py",
     "varRefreshCmd": "print(var_dic_list())"
    },
    "r": {
     "delete_cmd_postfix": ") ",
     "delete_cmd_prefix": "rm(",
     "library": "var_list.r",
     "varRefreshCmd": "cat(var_dic_list()) "
    }
   },
   "types_to_exclude": [
    "module",
    "function",
    "builtin_function_or_method",
    "instance",
    "_Feature"
   ],
   "window_display": false
  }
 },
 "nbformat": 4,
 "nbformat_minor": 5
}
