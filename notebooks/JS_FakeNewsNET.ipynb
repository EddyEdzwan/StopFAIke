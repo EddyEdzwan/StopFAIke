{
 "cells": [
  {
   "cell_type": "markdown",
   "id": "e56d214a",
   "metadata": {},
   "source": [
    "# `FakeNewsNET` dataset"
   ]
  },
  {
   "cell_type": "code",
   "execution_count": 2,
   "id": "c7ff9ad1",
   "metadata": {},
   "outputs": [],
   "source": [
    "import os\n",
    "import numpy as np\n",
    "import pandas as pd"
   ]
  },
  {
   "cell_type": "code",
   "execution_count": 3,
   "id": "560918bc",
   "metadata": {},
   "outputs": [],
   "source": [
    "%load_ext autoreload\n",
    "%autoreload 2"
   ]
  },
  {
   "cell_type": "markdown",
   "id": "2f529dbc",
   "metadata": {},
   "source": [
    "## Loading data"
   ]
  },
  {
   "cell_type": "code",
   "execution_count": 4,
   "id": "accdaca2",
   "metadata": {},
   "outputs": [],
   "source": [
    "data_path = '/Users/julienseguy/code/EddyEdzwan/StopFAIke/raw_data/fakenewsnet_dataset'\n",
    "\n",
    "dir_pol_real = os.path.join(data_path, 'politifact', 'real')\n",
    "dir_pol_fake = os.path.join(data_path, 'politifact', 'fake')\n",
    "dir_gos_real = os.path.join(data_path, 'gossipcop', 'real')\n",
    "dir_gos_fake = os.path.join(data_path, 'gossipcop', 'fake')"
   ]
  },
  {
   "cell_type": "code",
   "execution_count": 5,
   "id": "c4235eb0",
   "metadata": {},
   "outputs": [
    {
     "name": "stdout",
     "output_type": "stream",
     "text": [
      "--------------------------------------------------------------------------------\n",
      "pol_real_df shape: (559, 6)\n",
      "pol_fake_df shape: (403, 6)\n",
      "gos_real_df shape: (6311, 6)\n",
      "gos_fake_df shape: (4896, 6)\n",
      "--------------------------------------------------------------------------------\n"
     ]
    }
   ],
   "source": [
    "from StopFAIke.data import get_data\n",
    "\n",
    "pol_real_df = get_data(dir_pol_real)\n",
    "pol_fake_df = get_data(dir_pol_fake)\n",
    "gos_real_df = get_data(dir_gos_real)\n",
    "gos_fake_df = get_data(dir_gos_fake)\n",
    "\n",
    "print('-'*80)\n",
    "print(f\"pol_real_df shape: {pol_real_df.shape}\")\n",
    "print(f\"pol_fake_df shape: {pol_fake_df.shape}\")\n",
    "print(f\"gos_real_df shape: {gos_real_df.shape}\")\n",
    "print(f\"gos_fake_df shape: {gos_fake_df.shape}\")\n",
    "print('-'*80)"
   ]
  },
  {
   "cell_type": "code",
   "execution_count": 6,
   "id": "12ea27ed",
   "metadata": {},
   "outputs": [
    {
     "data": {
      "text/html": [
       "<div>\n",
       "<style scoped>\n",
       "    .dataframe tbody tr th:only-of-type {\n",
       "        vertical-align: middle;\n",
       "    }\n",
       "\n",
       "    .dataframe tbody tr th {\n",
       "        vertical-align: top;\n",
       "    }\n",
       "\n",
       "    .dataframe thead th {\n",
       "        text-align: right;\n",
       "    }\n",
       "</style>\n",
       "<table border=\"1\" class=\"dataframe\">\n",
       "  <thead>\n",
       "    <tr style=\"text-align: right;\">\n",
       "      <th></th>\n",
       "      <th>title</th>\n",
       "      <th>text</th>\n",
       "      <th>authors</th>\n",
       "      <th>num_images</th>\n",
       "      <th>domain</th>\n",
       "      <th>url</th>\n",
       "    </tr>\n",
       "  </thead>\n",
       "  <tbody>\n",
       "    <tr>\n",
       "      <th>0</th>\n",
       "      <td>Djou wins special election for Congress</td>\n",
       "      <td>Hanabusa leads Case with nearly all the votes ...</td>\n",
       "      <td>['Honolulu Star-Bulletin']</td>\n",
       "      <td>40</td>\n",
       "      <td>archive</td>\n",
       "      <td>https://web.archive.org/web/20100523122054/htt...</td>\n",
       "    </tr>\n",
       "    <tr>\n",
       "      <th>1</th>\n",
       "      <td>Change We Can Believe In</td>\n",
       "      <td>Remarks of Senator Barack Obama: Apostolic Chu...</td>\n",
       "      <td>[]</td>\n",
       "      <td>33</td>\n",
       "      <td>archive</td>\n",
       "      <td>https://web.archive.org/web/20080618171108/htt...</td>\n",
       "    </tr>\n",
       "    <tr>\n",
       "      <th>2</th>\n",
       "      <td>One in Four</td>\n",
       "      <td>One out of every four Pennsylvania households ...</td>\n",
       "      <td>['Congressman Joe Pitts']</td>\n",
       "      <td>2</td>\n",
       "      <td>medium</td>\n",
       "      <td>https://medium.com/@RepJoePitts/one-in-four-66...</td>\n",
       "    </tr>\n",
       "    <tr>\n",
       "      <th>3</th>\n",
       "      <td></td>\n",
       "      <td></td>\n",
       "      <td>[]</td>\n",
       "      <td>0</td>\n",
       "      <td>politico</td>\n",
       "      <td>http://www.politico.com/news/stories/0309/2034...</td>\n",
       "    </tr>\n",
       "    <tr>\n",
       "      <th>4</th>\n",
       "      <td></td>\n",
       "      <td></td>\n",
       "      <td>[]</td>\n",
       "      <td>0</td>\n",
       "      <td>fec</td>\n",
       "      <td>http://docquery.fec.gov/pdf/613/20180415910815...</td>\n",
       "    </tr>\n",
       "  </tbody>\n",
       "</table>\n",
       "</div>"
      ],
      "text/plain": [
       "                                     title  \\\n",
       "0  Djou wins special election for Congress   \n",
       "1                 Change We Can Believe In   \n",
       "2                              One in Four   \n",
       "3                                            \n",
       "4                                            \n",
       "\n",
       "                                                text  \\\n",
       "0  Hanabusa leads Case with nearly all the votes ...   \n",
       "1  Remarks of Senator Barack Obama: Apostolic Chu...   \n",
       "2  One out of every four Pennsylvania households ...   \n",
       "3                                                      \n",
       "4                                                      \n",
       "\n",
       "                      authors  num_images    domain  \\\n",
       "0  ['Honolulu Star-Bulletin']          40   archive   \n",
       "1                          []          33   archive   \n",
       "2   ['Congressman Joe Pitts']           2    medium   \n",
       "3                          []           0  politico   \n",
       "4                          []           0       fec   \n",
       "\n",
       "                                                 url  \n",
       "0  https://web.archive.org/web/20100523122054/htt...  \n",
       "1  https://web.archive.org/web/20080618171108/htt...  \n",
       "2  https://medium.com/@RepJoePitts/one-in-four-66...  \n",
       "3  http://www.politico.com/news/stories/0309/2034...  \n",
       "4  http://docquery.fec.gov/pdf/613/20180415910815...  "
      ]
     },
     "execution_count": 6,
     "metadata": {},
     "output_type": "execute_result"
    }
   ],
   "source": [
    "pol_real_df.head()"
   ]
  },
  {
   "cell_type": "markdown",
   "id": "f9985846",
   "metadata": {},
   "source": [
    "### Add labels & info"
   ]
  },
  {
   "cell_type": "code",
   "execution_count": 7,
   "id": "dcdb7e3e",
   "metadata": {},
   "outputs": [],
   "source": [
    "pol_real_df['category'] = 0 #True\n",
    "pol_fake_df['category'] = 1 #Fake\n",
    "gos_real_df['category'] = 0\n",
    "gos_fake_df['category'] = 1\n",
    "\n",
    "pol_real_df['news_type'] = 'political'\n",
    "pol_fake_df['news_type'] = 'political'\n",
    "gos_real_df['news_type'] = 'gossip'\n",
    "gos_fake_df['news_type'] = 'gossip'"
   ]
  },
  {
   "cell_type": "code",
   "execution_count": 8,
   "id": "32dba556",
   "metadata": {},
   "outputs": [
    {
     "data": {
      "text/html": [
       "<div>\n",
       "<style scoped>\n",
       "    .dataframe tbody tr th:only-of-type {\n",
       "        vertical-align: middle;\n",
       "    }\n",
       "\n",
       "    .dataframe tbody tr th {\n",
       "        vertical-align: top;\n",
       "    }\n",
       "\n",
       "    .dataframe thead th {\n",
       "        text-align: right;\n",
       "    }\n",
       "</style>\n",
       "<table border=\"1\" class=\"dataframe\">\n",
       "  <thead>\n",
       "    <tr style=\"text-align: right;\">\n",
       "      <th></th>\n",
       "      <th>title</th>\n",
       "      <th>text</th>\n",
       "      <th>authors</th>\n",
       "      <th>num_images</th>\n",
       "      <th>domain</th>\n",
       "      <th>url</th>\n",
       "      <th>category</th>\n",
       "      <th>news_type</th>\n",
       "    </tr>\n",
       "  </thead>\n",
       "  <tbody>\n",
       "    <tr>\n",
       "      <th>0</th>\n",
       "      <td>Djou wins special election for Congress</td>\n",
       "      <td>Hanabusa leads Case with nearly all the votes ...</td>\n",
       "      <td>['Honolulu Star-Bulletin']</td>\n",
       "      <td>40</td>\n",
       "      <td>archive</td>\n",
       "      <td>https://web.archive.org/web/20100523122054/htt...</td>\n",
       "      <td>0</td>\n",
       "      <td>political</td>\n",
       "    </tr>\n",
       "    <tr>\n",
       "      <th>1</th>\n",
       "      <td>Change We Can Believe In</td>\n",
       "      <td>Remarks of Senator Barack Obama: Apostolic Chu...</td>\n",
       "      <td>[]</td>\n",
       "      <td>33</td>\n",
       "      <td>archive</td>\n",
       "      <td>https://web.archive.org/web/20080618171108/htt...</td>\n",
       "      <td>0</td>\n",
       "      <td>political</td>\n",
       "    </tr>\n",
       "    <tr>\n",
       "      <th>2</th>\n",
       "      <td>One in Four</td>\n",
       "      <td>One out of every four Pennsylvania households ...</td>\n",
       "      <td>['Congressman Joe Pitts']</td>\n",
       "      <td>2</td>\n",
       "      <td>medium</td>\n",
       "      <td>https://medium.com/@RepJoePitts/one-in-four-66...</td>\n",
       "      <td>0</td>\n",
       "      <td>political</td>\n",
       "    </tr>\n",
       "    <tr>\n",
       "      <th>3</th>\n",
       "      <td></td>\n",
       "      <td></td>\n",
       "      <td>[]</td>\n",
       "      <td>0</td>\n",
       "      <td>politico</td>\n",
       "      <td>http://www.politico.com/news/stories/0309/2034...</td>\n",
       "      <td>0</td>\n",
       "      <td>political</td>\n",
       "    </tr>\n",
       "    <tr>\n",
       "      <th>4</th>\n",
       "      <td></td>\n",
       "      <td></td>\n",
       "      <td>[]</td>\n",
       "      <td>0</td>\n",
       "      <td>fec</td>\n",
       "      <td>http://docquery.fec.gov/pdf/613/20180415910815...</td>\n",
       "      <td>0</td>\n",
       "      <td>political</td>\n",
       "    </tr>\n",
       "  </tbody>\n",
       "</table>\n",
       "</div>"
      ],
      "text/plain": [
       "                                     title  \\\n",
       "0  Djou wins special election for Congress   \n",
       "1                 Change We Can Believe In   \n",
       "2                              One in Four   \n",
       "3                                            \n",
       "4                                            \n",
       "\n",
       "                                                text  \\\n",
       "0  Hanabusa leads Case with nearly all the votes ...   \n",
       "1  Remarks of Senator Barack Obama: Apostolic Chu...   \n",
       "2  One out of every four Pennsylvania households ...   \n",
       "3                                                      \n",
       "4                                                      \n",
       "\n",
       "                      authors  num_images    domain  \\\n",
       "0  ['Honolulu Star-Bulletin']          40   archive   \n",
       "1                          []          33   archive   \n",
       "2   ['Congressman Joe Pitts']           2    medium   \n",
       "3                          []           0  politico   \n",
       "4                          []           0       fec   \n",
       "\n",
       "                                                 url  category  news_type  \n",
       "0  https://web.archive.org/web/20100523122054/htt...         0  political  \n",
       "1  https://web.archive.org/web/20080618171108/htt...         0  political  \n",
       "2  https://medium.com/@RepJoePitts/one-in-four-66...         0  political  \n",
       "3  http://www.politico.com/news/stories/0309/2034...         0  political  \n",
       "4  http://docquery.fec.gov/pdf/613/20180415910815...         0  political  "
      ]
     },
     "execution_count": 8,
     "metadata": {},
     "output_type": "execute_result"
    }
   ],
   "source": [
    "pol_real_df.head()"
   ]
  },
  {
   "cell_type": "markdown",
   "id": "e9e7f290",
   "metadata": {},
   "source": [
    "### Merging"
   ]
  },
  {
   "cell_type": "code",
   "execution_count": 17,
   "id": "eb81cf87",
   "metadata": {},
   "outputs": [
    {
     "name": "stdout",
     "output_type": "stream",
     "text": [
      "--------------------------------------------------------------------------------\n",
      "data shape: (12169, 8)\n",
      "--------------------------------------------------------------------------------\n",
      "ratio #true: 56.45%\n",
      "ratio #fake: 43.55%\n",
      "--------------------------------------------------------------------------------\n",
      "ratio #true - political: 4.59%\n",
      "ratio #fake - political: 3.31%\n",
      "--------------------------------------------------------------------------------\n",
      "ratio #true - gossip: 51.86%\n",
      "ratio #fake - gossip: 40.23%\n",
      "--------------------------------------------------------------------------------\n"
     ]
    }
   ],
   "source": [
    "data = pd.concat([pol_real_df, pol_fake_df, gos_real_df, gos_fake_df]).reset_index(drop=True)\n",
    "\n",
    "print('-'*80)\n",
    "print(f\"data shape: {data.shape}\")\n",
    "print('-'*80)\n",
    "print(f\"ratio #true: {len(data[data['category']==0])/len(data)*100:.2f}%\")\n",
    "print(f\"ratio #fake: {len(data[data['category']==1])/len(data)*100:.2f}%\")\n",
    "print('-'*80)\n",
    "print(f\"ratio #true - political: {len(data[(data['category']==0) & (data['news_type']=='political')])/len(data)*100:.2f}%\")\n",
    "print(f\"ratio #fake - political: {len(data[(data['category']==1) & (data['news_type']=='political')])/len(data)*100:.2f}%\")\n",
    "print('-'*80)\n",
    "print(f\"ratio #true - gossip: {len(data[(data['category']==0) & (data['news_type']=='gossip')])/len(data)*100:.2f}%\")\n",
    "print(f\"ratio #fake - gossip: {len(data[(data['category']==1) & (data['news_type']=='gossip')])/len(data)*100:.2f}%\")\n",
    "print('-'*80)"
   ]
  },
  {
   "cell_type": "markdown",
   "id": "d0c8f2ae",
   "metadata": {},
   "source": [
    "## Preprocessing"
   ]
  },
  {
   "cell_type": "markdown",
   "id": "e031982f",
   "metadata": {},
   "source": [
    "### Missing values"
   ]
  },
  {
   "cell_type": "code",
   "execution_count": 18,
   "id": "8fb0eba2",
   "metadata": {},
   "outputs": [],
   "source": [
    "def get_missing(df):\n",
    "    missing_values = df.isnull().sum().sort_values(ascending = False)\n",
    "    ratio = missing_values/len(data)*100\n",
    "    return pd.DataFrame({'missing_values': missing_values, 'ratio': round(ratio)}).head(10)"
   ]
  },
  {
   "cell_type": "code",
   "execution_count": 19,
   "id": "799a6c8c",
   "metadata": {},
   "outputs": [
    {
     "data": {
      "text/html": [
       "<div>\n",
       "<style scoped>\n",
       "    .dataframe tbody tr th:only-of-type {\n",
       "        vertical-align: middle;\n",
       "    }\n",
       "\n",
       "    .dataframe tbody tr th {\n",
       "        vertical-align: top;\n",
       "    }\n",
       "\n",
       "    .dataframe thead th {\n",
       "        text-align: right;\n",
       "    }\n",
       "</style>\n",
       "<table border=\"1\" class=\"dataframe\">\n",
       "  <thead>\n",
       "    <tr style=\"text-align: right;\">\n",
       "      <th></th>\n",
       "      <th>missing_values</th>\n",
       "      <th>ratio</th>\n",
       "    </tr>\n",
       "  </thead>\n",
       "  <tbody>\n",
       "    <tr>\n",
       "      <th>title</th>\n",
       "      <td>0</td>\n",
       "      <td>0.0</td>\n",
       "    </tr>\n",
       "    <tr>\n",
       "      <th>text</th>\n",
       "      <td>0</td>\n",
       "      <td>0.0</td>\n",
       "    </tr>\n",
       "    <tr>\n",
       "      <th>authors</th>\n",
       "      <td>0</td>\n",
       "      <td>0.0</td>\n",
       "    </tr>\n",
       "    <tr>\n",
       "      <th>num_images</th>\n",
       "      <td>0</td>\n",
       "      <td>0.0</td>\n",
       "    </tr>\n",
       "    <tr>\n",
       "      <th>domain</th>\n",
       "      <td>0</td>\n",
       "      <td>0.0</td>\n",
       "    </tr>\n",
       "    <tr>\n",
       "      <th>url</th>\n",
       "      <td>0</td>\n",
       "      <td>0.0</td>\n",
       "    </tr>\n",
       "    <tr>\n",
       "      <th>category</th>\n",
       "      <td>0</td>\n",
       "      <td>0.0</td>\n",
       "    </tr>\n",
       "    <tr>\n",
       "      <th>news_type</th>\n",
       "      <td>0</td>\n",
       "      <td>0.0</td>\n",
       "    </tr>\n",
       "  </tbody>\n",
       "</table>\n",
       "</div>"
      ],
      "text/plain": [
       "            missing_values  ratio\n",
       "title                    0    0.0\n",
       "text                     0    0.0\n",
       "authors                  0    0.0\n",
       "num_images               0    0.0\n",
       "domain                   0    0.0\n",
       "url                      0    0.0\n",
       "category                 0    0.0\n",
       "news_type                0    0.0"
      ]
     },
     "execution_count": 19,
     "metadata": {},
     "output_type": "execute_result"
    }
   ],
   "source": [
    "get_missing(data)"
   ]
  },
  {
   "cell_type": "code",
   "execution_count": 43,
   "id": "e30c10b6",
   "metadata": {},
   "outputs": [
    {
     "data": {
      "text/html": [
       "<div>\n",
       "<style scoped>\n",
       "    .dataframe tbody tr th:only-of-type {\n",
       "        vertical-align: middle;\n",
       "    }\n",
       "\n",
       "    .dataframe tbody tr th {\n",
       "        vertical-align: top;\n",
       "    }\n",
       "\n",
       "    .dataframe thead th {\n",
       "        text-align: right;\n",
       "    }\n",
       "</style>\n",
       "<table border=\"1\" class=\"dataframe\">\n",
       "  <thead>\n",
       "    <tr style=\"text-align: right;\">\n",
       "      <th></th>\n",
       "      <th>title</th>\n",
       "      <th>text</th>\n",
       "      <th>authors</th>\n",
       "      <th>num_images</th>\n",
       "      <th>domain</th>\n",
       "      <th>url</th>\n",
       "      <th>category</th>\n",
       "      <th>news_type</th>\n",
       "    </tr>\n",
       "  </thead>\n",
       "  <tbody>\n",
       "    <tr>\n",
       "      <th>0</th>\n",
       "      <td>Djou wins special election for Congress</td>\n",
       "      <td>Hanabusa leads Case with nearly all the votes ...</td>\n",
       "      <td>['Honolulu Star-Bulletin']</td>\n",
       "      <td>40</td>\n",
       "      <td>archive</td>\n",
       "      <td>https://web.archive.org/web/20100523122054/htt...</td>\n",
       "      <td>0</td>\n",
       "      <td>political</td>\n",
       "    </tr>\n",
       "    <tr>\n",
       "      <th>1</th>\n",
       "      <td>Change We Can Believe In</td>\n",
       "      <td>Remarks of Senator Barack Obama: Apostolic Chu...</td>\n",
       "      <td>[]</td>\n",
       "      <td>33</td>\n",
       "      <td>archive</td>\n",
       "      <td>https://web.archive.org/web/20080618171108/htt...</td>\n",
       "      <td>0</td>\n",
       "      <td>political</td>\n",
       "    </tr>\n",
       "    <tr>\n",
       "      <th>2</th>\n",
       "      <td>One in Four</td>\n",
       "      <td>One out of every four Pennsylvania households ...</td>\n",
       "      <td>['Congressman Joe Pitts']</td>\n",
       "      <td>2</td>\n",
       "      <td>medium</td>\n",
       "      <td>https://medium.com/@RepJoePitts/one-in-four-66...</td>\n",
       "      <td>0</td>\n",
       "      <td>political</td>\n",
       "    </tr>\n",
       "    <tr>\n",
       "      <th>5</th>\n",
       "      <td>Pastors To Protest IRS Rules on Political Advo...</td>\n",
       "      <td>On Sept. 28, pastors from 20 states will give ...</td>\n",
       "      <td>[]</td>\n",
       "      <td>4</td>\n",
       "      <td>pewforum</td>\n",
       "      <td>http://www.pewforum.org/2008/09/19/pastors-to-...</td>\n",
       "      <td>0</td>\n",
       "      <td>political</td>\n",
       "    </tr>\n",
       "    <tr>\n",
       "      <th>7</th>\n",
       "      <td>“Dictionary” on President Obama’s Health Care ...</td>\n",
       "      <td>WASHINGTON – The Republican National Committee...</td>\n",
       "      <td>['Written On September', 'Republican National ...</td>\n",
       "      <td>32</td>\n",
       "      <td>archive</td>\n",
       "      <td>https://web.archive.org/web/20091003005639/htt...</td>\n",
       "      <td>0</td>\n",
       "      <td>political</td>\n",
       "    </tr>\n",
       "  </tbody>\n",
       "</table>\n",
       "</div>"
      ],
      "text/plain": [
       "                                               title  \\\n",
       "0            Djou wins special election for Congress   \n",
       "1                           Change We Can Believe In   \n",
       "2                                        One in Four   \n",
       "5  Pastors To Protest IRS Rules on Political Advo...   \n",
       "7  “Dictionary” on President Obama’s Health Care ...   \n",
       "\n",
       "                                                text  \\\n",
       "0  Hanabusa leads Case with nearly all the votes ...   \n",
       "1  Remarks of Senator Barack Obama: Apostolic Chu...   \n",
       "2  One out of every four Pennsylvania households ...   \n",
       "5  On Sept. 28, pastors from 20 states will give ...   \n",
       "7  WASHINGTON – The Republican National Committee...   \n",
       "\n",
       "                                             authors  num_images    domain  \\\n",
       "0                         ['Honolulu Star-Bulletin']          40   archive   \n",
       "1                                                 []          33   archive   \n",
       "2                          ['Congressman Joe Pitts']           2    medium   \n",
       "5                                                 []           4  pewforum   \n",
       "7  ['Written On September', 'Republican National ...          32   archive   \n",
       "\n",
       "                                                 url  category  news_type  \n",
       "0  https://web.archive.org/web/20100523122054/htt...         0  political  \n",
       "1  https://web.archive.org/web/20080618171108/htt...         0  political  \n",
       "2  https://medium.com/@RepJoePitts/one-in-four-66...         0  political  \n",
       "5  http://www.pewforum.org/2008/09/19/pastors-to-...         0  political  \n",
       "7  https://web.archive.org/web/20091003005639/htt...         0  political  "
      ]
     },
     "execution_count": 43,
     "metadata": {},
     "output_type": "execute_result"
    }
   ],
   "source": [
    "data.head()"
   ]
  },
  {
   "cell_type": "code",
   "execution_count": 44,
   "id": "466a6e3e",
   "metadata": {},
   "outputs": [
    {
     "data": {
      "text/plain": [
       "61"
      ]
     },
     "execution_count": 44,
     "metadata": {},
     "output_type": "execute_result"
    }
   ],
   "source": [
    "indices = data[data['title'] == ''].index\n",
    "len(indices)"
   ]
  },
  {
   "cell_type": "code",
   "execution_count": 47,
   "id": "ae6d081e",
   "metadata": {},
   "outputs": [
    {
     "data": {
      "text/plain": [
       "0"
      ]
     },
     "execution_count": 47,
     "metadata": {},
     "output_type": "execute_result"
    }
   ],
   "source": [
    "indices = data[data['text'] == ''].index\n",
    "len(indices)"
   ]
  },
  {
   "cell_type": "code",
   "execution_count": 48,
   "id": "b1d64059",
   "metadata": {},
   "outputs": [
    {
     "data": {
      "text/plain": [
       "3722"
      ]
     },
     "execution_count": 48,
     "metadata": {},
     "output_type": "execute_result"
    }
   ],
   "source": [
    "indices = data[data['authors'] == '[]'].index\n",
    "len(indices)"
   ]
  },
  {
   "cell_type": "code",
   "execution_count": 49,
   "id": "7e92ff04",
   "metadata": {},
   "outputs": [
    {
     "name": "stdout",
     "output_type": "stream",
     "text": [
      "--------------------------------------------------------------------------------\n",
      "data shape: (11763, 8)\n",
      "--------------------------------------------------------------------------------\n"
     ]
    }
   ],
   "source": [
    "from StopFAIke.data import remove_missing_values\n",
    "\n",
    "data = remove_missing_values(data, 'text', '')\n",
    "\n",
    "print('-'*80)\n",
    "print(f\"data shape: {data.shape}\")\n",
    "print('-'*80)"
   ]
  },
  {
   "cell_type": "code",
   "execution_count": 51,
   "id": "3a6f1d8a",
   "metadata": {},
   "outputs": [
    {
     "data": {
      "text/html": [
       "<div>\n",
       "<style scoped>\n",
       "    .dataframe tbody tr th:only-of-type {\n",
       "        vertical-align: middle;\n",
       "    }\n",
       "\n",
       "    .dataframe tbody tr th {\n",
       "        vertical-align: top;\n",
       "    }\n",
       "\n",
       "    .dataframe thead th {\n",
       "        text-align: right;\n",
       "    }\n",
       "</style>\n",
       "<table border=\"1\" class=\"dataframe\">\n",
       "  <thead>\n",
       "    <tr style=\"text-align: right;\">\n",
       "      <th></th>\n",
       "      <th>title</th>\n",
       "      <th>text</th>\n",
       "      <th>authors</th>\n",
       "      <th>num_images</th>\n",
       "      <th>domain</th>\n",
       "      <th>url</th>\n",
       "      <th>category</th>\n",
       "      <th>news_type</th>\n",
       "    </tr>\n",
       "  </thead>\n",
       "  <tbody>\n",
       "    <tr>\n",
       "      <th>0</th>\n",
       "      <td>Djou wins special election for Congress</td>\n",
       "      <td>Hanabusa leads Case with nearly all the votes ...</td>\n",
       "      <td>['Honolulu Star-Bulletin']</td>\n",
       "      <td>40</td>\n",
       "      <td>archive</td>\n",
       "      <td>https://web.archive.org/web/20100523122054/htt...</td>\n",
       "      <td>0</td>\n",
       "      <td>political</td>\n",
       "    </tr>\n",
       "    <tr>\n",
       "      <th>1</th>\n",
       "      <td>Change We Can Believe In</td>\n",
       "      <td>Remarks of Senator Barack Obama: Apostolic Chu...</td>\n",
       "      <td>[]</td>\n",
       "      <td>33</td>\n",
       "      <td>archive</td>\n",
       "      <td>https://web.archive.org/web/20080618171108/htt...</td>\n",
       "      <td>0</td>\n",
       "      <td>political</td>\n",
       "    </tr>\n",
       "    <tr>\n",
       "      <th>2</th>\n",
       "      <td>One in Four</td>\n",
       "      <td>One out of every four Pennsylvania households ...</td>\n",
       "      <td>['Congressman Joe Pitts']</td>\n",
       "      <td>2</td>\n",
       "      <td>medium</td>\n",
       "      <td>https://medium.com/@RepJoePitts/one-in-four-66...</td>\n",
       "      <td>0</td>\n",
       "      <td>political</td>\n",
       "    </tr>\n",
       "    <tr>\n",
       "      <th>5</th>\n",
       "      <td>Pastors To Protest IRS Rules on Political Advo...</td>\n",
       "      <td>On Sept. 28, pastors from 20 states will give ...</td>\n",
       "      <td>[]</td>\n",
       "      <td>4</td>\n",
       "      <td>pewforum</td>\n",
       "      <td>http://www.pewforum.org/2008/09/19/pastors-to-...</td>\n",
       "      <td>0</td>\n",
       "      <td>political</td>\n",
       "    </tr>\n",
       "    <tr>\n",
       "      <th>7</th>\n",
       "      <td>“Dictionary” on President Obama’s Health Care ...</td>\n",
       "      <td>WASHINGTON – The Republican National Committee...</td>\n",
       "      <td>['Written On September', 'Republican National ...</td>\n",
       "      <td>32</td>\n",
       "      <td>archive</td>\n",
       "      <td>https://web.archive.org/web/20091003005639/htt...</td>\n",
       "      <td>0</td>\n",
       "      <td>political</td>\n",
       "    </tr>\n",
       "  </tbody>\n",
       "</table>\n",
       "</div>"
      ],
      "text/plain": [
       "                                               title  \\\n",
       "0            Djou wins special election for Congress   \n",
       "1                           Change We Can Believe In   \n",
       "2                                        One in Four   \n",
       "5  Pastors To Protest IRS Rules on Political Advo...   \n",
       "7  “Dictionary” on President Obama’s Health Care ...   \n",
       "\n",
       "                                                text  \\\n",
       "0  Hanabusa leads Case with nearly all the votes ...   \n",
       "1  Remarks of Senator Barack Obama: Apostolic Chu...   \n",
       "2  One out of every four Pennsylvania households ...   \n",
       "5  On Sept. 28, pastors from 20 states will give ...   \n",
       "7  WASHINGTON – The Republican National Committee...   \n",
       "\n",
       "                                             authors  num_images    domain  \\\n",
       "0                         ['Honolulu Star-Bulletin']          40   archive   \n",
       "1                                                 []          33   archive   \n",
       "2                          ['Congressman Joe Pitts']           2    medium   \n",
       "5                                                 []           4  pewforum   \n",
       "7  ['Written On September', 'Republican National ...          32   archive   \n",
       "\n",
       "                                                 url  category  news_type  \n",
       "0  https://web.archive.org/web/20100523122054/htt...         0  political  \n",
       "1  https://web.archive.org/web/20080618171108/htt...         0  political  \n",
       "2  https://medium.com/@RepJoePitts/one-in-four-66...         0  political  \n",
       "5  http://www.pewforum.org/2008/09/19/pastors-to-...         0  political  \n",
       "7  https://web.archive.org/web/20091003005639/htt...         0  political  "
      ]
     },
     "execution_count": 51,
     "metadata": {},
     "output_type": "execute_result"
    }
   ],
   "source": [
    "data.head()"
   ]
  },
  {
   "cell_type": "markdown",
   "id": "bf5f516e",
   "metadata": {},
   "source": [
    "### Duplicates"
   ]
  },
  {
   "cell_type": "code",
   "execution_count": 52,
   "id": "26c2a827",
   "metadata": {},
   "outputs": [],
   "source": [
    "def count_duplicate(df):\n",
    "    return df.duplicated().sum()"
   ]
  },
  {
   "cell_type": "code",
   "execution_count": 54,
   "id": "e2a49d0c",
   "metadata": {},
   "outputs": [
    {
     "name": "stdout",
     "output_type": "stream",
     "text": [
      "--------------------------------------------------------------------------------\n",
      "duplicates: 514\n",
      "--------------------------------------------------------------------------------\n"
     ]
    }
   ],
   "source": [
    "print('-'*80)\n",
    "print(f\"duplicates: {count_duplicate(data)}\")\n",
    "print('-'*80)"
   ]
  },
  {
   "cell_type": "code",
   "execution_count": 55,
   "id": "14326db5",
   "metadata": {},
   "outputs": [
    {
     "name": "stdout",
     "output_type": "stream",
     "text": [
      "--------------------------------------------------------------------------------\n",
      "data shape (wo duplicates): (11249, 8)\n",
      "--------------------------------------------------------------------------------\n"
     ]
    }
   ],
   "source": [
    "data.drop_duplicates(inplace=True)\n",
    "\n",
    "print('-'*80)\n",
    "print(f\"data shape (wo duplicates): {data.shape}\")\n",
    "print('-'*80)"
   ]
  },
  {
   "cell_type": "markdown",
   "id": "3737a013",
   "metadata": {},
   "source": [
    "### Cleaning - punctuation / lowercased / tokenize / stop_words / lemmatize"
   ]
  },
  {
   "cell_type": "code",
   "execution_count": 61,
   "id": "79787f9a",
   "metadata": {},
   "outputs": [],
   "source": [
    "from nltk.corpus import stopwords \n",
    "import string\n",
    "from nltk.stem.wordnet import WordNetLemmatizer\n",
    "from nltk import word_tokenize \n",
    "\n",
    "def clean(text):\n",
    "    for punctuation in string.punctuation:\n",
    "        text = text.replace(punctuation, ' ') # Remove Punctuation\n",
    "    lowercased = text.lower() # Lower Case\n",
    "    tokenized = word_tokenize(lowercased) # Tokenize\n",
    "    words_only = [word for word in tokenized if word.isalpha()] # Remove numbers\n",
    "    stop_words = set(stopwords.words('english')) # Make stopword list\n",
    "    without_stopwords = [word for word in words_only if not word in stop_words] # Remove Stop Words\n",
    "    lemma = WordNetLemmatizer() # Initiate Lemmatizer\n",
    "    lemmatized = [lemma.lemmatize(word) for word in without_stopwords] # Lemmatize\n",
    "    return lemmatized"
   ]
  },
  {
   "cell_type": "code",
   "execution_count": 62,
   "id": "72c56b80",
   "metadata": {},
   "outputs": [],
   "source": [
    "data['clean_text'] = data['text'].apply(clean)"
   ]
  },
  {
   "cell_type": "code",
   "execution_count": 64,
   "id": "46a1ae7b",
   "metadata": {},
   "outputs": [
    {
     "data": {
      "text/plain": [
       "0    [hanabusa, lead, case, nearly, vote, counted, ...\n",
       "1    [remark, senator, barack, obama, apostolic, ch...\n",
       "2    [one, every, four, pennsylvania, household, af...\n",
       "5    [sept, pastor, state, give, politically, based...\n",
       "7    [washington, republican, national, committee, ...\n",
       "Name: clean_text, dtype: object"
      ]
     },
     "execution_count": 64,
     "metadata": {},
     "output_type": "execute_result"
    }
   ],
   "source": [
    "data['clean_text'].head()"
   ]
  },
  {
   "cell_type": "markdown",
   "id": "72021ee9",
   "metadata": {},
   "source": [
    "## Training"
   ]
  },
  {
   "cell_type": "code",
   "execution_count": 65,
   "id": "96dc1a04",
   "metadata": {},
   "outputs": [
    {
     "name": "stdout",
     "output_type": "stream",
     "text": [
      "--------------------------------------------------------------------------------\n",
      "X shape: (11249,)\n",
      "y shape: (11249,)\n",
      "--------------------------------------------------------------------------------\n"
     ]
    }
   ],
   "source": [
    "X = data['clean_text'].copy()\n",
    "y = data['category'].copy()\n",
    "\n",
    "print('-'*80)\n",
    "print(f\"X shape: {X.shape}\")\n",
    "print(f\"y shape: {y.shape}\")\n",
    "print('-'*80)"
   ]
  },
  {
   "cell_type": "code",
   "execution_count": 67,
   "id": "b5e11aac",
   "metadata": {},
   "outputs": [
    {
     "name": "stdout",
     "output_type": "stream",
     "text": [
      "--------------------------------------------------------------------------------\n",
      "X_train shape: (7874,)\n",
      "y_train shape: (7874,)\n",
      "--------------------------------------------------------------------------------\n",
      "X_test shape: (3375,)\n",
      "y_test shape: (3375,)\n",
      "--------------------------------------------------------------------------------\n"
     ]
    }
   ],
   "source": [
    "from sklearn.model_selection import train_test_split\n",
    "\n",
    "X_train, X_test, y_train, y_test = train_test_split(X, y, test_size=0.3, random_state=42)\n",
    "\n",
    "print('-'*80)\n",
    "print(f\"X_train shape: {X_train.shape}\")\n",
    "print(f\"y_train shape: {y_train.shape}\")\n",
    "print('-'*80)\n",
    "print(f\"X_test shape: {X_test.shape}\")\n",
    "print(f\"y_test shape: {y_test.shape}\")\n",
    "print('-'*80)"
   ]
  },
  {
   "cell_type": "markdown",
   "id": "2deefd13",
   "metadata": {},
   "source": [
    "### Tokenizer"
   ]
  },
  {
   "cell_type": "code",
   "execution_count": 68,
   "id": "39c64d63",
   "metadata": {},
   "outputs": [
    {
     "name": "stdout",
     "output_type": "stream",
     "text": [
      "--------------------------------------------------------------------------------\n",
      "X_train_token shape: 7874\n",
      "X_test_token shape: 3375\n",
      "--------------------------------------------------------------------------------\n"
     ]
    }
   ],
   "source": [
    "from tensorflow.keras.preprocessing.text import Tokenizer\n",
    "\n",
    "# This initializes a Keras utilities that does all the tokenization for you\n",
    "tokenizer = Tokenizer()\n",
    "\n",
    "# The tokenization learns a dictionnary that maps a token (integer) to each word\n",
    "# It can be done only on the train set - we are not supposed to know the test set !\n",
    "# This tokenization also lower your words, apply some filters, and so on - you can check the doc if you want\n",
    "tokenizer.fit_on_texts(X_train)\n",
    "    \n",
    "# We apply the tokenization to the train and test set\n",
    "X_train_token = tokenizer.texts_to_sequences(X_train)\n",
    "X_test_token = tokenizer.texts_to_sequences(X_test)\n",
    "\n",
    "print('-'*80)\n",
    "print(f\"X_train_token shape: {len(X_train_token)}\")\n",
    "print(f\"X_test_token shape: {len(X_test_token)}\")\n",
    "print('-'*80)"
   ]
  },
  {
   "cell_type": "code",
   "execution_count": 69,
   "id": "c208b67f",
   "metadata": {},
   "outputs": [
    {
     "name": "stdout",
     "output_type": "stream",
     "text": [
      "--------------------------------------------------------------------------------\n",
      "vocab_size: 62967\n",
      "--------------------------------------------------------------------------------\n"
     ]
    }
   ],
   "source": [
    "vocab_size = len(tokenizer.word_index)\n",
    "\n",
    "print('-'*80)\n",
    "print(f\"vocab_size: {vocab_size}\")\n",
    "print('-'*80)"
   ]
  },
  {
   "cell_type": "markdown",
   "id": "ba2d3e24",
   "metadata": {},
   "source": [
    "### Padding"
   ]
  },
  {
   "cell_type": "code",
   "execution_count": 75,
   "id": "0e167c62",
   "metadata": {},
   "outputs": [
    {
     "name": "stdout",
     "output_type": "stream",
     "text": [
      "--------------------------------------------------------------------------------\n",
      "X_train_pad shape: (7874, 9994)\n",
      "y_train shape: 7874\n",
      "--------------------------------------------------------------------------------\n",
      "X_test_pad shape: (3375, 9870)\n",
      "y_test shape: 3375\n",
      "--------------------------------------------------------------------------------\n"
     ]
    }
   ],
   "source": [
    "import tensorflow as tf\n",
    "from tensorflow.keras.preprocessing.sequence import pad_sequences\n",
    "\n",
    "X_train_pad = pad_sequences(X_train_token, dtype='float32', padding='post')\n",
    "X_test_pad = pad_sequences(X_test_token, dtype='float32', padding='post')\n",
    "# X_test_pad = pad_sequences(X_test_token, maxlen=X_train_pad.shape[1], dtype='float32', padding='post')\n",
    "\n",
    "print('-'*80)\n",
    "print(f\"X_train_pad shape: {X_train_pad.shape}\")\n",
    "print(f\"y_train shape: {len(y_train)}\")\n",
    "print('-'*80)\n",
    "print(f\"X_test_pad shape: {X_test_pad.shape}\")\n",
    "print(f\"y_test shape: {len(y_test)}\")\n",
    "print('-'*80)"
   ]
  },
  {
   "cell_type": "markdown",
   "id": "2391b65d",
   "metadata": {},
   "source": [
    "### Tensorflow - embedding layer included"
   ]
  },
  {
   "cell_type": "code",
   "execution_count": 76,
   "id": "9e5b3534",
   "metadata": {},
   "outputs": [],
   "source": [
    "def init_model():\n",
    "\n",
    "    embedding_size = 5\n",
    "\n",
    "    model = tf.keras.models.Sequential()\n",
    "    model.add(tf.keras.layers.Embedding(\n",
    "        input_dim = vocab_size+1,\n",
    "        input_length = 9994, # Max_sentence_length (optional, for model summary)\n",
    "        output_dim = embedding_size,# 100\n",
    "        mask_zero = True, # Included masking layer :)\n",
    "    ))\n",
    "\n",
    "    model.add(tf.keras.layers.LSTM(20, activation='tanh'))\n",
    "    model.add(tf.keras.layers.Dense(5, activation='relu'))\n",
    "    model.add(tf.keras.layers.Dense(1, activation=\"sigmoid\"))\n",
    "\n",
    "    model.compile(loss='binary_crossentropy',\n",
    "                  optimizer='rmsprop',\n",
    "                  metrics=['accuracy'])\n",
    "    \n",
    "    return model"
   ]
  },
  {
   "cell_type": "code",
   "execution_count": 77,
   "id": "1d691a31",
   "metadata": {},
   "outputs": [
    {
     "name": "stderr",
     "output_type": "stream",
     "text": [
      "2021-08-19 20:51:15.533747: I tensorflow/core/platform/cpu_feature_guard.cc:142] This TensorFlow binary is optimized with oneAPI Deep Neural Network Library (oneDNN) to use the following CPU instructions in performance-critical operations:  AVX2 FMA\n",
      "To enable them in other operations, rebuild TensorFlow with the appropriate compiler flags.\n"
     ]
    },
    {
     "name": "stdout",
     "output_type": "stream",
     "text": [
      "Model: \"sequential\"\n",
      "_________________________________________________________________\n",
      "Layer (type)                 Output Shape              Param #   \n",
      "=================================================================\n",
      "embedding (Embedding)        (None, 9994, 5)           314840    \n",
      "_________________________________________________________________\n",
      "lstm (LSTM)                  (None, 20)                2080      \n",
      "_________________________________________________________________\n",
      "dense (Dense)                (None, 5)                 105       \n",
      "_________________________________________________________________\n",
      "dense_1 (Dense)              (None, 1)                 6         \n",
      "=================================================================\n",
      "Total params: 317,031\n",
      "Trainable params: 317,031\n",
      "Non-trainable params: 0\n",
      "_________________________________________________________________\n"
     ]
    }
   ],
   "source": [
    "init_model().summary()"
   ]
  },
  {
   "cell_type": "code",
   "execution_count": null,
   "id": "860b2e67",
   "metadata": {},
   "outputs": [
    {
     "name": "stderr",
     "output_type": "stream",
     "text": [
      "2021-08-19 20:51:32.659788: I tensorflow/compiler/mlir/mlir_graph_optimization_pass.cc:185] None of the MLIR Optimization Passes are enabled (registered 2)\n"
     ]
    },
    {
     "name": "stdout",
     "output_type": "stream",
     "text": [
      "Epoch 1/20\n",
      "99/99 [==============================] - 797s 8s/step - loss: 0.6702 - accuracy: 0.5820 - val_loss: 0.6168 - val_accuracy: 0.6241\n",
      "Epoch 2/20\n",
      "18/99 [====>.........................] - ETA: 11:22 - loss: 0.5882 - accuracy: 0.6858"
     ]
    }
   ],
   "source": [
    "es = tf.keras.callbacks.EarlyStopping(monitor='val_loss', patience=10, restore_best_weights=True)\n",
    "\n",
    "model = init_model()\n",
    "\n",
    "history = model.fit(X_train_pad, \n",
    "                  y_train,\n",
    "                  validation_split=0.2,\n",
    "                  batch_size=64,\n",
    "                  epochs=20, \n",
    "                  callbacks=[es],\n",
    "                  verbose=1)"
   ]
  },
  {
   "cell_type": "code",
   "execution_count": null,
   "id": "92ba04f8",
   "metadata": {},
   "outputs": [],
   "source": []
  },
  {
   "cell_type": "code",
   "execution_count": null,
   "id": "710c9b1d",
   "metadata": {},
   "outputs": [],
   "source": []
  },
  {
   "cell_type": "code",
   "execution_count": null,
   "id": "63d8b238",
   "metadata": {},
   "outputs": [],
   "source": []
  },
  {
   "cell_type": "code",
   "execution_count": null,
   "id": "c40cc1b4",
   "metadata": {},
   "outputs": [],
   "source": []
  },
  {
   "cell_type": "code",
   "execution_count": null,
   "id": "c15f8bc1",
   "metadata": {},
   "outputs": [],
   "source": []
  },
  {
   "cell_type": "code",
   "execution_count": null,
   "id": "64608610",
   "metadata": {},
   "outputs": [],
   "source": []
  },
  {
   "cell_type": "code",
   "execution_count": null,
   "id": "6887eb86",
   "metadata": {},
   "outputs": [],
   "source": []
  },
  {
   "cell_type": "code",
   "execution_count": null,
   "id": "a3a07fc0",
   "metadata": {},
   "outputs": [],
   "source": []
  },
  {
   "cell_type": "code",
   "execution_count": null,
   "id": "4f514797",
   "metadata": {},
   "outputs": [],
   "source": []
  },
  {
   "cell_type": "code",
   "execution_count": null,
   "id": "f2ce0d7e",
   "metadata": {},
   "outputs": [],
   "source": []
  },
  {
   "cell_type": "code",
   "execution_count": null,
   "id": "3e39f427",
   "metadata": {},
   "outputs": [],
   "source": []
  },
  {
   "cell_type": "code",
   "execution_count": null,
   "id": "bf0d985a",
   "metadata": {},
   "outputs": [],
   "source": []
  },
  {
   "cell_type": "code",
   "execution_count": null,
   "id": "ff9a756a",
   "metadata": {},
   "outputs": [],
   "source": []
  },
  {
   "cell_type": "code",
   "execution_count": null,
   "id": "96ee4199",
   "metadata": {},
   "outputs": [],
   "source": []
  },
  {
   "cell_type": "code",
   "execution_count": null,
   "id": "7cfac1ad",
   "metadata": {},
   "outputs": [],
   "source": []
  }
 ],
 "metadata": {
  "kernelspec": {
   "display_name": "Python 3 (ipykernel)",
   "language": "python",
   "name": "python3"
  },
  "language_info": {
   "codemirror_mode": {
    "name": "ipython",
    "version": 3
   },
   "file_extension": ".py",
   "mimetype": "text/x-python",
   "name": "python",
   "nbconvert_exporter": "python",
   "pygments_lexer": "ipython3",
   "version": "3.8.6"
  },
  "toc": {
   "base_numbering": 1,
   "nav_menu": {},
   "number_sections": true,
   "sideBar": true,
   "skip_h1_title": false,
   "title_cell": "Table of Contents",
   "title_sidebar": "Contents",
   "toc_cell": false,
   "toc_position": {},
   "toc_section_display": true,
   "toc_window_display": false
  },
  "varInspector": {
   "cols": {
    "lenName": 16,
    "lenType": 16,
    "lenVar": 40
   },
   "kernels_config": {
    "python": {
     "delete_cmd_postfix": "",
     "delete_cmd_prefix": "del ",
     "library": "var_list.py",
     "varRefreshCmd": "print(var_dic_list())"
    },
    "r": {
     "delete_cmd_postfix": ") ",
     "delete_cmd_prefix": "rm(",
     "library": "var_list.r",
     "varRefreshCmd": "cat(var_dic_list()) "
    }
   },
   "types_to_exclude": [
    "module",
    "function",
    "builtin_function_or_method",
    "instance",
    "_Feature"
   ],
   "window_display": false
  }
 },
 "nbformat": 4,
 "nbformat_minor": 5
}
