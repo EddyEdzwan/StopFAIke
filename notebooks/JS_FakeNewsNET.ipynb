{
 "cells": [
  {
   "cell_type": "markdown",
   "id": "e56d214a",
   "metadata": {},
   "source": [
    "# `FakeNewsNET` dataset"
   ]
  },
  {
   "cell_type": "code",
   "execution_count": 1,
   "id": "c7ff9ad1",
   "metadata": {},
   "outputs": [],
   "source": [
    "import os\n",
    "import numpy as np\n",
    "import pandas as pd"
   ]
  },
  {
   "cell_type": "code",
   "execution_count": null,
   "id": "560918bc",
   "metadata": {},
   "outputs": [],
   "source": [
    "%load_ext autoreload\n",
    "%autoreload 2"
   ]
  },
  {
   "cell_type": "markdown",
   "id": "15960612",
   "metadata": {},
   "source": [
    "## Loading data"
   ]
  },
  {
   "cell_type": "code",
   "execution_count": 2,
   "id": "accdaca2",
   "metadata": {},
   "outputs": [],
   "source": [
    "data_path = '/Users/julienseguy/code/EddyEdzwan/StopFAIke/raw_data/fakenewsnet_dataset'\n",
    "\n",
    "dir_pol_real = os.path.join(data_path, 'politifact', 'real')\n",
    "dir_pol_fake = os.path.join(data_path, 'politifact', 'fake')\n",
    "dir_gos_real = os.path.join(data_path, 'gossipcop', 'real')\n",
    "dir_gos_fake = os.path.join(data_path, 'gossipcop', 'fake')"
   ]
  },
  {
   "cell_type": "code",
   "execution_count": 3,
   "id": "c4235eb0",
   "metadata": {},
   "outputs": [
    {
     "name": "stdout",
     "output_type": "stream",
     "text": [
      "--------------------------------------------------------------------------------\n",
      "pol_real_df shape: (559, 6)\n",
      "pol_fake_df shape: (403, 6)\n",
      "gos_real_df shape: (15173, 6)\n",
      "gos_fake_df shape: (4898, 6)\n",
      "--------------------------------------------------------------------------------\n"
     ]
    }
   ],
   "source": [
    "from StopFAIke.data import get_data\n",
    "\n",
    "pol_real_df = get_data(dir_pol_real)\n",
    "pol_fake_df = get_data(dir_pol_fake)\n",
    "gos_real_df = get_data(dir_gos_real)\n",
    "gos_fake_df = get_data(dir_gos_fake)\n",
    "\n",
    "print('-'*80)\n",
    "print(f\"pol_real_df shape: {pol_real_df.shape}\")\n",
    "print(f\"pol_fake_df shape: {pol_fake_df.shape}\")\n",
    "print(f\"gos_real_df shape: {gos_real_df.shape}\")\n",
    "print(f\"gos_fake_df shape: {gos_fake_df.shape}\")\n",
    "print('-'*80)"
   ]
  },
  {
   "cell_type": "code",
   "execution_count": 4,
   "id": "12ea27ed",
   "metadata": {},
   "outputs": [
    {
     "data": {
      "text/html": [
       "<div>\n",
       "<style scoped>\n",
       "    .dataframe tbody tr th:only-of-type {\n",
       "        vertical-align: middle;\n",
       "    }\n",
       "\n",
       "    .dataframe tbody tr th {\n",
       "        vertical-align: top;\n",
       "    }\n",
       "\n",
       "    .dataframe thead th {\n",
       "        text-align: right;\n",
       "    }\n",
       "</style>\n",
       "<table border=\"1\" class=\"dataframe\">\n",
       "  <thead>\n",
       "    <tr style=\"text-align: right;\">\n",
       "      <th></th>\n",
       "      <th>title</th>\n",
       "      <th>text</th>\n",
       "      <th>authors</th>\n",
       "      <th>num_images</th>\n",
       "      <th>domain</th>\n",
       "      <th>url</th>\n",
       "    </tr>\n",
       "  </thead>\n",
       "  <tbody>\n",
       "    <tr>\n",
       "      <th>0</th>\n",
       "      <td>Djou wins special election for Congress</td>\n",
       "      <td>Hanabusa leads Case with nearly all the votes ...</td>\n",
       "      <td>['Honolulu Star-Bulletin']</td>\n",
       "      <td>40</td>\n",
       "      <td>archive</td>\n",
       "      <td>https://web.archive.org/web/20100523122054/htt...</td>\n",
       "    </tr>\n",
       "    <tr>\n",
       "      <th>1</th>\n",
       "      <td>Change We Can Believe In</td>\n",
       "      <td>Remarks of Senator Barack Obama: Apostolic Chu...</td>\n",
       "      <td>[]</td>\n",
       "      <td>33</td>\n",
       "      <td>archive</td>\n",
       "      <td>https://web.archive.org/web/20080618171108/htt...</td>\n",
       "    </tr>\n",
       "    <tr>\n",
       "      <th>2</th>\n",
       "      <td>One in Four</td>\n",
       "      <td>One out of every four Pennsylvania households ...</td>\n",
       "      <td>['Congressman Joe Pitts']</td>\n",
       "      <td>2</td>\n",
       "      <td>medium</td>\n",
       "      <td>https://medium.com/@RepJoePitts/one-in-four-66...</td>\n",
       "    </tr>\n",
       "    <tr>\n",
       "      <th>3</th>\n",
       "      <td></td>\n",
       "      <td></td>\n",
       "      <td>[]</td>\n",
       "      <td>0</td>\n",
       "      <td>politico</td>\n",
       "      <td>http://www.politico.com/news/stories/0309/2034...</td>\n",
       "    </tr>\n",
       "    <tr>\n",
       "      <th>4</th>\n",
       "      <td></td>\n",
       "      <td></td>\n",
       "      <td>[]</td>\n",
       "      <td>0</td>\n",
       "      <td>fec</td>\n",
       "      <td>http://docquery.fec.gov/pdf/613/20180415910815...</td>\n",
       "    </tr>\n",
       "  </tbody>\n",
       "</table>\n",
       "</div>"
      ],
      "text/plain": [
       "                                     title  \\\n",
       "0  Djou wins special election for Congress   \n",
       "1                 Change We Can Believe In   \n",
       "2                              One in Four   \n",
       "3                                            \n",
       "4                                            \n",
       "\n",
       "                                                text  \\\n",
       "0  Hanabusa leads Case with nearly all the votes ...   \n",
       "1  Remarks of Senator Barack Obama: Apostolic Chu...   \n",
       "2  One out of every four Pennsylvania households ...   \n",
       "3                                                      \n",
       "4                                                      \n",
       "\n",
       "                      authors  num_images    domain  \\\n",
       "0  ['Honolulu Star-Bulletin']          40   archive   \n",
       "1                          []          33   archive   \n",
       "2   ['Congressman Joe Pitts']           2    medium   \n",
       "3                          []           0  politico   \n",
       "4                          []           0       fec   \n",
       "\n",
       "                                                 url  \n",
       "0  https://web.archive.org/web/20100523122054/htt...  \n",
       "1  https://web.archive.org/web/20080618171108/htt...  \n",
       "2  https://medium.com/@RepJoePitts/one-in-four-66...  \n",
       "3  http://www.politico.com/news/stories/0309/2034...  \n",
       "4  http://docquery.fec.gov/pdf/613/20180415910815...  "
      ]
     },
     "execution_count": 4,
     "metadata": {},
     "output_type": "execute_result"
    }
   ],
   "source": [
    "pol_real_df.head()"
   ]
  },
  {
   "cell_type": "markdown",
   "id": "e59dd593",
   "metadata": {},
   "source": [
    "## Labeling "
   ]
  },
  {
   "cell_type": "code",
   "execution_count": 5,
   "id": "cbcd1523",
   "metadata": {},
   "outputs": [],
   "source": [
    "pol_real_df['category'] = 0 #True\n",
    "pol_fake_df['category'] = 1 #Fake\n",
    "gos_real_df['category'] = 0\n",
    "gos_fake_df['category'] = 1\n",
    "\n",
    "pol_real_df['news_type'] = 'political'\n",
    "pol_fake_df['news_type'] = 'political'\n",
    "gos_real_df['news_type'] = 'gossip'\n",
    "gos_fake_df['news_type'] = 'gossip'"
   ]
  },
  {
   "cell_type": "code",
   "execution_count": 6,
   "id": "87c75676",
   "metadata": {},
   "outputs": [
    {
     "data": {
      "text/html": [
       "<div>\n",
       "<style scoped>\n",
       "    .dataframe tbody tr th:only-of-type {\n",
       "        vertical-align: middle;\n",
       "    }\n",
       "\n",
       "    .dataframe tbody tr th {\n",
       "        vertical-align: top;\n",
       "    }\n",
       "\n",
       "    .dataframe thead th {\n",
       "        text-align: right;\n",
       "    }\n",
       "</style>\n",
       "<table border=\"1\" class=\"dataframe\">\n",
       "  <thead>\n",
       "    <tr style=\"text-align: right;\">\n",
       "      <th></th>\n",
       "      <th>title</th>\n",
       "      <th>text</th>\n",
       "      <th>authors</th>\n",
       "      <th>num_images</th>\n",
       "      <th>domain</th>\n",
       "      <th>url</th>\n",
       "      <th>category</th>\n",
       "      <th>news_type</th>\n",
       "    </tr>\n",
       "  </thead>\n",
       "  <tbody>\n",
       "    <tr>\n",
       "      <th>0</th>\n",
       "      <td>Djou wins special election for Congress</td>\n",
       "      <td>Hanabusa leads Case with nearly all the votes ...</td>\n",
       "      <td>['Honolulu Star-Bulletin']</td>\n",
       "      <td>40</td>\n",
       "      <td>archive</td>\n",
       "      <td>https://web.archive.org/web/20100523122054/htt...</td>\n",
       "      <td>0</td>\n",
       "      <td>political</td>\n",
       "    </tr>\n",
       "    <tr>\n",
       "      <th>1</th>\n",
       "      <td>Change We Can Believe In</td>\n",
       "      <td>Remarks of Senator Barack Obama: Apostolic Chu...</td>\n",
       "      <td>[]</td>\n",
       "      <td>33</td>\n",
       "      <td>archive</td>\n",
       "      <td>https://web.archive.org/web/20080618171108/htt...</td>\n",
       "      <td>0</td>\n",
       "      <td>political</td>\n",
       "    </tr>\n",
       "    <tr>\n",
       "      <th>2</th>\n",
       "      <td>One in Four</td>\n",
       "      <td>One out of every four Pennsylvania households ...</td>\n",
       "      <td>['Congressman Joe Pitts']</td>\n",
       "      <td>2</td>\n",
       "      <td>medium</td>\n",
       "      <td>https://medium.com/@RepJoePitts/one-in-four-66...</td>\n",
       "      <td>0</td>\n",
       "      <td>political</td>\n",
       "    </tr>\n",
       "    <tr>\n",
       "      <th>3</th>\n",
       "      <td></td>\n",
       "      <td></td>\n",
       "      <td>[]</td>\n",
       "      <td>0</td>\n",
       "      <td>politico</td>\n",
       "      <td>http://www.politico.com/news/stories/0309/2034...</td>\n",
       "      <td>0</td>\n",
       "      <td>political</td>\n",
       "    </tr>\n",
       "    <tr>\n",
       "      <th>4</th>\n",
       "      <td></td>\n",
       "      <td></td>\n",
       "      <td>[]</td>\n",
       "      <td>0</td>\n",
       "      <td>fec</td>\n",
       "      <td>http://docquery.fec.gov/pdf/613/20180415910815...</td>\n",
       "      <td>0</td>\n",
       "      <td>political</td>\n",
       "    </tr>\n",
       "  </tbody>\n",
       "</table>\n",
       "</div>"
      ],
      "text/plain": [
       "                                     title  \\\n",
       "0  Djou wins special election for Congress   \n",
       "1                 Change We Can Believe In   \n",
       "2                              One in Four   \n",
       "3                                            \n",
       "4                                            \n",
       "\n",
       "                                                text  \\\n",
       "0  Hanabusa leads Case with nearly all the votes ...   \n",
       "1  Remarks of Senator Barack Obama: Apostolic Chu...   \n",
       "2  One out of every four Pennsylvania households ...   \n",
       "3                                                      \n",
       "4                                                      \n",
       "\n",
       "                      authors  num_images    domain  \\\n",
       "0  ['Honolulu Star-Bulletin']          40   archive   \n",
       "1                          []          33   archive   \n",
       "2   ['Congressman Joe Pitts']           2    medium   \n",
       "3                          []           0  politico   \n",
       "4                          []           0       fec   \n",
       "\n",
       "                                                 url  category  news_type  \n",
       "0  https://web.archive.org/web/20100523122054/htt...         0  political  \n",
       "1  https://web.archive.org/web/20080618171108/htt...         0  political  \n",
       "2  https://medium.com/@RepJoePitts/one-in-four-66...         0  political  \n",
       "3  http://www.politico.com/news/stories/0309/2034...         0  political  \n",
       "4  http://docquery.fec.gov/pdf/613/20180415910815...         0  political  "
      ]
     },
     "execution_count": 6,
     "metadata": {},
     "output_type": "execute_result"
    }
   ],
   "source": [
    "pol_real_df.head()"
   ]
  },
  {
   "cell_type": "markdown",
   "id": "f01ff977",
   "metadata": {},
   "source": [
    "## Merging"
   ]
  },
  {
   "cell_type": "code",
   "execution_count": 7,
   "id": "cff70f3f",
   "metadata": {},
   "outputs": [
    {
     "name": "stdout",
     "output_type": "stream",
     "text": [
      "--------------------------------------------------------------------------------\n",
      "data shape: (21033, 8)\n",
      "--------------------------------------------------------------------------------\n",
      "ratio #true: 74.80%\n",
      "ratio #fake: 25.20%\n",
      "--------------------------------------------------------------------------------\n",
      "ratio #true - political: 2.66%\n",
      "ratio #fake - political: 1.92%\n",
      "--------------------------------------------------------------------------------\n",
      "ratio #true - gossip: 72.14%\n",
      "ratio #fake - gossip: 23.29%\n",
      "--------------------------------------------------------------------------------\n"
     ]
    }
   ],
   "source": [
    "data = pd.concat([pol_real_df, pol_fake_df, gos_real_df, gos_fake_df]).reset_index(drop=True)\n",
    "\n",
    "print('-'*80)\n",
    "print(f\"data shape: {data.shape}\")\n",
    "print('-'*80)\n",
    "print(f\"ratio #true: {len(data[data['category']==0])/len(data)*100:.2f}%\")\n",
    "print(f\"ratio #fake: {len(data[data['category']==1])/len(data)*100:.2f}%\")\n",
    "print('-'*80)\n",
    "print(f\"ratio #true - political: {len(data[(data['category']==0) & (data['news_type']=='political')])/len(data)*100:.2f}%\")\n",
    "print(f\"ratio #fake - political: {len(data[(data['category']==1) & (data['news_type']=='political')])/len(data)*100:.2f}%\")\n",
    "print('-'*80)\n",
    "print(f\"ratio #true - gossip: {len(data[(data['category']==0) & (data['news_type']=='gossip')])/len(data)*100:.2f}%\")\n",
    "print(f\"ratio #fake - gossip: {len(data[(data['category']==1) & (data['news_type']=='gossip')])/len(data)*100:.2f}%\")\n",
    "print('-'*80)"
   ]
  },
  {
   "cell_type": "markdown",
   "id": "0d9ed0f9",
   "metadata": {},
   "source": [
    "## Preprocessing"
   ]
  },
  {
   "cell_type": "markdown",
   "id": "8ed1aac3",
   "metadata": {},
   "source": [
    "### Missing values"
   ]
  },
  {
   "cell_type": "code",
   "execution_count": 8,
   "id": "2ecc8ca9",
   "metadata": {},
   "outputs": [],
   "source": [
    "def get_missing(df):\n",
    "    missing_values = df.isnull().sum().sort_values(ascending = False)\n",
    "    ratio = missing_values/len(data)*100\n",
    "    return pd.DataFrame({'missing_values': missing_values, 'ratio': round(ratio)}).head(10)"
   ]
  },
  {
   "cell_type": "code",
   "execution_count": 9,
   "id": "505d164a",
   "metadata": {},
   "outputs": [
    {
     "data": {
      "text/html": [
       "<div>\n",
       "<style scoped>\n",
       "    .dataframe tbody tr th:only-of-type {\n",
       "        vertical-align: middle;\n",
       "    }\n",
       "\n",
       "    .dataframe tbody tr th {\n",
       "        vertical-align: top;\n",
       "    }\n",
       "\n",
       "    .dataframe thead th {\n",
       "        text-align: right;\n",
       "    }\n",
       "</style>\n",
       "<table border=\"1\" class=\"dataframe\">\n",
       "  <thead>\n",
       "    <tr style=\"text-align: right;\">\n",
       "      <th></th>\n",
       "      <th>missing_values</th>\n",
       "      <th>ratio</th>\n",
       "    </tr>\n",
       "  </thead>\n",
       "  <tbody>\n",
       "    <tr>\n",
       "      <th>title</th>\n",
       "      <td>0</td>\n",
       "      <td>0.0</td>\n",
       "    </tr>\n",
       "    <tr>\n",
       "      <th>text</th>\n",
       "      <td>0</td>\n",
       "      <td>0.0</td>\n",
       "    </tr>\n",
       "    <tr>\n",
       "      <th>authors</th>\n",
       "      <td>0</td>\n",
       "      <td>0.0</td>\n",
       "    </tr>\n",
       "    <tr>\n",
       "      <th>num_images</th>\n",
       "      <td>0</td>\n",
       "      <td>0.0</td>\n",
       "    </tr>\n",
       "    <tr>\n",
       "      <th>domain</th>\n",
       "      <td>0</td>\n",
       "      <td>0.0</td>\n",
       "    </tr>\n",
       "    <tr>\n",
       "      <th>url</th>\n",
       "      <td>0</td>\n",
       "      <td>0.0</td>\n",
       "    </tr>\n",
       "    <tr>\n",
       "      <th>category</th>\n",
       "      <td>0</td>\n",
       "      <td>0.0</td>\n",
       "    </tr>\n",
       "    <tr>\n",
       "      <th>news_type</th>\n",
       "      <td>0</td>\n",
       "      <td>0.0</td>\n",
       "    </tr>\n",
       "  </tbody>\n",
       "</table>\n",
       "</div>"
      ],
      "text/plain": [
       "            missing_values  ratio\n",
       "title                    0    0.0\n",
       "text                     0    0.0\n",
       "authors                  0    0.0\n",
       "num_images               0    0.0\n",
       "domain                   0    0.0\n",
       "url                      0    0.0\n",
       "category                 0    0.0\n",
       "news_type                0    0.0"
      ]
     },
     "execution_count": 9,
     "metadata": {},
     "output_type": "execute_result"
    }
   ],
   "source": [
    "get_missing(data)"
   ]
  },
  {
   "cell_type": "markdown",
   "id": "bf5cec62",
   "metadata": {},
   "source": [
    "No **missing values** detected by `.isnull()` method"
   ]
  },
  {
   "cell_type": "code",
   "execution_count": 10,
   "id": "d0537dc8",
   "metadata": {},
   "outputs": [
    {
     "data": {
      "text/html": [
       "<div>\n",
       "<style scoped>\n",
       "    .dataframe tbody tr th:only-of-type {\n",
       "        vertical-align: middle;\n",
       "    }\n",
       "\n",
       "    .dataframe tbody tr th {\n",
       "        vertical-align: top;\n",
       "    }\n",
       "\n",
       "    .dataframe thead th {\n",
       "        text-align: right;\n",
       "    }\n",
       "</style>\n",
       "<table border=\"1\" class=\"dataframe\">\n",
       "  <thead>\n",
       "    <tr style=\"text-align: right;\">\n",
       "      <th></th>\n",
       "      <th>title</th>\n",
       "      <th>text</th>\n",
       "      <th>authors</th>\n",
       "      <th>num_images</th>\n",
       "      <th>domain</th>\n",
       "      <th>url</th>\n",
       "      <th>category</th>\n",
       "      <th>news_type</th>\n",
       "    </tr>\n",
       "  </thead>\n",
       "  <tbody>\n",
       "    <tr>\n",
       "      <th>0</th>\n",
       "      <td>Djou wins special election for Congress</td>\n",
       "      <td>Hanabusa leads Case with nearly all the votes ...</td>\n",
       "      <td>['Honolulu Star-Bulletin']</td>\n",
       "      <td>40</td>\n",
       "      <td>archive</td>\n",
       "      <td>https://web.archive.org/web/20100523122054/htt...</td>\n",
       "      <td>0</td>\n",
       "      <td>political</td>\n",
       "    </tr>\n",
       "    <tr>\n",
       "      <th>1</th>\n",
       "      <td>Change We Can Believe In</td>\n",
       "      <td>Remarks of Senator Barack Obama: Apostolic Chu...</td>\n",
       "      <td>[]</td>\n",
       "      <td>33</td>\n",
       "      <td>archive</td>\n",
       "      <td>https://web.archive.org/web/20080618171108/htt...</td>\n",
       "      <td>0</td>\n",
       "      <td>political</td>\n",
       "    </tr>\n",
       "    <tr>\n",
       "      <th>2</th>\n",
       "      <td>One in Four</td>\n",
       "      <td>One out of every four Pennsylvania households ...</td>\n",
       "      <td>['Congressman Joe Pitts']</td>\n",
       "      <td>2</td>\n",
       "      <td>medium</td>\n",
       "      <td>https://medium.com/@RepJoePitts/one-in-four-66...</td>\n",
       "      <td>0</td>\n",
       "      <td>political</td>\n",
       "    </tr>\n",
       "    <tr>\n",
       "      <th>3</th>\n",
       "      <td></td>\n",
       "      <td></td>\n",
       "      <td>[]</td>\n",
       "      <td>0</td>\n",
       "      <td>politico</td>\n",
       "      <td>http://www.politico.com/news/stories/0309/2034...</td>\n",
       "      <td>0</td>\n",
       "      <td>political</td>\n",
       "    </tr>\n",
       "    <tr>\n",
       "      <th>4</th>\n",
       "      <td></td>\n",
       "      <td></td>\n",
       "      <td>[]</td>\n",
       "      <td>0</td>\n",
       "      <td>fec</td>\n",
       "      <td>http://docquery.fec.gov/pdf/613/20180415910815...</td>\n",
       "      <td>0</td>\n",
       "      <td>political</td>\n",
       "    </tr>\n",
       "  </tbody>\n",
       "</table>\n",
       "</div>"
      ],
      "text/plain": [
       "                                     title  \\\n",
       "0  Djou wins special election for Congress   \n",
       "1                 Change We Can Believe In   \n",
       "2                              One in Four   \n",
       "3                                            \n",
       "4                                            \n",
       "\n",
       "                                                text  \\\n",
       "0  Hanabusa leads Case with nearly all the votes ...   \n",
       "1  Remarks of Senator Barack Obama: Apostolic Chu...   \n",
       "2  One out of every four Pennsylvania households ...   \n",
       "3                                                      \n",
       "4                                                      \n",
       "\n",
       "                      authors  num_images    domain  \\\n",
       "0  ['Honolulu Star-Bulletin']          40   archive   \n",
       "1                          []          33   archive   \n",
       "2   ['Congressman Joe Pitts']           2    medium   \n",
       "3                          []           0  politico   \n",
       "4                          []           0       fec   \n",
       "\n",
       "                                                 url  category  news_type  \n",
       "0  https://web.archive.org/web/20100523122054/htt...         0  political  \n",
       "1  https://web.archive.org/web/20080618171108/htt...         0  political  \n",
       "2  https://medium.com/@RepJoePitts/one-in-four-66...         0  political  \n",
       "3  http://www.politico.com/news/stories/0309/2034...         0  political  \n",
       "4  http://docquery.fec.gov/pdf/613/20180415910815...         0  political  "
      ]
     },
     "execution_count": 10,
     "metadata": {},
     "output_type": "execute_result"
    }
   ],
   "source": [
    "data.head()"
   ]
  },
  {
   "cell_type": "code",
   "execution_count": 11,
   "id": "e60e920f",
   "metadata": {},
   "outputs": [
    {
     "data": {
      "text/plain": [
       "(0, 8)"
      ]
     },
     "execution_count": 11,
     "metadata": {},
     "output_type": "execute_result"
    }
   ],
   "source": [
    "data[data['text'] == 'NaN'].shape"
   ]
  },
  {
   "cell_type": "code",
   "execution_count": 12,
   "id": "382206bb",
   "metadata": {},
   "outputs": [
    {
     "data": {
      "text/plain": [
       "236"
      ]
     },
     "execution_count": 12,
     "metadata": {},
     "output_type": "execute_result"
    }
   ],
   "source": [
    "indices = data[data['title'] == ''].index\n",
    "len(indices)"
   ]
  },
  {
   "cell_type": "code",
   "execution_count": 13,
   "id": "f6fa5f44",
   "metadata": {},
   "outputs": [
    {
     "data": {
      "text/plain": [
       "600"
      ]
     },
     "execution_count": 13,
     "metadata": {},
     "output_type": "execute_result"
    }
   ],
   "source": [
    "indices = data[data['text'] == ''].index\n",
    "len(indices)"
   ]
  },
  {
   "cell_type": "code",
   "execution_count": 14,
   "id": "dd739eda",
   "metadata": {},
   "outputs": [
    {
     "data": {
      "text/plain": [
       "6952"
      ]
     },
     "execution_count": 14,
     "metadata": {},
     "output_type": "execute_result"
    }
   ],
   "source": [
    "indices = data[data['authors'] == '[]'].index\n",
    "len(indices)"
   ]
  },
  {
   "cell_type": "code",
   "execution_count": 15,
   "id": "7e92ff04",
   "metadata": {},
   "outputs": [
    {
     "name": "stdout",
     "output_type": "stream",
     "text": [
      "--------------------------------------------------------------------------------\n",
      "data shape: (20339, 8)\n",
      "--------------------------------------------------------------------------------\n"
     ]
    }
   ],
   "source": [
    "from StopFAIke.data import remove_missing_values\n",
    "\n",
    "data = remove_missing_values(data, 'title', '')\n",
    "data = remove_missing_values(data, 'text', '')\n",
    "\n",
    "print('-'*80)\n",
    "print(f\"data shape: {data.shape}\")\n",
    "print('-'*80)"
   ]
  },
  {
   "cell_type": "code",
   "execution_count": 16,
   "id": "3a6f1d8a",
   "metadata": {},
   "outputs": [
    {
     "data": {
      "text/html": [
       "<div>\n",
       "<style scoped>\n",
       "    .dataframe tbody tr th:only-of-type {\n",
       "        vertical-align: middle;\n",
       "    }\n",
       "\n",
       "    .dataframe tbody tr th {\n",
       "        vertical-align: top;\n",
       "    }\n",
       "\n",
       "    .dataframe thead th {\n",
       "        text-align: right;\n",
       "    }\n",
       "</style>\n",
       "<table border=\"1\" class=\"dataframe\">\n",
       "  <thead>\n",
       "    <tr style=\"text-align: right;\">\n",
       "      <th></th>\n",
       "      <th>title</th>\n",
       "      <th>text</th>\n",
       "      <th>authors</th>\n",
       "      <th>num_images</th>\n",
       "      <th>domain</th>\n",
       "      <th>url</th>\n",
       "      <th>category</th>\n",
       "      <th>news_type</th>\n",
       "    </tr>\n",
       "  </thead>\n",
       "  <tbody>\n",
       "    <tr>\n",
       "      <th>0</th>\n",
       "      <td>Djou wins special election for Congress</td>\n",
       "      <td>Hanabusa leads Case with nearly all the votes ...</td>\n",
       "      <td>['Honolulu Star-Bulletin']</td>\n",
       "      <td>40</td>\n",
       "      <td>archive</td>\n",
       "      <td>https://web.archive.org/web/20100523122054/htt...</td>\n",
       "      <td>0</td>\n",
       "      <td>political</td>\n",
       "    </tr>\n",
       "    <tr>\n",
       "      <th>1</th>\n",
       "      <td>Change We Can Believe In</td>\n",
       "      <td>Remarks of Senator Barack Obama: Apostolic Chu...</td>\n",
       "      <td>[]</td>\n",
       "      <td>33</td>\n",
       "      <td>archive</td>\n",
       "      <td>https://web.archive.org/web/20080618171108/htt...</td>\n",
       "      <td>0</td>\n",
       "      <td>political</td>\n",
       "    </tr>\n",
       "    <tr>\n",
       "      <th>2</th>\n",
       "      <td>One in Four</td>\n",
       "      <td>One out of every four Pennsylvania households ...</td>\n",
       "      <td>['Congressman Joe Pitts']</td>\n",
       "      <td>2</td>\n",
       "      <td>medium</td>\n",
       "      <td>https://medium.com/@RepJoePitts/one-in-four-66...</td>\n",
       "      <td>0</td>\n",
       "      <td>political</td>\n",
       "    </tr>\n",
       "    <tr>\n",
       "      <th>5</th>\n",
       "      <td>Pastors To Protest IRS Rules on Political Advo...</td>\n",
       "      <td>On Sept. 28, pastors from 20 states will give ...</td>\n",
       "      <td>[]</td>\n",
       "      <td>4</td>\n",
       "      <td>pewforum</td>\n",
       "      <td>http://www.pewforum.org/2008/09/19/pastors-to-...</td>\n",
       "      <td>0</td>\n",
       "      <td>political</td>\n",
       "    </tr>\n",
       "    <tr>\n",
       "      <th>7</th>\n",
       "      <td>“Dictionary” on President Obama’s Health Care ...</td>\n",
       "      <td>WASHINGTON – The Republican National Committee...</td>\n",
       "      <td>['Written On September', 'Republican National ...</td>\n",
       "      <td>32</td>\n",
       "      <td>archive</td>\n",
       "      <td>https://web.archive.org/web/20091003005639/htt...</td>\n",
       "      <td>0</td>\n",
       "      <td>political</td>\n",
       "    </tr>\n",
       "  </tbody>\n",
       "</table>\n",
       "</div>"
      ],
      "text/plain": [
       "                                               title  \\\n",
       "0            Djou wins special election for Congress   \n",
       "1                           Change We Can Believe In   \n",
       "2                                        One in Four   \n",
       "5  Pastors To Protest IRS Rules on Political Advo...   \n",
       "7  “Dictionary” on President Obama’s Health Care ...   \n",
       "\n",
       "                                                text  \\\n",
       "0  Hanabusa leads Case with nearly all the votes ...   \n",
       "1  Remarks of Senator Barack Obama: Apostolic Chu...   \n",
       "2  One out of every four Pennsylvania households ...   \n",
       "5  On Sept. 28, pastors from 20 states will give ...   \n",
       "7  WASHINGTON – The Republican National Committee...   \n",
       "\n",
       "                                             authors  num_images    domain  \\\n",
       "0                         ['Honolulu Star-Bulletin']          40   archive   \n",
       "1                                                 []          33   archive   \n",
       "2                          ['Congressman Joe Pitts']           2    medium   \n",
       "5                                                 []           4  pewforum   \n",
       "7  ['Written On September', 'Republican National ...          32   archive   \n",
       "\n",
       "                                                 url  category  news_type  \n",
       "0  https://web.archive.org/web/20100523122054/htt...         0  political  \n",
       "1  https://web.archive.org/web/20080618171108/htt...         0  political  \n",
       "2  https://medium.com/@RepJoePitts/one-in-four-66...         0  political  \n",
       "5  http://www.pewforum.org/2008/09/19/pastors-to-...         0  political  \n",
       "7  https://web.archive.org/web/20091003005639/htt...         0  political  "
      ]
     },
     "execution_count": 16,
     "metadata": {},
     "output_type": "execute_result"
    }
   ],
   "source": [
    "data.head()"
   ]
  },
  {
   "cell_type": "markdown",
   "id": "fe90251d",
   "metadata": {},
   "source": [
    "### Duplicates"
   ]
  },
  {
   "cell_type": "code",
   "execution_count": 17,
   "id": "26c2a827",
   "metadata": {},
   "outputs": [],
   "source": [
    "def count_duplicate(df):\n",
    "    return df.duplicated().sum()"
   ]
  },
  {
   "cell_type": "code",
   "execution_count": 18,
   "id": "e2a49d0c",
   "metadata": {},
   "outputs": [
    {
     "name": "stdout",
     "output_type": "stream",
     "text": [
      "--------------------------------------------------------------------------------\n",
      "duplicates: 1058\n",
      "--------------------------------------------------------------------------------\n"
     ]
    }
   ],
   "source": [
    "print('-'*80)\n",
    "print(f\"duplicates: {count_duplicate(data)}\")\n",
    "print('-'*80)"
   ]
  },
  {
   "cell_type": "code",
   "execution_count": 19,
   "id": "14326db5",
   "metadata": {},
   "outputs": [
    {
     "name": "stdout",
     "output_type": "stream",
     "text": [
      "--------------------------------------------------------------------------------\n",
      "data shape (wo duplicates): (19281, 8)\n",
      "--------------------------------------------------------------------------------\n"
     ]
    }
   ],
   "source": [
    "data.drop_duplicates(inplace=True)\n",
    "\n",
    "print('-'*80)\n",
    "print(f\"data shape (wo duplicates): {data.shape}\")\n",
    "print('-'*80)"
   ]
  },
  {
   "cell_type": "markdown",
   "id": "9cb79115",
   "metadata": {},
   "source": [
    "###  Save to `CSV` file"
   ]
  },
  {
   "cell_type": "code",
   "execution_count": 20,
   "id": "5b8e954e",
   "metadata": {},
   "outputs": [],
   "source": [
    "data.to_csv('../raw_data/FakesNewsNET.csv', index=False)"
   ]
  },
  {
   "cell_type": "markdown",
   "id": "43f15eb0",
   "metadata": {},
   "source": [
    "### Loading the `CSV` file"
   ]
  },
  {
   "cell_type": "code",
   "execution_count": 21,
   "id": "95b5a007",
   "metadata": {},
   "outputs": [],
   "source": [
    "data = pd.read_csv('../raw_data/FakesNewsNET.csv')"
   ]
  },
  {
   "cell_type": "code",
   "execution_count": 22,
   "id": "47ee153a",
   "metadata": {},
   "outputs": [
    {
     "data": {
      "text/html": [
       "<div>\n",
       "<style scoped>\n",
       "    .dataframe tbody tr th:only-of-type {\n",
       "        vertical-align: middle;\n",
       "    }\n",
       "\n",
       "    .dataframe tbody tr th {\n",
       "        vertical-align: top;\n",
       "    }\n",
       "\n",
       "    .dataframe thead th {\n",
       "        text-align: right;\n",
       "    }\n",
       "</style>\n",
       "<table border=\"1\" class=\"dataframe\">\n",
       "  <thead>\n",
       "    <tr style=\"text-align: right;\">\n",
       "      <th></th>\n",
       "      <th>title</th>\n",
       "      <th>text</th>\n",
       "      <th>authors</th>\n",
       "      <th>num_images</th>\n",
       "      <th>domain</th>\n",
       "      <th>url</th>\n",
       "      <th>category</th>\n",
       "      <th>news_type</th>\n",
       "    </tr>\n",
       "  </thead>\n",
       "  <tbody>\n",
       "    <tr>\n",
       "      <th>0</th>\n",
       "      <td>Djou wins special election for Congress</td>\n",
       "      <td>Hanabusa leads Case with nearly all the votes ...</td>\n",
       "      <td>['Honolulu Star-Bulletin']</td>\n",
       "      <td>40</td>\n",
       "      <td>archive</td>\n",
       "      <td>https://web.archive.org/web/20100523122054/htt...</td>\n",
       "      <td>0</td>\n",
       "      <td>political</td>\n",
       "    </tr>\n",
       "    <tr>\n",
       "      <th>1</th>\n",
       "      <td>Change We Can Believe In</td>\n",
       "      <td>Remarks of Senator Barack Obama: Apostolic Chu...</td>\n",
       "      <td>[]</td>\n",
       "      <td>33</td>\n",
       "      <td>archive</td>\n",
       "      <td>https://web.archive.org/web/20080618171108/htt...</td>\n",
       "      <td>0</td>\n",
       "      <td>political</td>\n",
       "    </tr>\n",
       "    <tr>\n",
       "      <th>2</th>\n",
       "      <td>One in Four</td>\n",
       "      <td>One out of every four Pennsylvania households ...</td>\n",
       "      <td>['Congressman Joe Pitts']</td>\n",
       "      <td>2</td>\n",
       "      <td>medium</td>\n",
       "      <td>https://medium.com/@RepJoePitts/one-in-four-66...</td>\n",
       "      <td>0</td>\n",
       "      <td>political</td>\n",
       "    </tr>\n",
       "    <tr>\n",
       "      <th>3</th>\n",
       "      <td>Pastors To Protest IRS Rules on Political Advo...</td>\n",
       "      <td>On Sept. 28, pastors from 20 states will give ...</td>\n",
       "      <td>[]</td>\n",
       "      <td>4</td>\n",
       "      <td>pewforum</td>\n",
       "      <td>http://www.pewforum.org/2008/09/19/pastors-to-...</td>\n",
       "      <td>0</td>\n",
       "      <td>political</td>\n",
       "    </tr>\n",
       "    <tr>\n",
       "      <th>4</th>\n",
       "      <td>“Dictionary” on President Obama’s Health Care ...</td>\n",
       "      <td>WASHINGTON – The Republican National Committee...</td>\n",
       "      <td>['Written On September', 'Republican National ...</td>\n",
       "      <td>32</td>\n",
       "      <td>archive</td>\n",
       "      <td>https://web.archive.org/web/20091003005639/htt...</td>\n",
       "      <td>0</td>\n",
       "      <td>political</td>\n",
       "    </tr>\n",
       "  </tbody>\n",
       "</table>\n",
       "</div>"
      ],
      "text/plain": [
       "                                               title  \\\n",
       "0            Djou wins special election for Congress   \n",
       "1                           Change We Can Believe In   \n",
       "2                                        One in Four   \n",
       "3  Pastors To Protest IRS Rules on Political Advo...   \n",
       "4  “Dictionary” on President Obama’s Health Care ...   \n",
       "\n",
       "                                                text  \\\n",
       "0  Hanabusa leads Case with nearly all the votes ...   \n",
       "1  Remarks of Senator Barack Obama: Apostolic Chu...   \n",
       "2  One out of every four Pennsylvania households ...   \n",
       "3  On Sept. 28, pastors from 20 states will give ...   \n",
       "4  WASHINGTON – The Republican National Committee...   \n",
       "\n",
       "                                             authors  num_images    domain  \\\n",
       "0                         ['Honolulu Star-Bulletin']          40   archive   \n",
       "1                                                 []          33   archive   \n",
       "2                          ['Congressman Joe Pitts']           2    medium   \n",
       "3                                                 []           4  pewforum   \n",
       "4  ['Written On September', 'Republican National ...          32   archive   \n",
       "\n",
       "                                                 url  category  news_type  \n",
       "0  https://web.archive.org/web/20100523122054/htt...         0  political  \n",
       "1  https://web.archive.org/web/20080618171108/htt...         0  political  \n",
       "2  https://medium.com/@RepJoePitts/one-in-four-66...         0  political  \n",
       "3  http://www.pewforum.org/2008/09/19/pastors-to-...         0  political  \n",
       "4  https://web.archive.org/web/20091003005639/htt...         0  political  "
      ]
     },
     "execution_count": 22,
     "metadata": {},
     "output_type": "execute_result"
    }
   ],
   "source": [
    "data.head()"
   ]
  },
  {
   "cell_type": "code",
   "execution_count": 24,
   "id": "63ed5844",
   "metadata": {},
   "outputs": [
    {
     "data": {
      "text/plain": [
       "(15666, 8)"
      ]
     },
     "execution_count": 24,
     "metadata": {},
     "output_type": "execute_result"
    }
   ],
   "source": [
    "data.shape"
   ]
  }
 ],
 "metadata": {
  "kernelspec": {
   "display_name": "Python 3 (ipykernel)",
   "language": "python",
   "name": "python3"
  },
  "language_info": {
   "codemirror_mode": {
    "name": "ipython",
    "version": 3
   },
   "file_extension": ".py",
   "mimetype": "text/x-python",
   "name": "python",
   "nbconvert_exporter": "python",
   "pygments_lexer": "ipython3",
   "version": "3.8.6"
  },
  "toc": {
   "base_numbering": 1,
   "nav_menu": {},
   "number_sections": true,
   "sideBar": true,
   "skip_h1_title": false,
   "title_cell": "Table of Contents",
   "title_sidebar": "Contents",
   "toc_cell": false,
   "toc_position": {},
   "toc_section_display": true,
   "toc_window_display": false
  },
  "varInspector": {
   "cols": {
    "lenName": 16,
    "lenType": 16,
    "lenVar": 40
   },
   "kernels_config": {
    "python": {
     "delete_cmd_postfix": "",
     "delete_cmd_prefix": "del ",
     "library": "var_list.py",
     "varRefreshCmd": "print(var_dic_list())"
    },
    "r": {
     "delete_cmd_postfix": ") ",
     "delete_cmd_prefix": "rm(",
     "library": "var_list.r",
     "varRefreshCmd": "cat(var_dic_list()) "
    }
   },
   "types_to_exclude": [
    "module",
    "function",
    "builtin_function_or_method",
    "instance",
    "_Feature"
   ],
   "window_display": false
  }
 },
 "nbformat": 4,
 "nbformat_minor": 5
}
