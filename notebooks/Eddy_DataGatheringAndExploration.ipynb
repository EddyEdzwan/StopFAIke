{
 "cells": [
  {
   "cell_type": "code",
   "execution_count": 1,
   "id": "f5c3aec3",
   "metadata": {},
   "outputs": [],
   "source": [
    "from datasets import load_dataset\n",
    "import pandas as pd\n",
    "import matplotlib.pyplot as plt\n",
    "import os\n",
    "import glob\n",
    "import json\n",
    "import numpy as np\n",
    "# import nltk\n",
    "# import string\n",
    "# from nltk.corpus import stopwords\n",
    "# from nltk.tokenize import word_tokenize\n",
    "# from nltk.stem import WordNetLemmatizer\n",
    "from StopFAIke import data\n",
    "from sklearn.feature_extraction.text import TfidfVectorizer\n",
    "from sklearn.model_selection import train_test_split\n",
    "from sklearn.naive_bayes import MultinomialNB\n",
    "from sklearn.model_selection import cross_validate\n",
    "from sklearn.model_selection import GridSearchCV, RandomizedSearchCV"
   ]
  },
  {
   "cell_type": "markdown",
   "id": "27bb29aa",
   "metadata": {},
   "source": [
    "# Data Exploration"
   ]
  },
  {
   "cell_type": "markdown",
   "id": "1f019fcc",
   "metadata": {},
   "source": [
    "## FakeNewsNet"
   ]
  },
  {
   "cell_type": "markdown",
   "id": "3f9ba6b0",
   "metadata": {},
   "source": [
    "### Getting the Dataset"
   ]
  },
  {
   "cell_type": "code",
   "execution_count": 20,
   "id": "a3e08c8d",
   "metadata": {
    "collapsed": true
   },
   "outputs": [
    {
     "name": "stdout",
     "output_type": "stream",
     "text": [
      "{\n",
      "    \"authors\": [],\n",
      "    \"canonical_link\": \"https://web.archive.org/web/20180624033812/http://flashnewss.club/2018/06/11/breaking-shep-smith-to-be-canned-because-he-cant-control-his-hate-for-donald-trump/\",\n",
      "    \"images\": [\n",
      "        \"https://web.archive.org/web/20180624033812im_/http://flashnewss.club/wp-content/uploads/2018/06/Screenshot_20180617-0102212-80x80.png\",\n",
      "        \"https://web.archive.org/web/20180624033812im_/http://flashnewss.club/wp-content/uploads/2018/06/news_m-2.jpg\",\n",
      "        \"https://web.archive.org/web/20180624033812im_/http://flashnewss.club/wp-content/uploads/2018/06/80de7608-53f0-460c-8947-b5a7d76720d2-400x240.jpg\",\n",
      "        \"https://web.archive.org/web/20180624033812im_/http://flashnewss.club/wp-content/uploads/2018/06/20-24-400x240.png\",\n",
      "        \"https://web.archive.org/web/20180624033812im_/http://flashnewss.club/wp-content/uploads/2018/06/few.jpg\",\n",
      "        \"https://web.archive.org/web/20180624033812im_/http://2.gravatar.com/avatar/57f977b92bc08c494494dc40ed0ae92b?s=46&d=mm&r=g\",\n",
      "        \"https://web.archive.org/web/20180624033812im_/http://flashnewss.club/wp-content/uploads/2018/06/oprah-400x240.jpg\",\n",
      "        \"https://web.archive.org/web/20180624033812im_/http://flashnewss.club/wp-content/uploads/2018/06/Shepard-smith-01-1280x720.jpg\",\n",
      "        \"https://web.archive.org/web/20180624033812im_/http://flashnewss.club/wp-content/uploads/2018/06/child-who-killed-pedophile-escape-sex-trafficking-ring-jailed-life-211171-400x240.jpg\",\n",
      "        \"https://web.archive.org/web/20180624033812im_/http://flashnewss.club/wp-content/uploads/2018/06/oprah-80x80.jpg\",\n",
      "        \"https://web.archive.org/web/20180624033812im_/http://flashnewss.club/wp-content/uploads/2018/06/Screenshot_20180617-0102212-400x240.png\",\n",
      "        \"https://web.archive.org/web/20180624033812im_/http://flashnewss.club/wp-content/uploads/2018/06/80de7608-53f0-460c-8947-b5a7d76720d2.jpg\",\n",
      "        \"https://web.archive.org/web/20180624033812im_/http://flashnewss.club/wp-content/uploads/2018/06/20-24-80x80.png\",\n",
      "        \"https://web.archive.org/web/20180624033812im_/http://flashnewss.club/wp-content/uploads/2018/06/news_m-4.jpg\",\n",
      "        \"https://web.archive.org/web/20180624033812im_/http://flashnewss.club/wp-content/uploads/2018/06/Screenshot_20180617-0106422.png\",\n",
      "        \"https://web.archive.org/web/20180624033812im_/http://flashnewss.club/wp-content/uploads/2018/06/Screenshot_20180617-0106422-400x240.png\",\n",
      "        \"https://web.archive.org/web/20180624033812im_/http://flashnewss.club/wp-content/uploads/2018/06/Shepard-smith-01-1280x720-1000x600.jpg\",\n",
      "        \"https://web.archive.org/web/20180624033812im_/http://flashnewss.club/wp-content/uploads/2018/06/child-who-killed-pedophile-escape-sex-trafficking-ring-jailed-life-211171-80x80.jpg\",\n",
      "        \"https://web.archive.org/web/20180624033812im_/http://flashnewss.club/wp-content/uploads/2018/06/80de7608-53f0-460c-8947-b5a7d76720d2-80x80.jpg\",\n",
      "        \"https://web.archive.org/web/20180624033812im_/http://flashnewss.club/wp-content/uploads/2018/06/texas_worker-80x80.jpg\",\n",
      "        \"https://web.archive.org/web/20180624033812im_/http://flashnewss.club/wp-content/uploads/2018/06/TrumpRNCopenmouth-800x430-400x240.jpg\",\n",
      "        \"https://web.archive.org/web/20180624033812im_/http://flashnewss.club/wp-content/uploads/2018/06/TrumpRNCopenmouth-800x430-80x80.jpg\",\n",
      "        \"https://web.archive.org/web/20180624033812im_/http://flashnewss.club/wp-content/uploads/2018/06/Screenshot_20180617-0106422-80x80.png\",\n",
      "        \"https://web.archive.org/web/20180624033812im_/http://flashnewss.club/wp-content/uploads/2018/06/texas_worker-400x240.jpg\",\n",
      "        \"https://web.archive.org/web/20180624033812im_/http://flashnewss.club/wp-content/uploads/2018/06/news_m-3.jpg\"\n",
      "    ],\n",
      "    \"keywords\": [],\n",
      "    \"meta_data\": {\n",
      "        \"article\": {\n",
      "            \"modified_time\": \"2018-06-11T02:50:46+00:00\",\n",
      "            \"published_time\": \"2018-06-11T02:50:46+00:00\"\n",
      "        },\n",
      "        \"generator\": \"WordPress 4.9.6\",\n",
      "        \"og\": {\n",
      "            \"description\": \"Last week, Fox News anchor Shepard Smith attacked President Donald Trump for his assertion that the news media frequently underreports on radical Islamic terror attacks. To support his point, Smith listed several terror attacks that\",\n",
      "            \"image\": {\n",
      "                \"height\": 720,\n",
      "                \"identifier\": \"https://web.archive.org/web/20180624033812im_/http://flashnewss.club/wp-content/uploads/2018/06/Shepard-smith-01-1280x720.jpg\",\n",
      "                \"width\": 1280\n",
      "            },\n",
      "            \"site_name\": \"Flash News\",\n",
      "            \"title\": \"BREAKING: Shep Smith To Be Canned Because He Can\\u2019t Control His Hate For Donald Trump\",\n",
      "            \"type\": \"article\",\n",
      "            \"updated_time\": \"2018-06-11T02:50:46+00:00\",\n",
      "            \"url\": \"https://web.archive.org/web/20180624033812/http://flashnewss.club/2018/06/11/breaking-shep-smith-to-be-canned-because-he-cant-control-his-hate-for-donald-trump/\"\n",
      "        },\n",
      "        \"onesignal\": \"wordpress-plugin\",\n",
      "        \"twitter\": {\n",
      "            \"card\": \"summary_large_image\",\n",
      "            \"description\": \"Last week, Fox News anchor Shepard Smith attacked President Donald Trump for his assertion that the news media frequently underreports on radical Islamic terror attacks. To support his point, Smith listed several terror attacks that\",\n",
      "            \"image\": \"https://web.archive.org/web/20180624033812im_/http://flashnewss.club/wp-content/uploads/2018/06/Shepard-smith-01-1280x720.jpg\",\n",
      "            \"title\": \"BREAKING: Shep Smith To Be Canned Because He Can\\u2019t Control His Hate For Donald Trump\",\n",
      "            \"url\": \"https://web.archive.org/web/20180624033812im_/http://flashnewss.club/2018/06/11/breaking-shep-smith-to-be-canned-because-he-cant-control-his-hate-for-donald-trump/\"\n",
      "        },\n",
      "        \"viewport\": \"width=device-width, initial-scale=1.0, maximum-scale=1.0, minimum-scale=1.0, user-scalable=no\"\n",
      "    },\n",
      "    \"movies\": [],\n",
      "    \"publish_date\": 1528685446.0,\n",
      "    \"source\": \"https://web.archive.org\",\n",
      "    \"summary\": \"\",\n",
      "    \"text\": \"A dispute in Angela Merkel\\u2019s coalition over migration policy has swiftly escalated into one of the biggest tests of her chancellorship.\\n\\nThe clash has opened a rift at the heart of the German leader\\u2019s own camp, between her Christian Democratic Union and its CSU Bavarian sister party. How the conflict is resolved will determine the chancellor\\u2019s fate, possibly as soon as Monday.\\n\\nHorst Seehofer, Merkel\\u2019s interior minister and the leader of Bavaria\\u2019s Christian Social Union, wants to force through a plan to send back migrants who have already registered for asylum in other European Union states. Merkel rejects the proposal as offloading the burden on neighboring states, and says it would kill efforts to forge a bloc-wide response to the continent\\u2019s struggle with migration.\\n\\nBavarian lawmakers are fully behind Seehofer, while Merkel has wrested a majority in the larger CDU group for her position. The standoff is a replay of tensions that have periodically bubbled up between Merkel and Seehofer since the height of the refugee crisis in 2015 and 2016, only this time there is no obvious way out. Following are some potential scenarios:\\n\\nCompromise\\n\\nThe two parties have managed to eke out a compromise after each previous conflict. Overtures could begin on Monday, when the CSU party executive meets in Munich. Seehofer could give Merkel what she wants: two weeks to forge bilateral accords with countries such as Italy and Greece to return registered asylum seekers.\\n\\nMerkel could also give ground, as for example the newspaper Die Welt advocates. She could put forward another proposal to assuage the CSU that may yield a compromise. But if she caves in to the Bavarian demands as they stand, it would be an unprecedented loss of authority that would render her a lame duck leader.\\n\\nNo Compromise\\n\\nIn the absence of a face-saving deal, the real clash could come as early as Monday. That\\u2019s when Seehofer has indicated he will start to implement his plan at the border. As interior minister, Seehofer has the authority to do so, even in the face of Merkel\\u2019s rejection. The only way for the chancellor to forestall a unilateral decision by her minister would be to fire him. Sacking her top Bavarian ally would be a historic first. If it happens, it\\u2019s hard to see how the coalition continues.\\n\\nEven if it doesn\\u2019t come to that and Merkel is given until the June 28-29 EU summit to reach bilateral agreements, it may only delayed the clash, since there is no guarantee she can win deals with other other EU states. She has already called the prospect ambitious.\\n\\nConfidence vote\\n\\nFor a coalition to dissolve, the German constitution says the lower house of parliament, or Bundestag, has to call a vote of confidence. The CDU and CSU, with a combined 246 seats, and the SPD with 153, have a majority of 44 seats in the 709-seat Bundestag. Such a move would be the ultimate measure of support for Merkel as chancellor. Even if she is unable to rely on the CSU, or indeed all of her own party\\u2019s votes, on the specific issue of her stand on migration Merkel might be able to attract the support of the Greens, which have 67 seats.\\n\\nGermany\\u2019s Sueddeutsche Zeitung said in an opinion piece on Friday that Merkel should short-circuit the squabbling and put her parliamentary support to the test with a confidence vote. It\\u2019s a tactic that her predecessor, Social Democrat Gerhard Schroeder, used to force through military support for the U.S. after the Sept. 11 attacks. He used it again in 2005 amid a party rebellion, and this time lost the confidence motion, forcing new elections.\\n\\nMerkel resigns\\n\\nShould the chancellor view her authority as irretrievably compromised, she could throw in the towel. The Bundestag would be forced to elect a new chancellor to replace her, most likely from the CDU. Unless the governing parties agree to continue the coalition under a new leader, Germany\\u2019s ninth chancellor since World War II would serve in a caretaker capacity through to a new election.\\n\\nSplit on the right\\n\\nThe CDU and the CSU are sister parties, with a joint parliamentary caucus and electoral program. Think of the CSU as the center-right\\u2019s Bavarian chapter \\u2014 the CDU operates in all of Germany\\u2019s 16 states except Bavaria.\\n\\nSo a breach would be drastic, but not unprecedented. In 1976, CSU chairman Franz-Josef Strauss called off the joint caucus, but the split was short-lived. For the Bavarians, going it alone would theoretically open a path for the CDU to campaign in Bavaria, weakening the CSU\\u2019s position.\\n\\nA hoax tweet that rattled markets on Friday raised exactly that possibility. It presented a fake quote from the CDU state premier of Hesse, Volker Bouffier, as saying his party should prepare to set up a Bavarian chapter for the next national election. Merkel\\u2019s chief spokesman, Steffen Seibert, quickly stepped in to say the report was invented. \\u201cWe should all remain calm,\\u201d he said.\",\n",
      "    \"title\": \"BREAKING: Shep Smith To Be Canned Because He Can\\u2019t Control His Hate For Donald Trump\",\n",
      "    \"top_img\": \"https://web.archive.org/web/20180624033812im_/http://flashnewss.club/wp-content/uploads/2018/06/Shepard-smith-01-1280x720-1000x600.jpg\",\n",
      "    \"url\": \"https://web.archive.org/web/20180615125007/http://flashnewss.club/breaking-shep-smith-to-be-canned-because-he-cant-control-his-hate-for-donald-trump/\"\n",
      "}\n"
     ]
    }
   ],
   "source": [
    "root = '/home/eddyedzwan/code/EddyEdzwan/FakeNewsNet/code/fakenewsnet_dataset/politifact/fake'\n",
    "dir_ = os.listdir(root)\n",
    "\n",
    "#Printing the content of a JSON file download for preview\n",
    "for folder in dir_:\n",
    "    f = open(os.path.join(root,folder,'news content.json'))\n",
    "    data = json.load(f)\n",
    "    print(json.dumps(data, indent=4, sort_keys=True))\n",
    "    break"
   ]
  },
  {
   "cell_type": "code",
   "execution_count": 96,
   "id": "282a008d",
   "metadata": {},
   "outputs": [],
   "source": [
    "#Exporting the DataFrames to csv files\n",
    "# poli_fake_df.to_csv('/home/eddyedzwan/code/EddyEdzwan/StopFAIke/raw_data/poli_fake_df.csv')\n",
    "# poli_real_df.to_csv('/home/eddyedzwan/code/EddyEdzwan/StopFAIke/raw_data/poli_real_df.csv')\n",
    "# gossip_fake_df.to_csv('/home/eddyedzwan/code/EddyEdzwan/StopFAIke/raw_data/gossip_fake_df.csv')\n",
    "# gossip_real_df.to_csv('/home/eddyedzwan/code/EddyEdzwan/StopFAIke/raw_data/gossip_real_df.csv')\n",
    "\n",
    "#Reading the csv from local\n",
    "poli_fake_df = pd.read_csv('/home/eddyedzwan/code/EddyEdzwan/StopFAIke/raw_data/poli_fake_df.csv', index_col='Unnamed: 0')\n",
    "poli_real_df = pd.read_csv('/home/eddyedzwan/code/EddyEdzwan/StopFAIke/raw_data/poli_real_df.csv', index_col='Unnamed: 0')\n",
    "gossip_fake_df = pd.read_csv('/home/eddyedzwan/code/EddyEdzwan/StopFAIke/raw_data/gossip_fake_df.csv', index_col='Unnamed: 0')\n",
    "gossip_real_df = pd.read_csv('/home/eddyedzwan/code/EddyEdzwan/StopFAIke/raw_data/gossip_real_df.csv', index_col='Unnamed: 0')"
   ]
  },
  {
   "cell_type": "code",
   "execution_count": 97,
   "id": "99b5cb79",
   "metadata": {},
   "outputs": [
    {
     "name": "stdout",
     "output_type": "stream",
     "text": [
      "poli_fake_df shape : (397, 5)\n",
      "poli_real_df shape : (558, 5)\n",
      "gossip_fake_df shape : (4892, 5)\n",
      "gossip_real_df shape : (15271, 5)\n"
     ]
    }
   ],
   "source": [
    "print(f'poli_fake_df shape : {poli_fake_df.shape}')\n",
    "print(f'poli_real_df shape : {poli_real_df.shape}')\n",
    "print(f'gossip_fake_df shape : {gossip_fake_df.shape}')\n",
    "print(f'gossip_real_df shape : {gossip_real_df.shape}')"
   ]
  },
  {
   "cell_type": "code",
   "execution_count": 98,
   "id": "2d057e7e",
   "metadata": {},
   "outputs": [],
   "source": [
    "#Add target columns\n",
    "poli_fake_df['target'] = 1\n",
    "poli_real_df['target'] = 0\n",
    "gossip_fake_df['target'] = 1\n",
    "gossip_real_df['target'] = 0"
   ]
  },
  {
   "cell_type": "code",
   "execution_count": 99,
   "id": "6d8ffed6",
   "metadata": {},
   "outputs": [
    {
     "data": {
      "text/plain": [
       "21118"
      ]
     },
     "execution_count": 99,
     "metadata": {},
     "output_type": "execute_result"
    }
   ],
   "source": [
    "poli_fake_df.shape[0] + poli_real_df.shape[0] + gossip_fake_df.shape[0] + gossip_real_df.shape[0]"
   ]
  },
  {
   "cell_type": "code",
   "execution_count": 100,
   "id": "74058efa",
   "metadata": {},
   "outputs": [
    {
     "data": {
      "text/html": [
       "<div>\n",
       "<style scoped>\n",
       "    .dataframe tbody tr th:only-of-type {\n",
       "        vertical-align: middle;\n",
       "    }\n",
       "\n",
       "    .dataframe tbody tr th {\n",
       "        vertical-align: top;\n",
       "    }\n",
       "\n",
       "    .dataframe thead th {\n",
       "        text-align: right;\n",
       "    }\n",
       "</style>\n",
       "<table border=\"1\" class=\"dataframe\">\n",
       "  <thead>\n",
       "    <tr style=\"text-align: right;\">\n",
       "      <th></th>\n",
       "      <th>title</th>\n",
       "      <th>text</th>\n",
       "      <th>authors</th>\n",
       "      <th>num_images</th>\n",
       "      <th>url</th>\n",
       "      <th>target</th>\n",
       "    </tr>\n",
       "  </thead>\n",
       "  <tbody>\n",
       "    <tr>\n",
       "      <th>0</th>\n",
       "      <td>BREAKING: Shep Smith To Be Canned Because He C...</td>\n",
       "      <td>A dispute in Angela Merkel’s coalition over mi...</td>\n",
       "      <td>[]</td>\n",
       "      <td>25</td>\n",
       "      <td>https://web.archive.org/web/20180615125007/htt...</td>\n",
       "      <td>0</td>\n",
       "    </tr>\n",
       "    <tr>\n",
       "      <th>1</th>\n",
       "      <td>CNN Shocks America, FIRES ‘Journalist’ Who Mad...</td>\n",
       "      <td>On Sunday, CNN did something shocking: they to...</td>\n",
       "      <td>['About Janet Farrow', 'Janet Farrow Is An Inv...</td>\n",
       "      <td>5</td>\n",
       "      <td>https://web.archive.org/web/20180502181153/htt...</td>\n",
       "      <td>0</td>\n",
       "    </tr>\n",
       "    <tr>\n",
       "      <th>2</th>\n",
       "      <td>Nancy Pelosi Suffers Breakdown, Taken From Cap...</td>\n",
       "      <td>It’s not a good day for Democrats.\\n\\nDemocrat...</td>\n",
       "      <td>['About Truth Dealer', 'Truth Dealer Is A Cons...</td>\n",
       "      <td>52</td>\n",
       "      <td>https://web.archive.org/web/20170616181605/htt...</td>\n",
       "      <td>0</td>\n",
       "    </tr>\n",
       "    <tr>\n",
       "      <th>3</th>\n",
       "      <td>Libtard Hero Al Franken Forced To Resign In Di...</td>\n",
       "      <td>Libtard Democrat Al Franken will resign his se...</td>\n",
       "      <td>['Please Enter Your Name Here']</td>\n",
       "      <td>10</td>\n",
       "      <td>https://web.archive.org/web/20170619144927/htt...</td>\n",
       "      <td>0</td>\n",
       "    </tr>\n",
       "    <tr>\n",
       "      <th>4</th>\n",
       "      <td>Bill Gates: “I think Donald Trump will go down...</td>\n",
       "      <td>Please Support Online Petition To Congress For...</td>\n",
       "      <td>[]</td>\n",
       "      <td>15</td>\n",
       "      <td>https://web.archive.org/web/20170205045142/htt...</td>\n",
       "      <td>0</td>\n",
       "    </tr>\n",
       "  </tbody>\n",
       "</table>\n",
       "</div>"
      ],
      "text/plain": [
       "                                               title  \\\n",
       "0  BREAKING: Shep Smith To Be Canned Because He C...   \n",
       "1  CNN Shocks America, FIRES ‘Journalist’ Who Mad...   \n",
       "2  Nancy Pelosi Suffers Breakdown, Taken From Cap...   \n",
       "3  Libtard Hero Al Franken Forced To Resign In Di...   \n",
       "4  Bill Gates: “I think Donald Trump will go down...   \n",
       "\n",
       "                                                text  \\\n",
       "0  A dispute in Angela Merkel’s coalition over mi...   \n",
       "1  On Sunday, CNN did something shocking: they to...   \n",
       "2  It’s not a good day for Democrats.\\n\\nDemocrat...   \n",
       "3  Libtard Democrat Al Franken will resign his se...   \n",
       "4  Please Support Online Petition To Congress For...   \n",
       "\n",
       "                                             authors  num_images  \\\n",
       "0                                                 []          25   \n",
       "1  ['About Janet Farrow', 'Janet Farrow Is An Inv...           5   \n",
       "2  ['About Truth Dealer', 'Truth Dealer Is A Cons...          52   \n",
       "3                    ['Please Enter Your Name Here']          10   \n",
       "4                                                 []          15   \n",
       "\n",
       "                                                 url  target  \n",
       "0  https://web.archive.org/web/20180615125007/htt...       0  \n",
       "1  https://web.archive.org/web/20180502181153/htt...       0  \n",
       "2  https://web.archive.org/web/20170616181605/htt...       0  \n",
       "3  https://web.archive.org/web/20170619144927/htt...       0  \n",
       "4  https://web.archive.org/web/20170205045142/htt...       0  "
      ]
     },
     "execution_count": 100,
     "metadata": {},
     "output_type": "execute_result"
    }
   ],
   "source": [
    "df = pd.concat([poli_fake_df,poli_real_df,gossip_fake_df,gossip_real_df], axis=0)\n",
    "\n",
    "df.shape"
   ]
  },
  {
   "cell_type": "markdown",
   "id": "db59e7a4",
   "metadata": {},
   "source": [
    "### Data Cleaning and Preparation (Dealing with missing values/imputing in the dataframes)"
   ]
  },
  {
   "cell_type": "code",
   "execution_count": 101,
   "id": "e0e655af",
   "metadata": {},
   "outputs": [
    {
     "data": {
      "text/html": [
       "<div>\n",
       "<style scoped>\n",
       "    .dataframe tbody tr th:only-of-type {\n",
       "        vertical-align: middle;\n",
       "    }\n",
       "\n",
       "    .dataframe tbody tr th {\n",
       "        vertical-align: top;\n",
       "    }\n",
       "\n",
       "    .dataframe thead th {\n",
       "        text-align: right;\n",
       "    }\n",
       "</style>\n",
       "<table border=\"1\" class=\"dataframe\">\n",
       "  <thead>\n",
       "    <tr style=\"text-align: right;\">\n",
       "      <th></th>\n",
       "      <th>title</th>\n",
       "      <th>text</th>\n",
       "      <th>authors</th>\n",
       "      <th>num_images</th>\n",
       "      <th>url</th>\n",
       "      <th>target</th>\n",
       "      <th>title_len</th>\n",
       "      <th>text_len</th>\n",
       "      <th>authors_len</th>\n",
       "      <th>url_len</th>\n",
       "    </tr>\n",
       "  </thead>\n",
       "  <tbody>\n",
       "    <tr>\n",
       "      <th>0</th>\n",
       "      <td>BREAKING: Shep Smith To Be Canned Because He C...</td>\n",
       "      <td>A dispute in Angela Merkel’s coalition over mi...</td>\n",
       "      <td>[]</td>\n",
       "      <td>25</td>\n",
       "      <td>https://web.archive.org/web/20180615125007/htt...</td>\n",
       "      <td>0</td>\n",
       "      <td>84</td>\n",
       "      <td>4901</td>\n",
       "      <td>2</td>\n",
       "      <td>149</td>\n",
       "    </tr>\n",
       "    <tr>\n",
       "      <th>1</th>\n",
       "      <td>CNN Shocks America, FIRES ‘Journalist’ Who Mad...</td>\n",
       "      <td>On Sunday, CNN did something shocking: they to...</td>\n",
       "      <td>['About Janet Farrow', 'Janet Farrow Is An Inv...</td>\n",
       "      <td>5</td>\n",
       "      <td>https://web.archive.org/web/20180502181153/htt...</td>\n",
       "      <td>0</td>\n",
       "      <td>74</td>\n",
       "      <td>1391</td>\n",
       "      <td>209</td>\n",
       "      <td>153</td>\n",
       "    </tr>\n",
       "    <tr>\n",
       "      <th>2</th>\n",
       "      <td>Nancy Pelosi Suffers Breakdown, Taken From Cap...</td>\n",
       "      <td>It’s not a good day for Democrats.\\n\\nDemocrat...</td>\n",
       "      <td>['About Truth Dealer', 'Truth Dealer Is A Cons...</td>\n",
       "      <td>52</td>\n",
       "      <td>https://web.archive.org/web/20170616181605/htt...</td>\n",
       "      <td>0</td>\n",
       "      <td>70</td>\n",
       "      <td>1084</td>\n",
       "      <td>121</td>\n",
       "      <td>141</td>\n",
       "    </tr>\n",
       "    <tr>\n",
       "      <th>3</th>\n",
       "      <td>Libtard Hero Al Franken Forced To Resign In Di...</td>\n",
       "      <td>Libtard Democrat Al Franken will resign his se...</td>\n",
       "      <td>['Please Enter Your Name Here']</td>\n",
       "      <td>10</td>\n",
       "      <td>https://web.archive.org/web/20170619144927/htt...</td>\n",
       "      <td>0</td>\n",
       "      <td>52</td>\n",
       "      <td>1247</td>\n",
       "      <td>31</td>\n",
       "      <td>128</td>\n",
       "    </tr>\n",
       "    <tr>\n",
       "      <th>4</th>\n",
       "      <td>Bill Gates: “I think Donald Trump will go down...</td>\n",
       "      <td>Please Support Online Petition To Congress For...</td>\n",
       "      <td>[]</td>\n",
       "      <td>15</td>\n",
       "      <td>https://web.archive.org/web/20170205045142/htt...</td>\n",
       "      <td>0</td>\n",
       "      <td>111</td>\n",
       "      <td>867</td>\n",
       "      <td>2</td>\n",
       "      <td>175</td>\n",
       "    </tr>\n",
       "  </tbody>\n",
       "</table>\n",
       "</div>"
      ],
      "text/plain": [
       "                                               title  \\\n",
       "0  BREAKING: Shep Smith To Be Canned Because He C...   \n",
       "1  CNN Shocks America, FIRES ‘Journalist’ Who Mad...   \n",
       "2  Nancy Pelosi Suffers Breakdown, Taken From Cap...   \n",
       "3  Libtard Hero Al Franken Forced To Resign In Di...   \n",
       "4  Bill Gates: “I think Donald Trump will go down...   \n",
       "\n",
       "                                                text  \\\n",
       "0  A dispute in Angela Merkel’s coalition over mi...   \n",
       "1  On Sunday, CNN did something shocking: they to...   \n",
       "2  It’s not a good day for Democrats.\\n\\nDemocrat...   \n",
       "3  Libtard Democrat Al Franken will resign his se...   \n",
       "4  Please Support Online Petition To Congress For...   \n",
       "\n",
       "                                             authors  num_images  \\\n",
       "0                                                 []          25   \n",
       "1  ['About Janet Farrow', 'Janet Farrow Is An Inv...           5   \n",
       "2  ['About Truth Dealer', 'Truth Dealer Is A Cons...          52   \n",
       "3                    ['Please Enter Your Name Here']          10   \n",
       "4                                                 []          15   \n",
       "\n",
       "                                                 url  target  title_len  \\\n",
       "0  https://web.archive.org/web/20180615125007/htt...       0         84   \n",
       "1  https://web.archive.org/web/20180502181153/htt...       0         74   \n",
       "2  https://web.archive.org/web/20170616181605/htt...       0         70   \n",
       "3  https://web.archive.org/web/20170619144927/htt...       0         52   \n",
       "4  https://web.archive.org/web/20170205045142/htt...       0        111   \n",
       "\n",
       "   text_len  authors_len  url_len  \n",
       "0      4901            2      149  \n",
       "1      1391          209      153  \n",
       "2      1084          121      141  \n",
       "3      1247           31      128  \n",
       "4       867            2      175  "
      ]
     },
     "execution_count": 101,
     "metadata": {},
     "output_type": "execute_result"
    }
   ],
   "source": [
    "#Creating column for string lengths to check and confirm for missing values\n",
    "for col in df.select_dtypes(include='object').columns:\n",
    "    df[f'{col}_len'] = df[col].apply(lambda x: len(str(x)))\n",
    "    \n",
    "df.head()"
   ]
  },
  {
   "cell_type": "code",
   "execution_count": 104,
   "id": "306e6aeb",
   "metadata": {},
   "outputs": [
    {
     "data": {
      "text/plain": [
       "title          234\n",
       "text           548\n",
       "authors          0\n",
       "num_images       0\n",
       "url              0\n",
       "target           0\n",
       "title_len        0\n",
       "text_len         0\n",
       "authors_len      0\n",
       "url_len          0\n",
       "dtype: int64"
      ]
     },
     "execution_count": 104,
     "metadata": {},
     "output_type": "execute_result"
    }
   ],
   "source": [
    "df.isnull().sum()"
   ]
  },
  {
   "cell_type": "code",
   "execution_count": 105,
   "id": "917b7e86",
   "metadata": {},
   "outputs": [
    {
     "name": "stderr",
     "output_type": "stream",
     "text": [
      "/tmp/ipykernel_1236/3962516015.py:1: FutureWarning: Dropping of nuisance columns in DataFrame reductions (with 'numeric_only=None') is deprecated; in a future version this will raise TypeError.  Select only valid columns before calling the reduction.\n",
      "  df.min()\n"
     ]
    },
    {
     "data": {
      "text/plain": [
       "authors        [\"Amanda N'Duka Anthony D'Alessandro\", \"Amanda...\n",
       "num_images                                                     0\n",
       "url            1037theq.iheart.com/content/2017-07-28-miranda...\n",
       "target                                                         0\n",
       "title_len                                                      3\n",
       "text_len                                                       3\n",
       "authors_len                                                    2\n",
       "url_len                                                       11\n",
       "dtype: object"
      ]
     },
     "execution_count": 105,
     "metadata": {},
     "output_type": "execute_result"
    }
   ],
   "source": [
    "df.min()"
   ]
  },
  {
   "cell_type": "code",
   "execution_count": 106,
   "id": "ee2af7c3",
   "metadata": {},
   "outputs": [
    {
     "data": {
      "text/plain": [
       "(239, 10)"
      ]
     },
     "execution_count": 106,
     "metadata": {},
     "output_type": "execute_result"
    }
   ],
   "source": [
    "df[df['title_len']==df['title_len'].min()].shape"
   ]
  },
  {
   "cell_type": "code",
   "execution_count": 107,
   "id": "2906e0be",
   "metadata": {},
   "outputs": [
    {
     "data": {
      "text/plain": [
       "(548, 10)"
      ]
     },
     "execution_count": 107,
     "metadata": {},
     "output_type": "execute_result"
    }
   ],
   "source": [
    "df[df['text_len']==df['text_len'].min()].shape"
   ]
  },
  {
   "cell_type": "code",
   "execution_count": 108,
   "id": "275ef5c0",
   "metadata": {},
   "outputs": [],
   "source": [
    "#Dropping missing rows\n",
    "df.dropna(axis=0, how='any', inplace=True)"
   ]
  },
  {
   "cell_type": "code",
   "execution_count": 109,
   "id": "1605e04a",
   "metadata": {},
   "outputs": [
    {
     "data": {
      "text/plain": [
       "title          \"13 Reasons Why\" premiere party canceled after...\n",
       "text           \\n\\n\\n\\n\\n\\n\\n\\n\\n\\nReality TV ‘Rob & Big’ sta...\n",
       "authors        [\"Amanda N'Duka Anthony D'Alessandro\", \"Amanda...\n",
       "num_images                                                     0\n",
       "url            1037theq.iheart.com/content/2017-07-28-miranda...\n",
       "target                                                         0\n",
       "title_len                                                      3\n",
       "text_len                                                      17\n",
       "authors_len                                                    2\n",
       "url_len                                                       11\n",
       "dtype: object"
      ]
     },
     "execution_count": 109,
     "metadata": {},
     "output_type": "execute_result"
    }
   ],
   "source": [
    "df.min()"
   ]
  },
  {
   "cell_type": "code",
   "execution_count": 110,
   "id": "827a4bad",
   "metadata": {},
   "outputs": [
    {
     "data": {
      "text/html": [
       "<div>\n",
       "<style scoped>\n",
       "    .dataframe tbody tr th:only-of-type {\n",
       "        vertical-align: middle;\n",
       "    }\n",
       "\n",
       "    .dataframe tbody tr th {\n",
       "        vertical-align: top;\n",
       "    }\n",
       "\n",
       "    .dataframe thead th {\n",
       "        text-align: right;\n",
       "    }\n",
       "</style>\n",
       "<table border=\"1\" class=\"dataframe\">\n",
       "  <thead>\n",
       "    <tr style=\"text-align: right;\">\n",
       "      <th></th>\n",
       "      <th>title</th>\n",
       "      <th>text</th>\n",
       "      <th>authors</th>\n",
       "      <th>num_images</th>\n",
       "      <th>url</th>\n",
       "      <th>target</th>\n",
       "      <th>title_len</th>\n",
       "      <th>text_len</th>\n",
       "      <th>authors_len</th>\n",
       "      <th>url_len</th>\n",
       "    </tr>\n",
       "  </thead>\n",
       "  <tbody>\n",
       "    <tr>\n",
       "      <th>5570</th>\n",
       "      <td>404</td>\n",
       "      <td>404\\n\\nSomething went wrong please try again</td>\n",
       "      <td>[]</td>\n",
       "      <td>3</td>\n",
       "      <td>https://web.archive.org/web/20200110072426/htt...</td>\n",
       "      <td>1</td>\n",
       "      <td>3</td>\n",
       "      <td>42</td>\n",
       "      <td>2</td>\n",
       "      <td>125</td>\n",
       "    </tr>\n",
       "    <tr>\n",
       "      <th>13078</th>\n",
       "      <td>TMZ</td>\n",
       "      <td>Jennifer Lopez is at the center of a pretty ch...</td>\n",
       "      <td>[]</td>\n",
       "      <td>74</td>\n",
       "      <td>http://www.tmz.com/</td>\n",
       "      <td>1</td>\n",
       "      <td>3</td>\n",
       "      <td>1438</td>\n",
       "      <td>2</td>\n",
       "      <td>19</td>\n",
       "    </tr>\n",
       "  </tbody>\n",
       "</table>\n",
       "</div>"
      ],
      "text/plain": [
       "      title                                               text authors  \\\n",
       "5570    404       404\\n\\nSomething went wrong please try again      []   \n",
       "13078   TMZ  Jennifer Lopez is at the center of a pretty ch...      []   \n",
       "\n",
       "       num_images                                                url  target  \\\n",
       "5570            3  https://web.archive.org/web/20200110072426/htt...       1   \n",
       "13078          74                                http://www.tmz.com/       1   \n",
       "\n",
       "       title_len  text_len  authors_len  url_len  \n",
       "5570           3        42            2      125  \n",
       "13078          3      1438            2       19  "
      ]
     },
     "execution_count": 110,
     "metadata": {},
     "output_type": "execute_result"
    }
   ],
   "source": [
    "df[df['title_len']==df['title_len'].min()]"
   ]
  },
  {
   "cell_type": "code",
   "execution_count": null,
   "id": "d816fad3",
   "metadata": {},
   "outputs": [],
   "source": [
    "#Drop row index 5570\n",
    "df.drop(index=5570, inplace=True)"
   ]
  },
  {
   "cell_type": "code",
   "execution_count": 112,
   "id": "d03d838f",
   "metadata": {},
   "outputs": [
    {
     "data": {
      "text/html": [
       "<div>\n",
       "<style scoped>\n",
       "    .dataframe tbody tr th:only-of-type {\n",
       "        vertical-align: middle;\n",
       "    }\n",
       "\n",
       "    .dataframe tbody tr th {\n",
       "        vertical-align: top;\n",
       "    }\n",
       "\n",
       "    .dataframe thead th {\n",
       "        text-align: right;\n",
       "    }\n",
       "</style>\n",
       "<table border=\"1\" class=\"dataframe\">\n",
       "  <thead>\n",
       "    <tr style=\"text-align: right;\">\n",
       "      <th></th>\n",
       "      <th>title</th>\n",
       "      <th>text</th>\n",
       "      <th>authors</th>\n",
       "      <th>num_images</th>\n",
       "      <th>url</th>\n",
       "      <th>target</th>\n",
       "      <th>title_len</th>\n",
       "      <th>text_len</th>\n",
       "      <th>authors_len</th>\n",
       "      <th>url_len</th>\n",
       "      <th>title_preprocessed_lemmatized</th>\n",
       "      <th>text_preprocessed_lemmatized</th>\n",
       "      <th>title_preprocessed_joined</th>\n",
       "      <th>text_preprocessed_joined</th>\n",
       "    </tr>\n",
       "  </thead>\n",
       "  <tbody>\n",
       "    <tr>\n",
       "      <th>0</th>\n",
       "      <td>BREAKING: Shep Smith To Be Canned Because He C...</td>\n",
       "      <td>A dispute in Angela Merkel’s coalition over mi...</td>\n",
       "      <td>[]</td>\n",
       "      <td>25</td>\n",
       "      <td>https://web.archive.org/web/20180615125007/htt...</td>\n",
       "      <td>0</td>\n",
       "      <td>84</td>\n",
       "      <td>4901</td>\n",
       "      <td>2</td>\n",
       "      <td>149</td>\n",
       "      <td>[breaking, shep, smith, canned, control, hate,...</td>\n",
       "      <td>[dispute, angela, merkel, coalition, migration...</td>\n",
       "      <td>breaking shep smith canned control hate donald...</td>\n",
       "      <td>dispute angela merkel coalition migration poli...</td>\n",
       "    </tr>\n",
       "    <tr>\n",
       "      <th>1</th>\n",
       "      <td>CNN Shocks America, FIRES ‘Journalist’ Who Mad...</td>\n",
       "      <td>On Sunday, CNN did something shocking: they to...</td>\n",
       "      <td>['About Janet Farrow', 'Janet Farrow Is An Inv...</td>\n",
       "      <td>5</td>\n",
       "      <td>https://web.archive.org/web/20180502181153/htt...</td>\n",
       "      <td>0</td>\n",
       "      <td>74</td>\n",
       "      <td>1391</td>\n",
       "      <td>209</td>\n",
       "      <td>153</td>\n",
       "      <td>[cnn, shock, america, fire, journalist, made, ...</td>\n",
       "      <td>[sunday, cnn, something, shocking, took, accou...</td>\n",
       "      <td>cnn shock america fire journalist made fun sar...</td>\n",
       "      <td>sunday cnn something shocking took accountabil...</td>\n",
       "    </tr>\n",
       "    <tr>\n",
       "      <th>2</th>\n",
       "      <td>Nancy Pelosi Suffers Breakdown, Taken From Cap...</td>\n",
       "      <td>It’s not a good day for Democrats.\\n\\nDemocrat...</td>\n",
       "      <td>['About Truth Dealer', 'Truth Dealer Is A Cons...</td>\n",
       "      <td>52</td>\n",
       "      <td>https://web.archive.org/web/20170616181605/htt...</td>\n",
       "      <td>0</td>\n",
       "      <td>70</td>\n",
       "      <td>1084</td>\n",
       "      <td>121</td>\n",
       "      <td>141</td>\n",
       "      <td>[nancy, pelosi, suffers, breakdown, taken, cap...</td>\n",
       "      <td>[good, day, democrat, democrat, house, minorit...</td>\n",
       "      <td>nancy pelosi suffers breakdown taken capitol h...</td>\n",
       "      <td>good day democrat democrat house minority lead...</td>\n",
       "    </tr>\n",
       "    <tr>\n",
       "      <th>3</th>\n",
       "      <td>Libtard Hero Al Franken Forced To Resign In Di...</td>\n",
       "      <td>Libtard Democrat Al Franken will resign his se...</td>\n",
       "      <td>['Please Enter Your Name Here']</td>\n",
       "      <td>10</td>\n",
       "      <td>https://web.archive.org/web/20170619144927/htt...</td>\n",
       "      <td>0</td>\n",
       "      <td>52</td>\n",
       "      <td>1247</td>\n",
       "      <td>31</td>\n",
       "      <td>128</td>\n",
       "      <td>[libtard, hero, al, franken, forced, resign, d...</td>\n",
       "      <td>[libtard, democrat, al, franken, resign, seat,...</td>\n",
       "      <td>libtard hero al franken forced resign disgrace</td>\n",
       "      <td>libtard democrat al franken resign seat u sena...</td>\n",
       "    </tr>\n",
       "    <tr>\n",
       "      <th>4</th>\n",
       "      <td>Bill Gates: “I think Donald Trump will go down...</td>\n",
       "      <td>Please Support Online Petition To Congress For...</td>\n",
       "      <td>[]</td>\n",
       "      <td>15</td>\n",
       "      <td>https://web.archive.org/web/20170205045142/htt...</td>\n",
       "      <td>0</td>\n",
       "      <td>111</td>\n",
       "      <td>867</td>\n",
       "      <td>2</td>\n",
       "      <td>175</td>\n",
       "      <td>[bill, gate, think, donald, trump, go, history...</td>\n",
       "      <td>[please, support, online, petition, congress, ...</td>\n",
       "      <td>bill gate think donald trump go history one gr...</td>\n",
       "      <td>please support online petition congress bannin...</td>\n",
       "    </tr>\n",
       "  </tbody>\n",
       "</table>\n",
       "</div>"
      ],
      "text/plain": [
       "                                               title  \\\n",
       "0  BREAKING: Shep Smith To Be Canned Because He C...   \n",
       "1  CNN Shocks America, FIRES ‘Journalist’ Who Mad...   \n",
       "2  Nancy Pelosi Suffers Breakdown, Taken From Cap...   \n",
       "3  Libtard Hero Al Franken Forced To Resign In Di...   \n",
       "4  Bill Gates: “I think Donald Trump will go down...   \n",
       "\n",
       "                                                text  \\\n",
       "0  A dispute in Angela Merkel’s coalition over mi...   \n",
       "1  On Sunday, CNN did something shocking: they to...   \n",
       "2  It’s not a good day for Democrats.\\n\\nDemocrat...   \n",
       "3  Libtard Democrat Al Franken will resign his se...   \n",
       "4  Please Support Online Petition To Congress For...   \n",
       "\n",
       "                                             authors  num_images  \\\n",
       "0                                                 []          25   \n",
       "1  ['About Janet Farrow', 'Janet Farrow Is An Inv...           5   \n",
       "2  ['About Truth Dealer', 'Truth Dealer Is A Cons...          52   \n",
       "3                    ['Please Enter Your Name Here']          10   \n",
       "4                                                 []          15   \n",
       "\n",
       "                                                 url  target  title_len  \\\n",
       "0  https://web.archive.org/web/20180615125007/htt...       0         84   \n",
       "1  https://web.archive.org/web/20180502181153/htt...       0         74   \n",
       "2  https://web.archive.org/web/20170616181605/htt...       0         70   \n",
       "3  https://web.archive.org/web/20170619144927/htt...       0         52   \n",
       "4  https://web.archive.org/web/20170205045142/htt...       0        111   \n",
       "\n",
       "   text_len  authors_len  url_len  \\\n",
       "0      4901            2      149   \n",
       "1      1391          209      153   \n",
       "2      1084          121      141   \n",
       "3      1247           31      128   \n",
       "4       867            2      175   \n",
       "\n",
       "                       title_preprocessed_lemmatized  \\\n",
       "0  [breaking, shep, smith, canned, control, hate,...   \n",
       "1  [cnn, shock, america, fire, journalist, made, ...   \n",
       "2  [nancy, pelosi, suffers, breakdown, taken, cap...   \n",
       "3  [libtard, hero, al, franken, forced, resign, d...   \n",
       "4  [bill, gate, think, donald, trump, go, history...   \n",
       "\n",
       "                        text_preprocessed_lemmatized  \\\n",
       "0  [dispute, angela, merkel, coalition, migration...   \n",
       "1  [sunday, cnn, something, shocking, took, accou...   \n",
       "2  [good, day, democrat, democrat, house, minorit...   \n",
       "3  [libtard, democrat, al, franken, resign, seat,...   \n",
       "4  [please, support, online, petition, congress, ...   \n",
       "\n",
       "                           title_preprocessed_joined  \\\n",
       "0  breaking shep smith canned control hate donald...   \n",
       "1  cnn shock america fire journalist made fun sar...   \n",
       "2  nancy pelosi suffers breakdown taken capitol h...   \n",
       "3     libtard hero al franken forced resign disgrace   \n",
       "4  bill gate think donald trump go history one gr...   \n",
       "\n",
       "                            text_preprocessed_joined  \n",
       "0  dispute angela merkel coalition migration poli...  \n",
       "1  sunday cnn something shocking took accountabil...  \n",
       "2  good day democrat democrat house minority lead...  \n",
       "3  libtard democrat al franken resign seat u sena...  \n",
       "4  please support online petition congress bannin...  "
      ]
     },
     "execution_count": 112,
     "metadata": {},
     "output_type": "execute_result"
    }
   ],
   "source": [
    "#Apply the standard clean function on text column for preprocessing\n",
    "df['title_preprocessed_lemmatized'] = df['title'].apply(data.clean)\n",
    "df['text_preprocessed_lemmatized'] = df['text'].apply(data.clean)\n",
    "df['title_preprocessed_joined'] = df['title_preprocessed_lemmatized']. \\\n",
    "                                                apply(lambda x: ' '.join(word for word in x))\n",
    "df['text_preprocessed_joined'] = df['text_preprocessed_lemmatized']. \\\n",
    "                                                apply(lambda x: ' '.join(word for word in x))\n",
    "\n",
    "df.head()"
   ]
  },
  {
   "cell_type": "code",
   "execution_count": 113,
   "id": "6962c2ba",
   "metadata": {},
   "outputs": [
    {
     "data": {
      "text/plain": [
       "(20479, 14)"
      ]
     },
     "execution_count": 113,
     "metadata": {},
     "output_type": "execute_result"
    }
   ],
   "source": [
    "df.shape"
   ]
  },
  {
   "cell_type": "markdown",
   "id": "705bea94",
   "metadata": {},
   "source": [
    "### Creating the model - Only on the content of the article"
   ]
  },
  {
   "cell_type": "code",
   "execution_count": 116,
   "id": "204b0cdc",
   "metadata": {},
   "outputs": [],
   "source": [
    "y = df.pop('target')\n",
    "X = df\n",
    "\n",
    "X_train, X_test, y_train, y_test = train_test_split(X, y, test_size=0.3)"
   ]
  },
  {
   "cell_type": "code",
   "execution_count": 118,
   "id": "81000bcd",
   "metadata": {},
   "outputs": [
    {
     "data": {
      "text/html": [
       "<div>\n",
       "<style scoped>\n",
       "    .dataframe tbody tr th:only-of-type {\n",
       "        vertical-align: middle;\n",
       "    }\n",
       "\n",
       "    .dataframe tbody tr th {\n",
       "        vertical-align: top;\n",
       "    }\n",
       "\n",
       "    .dataframe thead th {\n",
       "        text-align: right;\n",
       "    }\n",
       "</style>\n",
       "<table border=\"1\" class=\"dataframe\">\n",
       "  <thead>\n",
       "    <tr style=\"text-align: right;\">\n",
       "      <th></th>\n",
       "      <th>title</th>\n",
       "      <th>text</th>\n",
       "      <th>authors</th>\n",
       "      <th>num_images</th>\n",
       "      <th>url</th>\n",
       "      <th>title_len</th>\n",
       "      <th>text_len</th>\n",
       "      <th>authors_len</th>\n",
       "      <th>url_len</th>\n",
       "      <th>title_preprocessed_lemmatized</th>\n",
       "      <th>text_preprocessed_lemmatized</th>\n",
       "      <th>title_preprocessed_joined</th>\n",
       "      <th>text_preprocessed_joined</th>\n",
       "    </tr>\n",
       "  </thead>\n",
       "  <tbody>\n",
       "    <tr>\n",
       "      <th>12438</th>\n",
       "      <td>Britney Spears Performs “Something to Talk Abo...</td>\n",
       "      <td>Britney Spears is the princess of pop—and don’...</td>\n",
       "      <td>[]</td>\n",
       "      <td>24</td>\n",
       "      <td>https://www.wmagazine.com/story/britney-spears...</td>\n",
       "      <td>54</td>\n",
       "      <td>2516</td>\n",
       "      <td>2</td>\n",
       "      <td>79</td>\n",
       "      <td>[britney, spear, performs, something, talk, live]</td>\n",
       "      <td>[britney, spear, princess, forget, saturday, p...</td>\n",
       "      <td>britney spear performs something talk live</td>\n",
       "      <td>britney spear princess forget saturday perform...</td>\n",
       "    </tr>\n",
       "    <tr>\n",
       "      <th>8445</th>\n",
       "      <td>Paris Jackson Channels Marilyn Monroe As Vanit...</td>\n",
       "      <td>Paris\\n\\nJackson has officially cemented her “...</td>\n",
       "      <td>[]</td>\n",
       "      <td>2</td>\n",
       "      <td>https://www.accessonline.com/articles/paris-ja...</td>\n",
       "      <td>64</td>\n",
       "      <td>1900</td>\n",
       "      <td>2</td>\n",
       "      <td>96</td>\n",
       "      <td>[paris, jackson, channel, marilyn, monroe, van...</td>\n",
       "      <td>[paris, jackson, officially, cemented, girl, s...</td>\n",
       "      <td>paris jackson channel marilyn monroe vanity fa...</td>\n",
       "      <td>paris jackson officially cemented girl status ...</td>\n",
       "    </tr>\n",
       "    <tr>\n",
       "      <th>9513</th>\n",
       "      <td>How to Blend Eye Shadow Like a Pro - Eye Shado...</td>\n",
       "      <td>Like those holographic snakes that periodicall...</td>\n",
       "      <td>['Condé Nast', 'Devon Abelma', 'Hannah Cho']</td>\n",
       "      <td>8</td>\n",
       "      <td>https://www.allure.com/story/how-to-blend-eyes...</td>\n",
       "      <td>66</td>\n",
       "      <td>2008</td>\n",
       "      <td>44</td>\n",
       "      <td>56</td>\n",
       "      <td>[blend, eye, shadow, like, pro, eye, shadow, t...</td>\n",
       "      <td>[like, holographic, snake, periodically, go, v...</td>\n",
       "      <td>blend eye shadow like pro eye shadow tip beginner</td>\n",
       "      <td>like holographic snake periodically go viral t...</td>\n",
       "    </tr>\n",
       "    <tr>\n",
       "      <th>2788</th>\n",
       "      <td>Millie Bobby Brown</td>\n",
       "      <td>Millie Bobby Brown is best known for her break...</td>\n",
       "      <td>['Biography.Com Editors']</td>\n",
       "      <td>15</td>\n",
       "      <td>www.biography.com/people/millie-bobby-brown-93...</td>\n",
       "      <td>18</td>\n",
       "      <td>4058</td>\n",
       "      <td>25</td>\n",
       "      <td>51</td>\n",
       "      <td>[millie, bobby, brown]</td>\n",
       "      <td>[millie, bobby, brown, best, known, breakout, ...</td>\n",
       "      <td>millie bobby brown</td>\n",
       "      <td>millie bobby brown best known breakout role te...</td>\n",
       "    </tr>\n",
       "    <tr>\n",
       "      <th>2722</th>\n",
       "      <td>Guardians of the Galaxy – Mission: Breakout!</td>\n",
       "      <td>Theme park attraction at Disney California Adv...</td>\n",
       "      <td>[]</td>\n",
       "      <td>14</td>\n",
       "      <td>https://en.wikipedia.org/wiki/Guardians_of_the...</td>\n",
       "      <td>44</td>\n",
       "      <td>9900</td>\n",
       "      <td>2</td>\n",
       "      <td>82</td>\n",
       "      <td>[guardian, galaxy, mission, breakout]</td>\n",
       "      <td>[theme, park, attraction, disney, california, ...</td>\n",
       "      <td>guardian galaxy mission breakout</td>\n",
       "      <td>theme park attraction disney california advent...</td>\n",
       "    </tr>\n",
       "  </tbody>\n",
       "</table>\n",
       "</div>"
      ],
      "text/plain": [
       "                                                   title  \\\n",
       "12438  Britney Spears Performs “Something to Talk Abo...   \n",
       "8445   Paris Jackson Channels Marilyn Monroe As Vanit...   \n",
       "9513   How to Blend Eye Shadow Like a Pro - Eye Shado...   \n",
       "2788                                  Millie Bobby Brown   \n",
       "2722        Guardians of the Galaxy – Mission: Breakout!   \n",
       "\n",
       "                                                    text  \\\n",
       "12438  Britney Spears is the princess of pop—and don’...   \n",
       "8445   Paris\\n\\nJackson has officially cemented her “...   \n",
       "9513   Like those holographic snakes that periodicall...   \n",
       "2788   Millie Bobby Brown is best known for her break...   \n",
       "2722   Theme park attraction at Disney California Adv...   \n",
       "\n",
       "                                            authors  num_images  \\\n",
       "12438                                            []          24   \n",
       "8445                                             []           2   \n",
       "9513   ['Condé Nast', 'Devon Abelma', 'Hannah Cho']           8   \n",
       "2788                      ['Biography.Com Editors']          15   \n",
       "2722                                             []          14   \n",
       "\n",
       "                                                     url  title_len  text_len  \\\n",
       "12438  https://www.wmagazine.com/story/britney-spears...         54      2516   \n",
       "8445   https://www.accessonline.com/articles/paris-ja...         64      1900   \n",
       "9513   https://www.allure.com/story/how-to-blend-eyes...         66      2008   \n",
       "2788   www.biography.com/people/millie-bobby-brown-93...         18      4058   \n",
       "2722   https://en.wikipedia.org/wiki/Guardians_of_the...         44      9900   \n",
       "\n",
       "       authors_len  url_len  \\\n",
       "12438            2       79   \n",
       "8445             2       96   \n",
       "9513            44       56   \n",
       "2788            25       51   \n",
       "2722             2       82   \n",
       "\n",
       "                           title_preprocessed_lemmatized  \\\n",
       "12438  [britney, spear, performs, something, talk, live]   \n",
       "8445   [paris, jackson, channel, marilyn, monroe, van...   \n",
       "9513   [blend, eye, shadow, like, pro, eye, shadow, t...   \n",
       "2788                              [millie, bobby, brown]   \n",
       "2722               [guardian, galaxy, mission, breakout]   \n",
       "\n",
       "                            text_preprocessed_lemmatized  \\\n",
       "12438  [britney, spear, princess, forget, saturday, p...   \n",
       "8445   [paris, jackson, officially, cemented, girl, s...   \n",
       "9513   [like, holographic, snake, periodically, go, v...   \n",
       "2788   [millie, bobby, brown, best, known, breakout, ...   \n",
       "2722   [theme, park, attraction, disney, california, ...   \n",
       "\n",
       "                               title_preprocessed_joined  \\\n",
       "12438         britney spear performs something talk live   \n",
       "8445   paris jackson channel marilyn monroe vanity fa...   \n",
       "9513   blend eye shadow like pro eye shadow tip beginner   \n",
       "2788                                  millie bobby brown   \n",
       "2722                    guardian galaxy mission breakout   \n",
       "\n",
       "                                text_preprocessed_joined  \n",
       "12438  britney spear princess forget saturday perform...  \n",
       "8445   paris jackson officially cemented girl status ...  \n",
       "9513   like holographic snake periodically go viral t...  \n",
       "2788   millie bobby brown best known breakout role te...  \n",
       "2722   theme park attraction disney california advent...  "
      ]
     },
     "execution_count": 118,
     "metadata": {},
     "output_type": "execute_result"
    }
   ],
   "source": [
    "X_train.head()"
   ]
  },
  {
   "cell_type": "code",
   "execution_count": 121,
   "id": "38de62d5",
   "metadata": {},
   "outputs": [],
   "source": [
    "#Instantiating, fitting the vectorizer and transforming the inputs\n",
    "tf_idf_vectorizer = TfidfVectorizer()\n",
    "\n",
    "text_train = tf_idf_vectorizer.fit_transform(X_train['text_preprocessed_joined'])\n",
    "\n",
    "text_test = tf_idf_vectorizer.transform(X_test['text_preprocessed_joined'])"
   ]
  },
  {
   "cell_type": "code",
   "execution_count": 125,
   "id": "38713943",
   "metadata": {},
   "outputs": [
    {
     "data": {
      "text/plain": [
       "0.7640041855598186"
      ]
     },
     "execution_count": 125,
     "metadata": {},
     "output_type": "execute_result"
    }
   ],
   "source": [
    "#Instanciating a model\n",
    "nb_model = MultinomialNB()\n",
    "\n",
    "#Cross validate the model\n",
    "cv_score = cross_validate(nb_model, X=text_train, y=y_train, scoring='accuracy', cv=5)\n",
    "\n",
    "cv_score['test_score'].mean()"
   ]
  },
  {
   "cell_type": "code",
   "execution_count": 126,
   "id": "3408fd09",
   "metadata": {},
   "outputs": [
    {
     "data": {
      "text/plain": [
       "MultinomialNB()"
      ]
     },
     "execution_count": 126,
     "metadata": {},
     "output_type": "execute_result"
    }
   ],
   "source": [
    "#Fitting the model\n",
    "nb_model.fit(text_train, y_train)"
   ]
  },
  {
   "cell_type": "code",
   "execution_count": 127,
   "id": "23a813b1",
   "metadata": {},
   "outputs": [
    {
     "data": {
      "text/plain": [
       "0.77587890625"
      ]
     },
     "execution_count": 127,
     "metadata": {},
     "output_type": "execute_result"
    }
   ],
   "source": [
    "#Scoring the predictions\n",
    "nb_model.score(text_test, y_test)"
   ]
  },
  {
   "cell_type": "markdown",
   "id": "7e736d82",
   "metadata": {},
   "source": [
    "### Tuning the model - for content only model"
   ]
  },
  {
   "cell_type": "code",
   "execution_count": 138,
   "id": "6f2db477",
   "metadata": {},
   "outputs": [],
   "source": [
    "from sklearn.pipeline import Pipeline\n",
    "from sklearn.compose import ColumnTransformer"
   ]
  },
  {
   "cell_type": "code",
   "execution_count": 139,
   "id": "dbb0f36b",
   "metadata": {},
   "outputs": [],
   "source": [
    "preprocessing = ColumnTransformer([\n",
    "    ('tf_idf', TfidfVectorizer(), 'text_preprocessed_joined')\n",
    "])\n",
    "\n",
    "pipe = Pipeline([\n",
    "    ('preprocessing', preprocessing),\n",
    "    ('nb_model', MultinomialNB())\n",
    "])"
   ]
  },
  {
   "cell_type": "code",
   "execution_count": null,
   "id": "c97beb78",
   "metadata": {},
   "outputs": [],
   "source": [
    "grid_params = {'preprocessing__tf_idf__ngram_range': [(1,1), (2,2), (3,3)],\n",
    "              'nb_model__alpha': [0, 0.1, 0.3, 0.5, 0.7, 1, 2, 5]}\n",
    "\n",
    "search_results = GridSearchCV(pipe, param_grid=grid_params, scoring='accuracy', n_jobs=-1, cv=5)\n",
    "\n",
    "search_results.fit(X_train, y_train)"
   ]
  },
  {
   "cell_type": "markdown",
   "id": "a3b352fe",
   "metadata": {},
   "source": [
    "### Creating the model - Only on the title of the article"
   ]
  },
  {
   "cell_type": "code",
   "execution_count": 129,
   "id": "629e0a42",
   "metadata": {},
   "outputs": [],
   "source": [
    "#Instantiating, fitting the vectorizer and transforming the inputs\n",
    "tf_idf_vectorizer = TfidfVectorizer()\n",
    "\n",
    "title_train = tf_idf_vectorizer.fit_transform(X_train['title_preprocessed_joined'])\n",
    "\n",
    "title_test = tf_idf_vectorizer.transform(X_test['title_preprocessed_joined'])"
   ]
  },
  {
   "cell_type": "code",
   "execution_count": 132,
   "id": "050559e8",
   "metadata": {},
   "outputs": [
    {
     "data": {
      "text/plain": [
       "0.80976630624346"
      ]
     },
     "execution_count": 132,
     "metadata": {},
     "output_type": "execute_result"
    }
   ],
   "source": [
    "#Instanciating a model\n",
    "nb_model = MultinomialNB()\n",
    "\n",
    "#Cross validate the model\n",
    "cv_score = cross_validate(nb_model, X=title_train, y=y_train, scoring='accuracy', cv=5)\n",
    "\n",
    "cv_score['test_score'].mean()"
   ]
  },
  {
   "cell_type": "code",
   "execution_count": 134,
   "id": "aa8b6b0a",
   "metadata": {},
   "outputs": [
    {
     "data": {
      "text/plain": [
       "MultinomialNB()"
      ]
     },
     "execution_count": 134,
     "metadata": {},
     "output_type": "execute_result"
    }
   ],
   "source": [
    "#Fitting the model\n",
    "nb_model.fit(title_train, y_train)"
   ]
  },
  {
   "cell_type": "code",
   "execution_count": 135,
   "id": "2e7c313b",
   "metadata": {},
   "outputs": [
    {
     "data": {
      "text/plain": [
       "0.8180338541666666"
      ]
     },
     "execution_count": 135,
     "metadata": {},
     "output_type": "execute_result"
    }
   ],
   "source": [
    "#Scoring the predictions\n",
    "nb_model.score(title_test, y_test)"
   ]
  },
  {
   "cell_type": "markdown",
   "id": "5ef4c8be",
   "metadata": {},
   "source": [
    "### Extra"
   ]
  },
  {
   "cell_type": "code",
   "execution_count": 21,
   "id": "cf08c56e",
   "metadata": {},
   "outputs": [],
   "source": [
    "def get_data(directory):\n",
    "    '''Function to read news content in given directory using the FakeNewsNet dataset'''\n",
    "    dictlist = []\n",
    "    \n",
    "    #Only get the following columns from the dataset\n",
    "    cols = ['title','text','authors','num_images','url']\n",
    "    \n",
    "    folders = glob.glob(directory+'/*')\n",
    "    for index, subdir in enumerate(folders):\n",
    "        file_path = glob.glob(subdir+'/*')\n",
    "        file_path.sort()\n",
    "        #check if glob returned a valid file path (non-empty list)\n",
    "        if len(file_path) >= 1 and file_path[0][-4:]=='json':\n",
    "            file = open(file_path[0]).read()\n",
    "            jsondata = json.loads(file)\n",
    "            dictlist.append(scaledict(jsondata))\n",
    "    \n",
    "    return pd.DataFrame(dictlist,columns=cols)\n",
    "\n",
    "def scaledict(ajson):\n",
    "    '''Function to process json pulled from FakeNewsNet'''\n",
    "    thedict = {'url':ajson['url'],'title':ajson['title'],'text':ajson['text'],'num_images':len(ajson['images']),'authors':str(ajson['authors'])}\n",
    "#     ext = tldextract.extract(ajson['url'])\n",
    "#     thedict['domain'] = ext.domain\n",
    "    return thedict"
   ]
  },
  {
   "cell_type": "code",
   "execution_count": 10,
   "id": "3a1ef42a",
   "metadata": {},
   "outputs": [],
   "source": [
    "#Running the get_data function for the FakeNewsNet dataset and creating individual DataFrames\n",
    "poli_fake = '/home/eddyedzwan/code/EddyEdzwan/FakeNewsNet/code/fakenewsnet_dataset/politifact/fake'\n",
    "poli_real = '/home/eddyedzwan/code/EddyEdzwan/FakeNewsNet/code/fakenewsnet_dataset/politifact/real'\n",
    "gossip_fake = '/home/eddyedzwan/code/EddyEdzwan/FakeNewsNet/code/fakenewsnet_dataset_2/gossipcop/fake'\n",
    "gossip_real = '/home/eddyedzwan/code/EddyEdzwan/FakeNewsNet/code/fakenewsnet_dataset_2/gossipcop/real'\n",
    "\n",
    "\n",
    "poli_fake_df = get_data(poli_fake)\n",
    "poli_real_df = get_data(poli_real)\n",
    "gossip_fake_df = get_data(gossip_fake)\n",
    "gossip_real_df = get_data(gossip_real)"
   ]
  },
  {
   "cell_type": "code",
   "execution_count": 32,
   "id": "d0fbdd0c",
   "metadata": {},
   "outputs": [],
   "source": [
    "def preprocess_text(series):\n",
    "    '''function to preprocess textual data provided'''\n",
    "    #Lowercase\n",
    "    series = series.apply(lambda x: x.lower())\n",
    "    \n",
    "    #removing numbers\n",
    "    series = series.apply(lambda x: ' '.join(word for word in word_tokenize(x) if not word.isdigit()))\n",
    "    \n",
    "    #removing punctuations\n",
    "    punctuation_list = string.punctuation\n",
    "    punctuation_list += '“”‘’'\n",
    "    for punctuation in punctuation_list:\n",
    "        series = series.apply(lambda x: x.replace(punctuation, ''))\n",
    "    \n",
    "    #removing stopwords\n",
    "    stop_words = set(stopwords.words('english'))\n",
    "    series = series.apply(lambda x: ' '.join(word for word in word_tokenize(x) if word not in stop_words))\n",
    "    \n",
    "    #lemmatizing\n",
    "    lemmatizer = WordNetLemmatizer()\n",
    "    series = series.apply(lambda x: ' '.join(lemmatizer.lemmatize(word) for word in word_tokenize(x)))\n",
    "    \n",
    "    return series"
   ]
  },
  {
   "cell_type": "code",
   "execution_count": null,
   "id": "c7538d99",
   "metadata": {},
   "outputs": [],
   "source": []
  },
  {
   "cell_type": "markdown",
   "id": "10570b3e",
   "metadata": {},
   "source": [
    "## Liar Dataset (TBC - Does not contain the data we need, can be placed aside)"
   ]
  },
  {
   "cell_type": "code",
   "execution_count": 3,
   "id": "5ca70336",
   "metadata": {
    "collapsed": true
   },
   "outputs": [
    {
     "name": "stderr",
     "output_type": "stream",
     "text": [
      "Using custom data configuration default\n",
      "Reusing dataset liar (/home/eddyedzwan/.cache/huggingface/datasets/liar/default/1.0.0/479463e757b7991eed50ffa7504d7788d6218631a484442e2098dabbf3b44514)\n"
     ]
    },
    {
     "data": {
      "text/plain": [
       "DatasetDict({\n",
       "    train: Dataset({\n",
       "        features: ['id', 'label', 'statement', 'subject', 'speaker', 'job_title', 'state_info', 'party_affiliation', 'barely_true_counts', 'false_counts', 'half_true_counts', 'mostly_true_counts', 'pants_on_fire_counts', 'context'],\n",
       "        num_rows: 10269\n",
       "    })\n",
       "    test: Dataset({\n",
       "        features: ['id', 'label', 'statement', 'subject', 'speaker', 'job_title', 'state_info', 'party_affiliation', 'barely_true_counts', 'false_counts', 'half_true_counts', 'mostly_true_counts', 'pants_on_fire_counts', 'context'],\n",
       "        num_rows: 1283\n",
       "    })\n",
       "    validation: Dataset({\n",
       "        features: ['id', 'label', 'statement', 'subject', 'speaker', 'job_title', 'state_info', 'party_affiliation', 'barely_true_counts', 'false_counts', 'half_true_counts', 'mostly_true_counts', 'pants_on_fire_counts', 'context'],\n",
       "        num_rows: 1284\n",
       "    })\n",
       "})"
      ]
     },
     "execution_count": 3,
     "metadata": {},
     "output_type": "execute_result"
    }
   ],
   "source": [
    "dataset = load_dataset('liar')\n",
    "\n",
    "dataset"
   ]
  },
  {
   "cell_type": "code",
   "execution_count": 7,
   "id": "00e8de30",
   "metadata": {
    "collapsed": true
   },
   "outputs": [
    {
     "data": {
      "text/html": [
       "<div>\n",
       "<style scoped>\n",
       "    .dataframe tbody tr th:only-of-type {\n",
       "        vertical-align: middle;\n",
       "    }\n",
       "\n",
       "    .dataframe tbody tr th {\n",
       "        vertical-align: top;\n",
       "    }\n",
       "\n",
       "    .dataframe thead th {\n",
       "        text-align: right;\n",
       "    }\n",
       "</style>\n",
       "<table border=\"1\" class=\"dataframe\">\n",
       "  <thead>\n",
       "    <tr style=\"text-align: right;\">\n",
       "      <th></th>\n",
       "      <th>id</th>\n",
       "      <th>label</th>\n",
       "      <th>statement</th>\n",
       "      <th>subject</th>\n",
       "      <th>speaker</th>\n",
       "      <th>job_title</th>\n",
       "      <th>state_info</th>\n",
       "      <th>party_affiliation</th>\n",
       "      <th>barely_true_counts</th>\n",
       "      <th>false_counts</th>\n",
       "      <th>half_true_counts</th>\n",
       "      <th>mostly_true_counts</th>\n",
       "      <th>pants_on_fire_counts</th>\n",
       "      <th>context</th>\n",
       "    </tr>\n",
       "  </thead>\n",
       "  <tbody>\n",
       "    <tr>\n",
       "      <th>0</th>\n",
       "      <td>2635.json</td>\n",
       "      <td>0</td>\n",
       "      <td>Says the Annies List political group supports ...</td>\n",
       "      <td>abortion</td>\n",
       "      <td>dwayne-bohac</td>\n",
       "      <td>State representative</td>\n",
       "      <td>Texas</td>\n",
       "      <td>republican</td>\n",
       "      <td>0.0</td>\n",
       "      <td>1.0</td>\n",
       "      <td>0.0</td>\n",
       "      <td>0.0</td>\n",
       "      <td>0.0</td>\n",
       "      <td>a mailer</td>\n",
       "    </tr>\n",
       "    <tr>\n",
       "      <th>1</th>\n",
       "      <td>10540.json</td>\n",
       "      <td>1</td>\n",
       "      <td>When did the decline of coal start? It started...</td>\n",
       "      <td>energy,history,job-accomplishments</td>\n",
       "      <td>scott-surovell</td>\n",
       "      <td>State delegate</td>\n",
       "      <td>Virginia</td>\n",
       "      <td>democrat</td>\n",
       "      <td>0.0</td>\n",
       "      <td>0.0</td>\n",
       "      <td>1.0</td>\n",
       "      <td>1.0</td>\n",
       "      <td>0.0</td>\n",
       "      <td>a floor speech.</td>\n",
       "    </tr>\n",
       "    <tr>\n",
       "      <th>2</th>\n",
       "      <td>324.json</td>\n",
       "      <td>2</td>\n",
       "      <td>Hillary Clinton agrees with John McCain \"by vo...</td>\n",
       "      <td>foreign-policy</td>\n",
       "      <td>barack-obama</td>\n",
       "      <td>President</td>\n",
       "      <td>Illinois</td>\n",
       "      <td>democrat</td>\n",
       "      <td>70.0</td>\n",
       "      <td>71.0</td>\n",
       "      <td>160.0</td>\n",
       "      <td>163.0</td>\n",
       "      <td>9.0</td>\n",
       "      <td>Denver</td>\n",
       "    </tr>\n",
       "    <tr>\n",
       "      <th>3</th>\n",
       "      <td>1123.json</td>\n",
       "      <td>0</td>\n",
       "      <td>Health care reform legislation is likely to ma...</td>\n",
       "      <td>health-care</td>\n",
       "      <td>blog-posting</td>\n",
       "      <td></td>\n",
       "      <td></td>\n",
       "      <td>none</td>\n",
       "      <td>7.0</td>\n",
       "      <td>19.0</td>\n",
       "      <td>3.0</td>\n",
       "      <td>5.0</td>\n",
       "      <td>44.0</td>\n",
       "      <td>a news release</td>\n",
       "    </tr>\n",
       "    <tr>\n",
       "      <th>4</th>\n",
       "      <td>9028.json</td>\n",
       "      <td>1</td>\n",
       "      <td>The economic turnaround started at the end of ...</td>\n",
       "      <td>economy,jobs</td>\n",
       "      <td>charlie-crist</td>\n",
       "      <td></td>\n",
       "      <td>Florida</td>\n",
       "      <td>democrat</td>\n",
       "      <td>15.0</td>\n",
       "      <td>9.0</td>\n",
       "      <td>20.0</td>\n",
       "      <td>19.0</td>\n",
       "      <td>2.0</td>\n",
       "      <td>an interview on CNN</td>\n",
       "    </tr>\n",
       "  </tbody>\n",
       "</table>\n",
       "</div>"
      ],
      "text/plain": [
       "           id  label                                          statement  \\\n",
       "0   2635.json      0  Says the Annies List political group supports ...   \n",
       "1  10540.json      1  When did the decline of coal start? It started...   \n",
       "2    324.json      2  Hillary Clinton agrees with John McCain \"by vo...   \n",
       "3   1123.json      0  Health care reform legislation is likely to ma...   \n",
       "4   9028.json      1  The economic turnaround started at the end of ...   \n",
       "\n",
       "                              subject         speaker             job_title  \\\n",
       "0                            abortion    dwayne-bohac  State representative   \n",
       "1  energy,history,job-accomplishments  scott-surovell        State delegate   \n",
       "2                      foreign-policy    barack-obama             President   \n",
       "3                         health-care    blog-posting                         \n",
       "4                        economy,jobs   charlie-crist                         \n",
       "\n",
       "  state_info party_affiliation  barely_true_counts  false_counts  \\\n",
       "0      Texas        republican                 0.0           1.0   \n",
       "1   Virginia          democrat                 0.0           0.0   \n",
       "2   Illinois          democrat                70.0          71.0   \n",
       "3                         none                 7.0          19.0   \n",
       "4    Florida          democrat                15.0           9.0   \n",
       "\n",
       "   half_true_counts  mostly_true_counts  pants_on_fire_counts  \\\n",
       "0               0.0                 0.0                   0.0   \n",
       "1               1.0                 1.0                   0.0   \n",
       "2             160.0               163.0                   9.0   \n",
       "3               3.0                 5.0                  44.0   \n",
       "4              20.0                19.0                   2.0   \n",
       "\n",
       "               context  \n",
       "0             a mailer  \n",
       "1      a floor speech.  \n",
       "2               Denver  \n",
       "3       a news release  \n",
       "4  an interview on CNN  "
      ]
     },
     "execution_count": 7,
     "metadata": {},
     "output_type": "execute_result"
    }
   ],
   "source": [
    "X_train = pd.DataFrame(dataset['train'])\n",
    "X_valid = pd.DataFrame(dataset['validation'])\n",
    "X_test = pd.DataFrame(dataset['test'])\n",
    "\n",
    "X_train.head()"
   ]
  }
 ],
 "metadata": {
  "kernelspec": {
   "display_name": "Python 3 (ipykernel)",
   "language": "python",
   "name": "python3"
  },
  "language_info": {
   "codemirror_mode": {
    "name": "ipython",
    "version": 3
   },
   "file_extension": ".py",
   "mimetype": "text/x-python",
   "name": "python",
   "nbconvert_exporter": "python",
   "pygments_lexer": "ipython3",
   "version": "3.8.6"
  },
  "toc": {
   "base_numbering": 1,
   "nav_menu": {},
   "number_sections": true,
   "sideBar": true,
   "skip_h1_title": false,
   "title_cell": "Table of Contents",
   "title_sidebar": "Contents",
   "toc_cell": false,
   "toc_position": {},
   "toc_section_display": true,
   "toc_window_display": false
  }
 },
 "nbformat": 4,
 "nbformat_minor": 5
}
