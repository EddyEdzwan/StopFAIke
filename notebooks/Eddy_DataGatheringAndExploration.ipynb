{
 "cells": [
  {
   "cell_type": "code",
   "execution_count": 7,
   "id": "f5c3aec3",
   "metadata": {},
   "outputs": [],
   "source": [
    "from datasets import load_dataset\n",
    "import pandas as pd\n",
    "import matplotlib.pyplot as plt\n",
    "import os\n",
    "import glob\n",
    "import json\n",
    "# import nltk\n",
    "# import string\n",
    "# from nltk.corpus import stopwords\n",
    "# from nltk.tokenize import word_tokenize\n",
    "# from nltk.stem import WordNetLemmatizer\n",
    "from StopFAIke import data"
   ]
  },
  {
   "cell_type": "markdown",
   "id": "27bb29aa",
   "metadata": {},
   "source": [
    "# Data Exploration"
   ]
  },
  {
   "cell_type": "markdown",
   "id": "1f019fcc",
   "metadata": {},
   "source": [
    "## FakeNewsNet"
   ]
  },
  {
   "cell_type": "markdown",
   "id": "3f9ba6b0",
   "metadata": {},
   "source": [
    "### Getting the Dataset"
   ]
  },
  {
   "cell_type": "code",
   "execution_count": 20,
   "id": "a3e08c8d",
   "metadata": {
    "collapsed": true
   },
   "outputs": [
    {
     "name": "stdout",
     "output_type": "stream",
     "text": [
      "{\n",
      "    \"authors\": [],\n",
      "    \"canonical_link\": \"https://web.archive.org/web/20180624033812/http://flashnewss.club/2018/06/11/breaking-shep-smith-to-be-canned-because-he-cant-control-his-hate-for-donald-trump/\",\n",
      "    \"images\": [\n",
      "        \"https://web.archive.org/web/20180624033812im_/http://flashnewss.club/wp-content/uploads/2018/06/Screenshot_20180617-0102212-80x80.png\",\n",
      "        \"https://web.archive.org/web/20180624033812im_/http://flashnewss.club/wp-content/uploads/2018/06/news_m-2.jpg\",\n",
      "        \"https://web.archive.org/web/20180624033812im_/http://flashnewss.club/wp-content/uploads/2018/06/80de7608-53f0-460c-8947-b5a7d76720d2-400x240.jpg\",\n",
      "        \"https://web.archive.org/web/20180624033812im_/http://flashnewss.club/wp-content/uploads/2018/06/20-24-400x240.png\",\n",
      "        \"https://web.archive.org/web/20180624033812im_/http://flashnewss.club/wp-content/uploads/2018/06/few.jpg\",\n",
      "        \"https://web.archive.org/web/20180624033812im_/http://2.gravatar.com/avatar/57f977b92bc08c494494dc40ed0ae92b?s=46&d=mm&r=g\",\n",
      "        \"https://web.archive.org/web/20180624033812im_/http://flashnewss.club/wp-content/uploads/2018/06/oprah-400x240.jpg\",\n",
      "        \"https://web.archive.org/web/20180624033812im_/http://flashnewss.club/wp-content/uploads/2018/06/Shepard-smith-01-1280x720.jpg\",\n",
      "        \"https://web.archive.org/web/20180624033812im_/http://flashnewss.club/wp-content/uploads/2018/06/child-who-killed-pedophile-escape-sex-trafficking-ring-jailed-life-211171-400x240.jpg\",\n",
      "        \"https://web.archive.org/web/20180624033812im_/http://flashnewss.club/wp-content/uploads/2018/06/oprah-80x80.jpg\",\n",
      "        \"https://web.archive.org/web/20180624033812im_/http://flashnewss.club/wp-content/uploads/2018/06/Screenshot_20180617-0102212-400x240.png\",\n",
      "        \"https://web.archive.org/web/20180624033812im_/http://flashnewss.club/wp-content/uploads/2018/06/80de7608-53f0-460c-8947-b5a7d76720d2.jpg\",\n",
      "        \"https://web.archive.org/web/20180624033812im_/http://flashnewss.club/wp-content/uploads/2018/06/20-24-80x80.png\",\n",
      "        \"https://web.archive.org/web/20180624033812im_/http://flashnewss.club/wp-content/uploads/2018/06/news_m-4.jpg\",\n",
      "        \"https://web.archive.org/web/20180624033812im_/http://flashnewss.club/wp-content/uploads/2018/06/Screenshot_20180617-0106422.png\",\n",
      "        \"https://web.archive.org/web/20180624033812im_/http://flashnewss.club/wp-content/uploads/2018/06/Screenshot_20180617-0106422-400x240.png\",\n",
      "        \"https://web.archive.org/web/20180624033812im_/http://flashnewss.club/wp-content/uploads/2018/06/Shepard-smith-01-1280x720-1000x600.jpg\",\n",
      "        \"https://web.archive.org/web/20180624033812im_/http://flashnewss.club/wp-content/uploads/2018/06/child-who-killed-pedophile-escape-sex-trafficking-ring-jailed-life-211171-80x80.jpg\",\n",
      "        \"https://web.archive.org/web/20180624033812im_/http://flashnewss.club/wp-content/uploads/2018/06/80de7608-53f0-460c-8947-b5a7d76720d2-80x80.jpg\",\n",
      "        \"https://web.archive.org/web/20180624033812im_/http://flashnewss.club/wp-content/uploads/2018/06/texas_worker-80x80.jpg\",\n",
      "        \"https://web.archive.org/web/20180624033812im_/http://flashnewss.club/wp-content/uploads/2018/06/TrumpRNCopenmouth-800x430-400x240.jpg\",\n",
      "        \"https://web.archive.org/web/20180624033812im_/http://flashnewss.club/wp-content/uploads/2018/06/TrumpRNCopenmouth-800x430-80x80.jpg\",\n",
      "        \"https://web.archive.org/web/20180624033812im_/http://flashnewss.club/wp-content/uploads/2018/06/Screenshot_20180617-0106422-80x80.png\",\n",
      "        \"https://web.archive.org/web/20180624033812im_/http://flashnewss.club/wp-content/uploads/2018/06/texas_worker-400x240.jpg\",\n",
      "        \"https://web.archive.org/web/20180624033812im_/http://flashnewss.club/wp-content/uploads/2018/06/news_m-3.jpg\"\n",
      "    ],\n",
      "    \"keywords\": [],\n",
      "    \"meta_data\": {\n",
      "        \"article\": {\n",
      "            \"modified_time\": \"2018-06-11T02:50:46+00:00\",\n",
      "            \"published_time\": \"2018-06-11T02:50:46+00:00\"\n",
      "        },\n",
      "        \"generator\": \"WordPress 4.9.6\",\n",
      "        \"og\": {\n",
      "            \"description\": \"Last week, Fox News anchor Shepard Smith attacked President Donald Trump for his assertion that the news media frequently underreports on radical Islamic terror attacks. To support his point, Smith listed several terror attacks that\",\n",
      "            \"image\": {\n",
      "                \"height\": 720,\n",
      "                \"identifier\": \"https://web.archive.org/web/20180624033812im_/http://flashnewss.club/wp-content/uploads/2018/06/Shepard-smith-01-1280x720.jpg\",\n",
      "                \"width\": 1280\n",
      "            },\n",
      "            \"site_name\": \"Flash News\",\n",
      "            \"title\": \"BREAKING: Shep Smith To Be Canned Because He Can\\u2019t Control His Hate For Donald Trump\",\n",
      "            \"type\": \"article\",\n",
      "            \"updated_time\": \"2018-06-11T02:50:46+00:00\",\n",
      "            \"url\": \"https://web.archive.org/web/20180624033812/http://flashnewss.club/2018/06/11/breaking-shep-smith-to-be-canned-because-he-cant-control-his-hate-for-donald-trump/\"\n",
      "        },\n",
      "        \"onesignal\": \"wordpress-plugin\",\n",
      "        \"twitter\": {\n",
      "            \"card\": \"summary_large_image\",\n",
      "            \"description\": \"Last week, Fox News anchor Shepard Smith attacked President Donald Trump for his assertion that the news media frequently underreports on radical Islamic terror attacks. To support his point, Smith listed several terror attacks that\",\n",
      "            \"image\": \"https://web.archive.org/web/20180624033812im_/http://flashnewss.club/wp-content/uploads/2018/06/Shepard-smith-01-1280x720.jpg\",\n",
      "            \"title\": \"BREAKING: Shep Smith To Be Canned Because He Can\\u2019t Control His Hate For Donald Trump\",\n",
      "            \"url\": \"https://web.archive.org/web/20180624033812im_/http://flashnewss.club/2018/06/11/breaking-shep-smith-to-be-canned-because-he-cant-control-his-hate-for-donald-trump/\"\n",
      "        },\n",
      "        \"viewport\": \"width=device-width, initial-scale=1.0, maximum-scale=1.0, minimum-scale=1.0, user-scalable=no\"\n",
      "    },\n",
      "    \"movies\": [],\n",
      "    \"publish_date\": 1528685446.0,\n",
      "    \"source\": \"https://web.archive.org\",\n",
      "    \"summary\": \"\",\n",
      "    \"text\": \"A dispute in Angela Merkel\\u2019s coalition over migration policy has swiftly escalated into one of the biggest tests of her chancellorship.\\n\\nThe clash has opened a rift at the heart of the German leader\\u2019s own camp, between her Christian Democratic Union and its CSU Bavarian sister party. How the conflict is resolved will determine the chancellor\\u2019s fate, possibly as soon as Monday.\\n\\nHorst Seehofer, Merkel\\u2019s interior minister and the leader of Bavaria\\u2019s Christian Social Union, wants to force through a plan to send back migrants who have already registered for asylum in other European Union states. Merkel rejects the proposal as offloading the burden on neighboring states, and says it would kill efforts to forge a bloc-wide response to the continent\\u2019s struggle with migration.\\n\\nBavarian lawmakers are fully behind Seehofer, while Merkel has wrested a majority in the larger CDU group for her position. The standoff is a replay of tensions that have periodically bubbled up between Merkel and Seehofer since the height of the refugee crisis in 2015 and 2016, only this time there is no obvious way out. Following are some potential scenarios:\\n\\nCompromise\\n\\nThe two parties have managed to eke out a compromise after each previous conflict. Overtures could begin on Monday, when the CSU party executive meets in Munich. Seehofer could give Merkel what she wants: two weeks to forge bilateral accords with countries such as Italy and Greece to return registered asylum seekers.\\n\\nMerkel could also give ground, as for example the newspaper Die Welt advocates. She could put forward another proposal to assuage the CSU that may yield a compromise. But if she caves in to the Bavarian demands as they stand, it would be an unprecedented loss of authority that would render her a lame duck leader.\\n\\nNo Compromise\\n\\nIn the absence of a face-saving deal, the real clash could come as early as Monday. That\\u2019s when Seehofer has indicated he will start to implement his plan at the border. As interior minister, Seehofer has the authority to do so, even in the face of Merkel\\u2019s rejection. The only way for the chancellor to forestall a unilateral decision by her minister would be to fire him. Sacking her top Bavarian ally would be a historic first. If it happens, it\\u2019s hard to see how the coalition continues.\\n\\nEven if it doesn\\u2019t come to that and Merkel is given until the June 28-29 EU summit to reach bilateral agreements, it may only delayed the clash, since there is no guarantee she can win deals with other other EU states. She has already called the prospect ambitious.\\n\\nConfidence vote\\n\\nFor a coalition to dissolve, the German constitution says the lower house of parliament, or Bundestag, has to call a vote of confidence. The CDU and CSU, with a combined 246 seats, and the SPD with 153, have a majority of 44 seats in the 709-seat Bundestag. Such a move would be the ultimate measure of support for Merkel as chancellor. Even if she is unable to rely on the CSU, or indeed all of her own party\\u2019s votes, on the specific issue of her stand on migration Merkel might be able to attract the support of the Greens, which have 67 seats.\\n\\nGermany\\u2019s Sueddeutsche Zeitung said in an opinion piece on Friday that Merkel should short-circuit the squabbling and put her parliamentary support to the test with a confidence vote. It\\u2019s a tactic that her predecessor, Social Democrat Gerhard Schroeder, used to force through military support for the U.S. after the Sept. 11 attacks. He used it again in 2005 amid a party rebellion, and this time lost the confidence motion, forcing new elections.\\n\\nMerkel resigns\\n\\nShould the chancellor view her authority as irretrievably compromised, she could throw in the towel. The Bundestag would be forced to elect a new chancellor to replace her, most likely from the CDU. Unless the governing parties agree to continue the coalition under a new leader, Germany\\u2019s ninth chancellor since World War II would serve in a caretaker capacity through to a new election.\\n\\nSplit on the right\\n\\nThe CDU and the CSU are sister parties, with a joint parliamentary caucus and electoral program. Think of the CSU as the center-right\\u2019s Bavarian chapter \\u2014 the CDU operates in all of Germany\\u2019s 16 states except Bavaria.\\n\\nSo a breach would be drastic, but not unprecedented. In 1976, CSU chairman Franz-Josef Strauss called off the joint caucus, but the split was short-lived. For the Bavarians, going it alone would theoretically open a path for the CDU to campaign in Bavaria, weakening the CSU\\u2019s position.\\n\\nA hoax tweet that rattled markets on Friday raised exactly that possibility. It presented a fake quote from the CDU state premier of Hesse, Volker Bouffier, as saying his party should prepare to set up a Bavarian chapter for the next national election. Merkel\\u2019s chief spokesman, Steffen Seibert, quickly stepped in to say the report was invented. \\u201cWe should all remain calm,\\u201d he said.\",\n",
      "    \"title\": \"BREAKING: Shep Smith To Be Canned Because He Can\\u2019t Control His Hate For Donald Trump\",\n",
      "    \"top_img\": \"https://web.archive.org/web/20180624033812im_/http://flashnewss.club/wp-content/uploads/2018/06/Shepard-smith-01-1280x720-1000x600.jpg\",\n",
      "    \"url\": \"https://web.archive.org/web/20180615125007/http://flashnewss.club/breaking-shep-smith-to-be-canned-because-he-cant-control-his-hate-for-donald-trump/\"\n",
      "}\n"
     ]
    }
   ],
   "source": [
    "root = '/home/eddyedzwan/code/EddyEdzwan/FakeNewsNet/code/fakenewsnet_dataset/politifact/fake'\n",
    "dir_ = os.listdir(root)\n",
    "\n",
    "#Printing the content of a JSON file download for preview\n",
    "for folder in dir_:\n",
    "    f = open(os.path.join(root,folder,'news content.json'))\n",
    "    data = json.load(f)\n",
    "    print(json.dumps(data, indent=4, sort_keys=True))\n",
    "    break"
   ]
  },
  {
   "cell_type": "code",
   "execution_count": 21,
   "id": "694bd916",
   "metadata": {},
   "outputs": [],
   "source": [
    "def get_data(directory):\n",
    "    '''Function to read news content in given directory using the FakeNewsNet dataset'''\n",
    "    dictlist = []\n",
    "    \n",
    "    #Only get the following columns from the dataset\n",
    "    cols = ['title','text','authors','num_images','url']\n",
    "    \n",
    "    folders = glob.glob(directory+'/*')\n",
    "    for index, subdir in enumerate(folders):\n",
    "        file_path = glob.glob(subdir+'/*')\n",
    "        file_path.sort()\n",
    "        #check if glob returned a valid file path (non-empty list)\n",
    "        if len(file_path) >= 1 and file_path[0][-4:]=='json':\n",
    "            file = open(file_path[0]).read()\n",
    "            jsondata = json.loads(file)\n",
    "            dictlist.append(scaledict(jsondata))\n",
    "    \n",
    "    return pd.DataFrame(dictlist,columns=cols)\n",
    "\n",
    "def scaledict(ajson):\n",
    "    '''Function to process json pulled from FakeNewsNet'''\n",
    "    thedict = {'url':ajson['url'],'title':ajson['title'],'text':ajson['text'],'num_images':len(ajson['images']),'authors':str(ajson['authors'])}\n",
    "#     ext = tldextract.extract(ajson['url'])\n",
    "#     thedict['domain'] = ext.domain\n",
    "    return thedict"
   ]
  },
  {
   "cell_type": "code",
   "execution_count": 10,
   "id": "af79e0a8",
   "metadata": {},
   "outputs": [],
   "source": [
    "#Running the get_data function for the FakeNewsNet dataset and creating individual DataFrames\n",
    "poli_fake = '/home/eddyedzwan/code/EddyEdzwan/FakeNewsNet/code/fakenewsnet_dataset/politifact/fake'\n",
    "poli_real = '/home/eddyedzwan/code/EddyEdzwan/FakeNewsNet/code/fakenewsnet_dataset/politifact/real'\n",
    "gossip_fake = '/home/eddyedzwan/code/EddyEdzwan/FakeNewsNet/code/fakenewsnet_dataset_2/gossipcop/fake'\n",
    "gossip_real = '/home/eddyedzwan/code/EddyEdzwan/FakeNewsNet/code/fakenewsnet_dataset_2/gossipcop/real'\n",
    "\n",
    "\n",
    "poli_fake_df = get_data(poli_fake)\n",
    "poli_real_df = get_data(poli_real)\n",
    "gossip_fake_df = get_data(gossip_fake)\n",
    "gossip_real_df = get_data(gossip_real)"
   ]
  },
  {
   "cell_type": "code",
   "execution_count": 18,
   "id": "282a008d",
   "metadata": {},
   "outputs": [],
   "source": [
    "#Exporting the DataFrames to csv files\n",
    "# poli_fake_df.to_csv('/home/eddyedzwan/code/EddyEdzwan/StopFAIke/raw_data/poli_fake_df.csv')\n",
    "# poli_real_df.to_csv('/home/eddyedzwan/code/EddyEdzwan/StopFAIke/raw_data/poli_real_df.csv')\n",
    "# gossip_fake_df.to_csv('/home/eddyedzwan/code/EddyEdzwan/StopFAIke/raw_data/gossip_fake_df.csv')\n",
    "# gossip_real_df.to_csv('/home/eddyedzwan/code/EddyEdzwan/StopFAIke/raw_data/gossip_real_df.csv')\n",
    "\n",
    "poli_fake_df = pd.read_csv('/home/eddyedzwan/code/EddyEdzwan/StopFAIke/raw_data/poli_fake_df.csv', index_col='Unnamed: 0')\n",
    "poli_real_df = pd.read_csv('/home/eddyedzwan/code/EddyEdzwan/StopFAIke/raw_data/poli_real_df.csv', index_col='Unnamed: 0')\n",
    "gossip_fake_df = pd.read_csv('/home/eddyedzwan/code/EddyEdzwan/StopFAIke/raw_data/gossip_fake_df.csv', index_col='Unnamed: 0')\n",
    "gossip_real_df = pd.read_csv('/home/eddyedzwan/code/EddyEdzwan/StopFAIke/raw_data/gossip_real_df.csv', index_col='Unnamed: 0')"
   ]
  },
  {
   "cell_type": "code",
   "execution_count": 19,
   "id": "99b5cb79",
   "metadata": {},
   "outputs": [
    {
     "name": "stdout",
     "output_type": "stream",
     "text": [
      "poli_fake_df shape : (397, 5)\n",
      "poli_real_df shape : (558, 5)\n",
      "gossip_fake_df shape : (4892, 5)\n",
      "gossip_real_df shape : (15271, 5)\n"
     ]
    }
   ],
   "source": [
    "print(f'poli_fake_df shape : {poli_fake_df.shape}')\n",
    "print(f'poli_real_df shape : {poli_real_df.shape}')\n",
    "print(f'gossip_fake_df shape : {gossip_fake_df.shape}')\n",
    "print(f'gossip_real_df shape : {gossip_real_df.shape}')"
   ]
  },
  {
   "cell_type": "markdown",
   "id": "db59e7a4",
   "metadata": {},
   "source": [
    "### Visualising the missing values in the dataframes"
   ]
  },
  {
   "cell_type": "code",
   "execution_count": 40,
   "id": "271ee7a6",
   "metadata": {},
   "outputs": [
    {
     "data": {
      "text/plain": [
       "Index(['title', 'text', 'authors', 'url'], dtype='object')"
      ]
     },
     "execution_count": 40,
     "metadata": {},
     "output_type": "execute_result"
    }
   ],
   "source": [
    "poli_fake_df.select_dtypes(include='object').columns"
   ]
  },
  {
   "cell_type": "code",
   "execution_count": 42,
   "id": "e0e655af",
   "metadata": {},
   "outputs": [
    {
     "data": {
      "text/html": [
       "<div>\n",
       "<style scoped>\n",
       "    .dataframe tbody tr th:only-of-type {\n",
       "        vertical-align: middle;\n",
       "    }\n",
       "\n",
       "    .dataframe tbody tr th {\n",
       "        vertical-align: top;\n",
       "    }\n",
       "\n",
       "    .dataframe thead th {\n",
       "        text-align: right;\n",
       "    }\n",
       "</style>\n",
       "<table border=\"1\" class=\"dataframe\">\n",
       "  <thead>\n",
       "    <tr style=\"text-align: right;\">\n",
       "      <th></th>\n",
       "      <th>title</th>\n",
       "      <th>text</th>\n",
       "      <th>authors</th>\n",
       "      <th>num_images</th>\n",
       "      <th>url</th>\n",
       "      <th>title_len</th>\n",
       "      <th>text_len</th>\n",
       "      <th>authors_len</th>\n",
       "      <th>url_len</th>\n",
       "    </tr>\n",
       "  </thead>\n",
       "  <tbody>\n",
       "    <tr>\n",
       "      <th>0</th>\n",
       "      <td>BREAKING: Shep Smith To Be Canned Because He C...</td>\n",
       "      <td>A dispute in Angela Merkel’s coalition over mi...</td>\n",
       "      <td>[]</td>\n",
       "      <td>25</td>\n",
       "      <td>https://web.archive.org/web/20180615125007/htt...</td>\n",
       "      <td>84</td>\n",
       "      <td>4901</td>\n",
       "      <td>2</td>\n",
       "      <td>149</td>\n",
       "    </tr>\n",
       "    <tr>\n",
       "      <th>1</th>\n",
       "      <td>CNN Shocks America, FIRES ‘Journalist’ Who Mad...</td>\n",
       "      <td>On Sunday, CNN did something shocking: they to...</td>\n",
       "      <td>['About Janet Farrow', 'Janet Farrow Is An Inv...</td>\n",
       "      <td>5</td>\n",
       "      <td>https://web.archive.org/web/20180502181153/htt...</td>\n",
       "      <td>74</td>\n",
       "      <td>1391</td>\n",
       "      <td>209</td>\n",
       "      <td>153</td>\n",
       "    </tr>\n",
       "    <tr>\n",
       "      <th>2</th>\n",
       "      <td>Nancy Pelosi Suffers Breakdown, Taken From Cap...</td>\n",
       "      <td>It’s not a good day for Democrats.\\n\\nDemocrat...</td>\n",
       "      <td>['About Truth Dealer', 'Truth Dealer Is A Cons...</td>\n",
       "      <td>52</td>\n",
       "      <td>https://web.archive.org/web/20170616181605/htt...</td>\n",
       "      <td>70</td>\n",
       "      <td>1084</td>\n",
       "      <td>121</td>\n",
       "      <td>141</td>\n",
       "    </tr>\n",
       "    <tr>\n",
       "      <th>3</th>\n",
       "      <td>Libtard Hero Al Franken Forced To Resign In Di...</td>\n",
       "      <td>Libtard Democrat Al Franken will resign his se...</td>\n",
       "      <td>['Please Enter Your Name Here']</td>\n",
       "      <td>10</td>\n",
       "      <td>https://web.archive.org/web/20170619144927/htt...</td>\n",
       "      <td>52</td>\n",
       "      <td>1247</td>\n",
       "      <td>31</td>\n",
       "      <td>128</td>\n",
       "    </tr>\n",
       "    <tr>\n",
       "      <th>4</th>\n",
       "      <td>Bill Gates: “I think Donald Trump will go down...</td>\n",
       "      <td>Please Support Online Petition To Congress For...</td>\n",
       "      <td>[]</td>\n",
       "      <td>15</td>\n",
       "      <td>https://web.archive.org/web/20170205045142/htt...</td>\n",
       "      <td>111</td>\n",
       "      <td>867</td>\n",
       "      <td>2</td>\n",
       "      <td>175</td>\n",
       "    </tr>\n",
       "    <tr>\n",
       "      <th>...</th>\n",
       "      <td>...</td>\n",
       "      <td>...</td>\n",
       "      <td>...</td>\n",
       "      <td>...</td>\n",
       "      <td>...</td>\n",
       "      <td>...</td>\n",
       "      <td>...</td>\n",
       "      <td>...</td>\n",
       "      <td>...</td>\n",
       "    </tr>\n",
       "    <tr>\n",
       "      <th>392</th>\n",
       "      <td>Fact-Check: No, Fall River, Massachusetts, Was...</td>\n",
       "      <td>Rep. Joe Kennedy III (D-MA) claimed the host-c...</td>\n",
       "      <td>['Ian Mason']</td>\n",
       "      <td>30</td>\n",
       "      <td>http://www.breitbart.com/live/state-union-fact...</td>\n",
       "      <td>72</td>\n",
       "      <td>801</td>\n",
       "      <td>13</td>\n",
       "      <td>139</td>\n",
       "    </tr>\n",
       "    <tr>\n",
       "      <th>393</th>\n",
       "      <td>Daily Vine – Dubai, UAE</td>\n",
       "      <td>People when going to sale their house then the...</td>\n",
       "      <td>[]</td>\n",
       "      <td>15</td>\n",
       "      <td>daily-vine.com/cnn-pulls-plug/</td>\n",
       "      <td>23</td>\n",
       "      <td>281</td>\n",
       "      <td>2</td>\n",
       "      <td>30</td>\n",
       "    </tr>\n",
       "    <tr>\n",
       "      <th>394</th>\n",
       "      <td>Political Mayhem</td>\n",
       "      <td>Government over-reach has been a big issue for...</td>\n",
       "      <td>[]</td>\n",
       "      <td>14</td>\n",
       "      <td>https://politicalmayhem.news/state-minnesota-j...</td>\n",
       "      <td>16</td>\n",
       "      <td>306</td>\n",
       "      <td>2</td>\n",
       "      <td>96</td>\n",
       "    </tr>\n",
       "    <tr>\n",
       "      <th>395</th>\n",
       "      <td>Food Stamp Enrollment Drops by Four Million in...</td>\n",
       "      <td>Four million people dropped off the food stamp...</td>\n",
       "      <td>['Katherine Rodriguez']</td>\n",
       "      <td>30</td>\n",
       "      <td>http://www.breitbart.com/big-government/2018/0...</td>\n",
       "      <td>56</td>\n",
       "      <td>3238</td>\n",
       "      <td>23</td>\n",
       "      <td>99</td>\n",
       "    </tr>\n",
       "    <tr>\n",
       "      <th>396</th>\n",
       "      <td>Delta Ticket 2017</td>\n",
       "      <td>Like · Comment · Share\\n\\n12,068 others like t...</td>\n",
       "      <td>[]</td>\n",
       "      <td>19</td>\n",
       "      <td>https://web.archive.org/web/20180210020716/htt...</td>\n",
       "      <td>17</td>\n",
       "      <td>300</td>\n",
       "      <td>2</td>\n",
       "      <td>76</td>\n",
       "    </tr>\n",
       "  </tbody>\n",
       "</table>\n",
       "<p>397 rows × 9 columns</p>\n",
       "</div>"
      ],
      "text/plain": [
       "                                                 title  \\\n",
       "0    BREAKING: Shep Smith To Be Canned Because He C...   \n",
       "1    CNN Shocks America, FIRES ‘Journalist’ Who Mad...   \n",
       "2    Nancy Pelosi Suffers Breakdown, Taken From Cap...   \n",
       "3    Libtard Hero Al Franken Forced To Resign In Di...   \n",
       "4    Bill Gates: “I think Donald Trump will go down...   \n",
       "..                                                 ...   \n",
       "392  Fact-Check: No, Fall River, Massachusetts, Was...   \n",
       "393                            Daily Vine – Dubai, UAE   \n",
       "394                                   Political Mayhem   \n",
       "395  Food Stamp Enrollment Drops by Four Million in...   \n",
       "396                                  Delta Ticket 2017   \n",
       "\n",
       "                                                  text  \\\n",
       "0    A dispute in Angela Merkel’s coalition over mi...   \n",
       "1    On Sunday, CNN did something shocking: they to...   \n",
       "2    It’s not a good day for Democrats.\\n\\nDemocrat...   \n",
       "3    Libtard Democrat Al Franken will resign his se...   \n",
       "4    Please Support Online Petition To Congress For...   \n",
       "..                                                 ...   \n",
       "392  Rep. Joe Kennedy III (D-MA) claimed the host-c...   \n",
       "393  People when going to sale their house then the...   \n",
       "394  Government over-reach has been a big issue for...   \n",
       "395  Four million people dropped off the food stamp...   \n",
       "396  Like · Comment · Share\\n\\n12,068 others like t...   \n",
       "\n",
       "                                               authors  num_images  \\\n",
       "0                                                   []          25   \n",
       "1    ['About Janet Farrow', 'Janet Farrow Is An Inv...           5   \n",
       "2    ['About Truth Dealer', 'Truth Dealer Is A Cons...          52   \n",
       "3                      ['Please Enter Your Name Here']          10   \n",
       "4                                                   []          15   \n",
       "..                                                 ...         ...   \n",
       "392                                      ['Ian Mason']          30   \n",
       "393                                                 []          15   \n",
       "394                                                 []          14   \n",
       "395                            ['Katherine Rodriguez']          30   \n",
       "396                                                 []          19   \n",
       "\n",
       "                                                   url  title_len  text_len  \\\n",
       "0    https://web.archive.org/web/20180615125007/htt...         84      4901   \n",
       "1    https://web.archive.org/web/20180502181153/htt...         74      1391   \n",
       "2    https://web.archive.org/web/20170616181605/htt...         70      1084   \n",
       "3    https://web.archive.org/web/20170619144927/htt...         52      1247   \n",
       "4    https://web.archive.org/web/20170205045142/htt...        111       867   \n",
       "..                                                 ...        ...       ...   \n",
       "392  http://www.breitbart.com/live/state-union-fact...         72       801   \n",
       "393                     daily-vine.com/cnn-pulls-plug/         23       281   \n",
       "394  https://politicalmayhem.news/state-minnesota-j...         16       306   \n",
       "395  http://www.breitbart.com/big-government/2018/0...         56      3238   \n",
       "396  https://web.archive.org/web/20180210020716/htt...         17       300   \n",
       "\n",
       "     authors_len  url_len  \n",
       "0              2      149  \n",
       "1            209      153  \n",
       "2            121      141  \n",
       "3             31      128  \n",
       "4              2      175  \n",
       "..           ...      ...  \n",
       "392           13      139  \n",
       "393            2       30  \n",
       "394            2       96  \n",
       "395           23       99  \n",
       "396            2       76  \n",
       "\n",
       "[397 rows x 9 columns]"
      ]
     },
     "execution_count": 42,
     "metadata": {},
     "output_type": "execute_result"
    }
   ],
   "source": [
    "for col in poli_fake_df.select_dtypes(include='object').columns:\n",
    "    poli_fake_df[f'{col}_len'] = poli_fake_df[col].apply(lambda x: len(str(x)))\n",
    "    \n",
    "poli_fake_df"
   ]
  },
  {
   "cell_type": "code",
   "execution_count": 27,
   "id": "306e6aeb",
   "metadata": {},
   "outputs": [
    {
     "data": {
      "text/plain": [
       "title         11\n",
       "text          26\n",
       "authors        0\n",
       "num_images     0\n",
       "url            0\n",
       "dtype: int64"
      ]
     },
     "execution_count": 27,
     "metadata": {},
     "output_type": "execute_result"
    }
   ],
   "source": [
    "poli_fake_df.isnull().sum()"
   ]
  },
  {
   "cell_type": "code",
   "execution_count": 43,
   "id": "917b7e86",
   "metadata": {},
   "outputs": [
    {
     "name": "stderr",
     "output_type": "stream",
     "text": [
      "/tmp/ipykernel_6237/3994521663.py:1: FutureWarning: Dropping of nuisance columns in DataFrame reductions (with 'numeric_only=None') is deprecated; in a future version this will raise TypeError.  Select only valid columns before calling the reduction.\n",
      "  poli_fake_df.min()\n"
     ]
    },
    {
     "data": {
      "text/plain": [
       "authors                                        [\"Uaboo De'Call\"]\n",
       "num_images                                                     0\n",
       "url            actionnetwork.org/petitions/urgent-new-law-wou...\n",
       "title_len                                                      3\n",
       "text_len                                                       3\n",
       "authors_len                                                    2\n",
       "url_len                                                       23\n",
       "dtype: object"
      ]
     },
     "execution_count": 43,
     "metadata": {},
     "output_type": "execute_result"
    }
   ],
   "source": [
    "poli_fake_df.min()"
   ]
  },
  {
   "cell_type": "code",
   "execution_count": 55,
   "id": "ee2af7c3",
   "metadata": {},
   "outputs": [
    {
     "data": {
      "text/plain": [
       "(11, 9)"
      ]
     },
     "execution_count": 55,
     "metadata": {},
     "output_type": "execute_result"
    }
   ],
   "source": [
    "poli_fake_df[poli_fake_df['title_len']==3].shape"
   ]
  },
  {
   "cell_type": "code",
   "execution_count": 56,
   "id": "2906e0be",
   "metadata": {},
   "outputs": [
    {
     "data": {
      "text/plain": [
       "(26, 9)"
      ]
     },
     "execution_count": 56,
     "metadata": {},
     "output_type": "execute_result"
    }
   ],
   "source": [
    "poli_fake_df[poli_fake_df['text_len']==3].shape"
   ]
  },
  {
   "cell_type": "code",
   "execution_count": 50,
   "id": "3662b8d2",
   "metadata": {},
   "outputs": [
    {
     "ename": "ValueError",
     "evalue": "Unable to coerce to Series, length must be 3: given 2",
     "output_type": "error",
     "traceback": [
      "\u001b[0;31m---------------------------------------------------------------------------\u001b[0m",
      "\u001b[0;31mValueError\u001b[0m                                Traceback (most recent call last)",
      "\u001b[0;32m/tmp/ipykernel_6237/51765419.py\u001b[0m in \u001b[0;36m<module>\u001b[0;34m\u001b[0m\n\u001b[0;32m----> 1\u001b[0;31m \u001b[0mdata\u001b[0m\u001b[0;34m.\u001b[0m\u001b[0mremove_missing_values\u001b[0m\u001b[0;34m(\u001b[0m\u001b[0mpoli_fake_df\u001b[0m\u001b[0;34m,\u001b[0m \u001b[0;34m[\u001b[0m\u001b[0;34m'title'\u001b[0m\u001b[0;34m,\u001b[0m \u001b[0;34m'text'\u001b[0m\u001b[0;34m,\u001b[0m \u001b[0;34m'authors'\u001b[0m\u001b[0;34m]\u001b[0m\u001b[0;34m,\u001b[0m \u001b[0;34m[\u001b[0m\u001b[0;34m'NaN'\u001b[0m\u001b[0;34m,\u001b[0m \u001b[0;34m'[]'\u001b[0m\u001b[0;34m]\u001b[0m\u001b[0;34m)\u001b[0m\u001b[0;34m\u001b[0m\u001b[0;34m\u001b[0m\u001b[0m\n\u001b[0m",
      "\u001b[0;32m~/code/EddyEdzwan/StopFAIke/StopFAIke/data.py\u001b[0m in \u001b[0;36mremove_missing_values\u001b[0;34m(df, col, exclude)\u001b[0m\n\u001b[1;32m     58\u001b[0m             \u001b[0mprint\u001b[0m\u001b[0;34m(\u001b[0m\u001b[0;34m'Exception occurred, check kwargs'\u001b[0m\u001b[0;34m)\u001b[0m\u001b[0;34m\u001b[0m\u001b[0;34m\u001b[0m\u001b[0m\n\u001b[1;32m     59\u001b[0m     \u001b[0;32melse\u001b[0m\u001b[0;34m:\u001b[0m\u001b[0;34m\u001b[0m\u001b[0;34m\u001b[0m\u001b[0m\n\u001b[0;32m---> 60\u001b[0;31m         \u001b[0mindices\u001b[0m \u001b[0;34m=\u001b[0m \u001b[0mdf\u001b[0m\u001b[0;34m[\u001b[0m\u001b[0mdf\u001b[0m\u001b[0;34m[\u001b[0m\u001b[0mcol\u001b[0m\u001b[0;34m]\u001b[0m \u001b[0;34m==\u001b[0m \u001b[0mexclude\u001b[0m\u001b[0;34m]\u001b[0m\u001b[0;34m.\u001b[0m\u001b[0mindex\u001b[0m\u001b[0;34m\u001b[0m\u001b[0;34m\u001b[0m\u001b[0m\n\u001b[0m\u001b[1;32m     61\u001b[0m         \u001b[0mdf\u001b[0m \u001b[0;34m=\u001b[0m \u001b[0mdf\u001b[0m\u001b[0;34m.\u001b[0m\u001b[0mdrop\u001b[0m\u001b[0;34m(\u001b[0m\u001b[0mindices\u001b[0m\u001b[0;34m)\u001b[0m\u001b[0;34m\u001b[0m\u001b[0;34m\u001b[0m\u001b[0m\n\u001b[1;32m     62\u001b[0m     \u001b[0;32mreturn\u001b[0m \u001b[0mdf\u001b[0m\u001b[0;34m\u001b[0m\u001b[0;34m\u001b[0m\u001b[0m\n",
      "\u001b[0;32m~/.pyenv/versions/3.8.6/envs/StopFAIke/lib/python3.8/site-packages/pandas/core/ops/common.py\u001b[0m in \u001b[0;36mnew_method\u001b[0;34m(self, other)\u001b[0m\n\u001b[1;32m     67\u001b[0m         \u001b[0mother\u001b[0m \u001b[0;34m=\u001b[0m \u001b[0mitem_from_zerodim\u001b[0m\u001b[0;34m(\u001b[0m\u001b[0mother\u001b[0m\u001b[0;34m)\u001b[0m\u001b[0;34m\u001b[0m\u001b[0;34m\u001b[0m\u001b[0m\n\u001b[1;32m     68\u001b[0m \u001b[0;34m\u001b[0m\u001b[0m\n\u001b[0;32m---> 69\u001b[0;31m         \u001b[0;32mreturn\u001b[0m \u001b[0mmethod\u001b[0m\u001b[0;34m(\u001b[0m\u001b[0mself\u001b[0m\u001b[0;34m,\u001b[0m \u001b[0mother\u001b[0m\u001b[0;34m)\u001b[0m\u001b[0;34m\u001b[0m\u001b[0;34m\u001b[0m\u001b[0m\n\u001b[0m\u001b[1;32m     70\u001b[0m \u001b[0;34m\u001b[0m\u001b[0m\n\u001b[1;32m     71\u001b[0m     \u001b[0;32mreturn\u001b[0m \u001b[0mnew_method\u001b[0m\u001b[0;34m\u001b[0m\u001b[0;34m\u001b[0m\u001b[0m\n",
      "\u001b[0;32m~/.pyenv/versions/3.8.6/envs/StopFAIke/lib/python3.8/site-packages/pandas/core/arraylike.py\u001b[0m in \u001b[0;36m__eq__\u001b[0;34m(self, other)\u001b[0m\n\u001b[1;32m     30\u001b[0m     \u001b[0;34m@\u001b[0m\u001b[0munpack_zerodim_and_defer\u001b[0m\u001b[0;34m(\u001b[0m\u001b[0;34m\"__eq__\"\u001b[0m\u001b[0;34m)\u001b[0m\u001b[0;34m\u001b[0m\u001b[0;34m\u001b[0m\u001b[0m\n\u001b[1;32m     31\u001b[0m     \u001b[0;32mdef\u001b[0m \u001b[0m__eq__\u001b[0m\u001b[0;34m(\u001b[0m\u001b[0mself\u001b[0m\u001b[0;34m,\u001b[0m \u001b[0mother\u001b[0m\u001b[0;34m)\u001b[0m\u001b[0;34m:\u001b[0m\u001b[0;34m\u001b[0m\u001b[0;34m\u001b[0m\u001b[0m\n\u001b[0;32m---> 32\u001b[0;31m         \u001b[0;32mreturn\u001b[0m \u001b[0mself\u001b[0m\u001b[0;34m.\u001b[0m\u001b[0m_cmp_method\u001b[0m\u001b[0;34m(\u001b[0m\u001b[0mother\u001b[0m\u001b[0;34m,\u001b[0m \u001b[0moperator\u001b[0m\u001b[0;34m.\u001b[0m\u001b[0meq\u001b[0m\u001b[0;34m)\u001b[0m\u001b[0;34m\u001b[0m\u001b[0;34m\u001b[0m\u001b[0m\n\u001b[0m\u001b[1;32m     33\u001b[0m \u001b[0;34m\u001b[0m\u001b[0m\n\u001b[1;32m     34\u001b[0m     \u001b[0;34m@\u001b[0m\u001b[0munpack_zerodim_and_defer\u001b[0m\u001b[0;34m(\u001b[0m\u001b[0;34m\"__ne__\"\u001b[0m\u001b[0;34m)\u001b[0m\u001b[0;34m\u001b[0m\u001b[0;34m\u001b[0m\u001b[0m\n",
      "\u001b[0;32m~/.pyenv/versions/3.8.6/envs/StopFAIke/lib/python3.8/site-packages/pandas/core/frame.py\u001b[0m in \u001b[0;36m_cmp_method\u001b[0;34m(self, other, op)\u001b[0m\n\u001b[1;32m   6844\u001b[0m         \u001b[0maxis\u001b[0m \u001b[0;34m=\u001b[0m \u001b[0;36m1\u001b[0m  \u001b[0;31m# only relevant for Series other case\u001b[0m\u001b[0;34m\u001b[0m\u001b[0;34m\u001b[0m\u001b[0m\n\u001b[1;32m   6845\u001b[0m \u001b[0;34m\u001b[0m\u001b[0m\n\u001b[0;32m-> 6846\u001b[0;31m         \u001b[0mself\u001b[0m\u001b[0;34m,\u001b[0m \u001b[0mother\u001b[0m \u001b[0;34m=\u001b[0m \u001b[0mops\u001b[0m\u001b[0;34m.\u001b[0m\u001b[0malign_method_FRAME\u001b[0m\u001b[0;34m(\u001b[0m\u001b[0mself\u001b[0m\u001b[0;34m,\u001b[0m \u001b[0mother\u001b[0m\u001b[0;34m,\u001b[0m \u001b[0maxis\u001b[0m\u001b[0;34m,\u001b[0m \u001b[0mflex\u001b[0m\u001b[0;34m=\u001b[0m\u001b[0;32mFalse\u001b[0m\u001b[0;34m,\u001b[0m \u001b[0mlevel\u001b[0m\u001b[0;34m=\u001b[0m\u001b[0;32mNone\u001b[0m\u001b[0;34m)\u001b[0m\u001b[0;34m\u001b[0m\u001b[0;34m\u001b[0m\u001b[0m\n\u001b[0m\u001b[1;32m   6847\u001b[0m \u001b[0;34m\u001b[0m\u001b[0m\n\u001b[1;32m   6848\u001b[0m         \u001b[0;31m# See GH#4537 for discussion of scalar op behavior\u001b[0m\u001b[0;34m\u001b[0m\u001b[0;34m\u001b[0m\u001b[0;34m\u001b[0m\u001b[0m\n",
      "\u001b[0;32m~/.pyenv/versions/3.8.6/envs/StopFAIke/lib/python3.8/site-packages/pandas/core/ops/__init__.py\u001b[0m in \u001b[0;36malign_method_FRAME\u001b[0;34m(left, right, axis, flex, level)\u001b[0m\n\u001b[1;32m    279\u001b[0m             )\n\u001b[1;32m    280\u001b[0m         \u001b[0;31m# GH17901\u001b[0m\u001b[0;34m\u001b[0m\u001b[0;34m\u001b[0m\u001b[0;34m\u001b[0m\u001b[0m\n\u001b[0;32m--> 281\u001b[0;31m         \u001b[0mright\u001b[0m \u001b[0;34m=\u001b[0m \u001b[0mto_series\u001b[0m\u001b[0;34m(\u001b[0m\u001b[0mright\u001b[0m\u001b[0;34m)\u001b[0m\u001b[0;34m\u001b[0m\u001b[0;34m\u001b[0m\u001b[0m\n\u001b[0m\u001b[1;32m    282\u001b[0m \u001b[0;34m\u001b[0m\u001b[0m\n\u001b[1;32m    283\u001b[0m     \u001b[0;32mif\u001b[0m \u001b[0mflex\u001b[0m \u001b[0;32mis\u001b[0m \u001b[0;32mnot\u001b[0m \u001b[0;32mNone\u001b[0m \u001b[0;32mand\u001b[0m \u001b[0misinstance\u001b[0m\u001b[0;34m(\u001b[0m\u001b[0mright\u001b[0m\u001b[0;34m,\u001b[0m \u001b[0mABCDataFrame\u001b[0m\u001b[0;34m)\u001b[0m\u001b[0;34m:\u001b[0m\u001b[0;34m\u001b[0m\u001b[0;34m\u001b[0m\u001b[0m\n",
      "\u001b[0;32m~/.pyenv/versions/3.8.6/envs/StopFAIke/lib/python3.8/site-packages/pandas/core/ops/__init__.py\u001b[0m in \u001b[0;36mto_series\u001b[0;34m(right)\u001b[0m\n\u001b[1;32m    236\u001b[0m         \u001b[0;32melse\u001b[0m\u001b[0;34m:\u001b[0m\u001b[0;34m\u001b[0m\u001b[0;34m\u001b[0m\u001b[0m\n\u001b[1;32m    237\u001b[0m             \u001b[0;32mif\u001b[0m \u001b[0mlen\u001b[0m\u001b[0;34m(\u001b[0m\u001b[0mleft\u001b[0m\u001b[0;34m.\u001b[0m\u001b[0mcolumns\u001b[0m\u001b[0;34m)\u001b[0m \u001b[0;34m!=\u001b[0m \u001b[0mlen\u001b[0m\u001b[0;34m(\u001b[0m\u001b[0mright\u001b[0m\u001b[0;34m)\u001b[0m\u001b[0;34m:\u001b[0m\u001b[0;34m\u001b[0m\u001b[0;34m\u001b[0m\u001b[0m\n\u001b[0;32m--> 238\u001b[0;31m                 raise ValueError(\n\u001b[0m\u001b[1;32m    239\u001b[0m                     \u001b[0mmsg\u001b[0m\u001b[0;34m.\u001b[0m\u001b[0mformat\u001b[0m\u001b[0;34m(\u001b[0m\u001b[0mreq_len\u001b[0m\u001b[0;34m=\u001b[0m\u001b[0mlen\u001b[0m\u001b[0;34m(\u001b[0m\u001b[0mleft\u001b[0m\u001b[0;34m.\u001b[0m\u001b[0mcolumns\u001b[0m\u001b[0;34m)\u001b[0m\u001b[0;34m,\u001b[0m \u001b[0mgiven_len\u001b[0m\u001b[0;34m=\u001b[0m\u001b[0mlen\u001b[0m\u001b[0;34m(\u001b[0m\u001b[0mright\u001b[0m\u001b[0;34m)\u001b[0m\u001b[0;34m)\u001b[0m\u001b[0;34m\u001b[0m\u001b[0;34m\u001b[0m\u001b[0m\n\u001b[1;32m    240\u001b[0m                 )\n",
      "\u001b[0;31mValueError\u001b[0m: Unable to coerce to Series, length must be 3: given 2"
     ]
    }
   ],
   "source": [
    "data.remove_missing_values(poli_fake_df, ['title', 'text', 'authors'], ['NaN', '[]'])"
   ]
  },
  {
   "cell_type": "code",
   "execution_count": 17,
   "id": "d03d838f",
   "metadata": {},
   "outputs": [
    {
     "data": {
      "text/plain": [
       "0      [breaking, shep, smith, canned, control, hate,...\n",
       "1      [cnn, shock, america, fire, journalist, made, ...\n",
       "2      [nancy, pelosi, suffers, breakdown, taken, cap...\n",
       "3      [libtard, hero, al, franken, forced, resign, d...\n",
       "4      [bill, gate, think, donald, trump, go, history...\n",
       "                             ...                        \n",
       "392    [fact, check, fall, river, massachusetts, buil...\n",
       "393                            [daily, vine, dubai, uae]\n",
       "394                                  [political, mayhem]\n",
       "395    [food, stamp, enrollment, drop, four, million,...\n",
       "396                                      [delta, ticket]\n",
       "Name: title, Length: 397, dtype: object"
      ]
     },
     "execution_count": 17,
     "metadata": {},
     "output_type": "execute_result"
    }
   ],
   "source": [
    "poli_fake_df['title'].apply(data.clean)"
   ]
  },
  {
   "cell_type": "code",
   "execution_count": 6,
   "id": "c2362726",
   "metadata": {},
   "outputs": [
    {
     "data": {
      "text/html": [
       "<div>\n",
       "<style scoped>\n",
       "    .dataframe tbody tr th:only-of-type {\n",
       "        vertical-align: middle;\n",
       "    }\n",
       "\n",
       "    .dataframe tbody tr th {\n",
       "        vertical-align: top;\n",
       "    }\n",
       "\n",
       "    .dataframe thead th {\n",
       "        text-align: right;\n",
       "    }\n",
       "</style>\n",
       "<table border=\"1\" class=\"dataframe\">\n",
       "  <thead>\n",
       "    <tr style=\"text-align: right;\">\n",
       "      <th></th>\n",
       "      <th>title</th>\n",
       "      <th>text</th>\n",
       "      <th>authors</th>\n",
       "      <th>num_images</th>\n",
       "      <th>url</th>\n",
       "    </tr>\n",
       "  </thead>\n",
       "  <tbody>\n",
       "    <tr>\n",
       "      <th>0</th>\n",
       "      <td>BREAKING: Shep Smith To Be Canned Because He C...</td>\n",
       "      <td>A dispute in Angela Merkel’s coalition over mi...</td>\n",
       "      <td>[]</td>\n",
       "      <td>25</td>\n",
       "      <td>https://web.archive.org/web/20180615125007/htt...</td>\n",
       "    </tr>\n",
       "    <tr>\n",
       "      <th>1</th>\n",
       "      <td>CNN Shocks America, FIRES ‘Journalist’ Who Mad...</td>\n",
       "      <td>On Sunday, CNN did something shocking: they to...</td>\n",
       "      <td>['About Janet Farrow', 'Janet Farrow Is An Inv...</td>\n",
       "      <td>5</td>\n",
       "      <td>https://web.archive.org/web/20180502181153/htt...</td>\n",
       "    </tr>\n",
       "    <tr>\n",
       "      <th>2</th>\n",
       "      <td>Nancy Pelosi Suffers Breakdown, Taken From Cap...</td>\n",
       "      <td>It’s not a good day for Democrats.\\n\\nDemocrat...</td>\n",
       "      <td>['About Truth Dealer', 'Truth Dealer Is A Cons...</td>\n",
       "      <td>52</td>\n",
       "      <td>https://web.archive.org/web/20170616181605/htt...</td>\n",
       "    </tr>\n",
       "    <tr>\n",
       "      <th>3</th>\n",
       "      <td>Libtard Hero Al Franken Forced To Resign In Di...</td>\n",
       "      <td>Libtard Democrat Al Franken will resign his se...</td>\n",
       "      <td>['Please Enter Your Name Here']</td>\n",
       "      <td>10</td>\n",
       "      <td>https://web.archive.org/web/20170619144927/htt...</td>\n",
       "    </tr>\n",
       "    <tr>\n",
       "      <th>4</th>\n",
       "      <td>Bill Gates: “I think Donald Trump will go down...</td>\n",
       "      <td>Please Support Online Petition To Congress For...</td>\n",
       "      <td>[]</td>\n",
       "      <td>15</td>\n",
       "      <td>https://web.archive.org/web/20170205045142/htt...</td>\n",
       "    </tr>\n",
       "  </tbody>\n",
       "</table>\n",
       "</div>"
      ],
      "text/plain": [
       "                                               title  \\\n",
       "0  BREAKING: Shep Smith To Be Canned Because He C...   \n",
       "1  CNN Shocks America, FIRES ‘Journalist’ Who Mad...   \n",
       "2  Nancy Pelosi Suffers Breakdown, Taken From Cap...   \n",
       "3  Libtard Hero Al Franken Forced To Resign In Di...   \n",
       "4  Bill Gates: “I think Donald Trump will go down...   \n",
       "\n",
       "                                                text  \\\n",
       "0  A dispute in Angela Merkel’s coalition over mi...   \n",
       "1  On Sunday, CNN did something shocking: they to...   \n",
       "2  It’s not a good day for Democrats.\\n\\nDemocrat...   \n",
       "3  Libtard Democrat Al Franken will resign his se...   \n",
       "4  Please Support Online Petition To Congress For...   \n",
       "\n",
       "                                             authors  num_images  \\\n",
       "0                                                 []          25   \n",
       "1  ['About Janet Farrow', 'Janet Farrow Is An Inv...           5   \n",
       "2  ['About Truth Dealer', 'Truth Dealer Is A Cons...          52   \n",
       "3                    ['Please Enter Your Name Here']          10   \n",
       "4                                                 []          15   \n",
       "\n",
       "                                                 url  \n",
       "0  https://web.archive.org/web/20180615125007/htt...  \n",
       "1  https://web.archive.org/web/20180502181153/htt...  \n",
       "2  https://web.archive.org/web/20170616181605/htt...  \n",
       "3  https://web.archive.org/web/20170619144927/htt...  \n",
       "4  https://web.archive.org/web/20170205045142/htt...  "
      ]
     },
     "execution_count": 6,
     "metadata": {},
     "output_type": "execute_result"
    }
   ],
   "source": [
    "poli_fake_df.head()"
   ]
  },
  {
   "cell_type": "code",
   "execution_count": 64,
   "id": "6aff1001",
   "metadata": {},
   "outputs": [
    {
     "data": {
      "text/plain": [
       "0      breaking shep smith to be canned because he ca...\n",
       "1      cnn shock america fire journalist who made fun...\n",
       "2      nancy pelosi suffers breakdown taken from capi...\n",
       "3      libtard hero al franken forced to resign in di...\n",
       "4      bill gate i think donald trump will go down to...\n",
       "                             ...                        \n",
       "392    factcheck no fall river massachusetts wa not b...\n",
       "393                               daily vine – dubai uae\n",
       "394                                     political mayhem\n",
       "395    food stamp enrollment drop by four million in ...\n",
       "396                                    delta ticket 2017\n",
       "Name: title, Length: 397, dtype: object"
      ]
     },
     "execution_count": 64,
     "metadata": {},
     "output_type": "execute_result"
    }
   ],
   "source": [
    "stop_words = set(stopwords.words('english'))\n",
    "lemmatizer = WordNetLemmatizer()\n",
    "\n",
    "poli_fake_df['title'] = poli_fake_df['title'].apply(lambda x: x.lower())\n",
    "# poli_fake_df['title'].apply(lambda x: ' '.join(word for word in word_tokenize(x) if not word.isdigit()))\n",
    "# poli_fake_df['title'].apply(lambda x: ' '.join(word for word in word_tokenize(x) if word not in stop_words))\n",
    "poli_fake_df['title'].apply(lambda x: ' '.join(lemmatizer.lemmatize(word) for word in word_tokenize(x)))"
   ]
  },
  {
   "cell_type": "code",
   "execution_count": 65,
   "id": "d0fbdd0c",
   "metadata": {},
   "outputs": [],
   "source": [
    "def preprocess_text(series):\n",
    "    '''function to preprocess textual data provided'''\n",
    "    #Lowercase\n",
    "    series = series.apply(lambda x: x.lower())\n",
    "    \n",
    "    #removing numbers\n",
    "    series = series.apply(lambda x: ' '.join(word for word in word_tokenize(x) if not word.isdigit()))\n",
    "    \n",
    "    #removing punctuations\n",
    "    punctuation_list = string.punctuation\n",
    "    punctuation_list += '“”‘’'\n",
    "    for punctuation in punctuation_list:\n",
    "        series = series.apply(lambda x: x.replace(punctuation, ''))\n",
    "    \n",
    "    #removing stopwords\n",
    "    stop_words = set(stopwords.words('english'))\n",
    "    series = series.apply(lambda x: ' '.join(word for word in word_tokenize(x) if word not in stop_words))\n",
    "    \n",
    "    #lemmatizing\n",
    "    lemmatizer = WordNetLemmatizer()\n",
    "    series = series.apply(lambda x: ' '.join(lemmatizer.lemmatize(word) for word in word_tokenize(x)))\n",
    "    \n",
    "    return series"
   ]
  },
  {
   "cell_type": "code",
   "execution_count": null,
   "id": "c7538d99",
   "metadata": {},
   "outputs": [],
   "source": []
  },
  {
   "cell_type": "markdown",
   "id": "10570b3e",
   "metadata": {},
   "source": [
    "## Liar Dataset (TBC - Does not contain the data we need, can be placed aside)"
   ]
  },
  {
   "cell_type": "code",
   "execution_count": 3,
   "id": "5ca70336",
   "metadata": {
    "collapsed": true
   },
   "outputs": [
    {
     "name": "stderr",
     "output_type": "stream",
     "text": [
      "Using custom data configuration default\n",
      "Reusing dataset liar (/home/eddyedzwan/.cache/huggingface/datasets/liar/default/1.0.0/479463e757b7991eed50ffa7504d7788d6218631a484442e2098dabbf3b44514)\n"
     ]
    },
    {
     "data": {
      "text/plain": [
       "DatasetDict({\n",
       "    train: Dataset({\n",
       "        features: ['id', 'label', 'statement', 'subject', 'speaker', 'job_title', 'state_info', 'party_affiliation', 'barely_true_counts', 'false_counts', 'half_true_counts', 'mostly_true_counts', 'pants_on_fire_counts', 'context'],\n",
       "        num_rows: 10269\n",
       "    })\n",
       "    test: Dataset({\n",
       "        features: ['id', 'label', 'statement', 'subject', 'speaker', 'job_title', 'state_info', 'party_affiliation', 'barely_true_counts', 'false_counts', 'half_true_counts', 'mostly_true_counts', 'pants_on_fire_counts', 'context'],\n",
       "        num_rows: 1283\n",
       "    })\n",
       "    validation: Dataset({\n",
       "        features: ['id', 'label', 'statement', 'subject', 'speaker', 'job_title', 'state_info', 'party_affiliation', 'barely_true_counts', 'false_counts', 'half_true_counts', 'mostly_true_counts', 'pants_on_fire_counts', 'context'],\n",
       "        num_rows: 1284\n",
       "    })\n",
       "})"
      ]
     },
     "execution_count": 3,
     "metadata": {},
     "output_type": "execute_result"
    }
   ],
   "source": [
    "dataset = load_dataset('liar')\n",
    "\n",
    "dataset"
   ]
  },
  {
   "cell_type": "code",
   "execution_count": 7,
   "id": "00e8de30",
   "metadata": {
    "collapsed": true
   },
   "outputs": [
    {
     "data": {
      "text/html": [
       "<div>\n",
       "<style scoped>\n",
       "    .dataframe tbody tr th:only-of-type {\n",
       "        vertical-align: middle;\n",
       "    }\n",
       "\n",
       "    .dataframe tbody tr th {\n",
       "        vertical-align: top;\n",
       "    }\n",
       "\n",
       "    .dataframe thead th {\n",
       "        text-align: right;\n",
       "    }\n",
       "</style>\n",
       "<table border=\"1\" class=\"dataframe\">\n",
       "  <thead>\n",
       "    <tr style=\"text-align: right;\">\n",
       "      <th></th>\n",
       "      <th>id</th>\n",
       "      <th>label</th>\n",
       "      <th>statement</th>\n",
       "      <th>subject</th>\n",
       "      <th>speaker</th>\n",
       "      <th>job_title</th>\n",
       "      <th>state_info</th>\n",
       "      <th>party_affiliation</th>\n",
       "      <th>barely_true_counts</th>\n",
       "      <th>false_counts</th>\n",
       "      <th>half_true_counts</th>\n",
       "      <th>mostly_true_counts</th>\n",
       "      <th>pants_on_fire_counts</th>\n",
       "      <th>context</th>\n",
       "    </tr>\n",
       "  </thead>\n",
       "  <tbody>\n",
       "    <tr>\n",
       "      <th>0</th>\n",
       "      <td>2635.json</td>\n",
       "      <td>0</td>\n",
       "      <td>Says the Annies List political group supports ...</td>\n",
       "      <td>abortion</td>\n",
       "      <td>dwayne-bohac</td>\n",
       "      <td>State representative</td>\n",
       "      <td>Texas</td>\n",
       "      <td>republican</td>\n",
       "      <td>0.0</td>\n",
       "      <td>1.0</td>\n",
       "      <td>0.0</td>\n",
       "      <td>0.0</td>\n",
       "      <td>0.0</td>\n",
       "      <td>a mailer</td>\n",
       "    </tr>\n",
       "    <tr>\n",
       "      <th>1</th>\n",
       "      <td>10540.json</td>\n",
       "      <td>1</td>\n",
       "      <td>When did the decline of coal start? It started...</td>\n",
       "      <td>energy,history,job-accomplishments</td>\n",
       "      <td>scott-surovell</td>\n",
       "      <td>State delegate</td>\n",
       "      <td>Virginia</td>\n",
       "      <td>democrat</td>\n",
       "      <td>0.0</td>\n",
       "      <td>0.0</td>\n",
       "      <td>1.0</td>\n",
       "      <td>1.0</td>\n",
       "      <td>0.0</td>\n",
       "      <td>a floor speech.</td>\n",
       "    </tr>\n",
       "    <tr>\n",
       "      <th>2</th>\n",
       "      <td>324.json</td>\n",
       "      <td>2</td>\n",
       "      <td>Hillary Clinton agrees with John McCain \"by vo...</td>\n",
       "      <td>foreign-policy</td>\n",
       "      <td>barack-obama</td>\n",
       "      <td>President</td>\n",
       "      <td>Illinois</td>\n",
       "      <td>democrat</td>\n",
       "      <td>70.0</td>\n",
       "      <td>71.0</td>\n",
       "      <td>160.0</td>\n",
       "      <td>163.0</td>\n",
       "      <td>9.0</td>\n",
       "      <td>Denver</td>\n",
       "    </tr>\n",
       "    <tr>\n",
       "      <th>3</th>\n",
       "      <td>1123.json</td>\n",
       "      <td>0</td>\n",
       "      <td>Health care reform legislation is likely to ma...</td>\n",
       "      <td>health-care</td>\n",
       "      <td>blog-posting</td>\n",
       "      <td></td>\n",
       "      <td></td>\n",
       "      <td>none</td>\n",
       "      <td>7.0</td>\n",
       "      <td>19.0</td>\n",
       "      <td>3.0</td>\n",
       "      <td>5.0</td>\n",
       "      <td>44.0</td>\n",
       "      <td>a news release</td>\n",
       "    </tr>\n",
       "    <tr>\n",
       "      <th>4</th>\n",
       "      <td>9028.json</td>\n",
       "      <td>1</td>\n",
       "      <td>The economic turnaround started at the end of ...</td>\n",
       "      <td>economy,jobs</td>\n",
       "      <td>charlie-crist</td>\n",
       "      <td></td>\n",
       "      <td>Florida</td>\n",
       "      <td>democrat</td>\n",
       "      <td>15.0</td>\n",
       "      <td>9.0</td>\n",
       "      <td>20.0</td>\n",
       "      <td>19.0</td>\n",
       "      <td>2.0</td>\n",
       "      <td>an interview on CNN</td>\n",
       "    </tr>\n",
       "  </tbody>\n",
       "</table>\n",
       "</div>"
      ],
      "text/plain": [
       "           id  label                                          statement  \\\n",
       "0   2635.json      0  Says the Annies List political group supports ...   \n",
       "1  10540.json      1  When did the decline of coal start? It started...   \n",
       "2    324.json      2  Hillary Clinton agrees with John McCain \"by vo...   \n",
       "3   1123.json      0  Health care reform legislation is likely to ma...   \n",
       "4   9028.json      1  The economic turnaround started at the end of ...   \n",
       "\n",
       "                              subject         speaker             job_title  \\\n",
       "0                            abortion    dwayne-bohac  State representative   \n",
       "1  energy,history,job-accomplishments  scott-surovell        State delegate   \n",
       "2                      foreign-policy    barack-obama             President   \n",
       "3                         health-care    blog-posting                         \n",
       "4                        economy,jobs   charlie-crist                         \n",
       "\n",
       "  state_info party_affiliation  barely_true_counts  false_counts  \\\n",
       "0      Texas        republican                 0.0           1.0   \n",
       "1   Virginia          democrat                 0.0           0.0   \n",
       "2   Illinois          democrat                70.0          71.0   \n",
       "3                         none                 7.0          19.0   \n",
       "4    Florida          democrat                15.0           9.0   \n",
       "\n",
       "   half_true_counts  mostly_true_counts  pants_on_fire_counts  \\\n",
       "0               0.0                 0.0                   0.0   \n",
       "1               1.0                 1.0                   0.0   \n",
       "2             160.0               163.0                   9.0   \n",
       "3               3.0                 5.0                  44.0   \n",
       "4              20.0                19.0                   2.0   \n",
       "\n",
       "               context  \n",
       "0             a mailer  \n",
       "1      a floor speech.  \n",
       "2               Denver  \n",
       "3       a news release  \n",
       "4  an interview on CNN  "
      ]
     },
     "execution_count": 7,
     "metadata": {},
     "output_type": "execute_result"
    }
   ],
   "source": [
    "X_train = pd.DataFrame(dataset['train'])\n",
    "X_valid = pd.DataFrame(dataset['validation'])\n",
    "X_test = pd.DataFrame(dataset['test'])\n",
    "\n",
    "X_train.head()"
   ]
  }
 ],
 "metadata": {
  "kernelspec": {
   "display_name": "Python 3 (ipykernel)",
   "language": "python",
   "name": "python3"
  },
  "language_info": {
   "codemirror_mode": {
    "name": "ipython",
    "version": 3
   },
   "file_extension": ".py",
   "mimetype": "text/x-python",
   "name": "python",
   "nbconvert_exporter": "python",
   "pygments_lexer": "ipython3",
   "version": "3.8.6"
  },
  "toc": {
   "base_numbering": 1,
   "nav_menu": {},
   "number_sections": true,
   "sideBar": true,
   "skip_h1_title": false,
   "title_cell": "Table of Contents",
   "title_sidebar": "Contents",
   "toc_cell": false,
   "toc_position": {},
   "toc_section_display": true,
   "toc_window_display": false
  }
 },
 "nbformat": 4,
 "nbformat_minor": 5
}
