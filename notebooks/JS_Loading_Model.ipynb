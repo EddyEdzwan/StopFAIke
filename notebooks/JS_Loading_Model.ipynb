{
 "cells": [
  {
   "cell_type": "code",
   "execution_count": 8,
   "id": "6a32541f",
   "metadata": {},
   "outputs": [],
   "source": [
    "! pip install -q -U tensorflow-text"
   ]
  },
  {
   "cell_type": "code",
   "execution_count": 9,
   "id": "b78d2de8",
   "metadata": {},
   "outputs": [],
   "source": [
    "import tensorflow as tf\n",
    "import tensorflow_text as text"
   ]
  },
  {
   "cell_type": "code",
   "execution_count": null,
   "id": "d3090620",
   "metadata": {},
   "outputs": [],
   "source": [
    "BUCKET_NAME = 'wagon-data-615-seguy'\n",
    "STORAGE_LOCATION = 'models/StopFAIke/bert_en_uncased_L-12_H-768_A-12'\n",
    "BERT_MODEL_NAME = 'bert_en_uncased_L-12_H-768_A-12'"
   ]
  },
  {
   "cell_type": "markdown",
   "id": "6bfc140b",
   "metadata": {
    "heading_collapsed": true
   },
   "source": [
    "### `locally`"
   ]
  },
  {
   "cell_type": "code",
   "execution_count": null,
   "id": "96e6027f",
   "metadata": {
    "hidden": true
   },
   "outputs": [],
   "source": [
    "print(\"#### Loading the model ...\")\n",
    "reloaded_model = tf.saved_model.load('../raw_data/bert_en_uncased_L-12_H-768_A-12')\n",
    "print(\"#### Model uploaded ...\")"
   ]
  },
  {
   "cell_type": "markdown",
   "id": "fea80eb2",
   "metadata": {
    "hidden": true
   },
   "source": [
    "#### Prediction"
   ]
  },
  {
   "cell_type": "code",
   "execution_count": null,
   "id": "e7a2131d",
   "metadata": {
    "hidden": true
   },
   "outputs": [],
   "source": [
    "samples = ['Julien is 43yo',\n",
    "       'Nina and Fleur are the daughters of Julien',\n",
    "       'Trump is president']\n",
    "\n",
    "for sample in samples:\n",
    "    y_prob = reloaded_model([sample])\n",
    "    print(f\"Pred: {y_prob.numpy()[0][0]:.3f} - {sample} \")\n",
    "    # model = get_model_from_gcp()\n"
   ]
  },
  {
   "cell_type": "markdown",
   "id": "ca367b49",
   "metadata": {},
   "source": [
    "### From `GCP storage` - DOES NOT WORK ?!"
   ]
  },
  {
   "cell_type": "code",
   "execution_count": null,
   "id": "04e198a4",
   "metadata": {},
   "outputs": [],
   "source": [
    "# print(\"#### Loading the model ...\")\n",
    "# reloaded_model = tf.saved_model.load(f\"gs://{BUCKET_NAME}/{STORAGE_LOCATION}\")\n",
    "# print(\"#### Model uploaded ...\")"
   ]
  },
  {
   "cell_type": "markdown",
   "id": "60caff0d",
   "metadata": {},
   "source": [
    "### From `GCP storage` - Python function"
   ]
  },
  {
   "cell_type": "code",
   "execution_count": null,
   "id": "1b8a3527",
   "metadata": {},
   "outputs": [],
   "source": [
    "from google.cloud import storage\n",
    "from pathlib import Path\n",
    "\n",
    "bucket_name = 'wagon-data-615-seguy'\n",
    "prefix = 'models/StopFAIke/bert_en_uncased_L-12_H-768_A-12'\n",
    "dl_dir = ''\n",
    "\n",
    "storage_client = storage.Client()\n",
    "bucket = storage_client.get_bucket(bucket_name)\n",
    "blobs = bucket.list_blobs(prefix=prefix)  # Get list of files\n",
    "for blob in blobs:\n",
    "    if blob.name.endswith(\"/\"):\n",
    "        continue\n",
    "    file_split = blob.name.split(\"/\")\n",
    "    directory = \"/\".join(file_split[0:-1])\n",
    "    Path(directory).mkdir(parents=True, exist_ok=True)\n",
    "    blob.download_to_filename(blob.name)"
   ]
  },
  {
   "cell_type": "code",
   "execution_count": 10,
   "id": "2959a98f",
   "metadata": {},
   "outputs": [],
   "source": [
    "local_path = 'models/StopFAIke/bert_en_uncased_L-12_H-768_A-12'\n",
    "\n",
    "reloaded_model = tf.saved_model.load(local_path)"
   ]
  },
  {
   "cell_type": "code",
   "execution_count": 11,
   "id": "26d61492",
   "metadata": {},
   "outputs": [
    {
     "name": "stdout",
     "output_type": "stream",
     "text": [
      "Pred: 0.027 - Julien is 43yo \n",
      "Pred: 0.027 - Nina and Fleur are the daughters of Julien \n",
      "Pred: 0.965 - Trump is president \n"
     ]
    }
   ],
   "source": [
    "samples = ['Julien is 43yo',\n",
    "       'Nina and Fleur are the daughters of Julien',\n",
    "       'Trump is president']\n",
    "\n",
    "for sample in samples:\n",
    "    y_prob = reloaded_model([sample])\n",
    "    print(f\"Pred: {y_prob.numpy()[0][0]:.3f} - {sample} \")\n",
    "    # model = get_model_from_gcp()"
   ]
  },
  {
   "cell_type": "code",
   "execution_count": 7,
   "id": "2421b03d",
   "metadata": {},
   "outputs": [],
   "source": [
    "# # Lets say, we want to download FINALFOLDER \n",
    "# # from the storage path: gs://TEST_BUCKET_NAME/FOLDER1/FOLDER2/FINALFOLDER \n",
    "# # After downloading, the final path will look like: D:\\\\my_blob_data\\FINALFOLDER\n",
    "\n",
    "# from os import makedirs\n",
    "# from os.path import join, isdir, isfile, basename\n",
    "# from google.cloud import storage\n",
    "\n",
    "# # if your environment was authenticated, the default config will be picked up\n",
    "# storage_client = storage.Client() # comment this line if you want to use service account\n",
    "\n",
    "# # uncomment the line below if you have a service account json\n",
    "# # storage_client = storage.Client.from_service_account_json('creds/sa.json')\n",
    "\n",
    "# bucket_name = 'TEST_BUCKET_NAME'\n",
    "# prefix = 'FOLDER2'\n",
    "# dst_path = 'D:\\\\my_blob_data'\n",
    "\n",
    "# if isdir(dstPath) == False:\n",
    "#     makedirs(dstPath)\n",
    "\n",
    "# bucket = storage_client.bucket(bucket_name=bucket_name)\n",
    "# blobs = bucket.list_blobs(prefix=prefix)  # Get list of files\n",
    "# for blob in blobs:\n",
    "#     blob_name = blob.name \n",
    "#     dst_file_name = blob_name.replace('FOLDER1/FOLDER2', dst_path) #.replace('FOLDER1/FOLDER2', 'D:\\\\my_blob_data') \n",
    "#     # extract the final directory and create it in the destination path if it does not exist\n",
    "#     dst_dir = dst_file_name.replace('/' + basename(dst_file_name), '')\n",
    "#     if isdir(dst_dir) == False:\n",
    "#         makedirs(dst_dir)\n",
    "#     # download the blob object\n",
    "#     blob.download_to_filename(dst_file_name)"
   ]
  },
  {
   "cell_type": "code",
   "execution_count": null,
   "id": "ba88f01a",
   "metadata": {},
   "outputs": [],
   "source": []
  }
 ],
 "metadata": {
  "kernelspec": {
   "display_name": "Python 3 (ipykernel)",
   "language": "python",
   "name": "python3"
  },
  "language_info": {
   "codemirror_mode": {
    "name": "ipython",
    "version": 3
   },
   "file_extension": ".py",
   "mimetype": "text/x-python",
   "name": "python",
   "nbconvert_exporter": "python",
   "pygments_lexer": "ipython3",
   "version": "3.8.6"
  },
  "toc": {
   "base_numbering": 1,
   "nav_menu": {},
   "number_sections": true,
   "sideBar": true,
   "skip_h1_title": false,
   "title_cell": "Table of Contents",
   "title_sidebar": "Contents",
   "toc_cell": false,
   "toc_position": {},
   "toc_section_display": true,
   "toc_window_display": false
  },
  "varInspector": {
   "cols": {
    "lenName": 16,
    "lenType": 16,
    "lenVar": 40
   },
   "kernels_config": {
    "python": {
     "delete_cmd_postfix": "",
     "delete_cmd_prefix": "del ",
     "library": "var_list.py",
     "varRefreshCmd": "print(var_dic_list())"
    },
    "r": {
     "delete_cmd_postfix": ") ",
     "delete_cmd_prefix": "rm(",
     "library": "var_list.r",
     "varRefreshCmd": "cat(var_dic_list()) "
    }
   },
   "types_to_exclude": [
    "module",
    "function",
    "builtin_function_or_method",
    "instance",
    "_Feature"
   ],
   "window_display": false
  }
 },
 "nbformat": 4,
 "nbformat_minor": 5
}
