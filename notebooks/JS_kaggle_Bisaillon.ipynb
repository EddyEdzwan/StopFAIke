{
 "cells": [
  {
   "cell_type": "markdown",
   "id": "38801612",
   "metadata": {},
   "source": [
    "# Kaggle Bisaillon Dataset"
   ]
  },
  {
   "cell_type": "code",
   "execution_count": 55,
   "id": "e548287e",
   "metadata": {},
   "outputs": [],
   "source": [
    "import numpy as np\n",
    "import pandas as pd\n",
    "import seaborn as sns\n",
    "import matplotlib.pyplot as plt\n",
    "\n",
    "from nltk.corpus import stopwords \n",
    "import string\n",
    "from nltk.stem.wordnet import WordNetLemmatizer\n",
    "from nltk import word_tokenize \n",
    "\n",
    "import tensorflow as tf"
   ]
  },
  {
   "cell_type": "markdown",
   "id": "7de7d9e9",
   "metadata": {},
   "source": [
    "## Loading `csv`"
   ]
  },
  {
   "cell_type": "code",
   "execution_count": 2,
   "id": "6a468cee",
   "metadata": {},
   "outputs": [
    {
     "name": "stdout",
     "output_type": "stream",
     "text": [
      "--------------------------------------------------------------------------------\n",
      "true shape: (21417, 4)\n",
      "fake shape: (23481, 4)\n",
      "--------------------------------------------------------------------------------\n"
     ]
    }
   ],
   "source": [
    "true_filepath = '../raw_data/kaggle_Bisaillon/True.csv'\n",
    "fake_filepath = '../raw_data/kaggle_Bisaillon/Fake.csv'\n",
    "\n",
    "true = pd.read_csv(true_filepath)\n",
    "fake = pd.read_csv(fake_filepath)\n",
    "\n",
    "print('-'*80)\n",
    "print(f\"true shape: {true.shape}\")\n",
    "print(f\"fake shape: {fake.shape}\")\n",
    "print('-'*80)"
   ]
  },
  {
   "cell_type": "code",
   "execution_count": 3,
   "id": "8db435a6",
   "metadata": {},
   "outputs": [
    {
     "data": {
      "text/html": [
       "<div>\n",
       "<style scoped>\n",
       "    .dataframe tbody tr th:only-of-type {\n",
       "        vertical-align: middle;\n",
       "    }\n",
       "\n",
       "    .dataframe tbody tr th {\n",
       "        vertical-align: top;\n",
       "    }\n",
       "\n",
       "    .dataframe thead th {\n",
       "        text-align: right;\n",
       "    }\n",
       "</style>\n",
       "<table border=\"1\" class=\"dataframe\">\n",
       "  <thead>\n",
       "    <tr style=\"text-align: right;\">\n",
       "      <th></th>\n",
       "      <th>title</th>\n",
       "      <th>text</th>\n",
       "      <th>subject</th>\n",
       "      <th>date</th>\n",
       "    </tr>\n",
       "  </thead>\n",
       "  <tbody>\n",
       "    <tr>\n",
       "      <th>0</th>\n",
       "      <td>As U.S. budget fight looms, Republicans flip t...</td>\n",
       "      <td>WASHINGTON (Reuters) - The head of a conservat...</td>\n",
       "      <td>politicsNews</td>\n",
       "      <td>December 31, 2017</td>\n",
       "    </tr>\n",
       "    <tr>\n",
       "      <th>1</th>\n",
       "      <td>U.S. military to accept transgender recruits o...</td>\n",
       "      <td>WASHINGTON (Reuters) - Transgender people will...</td>\n",
       "      <td>politicsNews</td>\n",
       "      <td>December 29, 2017</td>\n",
       "    </tr>\n",
       "    <tr>\n",
       "      <th>2</th>\n",
       "      <td>Senior U.S. Republican senator: 'Let Mr. Muell...</td>\n",
       "      <td>WASHINGTON (Reuters) - The special counsel inv...</td>\n",
       "      <td>politicsNews</td>\n",
       "      <td>December 31, 2017</td>\n",
       "    </tr>\n",
       "    <tr>\n",
       "      <th>3</th>\n",
       "      <td>FBI Russia probe helped by Australian diplomat...</td>\n",
       "      <td>WASHINGTON (Reuters) - Trump campaign adviser ...</td>\n",
       "      <td>politicsNews</td>\n",
       "      <td>December 30, 2017</td>\n",
       "    </tr>\n",
       "    <tr>\n",
       "      <th>4</th>\n",
       "      <td>Trump wants Postal Service to charge 'much mor...</td>\n",
       "      <td>SEATTLE/WASHINGTON (Reuters) - President Donal...</td>\n",
       "      <td>politicsNews</td>\n",
       "      <td>December 29, 2017</td>\n",
       "    </tr>\n",
       "  </tbody>\n",
       "</table>\n",
       "</div>"
      ],
      "text/plain": [
       "                                               title  \\\n",
       "0  As U.S. budget fight looms, Republicans flip t...   \n",
       "1  U.S. military to accept transgender recruits o...   \n",
       "2  Senior U.S. Republican senator: 'Let Mr. Muell...   \n",
       "3  FBI Russia probe helped by Australian diplomat...   \n",
       "4  Trump wants Postal Service to charge 'much mor...   \n",
       "\n",
       "                                                text       subject  \\\n",
       "0  WASHINGTON (Reuters) - The head of a conservat...  politicsNews   \n",
       "1  WASHINGTON (Reuters) - Transgender people will...  politicsNews   \n",
       "2  WASHINGTON (Reuters) - The special counsel inv...  politicsNews   \n",
       "3  WASHINGTON (Reuters) - Trump campaign adviser ...  politicsNews   \n",
       "4  SEATTLE/WASHINGTON (Reuters) - President Donal...  politicsNews   \n",
       "\n",
       "                 date  \n",
       "0  December 31, 2017   \n",
       "1  December 29, 2017   \n",
       "2  December 31, 2017   \n",
       "3  December 30, 2017   \n",
       "4  December 29, 2017   "
      ]
     },
     "execution_count": 3,
     "metadata": {},
     "output_type": "execute_result"
    }
   ],
   "source": [
    "true.head()"
   ]
  },
  {
   "cell_type": "markdown",
   "id": "9eff0331",
   "metadata": {},
   "source": [
    "## Preprocessing"
   ]
  },
  {
   "cell_type": "markdown",
   "id": "cfbdaf09",
   "metadata": {},
   "source": [
    "### Duplicates"
   ]
  },
  {
   "cell_type": "code",
   "execution_count": 4,
   "id": "0e40ebd6",
   "metadata": {},
   "outputs": [],
   "source": [
    "def count_duplicate(df):\n",
    "    return df.duplicated().sum()"
   ]
  },
  {
   "cell_type": "code",
   "execution_count": 5,
   "id": "1db04408",
   "metadata": {},
   "outputs": [
    {
     "name": "stdout",
     "output_type": "stream",
     "text": [
      "--------------------------------------------------------------------------------\n",
      "true duplicates: 206\n",
      "fake duplicates: 3\n",
      "--------------------------------------------------------------------------------\n"
     ]
    }
   ],
   "source": [
    "print('-'*80)\n",
    "print(f\"true duplicates: {count_duplicate(true)}\")\n",
    "print(f\"fake duplicates: {count_duplicate(fake)}\")\n",
    "print('-'*80)"
   ]
  },
  {
   "cell_type": "code",
   "execution_count": 6,
   "id": "740b58d3",
   "metadata": {},
   "outputs": [
    {
     "name": "stdout",
     "output_type": "stream",
     "text": [
      "--------------------------------------------------------------------------------\n",
      "true shape (wo duplicates): (21211, 4)\n",
      "fake shape (wo duplicates): (23478, 4)\n",
      "--------------------------------------------------------------------------------\n"
     ]
    }
   ],
   "source": [
    "true.drop_duplicates(inplace=True)\n",
    "fake.drop_duplicates(inplace=True)\n",
    "\n",
    "print('-'*80)\n",
    "print(f\"true shape (wo duplicates): {true.shape}\")\n",
    "print(f\"fake shape (wo duplicates): {fake.shape}\")\n",
    "print('-'*80)"
   ]
  },
  {
   "cell_type": "markdown",
   "id": "b2eba03c",
   "metadata": {},
   "source": [
    "### Merging the `true` / `fake` dataframes"
   ]
  },
  {
   "cell_type": "code",
   "execution_count": 7,
   "id": "87735919",
   "metadata": {},
   "outputs": [
    {
     "name": "stdout",
     "output_type": "stream",
     "text": [
      "--------------------------------------------------------------------------------\n",
      "data shape: (44689, 6)\n",
      "--------------------------------------------------------------------------------\n",
      "ratio #true: 47.46%\n",
      "ratio #false: 52.54%\n",
      "--------------------------------------------------------------------------------\n"
     ]
    }
   ],
   "source": [
    "true['category'] = 0\n",
    "fake['category'] = 1\n",
    "\n",
    "data = pd.concat([true, fake]).reset_index()\n",
    "\n",
    "print('-'*80)\n",
    "print(f\"data shape: {data.shape}\")\n",
    "print('-'*80)\n",
    "print(f\"ratio #true: {len(data[data['category']==0])/len(data)*100:.2f}%\")\n",
    "print(f\"ratio #false: {len(data[data['category']==1])/len(data)*100:.2f}%\")\n",
    "print('-'*80)"
   ]
  },
  {
   "cell_type": "code",
   "execution_count": 8,
   "id": "9d1dca35",
   "metadata": {},
   "outputs": [
    {
     "data": {
      "image/png": "[encoded data removed]",
      "text/plain": [
       "<Figure size 432x288 with 1 Axes>"
      ]
     },
     "metadata": {
      "needs_background": "light"
     },
     "output_type": "display_data"
    }
   ],
   "source": [
    "sns.countplot(x=data.category);"
   ]
  },
  {
   "cell_type": "markdown",
   "id": "0faf505f",
   "metadata": {},
   "source": [
    "### Missing values"
   ]
  },
  {
   "cell_type": "code",
   "execution_count": 9,
   "id": "d0d4c0b0",
   "metadata": {},
   "outputs": [],
   "source": [
    "def get_missing(df):\n",
    "    missing_values = df.isnull().sum().sort_values(ascending = False)\n",
    "    ratio = missing_values/len(data)*100\n",
    "    return pd.DataFrame({'missing_values': missing_values, 'ratio': round(ratio)}).head(10)"
   ]
  },
  {
   "cell_type": "code",
   "execution_count": 10,
   "id": "0a0f87c4",
   "metadata": {},
   "outputs": [
    {
     "data": {
      "text/html": [
       "<div>\n",
       "<style scoped>\n",
       "    .dataframe tbody tr th:only-of-type {\n",
       "        vertical-align: middle;\n",
       "    }\n",
       "\n",
       "    .dataframe tbody tr th {\n",
       "        vertical-align: top;\n",
       "    }\n",
       "\n",
       "    .dataframe thead th {\n",
       "        text-align: right;\n",
       "    }\n",
       "</style>\n",
       "<table border=\"1\" class=\"dataframe\">\n",
       "  <thead>\n",
       "    <tr style=\"text-align: right;\">\n",
       "      <th></th>\n",
       "      <th>missing_values</th>\n",
       "      <th>ratio</th>\n",
       "    </tr>\n",
       "  </thead>\n",
       "  <tbody>\n",
       "    <tr>\n",
       "      <th>index</th>\n",
       "      <td>0</td>\n",
       "      <td>0.0</td>\n",
       "    </tr>\n",
       "    <tr>\n",
       "      <th>title</th>\n",
       "      <td>0</td>\n",
       "      <td>0.0</td>\n",
       "    </tr>\n",
       "    <tr>\n",
       "      <th>text</th>\n",
       "      <td>0</td>\n",
       "      <td>0.0</td>\n",
       "    </tr>\n",
       "    <tr>\n",
       "      <th>subject</th>\n",
       "      <td>0</td>\n",
       "      <td>0.0</td>\n",
       "    </tr>\n",
       "    <tr>\n",
       "      <th>date</th>\n",
       "      <td>0</td>\n",
       "      <td>0.0</td>\n",
       "    </tr>\n",
       "    <tr>\n",
       "      <th>category</th>\n",
       "      <td>0</td>\n",
       "      <td>0.0</td>\n",
       "    </tr>\n",
       "  </tbody>\n",
       "</table>\n",
       "</div>"
      ],
      "text/plain": [
       "          missing_values  ratio\n",
       "index                  0    0.0\n",
       "title                  0    0.0\n",
       "text                   0    0.0\n",
       "subject                0    0.0\n",
       "date                   0    0.0\n",
       "category               0    0.0"
      ]
     },
     "execution_count": 10,
     "metadata": {},
     "output_type": "execute_result"
    }
   ],
   "source": [
    "get_missing(data)"
   ]
  },
  {
   "cell_type": "markdown",
   "id": "33db475d",
   "metadata": {},
   "source": [
    "### EDA"
   ]
  },
  {
   "cell_type": "code",
   "execution_count": 11,
   "id": "5ef1dcac",
   "metadata": {},
   "outputs": [
    {
     "data": {
      "text/plain": [
       "politicsNews       11220\n",
       "worldnews           9991\n",
       "News                9050\n",
       "politics            6838\n",
       "left-news           4459\n",
       "Government News     1570\n",
       "US_News              783\n",
       "Middle-east          778\n",
       "Name: subject, dtype: int64"
      ]
     },
     "execution_count": 11,
     "metadata": {},
     "output_type": "execute_result"
    }
   ],
   "source": [
    "data.subject.value_counts()"
   ]
  },
  {
   "cell_type": "markdown",
   "id": "301b4ac2",
   "metadata": {},
   "source": [
    "### Reducing Data"
   ]
  },
  {
   "cell_type": "code",
   "execution_count": 15,
   "id": "47cffd6f",
   "metadata": {},
   "outputs": [
    {
     "data": {
      "text/plain": [
       "(44689, 6)"
      ]
     },
     "execution_count": 15,
     "metadata": {},
     "output_type": "execute_result"
    }
   ],
   "source": [
    "data.shape"
   ]
  },
  {
   "cell_type": "code",
   "execution_count": 16,
   "id": "8a99ecbb",
   "metadata": {},
   "outputs": [
    {
     "name": "stdout",
     "output_type": "stream",
     "text": [
      "--------------------------------------------------------------------------------\n",
      "data_reduced shape: (1000, 6)\n",
      "--------------------------------------------------------------------------------\n",
      "ratio #true: 47.20%\n",
      "ratio #false: 52.80%\n",
      "--------------------------------------------------------------------------------\n"
     ]
    }
   ],
   "source": [
    "data_reduced = data.sample(1000)\n",
    "\n",
    "print('-'*80)\n",
    "print(f\"data_reduced shape: {data_reduced.shape}\")\n",
    "print('-'*80)\n",
    "print(f\"ratio #true: {len(data_reduced[data_reduced['category']==0])/len(data_reduced)*100:.2f}%\")\n",
    "print(f\"ratio #false: {len(data_reduced[data_reduced['category']==1])/len(data_reduced)*100:.2f}%\")\n",
    "print('-'*80)"
   ]
  },
  {
   "cell_type": "markdown",
   "id": "48e9e1bf",
   "metadata": {},
   "source": [
    "### Cleaning"
   ]
  },
  {
   "cell_type": "code",
   "execution_count": 17,
   "id": "7531283d",
   "metadata": {},
   "outputs": [],
   "source": [
    "def clean (text):\n",
    "    for punctuation in string.punctuation:\n",
    "        text = text.replace(punctuation, ' ') # Remove Punctuation\n",
    "    lowercased = text.lower() # Lower Case\n",
    "    tokenized = word_tokenize(lowercased) # Tokenize\n",
    "    words_only = [word for word in tokenized if word.isalpha()] # Remove numbers\n",
    "    stop_words = set(stopwords.words('english')) # Make stopword list\n",
    "    without_stopwords = [word for word in words_only if not word in stop_words] # Remove Stop Words\n",
    "    lemma=WordNetLemmatizer() # Initiate Lemmatizer\n",
    "    lemmatized = [lemma.lemmatize(word) for word in without_stopwords] # Lemmatize\n",
    "    return lemmatized"
   ]
  },
  {
   "cell_type": "code",
   "execution_count": 20,
   "id": "1a3176a1",
   "metadata": {},
   "outputs": [
    {
     "data": {
      "text/html": [
       "<div>\n",
       "<style scoped>\n",
       "    .dataframe tbody tr th:only-of-type {\n",
       "        vertical-align: middle;\n",
       "    }\n",
       "\n",
       "    .dataframe tbody tr th {\n",
       "        vertical-align: top;\n",
       "    }\n",
       "\n",
       "    .dataframe thead th {\n",
       "        text-align: right;\n",
       "    }\n",
       "</style>\n",
       "<table border=\"1\" class=\"dataframe\">\n",
       "  <thead>\n",
       "    <tr style=\"text-align: right;\">\n",
       "      <th></th>\n",
       "      <th>index</th>\n",
       "      <th>title</th>\n",
       "      <th>text</th>\n",
       "      <th>subject</th>\n",
       "      <th>date</th>\n",
       "      <th>category</th>\n",
       "      <th>clean_text</th>\n",
       "    </tr>\n",
       "  </thead>\n",
       "  <tbody>\n",
       "    <tr>\n",
       "      <th>5920</th>\n",
       "      <td>5957</td>\n",
       "      <td>Trump says he had 'very good' call with Mexico...</td>\n",
       "      <td>WASHINGTON (Reuters) - U.S. President Donald T...</td>\n",
       "      <td>politicsNews</td>\n",
       "      <td>January 27, 2017</td>\n",
       "      <td>0</td>\n",
       "      <td>[washington, reuters, u, president, donald, tr...</td>\n",
       "    </tr>\n",
       "    <tr>\n",
       "      <th>35726</th>\n",
       "      <td>14517</td>\n",
       "      <td>WATCH: BEYONCE Performed This Sickening, Cop-H...</td>\n",
       "      <td>How very progressive  After all, what would Su...</td>\n",
       "      <td>politics</td>\n",
       "      <td>Feb 7, 2016</td>\n",
       "      <td>1</td>\n",
       "      <td>[progressive, would, super, bowl, sunday, with...</td>\n",
       "    </tr>\n",
       "    <tr>\n",
       "      <th>31557</th>\n",
       "      <td>10347</td>\n",
       "      <td>Woman Born In NAZI GERMANY Says Trump Doesn’t ...</td>\n",
       "      <td>A woman who was born in Nazi Germany says that...</td>\n",
       "      <td>politics</td>\n",
       "      <td>Jul 20, 2017</td>\n",
       "      <td>1</td>\n",
       "      <td>[woman, born, nazi, germany, say, reminds, hit...</td>\n",
       "    </tr>\n",
       "    <tr>\n",
       "      <th>42486</th>\n",
       "      <td>21278</td>\n",
       "      <td>New Batman Comic Features Batman Saving Black ...</td>\n",
       "      <td>Full frontal Leftist propaganda As a side note...</td>\n",
       "      <td>left-news</td>\n",
       "      <td>Nov 30, 2015</td>\n",
       "      <td>1</td>\n",
       "      <td>[full, frontal, leftist, propaganda, side, not...</td>\n",
       "    </tr>\n",
       "    <tr>\n",
       "      <th>31986</th>\n",
       "      <td>10776</td>\n",
       "      <td>DEMOCRAT ALAN DERSHOWITZ Schools Jeffrey Tubin...</td>\n",
       "      <td>Alan Dershowitz schools his former student Jef...</td>\n",
       "      <td>politics</td>\n",
       "      <td>May 27, 2017</td>\n",
       "      <td>1</td>\n",
       "      <td>[alan, dershowitz, school, former, student, je...</td>\n",
       "    </tr>\n",
       "  </tbody>\n",
       "</table>\n",
       "</div>"
      ],
      "text/plain": [
       "       index                                              title  \\\n",
       "5920    5957  Trump says he had 'very good' call with Mexico...   \n",
       "35726  14517  WATCH: BEYONCE Performed This Sickening, Cop-H...   \n",
       "31557  10347  Woman Born In NAZI GERMANY Says Trump Doesn’t ...   \n",
       "42486  21278  New Batman Comic Features Batman Saving Black ...   \n",
       "31986  10776  DEMOCRAT ALAN DERSHOWITZ Schools Jeffrey Tubin...   \n",
       "\n",
       "                                                    text       subject  \\\n",
       "5920   WASHINGTON (Reuters) - U.S. President Donald T...  politicsNews   \n",
       "35726  How very progressive  After all, what would Su...      politics   \n",
       "31557  A woman who was born in Nazi Germany says that...      politics   \n",
       "42486  Full frontal Leftist propaganda As a side note...     left-news   \n",
       "31986  Alan Dershowitz schools his former student Jef...      politics   \n",
       "\n",
       "                    date  category  \\\n",
       "5920   January 27, 2017          0   \n",
       "35726        Feb 7, 2016         1   \n",
       "31557       Jul 20, 2017         1   \n",
       "42486       Nov 30, 2015         1   \n",
       "31986       May 27, 2017         1   \n",
       "\n",
       "                                              clean_text  \n",
       "5920   [washington, reuters, u, president, donald, tr...  \n",
       "35726  [progressive, would, super, bowl, sunday, with...  \n",
       "31557  [woman, born, nazi, germany, say, reminds, hit...  \n",
       "42486  [full, frontal, leftist, propaganda, side, not...  \n",
       "31986  [alan, dershowitz, school, former, student, je...  "
      ]
     },
     "execution_count": 20,
     "metadata": {},
     "output_type": "execute_result"
    }
   ],
   "source": [
    "data_reduced.head()"
   ]
  },
  {
   "cell_type": "code",
   "execution_count": 21,
   "id": "dcde56ed",
   "metadata": {},
   "outputs": [],
   "source": [
    "# Apply to all texts\n",
    "data_reduced['clean_text'] = data_reduced.text.apply(clean)\n",
    "# data['clean_text'] = data['clean_text'].astype('str')"
   ]
  },
  {
   "cell_type": "code",
   "execution_count": 24,
   "id": "982c5ca7",
   "metadata": {},
   "outputs": [
    {
     "data": {
      "text/html": [
       "<div>\n",
       "<style scoped>\n",
       "    .dataframe tbody tr th:only-of-type {\n",
       "        vertical-align: middle;\n",
       "    }\n",
       "\n",
       "    .dataframe tbody tr th {\n",
       "        vertical-align: top;\n",
       "    }\n",
       "\n",
       "    .dataframe thead th {\n",
       "        text-align: right;\n",
       "    }\n",
       "</style>\n",
       "<table border=\"1\" class=\"dataframe\">\n",
       "  <thead>\n",
       "    <tr style=\"text-align: right;\">\n",
       "      <th></th>\n",
       "      <th>index</th>\n",
       "      <th>title</th>\n",
       "      <th>text</th>\n",
       "      <th>subject</th>\n",
       "      <th>date</th>\n",
       "      <th>category</th>\n",
       "      <th>clean_text</th>\n",
       "    </tr>\n",
       "  </thead>\n",
       "  <tbody>\n",
       "    <tr>\n",
       "      <th>5920</th>\n",
       "      <td>5957</td>\n",
       "      <td>Trump says he had 'very good' call with Mexico...</td>\n",
       "      <td>WASHINGTON (Reuters) - U.S. President Donald T...</td>\n",
       "      <td>politicsNews</td>\n",
       "      <td>January 27, 2017</td>\n",
       "      <td>0</td>\n",
       "      <td>[washington, reuters, u, president, donald, tr...</td>\n",
       "    </tr>\n",
       "    <tr>\n",
       "      <th>35726</th>\n",
       "      <td>14517</td>\n",
       "      <td>WATCH: BEYONCE Performed This Sickening, Cop-H...</td>\n",
       "      <td>How very progressive  After all, what would Su...</td>\n",
       "      <td>politics</td>\n",
       "      <td>Feb 7, 2016</td>\n",
       "      <td>1</td>\n",
       "      <td>[progressive, would, super, bowl, sunday, with...</td>\n",
       "    </tr>\n",
       "    <tr>\n",
       "      <th>31557</th>\n",
       "      <td>10347</td>\n",
       "      <td>Woman Born In NAZI GERMANY Says Trump Doesn’t ...</td>\n",
       "      <td>A woman who was born in Nazi Germany says that...</td>\n",
       "      <td>politics</td>\n",
       "      <td>Jul 20, 2017</td>\n",
       "      <td>1</td>\n",
       "      <td>[woman, born, nazi, germany, say, reminds, hit...</td>\n",
       "    </tr>\n",
       "    <tr>\n",
       "      <th>42486</th>\n",
       "      <td>21278</td>\n",
       "      <td>New Batman Comic Features Batman Saving Black ...</td>\n",
       "      <td>Full frontal Leftist propaganda As a side note...</td>\n",
       "      <td>left-news</td>\n",
       "      <td>Nov 30, 2015</td>\n",
       "      <td>1</td>\n",
       "      <td>[full, frontal, leftist, propaganda, side, not...</td>\n",
       "    </tr>\n",
       "    <tr>\n",
       "      <th>31986</th>\n",
       "      <td>10776</td>\n",
       "      <td>DEMOCRAT ALAN DERSHOWITZ Schools Jeffrey Tubin...</td>\n",
       "      <td>Alan Dershowitz schools his former student Jef...</td>\n",
       "      <td>politics</td>\n",
       "      <td>May 27, 2017</td>\n",
       "      <td>1</td>\n",
       "      <td>[alan, dershowitz, school, former, student, je...</td>\n",
       "    </tr>\n",
       "  </tbody>\n",
       "</table>\n",
       "</div>"
      ],
      "text/plain": [
       "       index                                              title  \\\n",
       "5920    5957  Trump says he had 'very good' call with Mexico...   \n",
       "35726  14517  WATCH: BEYONCE Performed This Sickening, Cop-H...   \n",
       "31557  10347  Woman Born In NAZI GERMANY Says Trump Doesn’t ...   \n",
       "42486  21278  New Batman Comic Features Batman Saving Black ...   \n",
       "31986  10776  DEMOCRAT ALAN DERSHOWITZ Schools Jeffrey Tubin...   \n",
       "\n",
       "                                                    text       subject  \\\n",
       "5920   WASHINGTON (Reuters) - U.S. President Donald T...  politicsNews   \n",
       "35726  How very progressive  After all, what would Su...      politics   \n",
       "31557  A woman who was born in Nazi Germany says that...      politics   \n",
       "42486  Full frontal Leftist propaganda As a side note...     left-news   \n",
       "31986  Alan Dershowitz schools his former student Jef...      politics   \n",
       "\n",
       "                    date  category  \\\n",
       "5920   January 27, 2017          0   \n",
       "35726        Feb 7, 2016         1   \n",
       "31557       Jul 20, 2017         1   \n",
       "42486       Nov 30, 2015         1   \n",
       "31986       May 27, 2017         1   \n",
       "\n",
       "                                              clean_text  \n",
       "5920   [washington, reuters, u, president, donald, tr...  \n",
       "35726  [progressive, would, super, bowl, sunday, with...  \n",
       "31557  [woman, born, nazi, germany, say, reminds, hit...  \n",
       "42486  [full, frontal, leftist, propaganda, side, not...  \n",
       "31986  [alan, dershowitz, school, former, student, je...  "
      ]
     },
     "execution_count": 24,
     "metadata": {},
     "output_type": "execute_result"
    }
   ],
   "source": [
    "data_reduced.head()"
   ]
  },
  {
   "cell_type": "markdown",
   "id": "c54715c7",
   "metadata": {},
   "source": [
    "## Training"
   ]
  },
  {
   "cell_type": "code",
   "execution_count": 31,
   "id": "6bdfba1b",
   "metadata": {},
   "outputs": [
    {
     "name": "stdout",
     "output_type": "stream",
     "text": [
      "--------------------------------------------------------------------------------\n",
      "X shape: (1000,)\n",
      "y shape: (1000,)\n",
      "--------------------------------------------------------------------------------\n"
     ]
    }
   ],
   "source": [
    "X = data_reduced['clean_text'].copy()\n",
    "y = data_reduced['category'].copy()\n",
    "\n",
    "print('-'*80)\n",
    "print(f\"X shape: {X.shape}\")\n",
    "print(f\"y shape: {y.shape}\")\n",
    "print('-'*80)"
   ]
  },
  {
   "cell_type": "code",
   "execution_count": 33,
   "id": "f99b6fb8",
   "metadata": {},
   "outputs": [
    {
     "name": "stdout",
     "output_type": "stream",
     "text": [
      "--------------------------------------------------------------------------------\n",
      "X_train shape: (700,)\n",
      "y_train shape: (700,)\n",
      "--------------------------------------------------------------------------------\n",
      "X_test shape: (300,)\n",
      "y_test shape: (300,)\n",
      "--------------------------------------------------------------------------------\n"
     ]
    }
   ],
   "source": [
    "from sklearn.model_selection import train_test_split\n",
    "\n",
    "X_train, X_test, y_train, y_test = train_test_split(X, y, test_size=0.3, random_state=42)\n",
    "\n",
    "print('-'*80)\n",
    "print(f\"X_train shape: {X_train.shape}\")\n",
    "print(f\"y_train shape: {y_train.shape}\")\n",
    "print('-'*80)\n",
    "print(f\"X_test shape: {X_test.shape}\")\n",
    "print(f\"y_test shape: {y_test.shape}\")\n",
    "print('-'*80)"
   ]
  },
  {
   "cell_type": "markdown",
   "id": "e9cdd6b6",
   "metadata": {},
   "source": [
    "### sklearn - Naive Bayes"
   ]
  },
  {
   "cell_type": "code",
   "execution_count": 93,
   "id": "5db7f850",
   "metadata": {},
   "outputs": [
    {
     "ename": "KeyError",
     "evalue": "0",
     "output_type": "error",
     "traceback": [
      "\u001b[0;31m---------------------------------------------------------------------------\u001b[0m",
      "\u001b[0;31mKeyError\u001b[0m                                  Traceback (most recent call last)",
      "\u001b[0;32m~/.pyenv/versions/3.8.6/envs/StopFAIke/lib/python3.8/site-packages/pandas/core/indexes/base.py\u001b[0m in \u001b[0;36mget_loc\u001b[0;34m(self, key, method, tolerance)\u001b[0m\n\u001b[1;32m   3360\u001b[0m             \u001b[0;32mtry\u001b[0m\u001b[0;34m:\u001b[0m\u001b[0;34m\u001b[0m\u001b[0;34m\u001b[0m\u001b[0m\n\u001b[0;32m-> 3361\u001b[0;31m                 \u001b[0;32mreturn\u001b[0m \u001b[0mself\u001b[0m\u001b[0;34m.\u001b[0m\u001b[0m_engine\u001b[0m\u001b[0;34m.\u001b[0m\u001b[0mget_loc\u001b[0m\u001b[0;34m(\u001b[0m\u001b[0mcasted_key\u001b[0m\u001b[0;34m)\u001b[0m\u001b[0;34m\u001b[0m\u001b[0;34m\u001b[0m\u001b[0m\n\u001b[0m\u001b[1;32m   3362\u001b[0m             \u001b[0;32mexcept\u001b[0m \u001b[0mKeyError\u001b[0m \u001b[0;32mas\u001b[0m \u001b[0merr\u001b[0m\u001b[0;34m:\u001b[0m\u001b[0;34m\u001b[0m\u001b[0;34m\u001b[0m\u001b[0m\n",
      "\u001b[0;32m~/.pyenv/versions/3.8.6/envs/StopFAIke/lib/python3.8/site-packages/pandas/_libs/index.pyx\u001b[0m in \u001b[0;36mpandas._libs.index.IndexEngine.get_loc\u001b[0;34m()\u001b[0m\n",
      "\u001b[0;32m~/.pyenv/versions/3.8.6/envs/StopFAIke/lib/python3.8/site-packages/pandas/_libs/index.pyx\u001b[0m in \u001b[0;36mpandas._libs.index.IndexEngine.get_loc\u001b[0;34m()\u001b[0m\n",
      "\u001b[0;32mpandas/_libs/hashtable_class_helper.pxi\u001b[0m in \u001b[0;36mpandas._libs.hashtable.Int64HashTable.get_item\u001b[0;34m()\u001b[0m\n",
      "\u001b[0;32mpandas/_libs/hashtable_class_helper.pxi\u001b[0m in \u001b[0;36mpandas._libs.hashtable.Int64HashTable.get_item\u001b[0;34m()\u001b[0m\n",
      "\u001b[0;31mKeyError\u001b[0m: 0",
      "\nThe above exception was the direct cause of the following exception:\n",
      "\u001b[0;31mKeyError\u001b[0m                                  Traceback (most recent call last)",
      "\u001b[0;32m/var/folders/wt/qw732brs7m799f67rntt1n180000gn/T/ipykernel_48211/4158994682.py\u001b[0m in \u001b[0;36m<module>\u001b[0;34m\u001b[0m\n\u001b[1;32m      5\u001b[0m \u001b[0mvectorizer\u001b[0m \u001b[0;34m=\u001b[0m \u001b[0mCountVectorizer\u001b[0m\u001b[0;34m(\u001b[0m\u001b[0;34m)\u001b[0m\u001b[0;34m\u001b[0m\u001b[0;34m\u001b[0m\u001b[0m\n\u001b[1;32m      6\u001b[0m \u001b[0;34m\u001b[0m\u001b[0m\n\u001b[0;32m----> 7\u001b[0;31m \u001b[0mX_train_vec\u001b[0m \u001b[0;34m=\u001b[0m \u001b[0mvectorizer\u001b[0m\u001b[0;34m.\u001b[0m\u001b[0mfit_transform\u001b[0m\u001b[0;34m(\u001b[0m\u001b[0mX_train\u001b[0m\u001b[0;34m[\u001b[0m\u001b[0;36m0\u001b[0m\u001b[0;34m]\u001b[0m\u001b[0;34m)\u001b[0m\u001b[0;34m\u001b[0m\u001b[0;34m\u001b[0m\u001b[0m\n\u001b[0m\u001b[1;32m      8\u001b[0m \u001b[0;34m\u001b[0m\u001b[0m\n\u001b[1;32m      9\u001b[0m \u001b[0;31m# cv_nb = cross_validate( MultinomialNB(), X_bow, data.target, scoring = \"accuracy\")\u001b[0m\u001b[0;34m\u001b[0m\u001b[0;34m\u001b[0m\u001b[0;34m\u001b[0m\u001b[0m\n",
      "\u001b[0;32m~/.pyenv/versions/3.8.6/envs/StopFAIke/lib/python3.8/site-packages/pandas/core/series.py\u001b[0m in \u001b[0;36m__getitem__\u001b[0;34m(self, key)\u001b[0m\n\u001b[1;32m    940\u001b[0m \u001b[0;34m\u001b[0m\u001b[0m\n\u001b[1;32m    941\u001b[0m         \u001b[0;32melif\u001b[0m \u001b[0mkey_is_scalar\u001b[0m\u001b[0;34m:\u001b[0m\u001b[0;34m\u001b[0m\u001b[0;34m\u001b[0m\u001b[0m\n\u001b[0;32m--> 942\u001b[0;31m             \u001b[0;32mreturn\u001b[0m \u001b[0mself\u001b[0m\u001b[0;34m.\u001b[0m\u001b[0m_get_value\u001b[0m\u001b[0;34m(\u001b[0m\u001b[0mkey\u001b[0m\u001b[0;34m)\u001b[0m\u001b[0;34m\u001b[0m\u001b[0;34m\u001b[0m\u001b[0m\n\u001b[0m\u001b[1;32m    943\u001b[0m \u001b[0;34m\u001b[0m\u001b[0m\n\u001b[1;32m    944\u001b[0m         \u001b[0;32mif\u001b[0m \u001b[0mis_hashable\u001b[0m\u001b[0;34m(\u001b[0m\u001b[0mkey\u001b[0m\u001b[0;34m)\u001b[0m\u001b[0;34m:\u001b[0m\u001b[0;34m\u001b[0m\u001b[0;34m\u001b[0m\u001b[0m\n",
      "\u001b[0;32m~/.pyenv/versions/3.8.6/envs/StopFAIke/lib/python3.8/site-packages/pandas/core/series.py\u001b[0m in \u001b[0;36m_get_value\u001b[0;34m(self, label, takeable)\u001b[0m\n\u001b[1;32m   1049\u001b[0m \u001b[0;34m\u001b[0m\u001b[0m\n\u001b[1;32m   1050\u001b[0m         \u001b[0;31m# Similar to Index.get_value, but we do not fall back to positional\u001b[0m\u001b[0;34m\u001b[0m\u001b[0;34m\u001b[0m\u001b[0;34m\u001b[0m\u001b[0m\n\u001b[0;32m-> 1051\u001b[0;31m         \u001b[0mloc\u001b[0m \u001b[0;34m=\u001b[0m \u001b[0mself\u001b[0m\u001b[0;34m.\u001b[0m\u001b[0mindex\u001b[0m\u001b[0;34m.\u001b[0m\u001b[0mget_loc\u001b[0m\u001b[0;34m(\u001b[0m\u001b[0mlabel\u001b[0m\u001b[0;34m)\u001b[0m\u001b[0;34m\u001b[0m\u001b[0;34m\u001b[0m\u001b[0m\n\u001b[0m\u001b[1;32m   1052\u001b[0m         \u001b[0;32mreturn\u001b[0m \u001b[0mself\u001b[0m\u001b[0;34m.\u001b[0m\u001b[0mindex\u001b[0m\u001b[0;34m.\u001b[0m\u001b[0m_get_values_for_loc\u001b[0m\u001b[0;34m(\u001b[0m\u001b[0mself\u001b[0m\u001b[0;34m,\u001b[0m \u001b[0mloc\u001b[0m\u001b[0;34m,\u001b[0m \u001b[0mlabel\u001b[0m\u001b[0;34m)\u001b[0m\u001b[0;34m\u001b[0m\u001b[0;34m\u001b[0m\u001b[0m\n\u001b[1;32m   1053\u001b[0m \u001b[0;34m\u001b[0m\u001b[0m\n",
      "\u001b[0;32m~/.pyenv/versions/3.8.6/envs/StopFAIke/lib/python3.8/site-packages/pandas/core/indexes/base.py\u001b[0m in \u001b[0;36mget_loc\u001b[0;34m(self, key, method, tolerance)\u001b[0m\n\u001b[1;32m   3361\u001b[0m                 \u001b[0;32mreturn\u001b[0m \u001b[0mself\u001b[0m\u001b[0;34m.\u001b[0m\u001b[0m_engine\u001b[0m\u001b[0;34m.\u001b[0m\u001b[0mget_loc\u001b[0m\u001b[0;34m(\u001b[0m\u001b[0mcasted_key\u001b[0m\u001b[0;34m)\u001b[0m\u001b[0;34m\u001b[0m\u001b[0;34m\u001b[0m\u001b[0m\n\u001b[1;32m   3362\u001b[0m             \u001b[0;32mexcept\u001b[0m \u001b[0mKeyError\u001b[0m \u001b[0;32mas\u001b[0m \u001b[0merr\u001b[0m\u001b[0;34m:\u001b[0m\u001b[0;34m\u001b[0m\u001b[0;34m\u001b[0m\u001b[0m\n\u001b[0;32m-> 3363\u001b[0;31m                 \u001b[0;32mraise\u001b[0m \u001b[0mKeyError\u001b[0m\u001b[0;34m(\u001b[0m\u001b[0mkey\u001b[0m\u001b[0;34m)\u001b[0m \u001b[0;32mfrom\u001b[0m \u001b[0merr\u001b[0m\u001b[0;34m\u001b[0m\u001b[0;34m\u001b[0m\u001b[0m\n\u001b[0m\u001b[1;32m   3364\u001b[0m \u001b[0;34m\u001b[0m\u001b[0m\n\u001b[1;32m   3365\u001b[0m         \u001b[0;32mif\u001b[0m \u001b[0mis_scalar\u001b[0m\u001b[0;34m(\u001b[0m\u001b[0mkey\u001b[0m\u001b[0;34m)\u001b[0m \u001b[0;32mand\u001b[0m \u001b[0misna\u001b[0m\u001b[0;34m(\u001b[0m\u001b[0mkey\u001b[0m\u001b[0;34m)\u001b[0m \u001b[0;32mand\u001b[0m \u001b[0;32mnot\u001b[0m \u001b[0mself\u001b[0m\u001b[0;34m.\u001b[0m\u001b[0mhasnans\u001b[0m\u001b[0;34m:\u001b[0m\u001b[0;34m\u001b[0m\u001b[0;34m\u001b[0m\u001b[0m\n",
      "\u001b[0;31mKeyError\u001b[0m: 0"
     ]
    }
   ],
   "source": [
    "from sklearn.feature_extraction.text import CountVectorizer\n",
    "from sklearn.naive_bayes import MultinomialNB\n",
    "from sklearn.model_selection import cross_validate\n",
    "\n",
    "vectorizer = CountVectorizer()\n",
    "\n",
    "X_train_vec = vectorizer.fit_transform(X_train[0])\n",
    "\n",
    "# cv_nb = cross_validate( MultinomialNB(), X_bow, data.target, scoring = \"accuracy\")\n",
    "\n",
    "# cv_nb['test_score'].mean()\n",
    "\n",
    "\n"
   ]
  },
  {
   "cell_type": "code",
   "execution_count": null,
   "id": "65cce3b7",
   "metadata": {},
   "outputs": [],
   "source": []
  },
  {
   "cell_type": "code",
   "execution_count": null,
   "id": "8229f8af",
   "metadata": {},
   "outputs": [],
   "source": []
  },
  {
   "cell_type": "code",
   "execution_count": null,
   "id": "7da9273d",
   "metadata": {},
   "outputs": [],
   "source": []
  },
  {
   "cell_type": "markdown",
   "id": "2f8ff9ae",
   "metadata": {},
   "source": [
    "### Tokenizer"
   ]
  },
  {
   "cell_type": "code",
   "execution_count": 35,
   "id": "cf518827",
   "metadata": {},
   "outputs": [
    {
     "name": "stdout",
     "output_type": "stream",
     "text": [
      "--------------------------------------------------------------------------------\n",
      "X_train_token shape: 700\n",
      "X_test_token shape: 300\n",
      "--------------------------------------------------------------------------------\n"
     ]
    }
   ],
   "source": [
    "from tensorflow.keras.preprocessing.text import Tokenizer\n",
    "\n",
    "# This initializes a Keras utilities that does all the tokenization for you\n",
    "tokenizer = Tokenizer()\n",
    "\n",
    "# The tokenization learns a dictionnary that maps a token (integer) to each word\n",
    "# It can be done only on the train set - we are not supposed to know the test set !\n",
    "# This tokenization also lower your words, apply some filters, and so on - you can check the doc if you want\n",
    "tokenizer.fit_on_texts(X_train)\n",
    "    \n",
    "# We apply the tokenization to the train and test set\n",
    "X_train_token = tokenizer.texts_to_sequences(X_train)\n",
    "X_test_token = tokenizer.texts_to_sequences(X_test)\n",
    "\n",
    "print('-'*80)\n",
    "print(f\"X_train_token shape: {len(X_train_token)}\")\n",
    "print(f\"X_test_token shape: {len(X_test_token)}\")\n",
    "print('-'*80)"
   ]
  },
  {
   "cell_type": "code",
   "execution_count": 40,
   "id": "422cd2a4",
   "metadata": {},
   "outputs": [
    {
     "name": "stdout",
     "output_type": "stream",
     "text": [
      "--------------------------------------------------------------------------------\n",
      "vocab_size: 16130\n",
      "--------------------------------------------------------------------------------\n"
     ]
    }
   ],
   "source": [
    "vocab_size = len(tokenizer.word_index)\n",
    "\n",
    "print('-'*80)\n",
    "print(f\"vocab_size: {vocab_size}\")\n",
    "print('-'*80)"
   ]
  },
  {
   "cell_type": "markdown",
   "id": "f9f4a90e",
   "metadata": {},
   "source": [
    "### Padding"
   ]
  },
  {
   "cell_type": "code",
   "execution_count": 41,
   "id": "4d487b0b",
   "metadata": {},
   "outputs": [
    {
     "name": "stdout",
     "output_type": "stream",
     "text": [
      "--------------------------------------------------------------------------------\n",
      "X_train_pad shape: (700, 2037)\n",
      "y_train shape: 700\n",
      "--------------------------------------------------------------------------------\n",
      "X_test_pad shape: (300, 1721)\n",
      "y_test shape: 300\n",
      "--------------------------------------------------------------------------------\n"
     ]
    }
   ],
   "source": [
    "from tensorflow.keras.preprocessing.sequence import pad_sequences\n",
    "\n",
    "X_train_pad = pad_sequences(X_train_token, dtype='float32', padding='post')\n",
    "X_test_pad = pad_sequences(X_test_token, dtype='float32', padding='post')\n",
    "# X_test_pad = pad_sequences(X_test_token, maxlen=X_train_pad.shape[1], dtype='float32', padding='post')\n",
    "\n",
    "print('-'*80)\n",
    "print(f\"X_train_pad shape: {X_train_pad.shape}\")\n",
    "print(f\"y_train shape: {len(y_train)}\")\n",
    "print('-'*80)\n",
    "print(f\"X_test_pad shape: {X_test_pad.shape}\")\n",
    "print(f\"y_test shape: {len(y_test)}\")\n",
    "print('-'*80)"
   ]
  },
  {
   "cell_type": "markdown",
   "id": "c7af2098",
   "metadata": {},
   "source": [
    "### Tensorflow - embedding layer included"
   ]
  },
  {
   "cell_type": "code",
   "execution_count": 45,
   "id": "bb96bcd8",
   "metadata": {},
   "outputs": [],
   "source": [
    "def init_model():\n",
    "\n",
    "    embedding_size = 5\n",
    "\n",
    "    model = tf.keras.models.Sequential()\n",
    "    model.add(tf.keras.layers.Embedding(\n",
    "        input_dim = vocab_size+1,\n",
    "        input_length = 2037, # Max_sentence_length (optional, for model summary)\n",
    "        output_dim = embedding_size,# 100\n",
    "        mask_zero = True, # Included masking layer :)\n",
    "    ))\n",
    "\n",
    "    model.add(tf.keras.layers.LSTM(20, activation='tanh'))\n",
    "    model.add(tf.keras.layers.Dense(5, activation='relu'))\n",
    "    model.add(tf.keras.layers.Dense(1, activation=\"sigmoid\"))\n",
    "\n",
    "    model.compile(loss='binary_crossentropy',\n",
    "                  optimizer='rmsprop',\n",
    "                  metrics=['accuracy'])\n",
    "    \n",
    "    return model"
   ]
  },
  {
   "cell_type": "code",
   "execution_count": 46,
   "id": "5834293f",
   "metadata": {},
   "outputs": [
    {
     "name": "stderr",
     "output_type": "stream",
     "text": [
      "2021-08-17 20:04:59.709124: I tensorflow/core/platform/cpu_feature_guard.cc:142] This TensorFlow binary is optimized with oneAPI Deep Neural Network Library (oneDNN) to use the following CPU instructions in performance-critical operations:  AVX2 FMA\n",
      "To enable them in other operations, rebuild TensorFlow with the appropriate compiler flags.\n"
     ]
    },
    {
     "name": "stdout",
     "output_type": "stream",
     "text": [
      "Model: \"sequential\"\n",
      "_________________________________________________________________\n",
      "Layer (type)                 Output Shape              Param #   \n",
      "=================================================================\n",
      "embedding (Embedding)        (None, 2037, 5)           80655     \n",
      "_________________________________________________________________\n",
      "lstm (LSTM)                  (None, 20)                2080      \n",
      "_________________________________________________________________\n",
      "dense (Dense)                (None, 5)                 105       \n",
      "_________________________________________________________________\n",
      "dense_1 (Dense)              (None, 1)                 6         \n",
      "=================================================================\n",
      "Total params: 82,846\n",
      "Trainable params: 82,846\n",
      "Non-trainable params: 0\n",
      "_________________________________________________________________\n"
     ]
    }
   ],
   "source": [
    "init_model().summary()"
   ]
  },
  {
   "cell_type": "code",
   "execution_count": 48,
   "id": "650f4d42",
   "metadata": {},
   "outputs": [
    {
     "name": "stdout",
     "output_type": "stream",
     "text": [
      "Epoch 1/20\n",
      "9/9 [==============================] - 10s 824ms/step - loss: 0.6917 - accuracy: 0.5357 - val_loss: 0.6925 - val_accuracy: 0.4714\n",
      "Epoch 2/20\n",
      "9/9 [==============================] - 6s 715ms/step - loss: 0.6851 - accuracy: 0.5286 - val_loss: 0.6867 - val_accuracy: 0.4714\n",
      "Epoch 3/20\n",
      "9/9 [==============================] - 7s 727ms/step - loss: 0.6688 - accuracy: 0.5482 - val_loss: 0.6715 - val_accuracy: 0.4714\n",
      "Epoch 4/20\n",
      "9/9 [==============================] - 7s 740ms/step - loss: 0.6378 - accuracy: 0.5268 - val_loss: 0.5846 - val_accuracy: 0.4571\n",
      "Epoch 5/20\n",
      "9/9 [==============================] - 7s 737ms/step - loss: 0.5181 - accuracy: 0.7589 - val_loss: 0.6369 - val_accuracy: 0.5929\n",
      "Epoch 6/20\n",
      "9/9 [==============================] - 7s 745ms/step - loss: 0.4833 - accuracy: 0.9179 - val_loss: 0.4914 - val_accuracy: 0.7643\n",
      "Epoch 7/20\n",
      "9/9 [==============================] - 6s 725ms/step - loss: 0.4436 - accuracy: 0.9625 - val_loss: 0.4732 - val_accuracy: 0.8071\n",
      "Epoch 8/20\n",
      "9/9 [==============================] - 6s 716ms/step - loss: 0.4115 - accuracy: 0.9750 - val_loss: 0.4788 - val_accuracy: 0.9214\n",
      "Epoch 9/20\n",
      "9/9 [==============================] - 7s 736ms/step - loss: 0.3500 - accuracy: 0.9857 - val_loss: 0.4316 - val_accuracy: 0.8929\n",
      "Epoch 10/20\n",
      "9/9 [==============================] - 7s 726ms/step - loss: 0.3317 - accuracy: 0.9839 - val_loss: 0.4260 - val_accuracy: 0.9143\n",
      "Epoch 11/20\n",
      "9/9 [==============================] - 6s 719ms/step - loss: 0.3133 - accuracy: 0.9875 - val_loss: 0.4161 - val_accuracy: 0.9286\n",
      "Epoch 12/20\n",
      "9/9 [==============================] - 7s 741ms/step - loss: 0.2966 - accuracy: 0.9875 - val_loss: 0.4015 - val_accuracy: 0.9429\n",
      "Epoch 13/20\n",
      "9/9 [==============================] - 7s 812ms/step - loss: 0.2926 - accuracy: 0.9857 - val_loss: 0.4048 - val_accuracy: 0.9429\n",
      "Epoch 14/20\n",
      "9/9 [==============================] - 7s 780ms/step - loss: 0.2568 - accuracy: 0.9821 - val_loss: 0.3781 - val_accuracy: 0.9286\n",
      "Epoch 15/20\n",
      "9/9 [==============================] - 7s 773ms/step - loss: 0.2331 - accuracy: 0.9714 - val_loss: 0.3342 - val_accuracy: 0.8857\n",
      "Epoch 16/20\n",
      "9/9 [==============================] - 7s 773ms/step - loss: 0.1960 - accuracy: 0.9571 - val_loss: 0.3272 - val_accuracy: 0.9071\n",
      "Epoch 17/20\n",
      "9/9 [==============================] - 6s 719ms/step - loss: 0.1584 - accuracy: 0.9643 - val_loss: 0.3109 - val_accuracy: 0.9071\n",
      "Epoch 18/20\n",
      "9/9 [==============================] - 7s 730ms/step - loss: 0.1467 - accuracy: 0.9607 - val_loss: 0.3203 - val_accuracy: 0.9000\n",
      "Epoch 19/20\n",
      "9/9 [==============================] - 6s 720ms/step - loss: 0.1442 - accuracy: 0.9571 - val_loss: 0.3614 - val_accuracy: 0.8929\n",
      "Epoch 20/20\n",
      "9/9 [==============================] - 6s 711ms/step - loss: 0.1445 - accuracy: 0.9571 - val_loss: 0.3599 - val_accuracy: 0.8929\n"
     ]
    }
   ],
   "source": [
    "es = tf.keras.callbacks.EarlyStopping(monitor='val_loss', patience=10, restore_best_weights=True)\n",
    "\n",
    "model = init_model()\n",
    "\n",
    "history = model.fit(X_train_pad, \n",
    "                  y_train,\n",
    "                  validation_split=0.2,\n",
    "                  batch_size=64,\n",
    "                  epochs=20, \n",
    "                  callbacks=[es],\n",
    "                  verbose=1)"
   ]
  },
  {
   "cell_type": "code",
   "execution_count": 56,
   "id": "9906b0e6",
   "metadata": {},
   "outputs": [],
   "source": [
    "def plot_loss(history, title=None):\n",
    "    fig, (ax1, ax2) = plt.subplots(1,2, figsize=(13,4))\n",
    "    ax1.plot(history.history['loss'])\n",
    "    ax1.plot(history.history['val_loss'])\n",
    "    ax1.set_title('Model loss')\n",
    "    ax1.set_ylabel('Loss')\n",
    "    ax1.set_xlabel('Epoch')\n",
    "    ax1.set_ylim(ymin=0, ymax=1)\n",
    "    ax1.legend(['Train', 'Validation'], loc='best')\n",
    "\n",
    "    ax2.plot(history.history['accuracy'])\n",
    "    ax2.plot(history.history['val_accuracy'])\n",
    "    ax2.set_title('ACC')\n",
    "    ax2.set_ylabel('ACC')\n",
    "    ax2.set_xlabel('Epoch')\n",
    "    ax2.set_ylim(ymin=0, ymax=1)\n",
    "    ax2.legend(['Train', 'Validation'], loc='best')\n",
    "    if title:\n",
    "        fig.suptitle(title)\n",
    "    plt.show()"
   ]
  },
  {
   "cell_type": "code",
   "execution_count": 57,
   "id": "9b159d5d",
   "metadata": {},
   "outputs": [
    {
     "data": {
      "image/png": "[encoded data removed]",
      "text/plain": [
       "<Figure size 936x288 with 2 Axes>"
      ]
     },
     "metadata": {
      "needs_background": "light"
     },
     "output_type": "display_data"
    }
   ],
   "source": [
    "plot_loss(history, title=None)"
   ]
  },
  {
   "cell_type": "code",
   "execution_count": 58,
   "id": "05311ade",
   "metadata": {},
   "outputs": [
    {
     "name": "stdout",
     "output_type": "stream",
     "text": [
      "WARNING:tensorflow:Model was constructed with shape (None, 2037) for input KerasTensor(type_spec=TensorSpec(shape=(None, 2037), dtype=tf.float32, name='embedding_2_input'), name='embedding_2_input', description=\"created by layer 'embedding_2_input'\"), but it was called on an input with incompatible shape (None, 1721).\n",
      "10/10 [==============================] - 2s 81ms/step - loss: 0.2983 - accuracy: 0.9133 0s - loss: 0.4399 - \n",
      "--------------------------------------------------------------------------------\n",
      "test score (MAPE): 0.913\n",
      "--------------------------------------------------------------------------------\n"
     ]
    }
   ],
   "source": [
    "results = model.evaluate(X_test_pad, y_test)\n",
    "\n",
    "print('-'*80)\n",
    "print(f\"test score (MAPE): {results[1]:.3f}\")\n",
    "print('-'*80)"
   ]
  },
  {
   "cell_type": "markdown",
   "id": "c151ee2c",
   "metadata": {},
   "source": [
    "### Word2Vec"
   ]
  },
  {
   "cell_type": "code",
   "execution_count": 60,
   "id": "0b45571e",
   "metadata": {},
   "outputs": [
    {
     "name": "stdout",
     "output_type": "stream",
     "text": [
      "--------------------------------------------------------------------------------\n",
      "X_train vocabulary size: 16130\n",
      "word2vec vocabulary size: 2864\n",
      "--------------------------------------------------------------------------------\n"
     ]
    }
   ],
   "source": [
    "from gensim.models import Word2Vec\n",
    "\n",
    "word2vec = Word2Vec(sentences=X_train, vector_size=10, min_count=10, window=10)\n",
    "\n",
    "unique = set([_ for elt in X_train for _ in elt])\n",
    "\n",
    "print('-'*80)\n",
    "print(f\"X_train vocabulary size: {len(unique)}\")\n",
    "print(f\"word2vec vocabulary size: {len(word2vec.wv.key_to_index)}\")    \n",
    "print('-'*80)"
   ]
  },
  {
   "cell_type": "code",
   "execution_count": 61,
   "id": "05c2fa5d",
   "metadata": {},
   "outputs": [],
   "source": [
    "def embed_sentence(word2vec, sentence):\n",
    "    embed_matrix = []\n",
    "    for word in sentence:\n",
    "        if word in word2vec.wv.key_to_index:\n",
    "            embed_matrix.append(word2vec.wv[word])\n",
    "    return np.array(embed_matrix)\n",
    "\n",
    "def embedding(word2vec, sentences):\n",
    "    return [embed_sentence(word2vec, sentence) for sentence in sentences]"
   ]
  },
  {
   "cell_type": "code",
   "execution_count": 67,
   "id": "f33eafa6",
   "metadata": {},
   "outputs": [
    {
     "data": {
      "text/plain": [
       "(38, 10)"
      ]
     },
     "execution_count": 67,
     "metadata": {},
     "output_type": "execute_result"
    }
   ],
   "source": [
    "X_train_embed = embedding(word2vec, X_train)\n",
    "X_test_embed = embedding(word2vec, X_test)\n",
    "\n",
    "X_train_embed[0].shape"
   ]
  },
  {
   "cell_type": "code",
   "execution_count": 69,
   "id": "2c161636",
   "metadata": {},
   "outputs": [
    {
     "name": "stdout",
     "output_type": "stream",
     "text": [
      "--------------------------------------------------------------------------------\n",
      "X_train_pad shape: (700, 1625, 10)\n",
      "y_train shape: 700\n",
      "--------------------------------------------------------------------------------\n",
      "X_test_pad shape: (300, 1365, 10)\n",
      "y_test shape: 300\n",
      "--------------------------------------------------------------------------------\n"
     ]
    }
   ],
   "source": [
    "X_train_pad = pad_sequences(X_train_embed, dtype='float32', padding='post')\n",
    "X_test_pad = pad_sequences(X_test_embed, dtype='float32', padding='post')\n",
    "# X_test_pad = pad_sequences(X_test_token, maxlen=X_train_pad.shape[1], dtype='float32', padding='post')\n",
    "\n",
    "print('-'*80)\n",
    "print(f\"X_train_pad shape: {X_train_pad.shape}\")\n",
    "print(f\"y_train shape: {len(y_train)}\")\n",
    "print('-'*80)\n",
    "print(f\"X_test_pad shape: {X_test_pad.shape}\")\n",
    "print(f\"y_test shape: {len(y_test)}\")\n",
    "print('-'*80)"
   ]
  },
  {
   "cell_type": "markdown",
   "id": "ed3f27a6",
   "metadata": {},
   "source": [
    "### Tensorflow - Word2Vec"
   ]
  },
  {
   "cell_type": "code",
   "execution_count": 81,
   "id": "9bd68d7d",
   "metadata": {},
   "outputs": [],
   "source": [
    "def init_model():\n",
    "\n",
    "    embedding_size = 10\n",
    "\n",
    "    model = tf.keras.models.Sequential()\n",
    "    model.add(tf.keras.layers.Masking())\n",
    "    model.add(tf.keras.layers.LSTM(20, activation='tanh'))\n",
    "    model.add(tf.keras.layers.Dense(5, activation='relu'))\n",
    "    model.add(tf.keras.layers.Dense(1, activation=\"sigmoid\"))\n",
    "\n",
    "    model.compile(loss='binary_crossentropy',\n",
    "                  optimizer='rmsprop',\n",
    "                  metrics=['accuracy'])\n",
    "    \n",
    "    return model"
   ]
  },
  {
   "cell_type": "code",
   "execution_count": 86,
   "id": "ff7c51fc",
   "metadata": {},
   "outputs": [
    {
     "name": "stdout",
     "output_type": "stream",
     "text": [
      "Epoch 1/30\n",
      "9/9 [==============================] - 9s 650ms/step - loss: 0.6458 - accuracy: 0.6982 - val_loss: 0.5775 - val_accuracy: 0.8143\n",
      "Epoch 2/30\n",
      "9/9 [==============================] - 5s 547ms/step - loss: 0.5841 - accuracy: 0.7946 - val_loss: 0.5083 - val_accuracy: 0.8643\n",
      "Epoch 3/30\n",
      "9/9 [==============================] - 5s 543ms/step - loss: 0.5079 - accuracy: 0.8446 - val_loss: 0.4035 - val_accuracy: 0.8786\n",
      "Epoch 4/30\n",
      "9/9 [==============================] - 5s 539ms/step - loss: 0.4188 - accuracy: 0.8786 - val_loss: 0.3414 - val_accuracy: 0.9000\n",
      "Epoch 5/30\n",
      "9/9 [==============================] - 5s 570ms/step - loss: 0.3687 - accuracy: 0.8929 - val_loss: 0.3012 - val_accuracy: 0.9214\n",
      "Epoch 6/30\n",
      "9/9 [==============================] - 5s 572ms/step - loss: 0.3459 - accuracy: 0.8982 - val_loss: 0.3296 - val_accuracy: 0.8786\n",
      "Epoch 7/30\n",
      "9/9 [==============================] - 5s 572ms/step - loss: 0.3511 - accuracy: 0.8786 - val_loss: 0.2713 - val_accuracy: 0.9143\n",
      "Epoch 8/30\n",
      "9/9 [==============================] - 5s 553ms/step - loss: 0.2942 - accuracy: 0.9089 - val_loss: 0.3283 - val_accuracy: 0.8714\n",
      "Epoch 9/30\n",
      "9/9 [==============================] - 5s 548ms/step - loss: 0.2811 - accuracy: 0.9107 - val_loss: 0.2424 - val_accuracy: 0.9286\n",
      "Epoch 10/30\n",
      "9/9 [==============================] - 5s 559ms/step - loss: 0.3404 - accuracy: 0.8857 - val_loss: 0.2492 - val_accuracy: 0.9214\n",
      "Epoch 11/30\n",
      "9/9 [==============================] - 5s 560ms/step - loss: 0.2958 - accuracy: 0.8946 - val_loss: 0.2279 - val_accuracy: 0.9286\n",
      "Epoch 12/30\n",
      "9/9 [==============================] - 5s 577ms/step - loss: 0.2654 - accuracy: 0.9107 - val_loss: 0.2028 - val_accuracy: 0.9500\n",
      "Epoch 13/30\n",
      "9/9 [==============================] - 5s 570ms/step - loss: 0.2169 - accuracy: 0.9375 - val_loss: 0.3068 - val_accuracy: 0.9071\n",
      "Epoch 14/30\n",
      "9/9 [==============================] - 5s 551ms/step - loss: 0.2549 - accuracy: 0.9250 - val_loss: 0.2981 - val_accuracy: 0.9071\n",
      "Epoch 15/30\n",
      "9/9 [==============================] - 5s 547ms/step - loss: 0.2612 - accuracy: 0.9161 - val_loss: 0.2891 - val_accuracy: 0.9000\n",
      "Epoch 16/30\n",
      "9/9 [==============================] - 5s 551ms/step - loss: 0.2440 - accuracy: 0.9179 - val_loss: 0.1753 - val_accuracy: 0.9571\n",
      "Epoch 17/30\n",
      "9/9 [==============================] - 5s 581ms/step - loss: 0.2113 - accuracy: 0.9339 - val_loss: 0.2418 - val_accuracy: 0.9286\n",
      "Epoch 18/30\n",
      "9/9 [==============================] - 5s 565ms/step - loss: 0.2802 - accuracy: 0.9054 - val_loss: 0.1630 - val_accuracy: 0.9571\n",
      "Epoch 19/30\n",
      "9/9 [==============================] - 5s 559ms/step - loss: 0.2208 - accuracy: 0.9250 - val_loss: 0.2518 - val_accuracy: 0.9357\n",
      "Epoch 20/30\n",
      "9/9 [==============================] - 5s 557ms/step - loss: 0.2113 - accuracy: 0.9393 - val_loss: 0.2086 - val_accuracy: 0.9500\n",
      "Epoch 21/30\n",
      "9/9 [==============================] - 5s 548ms/step - loss: 0.2035 - accuracy: 0.9429 - val_loss: 0.1996 - val_accuracy: 0.9500\n",
      "Epoch 22/30\n",
      "9/9 [==============================] - 5s 546ms/step - loss: 0.1976 - accuracy: 0.9411 - val_loss: 0.1660 - val_accuracy: 0.9571\n",
      "Epoch 23/30\n",
      "9/9 [==============================] - 5s 551ms/step - loss: 0.1795 - accuracy: 0.9500 - val_loss: 0.1829 - val_accuracy: 0.9500\n",
      "Epoch 24/30\n",
      "9/9 [==============================] - 5s 547ms/step - loss: 0.2306 - accuracy: 0.9250 - val_loss: 0.1728 - val_accuracy: 0.9500\n",
      "Epoch 25/30\n",
      "9/9 [==============================] - 5s 545ms/step - loss: 0.1769 - accuracy: 0.9464 - val_loss: 0.1809 - val_accuracy: 0.9500\n",
      "Epoch 26/30\n",
      "9/9 [==============================] - 5s 546ms/step - loss: 0.1895 - accuracy: 0.9446 - val_loss: 0.1792 - val_accuracy: 0.9500\n",
      "Epoch 27/30\n",
      "9/9 [==============================] - 5s 552ms/step - loss: 0.2045 - accuracy: 0.9375 - val_loss: 0.1787 - val_accuracy: 0.9429\n",
      "Epoch 28/30\n",
      "9/9 [==============================] - 5s 554ms/step - loss: 0.1832 - accuracy: 0.9393 - val_loss: 0.1997 - val_accuracy: 0.9429\n"
     ]
    }
   ],
   "source": [
    "es = tf.keras.callbacks.EarlyStopping(monitor='val_loss', patience=10, restore_best_weights=True)\n",
    "\n",
    "model = init_model()\n",
    "\n",
    "history = model.fit(X_train_pad, \n",
    "                  y_train,\n",
    "                  validation_split=0.2,\n",
    "                  batch_size=64,\n",
    "                  epochs=30, \n",
    "                  callbacks=[es],\n",
    "                  verbose=1)"
   ]
  },
  {
   "cell_type": "code",
   "execution_count": 87,
   "id": "3981298c",
   "metadata": {},
   "outputs": [],
   "source": [
    "def plot_loss(history, title=None):\n",
    "    fig, (ax1, ax2) = plt.subplots(1,2, figsize=(13,4))\n",
    "    ax1.plot(history.history['loss'])\n",
    "    ax1.plot(history.history['val_loss'])\n",
    "    ax1.set_title('Model loss')\n",
    "    ax1.set_ylabel('Loss')\n",
    "    ax1.set_xlabel('Epoch')\n",
    "    ax1.set_ylim(ymin=0, ymax=1)\n",
    "    ax1.legend(['Train', 'Validation'], loc='best')\n",
    "\n",
    "    ax2.plot(history.history['accuracy'])\n",
    "    ax2.plot(history.history['val_accuracy'])\n",
    "    ax2.set_title('ACC')\n",
    "    ax2.set_ylabel('ACC')\n",
    "    ax2.set_xlabel('Epoch')\n",
    "    ax2.set_ylim(ymin=0, ymax=1)\n",
    "    ax2.legend(['Train', 'Validation'], loc='best')\n",
    "    if title:\n",
    "        fig.suptitle(title)\n",
    "    plt.show()"
   ]
  },
  {
   "cell_type": "code",
   "execution_count": 88,
   "id": "67e6e96f",
   "metadata": {},
   "outputs": [
    {
     "data": {
      "image/png": "[encoded data removed]",
      "text/plain": [
       "<Figure size 936x288 with 2 Axes>"
      ]
     },
     "metadata": {
      "needs_background": "light"
     },
     "output_type": "display_data"
    }
   ],
   "source": [
    "plot_loss(history, title=None)"
   ]
  },
  {
   "cell_type": "code",
   "execution_count": 89,
   "id": "926cad09",
   "metadata": {},
   "outputs": [
    {
     "name": "stdout",
     "output_type": "stream",
     "text": [
      "10/10 [==============================] - 2s 72ms/step - loss: 0.2586 - accuracy: 0.9133\n",
      "--------------------------------------------------------------------------------\n",
      "test score (MAPE): 0.913\n",
      "--------------------------------------------------------------------------------\n"
     ]
    }
   ],
   "source": [
    "results = model.evaluate(X_test_pad, y_test)\n",
    "\n",
    "print('-'*80)\n",
    "print(f\"test score (MAPE): {results[1]:.3f}\")\n",
    "print('-'*80)"
   ]
  },
  {
   "cell_type": "code",
   "execution_count": 90,
   "id": "1ae8ff4c",
   "metadata": {},
   "outputs": [
    {
     "data": {
      "text/plain": [
       "6307     [new, york, reuters, u, president, elect, dona...\n",
       "12841    [london, reuters, british, man, posted, pictur...\n",
       "35637    [never, seems, shortage, smug, know, self, rig...\n",
       "9132     [reuters, alabama, house, speaker, mike, hubba...\n",
       "38549    [like, hillary, stephanopoulos, claim, honest,...\n",
       "                               ...                        \n",
       "39169    [celebrity, came, together, create, emotional,...\n",
       "32904                  [http, www, youtube, com, watch, v]\n",
       "23714    [according, white, house, press, secretary, se...\n",
       "43519    [century, wire, say, back, august, united, nat...\n",
       "23751    [donald, trump, entire, administration, seem, ...\n",
       "Name: clean_text, Length: 700, dtype: object"
      ]
     },
     "execution_count": 90,
     "metadata": {},
     "output_type": "execute_result"
    }
   ],
   "source": [
    "X_train"
   ]
  },
  {
   "cell_type": "code",
   "execution_count": null,
   "id": "ad6888ad",
   "metadata": {},
   "outputs": [],
   "source": []
  }
 ],
 "metadata": {
  "kernelspec": {
   "display_name": "Python 3 (ipykernel)",
   "language": "python",
   "name": "python3"
  },
  "language_info": {
   "codemirror_mode": {
    "name": "ipython",
    "version": 3
   },
   "file_extension": ".py",
   "mimetype": "text/x-python",
   "name": "python",
   "nbconvert_exporter": "python",
   "pygments_lexer": "ipython3",
   "version": "3.8.6"
  },
  "toc": {
   "base_numbering": 1,
   "nav_menu": {},
   "number_sections": true,
   "sideBar": true,
   "skip_h1_title": false,
   "title_cell": "Table of Contents",
   "title_sidebar": "Contents",
   "toc_cell": false,
   "toc_position": {},
   "toc_section_display": true,
   "toc_window_display": false
  },
  "varInspector": {
   "cols": {
    "lenName": 16,
    "lenType": 16,
    "lenVar": 40
   },
   "kernels_config": {
    "python": {
     "delete_cmd_postfix": "",
     "delete_cmd_prefix": "del ",
     "library": "var_list.py",
     "varRefreshCmd": "print(var_dic_list())"
    },
    "r": {
     "delete_cmd_postfix": ") ",
     "delete_cmd_prefix": "rm(",
     "library": "var_list.r",
     "varRefreshCmd": "cat(var_dic_list()) "
    }
   },
   "types_to_exclude": [
    "module",
    "function",
    "builtin_function_or_method",
    "instance",
    "_Feature"
   ],
   "window_display": false
  }
 },
 "nbformat": 4,
 "nbformat_minor": 5
}
