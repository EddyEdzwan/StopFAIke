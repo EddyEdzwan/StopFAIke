{
 "cells": [
  {
   "cell_type": "markdown",
   "id": "9519fbce",
   "metadata": {},
   "source": [
    "## Test API - local"
   ]
  },
  {
   "cell_type": "code",
   "execution_count": 36,
   "id": "6383c0f4",
   "metadata": {},
   "outputs": [
    {
     "data": {
      "text/plain": [
       "{'text': 'My name is julien'}"
      ]
     },
     "execution_count": 36,
     "metadata": {},
     "output_type": "execute_result"
    }
   ],
   "source": [
    "import requests\n",
    "\n",
    "# fill the parameters for the prediction\n",
    "params = dict(text='My name is julien')\n",
    "\n",
    "params"
   ]
  },
  {
   "cell_type": "code",
   "execution_count": 37,
   "id": "bbb03354",
   "metadata": {},
   "outputs": [
    {
     "name": "stdout",
     "output_type": "stream",
     "text": [
      "200 API call success\n"
     ]
    }
   ],
   "source": [
    "# URL\n",
    "StopFAIke_api_url = \"http://127.0.0.1:8000/predict\"\n",
    "\n",
    "# retrieve the response\n",
    "response = requests.get(\n",
    "    StopFAIke_api_url,\n",
    "    params=params\n",
    ")\n",
    "\n",
    "if response.status_code == 200:\n",
    "    print(response.status_code, \"API call success\")\n",
    "else:\n",
    "    print(response.status_code, \"API call error\")"
   ]
  },
  {
   "cell_type": "code",
   "execution_count": 38,
   "id": "aa8c18a4",
   "metadata": {},
   "outputs": [
    {
     "data": {
      "text/plain": [
       "{'prediction': {}}"
      ]
     },
     "execution_count": 38,
     "metadata": {},
     "output_type": "execute_result"
    }
   ],
   "source": [
    "response.json()"
   ]
  },
  {
   "cell_type": "code",
   "execution_count": 83,
   "id": "6db31f85",
   "metadata": {},
   "outputs": [
    {
     "data": {
      "text/plain": [
       "({}, {'prediction': {}})"
      ]
     },
     "execution_count": 83,
     "metadata": {},
     "output_type": "execute_result"
    }
   ],
   "source": [
    "response.json().get(\"prediction\", \"no prediction\"), response.json()"
   ]
  },
  {
   "cell_type": "code",
   "execution_count": 60,
   "id": "09ee7e2f",
   "metadata": {},
   "outputs": [
    {
     "data": {
      "text/plain": [
       "['julien is 43']"
      ]
     },
     "execution_count": 60,
     "metadata": {},
     "output_type": "execute_result"
    }
   ],
   "source": [
    "import pandas as pd\n",
    "\n",
    "X = pd.DataFrame(dict(text=['julien is 43'])).reset_index(drop=True)\n",
    "X['text'].values.tolist()\n",
    "# # Process the input as list\n",
    "# # X = [text]\n",
    "\n",
    "# # Get the model (locally or from GCP)\n",
    "# reloaded_model = get_model_from_gcp(local=True)\n",
    "\n",
    "# # Make prediction\n",
    "# y_prob = reloaded_model(X['text'])"
   ]
  },
  {
   "cell_type": "code",
   "execution_count": null,
   "id": "8e8ff500",
   "metadata": {},
   "outputs": [],
   "source": []
  },
  {
   "cell_type": "code",
   "execution_count": null,
   "id": "857f9ef8",
   "metadata": {},
   "outputs": [],
   "source": []
  },
  {
   "cell_type": "code",
   "execution_count": null,
   "id": "1271d7b5",
   "metadata": {},
   "outputs": [],
   "source": []
  },
  {
   "cell_type": "code",
   "execution_count": null,
   "id": "a725f340",
   "metadata": {},
   "outputs": [],
   "source": []
  }
 ],
 "metadata": {
  "kernelspec": {
   "display_name": "Python 3 (ipykernel)",
   "language": "python",
   "name": "python3"
  },
  "language_info": {
   "codemirror_mode": {
    "name": "ipython",
    "version": 3
   },
   "file_extension": ".py",
   "mimetype": "text/x-python",
   "name": "python",
   "nbconvert_exporter": "python",
   "pygments_lexer": "ipython3",
   "version": "3.8.6"
  },
  "toc": {
   "base_numbering": 1,
   "nav_menu": {},
   "number_sections": true,
   "sideBar": true,
   "skip_h1_title": false,
   "title_cell": "Table of Contents",
   "title_sidebar": "Contents",
   "toc_cell": false,
   "toc_position": {},
   "toc_section_display": true,
   "toc_window_display": false
  },
  "varInspector": {
   "cols": {
    "lenName": 16,
    "lenType": 16,
    "lenVar": 40
   },
   "kernels_config": {
    "python": {
     "delete_cmd_postfix": "",
     "delete_cmd_prefix": "del ",
     "library": "var_list.py",
     "varRefreshCmd": "print(var_dic_list())"
    },
    "r": {
     "delete_cmd_postfix": ") ",
     "delete_cmd_prefix": "rm(",
     "library": "var_list.r",
     "varRefreshCmd": "cat(var_dic_list()) "
    }
   },
   "types_to_exclude": [
    "module",
    "function",
    "builtin_function_or_method",
    "instance",
    "_Feature"
   ],
   "window_display": false
  }
 },
 "nbformat": 4,
 "nbformat_minor": 5
}
