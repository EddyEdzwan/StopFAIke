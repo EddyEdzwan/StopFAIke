{
 "cells": [
  {
   "cell_type": "markdown",
   "id": "540105f5",
   "metadata": {
    "id": "540105f5"
   },
   "source": [
    "# Evaluation of the 3 datasets with ML"
   ]
  },
  {
   "cell_type": "code",
   "execution_count": 1,
   "id": "8c94c786",
   "metadata": {
    "executionInfo": {
     "elapsed": 352,
     "status": "ok",
     "timestamp": 1630050461264,
     "user": {
      "displayName": "Julien Seguy",
      "photoUrl": "",
      "userId": "07351507381529939348"
     },
     "user_tz": -480
    },
    "id": "8c94c786"
   },
   "outputs": [],
   "source": [
    "import numpy as np\n",
    "import pandas as pd\n",
    "import joblib\n",
    "from termcolor import colored\n",
    "\n",
    "import matplotlib as mpl\n",
    "import matplotlib.pyplot as plt\n",
    "\n",
    "mpl.rcParams['figure.figsize'] = (12, 6)\n",
    "colors = plt.rcParams['axes.prop_cycle'].by_key()['color']"
   ]
  },
  {
   "cell_type": "markdown",
   "id": "1bbddbc5",
   "metadata": {},
   "source": [
    "## Helper functions"
   ]
  },
  {
   "cell_type": "code",
   "execution_count": 2,
   "id": "46bcaed5",
   "metadata": {},
   "outputs": [],
   "source": [
    "from sklearn.model_selection import train_test_split\n",
    "from sklearn.model_selection import GridSearchCV\n",
    "from sklearn.pipeline import Pipeline\n",
    "from sklearn.feature_extraction.text import TfidfVectorizer\n",
    "\n",
    "from sklearn.linear_model import LogisticRegression   \n",
    "from sklearn.naive_bayes import MultinomialNB\n",
    "from sklearn.svm import SVC\n",
    "from sklearn.ensemble import RandomForestClassifier\n",
    "\n",
    "from sklearn.model_selection import cross_validate\n",
    "from sklearn.metrics import plot_confusion_matrix\n",
    "from sklearn.model_selection import learning_curve\n",
    "from sklearn.metrics import precision_recall_curve\n",
    "from sklearn.model_selection import cross_val_predict\n",
    "\n",
    "from sklearn.metrics import accuracy_score\n",
    "from sklearn.metrics import recall_score\n",
    "from sklearn.metrics import precision_score\n",
    "from sklearn.metrics import f1_score\n",
    "\n",
    "import string\n",
    "from nltk.corpus import stopwords\n",
    "from nltk.stem.wordnet import WordNetLemmatizer\n",
    "from nltk import word_tokenize\n",
    "\n",
    "# Required only for Colab\n",
    "# import nltk\n",
    "# nltk.download('punkt')\n",
    "# nltk.download('stopwords')\n",
    "# nltk.download('wordnet')\n",
    "\n",
    "def clean(text):\n",
    "    for punctuation in string.punctuation:\n",
    "        text = text.replace(punctuation, ' ') # Remove Punctuation\n",
    "    lowercased = text.lower() # Lower Case\n",
    "    tokenized = word_tokenize(lowercased) # Tokenize\n",
    "    words_only = [word for word in tokenized if word.isalpha()] # Remove numbers\n",
    "    stop_words = set(stopwords.words('english')) # Make stopword list\n",
    "    without_stopwords = [word for word in words_only if not word in stop_words] # Remove Stop Words\n",
    "    lemma = WordNetLemmatizer() # Initiate Lemmatizer\n",
    "    lemmatized = [lemma.lemmatize(word) for word in without_stopwords] # Lemmatize\n",
    "    return ' '.join(word for word in lemmatized)\n",
    "\n",
    "def plot_learning_curve(model, Name, X_train, y_train):\n",
    "\n",
    "    train_sizes = np.linspace(0.1, 1, 15)\n",
    "    \n",
    "    train_sizes, train_scores, test_scores = learning_curve(\n",
    "                  model, X_train, y_train, \n",
    "                  train_sizes = train_sizes,\n",
    "                  cv=5)\n",
    "\n",
    "    train_scores_mean = np.mean(train_scores, axis=1)\n",
    "    test_scores_mean = np.mean(test_scores, axis=1)\n",
    "\n",
    "    plt.figure(figsize=(8, 5))\n",
    "    plt.grid()\n",
    "    plt.title(f\"Model - {Name}\")\n",
    "    plt.plot(train_sizes, train_scores_mean, 'o-', color = \"r\", label = \"Training score\")\n",
    "    plt.plot(train_sizes, test_scores_mean, 'o-', color = \"g\", label = \"CV Test score\")\n",
    "    plt.legend(loc=\"best\")\n",
    "    plt.show()\n",
    "\n",
    "\n",
    "def binary_metrics(y_test, y_pred):\n",
    "    print('-'*80)\n",
    "    print('Acc: {:.2f}'.format(accuracy_score(y_test, y_pred)))\n",
    "    print('Recall: {:.2f}'.format(recall_score(y_test, y_pred)))\n",
    "    print('Precision: {:.2f}'.format(precision_score(y_test, y_pred)))\n",
    "    print('f1: {:.2f}'.format(f1_score(y_test, y_pred)))\n",
    "    print('-'*80)\n",
    "\n",
    "def get_scores(model, model_name, X_train, y_train, X_test, y_test):\n",
    "    \n",
    "    # Cross Validation\n",
    "    scoring = ['accuracy', 'recall', 'precision', 'f1']\n",
    "    cv_results = cross_validate(model, X_train, y_train, cv=5, scoring = scoring)\n",
    "\n",
    "    acc = cv_results['test_accuracy'].mean()\n",
    "    recall = cv_results['test_recall'].mean()\n",
    "    precision = cv_results['test_precision'].mean()\n",
    "    f1 = cv_results['test_f1'].mean()\n",
    "    \n",
    "    print('-'*80)\n",
    "    print(f\"{model_name} - CV scores: \")\n",
    "    print('-'*80)\n",
    "    print(f\"Acc : {acc:.2f}\")\n",
    "    print(f\"Recall: {recall:.2f}\")\n",
    "    print(f\"Precision: {precision:.2f}\")\n",
    "    print(f\"f1: {f1:.2f}\")\n",
    "    \n",
    "    # Test evaluation\n",
    "    model.fit(X_train, y_train)\n",
    "    y_preds = model.predict(X_test)\n",
    "    print('-'*80)\n",
    "    print(f\"{model_name} - test scores: \")\n",
    "    binary_metrics(y_test, y_preds)\n",
    "    \n",
    "    return acc, recall, precision, f1\n",
    "\n",
    "def save_model(model, model_name = 'model.joblib'):\n",
    "    \"\"\"\n",
    "    Save the model into a .joblib format\n",
    "    \"\"\"\n",
    "    joblib.dump(model, model_name)\n",
    "    print(colored('-'*80, 'green'))\n",
    "    print(colored(f\"{model_name} saved locally\", \"green\"))\n",
    "    print(colored('-'*80, 'green'))\n",
    "\n",
    "def get_model(path_to_joblib):\n",
    "    \"\"\"\n",
    "    Upload the model\n",
    "    \"\"\"\n",
    "    pipeline = joblib.load(path_to_joblib)\n",
    "    return pipeline"
   ]
  },
  {
   "cell_type": "markdown",
   "id": "e543b278",
   "metadata": {},
   "source": [
    "## Loading Datasets"
   ]
  },
  {
   "cell_type": "markdown",
   "id": "90033a1b",
   "metadata": {
    "heading_collapsed": true
   },
   "source": [
    "### Loading `politifact_scrap.csv`"
   ]
  },
  {
   "cell_type": "code",
   "execution_count": 3,
   "id": "e3118e91",
   "metadata": {
    "hidden": true
   },
   "outputs": [
    {
     "name": "stdout",
     "output_type": "stream",
     "text": [
      "--------------------------------------------------------------------------------\n",
      "data_P shape: (19826, 8)\n",
      "--------------------------------------------------------------------------------\n",
      "--------------------------------------------------------------------------------\n",
      "1    71.562595\n",
      "0    28.437405\n",
      "Name: category, dtype: float64\n",
      "--------------------------------------------------------------------------------\n",
      "1    54.206597\n",
      "0    45.793403\n",
      "Name: category2, dtype: float64\n",
      "--------------------------------------------------------------------------------\n"
     ]
    }
   ],
   "source": [
    "def get_data_from_gcp(nrows=10000, optimize=False, **kwargs):\n",
    "    \"\"\"method to get the training data (or a portion of it) from GCP\"\"\"\n",
    "    path = 'https://storage.googleapis.com/wagon-data-615-seguy/data/politifact_scrap.csv'\n",
    "    df = pd.read_csv(path, nrows=nrows)\n",
    "    return df\n",
    "\n",
    "data_P = get_data_from_gcp(nrows=30000)\n",
    "\n",
    "print('-'*80)\n",
    "print(f\"data_P shape: {data_P.shape}\")\n",
    "print('-'*80)\n",
    "print('-'*80)\n",
    "print(data_P['category'].value_counts()/len(data_P)*100)\n",
    "print('-'*80)\n",
    "print(data_P['category2'].value_counts()/len(data_P)*100)\n",
    "print('-'*80)"
   ]
  },
  {
   "cell_type": "code",
   "execution_count": 4,
   "id": "ffdefe53",
   "metadata": {
    "hidden": true
   },
   "outputs": [
    {
     "name": "stdout",
     "output_type": "stream",
     "text": [
      "--------------------------------------------------------------------------------\n",
      "X_P shape: (19826,)\n",
      "y_P shape: (19826,)\n",
      "--------------------------------------------------------------------------------\n",
      "Original text: “Washington public school forces unvaccinated teens to wear ankle monitors” as a condition of playing team sports.\n",
      "Clean text: washington public school force unvaccinated teen wear ankle monitor condition playing team sport\n",
      "--------------------------------------------------------------------------------\n"
     ]
    }
   ],
   "source": [
    "X_P = data_P['statement'].apply(clean).copy()\n",
    "y_P = data_P['category2'].copy()\n",
    "\n",
    "print('-'*80)\n",
    "print(f\"X_P shape: {X_P.shape}\")\n",
    "print(f\"y_P shape: {y_P.shape}\")\n",
    "print('-'*80)\n",
    "print(f\"Original text: {data_P['statement'][0]}\")\n",
    "print(f\"Clean text: {X_P[0]}\")\n",
    "print('-'*80)"
   ]
  },
  {
   "cell_type": "code",
   "execution_count": 5,
   "id": "a3d3ea54",
   "metadata": {
    "hidden": true
   },
   "outputs": [
    {
     "name": "stdout",
     "output_type": "stream",
     "text": [
      "--------------------------------------------------------------------------------\n",
      "X_P_train shape: (15860,)\n",
      "y_P_train shape: (15860,)\n",
      "--------------------------------------------------------------------------------\n",
      "X_P_test shape: (3966,)\n",
      "y_P_test shape: (3966,)\n",
      "--------------------------------------------------------------------------------\n",
      "--------------------------------------------------------------------------------\n",
      "Fake (1) proportion in train (%): 54.300\n",
      "Fake (1) proportion in test (%): 53.833\n",
      "--------------------------------------------------------------------------------\n"
     ]
    }
   ],
   "source": [
    "X_P_train, X_P_test, y_P_train, y_P_test = train_test_split(X_P, y_P, test_size=0.2, random_state=42)\n",
    "\n",
    "print('-'*80)\n",
    "print(f\"X_P_train shape: {X_P_train.shape}\")\n",
    "print(f\"y_P_train shape: {y_P_train.shape}\")\n",
    "print('-'*80)\n",
    "print(f\"X_P_test shape: {X_P_test.shape}\")\n",
    "print(f\"y_P_test shape: {y_P_test.shape}\")\n",
    "print('-'*80)\n",
    "print('-'*80)\n",
    "print(f\"Fake (1) proportion in train (%): {y_P_train.sum()/len(y_P_train)*100:.3f}\")\n",
    "print(f\"Fake (1) proportion in test (%): {y_P_test.sum()/len(y_P_test)*100:.3f}\")\n",
    "print('-'*80)"
   ]
  },
  {
   "cell_type": "markdown",
   "id": "3189c738",
   "metadata": {
    "heading_collapsed": true
   },
   "source": [
    "### Loading `FakeNewsNET`"
   ]
  },
  {
   "cell_type": "code",
   "execution_count": 6,
   "id": "31a878d7",
   "metadata": {
    "hidden": true
   },
   "outputs": [
    {
     "name": "stdout",
     "output_type": "stream",
     "text": [
      "--------------------------------------------------------------------------------\n",
      "data_FNN shape: (19281, 8)\n",
      "--------------------------------------------------------------------------------\n"
     ]
    }
   ],
   "source": [
    "def get_data_from_gcp(nrows=10000, optimize=False, **kwargs):\n",
    "    \"\"\"method to get the training data (or a portion of it) from GCP\"\"\"\n",
    "    path = 'https://storage.googleapis.com/wagon-data-615-seguy/data/FakesNewsNET.csv'\n",
    "    df = pd.read_csv(path, nrows=nrows)\n",
    "    return df\n",
    "\n",
    "data_FNN = get_data_from_gcp(nrows=20000)\n",
    "\n",
    "print('-'*80)\n",
    "print(f\"data_FNN shape: {data_FNN.shape}\")\n",
    "print('-'*80)"
   ]
  },
  {
   "cell_type": "code",
   "execution_count": 7,
   "id": "011faf44",
   "metadata": {
    "hidden": true
   },
   "outputs": [
    {
     "name": "stdout",
     "output_type": "stream",
     "text": [
      "--------------------------------------------------------------------------------\n",
      "X_FNN shape: (19281,)\n",
      "y_FNN shape: (19281,)\n",
      "--------------------------------------------------------------------------------\n",
      "Original text: Djou wins special election for Congress\n",
      "Clean text: djou win special election congress\n",
      "--------------------------------------------------------------------------------\n"
     ]
    }
   ],
   "source": [
    "X_FNN = data_FNN['title'].apply(clean).copy()\n",
    "y_FNN = data_FNN['category'].copy()\n",
    "\n",
    "print('-'*80)\n",
    "print(f\"X_FNN shape: {X_FNN.shape}\")\n",
    "print(f\"y_FNN shape: {y_FNN.shape}\")\n",
    "print('-'*80)\n",
    "print(f\"Original text: {data_FNN['title'][0]}\")\n",
    "print(f\"Clean text: {X_FNN[0]}\")\n",
    "print('-'*80)"
   ]
  },
  {
   "cell_type": "code",
   "execution_count": 8,
   "id": "0f59499d",
   "metadata": {
    "hidden": true
   },
   "outputs": [
    {
     "name": "stdout",
     "output_type": "stream",
     "text": [
      "--------------------------------------------------------------------------------\n",
      "X_FNN_train shape: (15424,)\n",
      "y_FNN_train shape: (15424,)\n",
      "--------------------------------------------------------------------------------\n",
      "X_FNN_test shape: (3857,)\n",
      "y_FNN_test shape: (3857,)\n",
      "--------------------------------------------------------------------------------\n",
      "--------------------------------------------------------------------------------\n",
      "Fake (1) proportion in train (%): 24.870\n",
      "Fake (1) proportion in test (%): 23.568\n",
      "--------------------------------------------------------------------------------\n"
     ]
    }
   ],
   "source": [
    "X_FNN_train, X_FNN_test, y_FNN_train, y_FNN_test = train_test_split(X_FNN, y_FNN, test_size=0.2, random_state=42)\n",
    "\n",
    "print('-'*80)\n",
    "print(f\"X_FNN_train shape: {X_FNN_train.shape}\")\n",
    "print(f\"y_FNN_train shape: {y_FNN_train.shape}\")\n",
    "print('-'*80)\n",
    "print(f\"X_FNN_test shape: {X_FNN_test.shape}\")\n",
    "print(f\"y_FNN_test shape: {y_FNN_test.shape}\")\n",
    "print('-'*80)\n",
    "print('-'*80)\n",
    "print(f\"Fake (1) proportion in train (%): {y_FNN_train.sum()/len(y_FNN_train)*100:.3f}\")\n",
    "print(f\"Fake (1) proportion in test (%): {y_FNN_test.sum()/len(y_FNN_test)*100:.3f}\")\n",
    "print('-'*80)"
   ]
  },
  {
   "cell_type": "markdown",
   "id": "8bce5be8",
   "metadata": {
    "heading_collapsed": true
   },
   "source": [
    "### Loading `Bisaillon`"
   ]
  },
  {
   "cell_type": "code",
   "execution_count": 9,
   "id": "91835721",
   "metadata": {
    "hidden": true
   },
   "outputs": [
    {
     "name": "stdout",
     "output_type": "stream",
     "text": [
      "--------------------------------------------------------------------------------\n",
      "true shape: (21417, 4)\n",
      "fake shape: (23481, 4)\n",
      "--------------------------------------------------------------------------------\n"
     ]
    }
   ],
   "source": [
    "def get_data_from_gcp(nrows=10000, optimize=False, **kwargs):\n",
    "    \"\"\"method to get the training data (or a portion of it) from GCP\"\"\"\n",
    "    true_path = 'https://storage.googleapis.com/wagon-data-615-seguy/data/True.csv'\n",
    "    fake_path = 'https://storage.googleapis.com/wagon-data-615-seguy/data/Fake.csv'\n",
    "    true_df = pd.read_csv(true_path, nrows=nrows)\n",
    "    fake_df = pd.read_csv(fake_path, nrows=nrows)\n",
    "    return true_df, fake_df\n",
    "\n",
    "true, fake = get_data_from_gcp(nrows=None)\n",
    "\n",
    "print('-'*80)\n",
    "print(f\"true shape: {true.shape}\")\n",
    "print(f\"fake shape: {fake.shape}\")\n",
    "print('-'*80)"
   ]
  },
  {
   "cell_type": "code",
   "execution_count": 10,
   "id": "9b6d5f9d",
   "metadata": {
    "hidden": true
   },
   "outputs": [
    {
     "name": "stdout",
     "output_type": "stream",
     "text": [
      "--------------------------------------------------------------------------------\n",
      "true shape (wo duplicates): (21211, 4)\n",
      "fake shape (wo duplicates): (23478, 4)\n",
      "--------------------------------------------------------------------------------\n"
     ]
    }
   ],
   "source": [
    "true.drop_duplicates(inplace=True)\n",
    "fake.drop_duplicates(inplace=True)\n",
    "\n",
    "print('-'*80)\n",
    "print(f\"true shape (wo duplicates): {true.shape}\")\n",
    "print(f\"fake shape (wo duplicates): {fake.shape}\")\n",
    "print('-'*80)"
   ]
  },
  {
   "cell_type": "code",
   "execution_count": 11,
   "id": "be61dbcc",
   "metadata": {
    "hidden": true
   },
   "outputs": [
    {
     "name": "stdout",
     "output_type": "stream",
     "text": [
      "--------------------------------------------------------------------------------\n",
      "data_BIS shape: (44689, 5)\n",
      "--------------------------------------------------------------------------------\n",
      "ratio #true: 47.46%\n",
      "ratio #fake: 52.54%\n",
      "--------------------------------------------------------------------------------\n"
     ]
    }
   ],
   "source": [
    "true['category'] = 0\n",
    "fake['category'] = 1\n",
    "\n",
    "data_BIS = pd.concat([true, fake]).reset_index(drop=True)\n",
    "\n",
    "print('-'*80)\n",
    "print(f\"data_BIS shape: {data_BIS.shape}\")\n",
    "print('-'*80)\n",
    "print(f\"ratio #true: {len(data_BIS[data_BIS['category']==0])/len(data_BIS)*100:.2f}%\")\n",
    "print(f\"ratio #fake: {len(data_BIS[data_BIS['category']==1])/len(data_BIS)*100:.2f}%\")\n",
    "print('-'*80)"
   ]
  },
  {
   "cell_type": "code",
   "execution_count": 12,
   "id": "382c57d3",
   "metadata": {
    "hidden": true
   },
   "outputs": [
    {
     "name": "stdout",
     "output_type": "stream",
     "text": [
      "--------------------------------------------------------------------------------\n",
      "X_BIS shape: (44689,)\n",
      "y_BIS shape: (44689,)\n",
      "--------------------------------------------------------------------------------\n",
      "Original text: As U.S. budget fight looms, Republicans flip their fiscal script\n",
      "Clean text: u budget fight loom republican flip fiscal script\n",
      "--------------------------------------------------------------------------------\n"
     ]
    }
   ],
   "source": [
    "X_BIS = data_BIS['title'].apply(clean).copy()\n",
    "y_BIS = data_BIS['category'].copy()\n",
    "\n",
    "print('-'*80)\n",
    "print(f\"X_BIS shape: {X_BIS.shape}\")\n",
    "print(f\"y_BIS shape: {y_BIS.shape}\")\n",
    "print('-'*80)\n",
    "print(f\"Original text: {data_BIS['title'][0]}\")\n",
    "print(f\"Clean text: {X_BIS[0]}\")\n",
    "print('-'*80)"
   ]
  },
  {
   "cell_type": "code",
   "execution_count": 13,
   "id": "5e9fe9b9",
   "metadata": {
    "hidden": true
   },
   "outputs": [
    {
     "name": "stdout",
     "output_type": "stream",
     "text": [
      "--------------------------------------------------------------------------------\n",
      "X_BIS_train shape: (35751,)\n",
      "y_BIS_train shape: (35751,)\n",
      "--------------------------------------------------------------------------------\n",
      "X_BIS_test shape: (8938,)\n",
      "y_BIS_test shape: (8938,)\n",
      "--------------------------------------------------------------------------------\n",
      "--------------------------------------------------------------------------------\n",
      "Fake (1) proportion in train (%): 52.670\n",
      "Fake (1) proportion in test (%): 52.003\n",
      "--------------------------------------------------------------------------------\n"
     ]
    }
   ],
   "source": [
    "X_BIS_train, X_BIS_test, y_BIS_train, y_BIS_test = train_test_split(X_BIS, y_BIS, test_size=0.2, random_state=42)\n",
    "\n",
    "print('-'*80)\n",
    "print(f\"X_BIS_train shape: {X_BIS_train.shape}\")\n",
    "print(f\"y_BIS_train shape: {y_BIS_train.shape}\")\n",
    "print('-'*80)\n",
    "print(f\"X_BIS_test shape: {X_BIS_test.shape}\")\n",
    "print(f\"y_BIS_test shape: {y_BIS_test.shape}\")\n",
    "print('-'*80)\n",
    "print('-'*80)\n",
    "print(f\"Fake (1) proportion in train (%): {y_BIS_train.sum()/len(y_BIS_train)*100:.3f}\")\n",
    "print(f\"Fake (1) proportion in test (%): {y_BIS_test.sum()/len(y_BIS_test)*100:.3f}\")\n",
    "print('-'*80)"
   ]
  },
  {
   "cell_type": "markdown",
   "id": "6ef4b438",
   "metadata": {
    "heading_collapsed": true
   },
   "source": [
    "### Loading `Poynter`"
   ]
  },
  {
   "cell_type": "code",
   "execution_count": 14,
   "id": "4dac7240",
   "metadata": {
    "hidden": true
   },
   "outputs": [
    {
     "name": "stdout",
     "output_type": "stream",
     "text": [
      "--------------------------------------------------------------------------------\n",
      "data_PO shape: (14897, 3)\n",
      "--------------------------------------------------------------------------------\n",
      "--------------------------------------------------------------------------------\n",
      "0.0    50.063771\n",
      "1.0    49.936229\n",
      "Name: label_list_transformed, dtype: float64\n",
      "--------------------------------------------------------------------------------\n"
     ]
    }
   ],
   "source": [
    "def get_data_from_gcp(nrows=10000, optimize=False, **kwargs):\n",
    "    \"\"\"method to get the training data (or a portion of it) from GCP\"\"\"\n",
    "    path = 'https://storage.googleapis.com/stopfaike_eddy/data/poynter_final_condensed.csv'\n",
    "    df = pd.read_csv(path, nrows=nrows)\n",
    "    return df\n",
    "\n",
    "data_PO = get_data_from_gcp(nrows=30000)\n",
    "\n",
    "print('-'*80)\n",
    "print(f\"data_PO shape: {data_PO.shape}\")\n",
    "print('-'*80)\n",
    "print('-'*80)\n",
    "print(data_PO['label_list_transformed'].value_counts()/len(data_PO)*100)\n",
    "print('-'*80)"
   ]
  },
  {
   "cell_type": "code",
   "execution_count": 15,
   "id": "c5aff5bd",
   "metadata": {
    "hidden": true
   },
   "outputs": [
    {
     "data": {
      "text/html": [
       "<div>\n",
       "<style scoped>\n",
       "    .dataframe tbody tr th:only-of-type {\n",
       "        vertical-align: middle;\n",
       "    }\n",
       "\n",
       "    .dataframe tbody tr th {\n",
       "        vertical-align: top;\n",
       "    }\n",
       "\n",
       "    .dataframe thead th {\n",
       "        text-align: right;\n",
       "    }\n",
       "</style>\n",
       "<table border=\"1\" class=\"dataframe\">\n",
       "  <thead>\n",
       "    <tr style=\"text-align: right;\">\n",
       "      <th></th>\n",
       "      <th>Unnamed: 0</th>\n",
       "      <th>title_list</th>\n",
       "      <th>label_list_transformed</th>\n",
       "    </tr>\n",
       "  </thead>\n",
       "  <tbody>\n",
       "    <tr>\n",
       "      <th>0</th>\n",
       "      <td>0</td>\n",
       "      <td>There is a call for free vaccination in the Ci...</td>\n",
       "      <td>1.0</td>\n",
       "    </tr>\n",
       "    <tr>\n",
       "      <th>1</th>\n",
       "      <td>1</td>\n",
       "      <td>Video of a girl being forcibly vaccinated agai...</td>\n",
       "      <td>1.0</td>\n",
       "    </tr>\n",
       "    <tr>\n",
       "      <th>2</th>\n",
       "      <td>2</td>\n",
       "      <td>The US CDC has admitted an error in the PCR te...</td>\n",
       "      <td>1.0</td>\n",
       "    </tr>\n",
       "    <tr>\n",
       "      <th>3</th>\n",
       "      <td>3</td>\n",
       "      <td>Children are 50 times more likely to die from ...</td>\n",
       "      <td>1.0</td>\n",
       "    </tr>\n",
       "    <tr>\n",
       "      <th>4</th>\n",
       "      <td>4</td>\n",
       "      <td>Those vaccinated against the COVID-19 cannot d...</td>\n",
       "      <td>1.0</td>\n",
       "    </tr>\n",
       "  </tbody>\n",
       "</table>\n",
       "</div>"
      ],
      "text/plain": [
       "   Unnamed: 0                                         title_list  \\\n",
       "0           0  There is a call for free vaccination in the Ci...   \n",
       "1           1  Video of a girl being forcibly vaccinated agai...   \n",
       "2           2  The US CDC has admitted an error in the PCR te...   \n",
       "3           3  Children are 50 times more likely to die from ...   \n",
       "4           4  Those vaccinated against the COVID-19 cannot d...   \n",
       "\n",
       "   label_list_transformed  \n",
       "0                     1.0  \n",
       "1                     1.0  \n",
       "2                     1.0  \n",
       "3                     1.0  \n",
       "4                     1.0  "
      ]
     },
     "execution_count": 15,
     "metadata": {},
     "output_type": "execute_result"
    }
   ],
   "source": [
    "data_PO.head()"
   ]
  },
  {
   "cell_type": "code",
   "execution_count": 16,
   "id": "e682dc6d",
   "metadata": {
    "hidden": true
   },
   "outputs": [
    {
     "name": "stdout",
     "output_type": "stream",
     "text": [
      "--------------------------------------------------------------------------------\n",
      "X_PO shape: (14897,)\n",
      "y_PO shape: (19826,)\n",
      "--------------------------------------------------------------------------------\n",
      "Original text: There is a call for free vaccination in the Ciudad de la Luz center, in Alicante, for people over 12 years old.\n",
      "Clean text: call free vaccination ciudad de la luz center alicante people year old\n",
      "--------------------------------------------------------------------------------\n"
     ]
    }
   ],
   "source": [
    "X_PO = data_PO['title_list'].apply(clean).copy()\n",
    "y_PO = data_PO['label_list_transformed'].copy()\n",
    "\n",
    "print('-'*80)\n",
    "print(f\"X_PO shape: {X_PO.shape}\")\n",
    "print(f\"y_PO shape: {y_P.shape}\")\n",
    "print('-'*80)\n",
    "print(f\"Original text: {data_PO['title_list'][0]}\")\n",
    "print(f\"Clean text: {X_PO[0]}\")\n",
    "print('-'*80)"
   ]
  },
  {
   "cell_type": "code",
   "execution_count": 17,
   "id": "f6393025",
   "metadata": {
    "hidden": true
   },
   "outputs": [
    {
     "name": "stdout",
     "output_type": "stream",
     "text": [
      "--------------------------------------------------------------------------------\n",
      "X_PO_train shape: (11917,)\n",
      "y_PO_train shape: (11917,)\n",
      "--------------------------------------------------------------------------------\n",
      "X_PO_test shape: (2980,)\n",
      "y_PO_test shape: (2980,)\n",
      "--------------------------------------------------------------------------------\n",
      "--------------------------------------------------------------------------------\n",
      "Fake (1) proportion in train (%): 49.870\n",
      "Fake (1) proportion in test (%): 50.201\n",
      "--------------------------------------------------------------------------------\n"
     ]
    }
   ],
   "source": [
    "X_PO_train, X_PO_test, y_PO_train, y_PO_test = train_test_split(X_PO, y_PO, test_size=0.2, random_state=42)\n",
    "\n",
    "print('-'*80)\n",
    "print(f\"X_PO_train shape: {X_PO_train.shape}\")\n",
    "print(f\"y_PO_train shape: {y_PO_train.shape}\")\n",
    "print('-'*80)\n",
    "print(f\"X_PO_test shape: {X_PO_test.shape}\")\n",
    "print(f\"y_PO_test shape: {y_PO_test.shape}\")\n",
    "print('-'*80)\n",
    "print('-'*80)\n",
    "print(f\"Fake (1) proportion in train (%): {y_PO_train.sum()/len(y_PO_train)*100:.3f}\")\n",
    "print(f\"Fake (1) proportion in test (%): {y_PO_test.sum()/len(y_PO_test)*100:.3f}\")\n",
    "print('-'*80)"
   ]
  },
  {
   "cell_type": "markdown",
   "id": "fd930362",
   "metadata": {
    "heading_collapsed": true
   },
   "source": [
    "### Merging `All`"
   ]
  },
  {
   "cell_type": "code",
   "execution_count": 18,
   "id": "666beaa8",
   "metadata": {
    "hidden": true
   },
   "outputs": [
    {
     "name": "stdout",
     "output_type": "stream",
     "text": [
      "--------------------------------------------------------------------------------\n",
      "X_all shape: (83796,)\n",
      "y_all shape: (83796,)\n",
      "--------------------------------------------------------------------------------\n"
     ]
    }
   ],
   "source": [
    "X_all = pd.concat([X_P, X_FNN, X_BIS]).reset_index(drop=True)\n",
    "y_all = pd.concat([y_P, y_FNN, y_BIS]).reset_index(drop=True)\n",
    "\n",
    "print('-'*80)\n",
    "print(f\"X_all shape: {X_all.shape}\")\n",
    "print(f\"y_all shape: {y_all.shape}\")\n",
    "print('-'*80)"
   ]
  },
  {
   "cell_type": "code",
   "execution_count": 19,
   "id": "517aedea",
   "metadata": {
    "hidden": true
   },
   "outputs": [
    {
     "name": "stdout",
     "output_type": "stream",
     "text": [
      "--------------------------------------------------------------------------------\n",
      "X_ALL_train shape: (67036,)\n",
      "y_ALL_train shape: (67036,)\n",
      "--------------------------------------------------------------------------------\n",
      "X_ALL_test shape: (16760,)\n",
      "y_ALL_test shape: (16760,)\n",
      "--------------------------------------------------------------------------------\n",
      "--------------------------------------------------------------------------------\n",
      "Fake (1) proportion in train (%): 46.453\n",
      "Fake (1) proportion in test (%): 46.718\n",
      "--------------------------------------------------------------------------------\n"
     ]
    }
   ],
   "source": [
    "X_ALL_train, X_ALL_test, y_ALL_train, y_ALL_test = train_test_split(X_all, y_all, test_size=0.2, random_state=42)\n",
    "\n",
    "print('-'*80)\n",
    "print(f\"X_ALL_train shape: {X_ALL_train.shape}\")\n",
    "print(f\"y_ALL_train shape: {y_ALL_train.shape}\")\n",
    "print('-'*80)\n",
    "print(f\"X_ALL_test shape: {X_ALL_test.shape}\")\n",
    "print(f\"y_ALL_test shape: {y_ALL_test.shape}\")\n",
    "print('-'*80)\n",
    "print('-'*80)\n",
    "print(f\"Fake (1) proportion in train (%): {y_ALL_train.sum()/len(y_ALL_train)*100:.3f}\")\n",
    "print(f\"Fake (1) proportion in test (%): {y_ALL_test.sum()/len(y_ALL_test)*100:.3f}\")\n",
    "print('-'*80)"
   ]
  },
  {
   "cell_type": "markdown",
   "id": "d827191f",
   "metadata": {
    "hidden": true
   },
   "source": [
    "#### Checking foreign characters"
   ]
  },
  {
   "cell_type": "code",
   "execution_count": 20,
   "id": "5f9124bb",
   "metadata": {
    "hidden": true
   },
   "outputs": [],
   "source": [
    "# vectorizer = TfidfVectorizer()\n",
    "# X_vec = vectorizer.fit_transform(X_FNN)\n",
    "\n",
    "# X_vec_df = pd.DataFrame(X_vec.toarray(), columns = vectorizer.get_feature_names())\n",
    "\n",
    "# print('-'*80)\n",
    "# print(f\"X_vec shape: {X_train_vec.shape}\")\n",
    "# print('-'*80)\n",
    "# print(X_vec_df.head())\n",
    "# print('-'*80)"
   ]
  },
  {
   "cell_type": "code",
   "execution_count": 21,
   "id": "df049041",
   "metadata": {
    "hidden": true
   },
   "outputs": [],
   "source": [
    "# data_FNN['title'].str.contains('ы').sum()"
   ]
  },
  {
   "cell_type": "markdown",
   "id": "015ce831",
   "metadata": {
    "heading_collapsed": true
   },
   "source": [
    "### Merging `Alll`"
   ]
  },
  {
   "cell_type": "code",
   "execution_count": 22,
   "id": "4c4d316a",
   "metadata": {
    "hidden": true
   },
   "outputs": [
    {
     "name": "stdout",
     "output_type": "stream",
     "text": [
      "--------------------------------------------------------------------------------\n",
      "X_alll shape: (98693,)\n",
      "y_alll shape: (98693,)\n",
      "--------------------------------------------------------------------------------\n"
     ]
    }
   ],
   "source": [
    "X_alll = pd.concat([X_all, X_PO]).reset_index(drop=True)\n",
    "y_alll = pd.concat([y_all, y_PO]).reset_index(drop=True)\n",
    "\n",
    "print('-'*80)\n",
    "print(f\"X_alll shape: {X_alll.shape}\")\n",
    "print(f\"y_alll shape: {y_alll.shape}\")\n",
    "print('-'*80)"
   ]
  },
  {
   "cell_type": "code",
   "execution_count": 24,
   "id": "311d2f19",
   "metadata": {
    "hidden": true
   },
   "outputs": [
    {
     "name": "stdout",
     "output_type": "stream",
     "text": [
      "--------------------------------------------------------------------------------\n",
      "X_ALLL_train shape: (78954,)\n",
      "y_ALLL_train shape: (78954,)\n",
      "--------------------------------------------------------------------------------\n",
      "X_ALLL_test shape: (19739,)\n",
      "y_ALLL_test shape: (19739,)\n",
      "--------------------------------------------------------------------------------\n",
      "--------------------------------------------------------------------------------\n",
      "Fake (1) proportion in train (%): 47.031\n",
      "Fake (1) proportion in test (%): 46.993\n",
      "--------------------------------------------------------------------------------\n"
     ]
    }
   ],
   "source": [
    "X_ALLL_train, X_ALLL_test, y_ALLL_train, y_ALLL_test = train_test_split(X_alll, y_alll, test_size=0.2, random_state=42)\n",
    "\n",
    "print('-'*80)\n",
    "print(f\"X_ALLL_train shape: {X_ALLL_train.shape}\")\n",
    "print(f\"y_ALLL_train shape: {y_ALLL_train.shape}\")\n",
    "print('-'*80)\n",
    "print(f\"X_ALLL_test shape: {X_ALLL_test.shape}\")\n",
    "print(f\"y_ALLL_test shape: {y_ALLL_test.shape}\")\n",
    "print('-'*80)\n",
    "print('-'*80)\n",
    "print(f\"Fake (1) proportion in train (%): {y_ALLL_train.sum()/len(y_ALLL_train)*100:.3f}\")\n",
    "print(f\"Fake (1) proportion in test (%): {y_ALLL_test.sum()/len(y_ALLL_test)*100:.3f}\")\n",
    "print('-'*80)"
   ]
  },
  {
   "cell_type": "markdown",
   "id": "gHrHg3bzmUN9",
   "metadata": {
    "id": "gHrHg3bzmUN9"
   },
   "source": [
    "## `politifact_scrap.csv`"
   ]
  },
  {
   "cell_type": "markdown",
   "id": "94b4beeb",
   "metadata": {
    "heading_collapsed": true
   },
   "source": [
    "### Preprocessing"
   ]
  },
  {
   "cell_type": "code",
   "execution_count": 25,
   "id": "AqfGJOoPGwcj",
   "metadata": {
    "colab": {
     "base_uri": "https://localhost:8080/"
    },
    "executionInfo": {
     "elapsed": 1334,
     "status": "ok",
     "timestamp": 1630050489099,
     "user": {
      "displayName": "Julien Seguy",
      "photoUrl": "",
      "userId": "07351507381529939348"
     },
     "user_tz": -480
    },
    "hidden": true,
    "id": "AqfGJOoPGwcj",
    "outputId": "f4d75b7c-f64e-468b-f8a0-409a674eecab"
   },
   "outputs": [
    {
     "name": "stdout",
     "output_type": "stream",
     "text": [
      "--------------------------------------------------------------------------------\n",
      "X_P_train_vec shape: (15860, 12692)\n",
      "X_P_test_vec shape: (3966, 12692)\n",
      "--------------------------------------------------------------------------------\n",
      "    aa  aaa  aaron  aarp   ab  aba  abaco  abandoned  abbas  abbott  ...  \\\n",
      "0  0.0  0.0    0.0   0.0  0.0  0.0    0.0        0.0    0.0     0.0  ...   \n",
      "1  0.0  0.0    0.0   0.0  0.0  0.0    0.0        0.0    0.0     0.0  ...   \n",
      "2  0.0  0.0    0.0   0.0  0.0  0.0    0.0        0.0    0.0     0.0  ...   \n",
      "3  0.0  0.0    0.0   0.0  0.0  0.0    0.0        0.0    0.0     0.0  ...   \n",
      "4  0.0  0.0    0.0   0.0  0.0  0.0    0.0        0.0    0.0     0.0  ...   \n",
      "\n",
      "   zoning  zoo  zoom  zpass  zuber  zucker  zuckerberg  zyphr  único  ḍozen  \n",
      "0     0.0  0.0   0.0    0.0    0.0     0.0         0.0    0.0    0.0    0.0  \n",
      "1     0.0  0.0   0.0    0.0    0.0     0.0         0.0    0.0    0.0    0.0  \n",
      "2     0.0  0.0   0.0    0.0    0.0     0.0         0.0    0.0    0.0    0.0  \n",
      "3     0.0  0.0   0.0    0.0    0.0     0.0         0.0    0.0    0.0    0.0  \n",
      "4     0.0  0.0   0.0    0.0    0.0     0.0         0.0    0.0    0.0    0.0  \n",
      "\n",
      "[5 rows x 12692 columns]\n",
      "--------------------------------------------------------------------------------\n"
     ]
    }
   ],
   "source": [
    "vectorizer_P = TfidfVectorizer()\n",
    "X_P_train_vec = vectorizer_P.fit_transform(X_P_train)\n",
    "X_P_test_vec = vectorizer_P.transform(X_P_test)\n",
    "\n",
    "X_P_train_vec_df = pd.DataFrame(X_P_train_vec.toarray(), columns = vectorizer_P.get_feature_names())\n",
    "\n",
    "print('-'*80)\n",
    "print(f\"X_P_train_vec shape: {X_P_train_vec.shape}\")\n",
    "print(f\"X_P_test_vec shape: {X_P_test_vec.shape}\")\n",
    "print('-'*80)\n",
    "print(X_P_train_vec_df.head())\n",
    "print('-'*80)"
   ]
  },
  {
   "cell_type": "markdown",
   "id": "9ueZ-2tMlvYR",
   "metadata": {
    "heading_collapsed": true,
    "id": "9ueZ-2tMlvYR"
   },
   "source": [
    "### Logistic Regression"
   ]
  },
  {
   "cell_type": "code",
   "execution_count": 26,
   "id": "SOwnruXKlueM",
   "metadata": {
    "colab": {
     "base_uri": "https://localhost:8080/",
     "height": 962
    },
    "executionInfo": {
     "elapsed": 35993,
     "status": "ok",
     "timestamp": 1630051277205,
     "user": {
      "displayName": "Julien Seguy",
      "photoUrl": "",
      "userId": "07351507381529939348"
     },
     "user_tz": -480
    },
    "hidden": true,
    "id": "SOwnruXKlueM",
    "outputId": "57f05713-5ef2-40d9-a4f4-49a7ade9642a"
   },
   "outputs": [
    {
     "name": "stdout",
     "output_type": "stream",
     "text": [
      "--------------------------------------------------------------------------------\n",
      "Logistic Reg - CV scores: \n",
      "--------------------------------------------------------------------------------\n",
      "Acc : 0.65\n",
      "Recall: 0.73\n",
      "Precision: 0.66\n",
      "f1: 0.69\n",
      "--------------------------------------------------------------------------------\n",
      "Logistic Reg - test scores: \n",
      "--------------------------------------------------------------------------------\n",
      "Acc: 0.65\n",
      "Recall: 0.72\n",
      "Precision: 0.66\n",
      "f1: 0.69\n",
      "--------------------------------------------------------------------------------\n"
     ]
    },
    {
     "data": {
      "image/png": "[encoded data removed]",
      "text/plain": [
       "<Figure size 864x432 with 2 Axes>"
      ]
     },
     "metadata": {
      "needs_background": "light"
     },
     "output_type": "display_data"
    },
    {
     "data": {
      "image/png": "[encoded data removed]",
      "text/plain": [
       "<Figure size 576x360 with 1 Axes>"
      ]
     },
     "metadata": {
      "needs_background": "light"
     },
     "output_type": "display_data"
    }
   ],
   "source": [
    "log_model = LogisticRegression(max_iter=1000, n_jobs=-1)\n",
    "acc, recall, precision, f1 = get_scores(log_model, 'Logistic Reg', X_P_train_vec, y_P_train, X_P_test_vec, y_P_test)\n",
    "\n",
    "plot_confusion_matrix(log_model, X_P_test_vec, y_P_test, values_format='d');\n",
    "\n",
    "plot_learning_curve(log_model, 'Logistic Reg', X_P_train_vec, y_P_train)"
   ]
  },
  {
   "cell_type": "markdown",
   "id": "734c9e78",
   "metadata": {
    "heading_collapsed": true
   },
   "source": [
    "### Logistic Regression - Fine-Tuning"
   ]
  },
  {
   "cell_type": "code",
   "execution_count": 27,
   "id": "c344f288",
   "metadata": {
    "hidden": true
   },
   "outputs": [
    {
     "name": "stdout",
     "output_type": "stream",
     "text": [
      "Fitting 5 folds for each of 32 candidates, totalling 160 fits\n",
      "--------------------------------------------------------------------------------\n",
      "Best parameters: {'log_reg__C': 1, 'tfidf__max_df': 0.75, 'tfidf__ngram_range': (1, 3)}\n",
      "--------------------------------------------------------------------------------\n"
     ]
    }
   ],
   "source": [
    "pipeline = Pipeline([\n",
    "    ('tfidf', TfidfVectorizer()),\n",
    "    ('log_reg', LogisticRegression(max_iter=1000)),\n",
    "])\n",
    "\n",
    "parameters = {\n",
    "    'tfidf__ngram_range': ((1, 1), (1, 2), (2, 2), (1, 3)),\n",
    "#     'tfidf__min_df': (0.05, 0.1),\n",
    "    'tfidf__max_df': (0.75, 1),\n",
    "    'log_reg__C': (0.01, 0.1, 1, 10)\n",
    "}\n",
    "\n",
    "lg_grid_search = GridSearchCV(pipeline, \n",
    "                           parameters, \n",
    "                           n_jobs=-1, \n",
    "                           scoring=\"accuracy\", \n",
    "                           refit=True, \n",
    "                           cv=5,\n",
    "                           verbose=1)\n",
    "\n",
    "lg_grid_search.fit(X_P_train, y_P_train)\n",
    "\n",
    "print('-'*80)\n",
    "print(f\"Best parameters: {lg_grid_search.best_params_}\")\n",
    "print('-'*80)"
   ]
  },
  {
   "cell_type": "code",
   "execution_count": 28,
   "id": "a57f4e1b",
   "metadata": {
    "hidden": true
   },
   "outputs": [
    {
     "name": "stdout",
     "output_type": "stream",
     "text": [
      "--------------------------------------------------------------------------------\n",
      "Log Reg - FT - CV scores: \n",
      "--------------------------------------------------------------------------------\n",
      "Acc : 0.66\n",
      "Recall: 0.68\n",
      "Precision: 0.69\n",
      "f1: 0.69\n",
      "--------------------------------------------------------------------------------\n",
      "Log Reg - FT - test scores: \n",
      "--------------------------------------------------------------------------------\n",
      "Acc: 0.66\n",
      "Recall: 0.68\n",
      "Precision: 0.69\n",
      "f1: 0.68\n",
      "--------------------------------------------------------------------------------\n"
     ]
    },
    {
     "data": {
      "image/png": "[encoded data removed]",
      "text/plain": [
       "<Figure size 864x432 with 2 Axes>"
      ]
     },
     "metadata": {
      "needs_background": "light"
     },
     "output_type": "display_data"
    }
   ],
   "source": [
    "acc, recall, precision, f1 = get_scores(lg_grid_search.best_estimator_, 'Log Reg - FT', X_P_train, y_P_train, X_P_test, y_P_test)\n",
    "\n",
    "plot_confusion_matrix(lg_grid_search.best_estimator_, X_P_test, y_P_test, values_format='d');"
   ]
  },
  {
   "cell_type": "markdown",
   "id": "RNiHqRowof4C",
   "metadata": {
    "heading_collapsed": true,
    "id": "RNiHqRowof4C"
   },
   "source": [
    "### Naive Bayes"
   ]
  },
  {
   "cell_type": "code",
   "execution_count": 29,
   "id": "0-pVBSYEmELi",
   "metadata": {
    "colab": {
     "base_uri": "https://localhost:8080/",
     "height": 962
    },
    "executionInfo": {
     "elapsed": 1369,
     "status": "ok",
     "timestamp": 1630051323404,
     "user": {
      "displayName": "Julien Seguy",
      "photoUrl": "",
      "userId": "07351507381529939348"
     },
     "user_tz": -480
    },
    "hidden": true,
    "id": "0-pVBSYEmELi",
    "outputId": "39258b02-ea66-49b1-d5de-7d298fbe8141"
   },
   "outputs": [
    {
     "name": "stdout",
     "output_type": "stream",
     "text": [
      "--------------------------------------------------------------------------------\n",
      "Naive Bayes - CV scores: \n",
      "--------------------------------------------------------------------------------\n",
      "Acc : 0.65\n",
      "Recall: 0.70\n",
      "Precision: 0.67\n",
      "f1: 0.69\n",
      "--------------------------------------------------------------------------------\n",
      "Naive Bayes - test scores: \n",
      "--------------------------------------------------------------------------------\n",
      "Acc: 0.65\n",
      "Recall: 0.69\n",
      "Precision: 0.67\n",
      "f1: 0.68\n",
      "--------------------------------------------------------------------------------\n"
     ]
    },
    {
     "data": {
      "image/png": "[encoded data removed]",
      "text/plain": [
       "<Figure size 864x432 with 2 Axes>"
      ]
     },
     "metadata": {
      "needs_background": "light"
     },
     "output_type": "display_data"
    },
    {
     "data": {
      "image/png": "[encoded data removed]",
      "text/plain": [
       "<Figure size 576x360 with 1 Axes>"
      ]
     },
     "metadata": {
      "needs_background": "light"
     },
     "output_type": "display_data"
    }
   ],
   "source": [
    "nb_model = MultinomialNB()\n",
    "acc, recall, precision, f1 = get_scores(nb_model, 'Naive Bayes', X_P_train_vec, y_P_train, X_P_test_vec, y_P_test)\n",
    "\n",
    "plot_confusion_matrix(nb_model, X_P_test_vec, y_P_test, values_format='d');\n",
    "\n",
    "plot_learning_curve(nb_model, 'Naive Bayes', X_P_train_vec, y_P_train)"
   ]
  },
  {
   "cell_type": "markdown",
   "id": "d0fadf5d",
   "metadata": {
    "heading_collapsed": true
   },
   "source": [
    "### Naive Bayes - Fine-Tuning"
   ]
  },
  {
   "cell_type": "code",
   "execution_count": 30,
   "id": "21c68eda",
   "metadata": {
    "hidden": true
   },
   "outputs": [
    {
     "name": "stdout",
     "output_type": "stream",
     "text": [
      "Fitting 5 folds for each of 32 candidates, totalling 160 fits\n",
      "--------------------------------------------------------------------------------\n",
      "Best parameters: {'nb__alpha': 1, 'tfidf__max_df': 0.75, 'tfidf__ngram_range': (1, 2)}\n",
      "--------------------------------------------------------------------------------\n"
     ]
    }
   ],
   "source": [
    "pipeline = Pipeline([\n",
    "    ('tfidf', TfidfVectorizer()),\n",
    "    ('nb', MultinomialNB()),\n",
    "])\n",
    "\n",
    "parameters = {\n",
    "    'tfidf__ngram_range': ((1, 1), (1, 2), (2, 2), (1, 3)),\n",
    "#     'tfidf__min_df': (0.05, 0.1),\n",
    "    'tfidf__max_df': (0.75, 1),\n",
    "    'nb__alpha': (0.01, 0.1, 1, 10)\n",
    "}\n",
    "\n",
    "nb_grid_search = GridSearchCV(pipeline, \n",
    "                           parameters, \n",
    "                           n_jobs=-1, \n",
    "                           scoring=\"accuracy\", \n",
    "                           refit=True, \n",
    "                           cv=5,\n",
    "                           verbose=1)\n",
    "\n",
    "nb_grid_search.fit(X_P_train, y_P_train)\n",
    "\n",
    "print('-'*80)\n",
    "print(f\"Best parameters: {nb_grid_search.best_params_}\")\n",
    "print('-'*80)"
   ]
  },
  {
   "cell_type": "code",
   "execution_count": 31,
   "id": "4ce06072",
   "metadata": {
    "hidden": true
   },
   "outputs": [
    {
     "name": "stdout",
     "output_type": "stream",
     "text": [
      "--------------------------------------------------------------------------------\n",
      "NB - FT - CV scores: \n",
      "--------------------------------------------------------------------------------\n",
      "Acc : 0.65\n",
      "Recall: 0.76\n",
      "Precision: 0.65\n",
      "f1: 0.70\n",
      "--------------------------------------------------------------------------------\n",
      "NB - FT - test scores: \n",
      "--------------------------------------------------------------------------------\n",
      "Acc: 0.66\n",
      "Recall: 0.76\n",
      "Precision: 0.66\n",
      "f1: 0.70\n",
      "--------------------------------------------------------------------------------\n"
     ]
    },
    {
     "data": {
      "image/png": "[encoded data removed]",
      "text/plain": [
       "<Figure size 864x432 with 2 Axes>"
      ]
     },
     "metadata": {
      "needs_background": "light"
     },
     "output_type": "display_data"
    }
   ],
   "source": [
    "acc, recall, precision, f1 = get_scores(nb_grid_search.best_estimator_, 'NB - FT', X_P_train, y_P_train, X_P_test, y_P_test)\n",
    "\n",
    "plot_confusion_matrix(nb_grid_search.best_estimator_, X_P_test, y_P_test, values_format='d');"
   ]
  },
  {
   "cell_type": "markdown",
   "id": "KMkKlT9MomhX",
   "metadata": {
    "heading_collapsed": true,
    "id": "KMkKlT9MomhX"
   },
   "source": [
    "### SVM"
   ]
  },
  {
   "cell_type": "code",
   "execution_count": null,
   "id": "zING8wSemYTV",
   "metadata": {
    "colab": {
     "base_uri": "https://localhost:8080/",
     "height": 1000
    },
    "executionInfo": {
     "elapsed": 41154,
     "status": "error",
     "timestamp": 1630052434805,
     "user": {
      "displayName": "Julien Seguy",
      "photoUrl": "",
      "userId": "07351507381529939348"
     },
     "user_tz": -480
    },
    "hidden": true,
    "id": "zING8wSemYTV",
    "outputId": "baa90d1e-30c0-4ee8-fc3b-0042a387d46f"
   },
   "outputs": [],
   "source": [
    "# svm_model = SVC()\n",
    "# acc, recall, precision, f1 = get_scores(svm_model, 'SVM', X_train_vec, y_train, X_test_vec, y_test)\n",
    "\n",
    "# plot_confusion_matrix(svm_model, X_test_vec, y_test, values_format='d');\n",
    "\n",
    "# # plot_learning_curve(svm_model, 'SVM', X_train_vec, y_train)"
   ]
  },
  {
   "cell_type": "markdown",
   "id": "hC2IhakzopBB",
   "metadata": {
    "heading_collapsed": true,
    "id": "hC2IhakzopBB"
   },
   "source": [
    "### Random Forest"
   ]
  },
  {
   "cell_type": "code",
   "execution_count": null,
   "id": "4CEmUVpmd5Wp",
   "metadata": {
    "hidden": true,
    "id": "4CEmUVpmd5Wp"
   },
   "outputs": [],
   "source": [
    "# forest_model = RandomForestClassifier(n_estimators = 100, random_state = 42)\n",
    "# acc, recall, precision, f1 = get_scores(forest_model, 'RandomForest', X_train_vec, y_train, X_test_vec, y_test)\n",
    "\n",
    "# plot_confusion_matrix(forest_model, X_test_vec, y_test, values_format='d');\n",
    "\n",
    "# # plot_learning_curve(forest_model, 'RandomForest', X_train_vec, y_train)"
   ]
  },
  {
   "cell_type": "markdown",
   "id": "fb47b846",
   "metadata": {
    "heading_collapsed": true,
    "id": "im1MyFURgiyw"
   },
   "source": [
    "### Saving the model"
   ]
  },
  {
   "cell_type": "code",
   "execution_count": 32,
   "id": "d4e4577f",
   "metadata": {
    "hidden": true
   },
   "outputs": [
    {
     "name": "stdout",
     "output_type": "stream",
     "text": [
      "\u001b[32m--------------------------------------------------------------------------------\u001b[0m\n",
      "\u001b[32m../raw_data/P_model.joblib saved locally\u001b[0m\n",
      "\u001b[32m--------------------------------------------------------------------------------\u001b[0m\n"
     ]
    }
   ],
   "source": [
    "model_name = '../raw_data/P_model.joblib'\n",
    "save_model(nb_grid_search.best_estimator_, model_name)"
   ]
  },
  {
   "cell_type": "markdown",
   "id": "52000849",
   "metadata": {
    "heading_collapsed": true
   },
   "source": [
    "### Uploading the model"
   ]
  },
  {
   "cell_type": "code",
   "execution_count": 33,
   "id": "5acde824",
   "metadata": {
    "hidden": true
   },
   "outputs": [],
   "source": [
    "model = get_model(model_name)"
   ]
  },
  {
   "cell_type": "code",
   "execution_count": 34,
   "id": "fa29be1d",
   "metadata": {
    "hidden": true
   },
   "outputs": [
    {
     "name": "stdout",
     "output_type": "stream",
     "text": [
      "--------------------------------------------------------------------------------\n",
      "NB - FT - CV scores: \n",
      "--------------------------------------------------------------------------------\n",
      "Acc : 0.65\n",
      "Recall: 0.76\n",
      "Precision: 0.65\n",
      "f1: 0.70\n",
      "--------------------------------------------------------------------------------\n",
      "NB - FT - test scores: \n",
      "--------------------------------------------------------------------------------\n",
      "Acc: 0.66\n",
      "Recall: 0.76\n",
      "Precision: 0.66\n",
      "f1: 0.70\n",
      "--------------------------------------------------------------------------------\n"
     ]
    },
    {
     "data": {
      "image/png": "[encoded data removed]",
      "text/plain": [
       "<Figure size 864x432 with 2 Axes>"
      ]
     },
     "metadata": {
      "needs_background": "light"
     },
     "output_type": "display_data"
    }
   ],
   "source": [
    "acc, recall, precision, f1 = get_scores(model, 'NB - FT', X_P_train, y_P_train, X_P_test, y_P_test)\n",
    "\n",
    "plot_confusion_matrix(model, X_P_test, y_P_test, values_format='d');"
   ]
  },
  {
   "cell_type": "markdown",
   "id": "5d561689",
   "metadata": {
    "heading_collapsed": true,
    "id": "oWgEwxJggi1c"
   },
   "source": [
    "### `P_model.joblib` evaluation on `FakeNewsNET`"
   ]
  },
  {
   "cell_type": "code",
   "execution_count": 38,
   "id": "uBpnA9uigi9o",
   "metadata": {
    "hidden": true,
    "id": "uBpnA9uigi9o"
   },
   "outputs": [
    {
     "name": "stdout",
     "output_type": "stream",
     "text": [
      "--------------------------------------------------------------------------------\n",
      "../raw_data/P_model.joblib - test scores: \n",
      "--------------------------------------------------------------------------------\n",
      "Acc: 0.29\n",
      "Recall: 0.94\n",
      "Precision: 0.25\n",
      "f1: 0.39\n",
      "--------------------------------------------------------------------------------\n"
     ]
    },
    {
     "data": {
      "image/png": "[encoded data removed]",
      "text/plain": [
       "<Figure size 864x432 with 2 Axes>"
      ]
     },
     "metadata": {
      "needs_background": "light"
     },
     "output_type": "display_data"
    }
   ],
   "source": [
    "model_name = '../raw_data/P_model.joblib'\n",
    "\n",
    "model = get_model(model_name)\n",
    "\n",
    "y_preds = model.predict(X_FNN)\n",
    "\n",
    "print('-'*80)\n",
    "print(f\"{model_name} - test scores: \")\n",
    "binary_metrics(y_FNN, y_preds)\n",
    "\n",
    "plot_confusion_matrix(model, X_FNN, y_FNN, values_format='d');"
   ]
  },
  {
   "cell_type": "markdown",
   "id": "5d3e6cdb",
   "metadata": {
    "heading_collapsed": true,
    "id": "Czb74g1KgjAg"
   },
   "source": [
    "### `P_model.joblib` evaluation on `Bisaillon`"
   ]
  },
  {
   "cell_type": "code",
   "execution_count": 39,
   "id": "258e676e",
   "metadata": {
    "hidden": true
   },
   "outputs": [
    {
     "name": "stdout",
     "output_type": "stream",
     "text": [
      "--------------------------------------------------------------------------------\n",
      "../raw_data/P_model.joblib - test scores: \n",
      "--------------------------------------------------------------------------------\n",
      "Acc: 0.56\n",
      "Recall: 0.97\n",
      "Precision: 0.55\n",
      "f1: 0.70\n",
      "--------------------------------------------------------------------------------\n"
     ]
    },
    {
     "data": {
      "image/png": "[encoded data removed]",
      "text/plain": [
       "<Figure size 864x432 with 2 Axes>"
      ]
     },
     "metadata": {
      "needs_background": "light"
     },
     "output_type": "display_data"
    }
   ],
   "source": [
    "model_name = '../raw_data/P_model.joblib'\n",
    "\n",
    "model = get_model(model_name)\n",
    "\n",
    "y_preds = model.predict(X_BIS)\n",
    "\n",
    "print('-'*80)\n",
    "print(f\"{model_name} - test scores: \")\n",
    "binary_metrics(y_BIS, y_preds)\n",
    "\n",
    "plot_confusion_matrix(model, X_BIS, y_BIS, values_format='d');"
   ]
  },
  {
   "cell_type": "markdown",
   "id": "7bb69a78",
   "metadata": {},
   "source": [
    "## `FakeNewsNET`"
   ]
  },
  {
   "cell_type": "markdown",
   "id": "e008e142",
   "metadata": {},
   "source": [
    "### Preprocessing"
   ]
  },
  {
   "cell_type": "code",
   "execution_count": 40,
   "id": "2449c574",
   "metadata": {},
   "outputs": [
    {
     "name": "stdout",
     "output_type": "stream",
     "text": [
      "--------------------------------------------------------------------------------\n",
      "X_FNN_train_vec shape: (15424, 12773)\n",
      "X_FNN_test_vec shape: (3857, 12773)\n",
      "--------------------------------------------------------------------------------\n",
      "   aaliyah  aaron   ab  abandon  abasolo  abba  abbey  abbi  abbie  abbott  \\\n",
      "0      0.0    0.0  0.0      0.0      0.0   0.0    0.0   0.0    0.0     0.0   \n",
      "1      0.0    0.0  0.0      0.0      0.0   0.0    0.0   0.0    0.0     0.0   \n",
      "2      0.0    0.0  0.0      0.0      0.0   0.0    0.0   0.0    0.0     0.0   \n",
      "3      0.0    0.0  0.0      0.0      0.0   0.0    0.0   0.0    0.0     0.0   \n",
      "4      0.0    0.0  0.0      0.0      0.0   0.0    0.0   0.0    0.0     0.0   \n",
      "\n",
      "   ...  букмекерская  вин  контора  монако  пернелл  питт  принцессы  ради  \\\n",
      "0  ...           0.0  0.0      0.0     0.0      0.0   0.0        0.0   0.0   \n",
      "1  ...           0.0  0.0      0.0     0.0      0.0   0.0        0.0   0.0   \n",
      "2  ...           0.0  0.0      0.0     0.0      0.0   0.0        0.0   0.0   \n",
      "3  ...           0.0  0.0      0.0     0.0      0.0   0.0        0.0   0.0   \n",
      "4  ...           0.0  0.0      0.0     0.0      0.0   0.0        0.0   0.0   \n",
      "\n",
      "   сми  эллу  \n",
      "0  0.0   0.0  \n",
      "1  0.0   0.0  \n",
      "2  0.0   0.0  \n",
      "3  0.0   0.0  \n",
      "4  0.0   0.0  \n",
      "\n",
      "[5 rows x 12773 columns]\n",
      "--------------------------------------------------------------------------------\n"
     ]
    }
   ],
   "source": [
    "vectorizer_F = TfidfVectorizer()\n",
    "X_FNN_train_vec = vectorizer_F.fit_transform(X_FNN_train)\n",
    "X_FNN_test_vec = vectorizer_F.transform(X_FNN_test)\n",
    "\n",
    "X_FNN_train_vec_df = pd.DataFrame(X_FNN_train_vec.toarray(), columns = vectorizer_F.get_feature_names())\n",
    "\n",
    "print('-'*80)\n",
    "print(f\"X_FNN_train_vec shape: {X_FNN_train_vec.shape}\")\n",
    "print(f\"X_FNN_test_vec shape: {X_FNN_test_vec.shape}\")\n",
    "print('-'*80)\n",
    "print(X_FNN_train_vec_df.head())\n",
    "print('-'*80)"
   ]
  },
  {
   "cell_type": "markdown",
   "id": "8c767569",
   "metadata": {
    "heading_collapsed": true
   },
   "source": [
    "### Naive Bayes"
   ]
  },
  {
   "cell_type": "code",
   "execution_count": 41,
   "id": "b2f54c5d",
   "metadata": {
    "hidden": true
   },
   "outputs": [
    {
     "name": "stdout",
     "output_type": "stream",
     "text": [
      "--------------------------------------------------------------------------------\n",
      "Naive Bayes - CV scores: \n",
      "--------------------------------------------------------------------------------\n",
      "Acc : 0.80\n",
      "Recall: 0.25\n",
      "Precision: 0.84\n",
      "f1: 0.39\n",
      "--------------------------------------------------------------------------------\n",
      "Naive Bayes - test scores: \n",
      "--------------------------------------------------------------------------------\n",
      "Acc: 0.82\n",
      "Recall: 0.29\n",
      "Precision: 0.81\n",
      "f1: 0.43\n",
      "--------------------------------------------------------------------------------\n"
     ]
    },
    {
     "data": {
      "image/png": "[encoded data removed]",
      "text/plain": [
       "<Figure size 864x432 with 2 Axes>"
      ]
     },
     "metadata": {
      "needs_background": "light"
     },
     "output_type": "display_data"
    },
    {
     "data": {
      "image/png": "[encoded data removed]",
      "text/plain": [
       "<Figure size 576x360 with 1 Axes>"
      ]
     },
     "metadata": {
      "needs_background": "light"
     },
     "output_type": "display_data"
    }
   ],
   "source": [
    "nb_model = MultinomialNB()\n",
    "acc, recall, precision, f1 = get_scores(nb_model, 'Naive Bayes', X_FNN_train_vec, y_FNN_train, X_FNN_test_vec, y_FNN_test)\n",
    "\n",
    "plot_confusion_matrix(nb_model, X_FNN_test_vec, y_FNN_test, values_format='d');\n",
    "\n",
    "plot_learning_curve(nb_model, 'Naive Bayes', X_FNN_train_vec, y_FNN_train)"
   ]
  },
  {
   "cell_type": "markdown",
   "id": "54ed4227",
   "metadata": {
    "heading_collapsed": true
   },
   "source": [
    "### Naives Bayes - Fine Tuning"
   ]
  },
  {
   "cell_type": "code",
   "execution_count": 42,
   "id": "78692612",
   "metadata": {
    "hidden": true
   },
   "outputs": [
    {
     "name": "stdout",
     "output_type": "stream",
     "text": [
      "Fitting 5 folds for each of 32 candidates, totalling 160 fits\n",
      "--------------------------------------------------------------------------------\n",
      "Best parameters: {'nb__alpha': 0.1, 'tfidf__max_df': 0.75, 'tfidf__ngram_range': (1, 2)}\n",
      "--------------------------------------------------------------------------------\n"
     ]
    }
   ],
   "source": [
    "pipeline = Pipeline([\n",
    "    ('tfidf', TfidfVectorizer()),\n",
    "    ('nb', MultinomialNB()),\n",
    "])\n",
    "\n",
    "parameters = {\n",
    "    'tfidf__ngram_range': ((1, 1), (1, 2), (2, 2), (1, 3)),\n",
    "#     'tfidf__min_df': (0.05, 0.1),\n",
    "    'tfidf__max_df': (0.75, 1),\n",
    "    'nb__alpha': (0.01, 0.1, 1, 10)\n",
    "}\n",
    "\n",
    "nb_grid_search = GridSearchCV(pipeline, \n",
    "                           parameters, \n",
    "                           n_jobs=-1, \n",
    "                           scoring=\"accuracy\", \n",
    "                           refit=True, \n",
    "                           cv=5,\n",
    "                           verbose=1)\n",
    "\n",
    "nb_grid_search.fit(X_FNN_train, y_FNN_train)\n",
    "\n",
    "print('-'*80)\n",
    "print(f\"Best parameters: {nb_grid_search.best_params_}\")\n",
    "print('-'*80)"
   ]
  },
  {
   "cell_type": "code",
   "execution_count": 43,
   "id": "e2e614b6",
   "metadata": {
    "hidden": true
   },
   "outputs": [
    {
     "name": "stdout",
     "output_type": "stream",
     "text": [
      "--------------------------------------------------------------------------------\n",
      "NB - FT - CV scores: \n",
      "--------------------------------------------------------------------------------\n",
      "Acc : 0.82\n",
      "Recall: 0.45\n",
      "Precision: 0.72\n",
      "f1: 0.55\n",
      "--------------------------------------------------------------------------------\n",
      "NB - FT - test scores: \n",
      "--------------------------------------------------------------------------------\n",
      "Acc: 0.83\n",
      "Recall: 0.49\n",
      "Precision: 0.71\n",
      "f1: 0.58\n",
      "--------------------------------------------------------------------------------\n"
     ]
    },
    {
     "data": {
      "image/png": "[encoded data removed]",
      "text/plain": [
       "<Figure size 864x432 with 2 Axes>"
      ]
     },
     "metadata": {
      "needs_background": "light"
     },
     "output_type": "display_data"
    }
   ],
   "source": [
    "acc, recall, precision, f1 = get_scores(nb_grid_search.best_estimator_, 'NB - FT', X_FNN_train, y_FNN_train, X_FNN_test, y_FNN_test)\n",
    "\n",
    "plot_confusion_matrix(nb_grid_search.best_estimator_, X_FNN_test, y_FNN_test, values_format='d');"
   ]
  },
  {
   "cell_type": "markdown",
   "id": "e376bad5",
   "metadata": {
    "heading_collapsed": true
   },
   "source": [
    "### Saving the model"
   ]
  },
  {
   "cell_type": "code",
   "execution_count": 44,
   "id": "1a7d3f40",
   "metadata": {
    "hidden": true
   },
   "outputs": [
    {
     "name": "stdout",
     "output_type": "stream",
     "text": [
      "\u001b[32m--------------------------------------------------------------------------------\u001b[0m\n",
      "\u001b[32m../raw_data/F_model.joblib saved locally\u001b[0m\n",
      "\u001b[32m--------------------------------------------------------------------------------\u001b[0m\n"
     ]
    }
   ],
   "source": [
    "model_name = '../raw_data/F_model.joblib'\n",
    "save_model(nb_grid_search.best_estimator_, model_name)"
   ]
  },
  {
   "cell_type": "markdown",
   "id": "ce908bad",
   "metadata": {
    "heading_collapsed": true
   },
   "source": [
    "### Upload the model"
   ]
  },
  {
   "cell_type": "code",
   "execution_count": 45,
   "id": "30aee880",
   "metadata": {
    "hidden": true
   },
   "outputs": [
    {
     "name": "stdout",
     "output_type": "stream",
     "text": [
      "--------------------------------------------------------------------------------\n",
      "NB - FT - CV scores: \n",
      "--------------------------------------------------------------------------------\n",
      "Acc : 0.82\n",
      "Recall: 0.45\n",
      "Precision: 0.72\n",
      "f1: 0.55\n",
      "--------------------------------------------------------------------------------\n",
      "NB - FT - test scores: \n",
      "--------------------------------------------------------------------------------\n",
      "Acc: 0.83\n",
      "Recall: 0.49\n",
      "Precision: 0.71\n",
      "f1: 0.58\n",
      "--------------------------------------------------------------------------------\n"
     ]
    },
    {
     "data": {
      "image/png": "[encoded data removed]",
      "text/plain": [
       "<Figure size 864x432 with 2 Axes>"
      ]
     },
     "metadata": {
      "needs_background": "light"
     },
     "output_type": "display_data"
    }
   ],
   "source": [
    "model = get_model(model_name)\n",
    "\n",
    "acc, recall, precision, f1 = get_scores(model, 'NB - FT', X_FNN_train, y_FNN_train, X_FNN_test, y_FNN_test)\n",
    "\n",
    "plot_confusion_matrix(model, X_FNN_test, y_FNN_test, values_format='d');"
   ]
  },
  {
   "cell_type": "markdown",
   "id": "30eb116c",
   "metadata": {
    "heading_collapsed": true
   },
   "source": [
    "### `F_model.joblib` evaluation on `Bisaillon`"
   ]
  },
  {
   "cell_type": "code",
   "execution_count": 46,
   "id": "4571b40e",
   "metadata": {
    "hidden": true
   },
   "outputs": [
    {
     "name": "stdout",
     "output_type": "stream",
     "text": [
      "--------------------------------------------------------------------------------\n",
      "../raw_data/F_model.joblib - test scores: \n",
      "--------------------------------------------------------------------------------\n",
      "Acc: 0.50\n",
      "Recall: 0.24\n",
      "Precision: 0.56\n",
      "f1: 0.33\n",
      "--------------------------------------------------------------------------------\n"
     ]
    },
    {
     "data": {
      "image/png": "[encoded data removed]",
      "text/plain": [
       "<Figure size 864x432 with 2 Axes>"
      ]
     },
     "metadata": {
      "needs_background": "light"
     },
     "output_type": "display_data"
    }
   ],
   "source": [
    "model_name = '../raw_data/F_model.joblib'\n",
    "\n",
    "model = get_model(model_name)\n",
    "\n",
    "y_preds = model.predict(X_BIS)\n",
    "\n",
    "print('-'*80)\n",
    "print(f\"{model_name} - test scores: \")\n",
    "binary_metrics(y_BIS, y_preds)\n",
    "\n",
    "plot_confusion_matrix(model, X_BIS, y_BIS, values_format='d');"
   ]
  },
  {
   "cell_type": "markdown",
   "id": "3d715c93",
   "metadata": {
    "heading_collapsed": true
   },
   "source": [
    "### `F_model.joblib` evaluation on  `politifact_scrap`"
   ]
  },
  {
   "cell_type": "code",
   "execution_count": 47,
   "id": "9f231787",
   "metadata": {
    "hidden": true
   },
   "outputs": [
    {
     "name": "stdout",
     "output_type": "stream",
     "text": [
      "--------------------------------------------------------------------------------\n",
      "../raw_data/F_model.joblib - test scores: \n",
      "--------------------------------------------------------------------------------\n",
      "Acc: 0.50\n",
      "Recall: 0.15\n",
      "Precision: 0.70\n",
      "f1: 0.24\n",
      "--------------------------------------------------------------------------------\n"
     ]
    },
    {
     "data": {
      "image/png": "[encoded data removed]",
      "text/plain": [
       "<Figure size 864x432 with 2 Axes>"
      ]
     },
     "metadata": {
      "needs_background": "light"
     },
     "output_type": "display_data"
    }
   ],
   "source": [
    "model_name = '../raw_data/F_model.joblib'\n",
    "\n",
    "model = get_model(model_name)\n",
    "\n",
    "y_preds = model.predict(X_P)\n",
    "\n",
    "print('-'*80)\n",
    "print(f\"{model_name} - test scores: \")\n",
    "binary_metrics(y_P, y_preds)\n",
    "\n",
    "plot_confusion_matrix(model, X_P, y_P, values_format='d');"
   ]
  },
  {
   "cell_type": "markdown",
   "id": "dd7940af",
   "metadata": {},
   "source": [
    "## `Bisaillon`"
   ]
  },
  {
   "cell_type": "markdown",
   "id": "c0d92f3a",
   "metadata": {
    "heading_collapsed": true
   },
   "source": [
    "### Preprocessing"
   ]
  },
  {
   "cell_type": "code",
   "execution_count": 48,
   "id": "ab063533",
   "metadata": {
    "hidden": true
   },
   "outputs": [
    {
     "name": "stdout",
     "output_type": "stream",
     "text": [
      "--------------------------------------------------------------------------------\n",
      "X_BIS_train_vec shape: (35751, 16430)\n",
      "X_BIS_test_vec shape: (8938, 16430)\n",
      "--------------------------------------------------------------------------------\n",
      "    aa  aar  aardvark  aaron  aarp  abadi  abandon  abandoned  abandoning  \\\n",
      "0  0.0  0.0       0.0    0.0   0.0    0.0      0.0        0.0         0.0   \n",
      "1  0.0  0.0       0.0    0.0   0.0    0.0      0.0        0.0         0.0   \n",
      "2  0.0  0.0       0.0    0.0   0.0    0.0      0.0        0.0         0.0   \n",
      "3  0.0  0.0       0.0    0.0   0.0    0.0      0.0        0.0         0.0   \n",
      "4  0.0  0.0       0.0    0.0   0.0    0.0      0.0        0.0         0.0   \n",
      "\n",
      "   abbas  ...  zor  zschaepe  zucker  zuckerberg  zulia  zuma  zummar  zurich  \\\n",
      "0    0.0  ...  0.0       0.0     0.0         0.0    0.0   0.0     0.0     0.0   \n",
      "1    0.0  ...  0.0       0.0     0.0         0.0    0.0   0.0     0.0     0.0   \n",
      "2    0.0  ...  0.0       0.0     0.0         0.0    0.0   0.0     0.0     0.0   \n",
      "3    0.0  ...  0.0       0.0     0.0         0.0    0.0   0.0     0.0     0.0   \n",
      "4    0.0  ...  0.0       0.0     0.0         0.0    0.0   0.0     0.0     0.0   \n",
      "\n",
      "   état  žižek  \n",
      "0   0.0    0.0  \n",
      "1   0.0    0.0  \n",
      "2   0.0    0.0  \n",
      "3   0.0    0.0  \n",
      "4   0.0    0.0  \n",
      "\n",
      "[5 rows x 16430 columns]\n",
      "--------------------------------------------------------------------------------\n"
     ]
    }
   ],
   "source": [
    "vectorizer_B = TfidfVectorizer()\n",
    "X_BIS_train_vec = vectorizer_B.fit_transform(X_BIS_train)\n",
    "X_BIS_test_vec = vectorizer_B.transform(X_BIS_test)\n",
    "\n",
    "X_BIS_train_vec_df = pd.DataFrame(X_BIS_train_vec.toarray(), columns = vectorizer_B.get_feature_names())\n",
    "\n",
    "print('-'*80)\n",
    "print(f\"X_BIS_train_vec shape: {X_BIS_train_vec.shape}\")\n",
    "print(f\"X_BIS_test_vec shape: {X_BIS_test_vec.shape}\")\n",
    "print('-'*80)\n",
    "print(X_BIS_train_vec_df.head())\n",
    "print('-'*80)"
   ]
  },
  {
   "cell_type": "markdown",
   "id": "37596754",
   "metadata": {
    "heading_collapsed": true
   },
   "source": [
    "### Naive Bayes"
   ]
  },
  {
   "cell_type": "code",
   "execution_count": 49,
   "id": "08b7027e",
   "metadata": {
    "hidden": true
   },
   "outputs": [
    {
     "name": "stdout",
     "output_type": "stream",
     "text": [
      "--------------------------------------------------------------------------------\n",
      "Naive Bayes - CV scores: \n",
      "--------------------------------------------------------------------------------\n",
      "Acc : 0.93\n",
      "Recall: 0.95\n",
      "Precision: 0.92\n",
      "f1: 0.94\n",
      "--------------------------------------------------------------------------------\n",
      "Naive Bayes - test scores: \n",
      "--------------------------------------------------------------------------------\n",
      "Acc: 0.94\n",
      "Recall: 0.96\n",
      "Precision: 0.92\n",
      "f1: 0.94\n",
      "--------------------------------------------------------------------------------\n"
     ]
    },
    {
     "data": {
      "image/png": "[encoded data removed]",
      "text/plain": [
       "<Figure size 864x432 with 2 Axes>"
      ]
     },
     "metadata": {
      "needs_background": "light"
     },
     "output_type": "display_data"
    },
    {
     "data": {
      "image/png": "[encoded data removed]",
      "text/plain": [
       "<Figure size 576x360 with 1 Axes>"
      ]
     },
     "metadata": {
      "needs_background": "light"
     },
     "output_type": "display_data"
    }
   ],
   "source": [
    "nb_model = MultinomialNB()\n",
    "acc, recall, precision, f1 = get_scores(nb_model, 'Naive Bayes', X_BIS_train_vec, y_BIS_train, X_BIS_test_vec, y_BIS_test)\n",
    "\n",
    "plot_confusion_matrix(nb_model, X_BIS_test_vec, y_BIS_test, values_format='d');\n",
    "\n",
    "plot_learning_curve(nb_model, 'Naive Bayes', X_BIS_train_vec, y_BIS_train)"
   ]
  },
  {
   "cell_type": "markdown",
   "id": "3ca7cc62",
   "metadata": {
    "heading_collapsed": true
   },
   "source": [
    "### Naive Bayes - Fine-Tuning"
   ]
  },
  {
   "cell_type": "code",
   "execution_count": 50,
   "id": "3e7d3831",
   "metadata": {
    "hidden": true
   },
   "outputs": [
    {
     "name": "stdout",
     "output_type": "stream",
     "text": [
      "Fitting 5 folds for each of 32 candidates, totalling 160 fits\n",
      "--------------------------------------------------------------------------------\n",
      "Best parameters: {'nb__alpha': 0.1, 'tfidf__max_df': 0.75, 'tfidf__ngram_range': (1, 3)}\n",
      "--------------------------------------------------------------------------------\n"
     ]
    }
   ],
   "source": [
    "pipeline = Pipeline([\n",
    "    ('tfidf', TfidfVectorizer()),\n",
    "    ('nb', MultinomialNB()),\n",
    "])\n",
    "\n",
    "parameters = {\n",
    "    'tfidf__ngram_range': ((1, 1), (1, 2), (2, 2), (1, 3)),\n",
    "#     'tfidf__min_df': (0.05, 0.1),\n",
    "    'tfidf__max_df': (0.75, 1),\n",
    "    'nb__alpha': (0.01, 0.1, 1, 10)\n",
    "}\n",
    "\n",
    "nb_grid_search = GridSearchCV(pipeline, \n",
    "                           parameters, \n",
    "                           n_jobs=-1, \n",
    "                           scoring=\"accuracy\", \n",
    "                           refit=True, \n",
    "                           cv=5,\n",
    "                           verbose=1)\n",
    "\n",
    "nb_grid_search.fit(X_BIS_train, y_BIS_train)\n",
    "\n",
    "print('-'*80)\n",
    "print(f\"Best parameters: {nb_grid_search.best_params_}\")\n",
    "print('-'*80)"
   ]
  },
  {
   "cell_type": "code",
   "execution_count": 51,
   "id": "76d49cfc",
   "metadata": {
    "hidden": true
   },
   "outputs": [
    {
     "name": "stdout",
     "output_type": "stream",
     "text": [
      "--------------------------------------------------------------------------------\n",
      "NB - FT - CV scores: \n",
      "--------------------------------------------------------------------------------\n",
      "Acc : 0.95\n",
      "Recall: 0.97\n",
      "Precision: 0.93\n",
      "f1: 0.95\n",
      "--------------------------------------------------------------------------------\n",
      "NB - FT - test scores: \n",
      "--------------------------------------------------------------------------------\n",
      "Acc: 0.95\n",
      "Recall: 0.97\n",
      "Precision: 0.94\n",
      "f1: 0.95\n",
      "--------------------------------------------------------------------------------\n"
     ]
    },
    {
     "data": {
      "image/png": "[encoded data removed]",
      "text/plain": [
       "<Figure size 864x432 with 2 Axes>"
      ]
     },
     "metadata": {
      "needs_background": "light"
     },
     "output_type": "display_data"
    }
   ],
   "source": [
    "acc, recall, precision, f1 = get_scores(nb_grid_search.best_estimator_, 'NB - FT', X_BIS_train, y_BIS_train, X_BIS_test, y_BIS_test)\n",
    "\n",
    "plot_confusion_matrix(nb_grid_search.best_estimator_, X_BIS_test, y_BIS_test, values_format='d');"
   ]
  },
  {
   "cell_type": "markdown",
   "id": "74650d08",
   "metadata": {
    "heading_collapsed": true
   },
   "source": [
    "### Saving the model"
   ]
  },
  {
   "cell_type": "code",
   "execution_count": 52,
   "id": "6996b05c",
   "metadata": {
    "hidden": true
   },
   "outputs": [
    {
     "name": "stdout",
     "output_type": "stream",
     "text": [
      "\u001b[32m--------------------------------------------------------------------------------\u001b[0m\n",
      "\u001b[32m../raw_data/B_model.joblib saved locally\u001b[0m\n",
      "\u001b[32m--------------------------------------------------------------------------------\u001b[0m\n"
     ]
    }
   ],
   "source": [
    "model_name = '../raw_data/B_model.joblib'\n",
    "save_model(nb_grid_search.best_estimator_, model_name)"
   ]
  },
  {
   "cell_type": "markdown",
   "id": "3493a953",
   "metadata": {
    "heading_collapsed": true
   },
   "source": [
    "### Uploading the model"
   ]
  },
  {
   "cell_type": "code",
   "execution_count": 53,
   "id": "1bf49fe9",
   "metadata": {
    "hidden": true
   },
   "outputs": [],
   "source": [
    "model = get_model(model_name)"
   ]
  },
  {
   "cell_type": "code",
   "execution_count": 54,
   "id": "e786d03c",
   "metadata": {
    "hidden": true
   },
   "outputs": [
    {
     "name": "stdout",
     "output_type": "stream",
     "text": [
      "--------------------------------------------------------------------------------\n",
      "NB - FT - CV scores: \n",
      "--------------------------------------------------------------------------------\n",
      "Acc : 0.95\n",
      "Recall: 0.97\n",
      "Precision: 0.93\n",
      "f1: 0.95\n",
      "--------------------------------------------------------------------------------\n",
      "NB - FT - test scores: \n",
      "--------------------------------------------------------------------------------\n",
      "Acc: 0.95\n",
      "Recall: 0.97\n",
      "Precision: 0.94\n",
      "f1: 0.95\n",
      "--------------------------------------------------------------------------------\n"
     ]
    },
    {
     "data": {
      "image/png": "[encoded data removed]",
      "text/plain": [
       "<Figure size 864x432 with 2 Axes>"
      ]
     },
     "metadata": {
      "needs_background": "light"
     },
     "output_type": "display_data"
    }
   ],
   "source": [
    "acc, recall, precision, f1 = get_scores(model, 'NB - FT', X_BIS_train, y_BIS_train, X_BIS_test, y_BIS_test)\n",
    "\n",
    "plot_confusion_matrix(model, X_BIS_test, y_BIS_test, values_format='d');"
   ]
  },
  {
   "cell_type": "markdown",
   "id": "554c5c36",
   "metadata": {
    "heading_collapsed": true
   },
   "source": [
    "### `B_model.joblib` evaluation on `FakeNewsNET`"
   ]
  },
  {
   "cell_type": "code",
   "execution_count": 55,
   "id": "f31db14c",
   "metadata": {
    "hidden": true
   },
   "outputs": [
    {
     "name": "stdout",
     "output_type": "stream",
     "text": [
      "--------------------------------------------------------------------------------\n",
      "../raw_data/B_model.joblib - test scores: \n",
      "--------------------------------------------------------------------------------\n",
      "Acc: 0.31\n",
      "Recall: 0.89\n",
      "Precision: 0.25\n",
      "f1: 0.39\n",
      "--------------------------------------------------------------------------------\n"
     ]
    },
    {
     "data": {
      "image/png": "[encoded data removed]",
      "text/plain": [
       "<Figure size 864x432 with 2 Axes>"
      ]
     },
     "metadata": {
      "needs_background": "light"
     },
     "output_type": "display_data"
    }
   ],
   "source": [
    "model_name = '../raw_data/B_model.joblib'\n",
    "\n",
    "model = get_model(model_name)\n",
    "\n",
    "y_preds = model.predict(X_FNN)\n",
    "\n",
    "print('-'*80)\n",
    "print(f\"{model_name} - test scores: \")\n",
    "binary_metrics(y_FNN, y_preds)\n",
    "\n",
    "plot_confusion_matrix(model, X_FNN, y_FNN, values_format='d');"
   ]
  },
  {
   "cell_type": "markdown",
   "id": "d07a6a04",
   "metadata": {
    "heading_collapsed": true
   },
   "source": [
    "### `B_model.joblib` evaluation on `politifact scrap`"
   ]
  },
  {
   "cell_type": "code",
   "execution_count": 56,
   "id": "316c55ee",
   "metadata": {
    "hidden": true
   },
   "outputs": [
    {
     "name": "stdout",
     "output_type": "stream",
     "text": [
      "--------------------------------------------------------------------------------\n",
      "../raw_data/B_model.joblib - test scores: \n",
      "--------------------------------------------------------------------------------\n",
      "Acc: 0.56\n",
      "Recall: 0.73\n",
      "Precision: 0.58\n",
      "f1: 0.65\n",
      "--------------------------------------------------------------------------------\n"
     ]
    },
    {
     "data": {
      "image/png": "[encoded data removed]",
      "text/plain": [
       "<Figure size 864x432 with 2 Axes>"
      ]
     },
     "metadata": {
      "needs_background": "light"
     },
     "output_type": "display_data"
    }
   ],
   "source": [
    "model_name = '../raw_data/B_model.joblib'\n",
    "\n",
    "model = get_model(model_name)\n",
    "\n",
    "y_preds = model.predict(X_P)\n",
    "\n",
    "print('-'*80)\n",
    "print(f\"{model_name} - test scores: \")\n",
    "binary_metrics(y_P, y_preds)\n",
    "\n",
    "plot_confusion_matrix(model, X_P, y_P, values_format='d');"
   ]
  },
  {
   "cell_type": "markdown",
   "id": "677b5b3d",
   "metadata": {},
   "source": [
    "## `Poynter`"
   ]
  },
  {
   "cell_type": "markdown",
   "id": "b549746d",
   "metadata": {
    "heading_collapsed": true
   },
   "source": [
    "### Preprocessing"
   ]
  },
  {
   "cell_type": "code",
   "execution_count": 57,
   "id": "7638c36a",
   "metadata": {
    "hidden": true
   },
   "outputs": [
    {
     "name": "stdout",
     "output_type": "stream",
     "text": [
      "--------------------------------------------------------------------------------\n",
      "X_PO_train_vec shape: (11917, 12066)\n",
      "X_PO_test_vec shape: (2980, 12066)\n",
      "--------------------------------------------------------------------------------\n",
      "    aa  aaj  aap  aardvark  aardvarkmobiletours  aarhus  aarogya  aaron   ab  \\\n",
      "0  0.0  0.0  0.0       0.0                  0.0     0.0      0.0    0.0  0.0   \n",
      "1  0.0  0.0  0.0       0.0                  0.0     0.0      0.0    0.0  0.0   \n",
      "2  0.0  0.0  0.0       0.0                  0.0     0.0      0.0    0.0  0.0   \n",
      "3  0.0  0.0  0.0       0.0                  0.0     0.0      0.0    0.0  0.0   \n",
      "4  0.0  0.0  0.0       0.0                  0.0     0.0      0.0    0.0  0.0   \n",
      "\n",
      "   abandoned  ...  ángel  áñez  çetinkaya  évora  ümit  łukasz  şahin  \\\n",
      "0        0.0  ...    0.0   0.0        0.0    0.0   0.0     0.0    0.0   \n",
      "1        0.0  ...    0.0   0.0        0.0    0.0   0.0     0.0    0.0   \n",
      "2        0.0  ...    0.0   0.0        0.0    0.0   0.0     0.0    0.0   \n",
      "3        0.0  ...    0.0   0.0        0.0    0.0   0.0     0.0    0.0   \n",
      "4        0.0  ...    0.0   0.0        0.0    0.0   0.0     0.0    0.0   \n",
      "\n",
      "   şerafettin  вести  североуральские  \n",
      "0         0.0    0.0              0.0  \n",
      "1         0.0    0.0              0.0  \n",
      "2         0.0    0.0              0.0  \n",
      "3         0.0    0.0              0.0  \n",
      "4         0.0    0.0              0.0  \n",
      "\n",
      "[5 rows x 12066 columns]\n",
      "--------------------------------------------------------------------------------\n"
     ]
    }
   ],
   "source": [
    "vectorizer_PO = TfidfVectorizer()\n",
    "X_PO_train_vec = vectorizer_PO.fit_transform(X_PO_train)\n",
    "X_PO_test_vec = vectorizer_PO.transform(X_PO_test)\n",
    "\n",
    "X_PO_train_vec_df = pd.DataFrame(X_PO_train_vec.toarray(), columns = vectorizer_PO.get_feature_names())\n",
    "\n",
    "print('-'*80)\n",
    "print(f\"X_PO_train_vec shape: {X_PO_train_vec.shape}\")\n",
    "print(f\"X_PO_test_vec shape: {X_PO_test_vec.shape}\")\n",
    "print('-'*80)\n",
    "print(X_PO_train_vec_df.head())\n",
    "print('-'*80)"
   ]
  },
  {
   "cell_type": "markdown",
   "id": "e532b5e8",
   "metadata": {
    "heading_collapsed": true
   },
   "source": [
    "### Naive Bayes"
   ]
  },
  {
   "cell_type": "code",
   "execution_count": 58,
   "id": "ac7da856",
   "metadata": {
    "hidden": true
   },
   "outputs": [
    {
     "name": "stdout",
     "output_type": "stream",
     "text": [
      "--------------------------------------------------------------------------------\n",
      "Naive Bayes - CV scores: \n",
      "--------------------------------------------------------------------------------\n",
      "Acc : 0.78\n",
      "Recall: 0.74\n",
      "Precision: 0.80\n",
      "f1: 0.77\n",
      "--------------------------------------------------------------------------------\n",
      "Naive Bayes - test scores: \n",
      "--------------------------------------------------------------------------------\n",
      "Acc: 0.79\n",
      "Recall: 0.75\n",
      "Precision: 0.81\n",
      "f1: 0.78\n",
      "--------------------------------------------------------------------------------\n"
     ]
    },
    {
     "data": {
      "image/png": "[encoded data removed]",
      "text/plain": [
       "<Figure size 864x432 with 2 Axes>"
      ]
     },
     "metadata": {
      "needs_background": "light"
     },
     "output_type": "display_data"
    },
    {
     "data": {
      "image/png": "[encoded data removed]",
      "text/plain": [
       "<Figure size 576x360 with 1 Axes>"
      ]
     },
     "metadata": {
      "needs_background": "light"
     },
     "output_type": "display_data"
    }
   ],
   "source": [
    "nb_model = MultinomialNB()\n",
    "acc, recall, precision, f1 = get_scores(nb_model, 'Naive Bayes', X_PO_train_vec, y_PO_train, X_PO_test_vec, y_PO_test)\n",
    "\n",
    "plot_confusion_matrix(nb_model, X_PO_test_vec, y_PO_test, values_format='d');\n",
    "\n",
    "plot_learning_curve(nb_model, 'Naive Bayes', X_PO_train_vec, y_PO_train)"
   ]
  },
  {
   "cell_type": "markdown",
   "id": "89085f62",
   "metadata": {
    "heading_collapsed": true
   },
   "source": [
    "### Naive Bayes - Fine-Tuning"
   ]
  },
  {
   "cell_type": "code",
   "execution_count": 59,
   "id": "a938f19a",
   "metadata": {
    "hidden": true
   },
   "outputs": [
    {
     "name": "stdout",
     "output_type": "stream",
     "text": [
      "Fitting 5 folds for each of 32 candidates, totalling 160 fits\n",
      "--------------------------------------------------------------------------------\n",
      "Best parameters: {'nb__alpha': 1, 'tfidf__max_df': 0.75, 'tfidf__ngram_range': (1, 2)}\n",
      "Best score: 0.7906367319407324\n",
      "--------------------------------------------------------------------------------\n"
     ]
    }
   ],
   "source": [
    "pipeline = Pipeline([\n",
    "    ('tfidf', TfidfVectorizer()),\n",
    "    ('nb', MultinomialNB()),\n",
    "])\n",
    "\n",
    "parameters = {\n",
    "    'tfidf__ngram_range': ((1, 1), (1, 2), (2, 2), (1, 3)),\n",
    "#     'tfidf__min_df': (0.05, 0.1),\n",
    "    'tfidf__max_df': (0.75, 1),\n",
    "    'nb__alpha': (0.01, 0.1, 1, 10)\n",
    "}\n",
    "\n",
    "nb_grid_search = GridSearchCV(pipeline, \n",
    "                           parameters, \n",
    "                           n_jobs=-1, \n",
    "                           scoring=\"accuracy\", \n",
    "                           refit=True, \n",
    "                           cv=5,\n",
    "                           verbose=1)\n",
    "\n",
    "nb_grid_search.fit(X_PO_train, y_PO_train)\n",
    "\n",
    "print('-'*80)\n",
    "print(f\"Best parameters: {nb_grid_search.best_params_}\")\n",
    "print(f\"Best score: {nb_grid_search.best_score_}\")\n",
    "print('-'*80)"
   ]
  },
  {
   "cell_type": "code",
   "execution_count": 60,
   "id": "ae36f0bf",
   "metadata": {
    "hidden": true
   },
   "outputs": [
    {
     "name": "stdout",
     "output_type": "stream",
     "text": [
      "--------------------------------------------------------------------------------\n",
      "NB - FT - CV scores: \n",
      "--------------------------------------------------------------------------------\n",
      "Acc : 0.79\n",
      "Recall: 0.74\n",
      "Precision: 0.82\n",
      "f1: 0.78\n",
      "--------------------------------------------------------------------------------\n",
      "NB - FT - test scores: \n",
      "--------------------------------------------------------------------------------\n",
      "Acc: 0.80\n",
      "Recall: 0.76\n",
      "Precision: 0.83\n",
      "f1: 0.79\n",
      "--------------------------------------------------------------------------------\n"
     ]
    },
    {
     "data": {
      "image/png": "[encoded data removed]",
      "text/plain": [
       "<Figure size 864x432 with 2 Axes>"
      ]
     },
     "metadata": {
      "needs_background": "light"
     },
     "output_type": "display_data"
    }
   ],
   "source": [
    "acc, recall, precision, f1 = get_scores(nb_grid_search.best_estimator_, 'NB - FT', X_PO_train, y_PO_train, X_PO_test, y_PO_test)\n",
    "\n",
    "plot_confusion_matrix(nb_grid_search.best_estimator_, X_PO_test, y_PO_test, values_format='d');"
   ]
  },
  {
   "cell_type": "markdown",
   "id": "a60f9de5",
   "metadata": {
    "heading_collapsed": true
   },
   "source": [
    "### Saving the model"
   ]
  },
  {
   "cell_type": "code",
   "execution_count": 62,
   "id": "4186594b",
   "metadata": {
    "hidden": true
   },
   "outputs": [
    {
     "name": "stdout",
     "output_type": "stream",
     "text": [
      "\u001b[32m--------------------------------------------------------------------------------\u001b[0m\n",
      "\u001b[32m../raw_data/PO_model.joblib saved locally\u001b[0m\n",
      "\u001b[32m--------------------------------------------------------------------------------\u001b[0m\n"
     ]
    }
   ],
   "source": [
    "model_name = '../raw_data/PO_model.joblib'\n",
    "    \n",
    "save_model(nb_grid_search.best_estimator_, model_name)\n",
    "\n",
    "model = get_model(model_name)"
   ]
  },
  {
   "cell_type": "markdown",
   "id": "d9b02155",
   "metadata": {
    "heading_collapsed": true
   },
   "source": [
    "### Uploading the model"
   ]
  },
  {
   "cell_type": "code",
   "execution_count": 63,
   "id": "2e33f8f7",
   "metadata": {
    "hidden": true
   },
   "outputs": [],
   "source": [
    "model = get_model(model_name)"
   ]
  },
  {
   "cell_type": "code",
   "execution_count": 64,
   "id": "681dac37",
   "metadata": {
    "hidden": true
   },
   "outputs": [
    {
     "name": "stdout",
     "output_type": "stream",
     "text": [
      "--------------------------------------------------------------------------------\n",
      "NB - FT - CV scores: \n",
      "--------------------------------------------------------------------------------\n",
      "Acc : 0.79\n",
      "Recall: 0.74\n",
      "Precision: 0.82\n",
      "f1: 0.78\n",
      "--------------------------------------------------------------------------------\n",
      "NB - FT - test scores: \n",
      "--------------------------------------------------------------------------------\n",
      "Acc: 0.80\n",
      "Recall: 0.76\n",
      "Precision: 0.83\n",
      "f1: 0.79\n",
      "--------------------------------------------------------------------------------\n"
     ]
    },
    {
     "data": {
      "image/png": "[encoded data removed]",
      "text/plain": [
       "<Figure size 864x432 with 2 Axes>"
      ]
     },
     "metadata": {
      "needs_background": "light"
     },
     "output_type": "display_data"
    }
   ],
   "source": [
    "acc, recall, precision, f1 = get_scores(model, 'NB - FT', X_PO_train, y_PO_train, X_PO_test, y_PO_test)\n",
    "\n",
    "plot_confusion_matrix(model, X_PO_test, y_PO_test, values_format='d');"
   ]
  },
  {
   "cell_type": "markdown",
   "id": "b701cfbe",
   "metadata": {
    "heading_collapsed": true
   },
   "source": [
    "### `PO_model.joblib` evaluation on `politifact_scrap`"
   ]
  },
  {
   "cell_type": "code",
   "execution_count": 65,
   "id": "2db58052",
   "metadata": {
    "hidden": true
   },
   "outputs": [
    {
     "name": "stdout",
     "output_type": "stream",
     "text": [
      "--------------------------------------------------------------------------------\n",
      "../raw_data/PO_model.joblib - test scores: \n",
      "--------------------------------------------------------------------------------\n",
      "Acc: 0.54\n",
      "Recall: 0.55\n",
      "Precision: 0.58\n",
      "f1: 0.56\n",
      "--------------------------------------------------------------------------------\n"
     ]
    },
    {
     "data": {
      "image/png": "[encoded data removed]",
      "text/plain": [
       "<Figure size 864x432 with 2 Axes>"
      ]
     },
     "metadata": {
      "needs_background": "light"
     },
     "output_type": "display_data"
    }
   ],
   "source": [
    "y_preds = model.predict(X_P_test)\n",
    "\n",
    "print('-'*80)\n",
    "print(f\"{model_name} - test scores: \")\n",
    "binary_metrics(y_P_test, y_preds)\n",
    "\n",
    "plot_confusion_matrix(model, X_P_test, y_P_test, values_format='d');"
   ]
  },
  {
   "cell_type": "markdown",
   "id": "aab07476",
   "metadata": {
    "heading_collapsed": true
   },
   "source": [
    "### `PO_model.joblib` evaluation on `FakeNewsNET`"
   ]
  },
  {
   "cell_type": "code",
   "execution_count": 66,
   "id": "3a539d66",
   "metadata": {
    "hidden": true
   },
   "outputs": [
    {
     "name": "stdout",
     "output_type": "stream",
     "text": [
      "--------------------------------------------------------------------------------\n",
      "../raw_data/PO_model.joblib - test scores: \n",
      "--------------------------------------------------------------------------------\n",
      "Acc: 0.48\n",
      "Recall: 0.51\n",
      "Precision: 0.23\n",
      "f1: 0.32\n",
      "--------------------------------------------------------------------------------\n"
     ]
    },
    {
     "data": {
      "image/png": "[encoded data removed]",
      "text/plain": [
       "<Figure size 864x432 with 2 Axes>"
      ]
     },
     "metadata": {
      "needs_background": "light"
     },
     "output_type": "display_data"
    }
   ],
   "source": [
    "y_preds = model.predict(X_FNN_test)\n",
    "\n",
    "print('-'*80)\n",
    "print(f\"{model_name} - test scores: \")\n",
    "binary_metrics(y_FNN_test, y_preds)\n",
    "\n",
    "plot_confusion_matrix(model, X_FNN_test, y_FNN_test, values_format='d');"
   ]
  },
  {
   "cell_type": "markdown",
   "id": "3119068f",
   "metadata": {
    "heading_collapsed": true
   },
   "source": [
    "### `PO_model.joblib` evaluation on `Bisaillon`"
   ]
  },
  {
   "cell_type": "code",
   "execution_count": 67,
   "id": "6c3bd6c6",
   "metadata": {
    "hidden": true
   },
   "outputs": [
    {
     "name": "stdout",
     "output_type": "stream",
     "text": [
      "--------------------------------------------------------------------------------\n",
      "../raw_data/PO_model.joblib - test scores: \n",
      "--------------------------------------------------------------------------------\n",
      "Acc: 0.55\n",
      "Recall: 0.62\n",
      "Precision: 0.56\n",
      "f1: 0.59\n",
      "--------------------------------------------------------------------------------\n"
     ]
    },
    {
     "data": {
      "image/png": "[encoded data removed]",
      "text/plain": [
       "<Figure size 864x432 with 2 Axes>"
      ]
     },
     "metadata": {
      "needs_background": "light"
     },
     "output_type": "display_data"
    }
   ],
   "source": [
    "y_preds = model.predict(X_BIS_test)\n",
    "\n",
    "print('-'*80)\n",
    "print(f\"{model_name} - test scores: \")\n",
    "binary_metrics(y_BIS_test, y_preds)\n",
    "\n",
    "plot_confusion_matrix(model, X_BIS_test, y_BIS_test, values_format='d');"
   ]
  },
  {
   "cell_type": "markdown",
   "id": "28da9940",
   "metadata": {},
   "source": [
    "## `All`"
   ]
  },
  {
   "cell_type": "markdown",
   "id": "0afec866",
   "metadata": {
    "heading_collapsed": true
   },
   "source": [
    "### Preprocessing"
   ]
  },
  {
   "cell_type": "code",
   "execution_count": 68,
   "id": "de31518e",
   "metadata": {
    "hidden": true
   },
   "outputs": [
    {
     "name": "stdout",
     "output_type": "stream",
     "text": [
      "--------------------------------------------------------------------------------\n",
      "X_ALL_train_vec shape: (67036, 25502)\n",
      "X_ALL_test_vec shape: (16760, 25502)\n",
      "--------------------------------------------------------------------------------\n",
      "    aa  aaa  aaliyah  aar  aardvark  aaron  aarp   ab  aba  abaco  ...  вин  \\\n",
      "0  0.0  0.0      0.0  0.0       0.0    0.0   0.0  0.0  0.0    0.0  ...  0.0   \n",
      "1  0.0  0.0      0.0  0.0       0.0    0.0   0.0  0.0  0.0    0.0  ...  0.0   \n",
      "2  0.0  0.0      0.0  0.0       0.0    0.0   0.0  0.0  0.0    0.0  ...  0.0   \n",
      "3  0.0  0.0      0.0  0.0       0.0    0.0   0.0  0.0  0.0    0.0  ...  0.0   \n",
      "4  0.0  0.0      0.0  0.0       0.0    0.0   0.0  0.0  0.0    0.0  ...  0.0   \n",
      "\n",
      "   контора  монако  пернелл  питт  принцессы  ради  сми  эллу  ḍozen  \n",
      "0      0.0     0.0      0.0   0.0        0.0   0.0  0.0   0.0    0.0  \n",
      "1      0.0     0.0      0.0   0.0        0.0   0.0  0.0   0.0    0.0  \n",
      "2      0.0     0.0      0.0   0.0        0.0   0.0  0.0   0.0    0.0  \n",
      "3      0.0     0.0      0.0   0.0        0.0   0.0  0.0   0.0    0.0  \n",
      "4      0.0     0.0      0.0   0.0        0.0   0.0  0.0   0.0    0.0  \n",
      "\n",
      "[5 rows x 25502 columns]\n",
      "--------------------------------------------------------------------------------\n"
     ]
    }
   ],
   "source": [
    "vectorizer_ALL = TfidfVectorizer()\n",
    "X_ALL_train_vec = vectorizer_ALL.fit_transform(X_ALL_train)\n",
    "X_ALL_test_vec = vectorizer_ALL.transform(X_ALL_test)\n",
    "\n",
    "X_ALL_train_vec_df = pd.DataFrame(X_ALL_train_vec.toarray(), columns = vectorizer_ALL.get_feature_names())\n",
    "\n",
    "print('-'*80)\n",
    "print(f\"X_ALL_train_vec shape: {X_ALL_train_vec.shape}\")\n",
    "print(f\"X_ALL_test_vec shape: {X_ALL_test_vec.shape}\")\n",
    "print('-'*80)\n",
    "print(X_ALL_train_vec_df.head())\n",
    "print('-'*80)"
   ]
  },
  {
   "cell_type": "markdown",
   "id": "b8738e67",
   "metadata": {
    "heading_collapsed": true
   },
   "source": [
    "### Naive Bayes"
   ]
  },
  {
   "cell_type": "code",
   "execution_count": 69,
   "id": "624462ba",
   "metadata": {
    "hidden": true
   },
   "outputs": [
    {
     "name": "stdout",
     "output_type": "stream",
     "text": [
      "--------------------------------------------------------------------------------\n",
      "Naive Bayes - CV scores: \n",
      "--------------------------------------------------------------------------------\n",
      "Acc : 0.81\n",
      "Recall: 0.78\n",
      "Precision: 0.81\n",
      "f1: 0.80\n",
      "--------------------------------------------------------------------------------\n",
      "Naive Bayes - test scores: \n",
      "--------------------------------------------------------------------------------\n",
      "Acc: 0.82\n",
      "Recall: 0.78\n",
      "Precision: 0.82\n",
      "f1: 0.80\n",
      "--------------------------------------------------------------------------------\n"
     ]
    },
    {
     "data": {
      "image/png": "[encoded data removed]",
      "text/plain": [
       "<Figure size 864x432 with 2 Axes>"
      ]
     },
     "metadata": {
      "needs_background": "light"
     },
     "output_type": "display_data"
    },
    {
     "data": {
      "image/png": "[encoded data removed]",
      "text/plain": [
       "<Figure size 576x360 with 1 Axes>"
      ]
     },
     "metadata": {
      "needs_background": "light"
     },
     "output_type": "display_data"
    }
   ],
   "source": [
    "nb_model = MultinomialNB()\n",
    "acc, recall, precision, f1 = get_scores(nb_model, 'Naive Bayes', X_ALL_train_vec, y_ALL_train, X_ALL_test_vec, y_ALL_test)\n",
    "\n",
    "plot_confusion_matrix(nb_model, X_ALL_test_vec, y_ALL_test, values_format='d');\n",
    "\n",
    "plot_learning_curve(nb_model, 'Naive Bayes', X_ALL_train_vec, y_ALL_train)"
   ]
  },
  {
   "cell_type": "markdown",
   "id": "8e456273",
   "metadata": {
    "heading_collapsed": true
   },
   "source": [
    "### Naive Bayes - Fine-Tuning"
   ]
  },
  {
   "cell_type": "code",
   "execution_count": 70,
   "id": "9d75590c",
   "metadata": {
    "hidden": true
   },
   "outputs": [
    {
     "name": "stdout",
     "output_type": "stream",
     "text": [
      "Fitting 5 folds for each of 32 candidates, totalling 160 fits\n",
      "--------------------------------------------------------------------------------\n",
      "Best parameters: {'nb__alpha': 1, 'tfidf__max_df': 0.75, 'tfidf__ngram_range': (1, 3)}\n",
      "Best score: 0.8315830198505287\n",
      "--------------------------------------------------------------------------------\n"
     ]
    }
   ],
   "source": [
    "pipeline = Pipeline([\n",
    "    ('tfidf', TfidfVectorizer()),\n",
    "    ('nb', MultinomialNB()),\n",
    "])\n",
    "\n",
    "parameters = {\n",
    "    'tfidf__ngram_range': ((1, 1), (1, 2), (2, 2), (1, 3)),\n",
    "#     'tfidf__min_df': (0.05, 0.1),\n",
    "    'tfidf__max_df': (0.75, 1),\n",
    "    'nb__alpha': (0.01, 0.1, 1, 10)\n",
    "}\n",
    "\n",
    "nb_grid_search = GridSearchCV(pipeline, \n",
    "                           parameters, \n",
    "                           n_jobs=-1, \n",
    "                           scoring=\"accuracy\", \n",
    "                           refit=True, \n",
    "                           cv=5,\n",
    "                           verbose=1)\n",
    "\n",
    "nb_grid_search.fit(X_ALL_train, y_ALL_train)\n",
    "\n",
    "print('-'*80)\n",
    "print(f\"Best parameters: {nb_grid_search.best_params_}\")\n",
    "print(f\"Best score: {nb_grid_search.best_score_}\")\n",
    "print('-'*80)"
   ]
  },
  {
   "cell_type": "code",
   "execution_count": 71,
   "id": "b650f4c8",
   "metadata": {
    "hidden": true,
    "scrolled": true
   },
   "outputs": [
    {
     "name": "stdout",
     "output_type": "stream",
     "text": [
      "--------------------------------------------------------------------------------\n",
      "NB - FT - CV scores: \n",
      "--------------------------------------------------------------------------------\n",
      "Acc : 0.83\n",
      "Recall: 0.78\n",
      "Precision: 0.85\n",
      "f1: 0.81\n",
      "--------------------------------------------------------------------------------\n",
      "NB - FT - test scores: \n",
      "--------------------------------------------------------------------------------\n",
      "Acc: 0.83\n",
      "Recall: 0.78\n",
      "Precision: 0.85\n",
      "f1: 0.81\n",
      "--------------------------------------------------------------------------------\n"
     ]
    },
    {
     "data": {
      "image/png": "[encoded data removed]",
      "text/plain": [
       "<Figure size 864x432 with 2 Axes>"
      ]
     },
     "metadata": {
      "needs_background": "light"
     },
     "output_type": "display_data"
    }
   ],
   "source": [
    "acc, recall, precision, f1 = get_scores(nb_grid_search.best_estimator_, 'NB - FT', X_ALL_train, y_ALL_train, X_ALL_test, y_ALL_test)\n",
    "\n",
    "plot_confusion_matrix(nb_grid_search.best_estimator_, X_ALL_test, y_ALL_test, values_format='d');"
   ]
  },
  {
   "cell_type": "markdown",
   "id": "3751a596",
   "metadata": {
    "heading_collapsed": true
   },
   "source": [
    "### Saving the model"
   ]
  },
  {
   "cell_type": "code",
   "execution_count": 72,
   "id": "dbb6d7cc",
   "metadata": {
    "hidden": true
   },
   "outputs": [
    {
     "name": "stdout",
     "output_type": "stream",
     "text": [
      "\u001b[32m--------------------------------------------------------------------------------\u001b[0m\n",
      "\u001b[32m../raw_data/ALL_model.joblib saved locally\u001b[0m\n",
      "\u001b[32m--------------------------------------------------------------------------------\u001b[0m\n"
     ]
    }
   ],
   "source": [
    "model_name = '../raw_data/ALL_model.joblib'\n",
    "    \n",
    "save_model(nb_grid_search.best_estimator_, model_name)\n",
    "\n",
    "model = get_model(model_name)"
   ]
  },
  {
   "cell_type": "markdown",
   "id": "93253a1d",
   "metadata": {
    "heading_collapsed": true
   },
   "source": [
    "### Uploading the model"
   ]
  },
  {
   "cell_type": "code",
   "execution_count": 73,
   "id": "22d4ec0b",
   "metadata": {
    "hidden": true
   },
   "outputs": [],
   "source": [
    "model = get_model(model_name)"
   ]
  },
  {
   "cell_type": "code",
   "execution_count": 74,
   "id": "9d3c1072",
   "metadata": {
    "hidden": true
   },
   "outputs": [
    {
     "name": "stdout",
     "output_type": "stream",
     "text": [
      "--------------------------------------------------------------------------------\n",
      "NB - FT - CV scores: \n",
      "--------------------------------------------------------------------------------\n",
      "Acc : 0.83\n",
      "Recall: 0.78\n",
      "Precision: 0.85\n",
      "f1: 0.81\n",
      "--------------------------------------------------------------------------------\n",
      "NB - FT - test scores: \n",
      "--------------------------------------------------------------------------------\n",
      "Acc: 0.83\n",
      "Recall: 0.78\n",
      "Precision: 0.85\n",
      "f1: 0.81\n",
      "--------------------------------------------------------------------------------\n"
     ]
    },
    {
     "data": {
      "image/png": "[encoded data removed]",
      "text/plain": [
       "<Figure size 864x432 with 2 Axes>"
      ]
     },
     "metadata": {
      "needs_background": "light"
     },
     "output_type": "display_data"
    }
   ],
   "source": [
    "acc, recall, precision, f1 = get_scores(model, 'NB - FT', X_ALL_train, y_ALL_train, X_ALL_test, y_ALL_test)\n",
    "\n",
    "plot_confusion_matrix(model, X_ALL_test, y_ALL_test, values_format='d');"
   ]
  },
  {
   "cell_type": "markdown",
   "id": "08bce692",
   "metadata": {
    "heading_collapsed": true
   },
   "source": [
    "### `ALL_model.joblib` evaluation on `politifact_scrap`"
   ]
  },
  {
   "cell_type": "code",
   "execution_count": 75,
   "id": "bebf7f01",
   "metadata": {
    "hidden": true
   },
   "outputs": [
    {
     "name": "stdout",
     "output_type": "stream",
     "text": [
      "--------------------------------------------------------------------------------\n",
      "../raw_data/ALL_model.joblib - test scores: \n",
      "--------------------------------------------------------------------------------\n",
      "Acc: 0.88\n",
      "Recall: 0.86\n",
      "Precision: 0.92\n",
      "f1: 0.89\n",
      "--------------------------------------------------------------------------------\n"
     ]
    },
    {
     "data": {
      "image/png": "[encoded data removed]",
      "text/plain": [
       "<Figure size 864x432 with 2 Axes>"
      ]
     },
     "metadata": {
      "needs_background": "light"
     },
     "output_type": "display_data"
    }
   ],
   "source": [
    "y_preds = model.predict(X_P_test)\n",
    "\n",
    "print('-'*80)\n",
    "print(f\"{model_name} - test scores: \")\n",
    "binary_metrics(y_P_test, y_preds)\n",
    "\n",
    "plot_confusion_matrix(model, X_P_test, y_P_test, values_format='d');"
   ]
  },
  {
   "cell_type": "markdown",
   "id": "0ac9f991",
   "metadata": {
    "heading_collapsed": true
   },
   "source": [
    "### `ALL_model.joblib` evaluation on `FakeNewsNET`"
   ]
  },
  {
   "cell_type": "code",
   "execution_count": 76,
   "id": "85ecdbc3",
   "metadata": {
    "hidden": true
   },
   "outputs": [
    {
     "name": "stdout",
     "output_type": "stream",
     "text": [
      "--------------------------------------------------------------------------------\n",
      "../raw_data/ALL_model.joblib - test scores: \n",
      "--------------------------------------------------------------------------------\n",
      "Acc: 0.91\n",
      "Recall: 0.72\n",
      "Precision: 0.87\n",
      "f1: 0.79\n",
      "--------------------------------------------------------------------------------\n"
     ]
    },
    {
     "data": {
      "image/png": "[encoded data removed]",
      "text/plain": [
       "<Figure size 864x432 with 2 Axes>"
      ]
     },
     "metadata": {
      "needs_background": "light"
     },
     "output_type": "display_data"
    }
   ],
   "source": [
    "y_preds = model.predict(X_FNN_test)\n",
    "\n",
    "print('-'*80)\n",
    "print(f\"{model_name} - test scores: \")\n",
    "binary_metrics(y_FNN_test, y_preds)\n",
    "\n",
    "plot_confusion_matrix(model, X_FNN_test, y_FNN_test, values_format='d');"
   ]
  },
  {
   "cell_type": "markdown",
   "id": "d1032306",
   "metadata": {
    "heading_collapsed": true
   },
   "source": [
    "### `ALL_model.joblib` evaluation on `Bisaillon`"
   ]
  },
  {
   "cell_type": "code",
   "execution_count": 78,
   "id": "86d6f60b",
   "metadata": {
    "hidden": true
   },
   "outputs": [
    {
     "name": "stdout",
     "output_type": "stream",
     "text": [
      "--------------------------------------------------------------------------------\n",
      "../raw_data/ALL_model.joblib - test scores: \n",
      "--------------------------------------------------------------------------------\n",
      "Acc: 0.98\n",
      "Recall: 0.98\n",
      "Precision: 0.98\n",
      "f1: 0.98\n",
      "--------------------------------------------------------------------------------\n"
     ]
    },
    {
     "data": {
      "image/png": "[encoded data removed]",
      "text/plain": [
       "<Figure size 864x432 with 2 Axes>"
      ]
     },
     "metadata": {
      "needs_background": "light"
     },
     "output_type": "display_data"
    }
   ],
   "source": [
    "y_preds = model.predict(X_BIS_test)\n",
    "\n",
    "print('-'*80)\n",
    "print(f\"{model_name} - test scores: \")\n",
    "binary_metrics(y_BIS_test, y_preds)\n",
    "\n",
    "plot_confusion_matrix(model, X_BIS_test, y_BIS_test, values_format='d');"
   ]
  },
  {
   "cell_type": "markdown",
   "id": "0eb57bd9",
   "metadata": {},
   "source": [
    "## `Alll`"
   ]
  },
  {
   "cell_type": "markdown",
   "id": "d17ca3e6",
   "metadata": {
    "heading_collapsed": true
   },
   "source": [
    "### Preprocessing"
   ]
  },
  {
   "cell_type": "code",
   "execution_count": 79,
   "id": "467151f1",
   "metadata": {
    "hidden": true
   },
   "outputs": [
    {
     "name": "stdout",
     "output_type": "stream",
     "text": [
      "--------------------------------------------------------------------------------\n",
      "X_ALLL_train_vec shape: (78954, 29862)\n",
      "X_ALLL_test_vec shape: (19739, 29862)\n",
      "--------------------------------------------------------------------------------\n",
      "    aa  aaa  aaj  aaliyah  aap  aar  aardvark  aarogya  aaron  aarp  ...  вин  \\\n",
      "0  0.0  0.0  0.0      0.0  0.0  0.0       0.0      0.0    0.0   0.0  ...  0.0   \n",
      "1  0.0  0.0  0.0      0.0  0.0  0.0       0.0      0.0    0.0   0.0  ...  0.0   \n",
      "2  0.0  0.0  0.0      0.0  0.0  0.0       0.0      0.0    0.0   0.0  ...  0.0   \n",
      "3  0.0  0.0  0.0      0.0  0.0  0.0       0.0      0.0    0.0   0.0  ...  0.0   \n",
      "4  0.0  0.0  0.0      0.0  0.0  0.0       0.0      0.0    0.0   0.0  ...  0.0   \n",
      "\n",
      "   контора  монако  пернелл  питт  принцессы  ради  сми  эллу  ḍozen  \n",
      "0      0.0     0.0      0.0   0.0        0.0   0.0  0.0   0.0    0.0  \n",
      "1      0.0     0.0      0.0   0.0        0.0   0.0  0.0   0.0    0.0  \n",
      "2      0.0     0.0      0.0   0.0        0.0   0.0  0.0   0.0    0.0  \n",
      "3      0.0     0.0      0.0   0.0        0.0   0.0  0.0   0.0    0.0  \n",
      "4      0.0     0.0      0.0   0.0        0.0   0.0  0.0   0.0    0.0  \n",
      "\n",
      "[5 rows x 29862 columns]\n",
      "--------------------------------------------------------------------------------\n"
     ]
    }
   ],
   "source": [
    "vectorizer_ALLL = TfidfVectorizer()\n",
    "X_ALLL_train_vec = vectorizer_ALLL.fit_transform(X_ALLL_train)\n",
    "X_ALLL_test_vec = vectorizer_ALLL.transform(X_ALLL_test)\n",
    "\n",
    "X_ALLL_train_vec_df = pd.DataFrame(X_ALLL_train_vec.toarray(), columns = vectorizer_ALLL.get_feature_names())\n",
    "\n",
    "print('-'*80)\n",
    "print(f\"X_ALLL_train_vec shape: {X_ALLL_train_vec.shape}\")\n",
    "print(f\"X_ALLL_test_vec shape: {X_ALLL_test_vec.shape}\")\n",
    "print('-'*80)\n",
    "print(X_ALLL_train_vec_df.head())\n",
    "print('-'*80)"
   ]
  },
  {
   "cell_type": "markdown",
   "id": "8ffbc7ff",
   "metadata": {
    "heading_collapsed": true
   },
   "source": [
    "### Naive Bayes"
   ]
  },
  {
   "cell_type": "code",
   "execution_count": 80,
   "id": "c1eb2e56",
   "metadata": {
    "hidden": true
   },
   "outputs": [
    {
     "name": "stdout",
     "output_type": "stream",
     "text": [
      "--------------------------------------------------------------------------------\n",
      "Naive Bayes - CV scores: \n",
      "--------------------------------------------------------------------------------\n",
      "Acc : 0.79\n",
      "Recall: 0.75\n",
      "Precision: 0.80\n",
      "f1: 0.77\n",
      "--------------------------------------------------------------------------------\n",
      "Naive Bayes - test scores: \n",
      "--------------------------------------------------------------------------------\n",
      "Acc: 0.80\n",
      "Recall: 0.75\n",
      "Precision: 0.81\n",
      "f1: 0.78\n",
      "--------------------------------------------------------------------------------\n"
     ]
    },
    {
     "data": {
      "image/png": "[encoded data removed]",
      "text/plain": [
       "<Figure size 864x432 with 2 Axes>"
      ]
     },
     "metadata": {
      "needs_background": "light"
     },
     "output_type": "display_data"
    },
    {
     "data": {
      "image/png": "[encoded data removed]",
      "text/plain": [
       "<Figure size 576x360 with 1 Axes>"
      ]
     },
     "metadata": {
      "needs_background": "light"
     },
     "output_type": "display_data"
    }
   ],
   "source": [
    "nb_model = MultinomialNB()\n",
    "acc, recall, precision, f1 = get_scores(nb_model, 'Naive Bayes', X_ALLL_train_vec, y_ALLL_train, X_ALLL_test_vec, y_ALLL_test)\n",
    "\n",
    "plot_confusion_matrix(nb_model, X_ALLL_test_vec, y_ALLL_test, values_format='d');\n",
    "\n",
    "plot_learning_curve(nb_model, 'Naive Bayes', X_ALLL_train_vec, y_ALLL_train)"
   ]
  },
  {
   "cell_type": "markdown",
   "id": "533a169e",
   "metadata": {
    "heading_collapsed": true
   },
   "source": [
    "### Naive Bayes - Fine-Tuning"
   ]
  },
  {
   "cell_type": "code",
   "execution_count": 81,
   "id": "7c73d6ec",
   "metadata": {
    "hidden": true
   },
   "outputs": [
    {
     "name": "stdout",
     "output_type": "stream",
     "text": [
      "Fitting 5 folds for each of 32 candidates, totalling 160 fits\n",
      "--------------------------------------------------------------------------------\n",
      "Best parameters: {'nb__alpha': 1, 'tfidf__max_df': 0.75, 'tfidf__ngram_range': (1, 3)}\n",
      "Best score: 0.8159687894303636\n",
      "--------------------------------------------------------------------------------\n"
     ]
    }
   ],
   "source": [
    "pipeline = Pipeline([\n",
    "    ('tfidf', TfidfVectorizer()),\n",
    "    ('nb', MultinomialNB()),\n",
    "])\n",
    "\n",
    "parameters = {\n",
    "    'tfidf__ngram_range': ((1, 1), (1, 2), (2, 2), (1, 3)),\n",
    "#     'tfidf__min_df': (0.05, 0.1),\n",
    "    'tfidf__max_df': (0.75, 1),\n",
    "    'nb__alpha': (0.01, 0.1, 1, 10)\n",
    "}\n",
    "\n",
    "nb_grid_search = GridSearchCV(pipeline, \n",
    "                           parameters, \n",
    "                           n_jobs=-1, \n",
    "                           scoring=\"accuracy\", \n",
    "                           refit=True, \n",
    "                           cv=5,\n",
    "                           verbose=1)\n",
    "\n",
    "nb_grid_search.fit(X_ALLL_train, y_ALLL_train)\n",
    "\n",
    "print('-'*80)\n",
    "print(f\"Best parameters: {nb_grid_search.best_params_}\")\n",
    "print(f\"Best score: {nb_grid_search.best_score_}\")\n",
    "print('-'*80)"
   ]
  },
  {
   "cell_type": "code",
   "execution_count": 82,
   "id": "cc346b4a",
   "metadata": {
    "hidden": true
   },
   "outputs": [
    {
     "name": "stdout",
     "output_type": "stream",
     "text": [
      "--------------------------------------------------------------------------------\n",
      "NB - FT - CV scores: \n",
      "--------------------------------------------------------------------------------\n",
      "Acc : 0.82\n",
      "Recall: 0.75\n",
      "Precision: 0.84\n",
      "f1: 0.79\n",
      "--------------------------------------------------------------------------------\n",
      "NB - FT - test scores: \n",
      "--------------------------------------------------------------------------------\n",
      "Acc: 0.82\n",
      "Recall: 0.75\n",
      "Precision: 0.85\n",
      "f1: 0.80\n",
      "--------------------------------------------------------------------------------\n"
     ]
    },
    {
     "data": {
      "image/png": "[encoded data removed]",
      "text/plain": [
       "<Figure size 864x432 with 2 Axes>"
      ]
     },
     "metadata": {
      "needs_background": "light"
     },
     "output_type": "display_data"
    }
   ],
   "source": [
    "acc, recall, precision, f1 = get_scores(nb_grid_search.best_estimator_, 'NB - FT', X_ALLL_train, y_ALLL_train, X_ALLL_test, y_ALLL_test)\n",
    "\n",
    "plot_confusion_matrix(nb_grid_search.best_estimator_, X_ALLL_test, y_ALLL_test, values_format='d');"
   ]
  },
  {
   "cell_type": "markdown",
   "id": "2b4907d4",
   "metadata": {
    "heading_collapsed": true
   },
   "source": [
    "### Saving the model"
   ]
  },
  {
   "cell_type": "code",
   "execution_count": 83,
   "id": "8bc23b04",
   "metadata": {
    "hidden": true
   },
   "outputs": [
    {
     "name": "stdout",
     "output_type": "stream",
     "text": [
      "\u001b[32m--------------------------------------------------------------------------------\u001b[0m\n",
      "\u001b[32m../raw_data/ALLL_model.joblib saved locally\u001b[0m\n",
      "\u001b[32m--------------------------------------------------------------------------------\u001b[0m\n"
     ]
    }
   ],
   "source": [
    "model_name = '../raw_data/ALLL_model.joblib'\n",
    "    \n",
    "save_model(nb_grid_search.best_estimator_, model_name)\n",
    "\n",
    "model = get_model(model_name)"
   ]
  },
  {
   "cell_type": "markdown",
   "id": "3b84c113",
   "metadata": {
    "heading_collapsed": true
   },
   "source": [
    "### Uploading the model"
   ]
  },
  {
   "cell_type": "code",
   "execution_count": 84,
   "id": "3c41f378",
   "metadata": {
    "hidden": true
   },
   "outputs": [],
   "source": [
    "model = get_model(model_name)"
   ]
  },
  {
   "cell_type": "code",
   "execution_count": 85,
   "id": "31975991",
   "metadata": {
    "hidden": true
   },
   "outputs": [
    {
     "name": "stdout",
     "output_type": "stream",
     "text": [
      "--------------------------------------------------------------------------------\n",
      "NB - FT - CV scores: \n",
      "--------------------------------------------------------------------------------\n",
      "Acc : 0.82\n",
      "Recall: 0.75\n",
      "Precision: 0.84\n",
      "f1: 0.79\n",
      "--------------------------------------------------------------------------------\n",
      "NB - FT - test scores: \n",
      "--------------------------------------------------------------------------------\n",
      "Acc: 0.82\n",
      "Recall: 0.75\n",
      "Precision: 0.85\n",
      "f1: 0.80\n",
      "--------------------------------------------------------------------------------\n"
     ]
    },
    {
     "data": {
      "image/png": "[encoded data removed]",
      "text/plain": [
       "<Figure size 864x432 with 2 Axes>"
      ]
     },
     "metadata": {
      "needs_background": "light"
     },
     "output_type": "display_data"
    }
   ],
   "source": [
    "acc, recall, precision, f1 = get_scores(model, 'NB - FT', X_ALLL_train, y_ALLL_train, X_ALLL_test, y_ALLL_test)\n",
    "\n",
    "plot_confusion_matrix(model, X_ALLL_test, y_ALLL_test, values_format='d');"
   ]
  },
  {
   "cell_type": "markdown",
   "id": "c2800f17",
   "metadata": {
    "heading_collapsed": true
   },
   "source": [
    "### `ALLL_model.joblib` evaluation on `politifact_scrap`"
   ]
  },
  {
   "cell_type": "code",
   "execution_count": 86,
   "id": "35e03f98",
   "metadata": {
    "hidden": true
   },
   "outputs": [
    {
     "name": "stdout",
     "output_type": "stream",
     "text": [
      "--------------------------------------------------------------------------------\n",
      "../raw_data/ALLL_model.joblib - test scores: \n",
      "--------------------------------------------------------------------------------\n",
      "Acc: 0.89\n",
      "Recall: 0.86\n",
      "Precision: 0.92\n",
      "f1: 0.89\n",
      "--------------------------------------------------------------------------------\n"
     ]
    },
    {
     "data": {
      "image/png": "[encoded data removed]",
      "text/plain": [
       "<Figure size 864x432 with 2 Axes>"
      ]
     },
     "metadata": {
      "needs_background": "light"
     },
     "output_type": "display_data"
    }
   ],
   "source": [
    "y_preds = model.predict(X_P_test)\n",
    "\n",
    "print('-'*80)\n",
    "print(f\"{model_name} - test scores: \")\n",
    "binary_metrics(y_P_test, y_preds)\n",
    "\n",
    "plot_confusion_matrix(model, X_P_test, y_P_test, values_format='d');"
   ]
  },
  {
   "cell_type": "markdown",
   "id": "5edf04bc",
   "metadata": {
    "heading_collapsed": true
   },
   "source": [
    "### `ALLL_model.joblib` evaluation on `FakeNewsNET`"
   ]
  },
  {
   "cell_type": "code",
   "execution_count": 87,
   "id": "7887e501",
   "metadata": {
    "hidden": true
   },
   "outputs": [
    {
     "name": "stdout",
     "output_type": "stream",
     "text": [
      "--------------------------------------------------------------------------------\n",
      "../raw_data/ALLL_model.joblib - test scores: \n",
      "--------------------------------------------------------------------------------\n",
      "Acc: 0.91\n",
      "Recall: 0.73\n",
      "Precision: 0.88\n",
      "f1: 0.80\n",
      "--------------------------------------------------------------------------------\n"
     ]
    },
    {
     "data": {
      "image/png": "[encoded data removed]",
      "text/plain": [
       "<Figure size 864x432 with 2 Axes>"
      ]
     },
     "metadata": {
      "needs_background": "light"
     },
     "output_type": "display_data"
    }
   ],
   "source": [
    "y_preds = model.predict(X_FNN_test)\n",
    "\n",
    "print('-'*80)\n",
    "print(f\"{model_name} - test scores: \")\n",
    "binary_metrics(y_FNN_test, y_preds)\n",
    "\n",
    "plot_confusion_matrix(model, X_FNN_test, y_FNN_test, values_format='d');"
   ]
  },
  {
   "cell_type": "markdown",
   "id": "8db57774",
   "metadata": {
    "heading_collapsed": true
   },
   "source": [
    "### `ALLL_model.joblib` evaluation on `Bisaillon`"
   ]
  },
  {
   "cell_type": "code",
   "execution_count": 88,
   "id": "0e75c7ea",
   "metadata": {
    "hidden": true
   },
   "outputs": [
    {
     "name": "stdout",
     "output_type": "stream",
     "text": [
      "--------------------------------------------------------------------------------\n",
      "../raw_data/ALLL_model.joblib - test scores: \n",
      "--------------------------------------------------------------------------------\n",
      "Acc: 0.98\n",
      "Recall: 0.98\n",
      "Precision: 0.98\n",
      "f1: 0.98\n",
      "--------------------------------------------------------------------------------\n"
     ]
    },
    {
     "data": {
      "image/png": "[encoded data removed]",
      "text/plain": [
       "<Figure size 864x432 with 2 Axes>"
      ]
     },
     "metadata": {
      "needs_background": "light"
     },
     "output_type": "display_data"
    }
   ],
   "source": [
    "y_preds = model.predict(X_BIS_test)\n",
    "\n",
    "print('-'*80)\n",
    "print(f\"{model_name} - test scores: \")\n",
    "binary_metrics(y_BIS_test, y_preds)\n",
    "\n",
    "plot_confusion_matrix(model, X_BIS_test, y_BIS_test, values_format='d');"
   ]
  },
  {
   "cell_type": "markdown",
   "id": "04778472",
   "metadata": {},
   "source": [
    "## Summary"
   ]
  },
  {
   "cell_type": "code",
   "execution_count": 89,
   "id": "69441311",
   "metadata": {},
   "outputs": [],
   "source": [
    "def get_summary(model_names, datas):\n",
    "\n",
    "    X_data = [[X_P_test, X_FNN, X_BIS, X_all, X_alll],\n",
    "              [X_P, X_FNN_test, X_BIS, X_all, X_alll],\n",
    "              [X_P, X_FNN, X_BIS_test, X_all, X_alll],\n",
    "              [X_P_test, X_FNN_test, X_BIS_test, X_ALL_test, X_ALLL_test],\n",
    "              [X_P_test, X_FNN_test, X_BIS_test, X_ALL_test, X_ALLL_test]]\n",
    "\n",
    "    y_data = [[y_P_test, y_FNN, y_BIS, y_all, y_alll],\n",
    "              [y_P, y_FNN_test, y_BIS, y_all, y_alll],\n",
    "              [y_P, y_FNN, y_BIS_test, y_all, y_alll],\n",
    "              [y_P_test, y_FNN_test, y_BIS_test, y_ALL_test, y_ALLL_test],\n",
    "              [y_P_test, y_FNN_test, y_BIS_test, y_ALL_test, y_ALLL_test]]\n",
    "\n",
    "    model_list = []\n",
    "    data_list = []\n",
    "    acc_list = []\n",
    "    recall_list = []\n",
    "    prec_list = []\n",
    "    f1_list = []\n",
    "    \n",
    "    for model_name, Xs, ys in zip(model_names, X_data, y_data):\n",
    "\n",
    "        for data, X, y in zip(datas, Xs, ys):\n",
    "\n",
    "#             print('-'*80)\n",
    "#             print(model_name)\n",
    "#             print(data)\n",
    "#             print(X.shape)\n",
    "#             print(y.shape)\n",
    "\n",
    "            y_preds = get_model(model_name).predict(X)\n",
    "\n",
    "            model_list.append(model_name)\n",
    "            data_list.append(data)\n",
    "            acc_list.append(np.round(accuracy_score(y, y_preds), 2))\n",
    "            recall_list.append(np.round(recall_score(y, y_preds), 2))\n",
    "            prec_list.append(np.round(precision_score(y, y_preds), 2))\n",
    "            f1_list.append(np.round(f1_score(y, y_preds), 2))\n",
    "\n",
    "    df = pd.DataFrame({'model': model_list, \n",
    "                   'data': data_list, \n",
    "                   'acc': acc_list,\n",
    "                   'recall': recall_list, \n",
    "                   'prec': prec_list,\n",
    "                   'f1': f1_list,\n",
    "    })\n",
    "    \n",
    "    return df"
   ]
  },
  {
   "cell_type": "code",
   "execution_count": 92,
   "id": "805a5dec",
   "metadata": {},
   "outputs": [
    {
     "data": {
      "text/html": [
       "<div>\n",
       "<style scoped>\n",
       "    .dataframe tbody tr th:only-of-type {\n",
       "        vertical-align: middle;\n",
       "    }\n",
       "\n",
       "    .dataframe tbody tr th {\n",
       "        vertical-align: top;\n",
       "    }\n",
       "\n",
       "    .dataframe thead th {\n",
       "        text-align: right;\n",
       "    }\n",
       "</style>\n",
       "<table border=\"1\" class=\"dataframe\">\n",
       "  <thead>\n",
       "    <tr style=\"text-align: right;\">\n",
       "      <th></th>\n",
       "      <th>model</th>\n",
       "      <th>data</th>\n",
       "      <th>acc</th>\n",
       "      <th>recall</th>\n",
       "      <th>prec</th>\n",
       "      <th>f1</th>\n",
       "    </tr>\n",
       "  </thead>\n",
       "  <tbody>\n",
       "    <tr>\n",
       "      <th>0</th>\n",
       "      <td>../raw_data/P_model.joblib</td>\n",
       "      <td>politifact</td>\n",
       "      <td>0.66</td>\n",
       "      <td>0.76</td>\n",
       "      <td>0.66</td>\n",
       "      <td>0.70</td>\n",
       "    </tr>\n",
       "    <tr>\n",
       "      <th>1</th>\n",
       "      <td>../raw_data/P_model.joblib</td>\n",
       "      <td>FakeNewsNET</td>\n",
       "      <td>0.29</td>\n",
       "      <td>0.94</td>\n",
       "      <td>0.25</td>\n",
       "      <td>0.39</td>\n",
       "    </tr>\n",
       "    <tr>\n",
       "      <th>2</th>\n",
       "      <td>../raw_data/P_model.joblib</td>\n",
       "      <td>Bisaillon</td>\n",
       "      <td>0.56</td>\n",
       "      <td>0.97</td>\n",
       "      <td>0.55</td>\n",
       "      <td>0.70</td>\n",
       "    </tr>\n",
       "    <tr>\n",
       "      <th>3</th>\n",
       "      <td>../raw_data/P_model.joblib</td>\n",
       "      <td>All</td>\n",
       "      <td>0.57</td>\n",
       "      <td>0.95</td>\n",
       "      <td>0.52</td>\n",
       "      <td>0.68</td>\n",
       "    </tr>\n",
       "    <tr>\n",
       "      <th>4</th>\n",
       "      <td>../raw_data/P_model.joblib</td>\n",
       "      <td>Alll</td>\n",
       "      <td>0.56</td>\n",
       "      <td>0.96</td>\n",
       "      <td>0.52</td>\n",
       "      <td>0.67</td>\n",
       "    </tr>\n",
       "    <tr>\n",
       "      <th>5</th>\n",
       "      <td>../raw_data/F_model.joblib</td>\n",
       "      <td>politifact</td>\n",
       "      <td>0.50</td>\n",
       "      <td>0.15</td>\n",
       "      <td>0.70</td>\n",
       "      <td>0.24</td>\n",
       "    </tr>\n",
       "    <tr>\n",
       "      <th>6</th>\n",
       "      <td>../raw_data/F_model.joblib</td>\n",
       "      <td>FakeNewsNET</td>\n",
       "      <td>0.83</td>\n",
       "      <td>0.49</td>\n",
       "      <td>0.71</td>\n",
       "      <td>0.58</td>\n",
       "    </tr>\n",
       "    <tr>\n",
       "      <th>7</th>\n",
       "      <td>../raw_data/F_model.joblib</td>\n",
       "      <td>Bisaillon</td>\n",
       "      <td>0.50</td>\n",
       "      <td>0.24</td>\n",
       "      <td>0.56</td>\n",
       "      <td>0.33</td>\n",
       "    </tr>\n",
       "    <tr>\n",
       "      <th>8</th>\n",
       "      <td>../raw_data/F_model.joblib</td>\n",
       "      <td>All</td>\n",
       "      <td>0.61</td>\n",
       "      <td>0.29</td>\n",
       "      <td>0.68</td>\n",
       "      <td>0.40</td>\n",
       "    </tr>\n",
       "    <tr>\n",
       "      <th>9</th>\n",
       "      <td>../raw_data/F_model.joblib</td>\n",
       "      <td>Alll</td>\n",
       "      <td>0.59</td>\n",
       "      <td>0.27</td>\n",
       "      <td>0.66</td>\n",
       "      <td>0.38</td>\n",
       "    </tr>\n",
       "    <tr>\n",
       "      <th>10</th>\n",
       "      <td>../raw_data/B_model.joblib</td>\n",
       "      <td>politifact</td>\n",
       "      <td>0.56</td>\n",
       "      <td>0.73</td>\n",
       "      <td>0.58</td>\n",
       "      <td>0.65</td>\n",
       "    </tr>\n",
       "    <tr>\n",
       "      <th>11</th>\n",
       "      <td>../raw_data/B_model.joblib</td>\n",
       "      <td>FakeNewsNET</td>\n",
       "      <td>0.31</td>\n",
       "      <td>0.89</td>\n",
       "      <td>0.25</td>\n",
       "      <td>0.39</td>\n",
       "    </tr>\n",
       "    <tr>\n",
       "      <th>12</th>\n",
       "      <td>../raw_data/B_model.joblib</td>\n",
       "      <td>Bisaillon</td>\n",
       "      <td>0.95</td>\n",
       "      <td>0.97</td>\n",
       "      <td>0.94</td>\n",
       "      <td>0.95</td>\n",
       "    </tr>\n",
       "    <tr>\n",
       "      <th>13</th>\n",
       "      <td>../raw_data/B_model.joblib</td>\n",
       "      <td>All</td>\n",
       "      <td>0.73</td>\n",
       "      <td>0.91</td>\n",
       "      <td>0.65</td>\n",
       "      <td>0.76</td>\n",
       "    </tr>\n",
       "    <tr>\n",
       "      <th>14</th>\n",
       "      <td>../raw_data/B_model.joblib</td>\n",
       "      <td>Alll</td>\n",
       "      <td>0.70</td>\n",
       "      <td>0.86</td>\n",
       "      <td>0.63</td>\n",
       "      <td>0.73</td>\n",
       "    </tr>\n",
       "    <tr>\n",
       "      <th>15</th>\n",
       "      <td>../raw_data/ALL_model.joblib</td>\n",
       "      <td>politifact</td>\n",
       "      <td>0.88</td>\n",
       "      <td>0.86</td>\n",
       "      <td>0.92</td>\n",
       "      <td>0.89</td>\n",
       "    </tr>\n",
       "    <tr>\n",
       "      <th>16</th>\n",
       "      <td>../raw_data/ALL_model.joblib</td>\n",
       "      <td>FakeNewsNET</td>\n",
       "      <td>0.91</td>\n",
       "      <td>0.72</td>\n",
       "      <td>0.87</td>\n",
       "      <td>0.79</td>\n",
       "    </tr>\n",
       "    <tr>\n",
       "      <th>17</th>\n",
       "      <td>../raw_data/ALL_model.joblib</td>\n",
       "      <td>Bisaillon</td>\n",
       "      <td>0.98</td>\n",
       "      <td>0.98</td>\n",
       "      <td>0.98</td>\n",
       "      <td>0.98</td>\n",
       "    </tr>\n",
       "    <tr>\n",
       "      <th>18</th>\n",
       "      <td>../raw_data/ALL_model.joblib</td>\n",
       "      <td>All</td>\n",
       "      <td>0.83</td>\n",
       "      <td>0.78</td>\n",
       "      <td>0.85</td>\n",
       "      <td>0.81</td>\n",
       "    </tr>\n",
       "    <tr>\n",
       "      <th>19</th>\n",
       "      <td>../raw_data/ALL_model.joblib</td>\n",
       "      <td>Alll</td>\n",
       "      <td>0.85</td>\n",
       "      <td>0.85</td>\n",
       "      <td>0.83</td>\n",
       "      <td>0.84</td>\n",
       "    </tr>\n",
       "    <tr>\n",
       "      <th>20</th>\n",
       "      <td>../raw_data/ALLL_model.joblib</td>\n",
       "      <td>politifact</td>\n",
       "      <td>0.89</td>\n",
       "      <td>0.86</td>\n",
       "      <td>0.92</td>\n",
       "      <td>0.89</td>\n",
       "    </tr>\n",
       "    <tr>\n",
       "      <th>21</th>\n",
       "      <td>../raw_data/ALLL_model.joblib</td>\n",
       "      <td>FakeNewsNET</td>\n",
       "      <td>0.91</td>\n",
       "      <td>0.73</td>\n",
       "      <td>0.88</td>\n",
       "      <td>0.80</td>\n",
       "    </tr>\n",
       "    <tr>\n",
       "      <th>22</th>\n",
       "      <td>../raw_data/ALLL_model.joblib</td>\n",
       "      <td>Bisaillon</td>\n",
       "      <td>0.98</td>\n",
       "      <td>0.98</td>\n",
       "      <td>0.98</td>\n",
       "      <td>0.98</td>\n",
       "    </tr>\n",
       "    <tr>\n",
       "      <th>23</th>\n",
       "      <td>../raw_data/ALLL_model.joblib</td>\n",
       "      <td>All</td>\n",
       "      <td>0.90</td>\n",
       "      <td>0.86</td>\n",
       "      <td>0.93</td>\n",
       "      <td>0.89</td>\n",
       "    </tr>\n",
       "    <tr>\n",
       "      <th>24</th>\n",
       "      <td>../raw_data/ALLL_model.joblib</td>\n",
       "      <td>Alll</td>\n",
       "      <td>0.82</td>\n",
       "      <td>0.75</td>\n",
       "      <td>0.85</td>\n",
       "      <td>0.80</td>\n",
       "    </tr>\n",
       "  </tbody>\n",
       "</table>\n",
       "</div>"
      ],
      "text/plain": [
       "                            model         data   acc  recall  prec    f1\n",
       "0      ../raw_data/P_model.joblib   politifact  0.66    0.76  0.66  0.70\n",
       "1      ../raw_data/P_model.joblib  FakeNewsNET  0.29    0.94  0.25  0.39\n",
       "2      ../raw_data/P_model.joblib    Bisaillon  0.56    0.97  0.55  0.70\n",
       "3      ../raw_data/P_model.joblib          All  0.57    0.95  0.52  0.68\n",
       "4      ../raw_data/P_model.joblib         Alll  0.56    0.96  0.52  0.67\n",
       "5      ../raw_data/F_model.joblib   politifact  0.50    0.15  0.70  0.24\n",
       "6      ../raw_data/F_model.joblib  FakeNewsNET  0.83    0.49  0.71  0.58\n",
       "7      ../raw_data/F_model.joblib    Bisaillon  0.50    0.24  0.56  0.33\n",
       "8      ../raw_data/F_model.joblib          All  0.61    0.29  0.68  0.40\n",
       "9      ../raw_data/F_model.joblib         Alll  0.59    0.27  0.66  0.38\n",
       "10     ../raw_data/B_model.joblib   politifact  0.56    0.73  0.58  0.65\n",
       "11     ../raw_data/B_model.joblib  FakeNewsNET  0.31    0.89  0.25  0.39\n",
       "12     ../raw_data/B_model.joblib    Bisaillon  0.95    0.97  0.94  0.95\n",
       "13     ../raw_data/B_model.joblib          All  0.73    0.91  0.65  0.76\n",
       "14     ../raw_data/B_model.joblib         Alll  0.70    0.86  0.63  0.73\n",
       "15   ../raw_data/ALL_model.joblib   politifact  0.88    0.86  0.92  0.89\n",
       "16   ../raw_data/ALL_model.joblib  FakeNewsNET  0.91    0.72  0.87  0.79\n",
       "17   ../raw_data/ALL_model.joblib    Bisaillon  0.98    0.98  0.98  0.98\n",
       "18   ../raw_data/ALL_model.joblib          All  0.83    0.78  0.85  0.81\n",
       "19   ../raw_data/ALL_model.joblib         Alll  0.85    0.85  0.83  0.84\n",
       "20  ../raw_data/ALLL_model.joblib   politifact  0.89    0.86  0.92  0.89\n",
       "21  ../raw_data/ALLL_model.joblib  FakeNewsNET  0.91    0.73  0.88  0.80\n",
       "22  ../raw_data/ALLL_model.joblib    Bisaillon  0.98    0.98  0.98  0.98\n",
       "23  ../raw_data/ALLL_model.joblib          All  0.90    0.86  0.93  0.89\n",
       "24  ../raw_data/ALLL_model.joblib         Alll  0.82    0.75  0.85  0.80"
      ]
     },
     "execution_count": 92,
     "metadata": {},
     "output_type": "execute_result"
    }
   ],
   "source": [
    "model_names = ['../raw_data/P_model.joblib',\n",
    "               '../raw_data/F_model.joblib', \n",
    "               '../raw_data/B_model.joblib', \n",
    "               '../raw_data/ALL_model.joblib',\n",
    "               '../raw_data/ALLL_model.joblib']\n",
    "\n",
    "datas = ['politifact', 'FakeNewsNET', 'Bisaillon', 'All', 'Alll']\n",
    "\n",
    "df = get_summary(model_names, datas)\n",
    "df.head(30)"
   ]
  },
  {
   "cell_type": "code",
   "execution_count": 94,
   "id": "66d7948b",
   "metadata": {},
   "outputs": [],
   "source": [
    "file_path = '../raw_data/ML_summary.csv'\n",
    "\n",
    "df.to_csv(file_path, index=False)"
   ]
  },
  {
   "cell_type": "markdown",
   "id": "bbceae34",
   "metadata": {},
   "source": [
    "## Prediction"
   ]
  },
  {
   "cell_type": "code",
   "execution_count": 106,
   "id": "3af2b236",
   "metadata": {},
   "outputs": [],
   "source": [
    "model_name = '../raw_data/ALLL_model.joblib'\n",
    "\n",
    "model = get_model(model_name)"
   ]
  },
  {
   "cell_type": "code",
   "execution_count": 107,
   "id": "3df06409",
   "metadata": {},
   "outputs": [],
   "source": [
    "fake0 = \"White House, CDC, WHO and vaccine makers don’t require the COVID-19 vaccine for their workers.\"\n",
    "fake1 = \"Says a U.S. Air Force-insignia plane evacuating people from Afghanistan is fake.\"\n",
    "fake2 = \"No one has died of cancer or heart disease since the COVID-19 thing started.\"\n",
    "true0 = \"A photo shows two COVID-19 patients lying on the floor awaiting treatment in Florida.\"\n",
    "true1 = \"We’ve got 115,000 miles of roads in this state and 90% is owned by the locals.\"\n",
    "true2 = \"324,000 pregnant people experience domestic violence during their pregnancy.\""
   ]
  },
  {
   "cell_type": "code",
   "execution_count": 108,
   "id": "f8d35fe3",
   "metadata": {},
   "outputs": [
    {
     "name": "stdout",
     "output_type": "stream",
     "text": [
      "--------------------------------------------------------------------------------\n",
      "[0.45327945 0.34130389 0.56571172 0.51253854 0.34099169 0.26875223]\n",
      " Accuracy: 0.5\n",
      "--------------------------------------------------------------------------------\n"
     ]
    }
   ],
   "source": [
    "sample = [fake0, fake1, fake2, true0, true1, true2]\n",
    "label = [1, 1, 1, 0, 0, 0]\n",
    "\n",
    "X_sample_clean = [clean(text) for text in sample] \n",
    "\n",
    "y_preds = model.predict_proba(X_sample_clean)[:, 1]\n",
    "\n",
    "print('-'*80)\n",
    "print(y_preds)\n",
    "print(f\" Acc: {np.round(accuracy_score(label, model.predict(X_sample_clean)), 2)}\")\n",
    "print('-'*80)"
   ]
  },
  {
   "cell_type": "code",
   "execution_count": null,
   "id": "87ae8084",
   "metadata": {},
   "outputs": [],
   "source": [
    "import eli5\n",
    "from eli5.lime import TextExplainer\n",
    "\n",
    "sample = clean(true2)\n",
    "\n",
    "te = TextExplainer(random_state=42)\n",
    "te.fit(sample, model.predict_proba)\n",
    "te.show_prediction(target_names=['true', 'fake'])"
   ]
  },
  {
   "cell_type": "markdown",
   "id": "5bee690c",
   "metadata": {
    "heading_collapsed": true
   },
   "source": [
    "## ELI5"
   ]
  },
  {
   "cell_type": "code",
   "execution_count": null,
   "id": "da1cb2d9",
   "metadata": {
    "hidden": true
   },
   "outputs": [],
   "source": [
    "# ! pip install eli5"
   ]
  },
  {
   "cell_type": "code",
   "execution_count": null,
   "id": "5fa6f492",
   "metadata": {
    "hidden": true
   },
   "outputs": [],
   "source": [
    "# def print_prediction(doc):\n",
    "#     y_pred = model.predict_proba([doc])[0]\n",
    "#     for target, prob in zip(twenty_train.target_names, y_pred):\n",
    "#         print(\"{:.3f} {}\".format(prob, target))\n",
    "\n",
    "# doc = twenty_test.data[0]\n",
    "# print_prediction(doc)"
   ]
  },
  {
   "cell_type": "code",
   "execution_count": null,
   "id": "e462f8a0",
   "metadata": {
    "hidden": true
   },
   "outputs": [],
   "source": [
    "# import eli5\n",
    "# from eli5.lime import TextExplainer\n",
    "\n",
    "# te = TextExplainer(random_state=42)\n",
    "# te.fit(X_sample_clean[0], model.predict_proba)\n",
    "# te.show_prediction(target_names='fake')"
   ]
  },
  {
   "cell_type": "code",
   "execution_count": null,
   "id": "780971ea",
   "metadata": {
    "hidden": true
   },
   "outputs": [],
   "source": [
    "from sklearn.datasets import fetch_20newsgroups\n",
    "\n",
    "categories = ['alt.atheism', 'soc.religion.christian',\n",
    "              'comp.graphics', 'sci.med']\n",
    "twenty_train = fetch_20newsgroups(\n",
    "    subset='train',\n",
    "    categories=categories,\n",
    "    shuffle=True,\n",
    "    random_state=42,\n",
    "    remove=('headers', 'footers'),\n",
    ")\n",
    "twenty_test = fetch_20newsgroups(\n",
    "    subset='test',\n",
    "    categories=categories,\n",
    "    shuffle=True,\n",
    "    random_state=42,\n",
    "    remove=('headers', 'footers'),\n",
    ")"
   ]
  },
  {
   "cell_type": "code",
   "execution_count": null,
   "id": "8aad17e8",
   "metadata": {
    "hidden": true
   },
   "outputs": [],
   "source": [
    "print('-'*80)\n",
    "print(f\"train length: {len(twenty_test.data)}\")\n",
    "print(f\"sample: {twenty_test.data[1]}\")\n",
    "print(f\"target: {twenty_test.target[1]}\")\n",
    "print('-'*80)"
   ]
  },
  {
   "cell_type": "code",
   "execution_count": null,
   "id": "07faf608",
   "metadata": {
    "hidden": true
   },
   "outputs": [],
   "source": [
    "from sklearn.feature_extraction.text import TfidfVectorizer\n",
    "from sklearn.svm import SVC\n",
    "from sklearn.decomposition import TruncatedSVD\n",
    "from sklearn.pipeline import Pipeline, make_pipeline\n",
    "\n",
    "vec = TfidfVectorizer(min_df=3, stop_words='english',\n",
    "                      ngram_range=(1, 2))\n",
    "\n",
    "svd = TruncatedSVD(n_components=100, n_iter=7, random_state=42)\n",
    "\n",
    "lsa = make_pipeline(vec, svd)\n",
    "\n",
    "clf = SVC(C=150, gamma=2e-2, probability=True)\n",
    "pipe = make_pipeline(lsa, clf)\n",
    "pipe.fit(twenty_train.data, twenty_train.target)\n",
    "pipe.score(twenty_test.data, twenty_test.target)"
   ]
  },
  {
   "cell_type": "code",
   "execution_count": null,
   "id": "7366e717",
   "metadata": {
    "hidden": true
   },
   "outputs": [],
   "source": [
    "def print_prediction(doc):\n",
    "    y_pred = pipe.predict_proba([doc])[0]\n",
    "    for target, prob in zip(twenty_train.target_names, y_pred):\n",
    "        print(\"{:.3f} {}\".format(prob, target))\n",
    "\n",
    "doc = twenty_test.data[0]\n",
    "print_prediction(doc)"
   ]
  },
  {
   "cell_type": "code",
   "execution_count": null,
   "id": "4009ee7c",
   "metadata": {
    "hidden": true
   },
   "outputs": [],
   "source": [
    "import eli5\n",
    "from eli5.lime import TextExplainer\n",
    "\n",
    "te = TextExplainer(random_state=42)\n",
    "te.fit(doc, pipe.predict_proba)\n",
    "te.show_prediction(target_names=twenty_train.target_names)"
   ]
  },
  {
   "cell_type": "code",
   "execution_count": null,
   "id": "e9205e6d",
   "metadata": {
    "hidden": true
   },
   "outputs": [],
   "source": []
  }
 ],
 "metadata": {
  "accelerator": "GPU",
  "colab": {
   "collapsed_sections": [],
   "name": "JS_politifact_scrap_ML.ipynb",
   "provenance": [
    {
     "file_id": "12VIMXD-aqB2EqCnDDq8_z2lG0W_o1inp",
     "timestamp": 1630032335921
    },
    {
     "file_id": "1KgDvCnlTH8CApSC4GPLcy38ZYN8DZ7dv",
     "timestamp": 1629979793495
    },
    {
     "file_id": "11Hhlts5VKbIIGWJjTXATQXA0ns6T37aF",
     "timestamp": 1629623230007
    }
   ]
  },
  "kernelspec": {
   "display_name": "Python 3 (ipykernel)",
   "language": "python",
   "name": "python3"
  },
  "language_info": {
   "codemirror_mode": {
    "name": "ipython",
    "version": 3
   },
   "file_extension": ".py",
   "mimetype": "text/x-python",
   "name": "python",
   "nbconvert_exporter": "python",
   "pygments_lexer": "ipython3",
   "version": "3.8.6"
  },
  "toc": {
   "base_numbering": 1,
   "nav_menu": {},
   "number_sections": true,
   "sideBar": true,
   "skip_h1_title": false,
   "title_cell": "Table of Contents",
   "title_sidebar": "Contents",
   "toc_cell": false,
   "toc_position": {},
   "toc_section_display": true,
   "toc_window_display": false
  },
  "varInspector": {
   "cols": {
    "lenName": 16,
    "lenType": 16,
    "lenVar": 40
   },
   "kernels_config": {
    "python": {
     "delete_cmd_postfix": "",
     "delete_cmd_prefix": "del ",
     "library": "var_list.py",
     "varRefreshCmd": "print(var_dic_list())"
    },
    "r": {
     "delete_cmd_postfix": ") ",
     "delete_cmd_prefix": "rm(",
     "library": "var_list.r",
     "varRefreshCmd": "cat(var_dic_list()) "
    }
   },
   "types_to_exclude": [
    "module",
    "function",
    "builtin_function_or_method",
    "instance",
    "_Feature"
   ],
   "window_display": false
  }
 },
 "nbformat": 4,
 "nbformat_minor": 5
}
