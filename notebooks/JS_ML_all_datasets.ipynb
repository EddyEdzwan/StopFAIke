{
 "cells": [
  {
   "cell_type": "markdown",
   "id": "540105f5",
   "metadata": {
    "id": "540105f5"
   },
   "source": [
    "# Evaluation of the 3 datasets with ML"
   ]
  },
  {
   "cell_type": "code",
   "execution_count": 1,
   "id": "8c94c786",
   "metadata": {
    "executionInfo": {
     "elapsed": 352,
     "status": "ok",
     "timestamp": 1630050461264,
     "user": {
      "displayName": "Julien Seguy",
      "photoUrl": "",
      "userId": "07351507381529939348"
     },
     "user_tz": -480
    },
    "id": "8c94c786"
   },
   "outputs": [],
   "source": [
    "import numpy as np\n",
    "import pandas as pd\n",
    "import joblib\n",
    "from termcolor import colored\n",
    "\n",
    "import matplotlib as mpl\n",
    "import matplotlib.pyplot as plt\n",
    "\n",
    "mpl.rcParams['figure.figsize'] = (12, 6)\n",
    "colors = plt.rcParams['axes.prop_cycle'].by_key()['color']"
   ]
  },
  {
   "cell_type": "markdown",
   "id": "1bbddbc5",
   "metadata": {},
   "source": [
    "## Helper functions"
   ]
  },
  {
   "cell_type": "code",
   "execution_count": 2,
   "id": "46bcaed5",
   "metadata": {},
   "outputs": [],
   "source": [
    "from sklearn.model_selection import train_test_split\n",
    "from sklearn.model_selection import GridSearchCV\n",
    "from sklearn.pipeline import Pipeline\n",
    "from sklearn.feature_extraction.text import TfidfVectorizer\n",
    "\n",
    "from sklearn.linear_model import LogisticRegression   \n",
    "from sklearn.naive_bayes import MultinomialNB\n",
    "from sklearn.svm import SVC\n",
    "from sklearn.ensemble import RandomForestClassifier\n",
    "\n",
    "from sklearn.model_selection import cross_validate\n",
    "from sklearn.metrics import plot_confusion_matrix\n",
    "from sklearn.model_selection import learning_curve\n",
    "from sklearn.metrics import precision_recall_curve\n",
    "from sklearn.model_selection import cross_val_predict\n",
    "\n",
    "from sklearn.metrics import accuracy_score\n",
    "from sklearn.metrics import recall_score\n",
    "from sklearn.metrics import precision_score\n",
    "from sklearn.metrics import f1_score\n",
    "\n",
    "import string\n",
    "from nltk.corpus import stopwords\n",
    "from nltk.stem.wordnet import WordNetLemmatizer\n",
    "from nltk import word_tokenize\n",
    "\n",
    "# Required only for Colab\n",
    "# import nltk\n",
    "# nltk.download('punkt')\n",
    "# nltk.download('stopwords')\n",
    "# nltk.download('wordnet')\n",
    "\n",
    "def clean(text):\n",
    "    for punctuation in string.punctuation:\n",
    "        text = text.replace(punctuation, ' ') # Remove Punctuation\n",
    "    lowercased = text.lower() # Lower Case\n",
    "    tokenized = word_tokenize(lowercased) # Tokenize\n",
    "    words_only = [word for word in tokenized if word.isalpha()] # Remove numbers\n",
    "    stop_words = set(stopwords.words('english')) # Make stopword list\n",
    "    without_stopwords = [word for word in words_only if not word in stop_words] # Remove Stop Words\n",
    "    lemma = WordNetLemmatizer() # Initiate Lemmatizer\n",
    "    lemmatized = [lemma.lemmatize(word) for word in without_stopwords] # Lemmatize\n",
    "    return ' '.join(word for word in lemmatized)\n",
    "\n",
    "def plot_learning_curve(model, Name, X_train, y_train):\n",
    "\n",
    "    train_sizes = np.linspace(0.1, 1, 15)\n",
    "    \n",
    "    train_sizes, train_scores, test_scores = learning_curve(\n",
    "                  model, X_train, y_train, \n",
    "                  train_sizes = train_sizes,\n",
    "                  cv=5)\n",
    "\n",
    "    train_scores_mean = np.mean(train_scores, axis=1)\n",
    "    test_scores_mean = np.mean(test_scores, axis=1)\n",
    "\n",
    "    plt.figure(figsize=(8, 5))\n",
    "    plt.grid()\n",
    "    plt.title(f\"Model - {Name}\")\n",
    "    plt.plot(train_sizes, train_scores_mean, 'o-', color = \"r\", label = \"Training score\")\n",
    "    plt.plot(train_sizes, test_scores_mean, 'o-', color = \"g\", label = \"CV Test score\")\n",
    "    plt.legend(loc=\"best\")\n",
    "    plt.show()\n",
    "\n",
    "\n",
    "def binary_metrics(y_test, y_pred):\n",
    "    print('-'*80)\n",
    "    print('Acc: {:.2f}'.format(accuracy_score(y_test, y_pred)))\n",
    "    print('Recall: {:.2f}'.format(recall_score(y_test, y_pred)))\n",
    "    print('Precision: {:.2f}'.format(precision_score(y_test, y_pred)))\n",
    "    print('f1: {:.2f}'.format(f1_score(y_test, y_pred)))\n",
    "    print('-'*80)\n",
    "\n",
    "def get_scores(model, model_name, X_train, y_train, X_test, y_test):\n",
    "    \n",
    "    # Cross Validation\n",
    "    scoring = ['accuracy', 'recall', 'precision', 'f1']\n",
    "    cv_results = cross_validate(model, X_train, y_train, cv=5, scoring = scoring)\n",
    "\n",
    "    acc = cv_results['test_accuracy'].mean()\n",
    "    recall = cv_results['test_recall'].mean()\n",
    "    precision = cv_results['test_precision'].mean()\n",
    "    f1 = cv_results['test_f1'].mean()\n",
    "    \n",
    "    print('-'*80)\n",
    "    print(f\"{model_name} - CV scores: \")\n",
    "    print('-'*80)\n",
    "    print(f\"Acc : {acc:.2f}\")\n",
    "    print(f\"Recall: {recall:.2f}\")\n",
    "    print(f\"Precision: {precision:.2f}\")\n",
    "    print(f\"f1: {f1:.2f}\")\n",
    "    \n",
    "    # Test evaluation\n",
    "    model.fit(X_train, y_train)\n",
    "    y_preds = model.predict(X_test)\n",
    "    print('-'*80)\n",
    "    print(f\"{model_name} - test scores: \")\n",
    "    binary_metrics(y_test, y_preds)\n",
    "    \n",
    "    return acc, recall, precision, f1\n",
    "\n",
    "def save_model(model, model_name = 'model.joblib'):\n",
    "    \"\"\"\n",
    "    Save the model into a .joblib format\n",
    "    \"\"\"\n",
    "    joblib.dump(model, model_name)\n",
    "    print(colored('-'*80, 'green'))\n",
    "    print(colored(f\"{model_name} saved locally\", \"green\"))\n",
    "    print(colored('-'*80, 'green'))\n",
    "\n",
    "def get_model(path_to_joblib):\n",
    "    pipeline = joblib.load(path_to_joblib)\n",
    "    return pipeline"
   ]
  },
  {
   "cell_type": "markdown",
   "id": "e543b278",
   "metadata": {
    "heading_collapsed": true
   },
   "source": [
    "## Loading Datasets"
   ]
  },
  {
   "cell_type": "markdown",
   "id": "90033a1b",
   "metadata": {
    "heading_collapsed": true,
    "hidden": true
   },
   "source": [
    "### Loading `politifact_scrap.csv`"
   ]
  },
  {
   "cell_type": "code",
   "execution_count": 3,
   "id": "e3118e91",
   "metadata": {
    "hidden": true
   },
   "outputs": [
    {
     "name": "stdout",
     "output_type": "stream",
     "text": [
      "--------------------------------------------------------------------------------\n",
      "data_P shape: (19826, 8)\n",
      "--------------------------------------------------------------------------------\n",
      "--------------------------------------------------------------------------------\n",
      "1    71.562595\n",
      "0    28.437405\n",
      "Name: category, dtype: float64\n",
      "--------------------------------------------------------------------------------\n",
      "1    54.206597\n",
      "0    45.793403\n",
      "Name: category2, dtype: float64\n",
      "--------------------------------------------------------------------------------\n"
     ]
    }
   ],
   "source": [
    "def get_data_from_gcp(nrows=10000, optimize=False, **kwargs):\n",
    "    \"\"\"method to get the training data (or a portion of it) from GCP\"\"\"\n",
    "    path = 'https://storage.googleapis.com/wagon-data-615-seguy/data/politifact_scrap.csv'\n",
    "    df = pd.read_csv(path, nrows=nrows)\n",
    "    return df\n",
    "\n",
    "data_P = get_data_from_gcp(nrows=30000)\n",
    "\n",
    "print('-'*80)\n",
    "print(f\"data_P shape: {data_P.shape}\")\n",
    "print('-'*80)\n",
    "print('-'*80)\n",
    "print(data_P['category'].value_counts()/len(data_P)*100)\n",
    "print('-'*80)\n",
    "print(data_P['category2'].value_counts()/len(data_P)*100)\n",
    "print('-'*80)"
   ]
  },
  {
   "cell_type": "code",
   "execution_count": 4,
   "id": "ffdefe53",
   "metadata": {
    "hidden": true
   },
   "outputs": [
    {
     "name": "stdout",
     "output_type": "stream",
     "text": [
      "--------------------------------------------------------------------------------\n",
      "X_P shape: (19826,)\n",
      "y_P shape: (19826,)\n",
      "--------------------------------------------------------------------------------\n",
      "Original text: “Washington public school forces unvaccinated teens to wear ankle monitors” as a condition of playing team sports.\n",
      "Clean text: washington public school force unvaccinated teen wear ankle monitor condition playing team sport\n",
      "--------------------------------------------------------------------------------\n"
     ]
    }
   ],
   "source": [
    "X_P = data_P['statement'].apply(clean).copy()\n",
    "y_P = data_P['category2'].copy()\n",
    "\n",
    "print('-'*80)\n",
    "print(f\"X_P shape: {X_P.shape}\")\n",
    "print(f\"y_P shape: {y_P.shape}\")\n",
    "print('-'*80)\n",
    "print(f\"Original text: {data_P['statement'][0]}\")\n",
    "print(f\"Clean text: {X_P[0]}\")\n",
    "print('-'*80)"
   ]
  },
  {
   "cell_type": "code",
   "execution_count": 5,
   "id": "a3d3ea54",
   "metadata": {
    "hidden": true
   },
   "outputs": [
    {
     "name": "stdout",
     "output_type": "stream",
     "text": [
      "--------------------------------------------------------------------------------\n",
      "X_P_train shape: (15860,)\n",
      "y_P_train shape: (15860,)\n",
      "--------------------------------------------------------------------------------\n",
      "X_P_test shape: (3966,)\n",
      "y_P_test shape: (3966,)\n",
      "--------------------------------------------------------------------------------\n",
      "--------------------------------------------------------------------------------\n",
      "Fake (1) proportion in train (%): 54.300\n",
      "Fake (1) proportion in test (%): 53.833\n",
      "--------------------------------------------------------------------------------\n"
     ]
    }
   ],
   "source": [
    "X_P_train, X_P_test, y_P_train, y_P_test = train_test_split(X_P, y_P, test_size=0.2, random_state=42)\n",
    "\n",
    "print('-'*80)\n",
    "print(f\"X_P_train shape: {X_P_train.shape}\")\n",
    "print(f\"y_P_train shape: {y_P_train.shape}\")\n",
    "print('-'*80)\n",
    "print(f\"X_P_test shape: {X_P_test.shape}\")\n",
    "print(f\"y_P_test shape: {y_P_test.shape}\")\n",
    "print('-'*80)\n",
    "print('-'*80)\n",
    "print(f\"Fake (1) proportion in train (%): {y_P_train.sum()/len(y_P_train)*100:.3f}\")\n",
    "print(f\"Fake (1) proportion in test (%): {y_P_test.sum()/len(y_P_test)*100:.3f}\")\n",
    "print('-'*80)"
   ]
  },
  {
   "cell_type": "markdown",
   "id": "3189c738",
   "metadata": {
    "heading_collapsed": true,
    "hidden": true
   },
   "source": [
    "### Loading `FakeNewsNET`"
   ]
  },
  {
   "cell_type": "code",
   "execution_count": 6,
   "id": "31a878d7",
   "metadata": {
    "hidden": true
   },
   "outputs": [
    {
     "name": "stdout",
     "output_type": "stream",
     "text": [
      "--------------------------------------------------------------------------------\n",
      "data_FNN shape: (19281, 8)\n",
      "--------------------------------------------------------------------------------\n"
     ]
    }
   ],
   "source": [
    "def get_data_from_gcp(nrows=10000, optimize=False, **kwargs):\n",
    "    \"\"\"method to get the training data (or a portion of it) from GCP\"\"\"\n",
    "    path = 'https://storage.googleapis.com/wagon-data-615-seguy/data/FakesNewsNET.csv'\n",
    "    df = pd.read_csv(path, nrows=nrows)\n",
    "    return df\n",
    "\n",
    "data_FNN = get_data_from_gcp(nrows=20000)\n",
    "\n",
    "print('-'*80)\n",
    "print(f\"data_FNN shape: {data_FNN.shape}\")\n",
    "print('-'*80)"
   ]
  },
  {
   "cell_type": "code",
   "execution_count": 7,
   "id": "011faf44",
   "metadata": {
    "hidden": true
   },
   "outputs": [
    {
     "name": "stdout",
     "output_type": "stream",
     "text": [
      "--------------------------------------------------------------------------------\n",
      "X_FNN shape: (19281,)\n",
      "y_FNN shape: (19281,)\n",
      "--------------------------------------------------------------------------------\n",
      "Original text: Djou wins special election for Congress\n",
      "Clean text: djou win special election congress\n",
      "--------------------------------------------------------------------------------\n"
     ]
    }
   ],
   "source": [
    "X_FNN = data_FNN['title'].apply(clean).copy()\n",
    "y_FNN = data_FNN['category'].copy()\n",
    "\n",
    "print('-'*80)\n",
    "print(f\"X_FNN shape: {X_FNN.shape}\")\n",
    "print(f\"y_FNN shape: {y_FNN.shape}\")\n",
    "print('-'*80)\n",
    "print(f\"Original text: {data_FNN['title'][0]}\")\n",
    "print(f\"Clean text: {X_FNN[0]}\")\n",
    "print('-'*80)"
   ]
  },
  {
   "cell_type": "code",
   "execution_count": 8,
   "id": "0f59499d",
   "metadata": {
    "hidden": true
   },
   "outputs": [
    {
     "name": "stdout",
     "output_type": "stream",
     "text": [
      "--------------------------------------------------------------------------------\n",
      "X_FNN_train shape: (15424,)\n",
      "y_FNN_train shape: (15424,)\n",
      "--------------------------------------------------------------------------------\n",
      "X_FNN_test shape: (3857,)\n",
      "y_FNN_test shape: (3857,)\n",
      "--------------------------------------------------------------------------------\n",
      "--------------------------------------------------------------------------------\n",
      "Fake (1) proportion in train (%): 24.870\n",
      "Fake (1) proportion in test (%): 23.568\n",
      "--------------------------------------------------------------------------------\n"
     ]
    }
   ],
   "source": [
    "X_FNN_train, X_FNN_test, y_FNN_train, y_FNN_test = train_test_split(X_FNN, y_FNN, test_size=0.2, random_state=42)\n",
    "\n",
    "print('-'*80)\n",
    "print(f\"X_FNN_train shape: {X_FNN_train.shape}\")\n",
    "print(f\"y_FNN_train shape: {y_FNN_train.shape}\")\n",
    "print('-'*80)\n",
    "print(f\"X_FNN_test shape: {X_FNN_test.shape}\")\n",
    "print(f\"y_FNN_test shape: {y_FNN_test.shape}\")\n",
    "print('-'*80)\n",
    "print('-'*80)\n",
    "print(f\"Fake (1) proportion in train (%): {y_FNN_train.sum()/len(y_FNN_train)*100:.3f}\")\n",
    "print(f\"Fake (1) proportion in test (%): {y_FNN_test.sum()/len(y_FNN_test)*100:.3f}\")\n",
    "print('-'*80)"
   ]
  },
  {
   "cell_type": "markdown",
   "id": "8bce5be8",
   "metadata": {
    "heading_collapsed": true,
    "hidden": true
   },
   "source": [
    "### Loading `Bisaillon`"
   ]
  },
  {
   "cell_type": "code",
   "execution_count": 9,
   "id": "91835721",
   "metadata": {
    "hidden": true
   },
   "outputs": [
    {
     "name": "stdout",
     "output_type": "stream",
     "text": [
      "--------------------------------------------------------------------------------\n",
      "true shape: (21417, 4)\n",
      "fake shape: (23481, 4)\n",
      "--------------------------------------------------------------------------------\n"
     ]
    }
   ],
   "source": [
    "def get_data_from_gcp(nrows=10000, optimize=False, **kwargs):\n",
    "    \"\"\"method to get the training data (or a portion of it) from GCP\"\"\"\n",
    "    true_path = 'https://storage.googleapis.com/wagon-data-615-seguy/data/True.csv'\n",
    "    fake_path = 'https://storage.googleapis.com/wagon-data-615-seguy/data/Fake.csv'\n",
    "    true_df = pd.read_csv(true_path, nrows=nrows)\n",
    "    fake_df = pd.read_csv(fake_path, nrows=nrows)\n",
    "    return true_df, fake_df\n",
    "\n",
    "true, fake = get_data_from_gcp(nrows=None)\n",
    "\n",
    "print('-'*80)\n",
    "print(f\"true shape: {true.shape}\")\n",
    "print(f\"fake shape: {fake.shape}\")\n",
    "print('-'*80)"
   ]
  },
  {
   "cell_type": "code",
   "execution_count": 10,
   "id": "9b6d5f9d",
   "metadata": {
    "hidden": true
   },
   "outputs": [
    {
     "name": "stdout",
     "output_type": "stream",
     "text": [
      "--------------------------------------------------------------------------------\n",
      "true shape (wo duplicates): (21211, 4)\n",
      "fake shape (wo duplicates): (23478, 4)\n",
      "--------------------------------------------------------------------------------\n"
     ]
    }
   ],
   "source": [
    "true.drop_duplicates(inplace=True)\n",
    "fake.drop_duplicates(inplace=True)\n",
    "\n",
    "print('-'*80)\n",
    "print(f\"true shape (wo duplicates): {true.shape}\")\n",
    "print(f\"fake shape (wo duplicates): {fake.shape}\")\n",
    "print('-'*80)"
   ]
  },
  {
   "cell_type": "code",
   "execution_count": 11,
   "id": "be61dbcc",
   "metadata": {
    "hidden": true
   },
   "outputs": [
    {
     "name": "stdout",
     "output_type": "stream",
     "text": [
      "--------------------------------------------------------------------------------\n",
      "data_BIS shape: (44689, 5)\n",
      "--------------------------------------------------------------------------------\n",
      "ratio #true: 47.46%\n",
      "ratio #fake: 52.54%\n",
      "--------------------------------------------------------------------------------\n"
     ]
    }
   ],
   "source": [
    "true['category'] = 0\n",
    "fake['category'] = 1\n",
    "\n",
    "data_BIS = pd.concat([true, fake]).reset_index(drop=True)\n",
    "\n",
    "print('-'*80)\n",
    "print(f\"data_BIS shape: {data_BIS.shape}\")\n",
    "print('-'*80)\n",
    "print(f\"ratio #true: {len(data_BIS[data_BIS['category']==0])/len(data_BIS)*100:.2f}%\")\n",
    "print(f\"ratio #fake: {len(data_BIS[data_BIS['category']==1])/len(data_BIS)*100:.2f}%\")\n",
    "print('-'*80)"
   ]
  },
  {
   "cell_type": "code",
   "execution_count": 12,
   "id": "382c57d3",
   "metadata": {
    "hidden": true
   },
   "outputs": [
    {
     "name": "stdout",
     "output_type": "stream",
     "text": [
      "--------------------------------------------------------------------------------\n",
      "X_BIS shape: (44689,)\n",
      "y_BIS shape: (44689,)\n",
      "--------------------------------------------------------------------------------\n",
      "Original text: As U.S. budget fight looms, Republicans flip their fiscal script\n",
      "Clean text: u budget fight loom republican flip fiscal script\n",
      "--------------------------------------------------------------------------------\n"
     ]
    }
   ],
   "source": [
    "X_BIS = data_BIS['title'].apply(clean).copy()\n",
    "y_BIS = data_BIS['category'].copy()\n",
    "\n",
    "print('-'*80)\n",
    "print(f\"X_BIS shape: {X_BIS.shape}\")\n",
    "print(f\"y_BIS shape: {y_BIS.shape}\")\n",
    "print('-'*80)\n",
    "print(f\"Original text: {data_BIS['title'][0]}\")\n",
    "print(f\"Clean text: {X_BIS[0]}\")\n",
    "print('-'*80)"
   ]
  },
  {
   "cell_type": "code",
   "execution_count": 13,
   "id": "5e9fe9b9",
   "metadata": {
    "hidden": true
   },
   "outputs": [
    {
     "name": "stdout",
     "output_type": "stream",
     "text": [
      "--------------------------------------------------------------------------------\n",
      "X_BIS_train shape: (35751,)\n",
      "y_BIS_train shape: (35751,)\n",
      "--------------------------------------------------------------------------------\n",
      "X_BIS_test shape: (8938,)\n",
      "y_BIS_test shape: (8938,)\n",
      "--------------------------------------------------------------------------------\n",
      "--------------------------------------------------------------------------------\n",
      "Fake (1) proportion in train (%): 52.670\n",
      "Fake (1) proportion in test (%): 52.003\n",
      "--------------------------------------------------------------------------------\n"
     ]
    }
   ],
   "source": [
    "X_BIS_train, X_BIS_test, y_BIS_train, y_BIS_test = train_test_split(X_BIS, y_BIS, test_size=0.2, random_state=42)\n",
    "\n",
    "print('-'*80)\n",
    "print(f\"X_BIS_train shape: {X_BIS_train.shape}\")\n",
    "print(f\"y_BIS_train shape: {y_BIS_train.shape}\")\n",
    "print('-'*80)\n",
    "print(f\"X_BIS_test shape: {X_BIS_test.shape}\")\n",
    "print(f\"y_BIS_test shape: {y_BIS_test.shape}\")\n",
    "print('-'*80)\n",
    "print('-'*80)\n",
    "print(f\"Fake (1) proportion in train (%): {y_BIS_train.sum()/len(y_BIS_train)*100:.3f}\")\n",
    "print(f\"Fake (1) proportion in test (%): {y_BIS_test.sum()/len(y_BIS_test)*100:.3f}\")\n",
    "print('-'*80)"
   ]
  },
  {
   "cell_type": "markdown",
   "id": "fd930362",
   "metadata": {
    "heading_collapsed": true,
    "hidden": true
   },
   "source": [
    "### Merging `All`"
   ]
  },
  {
   "cell_type": "code",
   "execution_count": 14,
   "id": "666beaa8",
   "metadata": {
    "hidden": true
   },
   "outputs": [
    {
     "name": "stdout",
     "output_type": "stream",
     "text": [
      "--------------------------------------------------------------------------------\n",
      "X_all shape: (83796,)\n",
      "y_all shape: (83796,)\n",
      "--------------------------------------------------------------------------------\n"
     ]
    }
   ],
   "source": [
    "X_all = pd.concat([X_P, X_FNN, X_BIS]).reset_index(drop=True)\n",
    "y_all = pd.concat([y_P, y_FNN, y_BIS]).reset_index(drop=True)\n",
    "\n",
    "print('-'*80)\n",
    "print(f\"X_all shape: {X_all.shape}\")\n",
    "print(f\"y_all shape: {y_all.shape}\")\n",
    "print('-'*80)"
   ]
  },
  {
   "cell_type": "code",
   "execution_count": 15,
   "id": "517aedea",
   "metadata": {
    "hidden": true
   },
   "outputs": [
    {
     "name": "stdout",
     "output_type": "stream",
     "text": [
      "--------------------------------------------------------------------------------\n",
      "X_ALL_train shape: (67036,)\n",
      "y_ALL_train shape: (67036,)\n",
      "--------------------------------------------------------------------------------\n",
      "X_ALL_test shape: (16760,)\n",
      "y_ALL_test shape: (16760,)\n",
      "--------------------------------------------------------------------------------\n",
      "--------------------------------------------------------------------------------\n",
      "Fake (1) proportion in train (%): 46.453\n",
      "Fake (1) proportion in test (%): 46.718\n",
      "--------------------------------------------------------------------------------\n"
     ]
    }
   ],
   "source": [
    "X_ALL_train, X_ALL_test, y_ALL_train, y_ALL_test = train_test_split(X_all, y_all, test_size=0.2, random_state=42)\n",
    "\n",
    "print('-'*80)\n",
    "print(f\"X_ALL_train shape: {X_ALL_train.shape}\")\n",
    "print(f\"y_ALL_train shape: {y_ALL_train.shape}\")\n",
    "print('-'*80)\n",
    "print(f\"X_ALL_test shape: {X_ALL_test.shape}\")\n",
    "print(f\"y_ALL_test shape: {y_ALL_test.shape}\")\n",
    "print('-'*80)\n",
    "print('-'*80)\n",
    "print(f\"Fake (1) proportion in train (%): {y_ALL_train.sum()/len(y_ALL_train)*100:.3f}\")\n",
    "print(f\"Fake (1) proportion in test (%): {y_ALL_test.sum()/len(y_ALL_test)*100:.3f}\")\n",
    "print('-'*80)"
   ]
  },
  {
   "cell_type": "markdown",
   "id": "d827191f",
   "metadata": {
    "hidden": true
   },
   "source": [
    "#### Checking foreign characters"
   ]
  },
  {
   "cell_type": "code",
   "execution_count": 16,
   "id": "5f9124bb",
   "metadata": {
    "hidden": true
   },
   "outputs": [],
   "source": [
    "# vectorizer = TfidfVectorizer()\n",
    "# X_vec = vectorizer.fit_transform(X_FNN)\n",
    "\n",
    "# X_vec_df = pd.DataFrame(X_vec.toarray(), columns = vectorizer.get_feature_names())\n",
    "\n",
    "# print('-'*80)\n",
    "# print(f\"X_vec shape: {X_train_vec.shape}\")\n",
    "# print('-'*80)\n",
    "# print(X_vec_df.head())\n",
    "# print('-'*80)"
   ]
  },
  {
   "cell_type": "code",
   "execution_count": null,
   "id": "df049041",
   "metadata": {
    "hidden": true
   },
   "outputs": [],
   "source": [
    "# data_FNN['title'].str.contains('ы').sum()"
   ]
  },
  {
   "cell_type": "markdown",
   "id": "gHrHg3bzmUN9",
   "metadata": {
    "id": "gHrHg3bzmUN9"
   },
   "source": [
    "## `politifact_scrap.csv`"
   ]
  },
  {
   "cell_type": "markdown",
   "id": "94b4beeb",
   "metadata": {
    "heading_collapsed": true
   },
   "source": [
    "### Preprocessing"
   ]
  },
  {
   "cell_type": "code",
   "execution_count": 32,
   "id": "AqfGJOoPGwcj",
   "metadata": {
    "colab": {
     "base_uri": "https://localhost:8080/"
    },
    "executionInfo": {
     "elapsed": 1334,
     "status": "ok",
     "timestamp": 1630050489099,
     "user": {
      "displayName": "Julien Seguy",
      "photoUrl": "",
      "userId": "07351507381529939348"
     },
     "user_tz": -480
    },
    "hidden": true,
    "id": "AqfGJOoPGwcj",
    "outputId": "f4d75b7c-f64e-468b-f8a0-409a674eecab"
   },
   "outputs": [
    {
     "name": "stdout",
     "output_type": "stream",
     "text": [
      "--------------------------------------------------------------------------------\n",
      "X_P_train_vec shape: (15860, 12692)\n",
      "X_P_test_vec shape: (3966, 12692)\n",
      "--------------------------------------------------------------------------------\n",
      "    aa  aaa  aaron  aarp   ab  aba  abaco  abandoned  abbas  abbott  ...  \\\n",
      "0  0.0  0.0    0.0   0.0  0.0  0.0    0.0        0.0    0.0     0.0  ...   \n",
      "1  0.0  0.0    0.0   0.0  0.0  0.0    0.0        0.0    0.0     0.0  ...   \n",
      "2  0.0  0.0    0.0   0.0  0.0  0.0    0.0        0.0    0.0     0.0  ...   \n",
      "3  0.0  0.0    0.0   0.0  0.0  0.0    0.0        0.0    0.0     0.0  ...   \n",
      "4  0.0  0.0    0.0   0.0  0.0  0.0    0.0        0.0    0.0     0.0  ...   \n",
      "\n",
      "   zoning  zoo  zoom  zpass  zuber  zucker  zuckerberg  zyphr  único  ḍozen  \n",
      "0     0.0  0.0   0.0    0.0    0.0     0.0         0.0    0.0    0.0    0.0  \n",
      "1     0.0  0.0   0.0    0.0    0.0     0.0         0.0    0.0    0.0    0.0  \n",
      "2     0.0  0.0   0.0    0.0    0.0     0.0         0.0    0.0    0.0    0.0  \n",
      "3     0.0  0.0   0.0    0.0    0.0     0.0         0.0    0.0    0.0    0.0  \n",
      "4     0.0  0.0   0.0    0.0    0.0     0.0         0.0    0.0    0.0    0.0  \n",
      "\n",
      "[5 rows x 12692 columns]\n",
      "--------------------------------------------------------------------------------\n"
     ]
    }
   ],
   "source": [
    "vectorizer_P = TfidfVectorizer()\n",
    "X_P_train_vec = vectorizer_P.fit_transform(X_P_train)\n",
    "X_P_test_vec = vectorizer_P.transform(X_P_test)\n",
    "\n",
    "X_P_train_vec_df = pd.DataFrame(X_P_train_vec.toarray(), columns = vectorizer_P.get_feature_names())\n",
    "\n",
    "print('-'*80)\n",
    "print(f\"X_P_train_vec shape: {X_P_train_vec.shape}\")\n",
    "print(f\"X_P_test_vec shape: {X_P_test_vec.shape}\")\n",
    "print('-'*80)\n",
    "print(X_P_train_vec_df.head())\n",
    "print('-'*80)"
   ]
  },
  {
   "cell_type": "markdown",
   "id": "9ueZ-2tMlvYR",
   "metadata": {
    "heading_collapsed": true,
    "id": "9ueZ-2tMlvYR"
   },
   "source": [
    "### Logistic Regression"
   ]
  },
  {
   "cell_type": "code",
   "execution_count": 18,
   "id": "SOwnruXKlueM",
   "metadata": {
    "colab": {
     "base_uri": "https://localhost:8080/",
     "height": 962
    },
    "executionInfo": {
     "elapsed": 35993,
     "status": "ok",
     "timestamp": 1630051277205,
     "user": {
      "displayName": "Julien Seguy",
      "photoUrl": "",
      "userId": "07351507381529939348"
     },
     "user_tz": -480
    },
    "hidden": true,
    "id": "SOwnruXKlueM",
    "outputId": "57f05713-5ef2-40d9-a4f4-49a7ade9642a"
   },
   "outputs": [
    {
     "name": "stdout",
     "output_type": "stream",
     "text": [
      "--------------------------------------------------------------------------------\n",
      "Logistic Reg - CV scores: \n",
      "--------------------------------------------------------------------------------\n",
      "Acc : 0.65\n",
      "Recall: 0.73\n",
      "Precision: 0.66\n",
      "f1: 0.69\n",
      "--------------------------------------------------------------------------------\n",
      "Logistic Reg - test scores: \n",
      "--------------------------------------------------------------------------------\n",
      "Acc: 0.65\n",
      "Recall: 0.72\n",
      "Precision: 0.66\n",
      "f1: 0.69\n",
      "--------------------------------------------------------------------------------\n"
     ]
    },
    {
     "data": {
      "image/png": "[encoded data removed]",
      "text/plain": [
       "<Figure size 864x432 with 2 Axes>"
      ]
     },
     "metadata": {
      "needs_background": "light"
     },
     "output_type": "display_data"
    },
    {
     "data": {
      "image/png": "[encoded data removed]",
      "text/plain": [
       "<Figure size 576x360 with 1 Axes>"
      ]
     },
     "metadata": {
      "needs_background": "light"
     },
     "output_type": "display_data"
    }
   ],
   "source": [
    "log_model = LogisticRegression(max_iter=1000, n_jobs=-1)\n",
    "acc, recall, precision, f1 = get_scores(log_model, 'Logistic Reg', X_P_train_vec, y_P_train, X_P_test_vec, y_P_test)\n",
    "\n",
    "plot_confusion_matrix(log_model, X_P_test_vec, y_P_test, values_format='d');\n",
    "\n",
    "plot_learning_curve(log_model, 'Logistic Reg', X_P_train_vec, y_P_train)"
   ]
  },
  {
   "cell_type": "markdown",
   "id": "734c9e78",
   "metadata": {
    "heading_collapsed": true
   },
   "source": [
    "### Logistic Regression - Fine-Tuning"
   ]
  },
  {
   "cell_type": "code",
   "execution_count": 19,
   "id": "c344f288",
   "metadata": {
    "hidden": true
   },
   "outputs": [
    {
     "name": "stdout",
     "output_type": "stream",
     "text": [
      "Fitting 5 folds for each of 32 candidates, totalling 160 fits\n",
      "--------------------------------------------------------------------------------\n",
      "Best parameters: {'log_reg__C': 1, 'tfidf__max_df': 0.75, 'tfidf__ngram_range': (1, 3)}\n",
      "--------------------------------------------------------------------------------\n"
     ]
    }
   ],
   "source": [
    "pipeline = Pipeline([\n",
    "    ('tfidf', TfidfVectorizer()),\n",
    "    ('log_reg', LogisticRegression(max_iter=1000)),\n",
    "])\n",
    "\n",
    "parameters = {\n",
    "    'tfidf__ngram_range': ((1, 1), (1, 2), (2, 2), (1, 3)),\n",
    "#     'tfidf__min_df': (0.05, 0.1),\n",
    "    'tfidf__max_df': (0.75, 1),\n",
    "    'log_reg__C': (0.01, 0.1, 1, 10)\n",
    "}\n",
    "\n",
    "lg_grid_search = GridSearchCV(pipeline, \n",
    "                           parameters, \n",
    "                           n_jobs=-1, \n",
    "                           scoring=\"accuracy\", \n",
    "                           refit=True, \n",
    "                           cv=5,\n",
    "                           verbose=1)\n",
    "\n",
    "lg_grid_search.fit(X_P_train, y_P_train)\n",
    "\n",
    "print('-'*80)\n",
    "print(f\"Best parameters: {lg_grid_search.best_params_}\")\n",
    "print('-'*80)"
   ]
  },
  {
   "cell_type": "code",
   "execution_count": 20,
   "id": "a57f4e1b",
   "metadata": {
    "hidden": true
   },
   "outputs": [
    {
     "name": "stdout",
     "output_type": "stream",
     "text": [
      "--------------------------------------------------------------------------------\n",
      "Log Reg - FT - CV scores: \n",
      "--------------------------------------------------------------------------------\n",
      "Acc : 0.66\n",
      "Recall: 0.68\n",
      "Precision: 0.69\n",
      "f1: 0.69\n",
      "--------------------------------------------------------------------------------\n",
      "Log Reg - FT - test scores: \n",
      "--------------------------------------------------------------------------------\n",
      "Acc: 0.66\n",
      "Recall: 0.68\n",
      "Precision: 0.69\n",
      "f1: 0.68\n",
      "--------------------------------------------------------------------------------\n"
     ]
    },
    {
     "data": {
      "image/png": "[encoded data removed]",
      "text/plain": [
       "<Figure size 864x432 with 2 Axes>"
      ]
     },
     "metadata": {
      "needs_background": "light"
     },
     "output_type": "display_data"
    }
   ],
   "source": [
    "acc, recall, precision, f1 = get_scores(lg_grid_search.best_estimator_, 'Log Reg - FT', X_P_train, y_P_train, X_P_test, y_P_test)\n",
    "\n",
    "plot_confusion_matrix(lg_grid_search.best_estimator_, X_P_test, y_P_test, values_format='d');"
   ]
  },
  {
   "cell_type": "markdown",
   "id": "RNiHqRowof4C",
   "metadata": {
    "heading_collapsed": true,
    "id": "RNiHqRowof4C"
   },
   "source": [
    "### Naive Bayes"
   ]
  },
  {
   "cell_type": "code",
   "execution_count": 21,
   "id": "0-pVBSYEmELi",
   "metadata": {
    "colab": {
     "base_uri": "https://localhost:8080/",
     "height": 962
    },
    "executionInfo": {
     "elapsed": 1369,
     "status": "ok",
     "timestamp": 1630051323404,
     "user": {
      "displayName": "Julien Seguy",
      "photoUrl": "",
      "userId": "07351507381529939348"
     },
     "user_tz": -480
    },
    "hidden": true,
    "id": "0-pVBSYEmELi",
    "outputId": "39258b02-ea66-49b1-d5de-7d298fbe8141"
   },
   "outputs": [
    {
     "name": "stdout",
     "output_type": "stream",
     "text": [
      "--------------------------------------------------------------------------------\n",
      "Naive Bayes - CV scores: \n",
      "--------------------------------------------------------------------------------\n",
      "Acc : 0.65\n",
      "Recall: 0.70\n",
      "Precision: 0.67\n",
      "f1: 0.69\n",
      "--------------------------------------------------------------------------------\n",
      "Naive Bayes - test scores: \n",
      "--------------------------------------------------------------------------------\n",
      "Acc: 0.65\n",
      "Recall: 0.69\n",
      "Precision: 0.67\n",
      "f1: 0.68\n",
      "--------------------------------------------------------------------------------\n"
     ]
    },
    {
     "data": {
      "image/png": "[encoded data removed]",
      "text/plain": [
       "<Figure size 864x432 with 2 Axes>"
      ]
     },
     "metadata": {
      "needs_background": "light"
     },
     "output_type": "display_data"
    },
    {
     "data": {
      "image/png": "[encoded data removed]",
      "text/plain": [
       "<Figure size 576x360 with 1 Axes>"
      ]
     },
     "metadata": {
      "needs_background": "light"
     },
     "output_type": "display_data"
    }
   ],
   "source": [
    "nb_model = MultinomialNB()\n",
    "acc, recall, precision, f1 = get_scores(nb_model, 'Naive Bayes', X_P_train_vec, y_P_train, X_P_test_vec, y_P_test)\n",
    "\n",
    "plot_confusion_matrix(nb_model, X_P_test_vec, y_P_test, values_format='d');\n",
    "\n",
    "plot_learning_curve(nb_model, 'Naive Bayes', X_P_train_vec, y_P_train)"
   ]
  },
  {
   "cell_type": "markdown",
   "id": "d0fadf5d",
   "metadata": {
    "heading_collapsed": true
   },
   "source": [
    "### Naive Bayes - Fine-Tuning"
   ]
  },
  {
   "cell_type": "code",
   "execution_count": 22,
   "id": "21c68eda",
   "metadata": {
    "hidden": true
   },
   "outputs": [
    {
     "name": "stdout",
     "output_type": "stream",
     "text": [
      "Fitting 5 folds for each of 32 candidates, totalling 160 fits\n",
      "--------------------------------------------------------------------------------\n",
      "Best parameters: {'nb__alpha': 1, 'tfidf__max_df': 0.75, 'tfidf__ngram_range': (1, 2)}\n",
      "--------------------------------------------------------------------------------\n"
     ]
    }
   ],
   "source": [
    "pipeline = Pipeline([\n",
    "    ('tfidf', TfidfVectorizer()),\n",
    "    ('nb', MultinomialNB()),\n",
    "])\n",
    "\n",
    "parameters = {\n",
    "    'tfidf__ngram_range': ((1, 1), (1, 2), (2, 2), (1, 3)),\n",
    "#     'tfidf__min_df': (0.05, 0.1),\n",
    "    'tfidf__max_df': (0.75, 1),\n",
    "    'nb__alpha': (0.01, 0.1, 1, 10)\n",
    "}\n",
    "\n",
    "nb_grid_search = GridSearchCV(pipeline, \n",
    "                           parameters, \n",
    "                           n_jobs=-1, \n",
    "                           scoring=\"accuracy\", \n",
    "                           refit=True, \n",
    "                           cv=5,\n",
    "                           verbose=1)\n",
    "\n",
    "nb_grid_search.fit(X_P_train, y_P_train)\n",
    "\n",
    "print('-'*80)\n",
    "print(f\"Best parameters: {nb_grid_search.best_params_}\")\n",
    "print('-'*80)"
   ]
  },
  {
   "cell_type": "code",
   "execution_count": 23,
   "id": "4ce06072",
   "metadata": {
    "hidden": true
   },
   "outputs": [
    {
     "name": "stdout",
     "output_type": "stream",
     "text": [
      "--------------------------------------------------------------------------------\n",
      "NB - FT - CV scores: \n",
      "--------------------------------------------------------------------------------\n",
      "Acc : 0.65\n",
      "Recall: 0.76\n",
      "Precision: 0.65\n",
      "f1: 0.70\n",
      "--------------------------------------------------------------------------------\n",
      "NB - FT - test scores: \n",
      "--------------------------------------------------------------------------------\n",
      "Acc: 0.66\n",
      "Recall: 0.76\n",
      "Precision: 0.66\n",
      "f1: 0.70\n",
      "--------------------------------------------------------------------------------\n"
     ]
    },
    {
     "data": {
      "image/png": "[encoded data removed]",
      "text/plain": [
       "<Figure size 864x432 with 2 Axes>"
      ]
     },
     "metadata": {
      "needs_background": "light"
     },
     "output_type": "display_data"
    }
   ],
   "source": [
    "acc, recall, precision, f1 = get_scores(nb_grid_search.best_estimator_, 'NB - FT', X_P_train, y_P_train, X_P_test, y_P_test)\n",
    "\n",
    "plot_confusion_matrix(nb_grid_search.best_estimator_, X_P_test, y_P_test, values_format='d');"
   ]
  },
  {
   "cell_type": "markdown",
   "id": "KMkKlT9MomhX",
   "metadata": {
    "heading_collapsed": true,
    "id": "KMkKlT9MomhX"
   },
   "source": [
    "### SVM"
   ]
  },
  {
   "cell_type": "code",
   "execution_count": 24,
   "id": "zING8wSemYTV",
   "metadata": {
    "colab": {
     "base_uri": "https://localhost:8080/",
     "height": 1000
    },
    "executionInfo": {
     "elapsed": 41154,
     "status": "error",
     "timestamp": 1630052434805,
     "user": {
      "displayName": "Julien Seguy",
      "photoUrl": "",
      "userId": "07351507381529939348"
     },
     "user_tz": -480
    },
    "hidden": true,
    "id": "zING8wSemYTV",
    "outputId": "baa90d1e-30c0-4ee8-fc3b-0042a387d46f"
   },
   "outputs": [],
   "source": [
    "# svm_model = SVC()\n",
    "# acc, recall, precision, f1 = get_scores(svm_model, 'SVM', X_train_vec, y_train, X_test_vec, y_test)\n",
    "\n",
    "# plot_confusion_matrix(svm_model, X_test_vec, y_test, values_format='d');\n",
    "\n",
    "# # plot_learning_curve(svm_model, 'SVM', X_train_vec, y_train)"
   ]
  },
  {
   "cell_type": "markdown",
   "id": "hC2IhakzopBB",
   "metadata": {
    "heading_collapsed": true,
    "id": "hC2IhakzopBB"
   },
   "source": [
    "### Random Forest"
   ]
  },
  {
   "cell_type": "code",
   "execution_count": 25,
   "id": "4CEmUVpmd5Wp",
   "metadata": {
    "hidden": true,
    "id": "4CEmUVpmd5Wp"
   },
   "outputs": [],
   "source": [
    "# forest_model = RandomForestClassifier(n_estimators = 100, random_state = 42)\n",
    "# acc, recall, precision, f1 = get_scores(forest_model, 'RandomForest', X_train_vec, y_train, X_test_vec, y_test)\n",
    "\n",
    "# plot_confusion_matrix(forest_model, X_test_vec, y_test, values_format='d');\n",
    "\n",
    "# # plot_learning_curve(forest_model, 'RandomForest', X_train_vec, y_train)"
   ]
  },
  {
   "cell_type": "markdown",
   "id": "fb47b846",
   "metadata": {
    "heading_collapsed": true,
    "id": "im1MyFURgiyw"
   },
   "source": [
    "### Saving the model"
   ]
  },
  {
   "cell_type": "code",
   "execution_count": 26,
   "id": "d4e4577f",
   "metadata": {
    "hidden": true
   },
   "outputs": [
    {
     "name": "stdout",
     "output_type": "stream",
     "text": [
      "\u001b[32m--------------------------------------------------------------------------------\u001b[0m\n",
      "\u001b[32m../raw_data/P_model.joblib saved locally\u001b[0m\n",
      "\u001b[32m--------------------------------------------------------------------------------\u001b[0m\n"
     ]
    }
   ],
   "source": [
    "model_name = '../raw_data/P_model.joblib'\n",
    "save_model(nb_grid_search.best_estimator_, model_name)"
   ]
  },
  {
   "cell_type": "markdown",
   "id": "52000849",
   "metadata": {
    "heading_collapsed": true
   },
   "source": [
    "### Uploading the model"
   ]
  },
  {
   "cell_type": "code",
   "execution_count": 27,
   "id": "5acde824",
   "metadata": {
    "hidden": true
   },
   "outputs": [],
   "source": [
    "model = get_model(model_name)"
   ]
  },
  {
   "cell_type": "code",
   "execution_count": 28,
   "id": "fa29be1d",
   "metadata": {
    "hidden": true
   },
   "outputs": [
    {
     "name": "stdout",
     "output_type": "stream",
     "text": [
      "--------------------------------------------------------------------------------\n",
      "NB - FT - CV scores: \n",
      "--------------------------------------------------------------------------------\n",
      "Acc : 0.65\n",
      "Recall: 0.76\n",
      "Precision: 0.65\n",
      "f1: 0.70\n",
      "--------------------------------------------------------------------------------\n",
      "NB - FT - test scores: \n",
      "--------------------------------------------------------------------------------\n",
      "Acc: 0.66\n",
      "Recall: 0.76\n",
      "Precision: 0.66\n",
      "f1: 0.70\n",
      "--------------------------------------------------------------------------------\n"
     ]
    },
    {
     "data": {
      "image/png": "[encoded data removed]",
      "text/plain": [
       "<Figure size 864x432 with 2 Axes>"
      ]
     },
     "metadata": {
      "needs_background": "light"
     },
     "output_type": "display_data"
    }
   ],
   "source": [
    "acc, recall, precision, f1 = get_scores(model, 'NB - FT', X_P_train, y_P_train, X_P_test, y_P_test)\n",
    "\n",
    "plot_confusion_matrix(model, X_P_test, y_P_test, values_format='d');"
   ]
  },
  {
   "cell_type": "markdown",
   "id": "5d561689",
   "metadata": {
    "heading_collapsed": true,
    "id": "oWgEwxJggi1c"
   },
   "source": [
    "### `P_model.joblib` evaluation on `FakeNewsNET`"
   ]
  },
  {
   "cell_type": "code",
   "execution_count": 29,
   "id": "uBpnA9uigi9o",
   "metadata": {
    "hidden": true,
    "id": "uBpnA9uigi9o"
   },
   "outputs": [
    {
     "name": "stdout",
     "output_type": "stream",
     "text": [
      "--------------------------------------------------------------------------------\n",
      "../raw_data/P_model.joblib - test scores: \n",
      "--------------------------------------------------------------------------------\n",
      "Acc: 0.29\n",
      "Recall: 0.94\n",
      "Precision: 0.25\n",
      "f1: 0.39\n",
      "--------------------------------------------------------------------------------\n"
     ]
    },
    {
     "data": {
      "image/png": "[encoded data removed]",
      "text/plain": [
       "<Figure size 864x432 with 2 Axes>"
      ]
     },
     "metadata": {
      "needs_background": "light"
     },
     "output_type": "display_data"
    }
   ],
   "source": [
    "model_name = '../raw_data/P_model.joblib'\n",
    "\n",
    "model = get_model(model_name)\n",
    "\n",
    "y_preds = model.predict(X_FNN)\n",
    "\n",
    "print('-'*80)\n",
    "print(f\"{model_name} - test scores: \")\n",
    "binary_metrics(y_FNN, y_preds)\n",
    "\n",
    "plot_confusion_matrix(model, X_FNN, y_FNN, values_format='d');"
   ]
  },
  {
   "cell_type": "markdown",
   "id": "5d3e6cdb",
   "metadata": {
    "heading_collapsed": true,
    "id": "Czb74g1KgjAg"
   },
   "source": [
    "### `P_model.joblib` evaluation on `Bisaillon`"
   ]
  },
  {
   "cell_type": "code",
   "execution_count": 30,
   "id": "258e676e",
   "metadata": {
    "hidden": true
   },
   "outputs": [
    {
     "name": "stdout",
     "output_type": "stream",
     "text": [
      "--------------------------------------------------------------------------------\n",
      "../raw_data/P_model.joblib - test scores: \n",
      "--------------------------------------------------------------------------------\n",
      "Acc: 0.56\n",
      "Recall: 0.97\n",
      "Precision: 0.55\n",
      "f1: 0.70\n",
      "--------------------------------------------------------------------------------\n"
     ]
    },
    {
     "data": {
      "image/png": "[encoded data removed]",
      "text/plain": [
       "<Figure size 864x432 with 2 Axes>"
      ]
     },
     "metadata": {
      "needs_background": "light"
     },
     "output_type": "display_data"
    }
   ],
   "source": [
    "model_name = '../raw_data/P_model.joblib'\n",
    "\n",
    "model = get_model(model_name)\n",
    "\n",
    "y_preds = model.predict(X_BIS)\n",
    "\n",
    "print('-'*80)\n",
    "print(f\"{model_name} - test scores: \")\n",
    "binary_metrics(y_BIS, y_preds)\n",
    "\n",
    "plot_confusion_matrix(model, X_BIS, y_BIS, values_format='d');"
   ]
  },
  {
   "cell_type": "markdown",
   "id": "7bb69a78",
   "metadata": {},
   "source": [
    "## `FakeNewsNET`"
   ]
  },
  {
   "cell_type": "markdown",
   "id": "e008e142",
   "metadata": {
    "heading_collapsed": true
   },
   "source": [
    "### Preprocessing"
   ]
  },
  {
   "cell_type": "code",
   "execution_count": 33,
   "id": "2449c574",
   "metadata": {
    "hidden": true
   },
   "outputs": [
    {
     "name": "stdout",
     "output_type": "stream",
     "text": [
      "--------------------------------------------------------------------------------\n",
      "X_FNN_train_vec shape: (15424, 12773)\n",
      "X_FNN_test_vec shape: (3857, 12773)\n",
      "--------------------------------------------------------------------------------\n",
      "   aaliyah  aaron   ab  abandon  abasolo  abba  abbey  abbi  abbie  abbott  \\\n",
      "0      0.0    0.0  0.0      0.0      0.0   0.0    0.0   0.0    0.0     0.0   \n",
      "1      0.0    0.0  0.0      0.0      0.0   0.0    0.0   0.0    0.0     0.0   \n",
      "2      0.0    0.0  0.0      0.0      0.0   0.0    0.0   0.0    0.0     0.0   \n",
      "3      0.0    0.0  0.0      0.0      0.0   0.0    0.0   0.0    0.0     0.0   \n",
      "4      0.0    0.0  0.0      0.0      0.0   0.0    0.0   0.0    0.0     0.0   \n",
      "\n",
      "   ...  букмекерская  вин  контора  монако  пернелл  питт  принцессы  ради  \\\n",
      "0  ...           0.0  0.0      0.0     0.0      0.0   0.0        0.0   0.0   \n",
      "1  ...           0.0  0.0      0.0     0.0      0.0   0.0        0.0   0.0   \n",
      "2  ...           0.0  0.0      0.0     0.0      0.0   0.0        0.0   0.0   \n",
      "3  ...           0.0  0.0      0.0     0.0      0.0   0.0        0.0   0.0   \n",
      "4  ...           0.0  0.0      0.0     0.0      0.0   0.0        0.0   0.0   \n",
      "\n",
      "   сми  эллу  \n",
      "0  0.0   0.0  \n",
      "1  0.0   0.0  \n",
      "2  0.0   0.0  \n",
      "3  0.0   0.0  \n",
      "4  0.0   0.0  \n",
      "\n",
      "[5 rows x 12773 columns]\n",
      "--------------------------------------------------------------------------------\n"
     ]
    }
   ],
   "source": [
    "vectorizer_F = TfidfVectorizer()\n",
    "X_FNN_train_vec = vectorizer_F.fit_transform(X_FNN_train)\n",
    "X_FNN_test_vec = vectorizer_F.transform(X_FNN_test)\n",
    "\n",
    "X_FNN_train_vec_df = pd.DataFrame(X_FNN_train_vec.toarray(), columns = vectorizer_F.get_feature_names())\n",
    "\n",
    "print('-'*80)\n",
    "print(f\"X_FNN_train_vec shape: {X_FNN_train_vec.shape}\")\n",
    "print(f\"X_FNN_test_vec shape: {X_FNN_test_vec.shape}\")\n",
    "print('-'*80)\n",
    "print(X_FNN_train_vec_df.head())\n",
    "print('-'*80)"
   ]
  },
  {
   "cell_type": "markdown",
   "id": "8c767569",
   "metadata": {
    "heading_collapsed": true
   },
   "source": [
    "### Naive Bayes"
   ]
  },
  {
   "cell_type": "code",
   "execution_count": 34,
   "id": "b2f54c5d",
   "metadata": {
    "hidden": true
   },
   "outputs": [
    {
     "name": "stdout",
     "output_type": "stream",
     "text": [
      "--------------------------------------------------------------------------------\n",
      "Naive Bayes - CV scores: \n",
      "--------------------------------------------------------------------------------\n",
      "Acc : 0.80\n",
      "Recall: 0.25\n",
      "Precision: 0.84\n",
      "f1: 0.39\n",
      "--------------------------------------------------------------------------------\n",
      "Naive Bayes - test scores: \n",
      "--------------------------------------------------------------------------------\n",
      "Acc: 0.82\n",
      "Recall: 0.29\n",
      "Precision: 0.81\n",
      "f1: 0.43\n",
      "--------------------------------------------------------------------------------\n"
     ]
    },
    {
     "data": {
      "image/png": "[encoded data removed]",
      "text/plain": [
       "<Figure size 864x432 with 2 Axes>"
      ]
     },
     "metadata": {
      "needs_background": "light"
     },
     "output_type": "display_data"
    },
    {
     "data": {
      "image/png": "[encoded data removed]",
      "text/plain": [
       "<Figure size 576x360 with 1 Axes>"
      ]
     },
     "metadata": {
      "needs_background": "light"
     },
     "output_type": "display_data"
    }
   ],
   "source": [
    "nb_model = MultinomialNB()\n",
    "acc, recall, precision, f1 = get_scores(nb_model, 'Naive Bayes', X_FNN_train_vec, y_FNN_train, X_FNN_test_vec, y_FNN_test)\n",
    "\n",
    "plot_confusion_matrix(nb_model, X_FNN_test_vec, y_FNN_test, values_format='d');\n",
    "\n",
    "plot_learning_curve(nb_model, 'Naive Bayes', X_FNN_train_vec, y_FNN_train)"
   ]
  },
  {
   "cell_type": "markdown",
   "id": "54ed4227",
   "metadata": {
    "heading_collapsed": true
   },
   "source": [
    "### Naives Bayes - Fine Tuning"
   ]
  },
  {
   "cell_type": "code",
   "execution_count": 35,
   "id": "78692612",
   "metadata": {
    "hidden": true
   },
   "outputs": [
    {
     "name": "stdout",
     "output_type": "stream",
     "text": [
      "Fitting 5 folds for each of 32 candidates, totalling 160 fits\n",
      "--------------------------------------------------------------------------------\n",
      "Best parameters: {'nb__alpha': 0.1, 'tfidf__max_df': 0.75, 'tfidf__ngram_range': (1, 2)}\n",
      "--------------------------------------------------------------------------------\n"
     ]
    }
   ],
   "source": [
    "pipeline = Pipeline([\n",
    "    ('tfidf', TfidfVectorizer()),\n",
    "    ('nb', MultinomialNB()),\n",
    "])\n",
    "\n",
    "parameters = {\n",
    "    'tfidf__ngram_range': ((1, 1), (1, 2), (2, 2), (1, 3)),\n",
    "#     'tfidf__min_df': (0.05, 0.1),\n",
    "    'tfidf__max_df': (0.75, 1),\n",
    "    'nb__alpha': (0.01, 0.1, 1, 10)\n",
    "}\n",
    "\n",
    "nb_grid_search = GridSearchCV(pipeline, \n",
    "                           parameters, \n",
    "                           n_jobs=-1, \n",
    "                           scoring=\"accuracy\", \n",
    "                           refit=True, \n",
    "                           cv=5,\n",
    "                           verbose=1)\n",
    "\n",
    "nb_grid_search.fit(X_FNN_train, y_FNN_train)\n",
    "\n",
    "print('-'*80)\n",
    "print(f\"Best parameters: {nb_grid_search.best_params_}\")\n",
    "print('-'*80)"
   ]
  },
  {
   "cell_type": "code",
   "execution_count": 36,
   "id": "e2e614b6",
   "metadata": {
    "hidden": true
   },
   "outputs": [
    {
     "name": "stdout",
     "output_type": "stream",
     "text": [
      "--------------------------------------------------------------------------------\n",
      "NB - FT - CV scores: \n",
      "--------------------------------------------------------------------------------\n",
      "Acc : 0.82\n",
      "Recall: 0.45\n",
      "Precision: 0.72\n",
      "f1: 0.55\n",
      "--------------------------------------------------------------------------------\n",
      "NB - FT - test scores: \n",
      "--------------------------------------------------------------------------------\n",
      "Acc: 0.83\n",
      "Recall: 0.49\n",
      "Precision: 0.71\n",
      "f1: 0.58\n",
      "--------------------------------------------------------------------------------\n"
     ]
    },
    {
     "data": {
      "image/png": "[encoded data removed]",
      "text/plain": [
       "<Figure size 864x432 with 2 Axes>"
      ]
     },
     "metadata": {
      "needs_background": "light"
     },
     "output_type": "display_data"
    }
   ],
   "source": [
    "acc, recall, precision, f1 = get_scores(nb_grid_search.best_estimator_, 'NB - FT', X_FNN_train, y_FNN_train, X_FNN_test, y_FNN_test)\n",
    "\n",
    "plot_confusion_matrix(nb_grid_search.best_estimator_, X_FNN_test, y_FNN_test, values_format='d');"
   ]
  },
  {
   "cell_type": "markdown",
   "id": "e376bad5",
   "metadata": {
    "heading_collapsed": true
   },
   "source": [
    "### Saving the model"
   ]
  },
  {
   "cell_type": "code",
   "execution_count": 37,
   "id": "1a7d3f40",
   "metadata": {
    "hidden": true
   },
   "outputs": [
    {
     "name": "stdout",
     "output_type": "stream",
     "text": [
      "\u001b[32m--------------------------------------------------------------------------------\u001b[0m\n",
      "\u001b[32m../raw_data/F_model.joblib saved locally\u001b[0m\n",
      "\u001b[32m--------------------------------------------------------------------------------\u001b[0m\n"
     ]
    }
   ],
   "source": [
    "model_name = '../raw_data/F_model.joblib'\n",
    "save_model(nb_grid_search.best_estimator_, model_name)"
   ]
  },
  {
   "cell_type": "markdown",
   "id": "ce908bad",
   "metadata": {
    "heading_collapsed": true
   },
   "source": [
    "### Upload the model"
   ]
  },
  {
   "cell_type": "code",
   "execution_count": 38,
   "id": "30aee880",
   "metadata": {
    "hidden": true
   },
   "outputs": [
    {
     "name": "stdout",
     "output_type": "stream",
     "text": [
      "--------------------------------------------------------------------------------\n",
      "NB - FT - CV scores: \n",
      "--------------------------------------------------------------------------------\n",
      "Acc : 0.82\n",
      "Recall: 0.45\n",
      "Precision: 0.72\n",
      "f1: 0.55\n",
      "--------------------------------------------------------------------------------\n",
      "NB - FT - test scores: \n",
      "--------------------------------------------------------------------------------\n",
      "Acc: 0.83\n",
      "Recall: 0.49\n",
      "Precision: 0.71\n",
      "f1: 0.58\n",
      "--------------------------------------------------------------------------------\n"
     ]
    },
    {
     "data": {
      "image/png": "[encoded data removed]",
      "text/plain": [
       "<Figure size 864x432 with 2 Axes>"
      ]
     },
     "metadata": {
      "needs_background": "light"
     },
     "output_type": "display_data"
    }
   ],
   "source": [
    "model = get_model(model_name)\n",
    "\n",
    "acc, recall, precision, f1 = get_scores(model, 'NB - FT', X_FNN_train, y_FNN_train, X_FNN_test, y_FNN_test)\n",
    "\n",
    "plot_confusion_matrix(model, X_FNN_test, y_FNN_test, values_format='d');"
   ]
  },
  {
   "cell_type": "markdown",
   "id": "30eb116c",
   "metadata": {
    "heading_collapsed": true
   },
   "source": [
    "### `F_model.joblib` evaluation on `Bisaillon`"
   ]
  },
  {
   "cell_type": "code",
   "execution_count": 39,
   "id": "4571b40e",
   "metadata": {
    "hidden": true
   },
   "outputs": [
    {
     "name": "stdout",
     "output_type": "stream",
     "text": [
      "--------------------------------------------------------------------------------\n",
      "../raw_data/F_model.joblib - test scores: \n",
      "--------------------------------------------------------------------------------\n",
      "Acc: 0.50\n",
      "Recall: 0.24\n",
      "Precision: 0.56\n",
      "f1: 0.33\n",
      "--------------------------------------------------------------------------------\n"
     ]
    },
    {
     "data": {
      "image/png": "[encoded data removed]",
      "text/plain": [
       "<Figure size 864x432 with 2 Axes>"
      ]
     },
     "metadata": {
      "needs_background": "light"
     },
     "output_type": "display_data"
    }
   ],
   "source": [
    "model_name = '../raw_data/F_model.joblib'\n",
    "\n",
    "model = get_model(model_name)\n",
    "\n",
    "y_preds = model.predict(X_BIS)\n",
    "\n",
    "print('-'*80)\n",
    "print(f\"{model_name} - test scores: \")\n",
    "binary_metrics(y_BIS, y_preds)\n",
    "\n",
    "plot_confusion_matrix(model, X_BIS, y_BIS, values_format='d');"
   ]
  },
  {
   "cell_type": "markdown",
   "id": "3d715c93",
   "metadata": {
    "heading_collapsed": true
   },
   "source": [
    "### `F_model.joblib` evaluation on  `politifact_scrap`"
   ]
  },
  {
   "cell_type": "code",
   "execution_count": 40,
   "id": "9f231787",
   "metadata": {
    "hidden": true
   },
   "outputs": [
    {
     "name": "stdout",
     "output_type": "stream",
     "text": [
      "--------------------------------------------------------------------------------\n",
      "../raw_data/F_model.joblib - test scores: \n",
      "--------------------------------------------------------------------------------\n",
      "Acc: 0.50\n",
      "Recall: 0.15\n",
      "Precision: 0.70\n",
      "f1: 0.24\n",
      "--------------------------------------------------------------------------------\n"
     ]
    },
    {
     "data": {
      "image/png": "[encoded data removed]",
      "text/plain": [
       "<Figure size 864x432 with 2 Axes>"
      ]
     },
     "metadata": {
      "needs_background": "light"
     },
     "output_type": "display_data"
    }
   ],
   "source": [
    "model_name = '../raw_data/F_model.joblib'\n",
    "\n",
    "model = get_model(model_name)\n",
    "\n",
    "y_preds = model.predict(X_P)\n",
    "\n",
    "print('-'*80)\n",
    "print(f\"{model_name} - test scores: \")\n",
    "binary_metrics(y_P, y_preds)\n",
    "\n",
    "plot_confusion_matrix(model, X_P, y_P, values_format='d');"
   ]
  },
  {
   "cell_type": "markdown",
   "id": "dd7940af",
   "metadata": {},
   "source": [
    "## `Bisaillon`"
   ]
  },
  {
   "cell_type": "markdown",
   "id": "c0d92f3a",
   "metadata": {
    "heading_collapsed": true
   },
   "source": [
    "### Preprocessing"
   ]
  },
  {
   "cell_type": "code",
   "execution_count": 42,
   "id": "ab063533",
   "metadata": {
    "hidden": true
   },
   "outputs": [
    {
     "name": "stdout",
     "output_type": "stream",
     "text": [
      "--------------------------------------------------------------------------------\n",
      "X_BIS_train_vec shape: (35751, 16430)\n",
      "X_BIS_test_vec shape: (8938, 16430)\n",
      "--------------------------------------------------------------------------------\n",
      "    aa  aar  aardvark  aaron  aarp  abadi  abandon  abandoned  abandoning  \\\n",
      "0  0.0  0.0       0.0    0.0   0.0    0.0      0.0        0.0         0.0   \n",
      "1  0.0  0.0       0.0    0.0   0.0    0.0      0.0        0.0         0.0   \n",
      "2  0.0  0.0       0.0    0.0   0.0    0.0      0.0        0.0         0.0   \n",
      "3  0.0  0.0       0.0    0.0   0.0    0.0      0.0        0.0         0.0   \n",
      "4  0.0  0.0       0.0    0.0   0.0    0.0      0.0        0.0         0.0   \n",
      "\n",
      "   abbas  ...  zor  zschaepe  zucker  zuckerberg  zulia  zuma  zummar  zurich  \\\n",
      "0    0.0  ...  0.0       0.0     0.0         0.0    0.0   0.0     0.0     0.0   \n",
      "1    0.0  ...  0.0       0.0     0.0         0.0    0.0   0.0     0.0     0.0   \n",
      "2    0.0  ...  0.0       0.0     0.0         0.0    0.0   0.0     0.0     0.0   \n",
      "3    0.0  ...  0.0       0.0     0.0         0.0    0.0   0.0     0.0     0.0   \n",
      "4    0.0  ...  0.0       0.0     0.0         0.0    0.0   0.0     0.0     0.0   \n",
      "\n",
      "   état  žižek  \n",
      "0   0.0    0.0  \n",
      "1   0.0    0.0  \n",
      "2   0.0    0.0  \n",
      "3   0.0    0.0  \n",
      "4   0.0    0.0  \n",
      "\n",
      "[5 rows x 16430 columns]\n",
      "--------------------------------------------------------------------------------\n"
     ]
    }
   ],
   "source": [
    "vectorizer_B = TfidfVectorizer()\n",
    "X_BIS_train_vec = vectorizer_B.fit_transform(X_BIS_train)\n",
    "X_BIS_test_vec = vectorizer_B.transform(X_BIS_test)\n",
    "\n",
    "X_BIS_train_vec_df = pd.DataFrame(X_BIS_train_vec.toarray(), columns = vectorizer_B.get_feature_names())\n",
    "\n",
    "print('-'*80)\n",
    "print(f\"X_BIS_train_vec shape: {X_BIS_train_vec.shape}\")\n",
    "print(f\"X_BIS_test_vec shape: {X_BIS_test_vec.shape}\")\n",
    "print('-'*80)\n",
    "print(X_BIS_train_vec_df.head())\n",
    "print('-'*80)"
   ]
  },
  {
   "cell_type": "markdown",
   "id": "37596754",
   "metadata": {
    "heading_collapsed": true
   },
   "source": [
    "### Naive Bayes"
   ]
  },
  {
   "cell_type": "code",
   "execution_count": 43,
   "id": "08b7027e",
   "metadata": {
    "hidden": true
   },
   "outputs": [
    {
     "name": "stdout",
     "output_type": "stream",
     "text": [
      "--------------------------------------------------------------------------------\n",
      "Naive Bayes - CV scores: \n",
      "--------------------------------------------------------------------------------\n",
      "Acc : 0.93\n",
      "Recall: 0.95\n",
      "Precision: 0.92\n",
      "f1: 0.94\n",
      "--------------------------------------------------------------------------------\n",
      "Naive Bayes - test scores: \n",
      "--------------------------------------------------------------------------------\n",
      "Acc: 0.94\n",
      "Recall: 0.96\n",
      "Precision: 0.92\n",
      "f1: 0.94\n",
      "--------------------------------------------------------------------------------\n"
     ]
    },
    {
     "data": {
      "image/png": "[encoded data removed]",
      "text/plain": [
       "<Figure size 864x432 with 2 Axes>"
      ]
     },
     "metadata": {
      "needs_background": "light"
     },
     "output_type": "display_data"
    },
    {
     "data": {
      "image/png": "[encoded data removed]",
      "text/plain": [
       "<Figure size 576x360 with 1 Axes>"
      ]
     },
     "metadata": {
      "needs_background": "light"
     },
     "output_type": "display_data"
    }
   ],
   "source": [
    "nb_model = MultinomialNB()\n",
    "acc, recall, precision, f1 = get_scores(nb_model, 'Naive Bayes', X_BIS_train_vec, y_BIS_train, X_BIS_test_vec, y_BIS_test)\n",
    "\n",
    "plot_confusion_matrix(nb_model, X_BIS_test_vec, y_BIS_test, values_format='d');\n",
    "\n",
    "plot_learning_curve(nb_model, 'Naive Bayes', X_BIS_train_vec, y_BIS_train)"
   ]
  },
  {
   "cell_type": "markdown",
   "id": "3ca7cc62",
   "metadata": {
    "heading_collapsed": true
   },
   "source": [
    "### Naive Bayes - Fine-Tuning"
   ]
  },
  {
   "cell_type": "code",
   "execution_count": 44,
   "id": "3e7d3831",
   "metadata": {
    "hidden": true
   },
   "outputs": [
    {
     "name": "stdout",
     "output_type": "stream",
     "text": [
      "Fitting 5 folds for each of 32 candidates, totalling 160 fits\n",
      "--------------------------------------------------------------------------------\n",
      "Best parameters: {'nb__alpha': 0.1, 'tfidf__max_df': 0.75, 'tfidf__ngram_range': (1, 3)}\n",
      "--------------------------------------------------------------------------------\n"
     ]
    }
   ],
   "source": [
    "pipeline = Pipeline([\n",
    "    ('tfidf', TfidfVectorizer()),\n",
    "    ('nb', MultinomialNB()),\n",
    "])\n",
    "\n",
    "parameters = {\n",
    "    'tfidf__ngram_range': ((1, 1), (1, 2), (2, 2), (1, 3)),\n",
    "#     'tfidf__min_df': (0.05, 0.1),\n",
    "    'tfidf__max_df': (0.75, 1),\n",
    "    'nb__alpha': (0.01, 0.1, 1, 10)\n",
    "}\n",
    "\n",
    "nb_grid_search = GridSearchCV(pipeline, \n",
    "                           parameters, \n",
    "                           n_jobs=-1, \n",
    "                           scoring=\"accuracy\", \n",
    "                           refit=True, \n",
    "                           cv=5,\n",
    "                           verbose=1)\n",
    "\n",
    "nb_grid_search.fit(X_BIS_train, y_BIS_train)\n",
    "\n",
    "print('-'*80)\n",
    "print(f\"Best parameters: {nb_grid_search.best_params_}\")\n",
    "print('-'*80)"
   ]
  },
  {
   "cell_type": "code",
   "execution_count": 45,
   "id": "76d49cfc",
   "metadata": {
    "hidden": true
   },
   "outputs": [
    {
     "name": "stdout",
     "output_type": "stream",
     "text": [
      "--------------------------------------------------------------------------------\n",
      "NB - FT - CV scores: \n",
      "--------------------------------------------------------------------------------\n",
      "Acc : 0.95\n",
      "Recall: 0.97\n",
      "Precision: 0.93\n",
      "f1: 0.95\n",
      "--------------------------------------------------------------------------------\n",
      "NB - FT - test scores: \n",
      "--------------------------------------------------------------------------------\n",
      "Acc: 0.95\n",
      "Recall: 0.97\n",
      "Precision: 0.94\n",
      "f1: 0.95\n",
      "--------------------------------------------------------------------------------\n"
     ]
    },
    {
     "data": {
      "image/png": "[encoded data removed]",
      "text/plain": [
       "<Figure size 864x432 with 2 Axes>"
      ]
     },
     "metadata": {
      "needs_background": "light"
     },
     "output_type": "display_data"
    }
   ],
   "source": [
    "acc, recall, precision, f1 = get_scores(nb_grid_search.best_estimator_, 'NB - FT', X_BIS_train, y_BIS_train, X_BIS_test, y_BIS_test)\n",
    "\n",
    "plot_confusion_matrix(nb_grid_search.best_estimator_, X_BIS_test, y_BIS_test, values_format='d');"
   ]
  },
  {
   "cell_type": "markdown",
   "id": "74650d08",
   "metadata": {
    "heading_collapsed": true
   },
   "source": [
    "### Saving the model"
   ]
  },
  {
   "cell_type": "code",
   "execution_count": 49,
   "id": "6996b05c",
   "metadata": {
    "hidden": true
   },
   "outputs": [
    {
     "name": "stdout",
     "output_type": "stream",
     "text": [
      "\u001b[32m--------------------------------------------------------------------------------\u001b[0m\n",
      "\u001b[32m../raw_data/B_model.joblib saved locally\u001b[0m\n",
      "\u001b[32m--------------------------------------------------------------------------------\u001b[0m\n"
     ]
    }
   ],
   "source": [
    "model_name = '../raw_data/B_model.joblib'\n",
    "save_model(nb_grid_search.best_estimator_, model_name)"
   ]
  },
  {
   "cell_type": "markdown",
   "id": "3493a953",
   "metadata": {
    "heading_collapsed": true
   },
   "source": [
    "### Uploading the model"
   ]
  },
  {
   "cell_type": "code",
   "execution_count": 50,
   "id": "1bf49fe9",
   "metadata": {
    "hidden": true
   },
   "outputs": [],
   "source": [
    "model = get_model(model_name)"
   ]
  },
  {
   "cell_type": "code",
   "execution_count": 51,
   "id": "e786d03c",
   "metadata": {
    "hidden": true
   },
   "outputs": [
    {
     "name": "stdout",
     "output_type": "stream",
     "text": [
      "--------------------------------------------------------------------------------\n",
      "NB - FT - CV scores: \n",
      "--------------------------------------------------------------------------------\n",
      "Acc : 0.95\n",
      "Recall: 0.97\n",
      "Precision: 0.93\n",
      "f1: 0.95\n",
      "--------------------------------------------------------------------------------\n",
      "NB - FT - test scores: \n",
      "--------------------------------------------------------------------------------\n",
      "Acc: 0.95\n",
      "Recall: 0.97\n",
      "Precision: 0.94\n",
      "f1: 0.95\n",
      "--------------------------------------------------------------------------------\n"
     ]
    },
    {
     "data": {
      "image/png": "[encoded data removed]",
      "text/plain": [
       "<Figure size 864x432 with 2 Axes>"
      ]
     },
     "metadata": {
      "needs_background": "light"
     },
     "output_type": "display_data"
    }
   ],
   "source": [
    "acc, recall, precision, f1 = get_scores(model, 'NB - FT', X_BIS_train, y_BIS_train, X_BIS_test, y_BIS_test)\n",
    "\n",
    "plot_confusion_matrix(model, X_BIS_test, y_BIS_test, values_format='d');"
   ]
  },
  {
   "cell_type": "markdown",
   "id": "554c5c36",
   "metadata": {
    "heading_collapsed": true
   },
   "source": [
    "### `B_model.joblib` evaluation on `FakeNewsNET`"
   ]
  },
  {
   "cell_type": "code",
   "execution_count": 52,
   "id": "f31db14c",
   "metadata": {
    "hidden": true
   },
   "outputs": [
    {
     "name": "stdout",
     "output_type": "stream",
     "text": [
      "--------------------------------------------------------------------------------\n",
      "../raw_data/B_model.joblib - test scores: \n",
      "--------------------------------------------------------------------------------\n",
      "Acc: 0.31\n",
      "Recall: 0.89\n",
      "Precision: 0.25\n",
      "f1: 0.39\n",
      "--------------------------------------------------------------------------------\n"
     ]
    },
    {
     "data": {
      "image/png": "[encoded data removed]",
      "text/plain": [
       "<Figure size 864x432 with 2 Axes>"
      ]
     },
     "metadata": {
      "needs_background": "light"
     },
     "output_type": "display_data"
    }
   ],
   "source": [
    "model_name = '../raw_data/B_model.joblib'\n",
    "\n",
    "model = get_model(model_name)\n",
    "\n",
    "y_preds = model.predict(X_FNN)\n",
    "\n",
    "print('-'*80)\n",
    "print(f\"{model_name} - test scores: \")\n",
    "binary_metrics(y_FNN, y_preds)\n",
    "\n",
    "plot_confusion_matrix(model, X_FNN, y_FNN, values_format='d');"
   ]
  },
  {
   "cell_type": "markdown",
   "id": "d07a6a04",
   "metadata": {
    "heading_collapsed": true
   },
   "source": [
    "### `B_model.joblib` evaluation on `politifact scrap`"
   ]
  },
  {
   "cell_type": "code",
   "execution_count": 53,
   "id": "316c55ee",
   "metadata": {
    "hidden": true
   },
   "outputs": [
    {
     "name": "stdout",
     "output_type": "stream",
     "text": [
      "--------------------------------------------------------------------------------\n",
      "../raw_data/B_model.joblib - test scores: \n",
      "--------------------------------------------------------------------------------\n",
      "Acc: 0.56\n",
      "Recall: 0.73\n",
      "Precision: 0.58\n",
      "f1: 0.65\n",
      "--------------------------------------------------------------------------------\n"
     ]
    },
    {
     "data": {
      "image/png": "[encoded data removed]",
      "text/plain": [
       "<Figure size 864x432 with 2 Axes>"
      ]
     },
     "metadata": {
      "needs_background": "light"
     },
     "output_type": "display_data"
    }
   ],
   "source": [
    "model_name = '../raw_data/B_model.joblib'\n",
    "\n",
    "model = get_model(model_name)\n",
    "\n",
    "y_preds = model.predict(X_P)\n",
    "\n",
    "print('-'*80)\n",
    "print(f\"{model_name} - test scores: \")\n",
    "binary_metrics(y_P, y_preds)\n",
    "\n",
    "plot_confusion_matrix(model, X_P, y_P, values_format='d');"
   ]
  },
  {
   "cell_type": "markdown",
   "id": "28da9940",
   "metadata": {
    "heading_collapsed": true
   },
   "source": [
    "## `All`"
   ]
  },
  {
   "cell_type": "markdown",
   "id": "0afec866",
   "metadata": {
    "heading_collapsed": true,
    "hidden": true
   },
   "source": [
    "### Preprocessing"
   ]
  },
  {
   "cell_type": "code",
   "execution_count": 54,
   "id": "de31518e",
   "metadata": {
    "hidden": true
   },
   "outputs": [
    {
     "name": "stdout",
     "output_type": "stream",
     "text": [
      "--------------------------------------------------------------------------------\n",
      "X_ALL_train_vec shape: (67036, 25502)\n",
      "X_ALL_test_vec shape: (16760, 25502)\n",
      "--------------------------------------------------------------------------------\n",
      "    aa  aaa  aaliyah  aar  aardvark  aaron  aarp   ab  aba  abaco  ...  вин  \\\n",
      "0  0.0  0.0      0.0  0.0       0.0    0.0   0.0  0.0  0.0    0.0  ...  0.0   \n",
      "1  0.0  0.0      0.0  0.0       0.0    0.0   0.0  0.0  0.0    0.0  ...  0.0   \n",
      "2  0.0  0.0      0.0  0.0       0.0    0.0   0.0  0.0  0.0    0.0  ...  0.0   \n",
      "3  0.0  0.0      0.0  0.0       0.0    0.0   0.0  0.0  0.0    0.0  ...  0.0   \n",
      "4  0.0  0.0      0.0  0.0       0.0    0.0   0.0  0.0  0.0    0.0  ...  0.0   \n",
      "\n",
      "   контора  монако  пернелл  питт  принцессы  ради  сми  эллу  ḍozen  \n",
      "0      0.0     0.0      0.0   0.0        0.0   0.0  0.0   0.0    0.0  \n",
      "1      0.0     0.0      0.0   0.0        0.0   0.0  0.0   0.0    0.0  \n",
      "2      0.0     0.0      0.0   0.0        0.0   0.0  0.0   0.0    0.0  \n",
      "3      0.0     0.0      0.0   0.0        0.0   0.0  0.0   0.0    0.0  \n",
      "4      0.0     0.0      0.0   0.0        0.0   0.0  0.0   0.0    0.0  \n",
      "\n",
      "[5 rows x 25502 columns]\n",
      "--------------------------------------------------------------------------------\n"
     ]
    }
   ],
   "source": [
    "vectorizer_ALL = TfidfVectorizer()\n",
    "X_ALL_train_vec = vectorizer_ALL.fit_transform(X_ALL_train)\n",
    "X_ALL_test_vec = vectorizer_ALL.transform(X_ALL_test)\n",
    "\n",
    "X_ALL_train_vec_df = pd.DataFrame(X_ALL_train_vec.toarray(), columns = vectorizer_ALL.get_feature_names())\n",
    "\n",
    "print('-'*80)\n",
    "print(f\"X_ALL_train_vec shape: {X_ALL_train_vec.shape}\")\n",
    "print(f\"X_ALL_test_vec shape: {X_ALL_test_vec.shape}\")\n",
    "print('-'*80)\n",
    "print(X_ALL_train_vec_df.head())\n",
    "print('-'*80)"
   ]
  },
  {
   "cell_type": "markdown",
   "id": "b8738e67",
   "metadata": {
    "heading_collapsed": true,
    "hidden": true
   },
   "source": [
    "### Naive Bayes"
   ]
  },
  {
   "cell_type": "code",
   "execution_count": 55,
   "id": "624462ba",
   "metadata": {
    "hidden": true
   },
   "outputs": [
    {
     "name": "stdout",
     "output_type": "stream",
     "text": [
      "--------------------------------------------------------------------------------\n",
      "Naive Bayes - CV scores: \n",
      "--------------------------------------------------------------------------------\n",
      "Acc : 0.81\n",
      "Recall: 0.78\n",
      "Precision: 0.81\n",
      "f1: 0.80\n",
      "--------------------------------------------------------------------------------\n",
      "Naive Bayes - test scores: \n",
      "--------------------------------------------------------------------------------\n",
      "Acc: 0.82\n",
      "Recall: 0.78\n",
      "Precision: 0.82\n",
      "f1: 0.80\n",
      "--------------------------------------------------------------------------------\n"
     ]
    },
    {
     "data": {
      "image/png": "[encoded data removed]",
      "text/plain": [
       "<Figure size 864x432 with 2 Axes>"
      ]
     },
     "metadata": {
      "needs_background": "light"
     },
     "output_type": "display_data"
    },
    {
     "data": {
      "image/png": "[encoded data removed]",
      "text/plain": [
       "<Figure size 576x360 with 1 Axes>"
      ]
     },
     "metadata": {
      "needs_background": "light"
     },
     "output_type": "display_data"
    }
   ],
   "source": [
    "nb_model = MultinomialNB()\n",
    "acc, recall, precision, f1 = get_scores(nb_model, 'Naive Bayes', X_ALL_train_vec, y_ALL_train, X_ALL_test_vec, y_ALL_test)\n",
    "\n",
    "plot_confusion_matrix(nb_model, X_ALL_test_vec, y_ALL_test, values_format='d');\n",
    "\n",
    "plot_learning_curve(nb_model, 'Naive Bayes', X_ALL_train_vec, y_ALL_train)"
   ]
  },
  {
   "cell_type": "markdown",
   "id": "8e456273",
   "metadata": {
    "heading_collapsed": true,
    "hidden": true
   },
   "source": [
    "### Naive Bayes - Fine-Tuning"
   ]
  },
  {
   "cell_type": "code",
   "execution_count": 56,
   "id": "9d75590c",
   "metadata": {
    "hidden": true
   },
   "outputs": [
    {
     "name": "stdout",
     "output_type": "stream",
     "text": [
      "Fitting 5 folds for each of 32 candidates, totalling 160 fits\n",
      "--------------------------------------------------------------------------------\n",
      "Best parameters: {'nb__alpha': 1, 'tfidf__max_df': 0.75, 'tfidf__ngram_range': (1, 3)}\n",
      "Best score: 0.8315830198505287\n",
      "--------------------------------------------------------------------------------\n"
     ]
    }
   ],
   "source": [
    "pipeline = Pipeline([\n",
    "    ('tfidf', TfidfVectorizer()),\n",
    "    ('nb', MultinomialNB()),\n",
    "])\n",
    "\n",
    "parameters = {\n",
    "    'tfidf__ngram_range': ((1, 1), (1, 2), (2, 2), (1, 3)),\n",
    "#     'tfidf__min_df': (0.05, 0.1),\n",
    "    'tfidf__max_df': (0.75, 1),\n",
    "    'nb__alpha': (0.01, 0.1, 1, 10)\n",
    "}\n",
    "\n",
    "nb_grid_search = GridSearchCV(pipeline, \n",
    "                           parameters, \n",
    "                           n_jobs=-1, \n",
    "                           scoring=\"accuracy\", \n",
    "                           refit=True, \n",
    "                           cv=5,\n",
    "                           verbose=1)\n",
    "\n",
    "nb_grid_search.fit(X_ALL_train, y_ALL_train)\n",
    "\n",
    "print('-'*80)\n",
    "print(f\"Best parameters: {nb_grid_search.best_params_}\")\n",
    "print(f\"Best score: {nb_grid_search.best_score_}\")\n",
    "print('-'*80)"
   ]
  },
  {
   "cell_type": "code",
   "execution_count": 57,
   "id": "b650f4c8",
   "metadata": {
    "hidden": true,
    "scrolled": true
   },
   "outputs": [
    {
     "name": "stdout",
     "output_type": "stream",
     "text": [
      "--------------------------------------------------------------------------------\n",
      "NB - FT - CV scores: \n",
      "--------------------------------------------------------------------------------\n",
      "Acc : 0.83\n",
      "Recall: 0.78\n",
      "Precision: 0.85\n",
      "f1: 0.81\n",
      "--------------------------------------------------------------------------------\n",
      "NB - FT - test scores: \n",
      "--------------------------------------------------------------------------------\n",
      "Acc: 0.83\n",
      "Recall: 0.78\n",
      "Precision: 0.85\n",
      "f1: 0.81\n",
      "--------------------------------------------------------------------------------\n"
     ]
    },
    {
     "data": {
      "image/png": "[encoded data removed]",
      "text/plain": [
       "<Figure size 864x432 with 2 Axes>"
      ]
     },
     "metadata": {
      "needs_background": "light"
     },
     "output_type": "display_data"
    }
   ],
   "source": [
    "acc, recall, precision, f1 = get_scores(nb_grid_search.best_estimator_, 'NB - FT', X_ALL_train, y_ALL_train, X_ALL_test, y_ALL_test)\n",
    "\n",
    "plot_confusion_matrix(nb_grid_search.best_estimator_, X_ALL_test, y_ALL_test, values_format='d');"
   ]
  },
  {
   "cell_type": "markdown",
   "id": "3751a596",
   "metadata": {
    "heading_collapsed": true,
    "hidden": true
   },
   "source": [
    "### Saving the model"
   ]
  },
  {
   "cell_type": "code",
   "execution_count": 58,
   "id": "dbb6d7cc",
   "metadata": {
    "hidden": true
   },
   "outputs": [
    {
     "name": "stdout",
     "output_type": "stream",
     "text": [
      "\u001b[32m--------------------------------------------------------------------------------\u001b[0m\n",
      "\u001b[32m../raw_data/ALL_model.joblib saved locally\u001b[0m\n",
      "\u001b[32m--------------------------------------------------------------------------------\u001b[0m\n"
     ]
    }
   ],
   "source": [
    "model_name = '../raw_data/ALL_model.joblib'\n",
    "    \n",
    "save_model(nb_grid_search.best_estimator_, model_name)\n",
    "\n",
    "model = get_model(model_name)"
   ]
  },
  {
   "cell_type": "markdown",
   "id": "93253a1d",
   "metadata": {
    "heading_collapsed": true,
    "hidden": true
   },
   "source": [
    "### Uploading the model"
   ]
  },
  {
   "cell_type": "code",
   "execution_count": 59,
   "id": "22d4ec0b",
   "metadata": {
    "hidden": true
   },
   "outputs": [],
   "source": [
    "model = get_model(model_name)"
   ]
  },
  {
   "cell_type": "code",
   "execution_count": 60,
   "id": "9d3c1072",
   "metadata": {
    "hidden": true
   },
   "outputs": [
    {
     "name": "stdout",
     "output_type": "stream",
     "text": [
      "--------------------------------------------------------------------------------\n",
      "NB - FT - CV scores: \n",
      "--------------------------------------------------------------------------------\n",
      "Acc : 0.83\n",
      "Recall: 0.78\n",
      "Precision: 0.85\n",
      "f1: 0.81\n",
      "--------------------------------------------------------------------------------\n",
      "NB - FT - test scores: \n",
      "--------------------------------------------------------------------------------\n",
      "Acc: 0.83\n",
      "Recall: 0.78\n",
      "Precision: 0.85\n",
      "f1: 0.81\n",
      "--------------------------------------------------------------------------------\n"
     ]
    },
    {
     "data": {
      "image/png": "[encoded data removed]",
      "text/plain": [
       "<Figure size 864x432 with 2 Axes>"
      ]
     },
     "metadata": {
      "needs_background": "light"
     },
     "output_type": "display_data"
    }
   ],
   "source": [
    "acc, recall, precision, f1 = get_scores(model, 'NB - FT', X_ALL_train, y_ALL_train, X_ALL_test, y_ALL_test)\n",
    "\n",
    "plot_confusion_matrix(model, X_ALL_test, y_ALL_test, values_format='d');"
   ]
  },
  {
   "cell_type": "markdown",
   "id": "08bce692",
   "metadata": {
    "heading_collapsed": true,
    "hidden": true
   },
   "source": [
    "### `ALL_model.joblib` evaluation on `politifact_scrap`"
   ]
  },
  {
   "cell_type": "code",
   "execution_count": 61,
   "id": "bebf7f01",
   "metadata": {
    "hidden": true
   },
   "outputs": [
    {
     "name": "stdout",
     "output_type": "stream",
     "text": [
      "--------------------------------------------------------------------------------\n",
      "../raw_data/ALL_model.joblib - test scores: \n",
      "--------------------------------------------------------------------------------\n",
      "Acc: 0.88\n",
      "Recall: 0.86\n",
      "Precision: 0.92\n",
      "f1: 0.89\n",
      "--------------------------------------------------------------------------------\n"
     ]
    },
    {
     "data": {
      "image/png": "[encoded data removed]",
      "text/plain": [
       "<Figure size 864x432 with 2 Axes>"
      ]
     },
     "metadata": {
      "needs_background": "light"
     },
     "output_type": "display_data"
    }
   ],
   "source": [
    "y_preds = model.predict(X_P_test)\n",
    "\n",
    "print('-'*80)\n",
    "print(f\"{model_name} - test scores: \")\n",
    "binary_metrics(y_P_test, y_preds)\n",
    "\n",
    "plot_confusion_matrix(model, X_P_test, y_P_test, values_format='d');"
   ]
  },
  {
   "cell_type": "markdown",
   "id": "0ac9f991",
   "metadata": {
    "heading_collapsed": true,
    "hidden": true
   },
   "source": [
    "### `ALL_model.joblib` evaluation on `FakeNewsNET`"
   ]
  },
  {
   "cell_type": "code",
   "execution_count": 62,
   "id": "85ecdbc3",
   "metadata": {
    "hidden": true
   },
   "outputs": [
    {
     "name": "stdout",
     "output_type": "stream",
     "text": [
      "--------------------------------------------------------------------------------\n",
      "../raw_data/ALL_model.joblib - test scores: \n",
      "--------------------------------------------------------------------------------\n",
      "Acc: 0.91\n",
      "Recall: 0.72\n",
      "Precision: 0.87\n",
      "f1: 0.79\n",
      "--------------------------------------------------------------------------------\n"
     ]
    },
    {
     "data": {
      "image/png": "[encoded data removed]",
      "text/plain": [
       "<Figure size 864x432 with 2 Axes>"
      ]
     },
     "metadata": {
      "needs_background": "light"
     },
     "output_type": "display_data"
    }
   ],
   "source": [
    "y_preds = model.predict(X_FNN_test)\n",
    "\n",
    "print('-'*80)\n",
    "print(f\"{model_name} - test scores: \")\n",
    "binary_metrics(y_FNN_test, y_preds)\n",
    "\n",
    "plot_confusion_matrix(model, X_FNN_test, y_FNN_test, values_format='d');"
   ]
  },
  {
   "cell_type": "markdown",
   "id": "d1032306",
   "metadata": {
    "heading_collapsed": true,
    "hidden": true
   },
   "source": [
    "### `ALL_model.joblib` evaluation on `Bisaillon`"
   ]
  },
  {
   "cell_type": "code",
   "execution_count": 63,
   "id": "86d6f60b",
   "metadata": {
    "hidden": true
   },
   "outputs": [
    {
     "name": "stdout",
     "output_type": "stream",
     "text": [
      "--------------------------------------------------------------------------------\n",
      "../raw_data/ALL_model.joblib - test scores: \n",
      "--------------------------------------------------------------------------------\n",
      "Acc: 0.98\n",
      "Recall: 0.98\n",
      "Precision: 0.98\n",
      "f1: 0.98\n",
      "--------------------------------------------------------------------------------\n"
     ]
    },
    {
     "data": {
      "image/png": "[encoded data removed]",
      "text/plain": [
       "<Figure size 864x432 with 2 Axes>"
      ]
     },
     "metadata": {
      "needs_background": "light"
     },
     "output_type": "display_data"
    }
   ],
   "source": [
    "y_preds = model.predict(X_BIS_test)\n",
    "\n",
    "print('-'*80)\n",
    "print(f\"{model_name} - test scores: \")\n",
    "binary_metrics(y_BIS_test, y_preds)\n",
    "\n",
    "plot_confusion_matrix(model, X_BIS_test, y_BIS_test, values_format='d');"
   ]
  },
  {
   "cell_type": "markdown",
   "id": "bbceae34",
   "metadata": {
    "heading_collapsed": true
   },
   "source": [
    "## Prediction"
   ]
  },
  {
   "cell_type": "code",
   "execution_count": null,
   "id": "3af2b236",
   "metadata": {
    "hidden": true
   },
   "outputs": [],
   "source": [
    "model_name = '../raw_data/ALL_model.joblib'\n",
    "\n",
    "model = get_model(model_name)"
   ]
  },
  {
   "cell_type": "code",
   "execution_count": null,
   "id": "3df06409",
   "metadata": {
    "hidden": true
   },
   "outputs": [],
   "source": [
    "fake0 = \"White House, CDC, WHO and vaccine makers don’t require the COVID-19 vaccine for their workers.\"\n",
    "fake1 = \"Says a U.S. Air Force-insignia plane evacuating people from Afghanistan is fake.\"\n",
    "fake2 = \"No one has died of cancer or heart disease since the COVID-19 thing started.\"\n",
    "true0 = \"A photo shows two COVID-19 patients lying on the floor awaiting treatment in Florida.\"\n",
    "true1 = \"We’ve got 115,000 miles of roads in this state and 90% is owned by the locals.\"\n",
    "true2 = \"324,000 pregnant people experience domestic violence during their pregnancy.\""
   ]
  },
  {
   "cell_type": "code",
   "execution_count": null,
   "id": "f8d35fe3",
   "metadata": {
    "hidden": true
   },
   "outputs": [],
   "source": [
    "sample = [fake0, fake1, fake2, true0, true1, true2]\n",
    "\n",
    "X_sample_clean = [clean(text) for text in sample] \n",
    "# X_sample_clean = sample\n",
    "# print(X_sample_clean)\n",
    "\n",
    "y_preds = model.predict_proba(X_sample_clean)[:, 1]\n",
    "\n",
    "print('-'*80)\n",
    "print(y_preds)\n",
    "print('-'*80)"
   ]
  },
  {
   "cell_type": "code",
   "execution_count": null,
   "id": "8474c141",
   "metadata": {
    "hidden": true
   },
   "outputs": [],
   "source": []
  }
 ],
 "metadata": {
  "accelerator": "GPU",
  "colab": {
   "collapsed_sections": [],
   "name": "JS_politifact_scrap_ML.ipynb",
   "provenance": [
    {
     "file_id": "12VIMXD-aqB2EqCnDDq8_z2lG0W_o1inp",
     "timestamp": 1630032335921
    },
    {
     "file_id": "1KgDvCnlTH8CApSC4GPLcy38ZYN8DZ7dv",
     "timestamp": 1629979793495
    },
    {
     "file_id": "11Hhlts5VKbIIGWJjTXATQXA0ns6T37aF",
     "timestamp": 1629623230007
    }
   ]
  },
  "kernelspec": {
   "display_name": "Python 3 (ipykernel)",
   "language": "python",
   "name": "python3"
  },
  "language_info": {
   "codemirror_mode": {
    "name": "ipython",
    "version": 3
   },
   "file_extension": ".py",
   "mimetype": "text/x-python",
   "name": "python",
   "nbconvert_exporter": "python",
   "pygments_lexer": "ipython3",
   "version": "3.8.6"
  },
  "toc": {
   "base_numbering": 1,
   "nav_menu": {},
   "number_sections": true,
   "sideBar": true,
   "skip_h1_title": false,
   "title_cell": "Table of Contents",
   "title_sidebar": "Contents",
   "toc_cell": false,
   "toc_position": {},
   "toc_section_display": true,
   "toc_window_display": false
  },
  "varInspector": {
   "cols": {
    "lenName": 16,
    "lenType": 16,
    "lenVar": 40
   },
   "kernels_config": {
    "python": {
     "delete_cmd_postfix": "",
     "delete_cmd_prefix": "del ",
     "library": "var_list.py",
     "varRefreshCmd": "print(var_dic_list())"
    },
    "r": {
     "delete_cmd_postfix": ") ",
     "delete_cmd_prefix": "rm(",
     "library": "var_list.r",
     "varRefreshCmd": "cat(var_dic_list()) "
    }
   },
   "types_to_exclude": [
    "module",
    "function",
    "builtin_function_or_method",
    "instance",
    "_Feature"
   ],
   "window_display": false
  }
 },
 "nbformat": 4,
 "nbformat_minor": 5
}
